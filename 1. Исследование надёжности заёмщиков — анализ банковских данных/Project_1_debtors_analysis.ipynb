{
 "cells": [
  {
   "cell_type": "markdown",
   "id": "c9847e2e",
   "metadata": {},
   "source": [
    "# Исследование надежности заемщиков."
   ]
  },
  {
   "cell_type": "markdown",
   "id": "e65573a3",
   "metadata": {},
   "source": [
    "Закачиком (кредитный отдел банка) поставлена задача исследовать зависимость платежеспособности клиента от следующих факторов: \n",
    "* количество детей клиента;\n",
    "* семейное положение клиента;\n",
    "* уровень дохода клиента;\n",
    "* цель кредита.\n",
    "\n",
    "Входные данные от банка — статистика о платёжеспособности клиентов.\n",
    "При выполнении исследования крайне необходимо выполнить предобработку полученных данных, а именно:\n",
    "* выполнить проверку на пропуски;\n",
    "* исследовать данные на аномалии;\n",
    "* проверить дубликаты."
   ]
  },
  {
   "cell_type": "markdown",
   "id": "0a83bfb3",
   "metadata": {},
   "source": [
    "### Шаг 1. Обзор данных"
   ]
  },
  {
   "cell_type": "code",
   "execution_count": 1,
   "id": "fb104580",
   "metadata": {},
   "outputs": [],
   "source": [
    "# импорт библиотеки pandas:\n",
    "import pandas as pd"
   ]
  },
  {
   "cell_type": "code",
   "execution_count": 2,
   "id": "ad4e410b",
   "metadata": {},
   "outputs": [],
   "source": [
    "# чтение файла с данными и сохранение в df:\n",
    "df = pd.read_csv('/datasets/data.csv')"
   ]
  },
  {
   "cell_type": "code",
   "execution_count": 3,
   "id": "a3bfa62e",
   "metadata": {},
   "outputs": [
    {
     "data": {
      "text/html": [
       "<div>\n",
       "<style scoped>\n",
       "    .dataframe tbody tr th:only-of-type {\n",
       "        vertical-align: middle;\n",
       "    }\n",
       "\n",
       "    .dataframe tbody tr th {\n",
       "        vertical-align: top;\n",
       "    }\n",
       "\n",
       "    .dataframe thead th {\n",
       "        text-align: right;\n",
       "    }\n",
       "</style>\n",
       "<table border=\"1\" class=\"dataframe\">\n",
       "  <thead>\n",
       "    <tr style=\"text-align: right;\">\n",
       "      <th></th>\n",
       "      <th>children</th>\n",
       "      <th>days_employed</th>\n",
       "      <th>dob_years</th>\n",
       "      <th>education</th>\n",
       "      <th>education_id</th>\n",
       "      <th>family_status</th>\n",
       "      <th>family_status_id</th>\n",
       "      <th>gender</th>\n",
       "      <th>income_type</th>\n",
       "      <th>debt</th>\n",
       "      <th>total_income</th>\n",
       "      <th>purpose</th>\n",
       "    </tr>\n",
       "  </thead>\n",
       "  <tbody>\n",
       "    <tr>\n",
       "      <th>0</th>\n",
       "      <td>1</td>\n",
       "      <td>-8437.673028</td>\n",
       "      <td>42</td>\n",
       "      <td>высшее</td>\n",
       "      <td>0</td>\n",
       "      <td>женат / замужем</td>\n",
       "      <td>0</td>\n",
       "      <td>F</td>\n",
       "      <td>сотрудник</td>\n",
       "      <td>0</td>\n",
       "      <td>253875.639453</td>\n",
       "      <td>покупка жилья</td>\n",
       "    </tr>\n",
       "    <tr>\n",
       "      <th>1</th>\n",
       "      <td>1</td>\n",
       "      <td>-4024.803754</td>\n",
       "      <td>36</td>\n",
       "      <td>среднее</td>\n",
       "      <td>1</td>\n",
       "      <td>женат / замужем</td>\n",
       "      <td>0</td>\n",
       "      <td>F</td>\n",
       "      <td>сотрудник</td>\n",
       "      <td>0</td>\n",
       "      <td>112080.014102</td>\n",
       "      <td>приобретение автомобиля</td>\n",
       "    </tr>\n",
       "    <tr>\n",
       "      <th>2</th>\n",
       "      <td>0</td>\n",
       "      <td>-5623.422610</td>\n",
       "      <td>33</td>\n",
       "      <td>Среднее</td>\n",
       "      <td>1</td>\n",
       "      <td>женат / замужем</td>\n",
       "      <td>0</td>\n",
       "      <td>M</td>\n",
       "      <td>сотрудник</td>\n",
       "      <td>0</td>\n",
       "      <td>145885.952297</td>\n",
       "      <td>покупка жилья</td>\n",
       "    </tr>\n",
       "    <tr>\n",
       "      <th>3</th>\n",
       "      <td>3</td>\n",
       "      <td>-4124.747207</td>\n",
       "      <td>32</td>\n",
       "      <td>среднее</td>\n",
       "      <td>1</td>\n",
       "      <td>женат / замужем</td>\n",
       "      <td>0</td>\n",
       "      <td>M</td>\n",
       "      <td>сотрудник</td>\n",
       "      <td>0</td>\n",
       "      <td>267628.550329</td>\n",
       "      <td>дополнительное образование</td>\n",
       "    </tr>\n",
       "    <tr>\n",
       "      <th>4</th>\n",
       "      <td>0</td>\n",
       "      <td>340266.072047</td>\n",
       "      <td>53</td>\n",
       "      <td>среднее</td>\n",
       "      <td>1</td>\n",
       "      <td>гражданский брак</td>\n",
       "      <td>1</td>\n",
       "      <td>F</td>\n",
       "      <td>пенсионер</td>\n",
       "      <td>0</td>\n",
       "      <td>158616.077870</td>\n",
       "      <td>сыграть свадьбу</td>\n",
       "    </tr>\n",
       "    <tr>\n",
       "      <th>5</th>\n",
       "      <td>0</td>\n",
       "      <td>-926.185831</td>\n",
       "      <td>27</td>\n",
       "      <td>высшее</td>\n",
       "      <td>0</td>\n",
       "      <td>гражданский брак</td>\n",
       "      <td>1</td>\n",
       "      <td>M</td>\n",
       "      <td>компаньон</td>\n",
       "      <td>0</td>\n",
       "      <td>255763.565419</td>\n",
       "      <td>покупка жилья</td>\n",
       "    </tr>\n",
       "    <tr>\n",
       "      <th>6</th>\n",
       "      <td>0</td>\n",
       "      <td>-2879.202052</td>\n",
       "      <td>43</td>\n",
       "      <td>высшее</td>\n",
       "      <td>0</td>\n",
       "      <td>женат / замужем</td>\n",
       "      <td>0</td>\n",
       "      <td>F</td>\n",
       "      <td>компаньон</td>\n",
       "      <td>0</td>\n",
       "      <td>240525.971920</td>\n",
       "      <td>операции с жильем</td>\n",
       "    </tr>\n",
       "    <tr>\n",
       "      <th>7</th>\n",
       "      <td>0</td>\n",
       "      <td>-152.779569</td>\n",
       "      <td>50</td>\n",
       "      <td>СРЕДНЕЕ</td>\n",
       "      <td>1</td>\n",
       "      <td>женат / замужем</td>\n",
       "      <td>0</td>\n",
       "      <td>M</td>\n",
       "      <td>сотрудник</td>\n",
       "      <td>0</td>\n",
       "      <td>135823.934197</td>\n",
       "      <td>образование</td>\n",
       "    </tr>\n",
       "    <tr>\n",
       "      <th>8</th>\n",
       "      <td>2</td>\n",
       "      <td>-6929.865299</td>\n",
       "      <td>35</td>\n",
       "      <td>ВЫСШЕЕ</td>\n",
       "      <td>0</td>\n",
       "      <td>гражданский брак</td>\n",
       "      <td>1</td>\n",
       "      <td>F</td>\n",
       "      <td>сотрудник</td>\n",
       "      <td>0</td>\n",
       "      <td>95856.832424</td>\n",
       "      <td>на проведение свадьбы</td>\n",
       "    </tr>\n",
       "    <tr>\n",
       "      <th>9</th>\n",
       "      <td>0</td>\n",
       "      <td>-2188.756445</td>\n",
       "      <td>41</td>\n",
       "      <td>среднее</td>\n",
       "      <td>1</td>\n",
       "      <td>женат / замужем</td>\n",
       "      <td>0</td>\n",
       "      <td>M</td>\n",
       "      <td>сотрудник</td>\n",
       "      <td>0</td>\n",
       "      <td>144425.938277</td>\n",
       "      <td>покупка жилья для семьи</td>\n",
       "    </tr>\n",
       "  </tbody>\n",
       "</table>\n",
       "</div>"
      ],
      "text/plain": [
       "   children  days_employed  dob_years education  education_id  \\\n",
       "0         1   -8437.673028         42    высшее             0   \n",
       "1         1   -4024.803754         36   среднее             1   \n",
       "2         0   -5623.422610         33   Среднее             1   \n",
       "3         3   -4124.747207         32   среднее             1   \n",
       "4         0  340266.072047         53   среднее             1   \n",
       "5         0    -926.185831         27    высшее             0   \n",
       "6         0   -2879.202052         43    высшее             0   \n",
       "7         0    -152.779569         50   СРЕДНЕЕ             1   \n",
       "8         2   -6929.865299         35    ВЫСШЕЕ             0   \n",
       "9         0   -2188.756445         41   среднее             1   \n",
       "\n",
       "      family_status  family_status_id gender income_type  debt   total_income  \\\n",
       "0   женат / замужем                 0      F   сотрудник     0  253875.639453   \n",
       "1   женат / замужем                 0      F   сотрудник     0  112080.014102   \n",
       "2   женат / замужем                 0      M   сотрудник     0  145885.952297   \n",
       "3   женат / замужем                 0      M   сотрудник     0  267628.550329   \n",
       "4  гражданский брак                 1      F   пенсионер     0  158616.077870   \n",
       "5  гражданский брак                 1      M   компаньон     0  255763.565419   \n",
       "6   женат / замужем                 0      F   компаньон     0  240525.971920   \n",
       "7   женат / замужем                 0      M   сотрудник     0  135823.934197   \n",
       "8  гражданский брак                 1      F   сотрудник     0   95856.832424   \n",
       "9   женат / замужем                 0      M   сотрудник     0  144425.938277   \n",
       "\n",
       "                      purpose  \n",
       "0               покупка жилья  \n",
       "1     приобретение автомобиля  \n",
       "2               покупка жилья  \n",
       "3  дополнительное образование  \n",
       "4             сыграть свадьбу  \n",
       "5               покупка жилья  \n",
       "6           операции с жильем  \n",
       "7                 образование  \n",
       "8       на проведение свадьбы  \n",
       "9     покупка жилья для семьи  "
      ]
     },
     "execution_count": 3,
     "metadata": {},
     "output_type": "execute_result"
    }
   ],
   "source": [
    "# получение первых 10 строк таблицы df:\n",
    "df.head(10)"
   ]
  },
  {
   "cell_type": "code",
   "execution_count": 4,
   "id": "4ef1a16b",
   "metadata": {},
   "outputs": [
    {
     "name": "stdout",
     "output_type": "stream",
     "text": [
      "<class 'pandas.core.frame.DataFrame'>\n",
      "RangeIndex: 21525 entries, 0 to 21524\n",
      "Data columns (total 12 columns):\n",
      " #   Column            Non-Null Count  Dtype  \n",
      "---  ------            --------------  -----  \n",
      " 0   children          21525 non-null  int64  \n",
      " 1   days_employed     19351 non-null  float64\n",
      " 2   dob_years         21525 non-null  int64  \n",
      " 3   education         21525 non-null  object \n",
      " 4   education_id      21525 non-null  int64  \n",
      " 5   family_status     21525 non-null  object \n",
      " 6   family_status_id  21525 non-null  int64  \n",
      " 7   gender            21525 non-null  object \n",
      " 8   income_type       21525 non-null  object \n",
      " 9   debt              21525 non-null  int64  \n",
      " 10  total_income      19351 non-null  float64\n",
      " 11  purpose           21525 non-null  object \n",
      "dtypes: float64(2), int64(5), object(5)\n",
      "memory usage: 2.0+ MB\n"
     ]
    }
   ],
   "source": [
    "# получение общей информации о данных в таблице df:\n",
    "df.info()"
   ]
  },
  {
   "cell_type": "markdown",
   "id": "9b97e82a",
   "metadata": {},
   "source": [
    "В таблице одиннадцать столбцов, ниже их описание:\n",
    "    \n",
    "* `children` — количество детей в семье;\n",
    "* `days_employed` — общий трудовой стаж в днях;  \n",
    "* `dob_years` — возраст клиента в годах;\n",
    "* `education` — уровень образования клиента;\n",
    "* `education_id` — идентификатор уровня образования;\n",
    "* `family_status` — семейное положение;\n",
    "* `family_status_id` — идентификатор семейного положения;\n",
    "* `gender` — пол клиента;\n",
    "* `income_type` — тип занятости;\n",
    "* `debt` — имел ли задолженность по возврату кредитов;\n",
    "* `total_income` — ежемесячный доход;  \n",
    "* `purpose` — цель получения кредита;\n",
    "\n",
    "В названиях колонок нет нарушений стиля.\n",
    "Однако, количество значений в столбцах различается. Значит, в данных есть пропущенные значения."
   ]
  },
  {
   "cell_type": "markdown",
   "id": "cc77d34d",
   "metadata": {},
   "source": [
    "### Шаг 2.1 Заполнение пропусков"
   ]
  },
  {
   "cell_type": "code",
   "execution_count": 5,
   "id": "d972bd64",
   "metadata": {},
   "outputs": [
    {
     "data": {
      "text/plain": [
       "children               0\n",
       "days_employed       2174\n",
       "dob_years              0\n",
       "education              0\n",
       "education_id           0\n",
       "family_status          0\n",
       "family_status_id       0\n",
       "gender                 0\n",
       "income_type            0\n",
       "debt                   0\n",
       "total_income        2174\n",
       "purpose                0\n",
       "dtype: int64"
      ]
     },
     "execution_count": 5,
     "metadata": {},
     "output_type": "execute_result"
    }
   ],
   "source": [
    "# подсчёт пропусков:\n",
    "df.isna().sum()"
   ]
  },
  {
   "cell_type": "markdown",
   "id": "81a001f1",
   "metadata": {},
   "source": [
    "Итак, в двух колонках `days_employed` и `total_income` по 2174 пропущенных значений.\n",
    "Колонка `days_employed` имеет аномалии (отрицательное количество рабочих дней), поэтому потребует дополнительной обработки."
   ]
  },
  {
   "cell_type": "markdown",
   "id": "7529d72b",
   "metadata": {},
   "source": [
    "Колонка `total_income` отображает доход потенциальных заемщиков. Рассчитаем долю пропущенных значений:"
   ]
  },
  {
   "cell_type": "code",
   "execution_count": 6,
   "id": "e4c6cb6a",
   "metadata": {},
   "outputs": [
    {
     "data": {
      "text/plain": [
       "0.10099883855981417"
      ]
     },
     "execution_count": 6,
     "metadata": {},
     "output_type": "execute_result"
    }
   ],
   "source": [
    "# разделим количество пропущенных значений в колонке на количество строк в таблице:\n",
    "df['total_income'].isna().sum() / df.shape[0]"
   ]
  },
  {
   "cell_type": "markdown",
   "id": "b147e479",
   "metadata": {},
   "source": [
    "Доля пропущенных значений порядка 10%, что может существенно повлиять на результаты исследований. Пропуски в данных появляются разными путями. В данном случае, скорее всего, пользователи не указали сведения о доходе или автоматизированная система сбора информации дала сбой."
   ]
  },
  {
   "cell_type": "markdown",
   "id": "3c2506a6",
   "metadata": {},
   "source": [
    "Доход — количественное значение. Пропуски в таких колонках обычно заполняют характерными значениями: средним арифметическим или медианой. В случае с заработком лучше использовать медиану, ведь в данных могут быть выдающиеся значения, которые сместят среднее. Заполнять пропуски нулём или максимальным значением не стоит — такие значения нельзя назвать характерными. Заполним пропуски в стобце `total_income` медианным значением:"
   ]
  },
  {
   "cell_type": "code",
   "execution_count": 7,
   "id": "c7ba05ea",
   "metadata": {},
   "outputs": [
    {
     "data": {
      "text/plain": [
       "145017.93753253992"
      ]
     },
     "execution_count": 7,
     "metadata": {},
     "output_type": "execute_result"
    }
   ],
   "source": [
    "# рассчитаем медианный доход:\n",
    "total_income_medium = df['total_income'].median()\n",
    "total_income_medium"
   ]
  },
  {
   "cell_type": "markdown",
   "id": "2a2f29f7",
   "metadata": {},
   "source": [
    "Неплохие доходы у заявителей, раз в десять больше прожиточного минимума в РФ."
   ]
  },
  {
   "cell_type": "markdown",
   "id": "4e8b7067",
   "metadata": {},
   "source": [
    "Проверим, какой минимальный и какой максимальный доход у клиентов:"
   ]
  },
  {
   "cell_type": "code",
   "execution_count": 8,
   "id": "8f3ee8b0",
   "metadata": {},
   "outputs": [
    {
     "name": "stdout",
     "output_type": "stream",
     "text": [
      "Минимальный доход среди клиентов 20667\n"
     ]
    }
   ],
   "source": [
    "# рассчитаем минимальный доход:\n",
    "total_income_min = df['total_income'].min()\n",
    "print('Минимальный доход среди клиентов', int(total_income_min))"
   ]
  },
  {
   "cell_type": "code",
   "execution_count": 9,
   "id": "62d21e41",
   "metadata": {},
   "outputs": [
    {
     "name": "stdout",
     "output_type": "stream",
     "text": [
      "Максимальный доход среди клиентов 2265604\n"
     ]
    }
   ],
   "source": [
    "# рассчитаем максимальный доход:\n",
    "total_income_max = df['total_income'].max()\n",
    "print('Максимальный доход среди клиентов', int(total_income_max))"
   ]
  },
  {
   "cell_type": "code",
   "execution_count": 10,
   "id": "a2344072",
   "metadata": {},
   "outputs": [],
   "source": [
    "#заменим пропущенные значения в столбце 'total income' на полученное медианное значение:\n",
    "df['total_income'] = df['total_income'].fillna(total_income_medium)"
   ]
  },
  {
   "cell_type": "markdown",
   "id": "97f19ccb",
   "metadata": {},
   "source": [
    "Выполним проверку стобца `total_income` на пропуски после замены:"
   ]
  },
  {
   "cell_type": "code",
   "execution_count": 11,
   "id": "1a090d75",
   "metadata": {},
   "outputs": [
    {
     "data": {
      "text/plain": [
       "0"
      ]
     },
     "execution_count": 11,
     "metadata": {},
     "output_type": "execute_result"
    }
   ],
   "source": [
    "df['total_income'].isna().sum()"
   ]
  },
  {
   "cell_type": "markdown",
   "id": "8b5573f4",
   "metadata": {},
   "source": [
    "Пропущенных значений в столбце `total_income` больше нет."
   ]
  },
  {
   "cell_type": "markdown",
   "id": "88437384",
   "metadata": {},
   "source": [
    "### Шаг 2.2 Проверка данных на аномалии и исправления."
   ]
  },
  {
   "cell_type": "markdown",
   "id": "c64f72d9",
   "metadata": {},
   "source": [
    "В столбцах с числовыми типами данных (int и float) могут встречаться различные аномалии и выбросы, которые необходимо исправить для качественного анализа данных. Требуется проверить следующие столбцы:\n",
    "* `children`\n",
    "* `days_employed`\n",
    "* `dob_years`\n",
    "* `education_id`\n",
    "* `family_status_id`\n",
    "* `debt`\n",
    "* `total_income`\n"
   ]
  },
  {
   "cell_type": "markdown",
   "id": "10e5d3b6",
   "metadata": {},
   "source": [
    "#### Проверка данных столбца 'children'"
   ]
  },
  {
   "cell_type": "markdown",
   "id": "320a71d5",
   "metadata": {},
   "source": [
    "Выполним проверку столбца `children` на аномалии:"
   ]
  },
  {
   "cell_type": "code",
   "execution_count": 12,
   "id": "fb12883f",
   "metadata": {},
   "outputs": [
    {
     "data": {
      "text/plain": [
       "children\n",
       "-1        47\n",
       " 0     14149\n",
       " 1      4818\n",
       " 2      2055\n",
       " 3       330\n",
       " 4        41\n",
       " 5         9\n",
       " 20       76\n",
       "Name: children, dtype: int64"
      ]
     },
     "execution_count": 12,
     "metadata": {},
     "output_type": "execute_result"
    }
   ],
   "source": [
    "df.groupby('children')['children'].count()"
   ]
  },
  {
   "cell_type": "markdown",
   "id": "914e5af6",
   "metadata": {},
   "source": [
    "Имеем отрицательное значение детей, что скорее всего является ошибкой."
   ]
  },
  {
   "cell_type": "code",
   "execution_count": 13,
   "id": "f8f96e82",
   "metadata": {},
   "outputs": [],
   "source": [
    "# применим функцию abs для возврата модуля чисел в указанной колонке:\n",
    "df['children'] = df['children'].abs()"
   ]
  },
  {
   "cell_type": "code",
   "execution_count": 14,
   "id": "70f64aa1",
   "metadata": {},
   "outputs": [
    {
     "data": {
      "text/plain": [
       "children\n",
       "0     14149\n",
       "1      4865\n",
       "2      2055\n",
       "3       330\n",
       "4        41\n",
       "5         9\n",
       "20       76\n",
       "Name: children, dtype: int64"
      ]
     },
     "execution_count": 14,
     "metadata": {},
     "output_type": "execute_result"
    }
   ],
   "source": [
    "df.groupby('children')['children'].count()"
   ]
  },
  {
   "cell_type": "markdown",
   "id": "6e88b498",
   "metadata": {},
   "source": [
    "Также у 76 заявителей по 20 детей, что в теории возможно, но скорее всего и тут некая ошибка, т.к. имеет место тенденция к снижению количества клиентов при увеличении количества детей."
   ]
  },
  {
   "cell_type": "code",
   "execution_count": 15,
   "id": "f73e681f",
   "metadata": {},
   "outputs": [
    {
     "name": "stdout",
     "output_type": "stream",
     "text": [
      "Доля таких заявителей 0.35% от общего количества заявителей\n"
     ]
    }
   ],
   "source": [
    "# расчет доли заявителей, у которых якобы 20 детей:\n",
    "children_20 = len(df[df['children']==20]) / len(df['children'])\n",
    "print(f'Доля таких заявителей {children_20:.2%} от общего количества заявителей') "
   ]
  },
  {
   "cell_type": "markdown",
   "id": "baa7dd38",
   "metadata": {},
   "source": [
    "Выведем таблицу с заявителями, у которых 20 детей."
   ]
  },
  {
   "cell_type": "code",
   "execution_count": 16,
   "id": "a6e68808",
   "metadata": {},
   "outputs": [
    {
     "data": {
      "text/html": [
       "<div>\n",
       "<style scoped>\n",
       "    .dataframe tbody tr th:only-of-type {\n",
       "        vertical-align: middle;\n",
       "    }\n",
       "\n",
       "    .dataframe tbody tr th {\n",
       "        vertical-align: top;\n",
       "    }\n",
       "\n",
       "    .dataframe thead th {\n",
       "        text-align: right;\n",
       "    }\n",
       "</style>\n",
       "<table border=\"1\" class=\"dataframe\">\n",
       "  <thead>\n",
       "    <tr style=\"text-align: right;\">\n",
       "      <th></th>\n",
       "      <th>children</th>\n",
       "      <th>days_employed</th>\n",
       "      <th>dob_years</th>\n",
       "      <th>education</th>\n",
       "      <th>education_id</th>\n",
       "      <th>family_status</th>\n",
       "      <th>family_status_id</th>\n",
       "      <th>gender</th>\n",
       "      <th>income_type</th>\n",
       "      <th>debt</th>\n",
       "      <th>total_income</th>\n",
       "      <th>purpose</th>\n",
       "    </tr>\n",
       "  </thead>\n",
       "  <tbody>\n",
       "    <tr>\n",
       "      <th>2941</th>\n",
       "      <td>20</td>\n",
       "      <td>-2161.591519</td>\n",
       "      <td>0</td>\n",
       "      <td>среднее</td>\n",
       "      <td>1</td>\n",
       "      <td>женат / замужем</td>\n",
       "      <td>0</td>\n",
       "      <td>F</td>\n",
       "      <td>сотрудник</td>\n",
       "      <td>0</td>\n",
       "      <td>199739.941398</td>\n",
       "      <td>на покупку автомобиля</td>\n",
       "    </tr>\n",
       "    <tr>\n",
       "      <th>606</th>\n",
       "      <td>20</td>\n",
       "      <td>-880.221113</td>\n",
       "      <td>21</td>\n",
       "      <td>среднее</td>\n",
       "      <td>1</td>\n",
       "      <td>женат / замужем</td>\n",
       "      <td>0</td>\n",
       "      <td>M</td>\n",
       "      <td>компаньон</td>\n",
       "      <td>0</td>\n",
       "      <td>145334.865002</td>\n",
       "      <td>покупка жилья</td>\n",
       "    </tr>\n",
       "    <tr>\n",
       "      <th>3671</th>\n",
       "      <td>20</td>\n",
       "      <td>-913.161503</td>\n",
       "      <td>23</td>\n",
       "      <td>среднее</td>\n",
       "      <td>1</td>\n",
       "      <td>Не женат / не замужем</td>\n",
       "      <td>4</td>\n",
       "      <td>F</td>\n",
       "      <td>сотрудник</td>\n",
       "      <td>0</td>\n",
       "      <td>101255.492076</td>\n",
       "      <td>на покупку подержанного автомобиля</td>\n",
       "    </tr>\n",
       "    <tr>\n",
       "      <th>5315</th>\n",
       "      <td>20</td>\n",
       "      <td>-2047.754733</td>\n",
       "      <td>24</td>\n",
       "      <td>среднее</td>\n",
       "      <td>1</td>\n",
       "      <td>женат / замужем</td>\n",
       "      <td>0</td>\n",
       "      <td>F</td>\n",
       "      <td>сотрудник</td>\n",
       "      <td>0</td>\n",
       "      <td>100415.236833</td>\n",
       "      <td>покупка коммерческой недвижимости</td>\n",
       "    </tr>\n",
       "    <tr>\n",
       "      <th>12909</th>\n",
       "      <td>20</td>\n",
       "      <td>NaN</td>\n",
       "      <td>25</td>\n",
       "      <td>среднее</td>\n",
       "      <td>1</td>\n",
       "      <td>женат / замужем</td>\n",
       "      <td>0</td>\n",
       "      <td>M</td>\n",
       "      <td>сотрудник</td>\n",
       "      <td>0</td>\n",
       "      <td>145017.937533</td>\n",
       "      <td>операции с жильем</td>\n",
       "    </tr>\n",
       "    <tr>\n",
       "      <th>3735</th>\n",
       "      <td>20</td>\n",
       "      <td>-805.044438</td>\n",
       "      <td>26</td>\n",
       "      <td>высшее</td>\n",
       "      <td>0</td>\n",
       "      <td>Не женат / не замужем</td>\n",
       "      <td>4</td>\n",
       "      <td>M</td>\n",
       "      <td>сотрудник</td>\n",
       "      <td>0</td>\n",
       "      <td>137200.646181</td>\n",
       "      <td>ремонт жилью</td>\n",
       "    </tr>\n",
       "    <tr>\n",
       "      <th>14474</th>\n",
       "      <td>20</td>\n",
       "      <td>-2625.072839</td>\n",
       "      <td>27</td>\n",
       "      <td>среднее</td>\n",
       "      <td>1</td>\n",
       "      <td>женат / замужем</td>\n",
       "      <td>0</td>\n",
       "      <td>F</td>\n",
       "      <td>сотрудник</td>\n",
       "      <td>0</td>\n",
       "      <td>244092.075999</td>\n",
       "      <td>высшее образование</td>\n",
       "    </tr>\n",
       "    <tr>\n",
       "      <th>21491</th>\n",
       "      <td>20</td>\n",
       "      <td>-173.954460</td>\n",
       "      <td>27</td>\n",
       "      <td>среднее</td>\n",
       "      <td>1</td>\n",
       "      <td>женат / замужем</td>\n",
       "      <td>0</td>\n",
       "      <td>F</td>\n",
       "      <td>сотрудник</td>\n",
       "      <td>0</td>\n",
       "      <td>155520.899688</td>\n",
       "      <td>на покупку подержанного автомобиля</td>\n",
       "    </tr>\n",
       "    <tr>\n",
       "      <th>16795</th>\n",
       "      <td>20</td>\n",
       "      <td>-2530.540521</td>\n",
       "      <td>29</td>\n",
       "      <td>среднее</td>\n",
       "      <td>1</td>\n",
       "      <td>женат / замужем</td>\n",
       "      <td>0</td>\n",
       "      <td>M</td>\n",
       "      <td>компаньон</td>\n",
       "      <td>0</td>\n",
       "      <td>95454.865761</td>\n",
       "      <td>недвижимость</td>\n",
       "    </tr>\n",
       "    <tr>\n",
       "      <th>16371</th>\n",
       "      <td>20</td>\n",
       "      <td>-419.894814</td>\n",
       "      <td>29</td>\n",
       "      <td>неоконченное высшее</td>\n",
       "      <td>2</td>\n",
       "      <td>Не женат / не замужем</td>\n",
       "      <td>4</td>\n",
       "      <td>M</td>\n",
       "      <td>сотрудник</td>\n",
       "      <td>0</td>\n",
       "      <td>122062.334283</td>\n",
       "      <td>операции с коммерческой недвижимостью</td>\n",
       "    </tr>\n",
       "  </tbody>\n",
       "</table>\n",
       "</div>"
      ],
      "text/plain": [
       "       children  days_employed  dob_years            education  education_id  \\\n",
       "2941         20   -2161.591519          0              среднее             1   \n",
       "606          20    -880.221113         21              среднее             1   \n",
       "3671         20    -913.161503         23              среднее             1   \n",
       "5315         20   -2047.754733         24              среднее             1   \n",
       "12909        20            NaN         25              среднее             1   \n",
       "3735         20    -805.044438         26               высшее             0   \n",
       "14474        20   -2625.072839         27              среднее             1   \n",
       "21491        20    -173.954460         27              среднее             1   \n",
       "16795        20   -2530.540521         29              среднее             1   \n",
       "16371        20    -419.894814         29  неоконченное высшее             2   \n",
       "\n",
       "               family_status  family_status_id gender income_type  debt  \\\n",
       "2941         женат / замужем                 0      F   сотрудник     0   \n",
       "606          женат / замужем                 0      M   компаньон     0   \n",
       "3671   Не женат / не замужем                 4      F   сотрудник     0   \n",
       "5315         женат / замужем                 0      F   сотрудник     0   \n",
       "12909        женат / замужем                 0      M   сотрудник     0   \n",
       "3735   Не женат / не замужем                 4      M   сотрудник     0   \n",
       "14474        женат / замужем                 0      F   сотрудник     0   \n",
       "21491        женат / замужем                 0      F   сотрудник     0   \n",
       "16795        женат / замужем                 0      M   компаньон     0   \n",
       "16371  Не женат / не замужем                 4      M   сотрудник     0   \n",
       "\n",
       "        total_income                                purpose  \n",
       "2941   199739.941398                  на покупку автомобиля  \n",
       "606    145334.865002                          покупка жилья  \n",
       "3671   101255.492076     на покупку подержанного автомобиля  \n",
       "5315   100415.236833      покупка коммерческой недвижимости  \n",
       "12909  145017.937533                      операции с жильем  \n",
       "3735   137200.646181                           ремонт жилью  \n",
       "14474  244092.075999                     высшее образование  \n",
       "21491  155520.899688     на покупку подержанного автомобиля  \n",
       "16795   95454.865761                           недвижимость  \n",
       "16371  122062.334283  операции с коммерческой недвижимостью  "
      ]
     },
     "execution_count": 16,
     "metadata": {},
     "output_type": "execute_result"
    }
   ],
   "source": [
    "df[df['children']==20].sort_values(by='dob_years').head(10)"
   ]
  },
  {
   "cell_type": "markdown",
   "id": "6274d038",
   "metadata": {},
   "source": [
    "Осмелюсь предположить, что здесь вместо 20 детей имелось в виду по 2 детей, а лишний ноль - это какой-то сбой системы сбора данных. Маловероятно, чтобы девушки от 23 до 27 лет могли иметь по 20 детей. Выполним необходимую замену."
   ]
  },
  {
   "cell_type": "code",
   "execution_count": 17,
   "id": "2bc57395",
   "metadata": {},
   "outputs": [],
   "source": [
    "# замена стандартным методом replace():\n",
    "df['children'] = df['children'].replace(20, 2)"
   ]
  },
  {
   "cell_type": "code",
   "execution_count": 18,
   "id": "1e2bd6d1",
   "metadata": {},
   "outputs": [
    {
     "data": {
      "text/plain": [
       "children\n",
       "0    14149\n",
       "1     4865\n",
       "2     2131\n",
       "3      330\n",
       "4       41\n",
       "5        9\n",
       "Name: children, dtype: int64"
      ]
     },
     "execution_count": 18,
     "metadata": {},
     "output_type": "execute_result"
    }
   ],
   "source": [
    "df.groupby('children')['children'].count()"
   ]
  },
  {
   "cell_type": "markdown",
   "id": "7a506fab",
   "metadata": {},
   "source": [
    "#### Проверка данных столбца 'days_employed'"
   ]
  },
  {
   "cell_type": "markdown",
   "id": "bd47d024",
   "metadata": {},
   "source": [
    "Ранее было указано, что в столбце `days_employed` наблюдаются отрицательные значения. Выведем датафрейм с отрицательными значениями и отсортируем по возрастанию"
   ]
  },
  {
   "cell_type": "code",
   "execution_count": 19,
   "id": "7aa27088",
   "metadata": {},
   "outputs": [
    {
     "data": {
      "text/html": [
       "<div>\n",
       "<style scoped>\n",
       "    .dataframe tbody tr th:only-of-type {\n",
       "        vertical-align: middle;\n",
       "    }\n",
       "\n",
       "    .dataframe tbody tr th {\n",
       "        vertical-align: top;\n",
       "    }\n",
       "\n",
       "    .dataframe thead th {\n",
       "        text-align: right;\n",
       "    }\n",
       "</style>\n",
       "<table border=\"1\" class=\"dataframe\">\n",
       "  <thead>\n",
       "    <tr style=\"text-align: right;\">\n",
       "      <th></th>\n",
       "      <th>children</th>\n",
       "      <th>days_employed</th>\n",
       "      <th>dob_years</th>\n",
       "      <th>education</th>\n",
       "      <th>education_id</th>\n",
       "      <th>family_status</th>\n",
       "      <th>family_status_id</th>\n",
       "      <th>gender</th>\n",
       "      <th>income_type</th>\n",
       "      <th>debt</th>\n",
       "      <th>total_income</th>\n",
       "      <th>purpose</th>\n",
       "    </tr>\n",
       "  </thead>\n",
       "  <tbody>\n",
       "    <tr>\n",
       "      <th>16335</th>\n",
       "      <td>1</td>\n",
       "      <td>-18388.949901</td>\n",
       "      <td>61</td>\n",
       "      <td>среднее</td>\n",
       "      <td>1</td>\n",
       "      <td>женат / замужем</td>\n",
       "      <td>0</td>\n",
       "      <td>F</td>\n",
       "      <td>сотрудник</td>\n",
       "      <td>0</td>\n",
       "      <td>186178.934089</td>\n",
       "      <td>операции с недвижимостью</td>\n",
       "    </tr>\n",
       "    <tr>\n",
       "      <th>4299</th>\n",
       "      <td>0</td>\n",
       "      <td>-17615.563266</td>\n",
       "      <td>61</td>\n",
       "      <td>среднее</td>\n",
       "      <td>1</td>\n",
       "      <td>женат / замужем</td>\n",
       "      <td>0</td>\n",
       "      <td>F</td>\n",
       "      <td>компаньон</td>\n",
       "      <td>0</td>\n",
       "      <td>122560.741753</td>\n",
       "      <td>покупка жилья</td>\n",
       "    </tr>\n",
       "    <tr>\n",
       "      <th>7329</th>\n",
       "      <td>0</td>\n",
       "      <td>-16593.472817</td>\n",
       "      <td>60</td>\n",
       "      <td>высшее</td>\n",
       "      <td>0</td>\n",
       "      <td>женат / замужем</td>\n",
       "      <td>0</td>\n",
       "      <td>F</td>\n",
       "      <td>сотрудник</td>\n",
       "      <td>0</td>\n",
       "      <td>124697.846781</td>\n",
       "      <td>заняться высшим образованием</td>\n",
       "    </tr>\n",
       "    <tr>\n",
       "      <th>17838</th>\n",
       "      <td>0</td>\n",
       "      <td>-16264.699501</td>\n",
       "      <td>59</td>\n",
       "      <td>среднее</td>\n",
       "      <td>1</td>\n",
       "      <td>женат / замужем</td>\n",
       "      <td>0</td>\n",
       "      <td>F</td>\n",
       "      <td>сотрудник</td>\n",
       "      <td>0</td>\n",
       "      <td>51238.967133</td>\n",
       "      <td>на покупку автомобиля</td>\n",
       "    </tr>\n",
       "    <tr>\n",
       "      <th>16825</th>\n",
       "      <td>0</td>\n",
       "      <td>-16119.687737</td>\n",
       "      <td>64</td>\n",
       "      <td>среднее</td>\n",
       "      <td>1</td>\n",
       "      <td>женат / замужем</td>\n",
       "      <td>0</td>\n",
       "      <td>F</td>\n",
       "      <td>сотрудник</td>\n",
       "      <td>0</td>\n",
       "      <td>91527.685995</td>\n",
       "      <td>покупка жилой недвижимости</td>\n",
       "    </tr>\n",
       "    <tr>\n",
       "      <th>...</th>\n",
       "      <td>...</td>\n",
       "      <td>...</td>\n",
       "      <td>...</td>\n",
       "      <td>...</td>\n",
       "      <td>...</td>\n",
       "      <td>...</td>\n",
       "      <td>...</td>\n",
       "      <td>...</td>\n",
       "      <td>...</td>\n",
       "      <td>...</td>\n",
       "      <td>...</td>\n",
       "      <td>...</td>\n",
       "    </tr>\n",
       "    <tr>\n",
       "      <th>2127</th>\n",
       "      <td>1</td>\n",
       "      <td>-34.701045</td>\n",
       "      <td>31</td>\n",
       "      <td>высшее</td>\n",
       "      <td>0</td>\n",
       "      <td>женат / замужем</td>\n",
       "      <td>0</td>\n",
       "      <td>F</td>\n",
       "      <td>компаньон</td>\n",
       "      <td>0</td>\n",
       "      <td>90557.994311</td>\n",
       "      <td>получение образования</td>\n",
       "    </tr>\n",
       "    <tr>\n",
       "      <th>9683</th>\n",
       "      <td>0</td>\n",
       "      <td>-33.520665</td>\n",
       "      <td>43</td>\n",
       "      <td>среднее</td>\n",
       "      <td>1</td>\n",
       "      <td>Не женат / не замужем</td>\n",
       "      <td>4</td>\n",
       "      <td>M</td>\n",
       "      <td>сотрудник</td>\n",
       "      <td>1</td>\n",
       "      <td>128555.897209</td>\n",
       "      <td>приобретение автомобиля</td>\n",
       "    </tr>\n",
       "    <tr>\n",
       "      <th>6157</th>\n",
       "      <td>2</td>\n",
       "      <td>-30.195337</td>\n",
       "      <td>47</td>\n",
       "      <td>среднее</td>\n",
       "      <td>1</td>\n",
       "      <td>гражданский брак</td>\n",
       "      <td>1</td>\n",
       "      <td>M</td>\n",
       "      <td>компаньон</td>\n",
       "      <td>0</td>\n",
       "      <td>231461.185606</td>\n",
       "      <td>свадьба</td>\n",
       "    </tr>\n",
       "    <tr>\n",
       "      <th>8336</th>\n",
       "      <td>0</td>\n",
       "      <td>-24.240695</td>\n",
       "      <td>32</td>\n",
       "      <td>высшее</td>\n",
       "      <td>0</td>\n",
       "      <td>Не женат / не замужем</td>\n",
       "      <td>4</td>\n",
       "      <td>M</td>\n",
       "      <td>сотрудник</td>\n",
       "      <td>0</td>\n",
       "      <td>124115.373655</td>\n",
       "      <td>получение дополнительного образования</td>\n",
       "    </tr>\n",
       "    <tr>\n",
       "      <th>17437</th>\n",
       "      <td>1</td>\n",
       "      <td>-24.141633</td>\n",
       "      <td>31</td>\n",
       "      <td>среднее</td>\n",
       "      <td>1</td>\n",
       "      <td>женат / замужем</td>\n",
       "      <td>0</td>\n",
       "      <td>F</td>\n",
       "      <td>сотрудник</td>\n",
       "      <td>1</td>\n",
       "      <td>166952.415427</td>\n",
       "      <td>высшее образование</td>\n",
       "    </tr>\n",
       "  </tbody>\n",
       "</table>\n",
       "<p>15906 rows × 12 columns</p>\n",
       "</div>"
      ],
      "text/plain": [
       "       children  days_employed  dob_years education  education_id  \\\n",
       "16335         1  -18388.949901         61   среднее             1   \n",
       "4299          0  -17615.563266         61   среднее             1   \n",
       "7329          0  -16593.472817         60    высшее             0   \n",
       "17838         0  -16264.699501         59   среднее             1   \n",
       "16825         0  -16119.687737         64   среднее             1   \n",
       "...         ...            ...        ...       ...           ...   \n",
       "2127          1     -34.701045         31    высшее             0   \n",
       "9683          0     -33.520665         43   среднее             1   \n",
       "6157          2     -30.195337         47   среднее             1   \n",
       "8336          0     -24.240695         32    высшее             0   \n",
       "17437         1     -24.141633         31   среднее             1   \n",
       "\n",
       "               family_status  family_status_id gender income_type  debt  \\\n",
       "16335        женат / замужем                 0      F   сотрудник     0   \n",
       "4299         женат / замужем                 0      F   компаньон     0   \n",
       "7329         женат / замужем                 0      F   сотрудник     0   \n",
       "17838        женат / замужем                 0      F   сотрудник     0   \n",
       "16825        женат / замужем                 0      F   сотрудник     0   \n",
       "...                      ...               ...    ...         ...   ...   \n",
       "2127         женат / замужем                 0      F   компаньон     0   \n",
       "9683   Не женат / не замужем                 4      M   сотрудник     1   \n",
       "6157        гражданский брак                 1      M   компаньон     0   \n",
       "8336   Не женат / не замужем                 4      M   сотрудник     0   \n",
       "17437        женат / замужем                 0      F   сотрудник     1   \n",
       "\n",
       "        total_income                                purpose  \n",
       "16335  186178.934089               операции с недвижимостью  \n",
       "4299   122560.741753                          покупка жилья  \n",
       "7329   124697.846781           заняться высшим образованием  \n",
       "17838   51238.967133                  на покупку автомобиля  \n",
       "16825   91527.685995             покупка жилой недвижимости  \n",
       "...              ...                                    ...  \n",
       "2127    90557.994311                  получение образования  \n",
       "9683   128555.897209                приобретение автомобиля  \n",
       "6157   231461.185606                                свадьба  \n",
       "8336   124115.373655  получение дополнительного образования  \n",
       "17437  166952.415427                     высшее образование  \n",
       "\n",
       "[15906 rows x 12 columns]"
      ]
     },
     "execution_count": 19,
     "metadata": {},
     "output_type": "execute_result"
    }
   ],
   "source": [
    "df[df['days_employed'] < 0].sort_values(by='days_employed')"
   ]
  },
  {
   "cell_type": "markdown",
   "id": "08b13568",
   "metadata": {},
   "source": [
    "Предположительно, случился программный сбой, который начал присваивать дням отрицательные значения, возможен также человеческий фактор. В целом, значения трудового стажа в днях выглядят адекватными для возраста заявителей."
   ]
  },
  {
   "cell_type": "code",
   "execution_count": 20,
   "id": "9403eeeb",
   "metadata": {},
   "outputs": [],
   "source": [
    "# применим функцию abs для возврата модуля чисел в указанной колонке:\n",
    "df['days_employed'] = df['days_employed'].abs()"
   ]
  },
  {
   "cell_type": "markdown",
   "id": "751a9979",
   "metadata": {},
   "source": [
    "Выполним проверку на минимальные и максимальные значения:"
   ]
  },
  {
   "cell_type": "code",
   "execution_count": 21,
   "id": "0ea3201d",
   "metadata": {},
   "outputs": [
    {
     "name": "stdout",
     "output_type": "stream",
     "text": [
      "Минимальный общий трудовой стаж в днях: 24\n"
     ]
    }
   ],
   "source": [
    "print('Минимальный общий трудовой стаж в днях:', int(df['days_employed'].min()))"
   ]
  },
  {
   "cell_type": "code",
   "execution_count": 22,
   "id": "0bf675ce",
   "metadata": {},
   "outputs": [
    {
     "name": "stdout",
     "output_type": "stream",
     "text": [
      "Максимальный общий трудовой стаж в днях: 401755\n"
     ]
    }
   ],
   "source": [
    "print('Максимальный общий трудовой стаж в днях:', int(df['days_employed'].max()))"
   ]
  },
  {
   "cell_type": "code",
   "execution_count": 23,
   "id": "04ba335f",
   "metadata": {},
   "outputs": [
    {
     "name": "stdout",
     "output_type": "stream",
     "text": [
      "Максимальный общий трудовой стаж в годах: 1100\n"
     ]
    }
   ],
   "source": [
    "print('Максимальный общий трудовой стаж в годах:', int(df['days_employed'].max() / 365))"
   ]
  },
  {
   "cell_type": "markdown",
   "id": "8a95425e",
   "metadata": {},
   "source": [
    "Минимальное количество общего трудового стажа в годах составляет 24 дня, что вполне приемлемо. Однако, максимальный общий трудовой стаж в годах составил 1100 лет, что невозможно. Предположим, что на пенсию выходят в 65-70, а начинают работать в 20, значит работают порядка 45-50 лет, т.е. 16425-18250 дней соответственно. Выделим строки датафрейма по количеству дней > 17000 и отсортируем по возрастанию."
   ]
  },
  {
   "cell_type": "code",
   "execution_count": 24,
   "id": "f5f01342",
   "metadata": {},
   "outputs": [
    {
     "data": {
      "text/html": [
       "<div>\n",
       "<style scoped>\n",
       "    .dataframe tbody tr th:only-of-type {\n",
       "        vertical-align: middle;\n",
       "    }\n",
       "\n",
       "    .dataframe tbody tr th {\n",
       "        vertical-align: top;\n",
       "    }\n",
       "\n",
       "    .dataframe thead th {\n",
       "        text-align: right;\n",
       "    }\n",
       "</style>\n",
       "<table border=\"1\" class=\"dataframe\">\n",
       "  <thead>\n",
       "    <tr style=\"text-align: right;\">\n",
       "      <th></th>\n",
       "      <th>children</th>\n",
       "      <th>days_employed</th>\n",
       "      <th>dob_years</th>\n",
       "      <th>education</th>\n",
       "      <th>education_id</th>\n",
       "      <th>family_status</th>\n",
       "      <th>family_status_id</th>\n",
       "      <th>gender</th>\n",
       "      <th>income_type</th>\n",
       "      <th>debt</th>\n",
       "      <th>total_income</th>\n",
       "      <th>purpose</th>\n",
       "    </tr>\n",
       "  </thead>\n",
       "  <tbody>\n",
       "    <tr>\n",
       "      <th>4299</th>\n",
       "      <td>0</td>\n",
       "      <td>17615.563266</td>\n",
       "      <td>61</td>\n",
       "      <td>среднее</td>\n",
       "      <td>1</td>\n",
       "      <td>женат / замужем</td>\n",
       "      <td>0</td>\n",
       "      <td>F</td>\n",
       "      <td>компаньон</td>\n",
       "      <td>0</td>\n",
       "      <td>122560.741753</td>\n",
       "      <td>покупка жилья</td>\n",
       "    </tr>\n",
       "    <tr>\n",
       "      <th>16335</th>\n",
       "      <td>1</td>\n",
       "      <td>18388.949901</td>\n",
       "      <td>61</td>\n",
       "      <td>среднее</td>\n",
       "      <td>1</td>\n",
       "      <td>женат / замужем</td>\n",
       "      <td>0</td>\n",
       "      <td>F</td>\n",
       "      <td>сотрудник</td>\n",
       "      <td>0</td>\n",
       "      <td>186178.934089</td>\n",
       "      <td>операции с недвижимостью</td>\n",
       "    </tr>\n",
       "    <tr>\n",
       "      <th>20444</th>\n",
       "      <td>0</td>\n",
       "      <td>328728.720605</td>\n",
       "      <td>72</td>\n",
       "      <td>среднее</td>\n",
       "      <td>1</td>\n",
       "      <td>вдовец / вдова</td>\n",
       "      <td>2</td>\n",
       "      <td>F</td>\n",
       "      <td>пенсионер</td>\n",
       "      <td>0</td>\n",
       "      <td>96519.339647</td>\n",
       "      <td>покупка жилья для семьи</td>\n",
       "    </tr>\n",
       "    <tr>\n",
       "      <th>9328</th>\n",
       "      <td>2</td>\n",
       "      <td>328734.923996</td>\n",
       "      <td>41</td>\n",
       "      <td>высшее</td>\n",
       "      <td>0</td>\n",
       "      <td>женат / замужем</td>\n",
       "      <td>0</td>\n",
       "      <td>M</td>\n",
       "      <td>пенсионер</td>\n",
       "      <td>0</td>\n",
       "      <td>126997.497760</td>\n",
       "      <td>операции со своей недвижимостью</td>\n",
       "    </tr>\n",
       "    <tr>\n",
       "      <th>17782</th>\n",
       "      <td>0</td>\n",
       "      <td>328771.341387</td>\n",
       "      <td>56</td>\n",
       "      <td>среднее</td>\n",
       "      <td>1</td>\n",
       "      <td>женат / замужем</td>\n",
       "      <td>0</td>\n",
       "      <td>F</td>\n",
       "      <td>пенсионер</td>\n",
       "      <td>0</td>\n",
       "      <td>68648.047062</td>\n",
       "      <td>операции с коммерческой недвижимостью</td>\n",
       "    </tr>\n",
       "    <tr>\n",
       "      <th>...</th>\n",
       "      <td>...</td>\n",
       "      <td>...</td>\n",
       "      <td>...</td>\n",
       "      <td>...</td>\n",
       "      <td>...</td>\n",
       "      <td>...</td>\n",
       "      <td>...</td>\n",
       "      <td>...</td>\n",
       "      <td>...</td>\n",
       "      <td>...</td>\n",
       "      <td>...</td>\n",
       "      <td>...</td>\n",
       "    </tr>\n",
       "    <tr>\n",
       "      <th>7794</th>\n",
       "      <td>0</td>\n",
       "      <td>401663.850046</td>\n",
       "      <td>61</td>\n",
       "      <td>среднее</td>\n",
       "      <td>1</td>\n",
       "      <td>гражданский брак</td>\n",
       "      <td>1</td>\n",
       "      <td>F</td>\n",
       "      <td>пенсионер</td>\n",
       "      <td>0</td>\n",
       "      <td>48286.441362</td>\n",
       "      <td>свадьба</td>\n",
       "    </tr>\n",
       "    <tr>\n",
       "      <th>2156</th>\n",
       "      <td>0</td>\n",
       "      <td>401674.466633</td>\n",
       "      <td>60</td>\n",
       "      <td>среднее</td>\n",
       "      <td>1</td>\n",
       "      <td>женат / замужем</td>\n",
       "      <td>0</td>\n",
       "      <td>M</td>\n",
       "      <td>пенсионер</td>\n",
       "      <td>0</td>\n",
       "      <td>325395.724541</td>\n",
       "      <td>автомобили</td>\n",
       "    </tr>\n",
       "    <tr>\n",
       "      <th>7664</th>\n",
       "      <td>1</td>\n",
       "      <td>401675.093434</td>\n",
       "      <td>61</td>\n",
       "      <td>среднее</td>\n",
       "      <td>1</td>\n",
       "      <td>женат / замужем</td>\n",
       "      <td>0</td>\n",
       "      <td>F</td>\n",
       "      <td>пенсионер</td>\n",
       "      <td>0</td>\n",
       "      <td>126214.519212</td>\n",
       "      <td>операции с жильем</td>\n",
       "    </tr>\n",
       "    <tr>\n",
       "      <th>10006</th>\n",
       "      <td>0</td>\n",
       "      <td>401715.811749</td>\n",
       "      <td>69</td>\n",
       "      <td>высшее</td>\n",
       "      <td>0</td>\n",
       "      <td>Не женат / не замужем</td>\n",
       "      <td>4</td>\n",
       "      <td>F</td>\n",
       "      <td>пенсионер</td>\n",
       "      <td>0</td>\n",
       "      <td>57390.256908</td>\n",
       "      <td>получение образования</td>\n",
       "    </tr>\n",
       "    <tr>\n",
       "      <th>6954</th>\n",
       "      <td>0</td>\n",
       "      <td>401755.400475</td>\n",
       "      <td>56</td>\n",
       "      <td>среднее</td>\n",
       "      <td>1</td>\n",
       "      <td>вдовец / вдова</td>\n",
       "      <td>2</td>\n",
       "      <td>F</td>\n",
       "      <td>пенсионер</td>\n",
       "      <td>0</td>\n",
       "      <td>176278.441171</td>\n",
       "      <td>ремонт жилью</td>\n",
       "    </tr>\n",
       "  </tbody>\n",
       "</table>\n",
       "<p>3447 rows × 12 columns</p>\n",
       "</div>"
      ],
      "text/plain": [
       "       children  days_employed  dob_years education  education_id  \\\n",
       "4299          0   17615.563266         61   среднее             1   \n",
       "16335         1   18388.949901         61   среднее             1   \n",
       "20444         0  328728.720605         72   среднее             1   \n",
       "9328          2  328734.923996         41    высшее             0   \n",
       "17782         0  328771.341387         56   среднее             1   \n",
       "...         ...            ...        ...       ...           ...   \n",
       "7794          0  401663.850046         61   среднее             1   \n",
       "2156          0  401674.466633         60   среднее             1   \n",
       "7664          1  401675.093434         61   среднее             1   \n",
       "10006         0  401715.811749         69    высшее             0   \n",
       "6954          0  401755.400475         56   среднее             1   \n",
       "\n",
       "               family_status  family_status_id gender income_type  debt  \\\n",
       "4299         женат / замужем                 0      F   компаньон     0   \n",
       "16335        женат / замужем                 0      F   сотрудник     0   \n",
       "20444         вдовец / вдова                 2      F   пенсионер     0   \n",
       "9328         женат / замужем                 0      M   пенсионер     0   \n",
       "17782        женат / замужем                 0      F   пенсионер     0   \n",
       "...                      ...               ...    ...         ...   ...   \n",
       "7794        гражданский брак                 1      F   пенсионер     0   \n",
       "2156         женат / замужем                 0      M   пенсионер     0   \n",
       "7664         женат / замужем                 0      F   пенсионер     0   \n",
       "10006  Не женат / не замужем                 4      F   пенсионер     0   \n",
       "6954          вдовец / вдова                 2      F   пенсионер     0   \n",
       "\n",
       "        total_income                                purpose  \n",
       "4299   122560.741753                          покупка жилья  \n",
       "16335  186178.934089               операции с недвижимостью  \n",
       "20444   96519.339647                покупка жилья для семьи  \n",
       "9328   126997.497760        операции со своей недвижимостью  \n",
       "17782   68648.047062  операции с коммерческой недвижимостью  \n",
       "...              ...                                    ...  \n",
       "7794    48286.441362                                свадьба  \n",
       "2156   325395.724541                             автомобили  \n",
       "7664   126214.519212                      операции с жильем  \n",
       "10006   57390.256908                  получение образования  \n",
       "6954   176278.441171                           ремонт жилью  \n",
       "\n",
       "[3447 rows x 12 columns]"
      ]
     },
     "execution_count": 24,
     "metadata": {},
     "output_type": "execute_result"
    }
   ],
   "source": [
    "df[df['days_employed'] > 17000].sort_values(by='days_employed')"
   ]
  },
  {
   "cell_type": "markdown",
   "id": "cfbdfb35",
   "metadata": {},
   "source": [
    "Начиная с 3 строки выделенного датафрейма (строка #20444) наблюдается значение общего трудового стажа 328728 дней (900 лет). Предположительно, случился программный сбой, и стаж был переведен в часы. Необходимо это исправить:"
   ]
  },
  {
   "cell_type": "code",
   "execution_count": 25,
   "id": "58d94313",
   "metadata": {},
   "outputs": [],
   "source": [
    "# функция для замены трудового стажа на дни по условию:\n",
    "def days_employed_replace(row):\n",
    "    days_employed = row['days_employed']\n",
    "    if days_employed > 300000:\n",
    "        return (days_employed / 24)\n",
    "    else:\n",
    "        return days_employed\n",
    "    \n",
    "# применение функции для замены трудового стажа на дни:\n",
    "df['days_employed'] = df.apply(days_employed_replace, axis=1)    "
   ]
  },
  {
   "cell_type": "markdown",
   "id": "46fa0489",
   "metadata": {},
   "source": [
    "Выполним проверку работы функции:"
   ]
  },
  {
   "cell_type": "code",
   "execution_count": 26,
   "id": "417ee2d8",
   "metadata": {},
   "outputs": [
    {
     "data": {
      "text/html": [
       "<div>\n",
       "<style scoped>\n",
       "    .dataframe tbody tr th:only-of-type {\n",
       "        vertical-align: middle;\n",
       "    }\n",
       "\n",
       "    .dataframe tbody tr th {\n",
       "        vertical-align: top;\n",
       "    }\n",
       "\n",
       "    .dataframe thead th {\n",
       "        text-align: right;\n",
       "    }\n",
       "</style>\n",
       "<table border=\"1\" class=\"dataframe\">\n",
       "  <thead>\n",
       "    <tr style=\"text-align: right;\">\n",
       "      <th></th>\n",
       "      <th>children</th>\n",
       "      <th>days_employed</th>\n",
       "      <th>dob_years</th>\n",
       "      <th>education</th>\n",
       "      <th>education_id</th>\n",
       "      <th>family_status</th>\n",
       "      <th>family_status_id</th>\n",
       "      <th>gender</th>\n",
       "      <th>income_type</th>\n",
       "      <th>debt</th>\n",
       "      <th>total_income</th>\n",
       "      <th>purpose</th>\n",
       "    </tr>\n",
       "  </thead>\n",
       "  <tbody>\n",
       "    <tr>\n",
       "      <th>4299</th>\n",
       "      <td>0</td>\n",
       "      <td>17615.563266</td>\n",
       "      <td>61</td>\n",
       "      <td>среднее</td>\n",
       "      <td>1</td>\n",
       "      <td>женат / замужем</td>\n",
       "      <td>0</td>\n",
       "      <td>F</td>\n",
       "      <td>компаньон</td>\n",
       "      <td>0</td>\n",
       "      <td>122560.741753</td>\n",
       "      <td>покупка жилья</td>\n",
       "    </tr>\n",
       "    <tr>\n",
       "      <th>16335</th>\n",
       "      <td>1</td>\n",
       "      <td>18388.949901</td>\n",
       "      <td>61</td>\n",
       "      <td>среднее</td>\n",
       "      <td>1</td>\n",
       "      <td>женат / замужем</td>\n",
       "      <td>0</td>\n",
       "      <td>F</td>\n",
       "      <td>сотрудник</td>\n",
       "      <td>0</td>\n",
       "      <td>186178.934089</td>\n",
       "      <td>операции с недвижимостью</td>\n",
       "    </tr>\n",
       "  </tbody>\n",
       "</table>\n",
       "</div>"
      ],
      "text/plain": [
       "       children  days_employed  dob_years education  education_id  \\\n",
       "4299          0   17615.563266         61   среднее             1   \n",
       "16335         1   18388.949901         61   среднее             1   \n",
       "\n",
       "         family_status  family_status_id gender income_type  debt  \\\n",
       "4299   женат / замужем                 0      F   компаньон     0   \n",
       "16335  женат / замужем                 0      F   сотрудник     0   \n",
       "\n",
       "        total_income                   purpose  \n",
       "4299   122560.741753             покупка жилья  \n",
       "16335  186178.934089  операции с недвижимостью  "
      ]
     },
     "execution_count": 26,
     "metadata": {},
     "output_type": "execute_result"
    }
   ],
   "source": [
    "df[df['days_employed'] > 17000].sort_values(by='days_employed')"
   ]
  },
  {
   "cell_type": "markdown",
   "id": "65d1cd4b",
   "metadata": {},
   "source": [
    "Наблюдаем, что больше нет аномально высоких значений трудового стажа. Также проверим строку #20444 вызвав атрибут loc: "
   ]
  },
  {
   "cell_type": "code",
   "execution_count": 27,
   "id": "79508fd7",
   "metadata": {},
   "outputs": [
    {
     "name": "stdout",
     "output_type": "stream",
     "text": [
      "Проверка успешная, 13697 равно 13697\n"
     ]
    }
   ],
   "source": [
    "# изначальное значение в строке #20444 равно 328728.720605, вручную разделим на 24:\n",
    "k_expected = 328728.720605 / 24\n",
    "# фактическое значение в строке #20444 после обработки функцией days_employed_replace():\n",
    "k_fact = df.loc[20444, 'days_employed']\n",
    "if round(k_expected) == round(k_fact):\n",
    "    print (f'Проверка успешная, {round(k_expected)} равно {round(k_fact)}')\n",
    "else:\n",
    "    print (f'Ошибка, {round(k_expected)} не равно {round(k_fact)}')\n"
   ]
  },
  {
   "cell_type": "markdown",
   "id": "037c9de4",
   "metadata": {},
   "source": [
    "Проверим датафрейм на пропущенные значения еще раз:"
   ]
  },
  {
   "cell_type": "code",
   "execution_count": 28,
   "id": "4aef07a0",
   "metadata": {},
   "outputs": [
    {
     "data": {
      "text/plain": [
       "children               0\n",
       "days_employed       2174\n",
       "dob_years              0\n",
       "education              0\n",
       "education_id           0\n",
       "family_status          0\n",
       "family_status_id       0\n",
       "gender                 0\n",
       "income_type            0\n",
       "debt                   0\n",
       "total_income           0\n",
       "purpose                0\n",
       "dtype: int64"
      ]
     },
     "execution_count": 28,
     "metadata": {},
     "output_type": "execute_result"
    }
   ],
   "source": [
    "df.isna().sum()"
   ]
  },
  {
   "cell_type": "markdown",
   "id": "58618a1f",
   "metadata": {},
   "source": [
    "Количество рабочих дней количественное значение. Пропуски в таких колонках обычно заполняют характерными значениями: средним арифметическим или медианой. В данном случае также лучше использовать медиану, ведь в данных могут быть выдающиеся значения, которые сместят среднее (разброс количества рабочих дней очень большой). Заполнять пропуски нулём или максимальным значением не стоит — такие значения нельзя назвать характерными. Заполним пропуски в стобце `days_employed` медианным значением:"
   ]
  },
  {
   "cell_type": "code",
   "execution_count": 29,
   "id": "d7bd6a2e",
   "metadata": {},
   "outputs": [
    {
     "data": {
      "text/plain": [
       "2194.220566878695"
      ]
     },
     "execution_count": 29,
     "metadata": {},
     "output_type": "execute_result"
    }
   ],
   "source": [
    "# рассчитаем медианное количество рабочих дней:\n",
    "days_employed_medium = df['days_employed'].median()\n",
    "days_employed_medium"
   ]
  },
  {
   "cell_type": "code",
   "execution_count": 30,
   "id": "395b6c7f",
   "metadata": {},
   "outputs": [
    {
     "data": {
      "text/plain": [
       "6.0115631969279315"
      ]
     },
     "execution_count": 30,
     "metadata": {},
     "output_type": "execute_result"
    }
   ],
   "source": [
    "# или количество трудового стажа в годах:\n",
    "days_employed_medium / 365"
   ]
  },
  {
   "cell_type": "markdown",
   "id": "8b923969",
   "metadata": {},
   "source": [
    "Трудовой стаж типичного потенциального заемщика - 6 лет."
   ]
  },
  {
   "cell_type": "code",
   "execution_count": 31,
   "id": "87718cab",
   "metadata": {},
   "outputs": [],
   "source": [
    "#заменим пропущенные значения в столбце 'days_employed' на полученное медианное значение:\n",
    "df['days_employed'] = df['days_employed'].fillna(days_employed_medium)"
   ]
  },
  {
   "cell_type": "markdown",
   "id": "c71e3529",
   "metadata": {},
   "source": [
    "Выполним проверку стобца `days_employed` на пропуски после замены:"
   ]
  },
  {
   "cell_type": "code",
   "execution_count": 32,
   "id": "42aa50c9",
   "metadata": {},
   "outputs": [
    {
     "data": {
      "text/plain": [
       "0"
      ]
     },
     "execution_count": 32,
     "metadata": {},
     "output_type": "execute_result"
    }
   ],
   "source": [
    "df['days_employed'].isna().sum()"
   ]
  },
  {
   "cell_type": "markdown",
   "id": "5244654a",
   "metadata": {},
   "source": [
    "Пропущенных значений в столбце `days_employed` больше нет."
   ]
  },
  {
   "cell_type": "markdown",
   "id": "06f1bd10",
   "metadata": {},
   "source": [
    "#### Проверка данных столбца 'dob_years'"
   ]
  },
  {
   "cell_type": "markdown",
   "id": "8b9c1470",
   "metadata": {},
   "source": [
    "Выполним проверку столбца `dob_years` на аномалии:"
   ]
  },
  {
   "cell_type": "code",
   "execution_count": 33,
   "id": "0a4869d7",
   "metadata": {},
   "outputs": [
    {
     "data": {
      "text/plain": [
       "dob_years\n",
       "0     101\n",
       "19     14\n",
       "20     51\n",
       "21    111\n",
       "22    183\n",
       "23    254\n",
       "24    264\n",
       "25    357\n",
       "26    408\n",
       "27    493\n",
       "28    503\n",
       "29    545\n",
       "30    540\n",
       "31    560\n",
       "32    510\n",
       "33    581\n",
       "34    603\n",
       "35    617\n",
       "36    555\n",
       "37    537\n",
       "38    598\n",
       "39    573\n",
       "40    609\n",
       "41    607\n",
       "42    597\n",
       "43    513\n",
       "44    547\n",
       "45    497\n",
       "46    475\n",
       "47    480\n",
       "48    538\n",
       "49    508\n",
       "50    514\n",
       "51    448\n",
       "52    484\n",
       "53    459\n",
       "54    479\n",
       "55    443\n",
       "56    487\n",
       "57    460\n",
       "58    461\n",
       "59    444\n",
       "60    377\n",
       "61    355\n",
       "62    352\n",
       "63    269\n",
       "64    265\n",
       "65    194\n",
       "66    183\n",
       "67    167\n",
       "68     99\n",
       "69     85\n",
       "70     65\n",
       "71     58\n",
       "72     33\n",
       "73      8\n",
       "74      6\n",
       "75      1\n",
       "Name: dob_years, dtype: int64"
      ]
     },
     "execution_count": 33,
     "metadata": {},
     "output_type": "execute_result"
    }
   ],
   "source": [
    "df.groupby('dob_years')['dob_years'].count()"
   ]
  },
  {
   "cell_type": "markdown",
   "id": "c559777d",
   "metadata": {},
   "source": [
    "У 101 клиента указан возраст 0 лет, скорее всего ошибка при заполнении данных. Пропусков не обнаружено. Предлагается заменить эти значения на средний возраст, т.е. применить метод mean()."
   ]
  },
  {
   "cell_type": "code",
   "execution_count": 34,
   "id": "fcde6578",
   "metadata": {},
   "outputs": [
    {
     "name": "stdout",
     "output_type": "stream",
     "text": [
      "Cредний возраст заявителя 43 года\n"
     ]
    }
   ],
   "source": [
    "# рассчитаем средний возраст:\n",
    "dob_years_mean = df['dob_years'].mean()\n",
    "# переведем в целое число:\n",
    "dob_years_mean = int(dob_years_mean)\n",
    "print(f'Cредний возраст заявителя {dob_years_mean} года')"
   ]
  },
  {
   "cell_type": "code",
   "execution_count": 35,
   "id": "ae5784ed",
   "metadata": {},
   "outputs": [],
   "source": [
    "# замена стандартным методом replace()\n",
    "df['dob_years'] = df['dob_years'].replace(0, dob_years_mean)"
   ]
  },
  {
   "cell_type": "code",
   "execution_count": 36,
   "id": "d717c0a4",
   "metadata": {},
   "outputs": [
    {
     "data": {
      "text/plain": [
       "dob_years\n",
       "19     14\n",
       "20     51\n",
       "21    111\n",
       "22    183\n",
       "23    254\n",
       "24    264\n",
       "25    357\n",
       "26    408\n",
       "27    493\n",
       "28    503\n",
       "29    545\n",
       "30    540\n",
       "31    560\n",
       "32    510\n",
       "33    581\n",
       "34    603\n",
       "35    617\n",
       "36    555\n",
       "37    537\n",
       "38    598\n",
       "39    573\n",
       "40    609\n",
       "41    607\n",
       "42    597\n",
       "43    614\n",
       "44    547\n",
       "45    497\n",
       "46    475\n",
       "47    480\n",
       "48    538\n",
       "49    508\n",
       "50    514\n",
       "51    448\n",
       "52    484\n",
       "53    459\n",
       "54    479\n",
       "55    443\n",
       "56    487\n",
       "57    460\n",
       "58    461\n",
       "59    444\n",
       "60    377\n",
       "61    355\n",
       "62    352\n",
       "63    269\n",
       "64    265\n",
       "65    194\n",
       "66    183\n",
       "67    167\n",
       "68     99\n",
       "69     85\n",
       "70     65\n",
       "71     58\n",
       "72     33\n",
       "73      8\n",
       "74      6\n",
       "75      1\n",
       "Name: dob_years, dtype: int64"
      ]
     },
     "execution_count": 36,
     "metadata": {},
     "output_type": "execute_result"
    }
   ],
   "source": [
    "# проверка замены \n",
    "df.groupby('dob_years')['dob_years'].count()"
   ]
  },
  {
   "cell_type": "markdown",
   "id": "b30b900b",
   "metadata": {},
   "source": [
    "Клиентов с возрастом 0 лет более нет в датафрейме, зато клиентов в возрасте 43 лет стало больше на 101 человека."
   ]
  },
  {
   "cell_type": "markdown",
   "id": "299a8845",
   "metadata": {},
   "source": [
    "#### Проверка данных столбца 'education_id'"
   ]
  },
  {
   "cell_type": "markdown",
   "id": "4d1aed46",
   "metadata": {},
   "source": [
    "Рассмотрим столбец `education_id`:"
   ]
  },
  {
   "cell_type": "code",
   "execution_count": 37,
   "id": "57fb58f1",
   "metadata": {},
   "outputs": [
    {
     "data": {
      "text/plain": [
       "1    15233\n",
       "0     5260\n",
       "2      744\n",
       "3      282\n",
       "4        6\n",
       "Name: education_id, dtype: int64"
      ]
     },
     "execution_count": 37,
     "metadata": {},
     "output_type": "execute_result"
    }
   ],
   "source": [
    "df['education_id'].value_counts()"
   ]
  },
  {
   "cell_type": "markdown",
   "id": "3d4f3cd9",
   "metadata": {},
   "source": [
    "Каких-либо сомнительных значений нет, это просто идентификаторы уровня образования."
   ]
  },
  {
   "cell_type": "markdown",
   "id": "2f41d45e",
   "metadata": {},
   "source": [
    "#### Проверка данных столбца 'family_status_id'"
   ]
  },
  {
   "cell_type": "markdown",
   "id": "22781170",
   "metadata": {},
   "source": [
    "Рассмотрим столбец `family_status_id`:"
   ]
  },
  {
   "cell_type": "code",
   "execution_count": 38,
   "id": "454dd791",
   "metadata": {},
   "outputs": [
    {
     "data": {
      "text/plain": [
       "0    12380\n",
       "1     4177\n",
       "4     2813\n",
       "3     1195\n",
       "2      960\n",
       "Name: family_status_id, dtype: int64"
      ]
     },
     "execution_count": 38,
     "metadata": {},
     "output_type": "execute_result"
    }
   ],
   "source": [
    "df['family_status_id'].value_counts()"
   ]
  },
  {
   "cell_type": "markdown",
   "id": "c3bcd0e6",
   "metadata": {},
   "source": [
    "Каких-либо сомнительных значений нет, это просто идентификаторы семейного положения."
   ]
  },
  {
   "cell_type": "markdown",
   "id": "e44f884f",
   "metadata": {},
   "source": [
    "#### Проверка данных столбца 'debt'"
   ]
  },
  {
   "cell_type": "markdown",
   "id": "e8ad72ce",
   "metadata": {},
   "source": [
    "Рассмотрим столбец `debt`:"
   ]
  },
  {
   "cell_type": "code",
   "execution_count": 39,
   "id": "9d9f45c4",
   "metadata": {},
   "outputs": [
    {
     "data": {
      "text/plain": [
       "0    19784\n",
       "1     1741\n",
       "Name: debt, dtype: int64"
      ]
     },
     "execution_count": 39,
     "metadata": {},
     "output_type": "execute_result"
    }
   ],
   "source": [
    "df['debt'].value_counts()"
   ]
  },
  {
   "cell_type": "markdown",
   "id": "9b53eb7c",
   "metadata": {},
   "source": [
    "Всего в столбце два значения - 0 и 1, что означает у клиента 'нет задолженности' и 'есть задолженность' соответственно."
   ]
  },
  {
   "cell_type": "markdown",
   "id": "8e98e71f",
   "metadata": {},
   "source": [
    "#### Проверка данных столбца 'total_income'"
   ]
  },
  {
   "cell_type": "markdown",
   "id": "4e3df7f8",
   "metadata": {},
   "source": [
    "Отсортируем столбец `total_income` по возрастанию дохода клиентов (ранее уже определяли минимальный и максимальный доход):"
   ]
  },
  {
   "cell_type": "code",
   "execution_count": 40,
   "id": "22d2ad85",
   "metadata": {},
   "outputs": [
    {
     "data": {
      "text/plain": [
       "14585    2.066726e+04\n",
       "13006    2.120528e+04\n",
       "16174    2.136765e+04\n",
       "1598     2.169510e+04\n",
       "14276    2.189561e+04\n",
       "             ...     \n",
       "17178    1.711309e+06\n",
       "20809    1.715018e+06\n",
       "9169     1.726276e+06\n",
       "19606    2.200852e+06\n",
       "12412    2.265604e+06\n",
       "Name: total_income, Length: 21525, dtype: float64"
      ]
     },
     "execution_count": 40,
     "metadata": {},
     "output_type": "execute_result"
    }
   ],
   "source": [
    "df['total_income'].sort_values()"
   ]
  },
  {
   "cell_type": "markdown",
   "id": "40de4559",
   "metadata": {},
   "source": [
    "Никаких явных отклонений от допустимых значений дохода не наблюдается. Однако считывать такие данные крайне неудобно, предлагается перевести тип данных в указанном столбце в целочисленный."
   ]
  },
  {
   "cell_type": "markdown",
   "id": "54fa9318",
   "metadata": {},
   "source": [
    "### Шаг 2.3. Изменение типов данных."
   ]
  },
  {
   "cell_type": "markdown",
   "id": "08d8f0bf",
   "metadata": {},
   "source": [
    "Заменим вещественный тип данных в столбце `total_income` на целочисленный:"
   ]
  },
  {
   "cell_type": "code",
   "execution_count": 41,
   "id": "785d4bb4",
   "metadata": {},
   "outputs": [
    {
     "data": {
      "text/plain": [
       "14585    2.066726e+04\n",
       "13006    2.120528e+04\n",
       "16174    2.136765e+04\n",
       "1598     2.169510e+04\n",
       "14276    2.189562e+04\n",
       "             ...     \n",
       "17178    1.711309e+06\n",
       "20809    1.715018e+06\n",
       "9169     1.726276e+06\n",
       "19606    2.200852e+06\n",
       "12412    2.265604e+06\n",
       "Name: total_income, Length: 21525, dtype: float32"
      ]
     },
     "execution_count": 41,
     "metadata": {},
     "output_type": "execute_result"
    }
   ],
   "source": [
    "# применим метод astype к столбцу 'total_income'\n",
    "df['total_income'] = df['total_income'].astype('float32')\n",
    "df['total_income'].sort_values()"
   ]
  },
  {
   "cell_type": "markdown",
   "id": "37500359",
   "metadata": {},
   "source": [
    "### Шаг 2.4. Удаление дубликатов."
   ]
  },
  {
   "cell_type": "markdown",
   "id": "60d1e4e9",
   "metadata": {},
   "source": [
    "Выполним обработку датафрейма на предмет удаления как явных, так и неявных дубликатов."
   ]
  },
  {
   "cell_type": "markdown",
   "id": "998f5c93",
   "metadata": {},
   "source": [
    "В первую очередь, необходимо проверить столбцы с типом данных `object` на неявные дубликаты с учетом регистра. Проверка потребуется для следующих столбцов: \n",
    "* `education`\n",
    "* `family_status`\n",
    "* `gender`\n",
    "* `income_type`\n",
    "* `purpose`"
   ]
  },
  {
   "cell_type": "markdown",
   "id": "97dfd608",
   "metadata": {},
   "source": [
    "#### Проверка дубликатов в столбце 'education'"
   ]
  },
  {
   "cell_type": "markdown",
   "id": "d35b81de",
   "metadata": {},
   "source": [
    "Рассмотрим столбец `education`:"
   ]
  },
  {
   "cell_type": "code",
   "execution_count": 42,
   "id": "d3df4757",
   "metadata": {},
   "outputs": [
    {
     "data": {
      "text/plain": [
       "среднее                13750\n",
       "высшее                  4718\n",
       "СРЕДНЕЕ                  772\n",
       "Среднее                  711\n",
       "неоконченное высшее      668\n",
       "ВЫСШЕЕ                   274\n",
       "Высшее                   268\n",
       "начальное                250\n",
       "Неоконченное высшее       47\n",
       "НЕОКОНЧЕННОЕ ВЫСШЕЕ       29\n",
       "НАЧАЛЬНОЕ                 17\n",
       "Начальное                 15\n",
       "ученая степень             4\n",
       "УЧЕНАЯ СТЕПЕНЬ             1\n",
       "Ученая степень             1\n",
       "Name: education, dtype: int64"
      ]
     },
     "execution_count": 42,
     "metadata": {},
     "output_type": "execute_result"
    }
   ],
   "source": [
    "df['education'].value_counts()"
   ]
  },
  {
   "cell_type": "markdown",
   "id": "b5fab47e",
   "metadata": {},
   "source": [
    "Есть несколько одинаковых строк, отличающихся регистром. Чтобы учесть такие дубликаты, все символы в строке привем к нижнему регистру вызовом метода str.lower() и перезапишем колонку `education`:  "
   ]
  },
  {
   "cell_type": "code",
   "execution_count": 43,
   "id": "aa3ea2f5",
   "metadata": {},
   "outputs": [
    {
     "data": {
      "text/plain": [
       "среднее                15233\n",
       "высшее                  5260\n",
       "неоконченное высшее      744\n",
       "начальное                282\n",
       "ученая степень             6\n",
       "Name: education, dtype: int64"
      ]
     },
     "execution_count": 43,
     "metadata": {},
     "output_type": "execute_result"
    }
   ],
   "source": [
    "df['education'] = df['education'].str.lower() \n",
    "df['education'].value_counts()"
   ]
  },
  {
   "cell_type": "markdown",
   "id": "fa631a9b",
   "metadata": {},
   "source": [
    "Больше всего людей со средним образованием, раза в три меньше людей с высшим."
   ]
  },
  {
   "cell_type": "markdown",
   "id": "8149e013",
   "metadata": {},
   "source": [
    "#### Проверка дубликатов в столбце 'family_status'"
   ]
  },
  {
   "cell_type": "markdown",
   "id": "789c3cf0",
   "metadata": {},
   "source": [
    "Рассмотрим столбец `family_status`:"
   ]
  },
  {
   "cell_type": "code",
   "execution_count": 44,
   "id": "3d1ab824",
   "metadata": {},
   "outputs": [
    {
     "data": {
      "text/plain": [
       "женат / замужем          12380\n",
       "гражданский брак          4177\n",
       "Не женат / не замужем     2813\n",
       "в разводе                 1195\n",
       "вдовец / вдова             960\n",
       "Name: family_status, dtype: int64"
      ]
     },
     "execution_count": 44,
     "metadata": {},
     "output_type": "execute_result"
    }
   ],
   "source": [
    "df['family_status'].value_counts()"
   ]
  },
  {
   "cell_type": "markdown",
   "id": "12181560",
   "metadata": {},
   "source": [
    "В целом дубликатов не наблюдается, но для единообразия приведем все к нижнему регистру:"
   ]
  },
  {
   "cell_type": "code",
   "execution_count": 45,
   "id": "4e5ec6ad",
   "metadata": {},
   "outputs": [
    {
     "data": {
      "text/plain": [
       "женат / замужем          12380\n",
       "гражданский брак          4177\n",
       "не женат / не замужем     2813\n",
       "в разводе                 1195\n",
       "вдовец / вдова             960\n",
       "Name: family_status, dtype: int64"
      ]
     },
     "execution_count": 45,
     "metadata": {},
     "output_type": "execute_result"
    }
   ],
   "source": [
    "df['family_status'] = df['family_status'].str.lower() \n",
    "df['family_status'].value_counts()"
   ]
  },
  {
   "cell_type": "markdown",
   "id": "88ce7172",
   "metadata": {},
   "source": [
    "#### Проверка дубликатов в столбце 'gender'"
   ]
  },
  {
   "cell_type": "markdown",
   "id": "fea260fd",
   "metadata": {},
   "source": [
    "Выполним проверку столбца `gender`:"
   ]
  },
  {
   "cell_type": "code",
   "execution_count": 46,
   "id": "84ded2b1",
   "metadata": {},
   "outputs": [
    {
     "data": {
      "text/plain": [
       "F      14236\n",
       "M       7288\n",
       "XNA        1\n",
       "Name: gender, dtype: int64"
      ]
     },
     "execution_count": 46,
     "metadata": {},
     "output_type": "execute_result"
    }
   ],
   "source": [
    "df['gender'].value_counts()"
   ]
  },
  {
   "cell_type": "markdown",
   "id": "eb3c43f4",
   "metadata": {},
   "source": [
    "Дубликатов также нет. Есть непонятный пол XNA в количестве одной штуки, на результаты исследования повлиять не должно. Ради интереса вызовем строку с таким полом."
   ]
  },
  {
   "cell_type": "code",
   "execution_count": 47,
   "id": "0421aa4e",
   "metadata": {},
   "outputs": [
    {
     "data": {
      "text/html": [
       "<div>\n",
       "<style scoped>\n",
       "    .dataframe tbody tr th:only-of-type {\n",
       "        vertical-align: middle;\n",
       "    }\n",
       "\n",
       "    .dataframe tbody tr th {\n",
       "        vertical-align: top;\n",
       "    }\n",
       "\n",
       "    .dataframe thead th {\n",
       "        text-align: right;\n",
       "    }\n",
       "</style>\n",
       "<table border=\"1\" class=\"dataframe\">\n",
       "  <thead>\n",
       "    <tr style=\"text-align: right;\">\n",
       "      <th></th>\n",
       "      <th>children</th>\n",
       "      <th>days_employed</th>\n",
       "      <th>dob_years</th>\n",
       "      <th>education</th>\n",
       "      <th>education_id</th>\n",
       "      <th>family_status</th>\n",
       "      <th>family_status_id</th>\n",
       "      <th>gender</th>\n",
       "      <th>income_type</th>\n",
       "      <th>debt</th>\n",
       "      <th>total_income</th>\n",
       "      <th>purpose</th>\n",
       "    </tr>\n",
       "  </thead>\n",
       "  <tbody>\n",
       "    <tr>\n",
       "      <th>10701</th>\n",
       "      <td>0</td>\n",
       "      <td>2358.600502</td>\n",
       "      <td>24</td>\n",
       "      <td>неоконченное высшее</td>\n",
       "      <td>2</td>\n",
       "      <td>гражданский брак</td>\n",
       "      <td>1</td>\n",
       "      <td>XNA</td>\n",
       "      <td>компаньон</td>\n",
       "      <td>0</td>\n",
       "      <td>203905.15625</td>\n",
       "      <td>покупка недвижимости</td>\n",
       "    </tr>\n",
       "  </tbody>\n",
       "</table>\n",
       "</div>"
      ],
      "text/plain": [
       "       children  days_employed  dob_years            education  education_id  \\\n",
       "10701         0    2358.600502         24  неоконченное высшее             2   \n",
       "\n",
       "          family_status  family_status_id gender income_type  debt  \\\n",
       "10701  гражданский брак                 1    XNA   компаньон     0   \n",
       "\n",
       "       total_income               purpose  \n",
       "10701  203905.15625  покупка недвижимости  "
      ]
     },
     "execution_count": 47,
     "metadata": {},
     "output_type": "execute_result"
    }
   ],
   "source": [
    "df[df['gender'] == 'XNA']"
   ]
  },
  {
   "cell_type": "markdown",
   "id": "572a3341",
   "metadata": {},
   "source": [
    "#### Проверка дубликатов в столбце 'income_type'"
   ]
  },
  {
   "cell_type": "markdown",
   "id": "ac2d814c",
   "metadata": {},
   "source": [
    "Выполним проверку столбца `income_type`:"
   ]
  },
  {
   "cell_type": "code",
   "execution_count": 48,
   "id": "22586a4b",
   "metadata": {},
   "outputs": [
    {
     "data": {
      "text/plain": [
       "сотрудник          11119\n",
       "компаньон           5085\n",
       "пенсионер           3856\n",
       "госслужащий         1459\n",
       "предприниматель        2\n",
       "безработный            2\n",
       "в декрете              1\n",
       "студент                1\n",
       "Name: income_type, dtype: int64"
      ]
     },
     "execution_count": 48,
     "metadata": {},
     "output_type": "execute_result"
    }
   ],
   "source": [
    "df['income_type'].value_counts()"
   ]
  },
  {
   "cell_type": "markdown",
   "id": "211ee6c4",
   "metadata": {},
   "source": [
    "Дубликатов нет, регистр нижний. Дальнейших действий не требуется."
   ]
  },
  {
   "cell_type": "markdown",
   "id": "69850873",
   "metadata": {},
   "source": [
    "#### Проверка дубликатов в столбце 'purpose'"
   ]
  },
  {
   "cell_type": "markdown",
   "id": "93731055",
   "metadata": {},
   "source": [
    "Выполним проверку столбца `purpose`:"
   ]
  },
  {
   "cell_type": "code",
   "execution_count": 49,
   "id": "214e9981",
   "metadata": {},
   "outputs": [
    {
     "data": {
      "text/plain": [
       "свадьба                                   797\n",
       "на проведение свадьбы                     777\n",
       "сыграть свадьбу                           774\n",
       "операции с недвижимостью                  676\n",
       "покупка коммерческой недвижимости         664\n",
       "покупка жилья для сдачи                   653\n",
       "операции с жильем                         653\n",
       "операции с коммерческой недвижимостью     651\n",
       "жилье                                     647\n",
       "покупка жилья                             647\n",
       "покупка жилья для семьи                   641\n",
       "строительство собственной недвижимости    635\n",
       "недвижимость                              634\n",
       "операции со своей недвижимостью           630\n",
       "строительство жилой недвижимости          626\n",
       "покупка недвижимости                      624\n",
       "покупка своего жилья                      620\n",
       "строительство недвижимости                620\n",
       "ремонт жилью                              612\n",
       "покупка жилой недвижимости                607\n",
       "на покупку своего автомобиля              505\n",
       "заняться высшим образованием              496\n",
       "автомобиль                                495\n",
       "сделка с подержанным автомобилем          489\n",
       "свой автомобиль                           480\n",
       "на покупку подержанного автомобиля        479\n",
       "автомобили                                478\n",
       "на покупку автомобиля                     472\n",
       "дополнительное образование                462\n",
       "приобретение автомобиля                   462\n",
       "сделка с автомобилем                      455\n",
       "высшее образование                        453\n",
       "образование                               447\n",
       "получение дополнительного образования     447\n",
       "получение образования                     443\n",
       "профильное образование                    436\n",
       "получение высшего образования             426\n",
       "заняться образованием                     412\n",
       "Name: purpose, dtype: int64"
      ]
     },
     "execution_count": 49,
     "metadata": {},
     "output_type": "execute_result"
    }
   ],
   "source": [
    "df['purpose'].value_counts()"
   ]
  },
  {
   "cell_type": "markdown",
   "id": "0db2015a",
   "metadata": {},
   "source": [
    "Довольно много разнообразных целей получения кредита, на мой взгляд возникает необходимость привести категории к единообразию."
   ]
  },
  {
   "cell_type": "markdown",
   "id": "69955a3a",
   "metadata": {},
   "source": [
    "#### Удаление явных дубликатов"
   ]
  },
  {
   "cell_type": "markdown",
   "id": "f023985b",
   "metadata": {},
   "source": [
    "После полной обработки данных необходимо проверить данные на явные дубликаты и удалить их. "
   ]
  },
  {
   "cell_type": "code",
   "execution_count": 50,
   "id": "588981eb",
   "metadata": {},
   "outputs": [
    {
     "data": {
      "text/plain": [
       "71"
      ]
     },
     "execution_count": 50,
     "metadata": {},
     "output_type": "execute_result"
    }
   ],
   "source": [
    "# подсчёт явных дубликатов\n",
    "df.duplicated().sum()"
   ]
  },
  {
   "cell_type": "markdown",
   "id": "cc5c439a",
   "metadata": {},
   "source": [
    "71 явный дубликат, который можно удалить путем применения специального метода `pandas`:"
   ]
  },
  {
   "cell_type": "code",
   "execution_count": 51,
   "id": "c11bf153",
   "metadata": {},
   "outputs": [],
   "source": [
    "# удаление явных дубликатов (с удалением старых индексов и формированием новых)\n",
    "df = df.drop_duplicates().reset_index(drop=True) "
   ]
  },
  {
   "cell_type": "code",
   "execution_count": 52,
   "id": "5cc5c79f",
   "metadata": {},
   "outputs": [
    {
     "data": {
      "text/plain": [
       "0"
      ]
     },
     "execution_count": 52,
     "metadata": {},
     "output_type": "execute_result"
    }
   ],
   "source": [
    "# проверка на отсутствие явных дубликатов\n",
    "df.duplicated().sum()"
   ]
  },
  {
   "cell_type": "markdown",
   "id": "a74777b8",
   "metadata": {},
   "source": [
    "Для удаления дубликатов использовалось несколько методов. Первый - использование функции drop_duplicates() для удаления явных дубликатов. Второй - вызов функции str.lower() для приведения категорий к нижнему регистру, т.к. заполняют как строчными, так и прописными буквами. Причиной появления таких дубликатов является скорее всего человеческий фактор, а также возможная недоработка со стороны разработчиков (можно сделать выпадающий список строгих категорий, а также принудительно переводить все сразу в нижний регистр)."
   ]
  },
  {
   "cell_type": "markdown",
   "id": "7bb10c05",
   "metadata": {},
   "source": [
    "### Шаг 2.5. Формирование дополнительных датафреймов словарей, декомпозиция исходного датафрейма."
   ]
  },
  {
   "cell_type": "markdown",
   "id": "411bcac2",
   "metadata": {},
   "source": [
    "Формирование датафрейма `education_dict`, который будет являться словарем для столбца `education`:"
   ]
  },
  {
   "cell_type": "code",
   "execution_count": 53,
   "id": "f0c7099a",
   "metadata": {},
   "outputs": [],
   "source": [
    "education_dict = df[['education_id', 'education']]"
   ]
  },
  {
   "cell_type": "markdown",
   "id": "1f1f9a0b",
   "metadata": {},
   "source": [
    "Выведем таблицу, в которой `education_id` соответствует `education`"
   ]
  },
  {
   "cell_type": "code",
   "execution_count": 54,
   "id": "970f970a",
   "metadata": {},
   "outputs": [
    {
     "data": {
      "text/html": [
       "<div>\n",
       "<style scoped>\n",
       "    .dataframe tbody tr th:only-of-type {\n",
       "        vertical-align: middle;\n",
       "    }\n",
       "\n",
       "    .dataframe tbody tr th {\n",
       "        vertical-align: top;\n",
       "    }\n",
       "\n",
       "    .dataframe thead th {\n",
       "        text-align: right;\n",
       "    }\n",
       "</style>\n",
       "<table border=\"1\" class=\"dataframe\">\n",
       "  <thead>\n",
       "    <tr style=\"text-align: right;\">\n",
       "      <th></th>\n",
       "      <th>education_id</th>\n",
       "      <th>education</th>\n",
       "    </tr>\n",
       "  </thead>\n",
       "  <tbody>\n",
       "    <tr>\n",
       "      <th>0</th>\n",
       "      <td>0</td>\n",
       "      <td>высшее</td>\n",
       "    </tr>\n",
       "    <tr>\n",
       "      <th>1</th>\n",
       "      <td>1</td>\n",
       "      <td>среднее</td>\n",
       "    </tr>\n",
       "    <tr>\n",
       "      <th>2</th>\n",
       "      <td>2</td>\n",
       "      <td>неоконченное высшее</td>\n",
       "    </tr>\n",
       "    <tr>\n",
       "      <th>3</th>\n",
       "      <td>3</td>\n",
       "      <td>начальное</td>\n",
       "    </tr>\n",
       "    <tr>\n",
       "      <th>4</th>\n",
       "      <td>4</td>\n",
       "      <td>ученая степень</td>\n",
       "    </tr>\n",
       "  </tbody>\n",
       "</table>\n",
       "</div>"
      ],
      "text/plain": [
       "   education_id            education\n",
       "0             0               высшее\n",
       "1             1              среднее\n",
       "2             2  неоконченное высшее\n",
       "3             3            начальное\n",
       "4             4       ученая степень"
      ]
     },
     "execution_count": 54,
     "metadata": {},
     "output_type": "execute_result"
    }
   ],
   "source": [
    "education_dict_desc = education_dict.drop_duplicates().reset_index(drop=True)\n",
    "education_dict_desc"
   ]
  },
  {
   "cell_type": "markdown",
   "id": "2968b4b2",
   "metadata": {},
   "source": [
    "Формирование датафрейма `family_status_dict`, который будет являться словарем для столбца `family_status`:"
   ]
  },
  {
   "cell_type": "code",
   "execution_count": 55,
   "id": "041b7f2e",
   "metadata": {},
   "outputs": [],
   "source": [
    "family_status_dict = df[['family_status_id', 'family_status']]"
   ]
  },
  {
   "cell_type": "markdown",
   "id": "1954a389",
   "metadata": {},
   "source": [
    "Выведем таблицу, в которой `family_status_id` соответствует `family_status`"
   ]
  },
  {
   "cell_type": "code",
   "execution_count": 56,
   "id": "26db8767",
   "metadata": {},
   "outputs": [
    {
     "data": {
      "text/html": [
       "<div>\n",
       "<style scoped>\n",
       "    .dataframe tbody tr th:only-of-type {\n",
       "        vertical-align: middle;\n",
       "    }\n",
       "\n",
       "    .dataframe tbody tr th {\n",
       "        vertical-align: top;\n",
       "    }\n",
       "\n",
       "    .dataframe thead th {\n",
       "        text-align: right;\n",
       "    }\n",
       "</style>\n",
       "<table border=\"1\" class=\"dataframe\">\n",
       "  <thead>\n",
       "    <tr style=\"text-align: right;\">\n",
       "      <th></th>\n",
       "      <th>family_status_id</th>\n",
       "      <th>family_status</th>\n",
       "    </tr>\n",
       "  </thead>\n",
       "  <tbody>\n",
       "    <tr>\n",
       "      <th>0</th>\n",
       "      <td>0</td>\n",
       "      <td>женат / замужем</td>\n",
       "    </tr>\n",
       "    <tr>\n",
       "      <th>1</th>\n",
       "      <td>1</td>\n",
       "      <td>гражданский брак</td>\n",
       "    </tr>\n",
       "    <tr>\n",
       "      <th>2</th>\n",
       "      <td>2</td>\n",
       "      <td>вдовец / вдова</td>\n",
       "    </tr>\n",
       "    <tr>\n",
       "      <th>3</th>\n",
       "      <td>3</td>\n",
       "      <td>в разводе</td>\n",
       "    </tr>\n",
       "    <tr>\n",
       "      <th>4</th>\n",
       "      <td>4</td>\n",
       "      <td>не женат / не замужем</td>\n",
       "    </tr>\n",
       "  </tbody>\n",
       "</table>\n",
       "</div>"
      ],
      "text/plain": [
       "   family_status_id          family_status\n",
       "0                 0        женат / замужем\n",
       "1                 1       гражданский брак\n",
       "2                 2         вдовец / вдова\n",
       "3                 3              в разводе\n",
       "4                 4  не женат / не замужем"
      ]
     },
     "execution_count": 56,
     "metadata": {},
     "output_type": "execute_result"
    }
   ],
   "source": [
    "family_status_dict_desc = family_status_dict.drop_duplicates().reset_index(drop=True)\n",
    "family_status_dict_desc"
   ]
  },
  {
   "cell_type": "markdown",
   "id": "ce4a8c8e",
   "metadata": {},
   "source": [
    "Удалим из исходного датафрейма столбцы `education` и `family_status`, оставив только их идентификаторы: `education_id` и `family_status_id`. В обновленном датафрейме будем обращаться не к удаленным текстовым строкам, а к их числовым обозначениям, что позволит ускорить обработку данных и упростит визуальную работу с таблицей."
   ]
  },
  {
   "cell_type": "code",
   "execution_count": 57,
   "id": "c5d9bc94",
   "metadata": {},
   "outputs": [
    {
     "data": {
      "text/html": [
       "<div>\n",
       "<style scoped>\n",
       "    .dataframe tbody tr th:only-of-type {\n",
       "        vertical-align: middle;\n",
       "    }\n",
       "\n",
       "    .dataframe tbody tr th {\n",
       "        vertical-align: top;\n",
       "    }\n",
       "\n",
       "    .dataframe thead th {\n",
       "        text-align: right;\n",
       "    }\n",
       "</style>\n",
       "<table border=\"1\" class=\"dataframe\">\n",
       "  <thead>\n",
       "    <tr style=\"text-align: right;\">\n",
       "      <th></th>\n",
       "      <th>children</th>\n",
       "      <th>days_employed</th>\n",
       "      <th>dob_years</th>\n",
       "      <th>education_id</th>\n",
       "      <th>family_status_id</th>\n",
       "      <th>gender</th>\n",
       "      <th>income_type</th>\n",
       "      <th>debt</th>\n",
       "      <th>total_income</th>\n",
       "      <th>purpose</th>\n",
       "    </tr>\n",
       "  </thead>\n",
       "  <tbody>\n",
       "    <tr>\n",
       "      <th>0</th>\n",
       "      <td>1</td>\n",
       "      <td>8437.673028</td>\n",
       "      <td>42</td>\n",
       "      <td>0</td>\n",
       "      <td>0</td>\n",
       "      <td>F</td>\n",
       "      <td>сотрудник</td>\n",
       "      <td>0</td>\n",
       "      <td>253875.640625</td>\n",
       "      <td>покупка жилья</td>\n",
       "    </tr>\n",
       "    <tr>\n",
       "      <th>1</th>\n",
       "      <td>1</td>\n",
       "      <td>4024.803754</td>\n",
       "      <td>36</td>\n",
       "      <td>1</td>\n",
       "      <td>0</td>\n",
       "      <td>F</td>\n",
       "      <td>сотрудник</td>\n",
       "      <td>0</td>\n",
       "      <td>112080.015625</td>\n",
       "      <td>приобретение автомобиля</td>\n",
       "    </tr>\n",
       "    <tr>\n",
       "      <th>2</th>\n",
       "      <td>0</td>\n",
       "      <td>5623.422610</td>\n",
       "      <td>33</td>\n",
       "      <td>1</td>\n",
       "      <td>0</td>\n",
       "      <td>M</td>\n",
       "      <td>сотрудник</td>\n",
       "      <td>0</td>\n",
       "      <td>145885.953125</td>\n",
       "      <td>покупка жилья</td>\n",
       "    </tr>\n",
       "    <tr>\n",
       "      <th>3</th>\n",
       "      <td>3</td>\n",
       "      <td>4124.747207</td>\n",
       "      <td>32</td>\n",
       "      <td>1</td>\n",
       "      <td>0</td>\n",
       "      <td>M</td>\n",
       "      <td>сотрудник</td>\n",
       "      <td>0</td>\n",
       "      <td>267628.562500</td>\n",
       "      <td>дополнительное образование</td>\n",
       "    </tr>\n",
       "    <tr>\n",
       "      <th>4</th>\n",
       "      <td>0</td>\n",
       "      <td>14177.753002</td>\n",
       "      <td>53</td>\n",
       "      <td>1</td>\n",
       "      <td>1</td>\n",
       "      <td>F</td>\n",
       "      <td>пенсионер</td>\n",
       "      <td>0</td>\n",
       "      <td>158616.078125</td>\n",
       "      <td>сыграть свадьбу</td>\n",
       "    </tr>\n",
       "    <tr>\n",
       "      <th>5</th>\n",
       "      <td>0</td>\n",
       "      <td>926.185831</td>\n",
       "      <td>27</td>\n",
       "      <td>0</td>\n",
       "      <td>1</td>\n",
       "      <td>M</td>\n",
       "      <td>компаньон</td>\n",
       "      <td>0</td>\n",
       "      <td>255763.562500</td>\n",
       "      <td>покупка жилья</td>\n",
       "    </tr>\n",
       "    <tr>\n",
       "      <th>6</th>\n",
       "      <td>0</td>\n",
       "      <td>2879.202052</td>\n",
       "      <td>43</td>\n",
       "      <td>0</td>\n",
       "      <td>0</td>\n",
       "      <td>F</td>\n",
       "      <td>компаньон</td>\n",
       "      <td>0</td>\n",
       "      <td>240525.968750</td>\n",
       "      <td>операции с жильем</td>\n",
       "    </tr>\n",
       "    <tr>\n",
       "      <th>7</th>\n",
       "      <td>0</td>\n",
       "      <td>152.779569</td>\n",
       "      <td>50</td>\n",
       "      <td>1</td>\n",
       "      <td>0</td>\n",
       "      <td>M</td>\n",
       "      <td>сотрудник</td>\n",
       "      <td>0</td>\n",
       "      <td>135823.937500</td>\n",
       "      <td>образование</td>\n",
       "    </tr>\n",
       "    <tr>\n",
       "      <th>8</th>\n",
       "      <td>2</td>\n",
       "      <td>6929.865299</td>\n",
       "      <td>35</td>\n",
       "      <td>0</td>\n",
       "      <td>1</td>\n",
       "      <td>F</td>\n",
       "      <td>сотрудник</td>\n",
       "      <td>0</td>\n",
       "      <td>95856.835938</td>\n",
       "      <td>на проведение свадьбы</td>\n",
       "    </tr>\n",
       "    <tr>\n",
       "      <th>9</th>\n",
       "      <td>0</td>\n",
       "      <td>2188.756445</td>\n",
       "      <td>41</td>\n",
       "      <td>1</td>\n",
       "      <td>0</td>\n",
       "      <td>M</td>\n",
       "      <td>сотрудник</td>\n",
       "      <td>0</td>\n",
       "      <td>144425.937500</td>\n",
       "      <td>покупка жилья для семьи</td>\n",
       "    </tr>\n",
       "  </tbody>\n",
       "</table>\n",
       "</div>"
      ],
      "text/plain": [
       "   children  days_employed  dob_years  education_id  family_status_id gender  \\\n",
       "0         1    8437.673028         42             0                 0      F   \n",
       "1         1    4024.803754         36             1                 0      F   \n",
       "2         0    5623.422610         33             1                 0      M   \n",
       "3         3    4124.747207         32             1                 0      M   \n",
       "4         0   14177.753002         53             1                 1      F   \n",
       "5         0     926.185831         27             0                 1      M   \n",
       "6         0    2879.202052         43             0                 0      F   \n",
       "7         0     152.779569         50             1                 0      M   \n",
       "8         2    6929.865299         35             0                 1      F   \n",
       "9         0    2188.756445         41             1                 0      M   \n",
       "\n",
       "  income_type  debt   total_income                     purpose  \n",
       "0   сотрудник     0  253875.640625               покупка жилья  \n",
       "1   сотрудник     0  112080.015625     приобретение автомобиля  \n",
       "2   сотрудник     0  145885.953125               покупка жилья  \n",
       "3   сотрудник     0  267628.562500  дополнительное образование  \n",
       "4   пенсионер     0  158616.078125             сыграть свадьбу  \n",
       "5   компаньон     0  255763.562500               покупка жилья  \n",
       "6   компаньон     0  240525.968750           операции с жильем  \n",
       "7   сотрудник     0  135823.937500                 образование  \n",
       "8   сотрудник     0   95856.835938       на проведение свадьбы  \n",
       "9   сотрудник     0  144425.937500     покупка жилья для семьи  "
      ]
     },
     "execution_count": 57,
     "metadata": {},
     "output_type": "execute_result"
    }
   ],
   "source": [
    "df = df.drop(['education', 'family_status'], axis='columns')\n",
    "df.head(10)"
   ]
  },
  {
   "cell_type": "markdown",
   "id": "ee746778",
   "metadata": {},
   "source": [
    "### Шаг 2.6. Категоризация дохода."
   ]
  },
  {
   "cell_type": "markdown",
   "id": "7a0d7d20",
   "metadata": {},
   "source": [
    "Формирование столбца `total_income_category` с категориями по доходу получателей кредита:\n",
    "* 0–30000 — 'E';\n",
    "* 30001–50000 — 'D';\n",
    "* 50001–200000 — 'C';\n",
    "* 200001–1000000 — 'B';\n",
    "* 1000001 и выше — 'A'."
   ]
  },
  {
   "cell_type": "code",
   "execution_count": 58,
   "id": "20cf48c0",
   "metadata": {},
   "outputs": [],
   "source": [
    "# функция для определения категории по доходу:\n",
    "def total_income_category_group(total_income):\n",
    "    if total_income <= 30000:\n",
    "        return('E')\n",
    "    elif total_income >= 30001 and total_income <=50000:\n",
    "        return('D')\n",
    "    elif total_income >= 50001 and total_income <=200000:\n",
    "        return('C')\n",
    "    elif total_income >= 200001 and total_income <=1000000:\n",
    "        return('B')\n",
    "    elif total_income >= 1000001:\n",
    "        return('A')"
   ]
  },
  {
   "cell_type": "code",
   "execution_count": 59,
   "id": "503dd46c",
   "metadata": {},
   "outputs": [],
   "source": [
    "# добавление нового столбца с категориями доходов 'total_income_category':\n",
    "df['total_income_category'] = df['total_income'].apply(total_income_category_group)"
   ]
  },
  {
   "cell_type": "markdown",
   "id": "19fcdab7",
   "metadata": {},
   "source": [
    "Выведем первые 10 строк обновленного датафрейма"
   ]
  },
  {
   "cell_type": "code",
   "execution_count": 60,
   "id": "0febc8c4",
   "metadata": {},
   "outputs": [
    {
     "data": {
      "text/html": [
       "<div>\n",
       "<style scoped>\n",
       "    .dataframe tbody tr th:only-of-type {\n",
       "        vertical-align: middle;\n",
       "    }\n",
       "\n",
       "    .dataframe tbody tr th {\n",
       "        vertical-align: top;\n",
       "    }\n",
       "\n",
       "    .dataframe thead th {\n",
       "        text-align: right;\n",
       "    }\n",
       "</style>\n",
       "<table border=\"1\" class=\"dataframe\">\n",
       "  <thead>\n",
       "    <tr style=\"text-align: right;\">\n",
       "      <th></th>\n",
       "      <th>children</th>\n",
       "      <th>days_employed</th>\n",
       "      <th>dob_years</th>\n",
       "      <th>education_id</th>\n",
       "      <th>family_status_id</th>\n",
       "      <th>gender</th>\n",
       "      <th>income_type</th>\n",
       "      <th>debt</th>\n",
       "      <th>total_income</th>\n",
       "      <th>purpose</th>\n",
       "      <th>total_income_category</th>\n",
       "    </tr>\n",
       "  </thead>\n",
       "  <tbody>\n",
       "    <tr>\n",
       "      <th>0</th>\n",
       "      <td>1</td>\n",
       "      <td>8437.673028</td>\n",
       "      <td>42</td>\n",
       "      <td>0</td>\n",
       "      <td>0</td>\n",
       "      <td>F</td>\n",
       "      <td>сотрудник</td>\n",
       "      <td>0</td>\n",
       "      <td>253875.640625</td>\n",
       "      <td>покупка жилья</td>\n",
       "      <td>B</td>\n",
       "    </tr>\n",
       "    <tr>\n",
       "      <th>1</th>\n",
       "      <td>1</td>\n",
       "      <td>4024.803754</td>\n",
       "      <td>36</td>\n",
       "      <td>1</td>\n",
       "      <td>0</td>\n",
       "      <td>F</td>\n",
       "      <td>сотрудник</td>\n",
       "      <td>0</td>\n",
       "      <td>112080.015625</td>\n",
       "      <td>приобретение автомобиля</td>\n",
       "      <td>C</td>\n",
       "    </tr>\n",
       "    <tr>\n",
       "      <th>2</th>\n",
       "      <td>0</td>\n",
       "      <td>5623.422610</td>\n",
       "      <td>33</td>\n",
       "      <td>1</td>\n",
       "      <td>0</td>\n",
       "      <td>M</td>\n",
       "      <td>сотрудник</td>\n",
       "      <td>0</td>\n",
       "      <td>145885.953125</td>\n",
       "      <td>покупка жилья</td>\n",
       "      <td>C</td>\n",
       "    </tr>\n",
       "    <tr>\n",
       "      <th>3</th>\n",
       "      <td>3</td>\n",
       "      <td>4124.747207</td>\n",
       "      <td>32</td>\n",
       "      <td>1</td>\n",
       "      <td>0</td>\n",
       "      <td>M</td>\n",
       "      <td>сотрудник</td>\n",
       "      <td>0</td>\n",
       "      <td>267628.562500</td>\n",
       "      <td>дополнительное образование</td>\n",
       "      <td>B</td>\n",
       "    </tr>\n",
       "    <tr>\n",
       "      <th>4</th>\n",
       "      <td>0</td>\n",
       "      <td>14177.753002</td>\n",
       "      <td>53</td>\n",
       "      <td>1</td>\n",
       "      <td>1</td>\n",
       "      <td>F</td>\n",
       "      <td>пенсионер</td>\n",
       "      <td>0</td>\n",
       "      <td>158616.078125</td>\n",
       "      <td>сыграть свадьбу</td>\n",
       "      <td>C</td>\n",
       "    </tr>\n",
       "    <tr>\n",
       "      <th>5</th>\n",
       "      <td>0</td>\n",
       "      <td>926.185831</td>\n",
       "      <td>27</td>\n",
       "      <td>0</td>\n",
       "      <td>1</td>\n",
       "      <td>M</td>\n",
       "      <td>компаньон</td>\n",
       "      <td>0</td>\n",
       "      <td>255763.562500</td>\n",
       "      <td>покупка жилья</td>\n",
       "      <td>B</td>\n",
       "    </tr>\n",
       "    <tr>\n",
       "      <th>6</th>\n",
       "      <td>0</td>\n",
       "      <td>2879.202052</td>\n",
       "      <td>43</td>\n",
       "      <td>0</td>\n",
       "      <td>0</td>\n",
       "      <td>F</td>\n",
       "      <td>компаньон</td>\n",
       "      <td>0</td>\n",
       "      <td>240525.968750</td>\n",
       "      <td>операции с жильем</td>\n",
       "      <td>B</td>\n",
       "    </tr>\n",
       "    <tr>\n",
       "      <th>7</th>\n",
       "      <td>0</td>\n",
       "      <td>152.779569</td>\n",
       "      <td>50</td>\n",
       "      <td>1</td>\n",
       "      <td>0</td>\n",
       "      <td>M</td>\n",
       "      <td>сотрудник</td>\n",
       "      <td>0</td>\n",
       "      <td>135823.937500</td>\n",
       "      <td>образование</td>\n",
       "      <td>C</td>\n",
       "    </tr>\n",
       "    <tr>\n",
       "      <th>8</th>\n",
       "      <td>2</td>\n",
       "      <td>6929.865299</td>\n",
       "      <td>35</td>\n",
       "      <td>0</td>\n",
       "      <td>1</td>\n",
       "      <td>F</td>\n",
       "      <td>сотрудник</td>\n",
       "      <td>0</td>\n",
       "      <td>95856.835938</td>\n",
       "      <td>на проведение свадьбы</td>\n",
       "      <td>C</td>\n",
       "    </tr>\n",
       "    <tr>\n",
       "      <th>9</th>\n",
       "      <td>0</td>\n",
       "      <td>2188.756445</td>\n",
       "      <td>41</td>\n",
       "      <td>1</td>\n",
       "      <td>0</td>\n",
       "      <td>M</td>\n",
       "      <td>сотрудник</td>\n",
       "      <td>0</td>\n",
       "      <td>144425.937500</td>\n",
       "      <td>покупка жилья для семьи</td>\n",
       "      <td>C</td>\n",
       "    </tr>\n",
       "  </tbody>\n",
       "</table>\n",
       "</div>"
      ],
      "text/plain": [
       "   children  days_employed  dob_years  education_id  family_status_id gender  \\\n",
       "0         1    8437.673028         42             0                 0      F   \n",
       "1         1    4024.803754         36             1                 0      F   \n",
       "2         0    5623.422610         33             1                 0      M   \n",
       "3         3    4124.747207         32             1                 0      M   \n",
       "4         0   14177.753002         53             1                 1      F   \n",
       "5         0     926.185831         27             0                 1      M   \n",
       "6         0    2879.202052         43             0                 0      F   \n",
       "7         0     152.779569         50             1                 0      M   \n",
       "8         2    6929.865299         35             0                 1      F   \n",
       "9         0    2188.756445         41             1                 0      M   \n",
       "\n",
       "  income_type  debt   total_income                     purpose  \\\n",
       "0   сотрудник     0  253875.640625               покупка жилья   \n",
       "1   сотрудник     0  112080.015625     приобретение автомобиля   \n",
       "2   сотрудник     0  145885.953125               покупка жилья   \n",
       "3   сотрудник     0  267628.562500  дополнительное образование   \n",
       "4   пенсионер     0  158616.078125             сыграть свадьбу   \n",
       "5   компаньон     0  255763.562500               покупка жилья   \n",
       "6   компаньон     0  240525.968750           операции с жильем   \n",
       "7   сотрудник     0  135823.937500                 образование   \n",
       "8   сотрудник     0   95856.835938       на проведение свадьбы   \n",
       "9   сотрудник     0  144425.937500     покупка жилья для семьи   \n",
       "\n",
       "  total_income_category  \n",
       "0                     B  \n",
       "1                     C  \n",
       "2                     C  \n",
       "3                     B  \n",
       "4                     C  \n",
       "5                     B  \n",
       "6                     B  \n",
       "7                     C  \n",
       "8                     C  \n",
       "9                     C  "
      ]
     },
     "execution_count": 60,
     "metadata": {},
     "output_type": "execute_result"
    }
   ],
   "source": [
    "df.head(10)"
   ]
  },
  {
   "cell_type": "markdown",
   "id": "dd74e5f9",
   "metadata": {},
   "source": [
    "### Шаг 2.7. Категоризация целей кредита."
   ]
  },
  {
   "cell_type": "markdown",
   "id": "7acc9a28",
   "metadata": {},
   "source": [
    "Как было указано раннее, в столбце `purpose` множество разнообразных целей кредита, которые нуждаются в строгой категоризации.\n",
    "Необходимо сформировать новый столбец `purpose_category` со следующими категориями:\n",
    "* операции с автомобилем\n",
    "* операции с недвижимостью\n",
    "* проведение свадьбы\n",
    "* получение образования\n",
    "\n",
    "Чтобы создать новый столбец, напишем функцию `purpose_category_group()` с параметром `row`.\n",
    "Функция должна заменить цели кредита из столбца `purpose` на указанные выше строгие категории в новом столбце `purpose_category`."
   ]
  },
  {
   "cell_type": "code",
   "execution_count": 61,
   "id": "9795278f",
   "metadata": {},
   "outputs": [
    {
     "data": {
      "text/plain": [
       "свадьба                                   791\n",
       "на проведение свадьбы                     768\n",
       "сыграть свадьбу                           765\n",
       "операции с недвижимостью                  675\n",
       "покупка коммерческой недвижимости         661\n",
       "операции с жильем                         652\n",
       "покупка жилья для сдачи                   651\n",
       "операции с коммерческой недвижимостью     650\n",
       "жилье                                     646\n",
       "покупка жилья                             646\n",
       "покупка жилья для семьи                   638\n",
       "строительство собственной недвижимости    635\n",
       "недвижимость                              633\n",
       "операции со своей недвижимостью           627\n",
       "строительство жилой недвижимости          624\n",
       "покупка недвижимости                      621\n",
       "покупка своего жилья                      620\n",
       "строительство недвижимости                619\n",
       "ремонт жилью                              607\n",
       "покупка жилой недвижимости                606\n",
       "на покупку своего автомобиля              505\n",
       "заняться высшим образованием              496\n",
       "автомобиль                                494\n",
       "сделка с подержанным автомобилем          486\n",
       "автомобили                                478\n",
       "на покупку подержанного автомобиля        478\n",
       "свой автомобиль                           478\n",
       "на покупку автомобиля                     471\n",
       "приобретение автомобиля                   461\n",
       "дополнительное образование                460\n",
       "сделка с автомобилем                      455\n",
       "высшее образование                        452\n",
       "образование                               447\n",
       "получение дополнительного образования     446\n",
       "получение образования                     442\n",
       "профильное образование                    436\n",
       "получение высшего образования             426\n",
       "заняться образованием                     408\n",
       "Name: purpose, dtype: int64"
      ]
     },
     "execution_count": 61,
     "metadata": {},
     "output_type": "execute_result"
    }
   ],
   "source": [
    "# просмотр целей кредита для внесения в функцию purpose_category_group(row):\n",
    "df['purpose'].value_counts()"
   ]
  },
  {
   "cell_type": "code",
   "execution_count": 62,
   "id": "a3cfb509",
   "metadata": {},
   "outputs": [],
   "source": [
    "# функция для замены целей получения кредита на строгие категории:\n",
    "def purpose_category_group(row):\n",
    "    purpose = row['purpose']\n",
    "    if 'авто' in purpose:\n",
    "        return 'операции с автомобилем'\n",
    "    elif 'свадьб' in purpose:\n",
    "        return 'проведение свадьбы'\n",
    "    elif 'образ' in purpose:\n",
    "        return 'получение образования'\n",
    "    else:\n",
    "        return 'операции с недвижимостью'"
   ]
  },
  {
   "cell_type": "code",
   "execution_count": 63,
   "id": "33826330",
   "metadata": {},
   "outputs": [],
   "source": [
    "# применение функции для создания нового столбца со строгими категориями целей кредита:\n",
    "df['purpose_category'] = df.apply(purpose_category_group, axis=1)"
   ]
  },
  {
   "cell_type": "code",
   "execution_count": 64,
   "id": "95ad061e",
   "metadata": {},
   "outputs": [
    {
     "data": {
      "text/plain": [
       "операции с недвижимостью    10811\n",
       "операции с автомобилем       4306\n",
       "получение образования        4013\n",
       "проведение свадьбы           2324\n",
       "Name: purpose_category, dtype: int64"
      ]
     },
     "execution_count": 64,
     "metadata": {},
     "output_type": "execute_result"
    }
   ],
   "source": [
    "# проверка столбца 'purpose_category'\n",
    "df['purpose_category'].value_counts()"
   ]
  },
  {
   "cell_type": "markdown",
   "id": "a4cc554f",
   "metadata": {},
   "source": [
    "### Ответы на вопросы."
   ]
  },
  {
   "cell_type": "markdown",
   "id": "971f33d1",
   "metadata": {},
   "source": [
    "##### Вопрос 1: Есть ли зависимость между количеством детей и возвратом кредита в срок?"
   ]
  },
  {
   "cell_type": "markdown",
   "id": "6496ea4d",
   "metadata": {},
   "source": [
    "Подготовим сводную таблицу, в которой сгруппируем данные по количеству детей (index='children'), по наличию задолженностей (columns='debt') и подсчитаем количество строк в произвольном столбце путем применения функции count():"
   ]
  },
  {
   "cell_type": "code",
   "execution_count": 65,
   "id": "9d04310c",
   "metadata": {},
   "outputs": [],
   "source": [
    "children_pivot = df.pivot_table(index='children', columns='debt', values='dob_years', aggfunc='count')"
   ]
  },
  {
   "cell_type": "code",
   "execution_count": 66,
   "id": "99af7d3f",
   "metadata": {},
   "outputs": [
    {
     "data": {
      "text/html": [
       "<div>\n",
       "<style scoped>\n",
       "    .dataframe tbody tr th:only-of-type {\n",
       "        vertical-align: middle;\n",
       "    }\n",
       "\n",
       "    .dataframe tbody tr th {\n",
       "        vertical-align: top;\n",
       "    }\n",
       "\n",
       "    .dataframe thead th {\n",
       "        text-align: right;\n",
       "    }\n",
       "</style>\n",
       "<table border=\"1\" class=\"dataframe\">\n",
       "  <thead>\n",
       "    <tr style=\"text-align: right;\">\n",
       "      <th>debt</th>\n",
       "      <th>0</th>\n",
       "      <th>1</th>\n",
       "    </tr>\n",
       "    <tr>\n",
       "      <th>children</th>\n",
       "      <th></th>\n",
       "      <th></th>\n",
       "    </tr>\n",
       "  </thead>\n",
       "  <tbody>\n",
       "    <tr>\n",
       "      <th>0</th>\n",
       "      <td>13028.0</td>\n",
       "      <td>1063.0</td>\n",
       "    </tr>\n",
       "    <tr>\n",
       "      <th>1</th>\n",
       "      <td>4410.0</td>\n",
       "      <td>445.0</td>\n",
       "    </tr>\n",
       "    <tr>\n",
       "      <th>2</th>\n",
       "      <td>1926.0</td>\n",
       "      <td>202.0</td>\n",
       "    </tr>\n",
       "    <tr>\n",
       "      <th>3</th>\n",
       "      <td>303.0</td>\n",
       "      <td>27.0</td>\n",
       "    </tr>\n",
       "    <tr>\n",
       "      <th>4</th>\n",
       "      <td>37.0</td>\n",
       "      <td>4.0</td>\n",
       "    </tr>\n",
       "    <tr>\n",
       "      <th>5</th>\n",
       "      <td>9.0</td>\n",
       "      <td>NaN</td>\n",
       "    </tr>\n",
       "  </tbody>\n",
       "</table>\n",
       "</div>"
      ],
      "text/plain": [
       "debt            0       1\n",
       "children                 \n",
       "0         13028.0  1063.0\n",
       "1          4410.0   445.0\n",
       "2          1926.0   202.0\n",
       "3           303.0    27.0\n",
       "4            37.0     4.0\n",
       "5             9.0     NaN"
      ]
     },
     "execution_count": 66,
     "metadata": {},
     "output_type": "execute_result"
    }
   ],
   "source": [
    "children_pivot"
   ]
  },
  {
   "cell_type": "markdown",
   "id": "5874f790",
   "metadata": {},
   "source": [
    "Анализ необходимо выполнить путем сравнения относительных величин, а именно отношения количества должников к общему количеству клиентов. Необходимо дополнить сводную таблицу:"
   ]
  },
  {
   "cell_type": "code",
   "execution_count": 67,
   "id": "361d5c55",
   "metadata": {},
   "outputs": [],
   "source": [
    "children_pivot['debtors, %'] = round((children_pivot[1] / (children_pivot[0] + children_pivot[1])) * 100, 1)"
   ]
  },
  {
   "cell_type": "code",
   "execution_count": 68,
   "id": "37d0d936",
   "metadata": {},
   "outputs": [
    {
     "data": {
      "text/html": [
       "<div>\n",
       "<style scoped>\n",
       "    .dataframe tbody tr th:only-of-type {\n",
       "        vertical-align: middle;\n",
       "    }\n",
       "\n",
       "    .dataframe tbody tr th {\n",
       "        vertical-align: top;\n",
       "    }\n",
       "\n",
       "    .dataframe thead th {\n",
       "        text-align: right;\n",
       "    }\n",
       "</style>\n",
       "<table border=\"1\" class=\"dataframe\">\n",
       "  <thead>\n",
       "    <tr style=\"text-align: right;\">\n",
       "      <th>debt</th>\n",
       "      <th>0</th>\n",
       "      <th>1</th>\n",
       "      <th>debtors, %</th>\n",
       "    </tr>\n",
       "    <tr>\n",
       "      <th>children</th>\n",
       "      <th></th>\n",
       "      <th></th>\n",
       "      <th></th>\n",
       "    </tr>\n",
       "  </thead>\n",
       "  <tbody>\n",
       "    <tr>\n",
       "      <th>0</th>\n",
       "      <td>13028.0</td>\n",
       "      <td>1063.0</td>\n",
       "      <td>7.5</td>\n",
       "    </tr>\n",
       "    <tr>\n",
       "      <th>1</th>\n",
       "      <td>4410.0</td>\n",
       "      <td>445.0</td>\n",
       "      <td>9.2</td>\n",
       "    </tr>\n",
       "    <tr>\n",
       "      <th>2</th>\n",
       "      <td>1926.0</td>\n",
       "      <td>202.0</td>\n",
       "      <td>9.5</td>\n",
       "    </tr>\n",
       "    <tr>\n",
       "      <th>3</th>\n",
       "      <td>303.0</td>\n",
       "      <td>27.0</td>\n",
       "      <td>8.2</td>\n",
       "    </tr>\n",
       "    <tr>\n",
       "      <th>4</th>\n",
       "      <td>37.0</td>\n",
       "      <td>4.0</td>\n",
       "      <td>9.8</td>\n",
       "    </tr>\n",
       "    <tr>\n",
       "      <th>5</th>\n",
       "      <td>9.0</td>\n",
       "      <td>NaN</td>\n",
       "      <td>NaN</td>\n",
       "    </tr>\n",
       "  </tbody>\n",
       "</table>\n",
       "</div>"
      ],
      "text/plain": [
       "debt            0       1  debtors, %\n",
       "children                             \n",
       "0         13028.0  1063.0         7.5\n",
       "1          4410.0   445.0         9.2\n",
       "2          1926.0   202.0         9.5\n",
       "3           303.0    27.0         8.2\n",
       "4            37.0     4.0         9.8\n",
       "5             9.0     NaN         NaN"
      ]
     },
     "execution_count": 68,
     "metadata": {},
     "output_type": "execute_result"
    }
   ],
   "source": [
    "children_pivot"
   ]
  },
  {
   "cell_type": "markdown",
   "id": "2835aba4",
   "metadata": {},
   "source": [
    "##### Вывод 1:"
   ]
  },
  {
   "cell_type": "markdown",
   "id": "985f71be",
   "metadata": {},
   "source": [
    "Анализ относительных величин в сводной таблице `children_pivot` показывает следующее: \n",
    "1. нет каких-либо задолженностей у клиентов с 5 детьми, однако таких клиентов всего 9, что не позволяет нам принимать данный факт за аксиому (появление хотя бы одного должника увеличивает долю должников сразу до 10%).\n",
    "2. среди бездетных клиентов 7,5% должников, при увеличении количества до 1 и 2 количество должников растет до 9,2 и 9,5% соответственно; в целом это похоже на правду, т.к. при появлении детей значительно увеличиваются расходы.\n",
    "3. однако среди клиентов с 3 детьми количество должников 8,2% (меньше на 1%, чем у клиентов с одним ребенком), возможно это действие государственной поддержки многодетных семей или нерепрезентативная выборка.\n",
    "4. среди клиентов с 4 детьми должников 9,8%, что вполне укладывается в общий тренд увеличения количества должников при увеличении количества детей.\n",
    "\n",
    "Заключение: в целом наблюдается тренд увеличения количества должников при увеличении количества детей."
   ]
  },
  {
   "cell_type": "code",
   "execution_count": 69,
   "id": "27715ae4",
   "metadata": {},
   "outputs": [],
   "source": [
    "children_pivot_1 = df.pivot_table(index='children', values='debt', aggfunc=['sum','count','mean'])"
   ]
  },
  {
   "cell_type": "code",
   "execution_count": 70,
   "id": "2a723445",
   "metadata": {},
   "outputs": [
    {
     "data": {
      "text/html": [
       "<div>\n",
       "<style scoped>\n",
       "    .dataframe tbody tr th:only-of-type {\n",
       "        vertical-align: middle;\n",
       "    }\n",
       "\n",
       "    .dataframe tbody tr th {\n",
       "        vertical-align: top;\n",
       "    }\n",
       "\n",
       "    .dataframe thead tr th {\n",
       "        text-align: left;\n",
       "    }\n",
       "\n",
       "    .dataframe thead tr:last-of-type th {\n",
       "        text-align: right;\n",
       "    }\n",
       "</style>\n",
       "<table border=\"1\" class=\"dataframe\">\n",
       "  <thead>\n",
       "    <tr>\n",
       "      <th></th>\n",
       "      <th>sum</th>\n",
       "      <th>count</th>\n",
       "      <th>mean</th>\n",
       "    </tr>\n",
       "    <tr>\n",
       "      <th></th>\n",
       "      <th>debt</th>\n",
       "      <th>debt</th>\n",
       "      <th>debt</th>\n",
       "    </tr>\n",
       "    <tr>\n",
       "      <th>children</th>\n",
       "      <th></th>\n",
       "      <th></th>\n",
       "      <th></th>\n",
       "    </tr>\n",
       "  </thead>\n",
       "  <tbody>\n",
       "    <tr>\n",
       "      <th>0</th>\n",
       "      <td>1063</td>\n",
       "      <td>14091</td>\n",
       "      <td>0.075438</td>\n",
       "    </tr>\n",
       "    <tr>\n",
       "      <th>1</th>\n",
       "      <td>445</td>\n",
       "      <td>4855</td>\n",
       "      <td>0.091658</td>\n",
       "    </tr>\n",
       "    <tr>\n",
       "      <th>2</th>\n",
       "      <td>202</td>\n",
       "      <td>2128</td>\n",
       "      <td>0.094925</td>\n",
       "    </tr>\n",
       "    <tr>\n",
       "      <th>3</th>\n",
       "      <td>27</td>\n",
       "      <td>330</td>\n",
       "      <td>0.081818</td>\n",
       "    </tr>\n",
       "    <tr>\n",
       "      <th>4</th>\n",
       "      <td>4</td>\n",
       "      <td>41</td>\n",
       "      <td>0.097561</td>\n",
       "    </tr>\n",
       "    <tr>\n",
       "      <th>5</th>\n",
       "      <td>0</td>\n",
       "      <td>9</td>\n",
       "      <td>0.000000</td>\n",
       "    </tr>\n",
       "  </tbody>\n",
       "</table>\n",
       "</div>"
      ],
      "text/plain": [
       "           sum  count      mean\n",
       "          debt   debt      debt\n",
       "children                       \n",
       "0         1063  14091  0.075438\n",
       "1          445   4855  0.091658\n",
       "2          202   2128  0.094925\n",
       "3           27    330  0.081818\n",
       "4            4     41  0.097561\n",
       "5            0      9  0.000000"
      ]
     },
     "execution_count": 70,
     "metadata": {},
     "output_type": "execute_result"
    }
   ],
   "source": [
    "children_pivot_1"
   ]
  },
  {
   "cell_type": "markdown",
   "id": "2dad258b",
   "metadata": {},
   "source": [
    "##### Вопрос 2: Есть ли зависимость между семейным положением и возвратом кредита в срок?"
   ]
  },
  {
   "cell_type": "markdown",
   "id": "651b9b9e",
   "metadata": {},
   "source": [
    "Вызовем таблицу `family_status_dict_desc` с описанием ключей семейного положения:"
   ]
  },
  {
   "cell_type": "code",
   "execution_count": 71,
   "id": "9add77eb",
   "metadata": {},
   "outputs": [
    {
     "data": {
      "text/html": [
       "<div>\n",
       "<style scoped>\n",
       "    .dataframe tbody tr th:only-of-type {\n",
       "        vertical-align: middle;\n",
       "    }\n",
       "\n",
       "    .dataframe tbody tr th {\n",
       "        vertical-align: top;\n",
       "    }\n",
       "\n",
       "    .dataframe thead th {\n",
       "        text-align: right;\n",
       "    }\n",
       "</style>\n",
       "<table border=\"1\" class=\"dataframe\">\n",
       "  <thead>\n",
       "    <tr style=\"text-align: right;\">\n",
       "      <th></th>\n",
       "      <th>family_status_id</th>\n",
       "      <th>family_status</th>\n",
       "    </tr>\n",
       "  </thead>\n",
       "  <tbody>\n",
       "    <tr>\n",
       "      <th>0</th>\n",
       "      <td>0</td>\n",
       "      <td>женат / замужем</td>\n",
       "    </tr>\n",
       "    <tr>\n",
       "      <th>1</th>\n",
       "      <td>1</td>\n",
       "      <td>гражданский брак</td>\n",
       "    </tr>\n",
       "    <tr>\n",
       "      <th>2</th>\n",
       "      <td>2</td>\n",
       "      <td>вдовец / вдова</td>\n",
       "    </tr>\n",
       "    <tr>\n",
       "      <th>3</th>\n",
       "      <td>3</td>\n",
       "      <td>в разводе</td>\n",
       "    </tr>\n",
       "    <tr>\n",
       "      <th>4</th>\n",
       "      <td>4</td>\n",
       "      <td>не женат / не замужем</td>\n",
       "    </tr>\n",
       "  </tbody>\n",
       "</table>\n",
       "</div>"
      ],
      "text/plain": [
       "   family_status_id          family_status\n",
       "0                 0        женат / замужем\n",
       "1                 1       гражданский брак\n",
       "2                 2         вдовец / вдова\n",
       "3                 3              в разводе\n",
       "4                 4  не женат / не замужем"
      ]
     },
     "execution_count": 71,
     "metadata": {},
     "output_type": "execute_result"
    }
   ],
   "source": [
    "family_status_dict_desc"
   ]
  },
  {
   "cell_type": "markdown",
   "id": "6490994b",
   "metadata": {},
   "source": [
    "Подготовим сводную таблицу, в которой сгруппируем данные по семейному положению (index='family_status_id'), по наличию задолженностей (columns='debt') и подсчитаем количество строк в произвольном столбце путем применения функции count():"
   ]
  },
  {
   "cell_type": "code",
   "execution_count": 72,
   "id": "82243ef0",
   "metadata": {},
   "outputs": [],
   "source": [
    "family_status_pivot = df.pivot_table(index='family_status_id', columns='debt', values='dob_years', aggfunc='count')\n"
   ]
  },
  {
   "cell_type": "code",
   "execution_count": 73,
   "id": "403c06df",
   "metadata": {},
   "outputs": [
    {
     "data": {
      "text/html": [
       "<div>\n",
       "<style scoped>\n",
       "    .dataframe tbody tr th:only-of-type {\n",
       "        vertical-align: middle;\n",
       "    }\n",
       "\n",
       "    .dataframe tbody tr th {\n",
       "        vertical-align: top;\n",
       "    }\n",
       "\n",
       "    .dataframe thead th {\n",
       "        text-align: right;\n",
       "    }\n",
       "</style>\n",
       "<table border=\"1\" class=\"dataframe\">\n",
       "  <thead>\n",
       "    <tr style=\"text-align: right;\">\n",
       "      <th>debt</th>\n",
       "      <th>0</th>\n",
       "      <th>1</th>\n",
       "    </tr>\n",
       "    <tr>\n",
       "      <th>family_status_id</th>\n",
       "      <th></th>\n",
       "      <th></th>\n",
       "    </tr>\n",
       "  </thead>\n",
       "  <tbody>\n",
       "    <tr>\n",
       "      <th>0</th>\n",
       "      <td>11408</td>\n",
       "      <td>931</td>\n",
       "    </tr>\n",
       "    <tr>\n",
       "      <th>1</th>\n",
       "      <td>3763</td>\n",
       "      <td>388</td>\n",
       "    </tr>\n",
       "    <tr>\n",
       "      <th>2</th>\n",
       "      <td>896</td>\n",
       "      <td>63</td>\n",
       "    </tr>\n",
       "    <tr>\n",
       "      <th>3</th>\n",
       "      <td>1110</td>\n",
       "      <td>85</td>\n",
       "    </tr>\n",
       "    <tr>\n",
       "      <th>4</th>\n",
       "      <td>2536</td>\n",
       "      <td>274</td>\n",
       "    </tr>\n",
       "  </tbody>\n",
       "</table>\n",
       "</div>"
      ],
      "text/plain": [
       "debt                  0    1\n",
       "family_status_id            \n",
       "0                 11408  931\n",
       "1                  3763  388\n",
       "2                   896   63\n",
       "3                  1110   85\n",
       "4                  2536  274"
      ]
     },
     "execution_count": 73,
     "metadata": {},
     "output_type": "execute_result"
    }
   ],
   "source": [
    "family_status_pivot"
   ]
  },
  {
   "cell_type": "markdown",
   "id": "d96dd411",
   "metadata": {},
   "source": [
    "Анализ необходимо выполнить путем сравнения относительных величин, а именно отношения количества должников к общему количеству клиентов. Необходимо дополнить сводную таблицу:"
   ]
  },
  {
   "cell_type": "code",
   "execution_count": 74,
   "id": "98006226",
   "metadata": {},
   "outputs": [],
   "source": [
    "family_status_pivot['debtors, %'] = round((family_status_pivot[1] / (family_status_pivot[0] + family_status_pivot[1])) * 100, 1)"
   ]
  },
  {
   "cell_type": "markdown",
   "id": "fbb94a83",
   "metadata": {},
   "source": [
    "Применим метод merge() к таблице `family_status_pivot` объединив ее с таблицей `family_status_dict_desc`:"
   ]
  },
  {
   "cell_type": "code",
   "execution_count": 75,
   "id": "37677bbc",
   "metadata": {},
   "outputs": [],
   "source": [
    "family_status_pivot = family_status_pivot.merge(family_status_dict_desc, on='family_status_id', how='left')"
   ]
  },
  {
   "cell_type": "code",
   "execution_count": 76,
   "id": "0544e5d9",
   "metadata": {},
   "outputs": [
    {
     "data": {
      "text/html": [
       "<div>\n",
       "<style scoped>\n",
       "    .dataframe tbody tr th:only-of-type {\n",
       "        vertical-align: middle;\n",
       "    }\n",
       "\n",
       "    .dataframe tbody tr th {\n",
       "        vertical-align: top;\n",
       "    }\n",
       "\n",
       "    .dataframe thead th {\n",
       "        text-align: right;\n",
       "    }\n",
       "</style>\n",
       "<table border=\"1\" class=\"dataframe\">\n",
       "  <thead>\n",
       "    <tr style=\"text-align: right;\">\n",
       "      <th></th>\n",
       "      <th>family_status_id</th>\n",
       "      <th>0</th>\n",
       "      <th>1</th>\n",
       "      <th>debtors, %</th>\n",
       "      <th>family_status</th>\n",
       "    </tr>\n",
       "  </thead>\n",
       "  <tbody>\n",
       "    <tr>\n",
       "      <th>0</th>\n",
       "      <td>0</td>\n",
       "      <td>11408</td>\n",
       "      <td>931</td>\n",
       "      <td>7.5</td>\n",
       "      <td>женат / замужем</td>\n",
       "    </tr>\n",
       "    <tr>\n",
       "      <th>1</th>\n",
       "      <td>1</td>\n",
       "      <td>3763</td>\n",
       "      <td>388</td>\n",
       "      <td>9.3</td>\n",
       "      <td>гражданский брак</td>\n",
       "    </tr>\n",
       "    <tr>\n",
       "      <th>2</th>\n",
       "      <td>2</td>\n",
       "      <td>896</td>\n",
       "      <td>63</td>\n",
       "      <td>6.6</td>\n",
       "      <td>вдовец / вдова</td>\n",
       "    </tr>\n",
       "    <tr>\n",
       "      <th>3</th>\n",
       "      <td>3</td>\n",
       "      <td>1110</td>\n",
       "      <td>85</td>\n",
       "      <td>7.1</td>\n",
       "      <td>в разводе</td>\n",
       "    </tr>\n",
       "    <tr>\n",
       "      <th>4</th>\n",
       "      <td>4</td>\n",
       "      <td>2536</td>\n",
       "      <td>274</td>\n",
       "      <td>9.8</td>\n",
       "      <td>не женат / не замужем</td>\n",
       "    </tr>\n",
       "  </tbody>\n",
       "</table>\n",
       "</div>"
      ],
      "text/plain": [
       "   family_status_id      0    1  debtors, %          family_status\n",
       "0                 0  11408  931         7.5        женат / замужем\n",
       "1                 1   3763  388         9.3       гражданский брак\n",
       "2                 2    896   63         6.6         вдовец / вдова\n",
       "3                 3   1110   85         7.1              в разводе\n",
       "4                 4   2536  274         9.8  не женат / не замужем"
      ]
     },
     "execution_count": 76,
     "metadata": {},
     "output_type": "execute_result"
    }
   ],
   "source": [
    "family_status_pivot"
   ]
  },
  {
   "cell_type": "markdown",
   "id": "b105bc9b",
   "metadata": {},
   "source": [
    "##### Вывод 2:"
   ]
  },
  {
   "cell_type": "markdown",
   "id": "cbf6b560",
   "metadata": {},
   "source": [
    "Анализ относительных величин в сводной таблице `family_status_pivot` показывает следующее: \n",
    "1. меньше всего должников среди вдовцов/вдов, возможно играет роль полученное наследство.\n",
    "2. среди разведенных клиентов 7,1% должников, среди клиентов в официальном браке 7,5% должников, что сопоставимо с разведенными.\n",
    "3. среди клиентов, находящихся в т.н. \"гражданском браке\", должников 9,3%.\n",
    "4. среди неженатых/незамужних клиентов больше всего должников, а именно 9,8%.\n",
    "5. основная часть клиентов находятся в семейном положении \"женат/замужем\".\n",
    "\n",
    "Заключение: среди клиентов находящихся или находившихся в официальных отношениях меньше всего должников, а неженатые/незамужние клиенты и клиенты в гражданском браке более склоны к задолженностям по возврату кредитов."
   ]
  },
  {
   "cell_type": "markdown",
   "id": "e18f4259",
   "metadata": {},
   "source": [
    "##### Вопрос 3: Есть ли зависимость между уровнем дохода и возвратом кредита в срок?"
   ]
  },
  {
   "cell_type": "markdown",
   "id": "de51fd77",
   "metadata": {},
   "source": [
    "Подготовим сводную таблицу, в которой сгруппируем данные по количеству категории дохода (index='total_income_category'), по наличию задолженностей (columns='debt') и подсчитаем количество строк в произвольном столбце путем применения функции count()"
   ]
  },
  {
   "cell_type": "code",
   "execution_count": 77,
   "id": "64ebdc75",
   "metadata": {},
   "outputs": [],
   "source": [
    "total_income_pivot = df.pivot_table(index='total_income_category', columns='debt', values='dob_years', aggfunc='count')"
   ]
  },
  {
   "cell_type": "code",
   "execution_count": 78,
   "id": "88c0d1d2",
   "metadata": {},
   "outputs": [
    {
     "data": {
      "text/html": [
       "<div>\n",
       "<style scoped>\n",
       "    .dataframe tbody tr th:only-of-type {\n",
       "        vertical-align: middle;\n",
       "    }\n",
       "\n",
       "    .dataframe tbody tr th {\n",
       "        vertical-align: top;\n",
       "    }\n",
       "\n",
       "    .dataframe thead th {\n",
       "        text-align: right;\n",
       "    }\n",
       "</style>\n",
       "<table border=\"1\" class=\"dataframe\">\n",
       "  <thead>\n",
       "    <tr style=\"text-align: right;\">\n",
       "      <th>debt</th>\n",
       "      <th>0</th>\n",
       "      <th>1</th>\n",
       "    </tr>\n",
       "    <tr>\n",
       "      <th>total_income_category</th>\n",
       "      <th></th>\n",
       "      <th></th>\n",
       "    </tr>\n",
       "  </thead>\n",
       "  <tbody>\n",
       "    <tr>\n",
       "      <th>A</th>\n",
       "      <td>23</td>\n",
       "      <td>2</td>\n",
       "    </tr>\n",
       "    <tr>\n",
       "      <th>B</th>\n",
       "      <td>4685</td>\n",
       "      <td>356</td>\n",
       "    </tr>\n",
       "    <tr>\n",
       "      <th>C</th>\n",
       "      <td>14656</td>\n",
       "      <td>1360</td>\n",
       "    </tr>\n",
       "    <tr>\n",
       "      <th>D</th>\n",
       "      <td>329</td>\n",
       "      <td>21</td>\n",
       "    </tr>\n",
       "    <tr>\n",
       "      <th>E</th>\n",
       "      <td>20</td>\n",
       "      <td>2</td>\n",
       "    </tr>\n",
       "  </tbody>\n",
       "</table>\n",
       "</div>"
      ],
      "text/plain": [
       "debt                       0     1\n",
       "total_income_category             \n",
       "A                         23     2\n",
       "B                       4685   356\n",
       "C                      14656  1360\n",
       "D                        329    21\n",
       "E                         20     2"
      ]
     },
     "execution_count": 78,
     "metadata": {},
     "output_type": "execute_result"
    }
   ],
   "source": [
    "total_income_pivot"
   ]
  },
  {
   "cell_type": "markdown",
   "id": "b420637b",
   "metadata": {},
   "source": [
    "Анализ необходимо выполнить путем сравнения относительных величин, а именно отношения количества должников к общему количеству клиентов. Необходимо дополнить сводную таблицу:"
   ]
  },
  {
   "cell_type": "code",
   "execution_count": 79,
   "id": "f84933f9",
   "metadata": {},
   "outputs": [],
   "source": [
    "total_income_pivot['debtors, %'] = round((total_income_pivot[1] / (total_income_pivot[0] + total_income_pivot[1])) * 100, 1)"
   ]
  },
  {
   "cell_type": "code",
   "execution_count": 80,
   "id": "960f8070",
   "metadata": {},
   "outputs": [
    {
     "data": {
      "text/html": [
       "<div>\n",
       "<style scoped>\n",
       "    .dataframe tbody tr th:only-of-type {\n",
       "        vertical-align: middle;\n",
       "    }\n",
       "\n",
       "    .dataframe tbody tr th {\n",
       "        vertical-align: top;\n",
       "    }\n",
       "\n",
       "    .dataframe thead th {\n",
       "        text-align: right;\n",
       "    }\n",
       "</style>\n",
       "<table border=\"1\" class=\"dataframe\">\n",
       "  <thead>\n",
       "    <tr style=\"text-align: right;\">\n",
       "      <th>debt</th>\n",
       "      <th>0</th>\n",
       "      <th>1</th>\n",
       "      <th>debtors, %</th>\n",
       "    </tr>\n",
       "    <tr>\n",
       "      <th>total_income_category</th>\n",
       "      <th></th>\n",
       "      <th></th>\n",
       "      <th></th>\n",
       "    </tr>\n",
       "  </thead>\n",
       "  <tbody>\n",
       "    <tr>\n",
       "      <th>A</th>\n",
       "      <td>23</td>\n",
       "      <td>2</td>\n",
       "      <td>8.0</td>\n",
       "    </tr>\n",
       "    <tr>\n",
       "      <th>B</th>\n",
       "      <td>4685</td>\n",
       "      <td>356</td>\n",
       "      <td>7.1</td>\n",
       "    </tr>\n",
       "    <tr>\n",
       "      <th>C</th>\n",
       "      <td>14656</td>\n",
       "      <td>1360</td>\n",
       "      <td>8.5</td>\n",
       "    </tr>\n",
       "    <tr>\n",
       "      <th>D</th>\n",
       "      <td>329</td>\n",
       "      <td>21</td>\n",
       "      <td>6.0</td>\n",
       "    </tr>\n",
       "    <tr>\n",
       "      <th>E</th>\n",
       "      <td>20</td>\n",
       "      <td>2</td>\n",
       "      <td>9.1</td>\n",
       "    </tr>\n",
       "  </tbody>\n",
       "</table>\n",
       "</div>"
      ],
      "text/plain": [
       "debt                       0     1  debtors, %\n",
       "total_income_category                         \n",
       "A                         23     2         8.0\n",
       "B                       4685   356         7.1\n",
       "C                      14656  1360         8.5\n",
       "D                        329    21         6.0\n",
       "E                         20     2         9.1"
      ]
     },
     "execution_count": 80,
     "metadata": {},
     "output_type": "execute_result"
    }
   ],
   "source": [
    "total_income_pivot"
   ]
  },
  {
   "cell_type": "markdown",
   "id": "30f68ec6",
   "metadata": {},
   "source": [
    "##### Вывод 3:"
   ]
  },
  {
   "cell_type": "markdown",
   "id": "bec4ed3c",
   "metadata": {},
   "source": [
    "Анализ относительных величин в сводной таблице `total_income_pivot` показывает следующее: \n",
    "1. меньше всего должников в категории D - 6% (доход 30001–50000) и категории B - 7,1% (доход 200001–1000000).\n",
    "2. среднее количество должников (8%) среди клиентов с самым высоким доходом в категории A (доход 1000001 и выше).\n",
    "3. в самой многочисленной категории C (доход 50001–200000) должников 8,5%.\n",
    "4. больше всего должников в самой малочисленной группе E (доход 0–30000) - 9,1%.\n",
    "5. категории A и C имеют малое количество клиентов, что не позволяет с уверенностью говорить о репрезентативности данных.\n",
    "\n",
    "Заключение: клиенты с самыми низкими доходами (категория E) больше всего склонны к задолженностями по кредитам, однако при повышении уровня доходов до следующей категории D наблюдается резкий спад среди должников; тем не менее, среди клиентов с большим уровнем доходов количество должников увеличивается. "
   ]
  },
  {
   "cell_type": "markdown",
   "id": "cdfca411",
   "metadata": {},
   "source": [
    "##### Вопрос 4: Как разные цели кредита влияют на его возврат в срок?"
   ]
  },
  {
   "cell_type": "markdown",
   "id": "8cff545d",
   "metadata": {},
   "source": [
    "Подготовим сводную таблицу, в которой сгруппируем данные по количеству категории дохода (index='purpose_category'), по наличию задолженностей (columns='debt') и подсчитаем количество строк в произвольном столбце путем применения функции count()"
   ]
  },
  {
   "cell_type": "code",
   "execution_count": 81,
   "id": "7669c41f",
   "metadata": {},
   "outputs": [],
   "source": [
    "purpose_category_pivot = df.pivot_table(index='purpose_category', columns='debt', values='dob_years', aggfunc='count')"
   ]
  },
  {
   "cell_type": "code",
   "execution_count": 82,
   "id": "18a44e5c",
   "metadata": {},
   "outputs": [
    {
     "data": {
      "text/html": [
       "<div>\n",
       "<style scoped>\n",
       "    .dataframe tbody tr th:only-of-type {\n",
       "        vertical-align: middle;\n",
       "    }\n",
       "\n",
       "    .dataframe tbody tr th {\n",
       "        vertical-align: top;\n",
       "    }\n",
       "\n",
       "    .dataframe thead th {\n",
       "        text-align: right;\n",
       "    }\n",
       "</style>\n",
       "<table border=\"1\" class=\"dataframe\">\n",
       "  <thead>\n",
       "    <tr style=\"text-align: right;\">\n",
       "      <th>debt</th>\n",
       "      <th>0</th>\n",
       "      <th>1</th>\n",
       "    </tr>\n",
       "    <tr>\n",
       "      <th>purpose_category</th>\n",
       "      <th></th>\n",
       "      <th></th>\n",
       "    </tr>\n",
       "  </thead>\n",
       "  <tbody>\n",
       "    <tr>\n",
       "      <th>операции с автомобилем</th>\n",
       "      <td>3903</td>\n",
       "      <td>403</td>\n",
       "    </tr>\n",
       "    <tr>\n",
       "      <th>операции с недвижимостью</th>\n",
       "      <td>10029</td>\n",
       "      <td>782</td>\n",
       "    </tr>\n",
       "    <tr>\n",
       "      <th>получение образования</th>\n",
       "      <td>3643</td>\n",
       "      <td>370</td>\n",
       "    </tr>\n",
       "    <tr>\n",
       "      <th>проведение свадьбы</th>\n",
       "      <td>2138</td>\n",
       "      <td>186</td>\n",
       "    </tr>\n",
       "  </tbody>\n",
       "</table>\n",
       "</div>"
      ],
      "text/plain": [
       "debt                          0    1\n",
       "purpose_category                    \n",
       "операции с автомобилем     3903  403\n",
       "операции с недвижимостью  10029  782\n",
       "получение образования      3643  370\n",
       "проведение свадьбы         2138  186"
      ]
     },
     "execution_count": 82,
     "metadata": {},
     "output_type": "execute_result"
    }
   ],
   "source": [
    "purpose_category_pivot"
   ]
  },
  {
   "cell_type": "markdown",
   "id": "21d7499b",
   "metadata": {},
   "source": [
    "Анализ необходимо выполнить путем сравнения относительных величин, а именно отношения количества должников к общему количеству клиентов. Необходимо дополнить сводную таблицу:"
   ]
  },
  {
   "cell_type": "code",
   "execution_count": 83,
   "id": "9cb9acf8",
   "metadata": {},
   "outputs": [],
   "source": [
    "purpose_category_pivot['debtors, %'] = round((purpose_category_pivot[1] / (purpose_category_pivot[0] + purpose_category_pivot[1])) * 100, 1)"
   ]
  },
  {
   "cell_type": "code",
   "execution_count": 84,
   "id": "1afe82e1",
   "metadata": {},
   "outputs": [
    {
     "data": {
      "text/html": [
       "<div>\n",
       "<style scoped>\n",
       "    .dataframe tbody tr th:only-of-type {\n",
       "        vertical-align: middle;\n",
       "    }\n",
       "\n",
       "    .dataframe tbody tr th {\n",
       "        vertical-align: top;\n",
       "    }\n",
       "\n",
       "    .dataframe thead th {\n",
       "        text-align: right;\n",
       "    }\n",
       "</style>\n",
       "<table border=\"1\" class=\"dataframe\">\n",
       "  <thead>\n",
       "    <tr style=\"text-align: right;\">\n",
       "      <th>debt</th>\n",
       "      <th>0</th>\n",
       "      <th>1</th>\n",
       "      <th>debtors, %</th>\n",
       "    </tr>\n",
       "    <tr>\n",
       "      <th>purpose_category</th>\n",
       "      <th></th>\n",
       "      <th></th>\n",
       "      <th></th>\n",
       "    </tr>\n",
       "  </thead>\n",
       "  <tbody>\n",
       "    <tr>\n",
       "      <th>операции с автомобилем</th>\n",
       "      <td>3903</td>\n",
       "      <td>403</td>\n",
       "      <td>9.4</td>\n",
       "    </tr>\n",
       "    <tr>\n",
       "      <th>операции с недвижимостью</th>\n",
       "      <td>10029</td>\n",
       "      <td>782</td>\n",
       "      <td>7.2</td>\n",
       "    </tr>\n",
       "    <tr>\n",
       "      <th>получение образования</th>\n",
       "      <td>3643</td>\n",
       "      <td>370</td>\n",
       "      <td>9.2</td>\n",
       "    </tr>\n",
       "    <tr>\n",
       "      <th>проведение свадьбы</th>\n",
       "      <td>2138</td>\n",
       "      <td>186</td>\n",
       "      <td>8.0</td>\n",
       "    </tr>\n",
       "  </tbody>\n",
       "</table>\n",
       "</div>"
      ],
      "text/plain": [
       "debt                          0    1  debtors, %\n",
       "purpose_category                                \n",
       "операции с автомобилем     3903  403         9.4\n",
       "операции с недвижимостью  10029  782         7.2\n",
       "получение образования      3643  370         9.2\n",
       "проведение свадьбы         2138  186         8.0"
      ]
     },
     "execution_count": 84,
     "metadata": {},
     "output_type": "execute_result"
    }
   ],
   "source": [
    "purpose_category_pivot"
   ]
  },
  {
   "cell_type": "markdown",
   "id": "3e3bd2f3",
   "metadata": {},
   "source": [
    "##### Вывод 4:"
   ]
  },
  {
   "cell_type": "markdown",
   "id": "ff80b176",
   "metadata": {},
   "source": [
    "Анализ относительных величин в сводной таблице `purpose_category_pivot` показывает следующее: \n",
    "1. меньше всего должников в категории \"операции с недвижимостью\", а именно 7,2% (жилье - это базовая потребность, за которое приходится платить).\n",
    "2. должников в категории \"проведение свадьбы\" 8%, что несколько больше, чем в категории \"операции с недвижимостью\".\n",
    "3. в категориях \"получение образования\" и \"операции с автомобилем\" должников примерно равное количество - 9,2% и 9,4% соответственно.\n",
    "4. \"операции с недвижимостью\" самая многочисленная категория.\n",
    "5. категории \"получение образования\" и \"операции с автомобилем\" сопоставимы по численности.\n",
    "\n",
    "\n",
    "Заключение: клиенты, оформляющие кредиты на операции с недвижимостью (ремонт, покупка жилья и т.п.), самые добросовестные по кредитным платежам; клиенты в категориях \"получение образования\" и \"операции с автомобилем\" допускают просрочки по кредитам более всего."
   ]
  },
  {
   "cell_type": "markdown",
   "id": "1f59a457",
   "metadata": {},
   "source": [
    "## Общий вывод:"
   ]
  },
  {
   "cell_type": "markdown",
   "id": "32577b5a",
   "metadata": {},
   "source": [
    "Полученная статистика о платёжеспособности клиентов включает в себя следующие данные:\n",
    "* `children` — количество детей в семье;\n",
    "* `days_employed` — общий трудовой стаж в днях;  \n",
    "* `dob_years` — возраст клиента в годах;\n",
    "* `education` — уровень образования клиента;\n",
    "* `education_id` — идентификатор уровня образования;\n",
    "* `family_status` — семейное положение;\n",
    "* `family_status_id` — идентификатор семейного положения;\n",
    "* `gender` — пол клиента;\n",
    "* `income_type` — тип занятости;\n",
    "* `debt` — имел ли задолженность по возврату кредитов;\n",
    "* `total_income` — ежемесячный доход;  \n",
    "* `purpose` — цель получения кредита;\n",
    "\n",
    "Для проведения качественного анализа данных выполнена их предобработка, а именно:\n",
    "* заполнение пропущенных значений в столбцах `days_employed` и `total_income` медианными значениями;\n",
    "* проверка данных на аномалии и выбросы, в столбцы `children`, `days_employed`, `dob_years` внесены необходимые исправления;\n",
    "* проверка на явные и неявные дубликаты с учетом нижнего регистра, в столбец `education` внесены необходимые исправления.\n",
    "\n",
    "Сформирован столбец `total_income_category` с категориями по доходу получателей кредита:\n",
    "* 0–30000 — 'E';\n",
    "* 30001–50000 — 'D';\n",
    "* 50001–200000 — 'C';\n",
    "* 200001–1000000 — 'B';\n",
    "* 1000001 и выше — 'A'.\n",
    "\n",
    "С целью категоризации целей кредита сфомирован столбец `purpose_category` со следующими категориями:\n",
    "* операции с автомобилем;\n",
    "* операции с недвижимостью;\n",
    "* проведение свадьбы;\n",
    "* получение образования.\n",
    "\n",
    "Выполнен комплексный анализ данных представленных данных, ниже представлены результаты проведенного анализа для формирования модели кредитного скоринга: \n",
    "1. в целом наблюдается тренд увеличения количества должников при увеличении количества детей.\n",
    "2. среди клиентов находящихся или находившихся в официальных отношениях меньше всего должников, а неженатые/незамужние клиенты и клиенты в гражданском браке более склоны к задолженностям по возврату кредитов.\n",
    "3. клиенты с самыми низкими доходами (категория E) больше всего склонны к задолженностями по кредитам, однако при повышении уровня доходов до следующей категории D наблюдается резкий спад среди должников; тем не менее, среди клиентов с большим уровнем доходов количество должников увеличивается. \n",
    "4. клиенты, оформляющие кредиты на операции с недвижимостью (ремонт, покупка жилья и т.п.), самые добросовестные по кредитным платежам; клиенты в категориях \"получение образования\" и \"операции с автомобилем\" допускают просрочки по кредитам более всего."
   ]
  }
 ],
 "metadata": {
  "ExecuteTimeLog": [
   {
    "duration": 707,
    "start_time": "2022-05-06T07:33:00.396Z"
   },
   {
    "duration": 4,
    "start_time": "2022-05-06T07:38:28.401Z"
   },
   {
    "duration": 115,
    "start_time": "2022-05-06T07:38:29.205Z"
   },
   {
    "duration": 466,
    "start_time": "2022-05-06T07:38:35.324Z"
   },
   {
    "duration": 71,
    "start_time": "2022-05-06T07:38:36.088Z"
   },
   {
    "duration": 29,
    "start_time": "2022-05-06T07:38:37.010Z"
   },
   {
    "duration": 21,
    "start_time": "2022-05-06T07:39:14.336Z"
   },
   {
    "duration": 105,
    "start_time": "2022-05-06T08:45:54.397Z"
   },
   {
    "duration": 9,
    "start_time": "2022-05-06T08:46:18.116Z"
   },
   {
    "duration": 7,
    "start_time": "2022-05-06T08:47:20.996Z"
   },
   {
    "duration": 100,
    "start_time": "2022-05-06T08:47:32.141Z"
   },
   {
    "duration": 103,
    "start_time": "2022-05-06T08:48:57.532Z"
   },
   {
    "duration": 523,
    "start_time": "2022-05-06T08:49:43.687Z"
   },
   {
    "duration": 78,
    "start_time": "2022-05-06T08:49:44.309Z"
   },
   {
    "duration": 29,
    "start_time": "2022-05-06T08:49:45.319Z"
   },
   {
    "duration": 21,
    "start_time": "2022-05-06T08:49:47.824Z"
   },
   {
    "duration": 108,
    "start_time": "2022-05-06T08:49:49.765Z"
   },
   {
    "duration": 110,
    "start_time": "2022-05-06T08:50:06.322Z"
   },
   {
    "duration": 186,
    "start_time": "2022-05-06T08:51:48.504Z"
   },
   {
    "duration": 12,
    "start_time": "2022-05-06T08:57:36.729Z"
   },
   {
    "duration": 6,
    "start_time": "2022-05-06T09:09:47.577Z"
   },
   {
    "duration": 11,
    "start_time": "2022-05-06T09:22:10.730Z"
   },
   {
    "duration": 533,
    "start_time": "2022-05-06T09:22:21.397Z"
   },
   {
    "duration": 91,
    "start_time": "2022-05-06T09:22:22.451Z"
   },
   {
    "duration": 32,
    "start_time": "2022-05-06T09:22:23.131Z"
   },
   {
    "duration": 23,
    "start_time": "2022-05-06T09:22:26.415Z"
   },
   {
    "duration": 18,
    "start_time": "2022-05-06T09:22:31.379Z"
   },
   {
    "duration": 8,
    "start_time": "2022-05-06T09:37:06.933Z"
   },
   {
    "duration": 14,
    "start_time": "2022-05-06T09:37:16.940Z"
   },
   {
    "duration": 10,
    "start_time": "2022-05-06T09:39:24.396Z"
   },
   {
    "duration": 7,
    "start_time": "2022-05-06T09:39:30.409Z"
   },
   {
    "duration": 9,
    "start_time": "2022-05-06T09:39:47.481Z"
   },
   {
    "duration": 95,
    "start_time": "2022-05-06T09:40:05.327Z"
   },
   {
    "duration": 9,
    "start_time": "2022-05-06T09:40:23.907Z"
   },
   {
    "duration": 5,
    "start_time": "2022-05-06T09:41:55.976Z"
   },
   {
    "duration": 5,
    "start_time": "2022-05-06T09:42:05.645Z"
   },
   {
    "duration": 7,
    "start_time": "2022-05-06T09:42:18.215Z"
   },
   {
    "duration": 7,
    "start_time": "2022-05-06T09:55:09.942Z"
   },
   {
    "duration": 7,
    "start_time": "2022-05-06T09:57:21.279Z"
   },
   {
    "duration": 6,
    "start_time": "2022-05-06T10:00:49.587Z"
   },
   {
    "duration": 6,
    "start_time": "2022-05-06T10:00:53.986Z"
   },
   {
    "duration": 6,
    "start_time": "2022-05-06T10:01:05.775Z"
   },
   {
    "duration": 5,
    "start_time": "2022-05-06T10:04:36.209Z"
   },
   {
    "duration": 6,
    "start_time": "2022-05-06T10:05:22.165Z"
   },
   {
    "duration": 4,
    "start_time": "2022-05-06T10:05:23.871Z"
   },
   {
    "duration": 14,
    "start_time": "2022-05-06T10:05:37.524Z"
   },
   {
    "duration": 6,
    "start_time": "2022-05-06T10:06:17.047Z"
   },
   {
    "duration": 494,
    "start_time": "2022-05-06T10:06:37.294Z"
   },
   {
    "duration": 78,
    "start_time": "2022-05-06T10:06:37.790Z"
   },
   {
    "duration": 32,
    "start_time": "2022-05-06T10:06:37.870Z"
   },
   {
    "duration": 24,
    "start_time": "2022-05-06T10:06:37.905Z"
   },
   {
    "duration": 14,
    "start_time": "2022-05-06T10:06:37.932Z"
   },
   {
    "duration": 7,
    "start_time": "2022-05-06T10:06:37.983Z"
   },
   {
    "duration": 11,
    "start_time": "2022-05-06T10:06:37.992Z"
   },
   {
    "duration": 129,
    "start_time": "2022-05-06T10:06:38.005Z"
   },
   {
    "duration": 0,
    "start_time": "2022-05-06T10:06:38.137Z"
   },
   {
    "duration": 468,
    "start_time": "2022-05-06T10:07:08.415Z"
   },
   {
    "duration": 74,
    "start_time": "2022-05-06T10:07:08.886Z"
   },
   {
    "duration": 40,
    "start_time": "2022-05-06T10:07:08.962Z"
   },
   {
    "duration": 22,
    "start_time": "2022-05-06T10:07:09.004Z"
   },
   {
    "duration": 16,
    "start_time": "2022-05-06T10:07:09.029Z"
   },
   {
    "duration": 8,
    "start_time": "2022-05-06T10:07:09.083Z"
   },
   {
    "duration": 11,
    "start_time": "2022-05-06T10:07:09.094Z"
   },
   {
    "duration": 6,
    "start_time": "2022-05-06T10:07:09.108Z"
   },
   {
    "duration": 7,
    "start_time": "2022-05-06T10:07:09.117Z"
   },
   {
    "duration": 109,
    "start_time": "2022-05-06T10:08:59.280Z"
   },
   {
    "duration": 6,
    "start_time": "2022-05-06T10:09:07.573Z"
   },
   {
    "duration": 8,
    "start_time": "2022-05-06T10:09:10.133Z"
   },
   {
    "duration": 682,
    "start_time": "2022-05-06T10:09:45.435Z"
   },
   {
    "duration": 77,
    "start_time": "2022-05-06T10:09:46.120Z"
   },
   {
    "duration": 32,
    "start_time": "2022-05-06T10:09:46.199Z"
   },
   {
    "duration": 47,
    "start_time": "2022-05-06T10:09:46.235Z"
   },
   {
    "duration": 15,
    "start_time": "2022-05-06T10:09:46.284Z"
   },
   {
    "duration": 13,
    "start_time": "2022-05-06T10:09:46.301Z"
   },
   {
    "duration": 12,
    "start_time": "2022-05-06T10:09:46.317Z"
   },
   {
    "duration": 13,
    "start_time": "2022-05-06T10:09:46.332Z"
   },
   {
    "duration": 42,
    "start_time": "2022-05-06T10:09:46.347Z"
   },
   {
    "duration": 8,
    "start_time": "2022-05-06T10:12:56.998Z"
   },
   {
    "duration": 8,
    "start_time": "2022-05-06T10:21:01.596Z"
   },
   {
    "duration": 7,
    "start_time": "2022-05-06T10:29:52.398Z"
   },
   {
    "duration": 7,
    "start_time": "2022-05-06T10:30:02.001Z"
   },
   {
    "duration": 5,
    "start_time": "2022-05-06T10:30:19.019Z"
   },
   {
    "duration": 9,
    "start_time": "2022-05-06T10:30:35.779Z"
   },
   {
    "duration": 10,
    "start_time": "2022-05-06T10:30:41.293Z"
   },
   {
    "duration": 8,
    "start_time": "2022-05-06T10:31:19.057Z"
   },
   {
    "duration": 6,
    "start_time": "2022-05-06T10:31:22.155Z"
   },
   {
    "duration": 5,
    "start_time": "2022-05-06T10:33:19.633Z"
   },
   {
    "duration": 5,
    "start_time": "2022-05-06T10:36:05.931Z"
   },
   {
    "duration": 6,
    "start_time": "2022-05-06T10:36:47.191Z"
   },
   {
    "duration": 612,
    "start_time": "2022-05-06T10:36:51.765Z"
   },
   {
    "duration": 78,
    "start_time": "2022-05-06T10:36:52.383Z"
   },
   {
    "duration": 38,
    "start_time": "2022-05-06T10:36:52.464Z"
   },
   {
    "duration": 21,
    "start_time": "2022-05-06T10:36:52.504Z"
   },
   {
    "duration": 14,
    "start_time": "2022-05-06T10:36:52.528Z"
   },
   {
    "duration": 39,
    "start_time": "2022-05-06T10:36:52.544Z"
   },
   {
    "duration": 7,
    "start_time": "2022-05-06T10:36:52.585Z"
   },
   {
    "duration": 4,
    "start_time": "2022-05-06T10:36:52.594Z"
   },
   {
    "duration": 14,
    "start_time": "2022-05-06T10:36:52.601Z"
   },
   {
    "duration": 16,
    "start_time": "2022-05-06T10:36:52.618Z"
   },
   {
    "duration": 46,
    "start_time": "2022-05-06T10:36:52.637Z"
   },
   {
    "duration": 10,
    "start_time": "2022-05-06T10:36:52.685Z"
   },
   {
    "duration": 16,
    "start_time": "2022-05-06T10:36:52.697Z"
   },
   {
    "duration": 100,
    "start_time": "2022-05-06T10:36:52.717Z"
   },
   {
    "duration": 0,
    "start_time": "2022-05-06T10:36:52.819Z"
   },
   {
    "duration": 6,
    "start_time": "2022-05-06T10:37:47.110Z"
   },
   {
    "duration": 108,
    "start_time": "2022-05-06T10:37:59.367Z"
   },
   {
    "duration": 534,
    "start_time": "2022-05-06T10:38:12.409Z"
   },
   {
    "duration": 77,
    "start_time": "2022-05-06T10:38:12.946Z"
   },
   {
    "duration": 31,
    "start_time": "2022-05-06T10:38:13.026Z"
   },
   {
    "duration": 35,
    "start_time": "2022-05-06T10:38:13.059Z"
   },
   {
    "duration": 13,
    "start_time": "2022-05-06T10:38:13.097Z"
   },
   {
    "duration": 7,
    "start_time": "2022-05-06T10:38:13.112Z"
   },
   {
    "duration": 8,
    "start_time": "2022-05-06T10:38:13.121Z"
   },
   {
    "duration": 6,
    "start_time": "2022-05-06T10:38:13.132Z"
   },
   {
    "duration": 8,
    "start_time": "2022-05-06T10:38:13.183Z"
   },
   {
    "duration": 14,
    "start_time": "2022-05-06T10:38:13.193Z"
   },
   {
    "duration": 7,
    "start_time": "2022-05-06T10:38:13.210Z"
   },
   {
    "duration": 7,
    "start_time": "2022-05-06T10:38:13.219Z"
   },
   {
    "duration": 53,
    "start_time": "2022-05-06T10:38:13.229Z"
   },
   {
    "duration": 8,
    "start_time": "2022-05-06T10:38:13.286Z"
   },
   {
    "duration": 111,
    "start_time": "2022-05-06T10:41:12.408Z"
   },
   {
    "duration": 497,
    "start_time": "2022-05-06T10:42:17.189Z"
   },
   {
    "duration": 73,
    "start_time": "2022-05-06T10:42:17.688Z"
   },
   {
    "duration": 38,
    "start_time": "2022-05-06T10:42:17.763Z"
   },
   {
    "duration": 22,
    "start_time": "2022-05-06T10:42:17.804Z"
   },
   {
    "duration": 13,
    "start_time": "2022-05-06T10:42:17.829Z"
   },
   {
    "duration": 39,
    "start_time": "2022-05-06T10:42:17.844Z"
   },
   {
    "duration": 8,
    "start_time": "2022-05-06T10:42:17.885Z"
   },
   {
    "duration": 5,
    "start_time": "2022-05-06T10:42:17.895Z"
   },
   {
    "duration": 12,
    "start_time": "2022-05-06T10:42:17.902Z"
   },
   {
    "duration": 13,
    "start_time": "2022-05-06T10:42:17.916Z"
   },
   {
    "duration": 8,
    "start_time": "2022-05-06T10:42:17.931Z"
   },
   {
    "duration": 7,
    "start_time": "2022-05-06T10:42:17.983Z"
   },
   {
    "duration": 10,
    "start_time": "2022-05-06T10:42:17.992Z"
   },
   {
    "duration": 8,
    "start_time": "2022-05-06T10:42:18.006Z"
   },
   {
    "duration": 5,
    "start_time": "2022-05-06T10:43:44.220Z"
   },
   {
    "duration": 7,
    "start_time": "2022-05-06T10:43:45.438Z"
   },
   {
    "duration": 6,
    "start_time": "2022-05-06T10:59:35.641Z"
   },
   {
    "duration": 96,
    "start_time": "2022-05-06T10:59:54.035Z"
   },
   {
    "duration": 12,
    "start_time": "2022-05-06T11:00:03.012Z"
   },
   {
    "duration": 7,
    "start_time": "2022-05-06T11:00:07.985Z"
   },
   {
    "duration": 7,
    "start_time": "2022-05-06T11:00:34.258Z"
   },
   {
    "duration": 8,
    "start_time": "2022-05-06T11:00:45.192Z"
   },
   {
    "duration": 550,
    "start_time": "2022-05-06T11:01:02.778Z"
   },
   {
    "duration": 78,
    "start_time": "2022-05-06T11:01:03.331Z"
   },
   {
    "duration": 30,
    "start_time": "2022-05-06T11:01:03.411Z"
   },
   {
    "duration": 38,
    "start_time": "2022-05-06T11:01:03.443Z"
   },
   {
    "duration": 13,
    "start_time": "2022-05-06T11:01:03.485Z"
   },
   {
    "duration": 7,
    "start_time": "2022-05-06T11:01:03.500Z"
   },
   {
    "duration": 10,
    "start_time": "2022-05-06T11:01:03.509Z"
   },
   {
    "duration": 19,
    "start_time": "2022-05-06T11:01:03.521Z"
   },
   {
    "duration": 17,
    "start_time": "2022-05-06T11:01:03.542Z"
   },
   {
    "duration": 25,
    "start_time": "2022-05-06T11:01:03.562Z"
   },
   {
    "duration": 17,
    "start_time": "2022-05-06T11:01:03.589Z"
   },
   {
    "duration": 9,
    "start_time": "2022-05-06T11:01:03.608Z"
   },
   {
    "duration": 7,
    "start_time": "2022-05-06T11:01:03.620Z"
   },
   {
    "duration": 13,
    "start_time": "2022-05-06T11:01:03.630Z"
   },
   {
    "duration": 38,
    "start_time": "2022-05-06T11:01:03.645Z"
   },
   {
    "duration": 27,
    "start_time": "2022-05-06T11:05:09.894Z"
   },
   {
    "duration": 32,
    "start_time": "2022-05-06T11:06:18.289Z"
   },
   {
    "duration": 125,
    "start_time": "2022-05-06T11:06:36.937Z"
   },
   {
    "duration": 28,
    "start_time": "2022-05-06T11:06:44.120Z"
   },
   {
    "duration": 542,
    "start_time": "2022-05-06T11:09:37.664Z"
   },
   {
    "duration": 78,
    "start_time": "2022-05-06T11:09:38.209Z"
   },
   {
    "duration": 32,
    "start_time": "2022-05-06T11:09:38.290Z"
   },
   {
    "duration": 24,
    "start_time": "2022-05-06T11:09:38.327Z"
   },
   {
    "duration": 40,
    "start_time": "2022-05-06T11:09:38.354Z"
   },
   {
    "duration": 6,
    "start_time": "2022-05-06T11:09:38.397Z"
   },
   {
    "duration": 9,
    "start_time": "2022-05-06T11:09:38.406Z"
   },
   {
    "duration": 9,
    "start_time": "2022-05-06T11:09:38.418Z"
   },
   {
    "duration": 18,
    "start_time": "2022-05-06T11:09:38.429Z"
   },
   {
    "duration": 9,
    "start_time": "2022-05-06T11:09:38.481Z"
   },
   {
    "duration": 10,
    "start_time": "2022-05-06T11:09:38.492Z"
   },
   {
    "duration": 7,
    "start_time": "2022-05-06T11:09:38.505Z"
   },
   {
    "duration": 5,
    "start_time": "2022-05-06T11:09:38.515Z"
   },
   {
    "duration": 60,
    "start_time": "2022-05-06T11:09:38.523Z"
   },
   {
    "duration": 10,
    "start_time": "2022-05-06T11:09:38.586Z"
   },
   {
    "duration": 32,
    "start_time": "2022-05-06T11:09:38.598Z"
   },
   {
    "duration": 58,
    "start_time": "2022-05-06T11:09:38.633Z"
   },
   {
    "duration": 27,
    "start_time": "2022-05-06T11:09:38.693Z"
   },
   {
    "duration": 199,
    "start_time": "2022-05-06T11:09:38.722Z"
   },
   {
    "duration": 562,
    "start_time": "2022-05-06T11:15:55.210Z"
   },
   {
    "duration": 74,
    "start_time": "2022-05-06T11:15:55.774Z"
   },
   {
    "duration": 43,
    "start_time": "2022-05-06T11:15:55.850Z"
   },
   {
    "duration": 32,
    "start_time": "2022-05-06T11:15:55.896Z"
   },
   {
    "duration": 21,
    "start_time": "2022-05-06T11:15:55.931Z"
   },
   {
    "duration": 36,
    "start_time": "2022-05-06T11:15:55.955Z"
   },
   {
    "duration": 9,
    "start_time": "2022-05-06T11:15:55.993Z"
   },
   {
    "duration": 6,
    "start_time": "2022-05-06T11:15:56.004Z"
   },
   {
    "duration": 11,
    "start_time": "2022-05-06T11:15:56.012Z"
   },
   {
    "duration": 16,
    "start_time": "2022-05-06T11:15:56.027Z"
   },
   {
    "duration": 42,
    "start_time": "2022-05-06T11:15:56.045Z"
   },
   {
    "duration": 10,
    "start_time": "2022-05-06T11:15:56.090Z"
   },
   {
    "duration": 6,
    "start_time": "2022-05-06T11:15:56.103Z"
   },
   {
    "duration": 13,
    "start_time": "2022-05-06T11:15:56.111Z"
   },
   {
    "duration": 9,
    "start_time": "2022-05-06T11:15:56.126Z"
   },
   {
    "duration": 64,
    "start_time": "2022-05-06T11:15:56.137Z"
   },
   {
    "duration": 38,
    "start_time": "2022-05-06T11:15:56.204Z"
   },
   {
    "duration": 54,
    "start_time": "2022-05-06T11:15:56.245Z"
   },
   {
    "duration": 678,
    "start_time": "2022-05-07T09:16:30.670Z"
   },
   {
    "duration": 81,
    "start_time": "2022-05-07T09:16:31.351Z"
   },
   {
    "duration": 31,
    "start_time": "2022-05-07T09:16:31.435Z"
   },
   {
    "duration": 23,
    "start_time": "2022-05-07T09:16:31.481Z"
   },
   {
    "duration": 14,
    "start_time": "2022-05-07T09:16:31.508Z"
   },
   {
    "duration": 15,
    "start_time": "2022-05-07T09:16:31.525Z"
   },
   {
    "duration": 27,
    "start_time": "2022-05-07T09:16:31.543Z"
   },
   {
    "duration": 11,
    "start_time": "2022-05-07T09:16:31.583Z"
   },
   {
    "duration": 11,
    "start_time": "2022-05-07T09:16:31.596Z"
   },
   {
    "duration": 13,
    "start_time": "2022-05-07T09:16:31.609Z"
   },
   {
    "duration": 12,
    "start_time": "2022-05-07T09:16:31.624Z"
   },
   {
    "duration": 8,
    "start_time": "2022-05-07T09:16:31.638Z"
   },
   {
    "duration": 34,
    "start_time": "2022-05-07T09:16:31.648Z"
   },
   {
    "duration": 16,
    "start_time": "2022-05-07T09:16:31.686Z"
   },
   {
    "duration": 20,
    "start_time": "2022-05-07T09:16:31.704Z"
   },
   {
    "duration": 32,
    "start_time": "2022-05-07T09:16:31.726Z"
   },
   {
    "duration": 50,
    "start_time": "2022-05-07T09:16:31.760Z"
   },
   {
    "duration": 28,
    "start_time": "2022-05-07T09:16:31.813Z"
   },
   {
    "duration": 7,
    "start_time": "2022-05-07T09:16:31.843Z"
   },
   {
    "duration": 10,
    "start_time": "2022-05-07T09:17:22.938Z"
   },
   {
    "duration": 808,
    "start_time": "2022-05-07T18:35:51.103Z"
   },
   {
    "duration": 435,
    "start_time": "2022-05-07T18:35:51.915Z"
   },
   {
    "duration": 50,
    "start_time": "2022-05-07T18:35:52.353Z"
   },
   {
    "duration": 58,
    "start_time": "2022-05-07T18:35:52.406Z"
   },
   {
    "duration": 87,
    "start_time": "2022-05-07T18:35:52.470Z"
   },
   {
    "duration": 8,
    "start_time": "2022-05-07T18:35:52.560Z"
   },
   {
    "duration": 48,
    "start_time": "2022-05-07T18:35:52.571Z"
   },
   {
    "duration": 44,
    "start_time": "2022-05-07T18:35:52.622Z"
   },
   {
    "duration": 19,
    "start_time": "2022-05-07T18:35:52.669Z"
   },
   {
    "duration": 68,
    "start_time": "2022-05-07T18:35:52.694Z"
   },
   {
    "duration": 15,
    "start_time": "2022-05-07T18:35:52.769Z"
   },
   {
    "duration": 76,
    "start_time": "2022-05-07T18:35:52.787Z"
   },
   {
    "duration": 21,
    "start_time": "2022-05-07T18:35:52.866Z"
   },
   {
    "duration": 64,
    "start_time": "2022-05-07T18:35:52.893Z"
   },
   {
    "duration": 33,
    "start_time": "2022-05-07T18:35:52.961Z"
   },
   {
    "duration": 82,
    "start_time": "2022-05-07T18:35:52.997Z"
   },
   {
    "duration": 67,
    "start_time": "2022-05-07T18:35:53.096Z"
   },
   {
    "duration": 68,
    "start_time": "2022-05-07T18:35:53.168Z"
   },
   {
    "duration": 41,
    "start_time": "2022-05-07T18:35:53.240Z"
   },
   {
    "duration": 24,
    "start_time": "2022-05-07T18:40:58.654Z"
   },
   {
    "duration": 19,
    "start_time": "2022-05-07T18:41:36.071Z"
   },
   {
    "duration": 486,
    "start_time": "2022-05-07T18:41:40.626Z"
   },
   {
    "duration": 89,
    "start_time": "2022-05-07T18:41:41.115Z"
   },
   {
    "duration": 33,
    "start_time": "2022-05-07T18:41:41.212Z"
   },
   {
    "duration": 38,
    "start_time": "2022-05-07T18:41:41.248Z"
   },
   {
    "duration": 17,
    "start_time": "2022-05-07T18:41:41.291Z"
   },
   {
    "duration": 8,
    "start_time": "2022-05-07T18:41:41.312Z"
   },
   {
    "duration": 9,
    "start_time": "2022-05-07T18:41:41.323Z"
   },
   {
    "duration": 46,
    "start_time": "2022-05-07T18:41:41.336Z"
   },
   {
    "duration": 10,
    "start_time": "2022-05-07T18:41:41.385Z"
   },
   {
    "duration": 17,
    "start_time": "2022-05-07T18:41:41.398Z"
   },
   {
    "duration": 13,
    "start_time": "2022-05-07T18:41:41.419Z"
   },
   {
    "duration": 8,
    "start_time": "2022-05-07T18:41:41.435Z"
   },
   {
    "duration": 39,
    "start_time": "2022-05-07T18:41:41.445Z"
   },
   {
    "duration": 19,
    "start_time": "2022-05-07T18:41:41.490Z"
   },
   {
    "duration": 13,
    "start_time": "2022-05-07T18:41:41.513Z"
   },
   {
    "duration": 56,
    "start_time": "2022-05-07T18:41:41.530Z"
   },
   {
    "duration": 35,
    "start_time": "2022-05-07T18:41:41.590Z"
   },
   {
    "duration": 28,
    "start_time": "2022-05-07T18:41:41.628Z"
   },
   {
    "duration": 11,
    "start_time": "2022-05-07T18:41:41.682Z"
   },
   {
    "duration": 23,
    "start_time": "2022-05-07T18:41:41.696Z"
   },
   {
    "duration": 654,
    "start_time": "2022-05-07T18:41:51.166Z"
   },
   {
    "duration": 118,
    "start_time": "2022-05-07T18:41:51.823Z"
   },
   {
    "duration": 52,
    "start_time": "2022-05-07T18:41:51.945Z"
   },
   {
    "duration": 30,
    "start_time": "2022-05-07T18:41:52.000Z"
   },
   {
    "duration": 47,
    "start_time": "2022-05-07T18:41:52.035Z"
   },
   {
    "duration": 10,
    "start_time": "2022-05-07T18:41:52.086Z"
   },
   {
    "duration": 10,
    "start_time": "2022-05-07T18:41:52.099Z"
   },
   {
    "duration": 6,
    "start_time": "2022-05-07T18:41:52.112Z"
   },
   {
    "duration": 9,
    "start_time": "2022-05-07T18:41:52.121Z"
   },
   {
    "duration": 56,
    "start_time": "2022-05-07T18:41:52.132Z"
   },
   {
    "duration": 8,
    "start_time": "2022-05-07T18:41:52.191Z"
   },
   {
    "duration": 7,
    "start_time": "2022-05-07T18:41:52.201Z"
   },
   {
    "duration": 6,
    "start_time": "2022-05-07T18:41:52.212Z"
   },
   {
    "duration": 9,
    "start_time": "2022-05-07T18:41:52.223Z"
   },
   {
    "duration": 48,
    "start_time": "2022-05-07T18:41:52.235Z"
   },
   {
    "duration": 33,
    "start_time": "2022-05-07T18:41:52.287Z"
   },
   {
    "duration": 77,
    "start_time": "2022-05-07T18:41:52.323Z"
   },
   {
    "duration": 36,
    "start_time": "2022-05-07T18:41:52.402Z"
   },
   {
    "duration": 44,
    "start_time": "2022-05-07T18:41:52.441Z"
   },
   {
    "duration": 28,
    "start_time": "2022-05-07T18:41:52.488Z"
   },
   {
    "duration": 534,
    "start_time": "2022-05-07T18:43:56.019Z"
   },
   {
    "duration": 79,
    "start_time": "2022-05-07T18:43:56.558Z"
   },
   {
    "duration": 57,
    "start_time": "2022-05-07T18:43:56.640Z"
   },
   {
    "duration": 29,
    "start_time": "2022-05-07T18:43:56.700Z"
   },
   {
    "duration": 15,
    "start_time": "2022-05-07T18:43:56.733Z"
   },
   {
    "duration": 35,
    "start_time": "2022-05-07T18:43:56.751Z"
   },
   {
    "duration": 8,
    "start_time": "2022-05-07T18:43:56.789Z"
   },
   {
    "duration": 10,
    "start_time": "2022-05-07T18:43:56.801Z"
   },
   {
    "duration": 8,
    "start_time": "2022-05-07T18:43:56.814Z"
   },
   {
    "duration": 9,
    "start_time": "2022-05-07T18:43:56.825Z"
   },
   {
    "duration": 47,
    "start_time": "2022-05-07T18:43:56.837Z"
   },
   {
    "duration": 16,
    "start_time": "2022-05-07T18:43:56.887Z"
   },
   {
    "duration": 7,
    "start_time": "2022-05-07T18:43:56.906Z"
   },
   {
    "duration": 15,
    "start_time": "2022-05-07T18:43:56.917Z"
   },
   {
    "duration": 13,
    "start_time": "2022-05-07T18:43:56.935Z"
   },
   {
    "duration": 65,
    "start_time": "2022-05-07T18:43:56.951Z"
   },
   {
    "duration": 40,
    "start_time": "2022-05-07T18:43:57.020Z"
   },
   {
    "duration": 37,
    "start_time": "2022-05-07T18:43:57.081Z"
   },
   {
    "duration": 10,
    "start_time": "2022-05-07T18:43:57.120Z"
   },
   {
    "duration": 57,
    "start_time": "2022-05-07T18:43:57.132Z"
   },
   {
    "duration": 620,
    "start_time": "2022-05-07T18:44:25.604Z"
   },
   {
    "duration": 115,
    "start_time": "2022-05-07T18:44:26.228Z"
   },
   {
    "duration": 65,
    "start_time": "2022-05-07T18:44:26.351Z"
   },
   {
    "duration": 44,
    "start_time": "2022-05-07T18:44:26.424Z"
   },
   {
    "duration": 32,
    "start_time": "2022-05-07T18:44:26.471Z"
   },
   {
    "duration": 29,
    "start_time": "2022-05-07T18:44:26.506Z"
   },
   {
    "duration": 33,
    "start_time": "2022-05-07T18:44:26.539Z"
   },
   {
    "duration": 20,
    "start_time": "2022-05-07T18:44:26.575Z"
   },
   {
    "duration": 13,
    "start_time": "2022-05-07T18:44:26.600Z"
   },
   {
    "duration": 18,
    "start_time": "2022-05-07T18:44:26.616Z"
   },
   {
    "duration": 26,
    "start_time": "2022-05-07T18:44:26.637Z"
   },
   {
    "duration": 15,
    "start_time": "2022-05-07T18:44:26.666Z"
   },
   {
    "duration": 16,
    "start_time": "2022-05-07T18:44:26.684Z"
   },
   {
    "duration": 15,
    "start_time": "2022-05-07T18:44:26.707Z"
   },
   {
    "duration": 22,
    "start_time": "2022-05-07T18:44:26.724Z"
   },
   {
    "duration": 40,
    "start_time": "2022-05-07T18:44:26.749Z"
   },
   {
    "duration": 42,
    "start_time": "2022-05-07T18:44:26.792Z"
   },
   {
    "duration": 53,
    "start_time": "2022-05-07T18:44:26.837Z"
   },
   {
    "duration": 14,
    "start_time": "2022-05-07T18:44:26.894Z"
   },
   {
    "duration": 41,
    "start_time": "2022-05-07T18:44:26.911Z"
   },
   {
    "duration": 35,
    "start_time": "2022-05-07T18:45:25.524Z"
   },
   {
    "duration": 26,
    "start_time": "2022-05-07T18:49:01.300Z"
   },
   {
    "duration": 70,
    "start_time": "2022-05-07T18:49:21.191Z"
   },
   {
    "duration": 678,
    "start_time": "2022-05-07T18:51:57.483Z"
   },
   {
    "duration": 113,
    "start_time": "2022-05-07T18:51:58.171Z"
   },
   {
    "duration": 46,
    "start_time": "2022-05-07T18:51:58.287Z"
   },
   {
    "duration": 43,
    "start_time": "2022-05-07T18:51:58.344Z"
   },
   {
    "duration": 33,
    "start_time": "2022-05-07T18:51:58.397Z"
   },
   {
    "duration": 20,
    "start_time": "2022-05-07T18:51:58.439Z"
   },
   {
    "duration": 22,
    "start_time": "2022-05-07T18:51:58.468Z"
   },
   {
    "duration": 16,
    "start_time": "2022-05-07T18:51:58.498Z"
   },
   {
    "duration": 21,
    "start_time": "2022-05-07T18:51:58.523Z"
   },
   {
    "duration": 33,
    "start_time": "2022-05-07T18:51:58.555Z"
   },
   {
    "duration": 21,
    "start_time": "2022-05-07T18:51:58.597Z"
   },
   {
    "duration": 20,
    "start_time": "2022-05-07T18:51:58.627Z"
   },
   {
    "duration": 14,
    "start_time": "2022-05-07T18:51:58.656Z"
   },
   {
    "duration": 25,
    "start_time": "2022-05-07T18:51:58.677Z"
   },
   {
    "duration": 99,
    "start_time": "2022-05-07T18:51:58.705Z"
   },
   {
    "duration": 80,
    "start_time": "2022-05-07T18:51:58.808Z"
   },
   {
    "duration": 49,
    "start_time": "2022-05-07T18:51:58.897Z"
   },
   {
    "duration": 52,
    "start_time": "2022-05-07T18:51:58.950Z"
   },
   {
    "duration": 33,
    "start_time": "2022-05-07T18:51:59.009Z"
   },
   {
    "duration": 52,
    "start_time": "2022-05-07T18:51:59.050Z"
   },
   {
    "duration": 19,
    "start_time": "2022-05-07T18:53:15.421Z"
   },
   {
    "duration": 49,
    "start_time": "2022-05-07T18:53:30.958Z"
   },
   {
    "duration": 688,
    "start_time": "2022-05-07T18:54:41.740Z"
   },
   {
    "duration": 119,
    "start_time": "2022-05-07T18:54:42.432Z"
   },
   {
    "duration": 54,
    "start_time": "2022-05-07T18:54:42.555Z"
   },
   {
    "duration": 32,
    "start_time": "2022-05-07T18:54:42.612Z"
   },
   {
    "duration": 47,
    "start_time": "2022-05-07T18:54:42.649Z"
   },
   {
    "duration": 19,
    "start_time": "2022-05-07T18:54:42.700Z"
   },
   {
    "duration": 47,
    "start_time": "2022-05-07T18:54:42.723Z"
   },
   {
    "duration": 24,
    "start_time": "2022-05-07T18:54:42.773Z"
   },
   {
    "duration": 22,
    "start_time": "2022-05-07T18:54:42.801Z"
   },
   {
    "duration": 34,
    "start_time": "2022-05-07T18:54:42.826Z"
   },
   {
    "duration": 11,
    "start_time": "2022-05-07T18:54:42.870Z"
   },
   {
    "duration": 35,
    "start_time": "2022-05-07T18:54:42.885Z"
   },
   {
    "duration": 25,
    "start_time": "2022-05-07T18:54:42.925Z"
   },
   {
    "duration": 20,
    "start_time": "2022-05-07T18:54:42.956Z"
   },
   {
    "duration": 31,
    "start_time": "2022-05-07T18:54:42.980Z"
   },
   {
    "duration": 58,
    "start_time": "2022-05-07T18:54:43.014Z"
   },
   {
    "duration": 50,
    "start_time": "2022-05-07T18:54:43.081Z"
   },
   {
    "duration": 49,
    "start_time": "2022-05-07T18:54:43.140Z"
   },
   {
    "duration": 25,
    "start_time": "2022-05-07T18:54:43.197Z"
   },
   {
    "duration": 49,
    "start_time": "2022-05-07T18:54:43.231Z"
   },
   {
    "duration": 20,
    "start_time": "2022-05-07T18:54:43.289Z"
   },
   {
    "duration": 51,
    "start_time": "2022-05-07T18:54:43.317Z"
   },
   {
    "duration": 160,
    "start_time": "2022-05-07T18:55:42.439Z"
   },
   {
    "duration": 42,
    "start_time": "2022-05-07T18:55:48.993Z"
   },
   {
    "duration": 21,
    "start_time": "2022-05-07T19:01:23.410Z"
   },
   {
    "duration": 117,
    "start_time": "2022-05-07T19:04:09.016Z"
   },
   {
    "duration": 104,
    "start_time": "2022-05-07T19:04:21.384Z"
   },
   {
    "duration": 100,
    "start_time": "2022-05-07T19:04:27.067Z"
   },
   {
    "duration": 99,
    "start_time": "2022-05-07T19:04:31.925Z"
   },
   {
    "duration": 92,
    "start_time": "2022-05-07T19:04:40.367Z"
   },
   {
    "duration": 1750,
    "start_time": "2022-05-07T19:05:19.913Z"
   },
   {
    "duration": 1677,
    "start_time": "2022-05-07T19:05:29.061Z"
   },
   {
    "duration": 6,
    "start_time": "2022-05-07T19:05:45.532Z"
   },
   {
    "duration": 26,
    "start_time": "2022-05-07T19:05:52.195Z"
   },
   {
    "duration": 578,
    "start_time": "2022-05-07T19:07:45.813Z"
   },
   {
    "duration": 89,
    "start_time": "2022-05-07T19:07:46.394Z"
   },
   {
    "duration": 34,
    "start_time": "2022-05-07T19:07:46.486Z"
   },
   {
    "duration": 22,
    "start_time": "2022-05-07T19:07:46.523Z"
   },
   {
    "duration": 38,
    "start_time": "2022-05-07T19:07:46.549Z"
   },
   {
    "duration": 12,
    "start_time": "2022-05-07T19:07:46.590Z"
   },
   {
    "duration": 16,
    "start_time": "2022-05-07T19:07:46.605Z"
   },
   {
    "duration": 6,
    "start_time": "2022-05-07T19:07:46.623Z"
   },
   {
    "duration": 9,
    "start_time": "2022-05-07T19:07:46.631Z"
   },
   {
    "duration": 48,
    "start_time": "2022-05-07T19:07:46.643Z"
   },
   {
    "duration": 15,
    "start_time": "2022-05-07T19:07:46.693Z"
   },
   {
    "duration": 15,
    "start_time": "2022-05-07T19:07:46.711Z"
   },
   {
    "duration": 8,
    "start_time": "2022-05-07T19:07:46.729Z"
   },
   {
    "duration": 9,
    "start_time": "2022-05-07T19:07:46.741Z"
   },
   {
    "duration": 39,
    "start_time": "2022-05-07T19:07:46.752Z"
   },
   {
    "duration": 35,
    "start_time": "2022-05-07T19:07:46.793Z"
   },
   {
    "duration": 51,
    "start_time": "2022-05-07T19:07:46.831Z"
   },
   {
    "duration": 28,
    "start_time": "2022-05-07T19:07:46.884Z"
   },
   {
    "duration": 9,
    "start_time": "2022-05-07T19:07:46.914Z"
   },
   {
    "duration": 32,
    "start_time": "2022-05-07T19:07:46.926Z"
   },
   {
    "duration": 10,
    "start_time": "2022-05-07T19:07:46.983Z"
   },
   {
    "duration": 39,
    "start_time": "2022-05-07T19:07:46.995Z"
   },
   {
    "duration": 13,
    "start_time": "2022-05-07T19:07:47.037Z"
   },
   {
    "duration": 43,
    "start_time": "2022-05-07T19:07:47.053Z"
   },
   {
    "duration": 13,
    "start_time": "2022-05-07T19:13:08.686Z"
   },
   {
    "duration": 118,
    "start_time": "2022-05-07T19:15:07.762Z"
   },
   {
    "duration": 613,
    "start_time": "2022-05-07T19:15:33.445Z"
   },
   {
    "duration": 110,
    "start_time": "2022-05-07T19:15:34.065Z"
   },
   {
    "duration": 44,
    "start_time": "2022-05-07T19:15:34.181Z"
   },
   {
    "duration": 32,
    "start_time": "2022-05-07T19:15:34.228Z"
   },
   {
    "duration": 23,
    "start_time": "2022-05-07T19:15:34.288Z"
   },
   {
    "duration": 8,
    "start_time": "2022-05-07T19:15:34.314Z"
   },
   {
    "duration": 22,
    "start_time": "2022-05-07T19:15:34.325Z"
   },
   {
    "duration": 16,
    "start_time": "2022-05-07T19:15:34.350Z"
   },
   {
    "duration": 8,
    "start_time": "2022-05-07T19:15:34.382Z"
   },
   {
    "duration": 17,
    "start_time": "2022-05-07T19:15:34.393Z"
   },
   {
    "duration": 9,
    "start_time": "2022-05-07T19:15:34.414Z"
   },
   {
    "duration": 17,
    "start_time": "2022-05-07T19:15:34.426Z"
   },
   {
    "duration": 14,
    "start_time": "2022-05-07T19:15:34.446Z"
   },
   {
    "duration": 9,
    "start_time": "2022-05-07T19:15:34.483Z"
   },
   {
    "duration": 19,
    "start_time": "2022-05-07T19:15:34.495Z"
   },
   {
    "duration": 38,
    "start_time": "2022-05-07T19:15:34.520Z"
   },
   {
    "duration": 39,
    "start_time": "2022-05-07T19:15:34.581Z"
   },
   {
    "duration": 35,
    "start_time": "2022-05-07T19:15:34.623Z"
   },
   {
    "duration": 39,
    "start_time": "2022-05-07T19:15:34.661Z"
   },
   {
    "duration": 41,
    "start_time": "2022-05-07T19:15:34.703Z"
   },
   {
    "duration": 13,
    "start_time": "2022-05-07T19:15:34.747Z"
   },
   {
    "duration": 40,
    "start_time": "2022-05-07T19:15:34.781Z"
   },
   {
    "duration": 12,
    "start_time": "2022-05-07T19:15:34.824Z"
   },
   {
    "duration": 50,
    "start_time": "2022-05-07T19:15:34.839Z"
   },
   {
    "duration": 13,
    "start_time": "2022-05-07T19:15:34.891Z"
   },
   {
    "duration": 125,
    "start_time": "2022-05-07T19:15:34.906Z"
   },
   {
    "duration": 0,
    "start_time": "2022-05-07T19:15:35.037Z"
   },
   {
    "duration": 602,
    "start_time": "2022-05-07T19:15:41.895Z"
   },
   {
    "duration": 105,
    "start_time": "2022-05-07T19:15:42.505Z"
   },
   {
    "duration": 43,
    "start_time": "2022-05-07T19:15:42.613Z"
   },
   {
    "duration": 46,
    "start_time": "2022-05-07T19:15:42.659Z"
   },
   {
    "duration": 19,
    "start_time": "2022-05-07T19:15:42.709Z"
   },
   {
    "duration": 8,
    "start_time": "2022-05-07T19:15:42.732Z"
   },
   {
    "duration": 45,
    "start_time": "2022-05-07T19:15:42.742Z"
   },
   {
    "duration": 5,
    "start_time": "2022-05-07T19:15:42.791Z"
   },
   {
    "duration": 15,
    "start_time": "2022-05-07T19:15:42.799Z"
   },
   {
    "duration": 12,
    "start_time": "2022-05-07T19:15:42.816Z"
   },
   {
    "duration": 8,
    "start_time": "2022-05-07T19:15:42.831Z"
   },
   {
    "duration": 44,
    "start_time": "2022-05-07T19:15:42.841Z"
   },
   {
    "duration": 12,
    "start_time": "2022-05-07T19:15:42.888Z"
   },
   {
    "duration": 8,
    "start_time": "2022-05-07T19:15:42.908Z"
   },
   {
    "duration": 21,
    "start_time": "2022-05-07T19:15:42.920Z"
   },
   {
    "duration": 55,
    "start_time": "2022-05-07T19:15:42.952Z"
   },
   {
    "duration": 40,
    "start_time": "2022-05-07T19:15:43.010Z"
   },
   {
    "duration": 52,
    "start_time": "2022-05-07T19:15:43.053Z"
   },
   {
    "duration": 17,
    "start_time": "2022-05-07T19:15:43.108Z"
   },
   {
    "duration": 25,
    "start_time": "2022-05-07T19:15:43.128Z"
   },
   {
    "duration": 33,
    "start_time": "2022-05-07T19:15:43.157Z"
   },
   {
    "duration": 30,
    "start_time": "2022-05-07T19:15:43.193Z"
   },
   {
    "duration": 17,
    "start_time": "2022-05-07T19:15:43.226Z"
   },
   {
    "duration": 70,
    "start_time": "2022-05-07T19:15:43.246Z"
   },
   {
    "duration": 19,
    "start_time": "2022-05-07T19:15:43.319Z"
   },
   {
    "duration": 23,
    "start_time": "2022-05-07T19:15:43.341Z"
   },
   {
    "duration": 16,
    "start_time": "2022-05-07T19:18:09.664Z"
   },
   {
    "duration": 16,
    "start_time": "2022-05-07T19:18:26.821Z"
   },
   {
    "duration": 5,
    "start_time": "2022-05-07T19:20:37.267Z"
   },
   {
    "duration": 35,
    "start_time": "2022-05-07T19:20:41.749Z"
   },
   {
    "duration": 18,
    "start_time": "2022-05-07T19:20:59.088Z"
   },
   {
    "duration": 547,
    "start_time": "2022-05-07T19:22:00.004Z"
   },
   {
    "duration": 91,
    "start_time": "2022-05-07T19:22:00.555Z"
   },
   {
    "duration": 35,
    "start_time": "2022-05-07T19:22:00.648Z"
   },
   {
    "duration": 24,
    "start_time": "2022-05-07T19:22:00.687Z"
   },
   {
    "duration": 23,
    "start_time": "2022-05-07T19:22:00.715Z"
   },
   {
    "duration": 27,
    "start_time": "2022-05-07T19:22:00.740Z"
   },
   {
    "duration": 24,
    "start_time": "2022-05-07T19:22:00.781Z"
   },
   {
    "duration": 19,
    "start_time": "2022-05-07T19:22:00.808Z"
   },
   {
    "duration": 20,
    "start_time": "2022-05-07T19:22:00.830Z"
   },
   {
    "duration": 12,
    "start_time": "2022-05-07T19:22:00.855Z"
   },
   {
    "duration": 29,
    "start_time": "2022-05-07T19:22:00.869Z"
   },
   {
    "duration": 6,
    "start_time": "2022-05-07T19:22:00.901Z"
   },
   {
    "duration": 14,
    "start_time": "2022-05-07T19:22:00.909Z"
   },
   {
    "duration": 19,
    "start_time": "2022-05-07T19:22:00.926Z"
   },
   {
    "duration": 26,
    "start_time": "2022-05-07T19:22:00.948Z"
   },
   {
    "duration": 49,
    "start_time": "2022-05-07T19:22:00.976Z"
   },
   {
    "duration": 40,
    "start_time": "2022-05-07T19:22:01.028Z"
   },
   {
    "duration": 35,
    "start_time": "2022-05-07T19:22:01.070Z"
   },
   {
    "duration": 12,
    "start_time": "2022-05-07T19:22:01.109Z"
   },
   {
    "duration": 59,
    "start_time": "2022-05-07T19:22:01.124Z"
   },
   {
    "duration": 13,
    "start_time": "2022-05-07T19:22:01.186Z"
   },
   {
    "duration": 50,
    "start_time": "2022-05-07T19:22:01.202Z"
   },
   {
    "duration": 33,
    "start_time": "2022-05-07T19:22:01.255Z"
   },
   {
    "duration": 29,
    "start_time": "2022-05-07T19:22:01.290Z"
   },
   {
    "duration": 17,
    "start_time": "2022-05-07T19:22:01.321Z"
   },
   {
    "duration": 14,
    "start_time": "2022-05-07T19:22:01.340Z"
   },
   {
    "duration": 639,
    "start_time": "2022-05-07T19:23:04.661Z"
   },
   {
    "duration": 111,
    "start_time": "2022-05-07T19:23:05.306Z"
   },
   {
    "duration": 41,
    "start_time": "2022-05-07T19:23:05.420Z"
   },
   {
    "duration": 46,
    "start_time": "2022-05-07T19:23:05.464Z"
   },
   {
    "duration": 19,
    "start_time": "2022-05-07T19:23:05.513Z"
   },
   {
    "duration": 8,
    "start_time": "2022-05-07T19:23:05.535Z"
   },
   {
    "duration": 9,
    "start_time": "2022-05-07T19:23:05.581Z"
   },
   {
    "duration": 6,
    "start_time": "2022-05-07T19:23:05.592Z"
   },
   {
    "duration": 17,
    "start_time": "2022-05-07T19:23:05.601Z"
   },
   {
    "duration": 10,
    "start_time": "2022-05-07T19:23:05.624Z"
   },
   {
    "duration": 47,
    "start_time": "2022-05-07T19:23:05.636Z"
   },
   {
    "duration": 7,
    "start_time": "2022-05-07T19:23:05.686Z"
   },
   {
    "duration": 10,
    "start_time": "2022-05-07T19:23:05.695Z"
   },
   {
    "duration": 7,
    "start_time": "2022-05-07T19:23:05.708Z"
   },
   {
    "duration": 10,
    "start_time": "2022-05-07T19:23:05.718Z"
   },
   {
    "duration": 82,
    "start_time": "2022-05-07T19:23:05.731Z"
   },
   {
    "duration": 30,
    "start_time": "2022-05-07T19:23:05.815Z"
   },
   {
    "duration": 63,
    "start_time": "2022-05-07T19:23:05.847Z"
   },
   {
    "duration": 13,
    "start_time": "2022-05-07T19:23:05.912Z"
   },
   {
    "duration": 62,
    "start_time": "2022-05-07T19:23:05.928Z"
   },
   {
    "duration": 13,
    "start_time": "2022-05-07T19:23:05.993Z"
   },
   {
    "duration": 49,
    "start_time": "2022-05-07T19:23:06.009Z"
   },
   {
    "duration": 27,
    "start_time": "2022-05-07T19:23:06.060Z"
   },
   {
    "duration": 19,
    "start_time": "2022-05-07T19:23:06.090Z"
   },
   {
    "duration": 13,
    "start_time": "2022-05-07T19:23:06.112Z"
   },
   {
    "duration": 55,
    "start_time": "2022-05-07T19:23:06.127Z"
   },
   {
    "duration": 608,
    "start_time": "2022-05-07T19:23:24.091Z"
   },
   {
    "duration": 738,
    "start_time": "2022-05-07T19:23:24.703Z"
   },
   {
    "duration": 52,
    "start_time": "2022-05-07T19:23:25.444Z"
   },
   {
    "duration": 29,
    "start_time": "2022-05-07T19:23:25.502Z"
   },
   {
    "duration": 19,
    "start_time": "2022-05-07T19:23:25.535Z"
   },
   {
    "duration": 9,
    "start_time": "2022-05-07T19:23:25.581Z"
   },
   {
    "duration": 19,
    "start_time": "2022-05-07T19:23:25.592Z"
   },
   {
    "duration": 7,
    "start_time": "2022-05-07T19:23:25.614Z"
   },
   {
    "duration": 8,
    "start_time": "2022-05-07T19:23:25.624Z"
   },
   {
    "duration": 53,
    "start_time": "2022-05-07T19:23:25.635Z"
   },
   {
    "duration": 8,
    "start_time": "2022-05-07T19:23:25.691Z"
   },
   {
    "duration": 7,
    "start_time": "2022-05-07T19:23:25.702Z"
   },
   {
    "duration": 10,
    "start_time": "2022-05-07T19:23:25.712Z"
   },
   {
    "duration": 8,
    "start_time": "2022-05-07T19:23:25.727Z"
   },
   {
    "duration": 51,
    "start_time": "2022-05-07T19:23:25.737Z"
   },
   {
    "duration": 37,
    "start_time": "2022-05-07T19:23:25.791Z"
   },
   {
    "duration": 61,
    "start_time": "2022-05-07T19:23:25.831Z"
   },
   {
    "duration": 27,
    "start_time": "2022-05-07T19:23:25.894Z"
   },
   {
    "duration": 10,
    "start_time": "2022-05-07T19:23:25.924Z"
   },
   {
    "duration": 68,
    "start_time": "2022-05-07T19:23:25.936Z"
   },
   {
    "duration": 13,
    "start_time": "2022-05-07T19:23:26.006Z"
   },
   {
    "duration": 62,
    "start_time": "2022-05-07T19:23:26.021Z"
   },
   {
    "duration": 10,
    "start_time": "2022-05-07T19:23:26.085Z"
   },
   {
    "duration": 25,
    "start_time": "2022-05-07T19:23:26.098Z"
   },
   {
    "duration": 13,
    "start_time": "2022-05-07T19:23:26.126Z"
   },
   {
    "duration": 63,
    "start_time": "2022-05-07T19:23:26.142Z"
   },
   {
    "duration": 5,
    "start_time": "2022-05-07T19:25:10.155Z"
   },
   {
    "duration": 5,
    "start_time": "2022-05-07T19:26:19.322Z"
   },
   {
    "duration": 162,
    "start_time": "2022-05-07T19:29:33.138Z"
   },
   {
    "duration": 4,
    "start_time": "2022-05-07T19:29:44.649Z"
   },
   {
    "duration": 13,
    "start_time": "2022-05-07T19:29:45.313Z"
   },
   {
    "duration": 10,
    "start_time": "2022-05-07T19:30:01.746Z"
   },
   {
    "duration": 19,
    "start_time": "2022-05-07T19:30:13.800Z"
   },
   {
    "duration": 15,
    "start_time": "2022-05-07T19:33:11.879Z"
   },
   {
    "duration": 505,
    "start_time": "2022-05-07T19:33:28.781Z"
   },
   {
    "duration": 81,
    "start_time": "2022-05-07T19:33:29.289Z"
   },
   {
    "duration": 32,
    "start_time": "2022-05-07T19:33:29.372Z"
   },
   {
    "duration": 21,
    "start_time": "2022-05-07T19:33:29.407Z"
   },
   {
    "duration": 18,
    "start_time": "2022-05-07T19:33:29.431Z"
   },
   {
    "duration": 35,
    "start_time": "2022-05-07T19:33:29.452Z"
   },
   {
    "duration": 11,
    "start_time": "2022-05-07T19:33:29.490Z"
   },
   {
    "duration": 7,
    "start_time": "2022-05-07T19:33:29.504Z"
   },
   {
    "duration": 10,
    "start_time": "2022-05-07T19:33:29.514Z"
   },
   {
    "duration": 12,
    "start_time": "2022-05-07T19:33:29.528Z"
   },
   {
    "duration": 44,
    "start_time": "2022-05-07T19:33:29.543Z"
   },
   {
    "duration": 7,
    "start_time": "2022-05-07T19:33:29.590Z"
   },
   {
    "duration": 9,
    "start_time": "2022-05-07T19:33:29.599Z"
   },
   {
    "duration": 7,
    "start_time": "2022-05-07T19:33:29.613Z"
   },
   {
    "duration": 13,
    "start_time": "2022-05-07T19:33:29.622Z"
   },
   {
    "duration": 72,
    "start_time": "2022-05-07T19:33:29.637Z"
   },
   {
    "duration": 31,
    "start_time": "2022-05-07T19:33:29.712Z"
   },
   {
    "duration": 56,
    "start_time": "2022-05-07T19:33:29.745Z"
   },
   {
    "duration": 10,
    "start_time": "2022-05-07T19:33:29.804Z"
   },
   {
    "duration": 29,
    "start_time": "2022-05-07T19:33:29.817Z"
   },
   {
    "duration": 37,
    "start_time": "2022-05-07T19:33:29.849Z"
   },
   {
    "duration": 28,
    "start_time": "2022-05-07T19:33:29.888Z"
   },
   {
    "duration": 12,
    "start_time": "2022-05-07T19:33:29.919Z"
   },
   {
    "duration": 50,
    "start_time": "2022-05-07T19:33:29.934Z"
   },
   {
    "duration": 10,
    "start_time": "2022-05-07T19:33:29.986Z"
   },
   {
    "duration": 18,
    "start_time": "2022-05-07T19:33:29.998Z"
   },
   {
    "duration": 7,
    "start_time": "2022-05-07T19:33:30.019Z"
   },
   {
    "duration": 10,
    "start_time": "2022-05-07T19:33:30.031Z"
   },
   {
    "duration": 46,
    "start_time": "2022-05-07T19:33:30.043Z"
   },
   {
    "duration": 10,
    "start_time": "2022-05-07T19:33:30.092Z"
   },
   {
    "duration": 21,
    "start_time": "2022-05-07T19:35:01.964Z"
   },
   {
    "duration": 10,
    "start_time": "2022-05-07T19:35:02.577Z"
   },
   {
    "duration": 508,
    "start_time": "2022-05-07T19:35:08.082Z"
   },
   {
    "duration": 75,
    "start_time": "2022-05-07T19:35:08.593Z"
   },
   {
    "duration": 39,
    "start_time": "2022-05-07T19:35:08.670Z"
   },
   {
    "duration": 26,
    "start_time": "2022-05-07T19:35:08.713Z"
   },
   {
    "duration": 40,
    "start_time": "2022-05-07T19:35:08.741Z"
   },
   {
    "duration": 7,
    "start_time": "2022-05-07T19:35:08.784Z"
   },
   {
    "duration": 14,
    "start_time": "2022-05-07T19:35:08.794Z"
   },
   {
    "duration": 5,
    "start_time": "2022-05-07T19:35:08.811Z"
   },
   {
    "duration": 8,
    "start_time": "2022-05-07T19:35:08.819Z"
   },
   {
    "duration": 55,
    "start_time": "2022-05-07T19:35:08.830Z"
   },
   {
    "duration": 10,
    "start_time": "2022-05-07T19:35:08.888Z"
   },
   {
    "duration": 10,
    "start_time": "2022-05-07T19:35:08.900Z"
   },
   {
    "duration": 7,
    "start_time": "2022-05-07T19:35:08.913Z"
   },
   {
    "duration": 8,
    "start_time": "2022-05-07T19:35:08.923Z"
   },
   {
    "duration": 14,
    "start_time": "2022-05-07T19:35:08.933Z"
   },
   {
    "duration": 28,
    "start_time": "2022-05-07T19:35:08.983Z"
   },
   {
    "duration": 32,
    "start_time": "2022-05-07T19:35:09.014Z"
   },
   {
    "duration": 66,
    "start_time": "2022-05-07T19:35:09.048Z"
   },
   {
    "duration": 14,
    "start_time": "2022-05-07T19:35:09.116Z"
   },
   {
    "duration": 51,
    "start_time": "2022-05-07T19:35:09.132Z"
   },
   {
    "duration": 10,
    "start_time": "2022-05-07T19:35:09.185Z"
   },
   {
    "duration": 30,
    "start_time": "2022-05-07T19:35:09.198Z"
   },
   {
    "duration": 11,
    "start_time": "2022-05-07T19:35:09.231Z"
   },
   {
    "duration": 51,
    "start_time": "2022-05-07T19:35:09.244Z"
   },
   {
    "duration": 13,
    "start_time": "2022-05-07T19:35:09.297Z"
   },
   {
    "duration": 19,
    "start_time": "2022-05-07T19:35:09.312Z"
   },
   {
    "duration": 8,
    "start_time": "2022-05-07T19:35:09.333Z"
   },
   {
    "duration": 36,
    "start_time": "2022-05-07T19:35:09.346Z"
   },
   {
    "duration": 24,
    "start_time": "2022-05-07T19:35:09.385Z"
   },
   {
    "duration": 11,
    "start_time": "2022-05-07T19:35:09.411Z"
   },
   {
    "duration": 668,
    "start_time": "2022-05-07T19:36:17.296Z"
   },
   {
    "duration": 110,
    "start_time": "2022-05-07T19:36:17.967Z"
   },
   {
    "duration": 44,
    "start_time": "2022-05-07T19:36:18.080Z"
   },
   {
    "duration": 31,
    "start_time": "2022-05-07T19:36:18.127Z"
   },
   {
    "duration": 19,
    "start_time": "2022-05-07T19:36:18.183Z"
   },
   {
    "duration": 7,
    "start_time": "2022-05-07T19:36:18.205Z"
   },
   {
    "duration": 12,
    "start_time": "2022-05-07T19:36:18.215Z"
   },
   {
    "duration": 6,
    "start_time": "2022-05-07T19:36:18.229Z"
   },
   {
    "duration": 47,
    "start_time": "2022-05-07T19:36:18.237Z"
   },
   {
    "duration": 13,
    "start_time": "2022-05-07T19:36:18.289Z"
   },
   {
    "duration": 7,
    "start_time": "2022-05-07T19:36:18.304Z"
   },
   {
    "duration": 10,
    "start_time": "2022-05-07T19:36:18.314Z"
   },
   {
    "duration": 7,
    "start_time": "2022-05-07T19:36:18.327Z"
   },
   {
    "duration": 47,
    "start_time": "2022-05-07T19:36:18.336Z"
   },
   {
    "duration": 9,
    "start_time": "2022-05-07T19:36:18.386Z"
   },
   {
    "duration": 28,
    "start_time": "2022-05-07T19:36:18.398Z"
   },
   {
    "duration": 76,
    "start_time": "2022-05-07T19:36:18.428Z"
   },
   {
    "duration": 26,
    "start_time": "2022-05-07T19:36:18.507Z"
   },
   {
    "duration": 10,
    "start_time": "2022-05-07T19:36:18.535Z"
   },
   {
    "duration": 52,
    "start_time": "2022-05-07T19:36:18.548Z"
   },
   {
    "duration": 9,
    "start_time": "2022-05-07T19:36:18.603Z"
   },
   {
    "duration": 67,
    "start_time": "2022-05-07T19:36:18.616Z"
   },
   {
    "duration": 13,
    "start_time": "2022-05-07T19:36:18.686Z"
   },
   {
    "duration": 27,
    "start_time": "2022-05-07T19:36:18.702Z"
   },
   {
    "duration": 19,
    "start_time": "2022-05-07T19:36:18.732Z"
   },
   {
    "duration": 40,
    "start_time": "2022-05-07T19:36:18.753Z"
   },
   {
    "duration": 12,
    "start_time": "2022-05-07T19:36:18.796Z"
   },
   {
    "duration": 9,
    "start_time": "2022-05-07T19:36:18.814Z"
   },
   {
    "duration": 69,
    "start_time": "2022-05-07T19:36:18.826Z"
   },
   {
    "duration": 14,
    "start_time": "2022-05-07T19:36:18.899Z"
   },
   {
    "duration": 502,
    "start_time": "2022-05-07T19:44:26.993Z"
   },
   {
    "duration": 76,
    "start_time": "2022-05-07T19:44:27.498Z"
   },
   {
    "duration": 34,
    "start_time": "2022-05-07T19:44:27.576Z"
   },
   {
    "duration": 29,
    "start_time": "2022-05-07T19:44:27.613Z"
   },
   {
    "duration": 50,
    "start_time": "2022-05-07T19:44:27.645Z"
   },
   {
    "duration": 11,
    "start_time": "2022-05-07T19:44:27.697Z"
   },
   {
    "duration": 7,
    "start_time": "2022-05-07T19:44:27.711Z"
   },
   {
    "duration": 5,
    "start_time": "2022-05-07T19:44:27.721Z"
   },
   {
    "duration": 11,
    "start_time": "2022-05-07T19:44:27.729Z"
   },
   {
    "duration": 16,
    "start_time": "2022-05-07T19:44:27.781Z"
   },
   {
    "duration": 10,
    "start_time": "2022-05-07T19:44:27.802Z"
   },
   {
    "duration": 6,
    "start_time": "2022-05-07T19:44:27.815Z"
   },
   {
    "duration": 9,
    "start_time": "2022-05-07T19:44:27.823Z"
   },
   {
    "duration": 8,
    "start_time": "2022-05-07T19:44:27.834Z"
   },
   {
    "duration": 50,
    "start_time": "2022-05-07T19:44:27.844Z"
   },
   {
    "duration": 46,
    "start_time": "2022-05-07T19:44:27.898Z"
   },
   {
    "duration": 29,
    "start_time": "2022-05-07T19:44:27.946Z"
   },
   {
    "duration": 36,
    "start_time": "2022-05-07T19:44:27.977Z"
   },
   {
    "duration": 9,
    "start_time": "2022-05-07T19:44:28.015Z"
   },
   {
    "duration": 24,
    "start_time": "2022-05-07T19:44:28.026Z"
   },
   {
    "duration": 50,
    "start_time": "2022-05-07T19:44:28.052Z"
   },
   {
    "duration": 24,
    "start_time": "2022-05-07T19:44:28.105Z"
   },
   {
    "duration": 10,
    "start_time": "2022-05-07T19:44:28.131Z"
   },
   {
    "duration": 54,
    "start_time": "2022-05-07T19:44:28.143Z"
   },
   {
    "duration": 15,
    "start_time": "2022-05-07T19:44:28.200Z"
   },
   {
    "duration": 24,
    "start_time": "2022-05-07T19:44:28.218Z"
   },
   {
    "duration": 5,
    "start_time": "2022-05-07T19:44:28.245Z"
   },
   {
    "duration": 8,
    "start_time": "2022-05-07T19:44:28.255Z"
   },
   {
    "duration": 33,
    "start_time": "2022-05-07T19:44:28.284Z"
   },
   {
    "duration": 8,
    "start_time": "2022-05-07T19:44:28.320Z"
   },
   {
    "duration": 17,
    "start_time": "2022-05-07T19:44:28.330Z"
   },
   {
    "duration": 641,
    "start_time": "2022-05-07T19:45:27.076Z"
   },
   {
    "duration": 123,
    "start_time": "2022-05-07T19:45:27.720Z"
   },
   {
    "duration": 58,
    "start_time": "2022-05-07T19:45:27.846Z"
   },
   {
    "duration": 29,
    "start_time": "2022-05-07T19:45:27.907Z"
   },
   {
    "duration": 19,
    "start_time": "2022-05-07T19:45:27.939Z"
   },
   {
    "duration": 14,
    "start_time": "2022-05-07T19:45:27.982Z"
   },
   {
    "duration": 21,
    "start_time": "2022-05-07T19:45:27.999Z"
   },
   {
    "duration": 6,
    "start_time": "2022-05-07T19:45:28.023Z"
   },
   {
    "duration": 9,
    "start_time": "2022-05-07T19:45:28.031Z"
   },
   {
    "duration": 13,
    "start_time": "2022-05-07T19:45:28.045Z"
   },
   {
    "duration": 39,
    "start_time": "2022-05-07T19:45:28.060Z"
   },
   {
    "duration": 9,
    "start_time": "2022-05-07T19:45:28.102Z"
   },
   {
    "duration": 10,
    "start_time": "2022-05-07T19:45:28.113Z"
   },
   {
    "duration": 14,
    "start_time": "2022-05-07T19:45:28.126Z"
   },
   {
    "duration": 8,
    "start_time": "2022-05-07T19:45:28.143Z"
   },
   {
    "duration": 62,
    "start_time": "2022-05-07T19:45:28.154Z"
   },
   {
    "duration": 29,
    "start_time": "2022-05-07T19:45:28.219Z"
   },
   {
    "duration": 59,
    "start_time": "2022-05-07T19:45:28.251Z"
   },
   {
    "duration": 13,
    "start_time": "2022-05-07T19:45:28.312Z"
   },
   {
    "duration": 67,
    "start_time": "2022-05-07T19:45:28.327Z"
   },
   {
    "duration": 13,
    "start_time": "2022-05-07T19:45:28.397Z"
   },
   {
    "duration": 42,
    "start_time": "2022-05-07T19:45:28.414Z"
   },
   {
    "duration": 41,
    "start_time": "2022-05-07T19:45:28.459Z"
   },
   {
    "duration": 28,
    "start_time": "2022-05-07T19:45:28.502Z"
   },
   {
    "duration": 16,
    "start_time": "2022-05-07T19:45:28.532Z"
   },
   {
    "duration": 39,
    "start_time": "2022-05-07T19:45:28.550Z"
   },
   {
    "duration": 19,
    "start_time": "2022-05-07T19:45:28.591Z"
   },
   {
    "duration": 9,
    "start_time": "2022-05-07T19:45:28.617Z"
   },
   {
    "duration": 46,
    "start_time": "2022-05-07T19:45:28.629Z"
   },
   {
    "duration": 21,
    "start_time": "2022-05-07T19:45:28.687Z"
   },
   {
    "duration": 16,
    "start_time": "2022-05-07T19:45:28.711Z"
   },
   {
    "duration": 654,
    "start_time": "2022-05-07T19:47:39.716Z"
   },
   {
    "duration": 111,
    "start_time": "2022-05-07T19:47:40.374Z"
   },
   {
    "duration": 33,
    "start_time": "2022-05-07T19:47:40.488Z"
   },
   {
    "duration": 21,
    "start_time": "2022-05-07T19:47:40.524Z"
   },
   {
    "duration": 42,
    "start_time": "2022-05-07T19:47:40.547Z"
   },
   {
    "duration": 12,
    "start_time": "2022-05-07T19:47:40.593Z"
   },
   {
    "duration": 11,
    "start_time": "2022-05-07T19:47:40.607Z"
   },
   {
    "duration": 4,
    "start_time": "2022-05-07T19:47:40.622Z"
   },
   {
    "duration": 12,
    "start_time": "2022-05-07T19:47:40.628Z"
   },
   {
    "duration": 49,
    "start_time": "2022-05-07T19:47:40.645Z"
   },
   {
    "duration": 17,
    "start_time": "2022-05-07T19:47:40.697Z"
   },
   {
    "duration": 7,
    "start_time": "2022-05-07T19:47:40.716Z"
   },
   {
    "duration": 11,
    "start_time": "2022-05-07T19:47:40.725Z"
   },
   {
    "duration": 15,
    "start_time": "2022-05-07T19:47:40.738Z"
   },
   {
    "duration": 17,
    "start_time": "2022-05-07T19:47:40.782Z"
   },
   {
    "duration": 42,
    "start_time": "2022-05-07T19:47:40.802Z"
   },
   {
    "duration": 49,
    "start_time": "2022-05-07T19:47:40.846Z"
   },
   {
    "duration": 26,
    "start_time": "2022-05-07T19:47:40.900Z"
   },
   {
    "duration": 9,
    "start_time": "2022-05-07T19:47:40.928Z"
   },
   {
    "duration": 64,
    "start_time": "2022-05-07T19:47:40.940Z"
   },
   {
    "duration": 9,
    "start_time": "2022-05-07T19:47:41.006Z"
   },
   {
    "duration": 25,
    "start_time": "2022-05-07T19:47:41.017Z"
   },
   {
    "duration": 8,
    "start_time": "2022-05-07T19:47:41.044Z"
   },
   {
    "duration": 25,
    "start_time": "2022-05-07T19:47:41.085Z"
   },
   {
    "duration": 9,
    "start_time": "2022-05-07T19:47:41.112Z"
   },
   {
    "duration": 12,
    "start_time": "2022-05-07T19:47:41.124Z"
   },
   {
    "duration": 6,
    "start_time": "2022-05-07T19:47:41.138Z"
   },
   {
    "duration": 42,
    "start_time": "2022-05-07T19:47:41.148Z"
   },
   {
    "duration": 37,
    "start_time": "2022-05-07T19:47:41.194Z"
   },
   {
    "duration": 64,
    "start_time": "2022-05-07T19:47:41.233Z"
   },
   {
    "duration": 17,
    "start_time": "2022-05-07T19:47:41.300Z"
   },
   {
    "duration": 11,
    "start_time": "2022-05-07T19:47:41.319Z"
   },
   {
    "duration": 556,
    "start_time": "2022-05-07T19:48:09.088Z"
   },
   {
    "duration": 85,
    "start_time": "2022-05-07T19:48:09.648Z"
   },
   {
    "duration": 31,
    "start_time": "2022-05-07T19:48:09.735Z"
   },
   {
    "duration": 39,
    "start_time": "2022-05-07T19:48:09.769Z"
   },
   {
    "duration": 19,
    "start_time": "2022-05-07T19:48:09.812Z"
   },
   {
    "duration": 8,
    "start_time": "2022-05-07T19:48:09.834Z"
   },
   {
    "duration": 51,
    "start_time": "2022-05-07T19:48:09.844Z"
   },
   {
    "duration": 10,
    "start_time": "2022-05-07T19:48:09.900Z"
   },
   {
    "duration": 11,
    "start_time": "2022-05-07T19:48:09.912Z"
   },
   {
    "duration": 16,
    "start_time": "2022-05-07T19:48:09.925Z"
   },
   {
    "duration": 18,
    "start_time": "2022-05-07T19:48:09.943Z"
   },
   {
    "duration": 20,
    "start_time": "2022-05-07T19:48:09.963Z"
   },
   {
    "duration": 12,
    "start_time": "2022-05-07T19:48:09.988Z"
   },
   {
    "duration": 26,
    "start_time": "2022-05-07T19:48:10.008Z"
   },
   {
    "duration": 12,
    "start_time": "2022-05-07T19:48:10.036Z"
   },
   {
    "duration": 42,
    "start_time": "2022-05-07T19:48:10.050Z"
   },
   {
    "duration": 30,
    "start_time": "2022-05-07T19:48:10.094Z"
   },
   {
    "duration": 25,
    "start_time": "2022-05-07T19:48:10.127Z"
   },
   {
    "duration": 37,
    "start_time": "2022-05-07T19:48:10.154Z"
   },
   {
    "duration": 26,
    "start_time": "2022-05-07T19:48:10.194Z"
   },
   {
    "duration": 13,
    "start_time": "2022-05-07T19:48:10.222Z"
   },
   {
    "duration": 63,
    "start_time": "2022-05-07T19:48:10.238Z"
   },
   {
    "duration": 9,
    "start_time": "2022-05-07T19:48:10.303Z"
   },
   {
    "duration": 23,
    "start_time": "2022-05-07T19:48:10.315Z"
   },
   {
    "duration": 9,
    "start_time": "2022-05-07T19:48:10.341Z"
   },
   {
    "duration": 13,
    "start_time": "2022-05-07T19:48:10.382Z"
   },
   {
    "duration": 9,
    "start_time": "2022-05-07T19:48:10.402Z"
   },
   {
    "duration": 18,
    "start_time": "2022-05-07T19:48:10.413Z"
   },
   {
    "duration": 50,
    "start_time": "2022-05-07T19:48:10.434Z"
   },
   {
    "duration": 19,
    "start_time": "2022-05-07T19:48:10.487Z"
   },
   {
    "duration": 18,
    "start_time": "2022-05-07T19:48:10.508Z"
   },
   {
    "duration": 10,
    "start_time": "2022-05-07T19:48:10.528Z"
   },
   {
    "duration": 474,
    "start_time": "2022-05-07T19:49:58.520Z"
   },
   {
    "duration": 82,
    "start_time": "2022-05-07T19:49:58.998Z"
   },
   {
    "duration": 34,
    "start_time": "2022-05-07T19:49:59.083Z"
   },
   {
    "duration": 26,
    "start_time": "2022-05-07T19:49:59.119Z"
   },
   {
    "duration": 40,
    "start_time": "2022-05-07T19:49:59.148Z"
   },
   {
    "duration": 9,
    "start_time": "2022-05-07T19:49:59.191Z"
   },
   {
    "duration": 18,
    "start_time": "2022-05-07T19:49:59.202Z"
   },
   {
    "duration": 5,
    "start_time": "2022-05-07T19:49:59.223Z"
   },
   {
    "duration": 9,
    "start_time": "2022-05-07T19:49:59.231Z"
   },
   {
    "duration": 46,
    "start_time": "2022-05-07T19:49:59.242Z"
   },
   {
    "duration": 10,
    "start_time": "2022-05-07T19:49:59.294Z"
   },
   {
    "duration": 13,
    "start_time": "2022-05-07T19:49:59.307Z"
   },
   {
    "duration": 5,
    "start_time": "2022-05-07T19:49:59.322Z"
   },
   {
    "duration": 6,
    "start_time": "2022-05-07T19:49:59.332Z"
   },
   {
    "duration": 51,
    "start_time": "2022-05-07T19:49:59.340Z"
   },
   {
    "duration": 46,
    "start_time": "2022-05-07T19:49:59.394Z"
   },
   {
    "duration": 44,
    "start_time": "2022-05-07T19:49:59.443Z"
   },
   {
    "duration": 31,
    "start_time": "2022-05-07T19:49:59.490Z"
   },
   {
    "duration": 9,
    "start_time": "2022-05-07T19:49:59.523Z"
   },
   {
    "duration": 57,
    "start_time": "2022-05-07T19:49:59.534Z"
   },
   {
    "duration": 12,
    "start_time": "2022-05-07T19:49:59.593Z"
   },
   {
    "duration": 24,
    "start_time": "2022-05-07T19:49:59.608Z"
   },
   {
    "duration": 11,
    "start_time": "2022-05-07T19:49:59.634Z"
   },
   {
    "duration": 60,
    "start_time": "2022-05-07T19:49:59.647Z"
   },
   {
    "duration": 12,
    "start_time": "2022-05-07T19:49:59.710Z"
   },
   {
    "duration": 18,
    "start_time": "2022-05-07T19:49:59.724Z"
   },
   {
    "duration": 9,
    "start_time": "2022-05-07T19:49:59.744Z"
   },
   {
    "duration": 35,
    "start_time": "2022-05-07T19:49:59.756Z"
   },
   {
    "duration": 46,
    "start_time": "2022-05-07T19:49:59.793Z"
   },
   {
    "duration": 23,
    "start_time": "2022-05-07T19:49:59.841Z"
   },
   {
    "duration": 33,
    "start_time": "2022-05-07T19:49:59.866Z"
   },
   {
    "duration": 25,
    "start_time": "2022-05-07T19:49:59.901Z"
   },
   {
    "duration": 638,
    "start_time": "2022-05-07T19:50:15.876Z"
   },
   {
    "duration": 112,
    "start_time": "2022-05-07T19:50:16.517Z"
   },
   {
    "duration": 53,
    "start_time": "2022-05-07T19:50:16.631Z"
   },
   {
    "duration": 29,
    "start_time": "2022-05-07T19:50:16.693Z"
   },
   {
    "duration": 20,
    "start_time": "2022-05-07T19:50:16.724Z"
   },
   {
    "duration": 8,
    "start_time": "2022-05-07T19:50:16.746Z"
   },
   {
    "duration": 10,
    "start_time": "2022-05-07T19:50:16.782Z"
   },
   {
    "duration": 12,
    "start_time": "2022-05-07T19:50:16.794Z"
   },
   {
    "duration": 8,
    "start_time": "2022-05-07T19:50:16.808Z"
   },
   {
    "duration": 8,
    "start_time": "2022-05-07T19:50:16.820Z"
   },
   {
    "duration": 11,
    "start_time": "2022-05-07T19:50:16.830Z"
   },
   {
    "duration": 46,
    "start_time": "2022-05-07T19:50:16.843Z"
   },
   {
    "duration": 8,
    "start_time": "2022-05-07T19:50:16.894Z"
   },
   {
    "duration": 15,
    "start_time": "2022-05-07T19:50:16.905Z"
   },
   {
    "duration": 9,
    "start_time": "2022-05-07T19:50:16.922Z"
   },
   {
    "duration": 58,
    "start_time": "2022-05-07T19:50:16.933Z"
   },
   {
    "duration": 31,
    "start_time": "2022-05-07T19:50:16.994Z"
   },
   {
    "duration": 59,
    "start_time": "2022-05-07T19:50:17.028Z"
   },
   {
    "duration": 11,
    "start_time": "2022-05-07T19:50:17.090Z"
   },
   {
    "duration": 28,
    "start_time": "2022-05-07T19:50:17.104Z"
   },
   {
    "duration": 11,
    "start_time": "2022-05-07T19:50:17.135Z"
   },
   {
    "duration": 62,
    "start_time": "2022-05-07T19:50:17.149Z"
   },
   {
    "duration": 9,
    "start_time": "2022-05-07T19:50:17.214Z"
   },
   {
    "duration": 19,
    "start_time": "2022-05-07T19:50:17.225Z"
   },
   {
    "duration": 40,
    "start_time": "2022-05-07T19:50:17.246Z"
   },
   {
    "duration": 21,
    "start_time": "2022-05-07T19:50:17.288Z"
   },
   {
    "duration": 8,
    "start_time": "2022-05-07T19:50:17.311Z"
   },
   {
    "duration": 15,
    "start_time": "2022-05-07T19:50:17.324Z"
   },
   {
    "duration": 30,
    "start_time": "2022-05-07T19:50:17.341Z"
   },
   {
    "duration": 23,
    "start_time": "2022-05-07T19:50:17.388Z"
   },
   {
    "duration": 19,
    "start_time": "2022-05-07T19:50:17.413Z"
   },
   {
    "duration": 9,
    "start_time": "2022-05-07T19:50:17.434Z"
   },
   {
    "duration": 501,
    "start_time": "2022-05-07T19:52:07.015Z"
   },
   {
    "duration": 85,
    "start_time": "2022-05-07T19:52:07.519Z"
   },
   {
    "duration": 30,
    "start_time": "2022-05-07T19:52:07.606Z"
   },
   {
    "duration": 47,
    "start_time": "2022-05-07T19:52:07.638Z"
   },
   {
    "duration": 19,
    "start_time": "2022-05-07T19:52:07.688Z"
   },
   {
    "duration": 8,
    "start_time": "2022-05-07T19:52:07.709Z"
   },
   {
    "duration": 23,
    "start_time": "2022-05-07T19:52:07.719Z"
   },
   {
    "duration": 5,
    "start_time": "2022-05-07T19:52:07.744Z"
   },
   {
    "duration": 40,
    "start_time": "2022-05-07T19:52:07.751Z"
   },
   {
    "duration": 19,
    "start_time": "2022-05-07T19:52:07.793Z"
   },
   {
    "duration": 8,
    "start_time": "2022-05-07T19:52:07.815Z"
   },
   {
    "duration": 14,
    "start_time": "2022-05-07T19:52:07.826Z"
   },
   {
    "duration": 11,
    "start_time": "2022-05-07T19:52:07.842Z"
   },
   {
    "duration": 24,
    "start_time": "2022-05-07T19:52:07.859Z"
   },
   {
    "duration": 12,
    "start_time": "2022-05-07T19:52:07.885Z"
   },
   {
    "duration": 39,
    "start_time": "2022-05-07T19:52:07.899Z"
   },
   {
    "duration": 48,
    "start_time": "2022-05-07T19:52:07.940Z"
   },
   {
    "duration": 29,
    "start_time": "2022-05-07T19:52:07.992Z"
   },
   {
    "duration": 9,
    "start_time": "2022-05-07T19:52:08.023Z"
   },
   {
    "duration": 25,
    "start_time": "2022-05-07T19:52:08.035Z"
   },
   {
    "duration": 14,
    "start_time": "2022-05-07T19:52:08.089Z"
   },
   {
    "duration": 26,
    "start_time": "2022-05-07T19:52:08.105Z"
   },
   {
    "duration": 9,
    "start_time": "2022-05-07T19:52:08.133Z"
   },
   {
    "duration": 55,
    "start_time": "2022-05-07T19:52:08.144Z"
   },
   {
    "duration": 10,
    "start_time": "2022-05-07T19:52:08.201Z"
   },
   {
    "duration": 11,
    "start_time": "2022-05-07T19:52:08.213Z"
   },
   {
    "duration": 12,
    "start_time": "2022-05-07T19:52:08.226Z"
   },
   {
    "duration": 15,
    "start_time": "2022-05-07T19:52:08.241Z"
   },
   {
    "duration": 58,
    "start_time": "2022-05-07T19:52:08.258Z"
   },
   {
    "duration": 16,
    "start_time": "2022-05-07T19:52:08.319Z"
   },
   {
    "duration": 17,
    "start_time": "2022-05-07T19:52:08.338Z"
   },
   {
    "duration": 30,
    "start_time": "2022-05-07T19:52:08.356Z"
   },
   {
    "duration": 525,
    "start_time": "2022-05-07T19:57:50.716Z"
   },
   {
    "duration": 84,
    "start_time": "2022-05-07T19:57:51.244Z"
   },
   {
    "duration": 30,
    "start_time": "2022-05-07T19:57:51.330Z"
   },
   {
    "duration": 33,
    "start_time": "2022-05-07T19:57:51.363Z"
   },
   {
    "duration": 18,
    "start_time": "2022-05-07T19:57:51.399Z"
   },
   {
    "duration": 9,
    "start_time": "2022-05-07T19:57:51.419Z"
   },
   {
    "duration": 8,
    "start_time": "2022-05-07T19:57:51.430Z"
   },
   {
    "duration": 44,
    "start_time": "2022-05-07T19:57:51.441Z"
   },
   {
    "duration": 45,
    "start_time": "2022-05-07T19:57:51.488Z"
   },
   {
    "duration": 23,
    "start_time": "2022-05-07T19:57:51.538Z"
   },
   {
    "duration": 58,
    "start_time": "2022-05-07T19:57:51.564Z"
   },
   {
    "duration": 9,
    "start_time": "2022-05-07T19:57:51.624Z"
   },
   {
    "duration": 12,
    "start_time": "2022-05-07T19:57:51.635Z"
   },
   {
    "duration": 9,
    "start_time": "2022-05-07T19:57:51.651Z"
   },
   {
    "duration": 14,
    "start_time": "2022-05-07T19:57:51.662Z"
   },
   {
    "duration": 55,
    "start_time": "2022-05-07T19:57:51.678Z"
   },
   {
    "duration": 30,
    "start_time": "2022-05-07T19:57:51.736Z"
   },
   {
    "duration": 32,
    "start_time": "2022-05-07T19:57:51.768Z"
   },
   {
    "duration": 15,
    "start_time": "2022-05-07T19:57:51.802Z"
   },
   {
    "duration": 28,
    "start_time": "2022-05-07T19:57:51.820Z"
   },
   {
    "duration": 10,
    "start_time": "2022-05-07T19:57:51.851Z"
   },
   {
    "duration": 34,
    "start_time": "2022-05-07T19:57:51.882Z"
   },
   {
    "duration": 10,
    "start_time": "2022-05-07T19:57:51.919Z"
   },
   {
    "duration": 24,
    "start_time": "2022-05-07T19:57:51.932Z"
   },
   {
    "duration": 41,
    "start_time": "2022-05-07T19:57:51.958Z"
   },
   {
    "duration": 21,
    "start_time": "2022-05-07T19:57:52.005Z"
   },
   {
    "duration": 13,
    "start_time": "2022-05-07T19:57:52.028Z"
   },
   {
    "duration": 16,
    "start_time": "2022-05-07T19:57:52.045Z"
   },
   {
    "duration": 46,
    "start_time": "2022-05-07T19:57:52.063Z"
   },
   {
    "duration": 22,
    "start_time": "2022-05-07T19:57:52.112Z"
   },
   {
    "duration": 21,
    "start_time": "2022-05-07T19:57:52.137Z"
   },
   {
    "duration": 37,
    "start_time": "2022-05-07T19:57:52.160Z"
   },
   {
    "duration": 622,
    "start_time": "2022-05-07T20:00:07.640Z"
   },
   {
    "duration": 112,
    "start_time": "2022-05-07T20:00:08.265Z"
   },
   {
    "duration": 40,
    "start_time": "2022-05-07T20:00:08.380Z"
   },
   {
    "duration": 29,
    "start_time": "2022-05-07T20:00:08.424Z"
   },
   {
    "duration": 46,
    "start_time": "2022-05-07T20:00:08.456Z"
   },
   {
    "duration": 9,
    "start_time": "2022-05-07T20:00:08.505Z"
   },
   {
    "duration": 13,
    "start_time": "2022-05-07T20:00:08.516Z"
   },
   {
    "duration": 5,
    "start_time": "2022-05-07T20:00:08.531Z"
   },
   {
    "duration": 13,
    "start_time": "2022-05-07T20:00:08.538Z"
   },
   {
    "duration": 47,
    "start_time": "2022-05-07T20:00:08.556Z"
   },
   {
    "duration": 8,
    "start_time": "2022-05-07T20:00:08.606Z"
   },
   {
    "duration": 5,
    "start_time": "2022-05-07T20:00:08.617Z"
   },
   {
    "duration": 7,
    "start_time": "2022-05-07T20:00:08.625Z"
   },
   {
    "duration": 9,
    "start_time": "2022-05-07T20:00:08.635Z"
   },
   {
    "duration": 13,
    "start_time": "2022-05-07T20:00:08.692Z"
   },
   {
    "duration": 38,
    "start_time": "2022-05-07T20:00:08.707Z"
   },
   {
    "duration": 54,
    "start_time": "2022-05-07T20:00:08.748Z"
   },
   {
    "duration": 35,
    "start_time": "2022-05-07T20:00:08.806Z"
   },
   {
    "duration": 13,
    "start_time": "2022-05-07T20:00:08.843Z"
   },
   {
    "duration": 65,
    "start_time": "2022-05-07T20:00:08.858Z"
   },
   {
    "duration": 12,
    "start_time": "2022-05-07T20:00:08.925Z"
   },
   {
    "duration": 58,
    "start_time": "2022-05-07T20:00:08.940Z"
   },
   {
    "duration": 20,
    "start_time": "2022-05-07T20:00:09.001Z"
   },
   {
    "duration": 18,
    "start_time": "2022-05-07T20:00:09.024Z"
   },
   {
    "duration": 13,
    "start_time": "2022-05-07T20:00:09.045Z"
   },
   {
    "duration": 23,
    "start_time": "2022-05-07T20:00:09.081Z"
   },
   {
    "duration": 4,
    "start_time": "2022-05-07T20:00:09.107Z"
   },
   {
    "duration": 9,
    "start_time": "2022-05-07T20:00:09.116Z"
   },
   {
    "duration": 28,
    "start_time": "2022-05-07T20:00:09.127Z"
   },
   {
    "duration": 47,
    "start_time": "2022-05-07T20:00:09.157Z"
   },
   {
    "duration": 24,
    "start_time": "2022-05-07T20:00:09.206Z"
   },
   {
    "duration": 13,
    "start_time": "2022-05-07T20:00:09.232Z"
   },
   {
    "duration": 625,
    "start_time": "2022-05-07T20:16:24.413Z"
   },
   {
    "duration": 113,
    "start_time": "2022-05-07T20:16:25.041Z"
   },
   {
    "duration": 52,
    "start_time": "2022-05-07T20:16:25.157Z"
   },
   {
    "duration": 33,
    "start_time": "2022-05-07T20:16:25.217Z"
   },
   {
    "duration": 39,
    "start_time": "2022-05-07T20:16:25.253Z"
   },
   {
    "duration": 11,
    "start_time": "2022-05-07T20:16:25.295Z"
   },
   {
    "duration": 23,
    "start_time": "2022-05-07T20:16:25.309Z"
   },
   {
    "duration": 6,
    "start_time": "2022-05-07T20:16:25.334Z"
   },
   {
    "duration": 8,
    "start_time": "2022-05-07T20:16:25.342Z"
   },
   {
    "duration": 28,
    "start_time": "2022-05-07T20:16:25.355Z"
   },
   {
    "duration": 10,
    "start_time": "2022-05-07T20:16:25.393Z"
   },
   {
    "duration": 21,
    "start_time": "2022-05-07T20:16:25.408Z"
   },
   {
    "duration": 5,
    "start_time": "2022-05-07T20:16:25.432Z"
   },
   {
    "duration": 7,
    "start_time": "2022-05-07T20:16:25.440Z"
   },
   {
    "duration": 9,
    "start_time": "2022-05-07T20:16:25.450Z"
   },
   {
    "duration": 36,
    "start_time": "2022-05-07T20:16:25.493Z"
   },
   {
    "duration": 29,
    "start_time": "2022-05-07T20:16:25.532Z"
   },
   {
    "duration": 52,
    "start_time": "2022-05-07T20:16:25.564Z"
   },
   {
    "duration": 13,
    "start_time": "2022-05-07T20:16:25.619Z"
   },
   {
    "duration": 28,
    "start_time": "2022-05-07T20:16:25.634Z"
   },
   {
    "duration": 30,
    "start_time": "2022-05-07T20:16:25.664Z"
   },
   {
    "duration": 62,
    "start_time": "2022-05-07T20:16:25.699Z"
   },
   {
    "duration": 14,
    "start_time": "2022-05-07T20:16:25.764Z"
   },
   {
    "duration": 46,
    "start_time": "2022-05-07T20:16:25.785Z"
   },
   {
    "duration": 14,
    "start_time": "2022-05-07T20:16:25.833Z"
   },
   {
    "duration": 15,
    "start_time": "2022-05-07T20:16:25.849Z"
   },
   {
    "duration": 7,
    "start_time": "2022-05-07T20:16:25.866Z"
   },
   {
    "duration": 38,
    "start_time": "2022-05-07T20:16:25.885Z"
   },
   {
    "duration": 40,
    "start_time": "2022-05-07T20:16:25.926Z"
   },
   {
    "duration": 30,
    "start_time": "2022-05-07T20:16:25.969Z"
   },
   {
    "duration": 52,
    "start_time": "2022-05-07T20:16:26.002Z"
   },
   {
    "duration": 13,
    "start_time": "2022-05-07T20:16:26.057Z"
   },
   {
    "duration": 609,
    "start_time": "2022-05-09T08:51:28.509Z"
   },
   {
    "duration": 81,
    "start_time": "2022-05-09T08:51:29.121Z"
   },
   {
    "duration": 30,
    "start_time": "2022-05-09T08:51:29.204Z"
   },
   {
    "duration": 45,
    "start_time": "2022-05-09T08:51:29.236Z"
   },
   {
    "duration": 13,
    "start_time": "2022-05-09T08:51:29.284Z"
   },
   {
    "duration": 6,
    "start_time": "2022-05-09T08:51:29.300Z"
   },
   {
    "duration": 12,
    "start_time": "2022-05-09T08:51:29.308Z"
   },
   {
    "duration": 8,
    "start_time": "2022-05-09T08:51:29.322Z"
   },
   {
    "duration": 51,
    "start_time": "2022-05-09T08:51:29.332Z"
   },
   {
    "duration": 8,
    "start_time": "2022-05-09T08:51:29.385Z"
   },
   {
    "duration": 21,
    "start_time": "2022-05-09T08:51:29.395Z"
   },
   {
    "duration": 7,
    "start_time": "2022-05-09T08:51:29.418Z"
   },
   {
    "duration": 8,
    "start_time": "2022-05-09T08:51:29.427Z"
   },
   {
    "duration": 8,
    "start_time": "2022-05-09T08:51:29.440Z"
   },
   {
    "duration": 9,
    "start_time": "2022-05-09T08:51:29.481Z"
   },
   {
    "duration": 29,
    "start_time": "2022-05-09T08:51:29.492Z"
   },
   {
    "duration": 67,
    "start_time": "2022-05-09T08:51:29.523Z"
   },
   {
    "duration": 26,
    "start_time": "2022-05-09T08:51:29.592Z"
   },
   {
    "duration": 9,
    "start_time": "2022-05-09T08:51:29.620Z"
   },
   {
    "duration": 56,
    "start_time": "2022-05-09T08:51:29.632Z"
   },
   {
    "duration": 9,
    "start_time": "2022-05-09T08:51:29.690Z"
   },
   {
    "duration": 24,
    "start_time": "2022-05-09T08:51:29.701Z"
   },
   {
    "duration": 8,
    "start_time": "2022-05-09T08:51:29.727Z"
   },
   {
    "duration": 58,
    "start_time": "2022-05-09T08:51:29.737Z"
   },
   {
    "duration": 13,
    "start_time": "2022-05-09T08:51:29.797Z"
   },
   {
    "duration": 11,
    "start_time": "2022-05-09T08:51:29.812Z"
   },
   {
    "duration": 7,
    "start_time": "2022-05-09T08:51:29.825Z"
   },
   {
    "duration": 51,
    "start_time": "2022-05-09T08:51:29.834Z"
   },
   {
    "duration": 32,
    "start_time": "2022-05-09T08:51:29.887Z"
   },
   {
    "duration": 18,
    "start_time": "2022-05-09T08:51:29.921Z"
   },
   {
    "duration": 50,
    "start_time": "2022-05-09T08:51:29.942Z"
   },
   {
    "duration": 18,
    "start_time": "2022-05-09T08:51:29.994Z"
   },
   {
    "duration": 558,
    "start_time": "2022-05-09T08:54:06.403Z"
   },
   {
    "duration": 114,
    "start_time": "2022-05-09T08:54:06.965Z"
   },
   {
    "duration": 37,
    "start_time": "2022-05-09T08:54:07.082Z"
   },
   {
    "duration": 28,
    "start_time": "2022-05-09T08:54:07.122Z"
   },
   {
    "duration": 36,
    "start_time": "2022-05-09T08:54:07.153Z"
   },
   {
    "duration": 12,
    "start_time": "2022-05-09T08:54:07.191Z"
   },
   {
    "duration": 11,
    "start_time": "2022-05-09T08:54:07.206Z"
   },
   {
    "duration": 10,
    "start_time": "2022-05-09T08:54:07.219Z"
   },
   {
    "duration": 25,
    "start_time": "2022-05-09T08:54:07.232Z"
   },
   {
    "duration": 29,
    "start_time": "2022-05-09T08:54:07.261Z"
   },
   {
    "duration": 15,
    "start_time": "2022-05-09T08:54:07.293Z"
   },
   {
    "duration": 6,
    "start_time": "2022-05-09T08:54:07.310Z"
   },
   {
    "duration": 7,
    "start_time": "2022-05-09T08:54:07.317Z"
   },
   {
    "duration": 11,
    "start_time": "2022-05-09T08:54:07.326Z"
   },
   {
    "duration": 46,
    "start_time": "2022-05-09T08:54:07.339Z"
   },
   {
    "duration": 29,
    "start_time": "2022-05-09T08:54:07.387Z"
   },
   {
    "duration": 30,
    "start_time": "2022-05-09T08:54:07.419Z"
   },
   {
    "duration": 50,
    "start_time": "2022-05-09T08:54:07.451Z"
   },
   {
    "duration": 9,
    "start_time": "2022-05-09T08:54:07.503Z"
   },
   {
    "duration": 24,
    "start_time": "2022-05-09T08:54:07.514Z"
   },
   {
    "duration": 8,
    "start_time": "2022-05-09T08:54:07.541Z"
   },
   {
    "duration": 27,
    "start_time": "2022-05-09T08:54:07.582Z"
   },
   {
    "duration": 10,
    "start_time": "2022-05-09T08:54:07.611Z"
   },
   {
    "duration": 21,
    "start_time": "2022-05-09T08:54:07.624Z"
   },
   {
    "duration": 44,
    "start_time": "2022-05-09T08:54:07.647Z"
   },
   {
    "duration": 12,
    "start_time": "2022-05-09T08:54:07.694Z"
   },
   {
    "duration": 5,
    "start_time": "2022-05-09T08:54:07.709Z"
   },
   {
    "duration": 10,
    "start_time": "2022-05-09T08:54:07.720Z"
   },
   {
    "duration": 73,
    "start_time": "2022-05-09T08:54:07.732Z"
   },
   {
    "duration": 19,
    "start_time": "2022-05-09T08:54:07.807Z"
   },
   {
    "duration": 19,
    "start_time": "2022-05-09T08:54:07.828Z"
   },
   {
    "duration": 39,
    "start_time": "2022-05-09T08:54:07.850Z"
   },
   {
    "duration": 499,
    "start_time": "2022-05-09T08:56:54.291Z"
   },
   {
    "duration": 71,
    "start_time": "2022-05-09T08:56:54.793Z"
   },
   {
    "duration": 35,
    "start_time": "2022-05-09T08:56:54.866Z"
   },
   {
    "duration": 20,
    "start_time": "2022-05-09T08:56:54.904Z"
   },
   {
    "duration": 13,
    "start_time": "2022-05-09T08:56:54.926Z"
   },
   {
    "duration": 6,
    "start_time": "2022-05-09T08:56:54.941Z"
   },
   {
    "duration": 7,
    "start_time": "2022-05-09T08:56:54.982Z"
   },
   {
    "duration": 5,
    "start_time": "2022-05-09T08:56:54.991Z"
   },
   {
    "duration": 8,
    "start_time": "2022-05-09T08:56:54.998Z"
   },
   {
    "duration": 8,
    "start_time": "2022-05-09T08:56:55.010Z"
   },
   {
    "duration": 7,
    "start_time": "2022-05-09T08:56:55.020Z"
   },
   {
    "duration": 55,
    "start_time": "2022-05-09T08:56:55.029Z"
   },
   {
    "duration": 6,
    "start_time": "2022-05-09T08:56:55.086Z"
   },
   {
    "duration": 8,
    "start_time": "2022-05-09T08:56:55.094Z"
   },
   {
    "duration": 11,
    "start_time": "2022-05-09T08:56:55.104Z"
   },
   {
    "duration": 29,
    "start_time": "2022-05-09T08:56:55.117Z"
   },
   {
    "duration": 30,
    "start_time": "2022-05-09T08:56:55.182Z"
   },
   {
    "duration": 25,
    "start_time": "2022-05-09T08:56:55.214Z"
   },
   {
    "duration": 9,
    "start_time": "2022-05-09T08:56:55.241Z"
   },
   {
    "duration": 48,
    "start_time": "2022-05-09T08:56:55.252Z"
   },
   {
    "duration": 13,
    "start_time": "2022-05-09T08:56:55.302Z"
   },
   {
    "duration": 28,
    "start_time": "2022-05-09T08:56:55.317Z"
   },
   {
    "duration": 36,
    "start_time": "2022-05-09T08:56:55.347Z"
   },
   {
    "duration": 24,
    "start_time": "2022-05-09T08:56:55.385Z"
   },
   {
    "duration": 12,
    "start_time": "2022-05-09T08:56:55.411Z"
   },
   {
    "duration": 16,
    "start_time": "2022-05-09T08:56:55.425Z"
   },
   {
    "duration": 8,
    "start_time": "2022-05-09T08:56:55.443Z"
   },
   {
    "duration": 32,
    "start_time": "2022-05-09T08:56:55.455Z"
   },
   {
    "duration": 30,
    "start_time": "2022-05-09T08:56:55.489Z"
   },
   {
    "duration": 17,
    "start_time": "2022-05-09T08:56:55.521Z"
   },
   {
    "duration": 49,
    "start_time": "2022-05-09T08:56:55.540Z"
   },
   {
    "duration": 10,
    "start_time": "2022-05-09T08:56:55.591Z"
   },
   {
    "duration": 654,
    "start_time": "2022-05-09T08:58:07.807Z"
   },
   {
    "duration": 74,
    "start_time": "2022-05-09T08:58:08.464Z"
   },
   {
    "duration": 42,
    "start_time": "2022-05-09T08:58:08.541Z"
   },
   {
    "duration": 20,
    "start_time": "2022-05-09T08:58:08.586Z"
   },
   {
    "duration": 13,
    "start_time": "2022-05-09T08:58:08.608Z"
   },
   {
    "duration": 7,
    "start_time": "2022-05-09T08:58:08.623Z"
   },
   {
    "duration": 10,
    "start_time": "2022-05-09T08:58:08.632Z"
   },
   {
    "duration": 41,
    "start_time": "2022-05-09T08:58:08.645Z"
   },
   {
    "duration": 8,
    "start_time": "2022-05-09T08:58:08.689Z"
   },
   {
    "duration": 8,
    "start_time": "2022-05-09T08:58:08.701Z"
   },
   {
    "duration": 12,
    "start_time": "2022-05-09T08:58:08.711Z"
   },
   {
    "duration": 12,
    "start_time": "2022-05-09T08:58:08.725Z"
   },
   {
    "duration": 45,
    "start_time": "2022-05-09T08:58:08.739Z"
   },
   {
    "duration": 9,
    "start_time": "2022-05-09T08:58:08.786Z"
   },
   {
    "duration": 9,
    "start_time": "2022-05-09T08:58:08.797Z"
   },
   {
    "duration": 27,
    "start_time": "2022-05-09T08:58:08.808Z"
   },
   {
    "duration": 67,
    "start_time": "2022-05-09T08:58:08.837Z"
   },
   {
    "duration": 27,
    "start_time": "2022-05-09T08:58:08.907Z"
   },
   {
    "duration": 9,
    "start_time": "2022-05-09T08:58:08.937Z"
   },
   {
    "duration": 50,
    "start_time": "2022-05-09T08:58:08.949Z"
   },
   {
    "duration": 9,
    "start_time": "2022-05-09T08:58:09.001Z"
   },
   {
    "duration": 26,
    "start_time": "2022-05-09T08:58:09.012Z"
   },
   {
    "duration": 43,
    "start_time": "2022-05-09T08:58:09.040Z"
   },
   {
    "duration": 18,
    "start_time": "2022-05-09T08:58:09.085Z"
   },
   {
    "duration": 9,
    "start_time": "2022-05-09T08:58:09.106Z"
   },
   {
    "duration": 10,
    "start_time": "2022-05-09T08:58:09.117Z"
   },
   {
    "duration": 6,
    "start_time": "2022-05-09T08:58:09.129Z"
   },
   {
    "duration": 45,
    "start_time": "2022-05-09T08:58:09.139Z"
   },
   {
    "duration": 29,
    "start_time": "2022-05-09T08:58:09.187Z"
   },
   {
    "duration": 17,
    "start_time": "2022-05-09T08:58:09.219Z"
   },
   {
    "duration": 48,
    "start_time": "2022-05-09T08:58:09.238Z"
   },
   {
    "duration": 10,
    "start_time": "2022-05-09T08:58:09.289Z"
   },
   {
    "duration": 127,
    "start_time": "2022-05-09T09:14:50.133Z"
   },
   {
    "duration": 6,
    "start_time": "2022-05-09T09:16:30.737Z"
   },
   {
    "duration": 11,
    "start_time": "2022-05-09T09:16:43.268Z"
   },
   {
    "duration": 111,
    "start_time": "2022-05-09T09:17:26.764Z"
   },
   {
    "duration": 12,
    "start_time": "2022-05-09T09:18:06.927Z"
   },
   {
    "duration": 15,
    "start_time": "2022-05-09T09:24:30.569Z"
   },
   {
    "duration": 16,
    "start_time": "2022-05-09T09:24:33.665Z"
   },
   {
    "duration": 22,
    "start_time": "2022-05-09T09:24:43.705Z"
   },
   {
    "duration": 536,
    "start_time": "2022-05-09T09:24:53.648Z"
   },
   {
    "duration": 74,
    "start_time": "2022-05-09T09:24:54.187Z"
   },
   {
    "duration": 47,
    "start_time": "2022-05-09T09:24:54.264Z"
   },
   {
    "duration": 23,
    "start_time": "2022-05-09T09:24:54.315Z"
   },
   {
    "duration": 41,
    "start_time": "2022-05-09T09:24:54.342Z"
   },
   {
    "duration": 7,
    "start_time": "2022-05-09T09:24:54.386Z"
   },
   {
    "duration": 9,
    "start_time": "2022-05-09T09:24:54.396Z"
   },
   {
    "duration": 5,
    "start_time": "2022-05-09T09:24:54.408Z"
   },
   {
    "duration": 9,
    "start_time": "2022-05-09T09:24:54.415Z"
   },
   {
    "duration": 54,
    "start_time": "2022-05-09T09:24:54.429Z"
   },
   {
    "duration": 6,
    "start_time": "2022-05-09T09:24:54.485Z"
   },
   {
    "duration": 7,
    "start_time": "2022-05-09T09:24:54.493Z"
   },
   {
    "duration": 6,
    "start_time": "2022-05-09T09:24:54.502Z"
   },
   {
    "duration": 7,
    "start_time": "2022-05-09T09:24:54.511Z"
   },
   {
    "duration": 10,
    "start_time": "2022-05-09T09:24:54.520Z"
   },
   {
    "duration": 28,
    "start_time": "2022-05-09T09:24:54.582Z"
   },
   {
    "duration": 28,
    "start_time": "2022-05-09T09:24:54.613Z"
   },
   {
    "duration": 58,
    "start_time": "2022-05-09T09:24:54.644Z"
   },
   {
    "duration": 9,
    "start_time": "2022-05-09T09:24:54.704Z"
   },
   {
    "duration": 27,
    "start_time": "2022-05-09T09:24:54.715Z"
   },
   {
    "duration": 43,
    "start_time": "2022-05-09T09:24:54.745Z"
   },
   {
    "duration": 25,
    "start_time": "2022-05-09T09:24:54.791Z"
   },
   {
    "duration": 9,
    "start_time": "2022-05-09T09:24:54.818Z"
   },
   {
    "duration": 53,
    "start_time": "2022-05-09T09:24:54.830Z"
   },
   {
    "duration": 14,
    "start_time": "2022-05-09T09:24:54.885Z"
   },
   {
    "duration": 28,
    "start_time": "2022-05-09T09:24:54.902Z"
   },
   {
    "duration": 19,
    "start_time": "2022-05-09T09:24:54.933Z"
   },
   {
    "duration": 17,
    "start_time": "2022-05-09T09:24:54.959Z"
   },
   {
    "duration": 40,
    "start_time": "2022-05-09T09:24:54.978Z"
   },
   {
    "duration": 22,
    "start_time": "2022-05-09T09:24:55.021Z"
   },
   {
    "duration": 43,
    "start_time": "2022-05-09T09:24:55.046Z"
   },
   {
    "duration": 10,
    "start_time": "2022-05-09T09:24:55.091Z"
   },
   {
    "duration": 17,
    "start_time": "2022-05-09T09:24:55.103Z"
   },
   {
    "duration": 18,
    "start_time": "2022-05-09T09:24:55.122Z"
   },
   {
    "duration": 50,
    "start_time": "2022-05-09T09:24:55.142Z"
   },
   {
    "duration": 20,
    "start_time": "2022-05-09T09:25:46.577Z"
   },
   {
    "duration": 117,
    "start_time": "2022-05-09T09:27:16.121Z"
   },
   {
    "duration": 16,
    "start_time": "2022-05-09T09:27:31.142Z"
   },
   {
    "duration": 16,
    "start_time": "2022-05-09T09:28:29.242Z"
   },
   {
    "duration": 697,
    "start_time": "2022-05-09T09:28:36.346Z"
   },
   {
    "duration": 114,
    "start_time": "2022-05-09T09:28:37.046Z"
   },
   {
    "duration": 37,
    "start_time": "2022-05-09T09:28:37.162Z"
   },
   {
    "duration": 22,
    "start_time": "2022-05-09T09:28:37.202Z"
   },
   {
    "duration": 13,
    "start_time": "2022-05-09T09:28:37.226Z"
   },
   {
    "duration": 6,
    "start_time": "2022-05-09T09:28:37.241Z"
   },
   {
    "duration": 7,
    "start_time": "2022-05-09T09:28:37.282Z"
   },
   {
    "duration": 7,
    "start_time": "2022-05-09T09:28:37.291Z"
   },
   {
    "duration": 13,
    "start_time": "2022-05-09T09:28:37.300Z"
   },
   {
    "duration": 9,
    "start_time": "2022-05-09T09:28:37.317Z"
   },
   {
    "duration": 55,
    "start_time": "2022-05-09T09:28:37.328Z"
   },
   {
    "duration": 8,
    "start_time": "2022-05-09T09:28:37.386Z"
   },
   {
    "duration": 6,
    "start_time": "2022-05-09T09:28:37.396Z"
   },
   {
    "duration": 7,
    "start_time": "2022-05-09T09:28:37.404Z"
   },
   {
    "duration": 8,
    "start_time": "2022-05-09T09:28:37.413Z"
   },
   {
    "duration": 74,
    "start_time": "2022-05-09T09:28:37.423Z"
   },
   {
    "duration": 29,
    "start_time": "2022-05-09T09:28:37.499Z"
   },
   {
    "duration": 53,
    "start_time": "2022-05-09T09:28:37.530Z"
   },
   {
    "duration": 9,
    "start_time": "2022-05-09T09:28:37.585Z"
   },
   {
    "duration": 25,
    "start_time": "2022-05-09T09:28:37.596Z"
   },
   {
    "duration": 9,
    "start_time": "2022-05-09T09:28:37.624Z"
   },
   {
    "duration": 59,
    "start_time": "2022-05-09T09:28:37.635Z"
   },
   {
    "duration": 9,
    "start_time": "2022-05-09T09:28:37.696Z"
   },
   {
    "duration": 23,
    "start_time": "2022-05-09T09:28:37.707Z"
   },
   {
    "duration": 50,
    "start_time": "2022-05-09T09:28:37.732Z"
   },
   {
    "duration": 12,
    "start_time": "2022-05-09T09:28:37.785Z"
   },
   {
    "duration": 5,
    "start_time": "2022-05-09T09:28:37.800Z"
   },
   {
    "duration": 7,
    "start_time": "2022-05-09T09:28:37.811Z"
   },
   {
    "duration": 66,
    "start_time": "2022-05-09T09:28:37.820Z"
   },
   {
    "duration": 18,
    "start_time": "2022-05-09T09:28:37.888Z"
   },
   {
    "duration": 23,
    "start_time": "2022-05-09T09:28:37.908Z"
   },
   {
    "duration": 10,
    "start_time": "2022-05-09T09:28:37.933Z"
   },
   {
    "duration": 42,
    "start_time": "2022-05-09T09:28:37.945Z"
   },
   {
    "duration": 14,
    "start_time": "2022-05-09T09:28:37.990Z"
   },
   {
    "duration": 23,
    "start_time": "2022-05-09T09:28:38.006Z"
   },
   {
    "duration": 20,
    "start_time": "2022-05-09T09:28:38.031Z"
   },
   {
    "duration": 108,
    "start_time": "2022-05-09T09:29:04.302Z"
   },
   {
    "duration": 519,
    "start_time": "2022-05-09T09:29:10.080Z"
   },
   {
    "duration": 75,
    "start_time": "2022-05-09T09:29:10.602Z"
   },
   {
    "duration": 32,
    "start_time": "2022-05-09T09:29:10.679Z"
   },
   {
    "duration": 22,
    "start_time": "2022-05-09T09:29:10.714Z"
   },
   {
    "duration": 46,
    "start_time": "2022-05-09T09:29:10.738Z"
   },
   {
    "duration": 7,
    "start_time": "2022-05-09T09:29:10.786Z"
   },
   {
    "duration": 14,
    "start_time": "2022-05-09T09:29:10.795Z"
   },
   {
    "duration": 14,
    "start_time": "2022-05-09T09:29:10.811Z"
   },
   {
    "duration": 12,
    "start_time": "2022-05-09T09:29:10.827Z"
   },
   {
    "duration": 8,
    "start_time": "2022-05-09T09:29:10.843Z"
   },
   {
    "duration": 35,
    "start_time": "2022-05-09T09:29:10.853Z"
   },
   {
    "duration": 8,
    "start_time": "2022-05-09T09:29:10.890Z"
   },
   {
    "duration": 7,
    "start_time": "2022-05-09T09:29:10.900Z"
   },
   {
    "duration": 7,
    "start_time": "2022-05-09T09:29:10.910Z"
   },
   {
    "duration": 10,
    "start_time": "2022-05-09T09:29:10.920Z"
   },
   {
    "duration": 72,
    "start_time": "2022-05-09T09:29:10.933Z"
   },
   {
    "duration": 29,
    "start_time": "2022-05-09T09:29:11.007Z"
   },
   {
    "duration": 55,
    "start_time": "2022-05-09T09:29:11.038Z"
   },
   {
    "duration": 9,
    "start_time": "2022-05-09T09:29:11.095Z"
   },
   {
    "duration": 25,
    "start_time": "2022-05-09T09:29:11.106Z"
   },
   {
    "duration": 10,
    "start_time": "2022-05-09T09:29:11.133Z"
   },
   {
    "duration": 59,
    "start_time": "2022-05-09T09:29:11.145Z"
   },
   {
    "duration": 12,
    "start_time": "2022-05-09T09:29:11.207Z"
   },
   {
    "duration": 21,
    "start_time": "2022-05-09T09:29:11.221Z"
   },
   {
    "duration": 43,
    "start_time": "2022-05-09T09:29:11.244Z"
   },
   {
    "duration": 11,
    "start_time": "2022-05-09T09:29:11.289Z"
   },
   {
    "duration": 6,
    "start_time": "2022-05-09T09:29:11.302Z"
   },
   {
    "duration": 9,
    "start_time": "2022-05-09T09:29:11.312Z"
   },
   {
    "duration": 61,
    "start_time": "2022-05-09T09:29:11.323Z"
   },
   {
    "duration": 17,
    "start_time": "2022-05-09T09:29:11.386Z"
   },
   {
    "duration": 17,
    "start_time": "2022-05-09T09:29:11.406Z"
   },
   {
    "duration": 10,
    "start_time": "2022-05-09T09:29:11.425Z"
   },
   {
    "duration": 50,
    "start_time": "2022-05-09T09:29:11.438Z"
   },
   {
    "duration": 12,
    "start_time": "2022-05-09T09:29:11.491Z"
   },
   {
    "duration": 21,
    "start_time": "2022-05-09T09:29:11.506Z"
   },
   {
    "duration": 103,
    "start_time": "2022-05-09T09:30:50.764Z"
   },
   {
    "duration": 478,
    "start_time": "2022-05-09T09:30:54.825Z"
   },
   {
    "duration": 76,
    "start_time": "2022-05-09T09:30:55.306Z"
   },
   {
    "duration": 38,
    "start_time": "2022-05-09T09:30:55.385Z"
   },
   {
    "duration": 23,
    "start_time": "2022-05-09T09:30:55.427Z"
   },
   {
    "duration": 43,
    "start_time": "2022-05-09T09:30:55.452Z"
   },
   {
    "duration": 8,
    "start_time": "2022-05-09T09:30:55.497Z"
   },
   {
    "duration": 10,
    "start_time": "2022-05-09T09:30:55.507Z"
   },
   {
    "duration": 10,
    "start_time": "2022-05-09T09:30:55.519Z"
   },
   {
    "duration": 10,
    "start_time": "2022-05-09T09:30:55.531Z"
   },
   {
    "duration": 8,
    "start_time": "2022-05-09T09:30:55.582Z"
   },
   {
    "duration": 9,
    "start_time": "2022-05-09T09:30:55.593Z"
   },
   {
    "duration": 7,
    "start_time": "2022-05-09T09:30:55.604Z"
   },
   {
    "duration": 5,
    "start_time": "2022-05-09T09:30:55.614Z"
   },
   {
    "duration": 8,
    "start_time": "2022-05-09T09:30:55.622Z"
   },
   {
    "duration": 56,
    "start_time": "2022-05-09T09:30:55.632Z"
   },
   {
    "duration": 29,
    "start_time": "2022-05-09T09:30:55.690Z"
   },
   {
    "duration": 63,
    "start_time": "2022-05-09T09:30:55.721Z"
   },
   {
    "duration": 28,
    "start_time": "2022-05-09T09:30:55.787Z"
   },
   {
    "duration": 11,
    "start_time": "2022-05-09T09:30:55.818Z"
   },
   {
    "duration": 55,
    "start_time": "2022-05-09T09:30:55.832Z"
   },
   {
    "duration": 14,
    "start_time": "2022-05-09T09:30:55.890Z"
   },
   {
    "duration": 29,
    "start_time": "2022-05-09T09:30:55.906Z"
   },
   {
    "duration": 12,
    "start_time": "2022-05-09T09:30:55.938Z"
   },
   {
    "duration": 21,
    "start_time": "2022-05-09T09:30:55.983Z"
   },
   {
    "duration": 16,
    "start_time": "2022-05-09T09:30:56.006Z"
   },
   {
    "duration": 16,
    "start_time": "2022-05-09T09:30:56.024Z"
   },
   {
    "duration": 13,
    "start_time": "2022-05-09T09:30:56.042Z"
   },
   {
    "duration": 7,
    "start_time": "2022-05-09T09:30:56.082Z"
   },
   {
    "duration": 32,
    "start_time": "2022-05-09T09:30:56.091Z"
   },
   {
    "duration": 18,
    "start_time": "2022-05-09T09:30:56.125Z"
   },
   {
    "duration": 46,
    "start_time": "2022-05-09T09:30:56.145Z"
   },
   {
    "duration": 9,
    "start_time": "2022-05-09T09:30:56.193Z"
   },
   {
    "duration": 19,
    "start_time": "2022-05-09T09:30:56.204Z"
   },
   {
    "duration": 15,
    "start_time": "2022-05-09T09:30:56.225Z"
   },
   {
    "duration": 44,
    "start_time": "2022-05-09T09:30:56.243Z"
   },
   {
    "duration": 104,
    "start_time": "2022-05-09T09:31:26.845Z"
   },
   {
    "duration": 513,
    "start_time": "2022-05-09T09:31:38.278Z"
   },
   {
    "duration": 74,
    "start_time": "2022-05-09T09:31:38.794Z"
   },
   {
    "duration": 36,
    "start_time": "2022-05-09T09:31:38.870Z"
   },
   {
    "duration": 22,
    "start_time": "2022-05-09T09:31:38.908Z"
   },
   {
    "duration": 21,
    "start_time": "2022-05-09T09:31:38.933Z"
   },
   {
    "duration": 29,
    "start_time": "2022-05-09T09:31:38.957Z"
   },
   {
    "duration": 12,
    "start_time": "2022-05-09T09:31:38.988Z"
   },
   {
    "duration": 5,
    "start_time": "2022-05-09T09:31:39.003Z"
   },
   {
    "duration": 9,
    "start_time": "2022-05-09T09:31:39.010Z"
   },
   {
    "duration": 9,
    "start_time": "2022-05-09T09:31:39.023Z"
   },
   {
    "duration": 48,
    "start_time": "2022-05-09T09:31:39.035Z"
   },
   {
    "duration": 7,
    "start_time": "2022-05-09T09:31:39.086Z"
   },
   {
    "duration": 8,
    "start_time": "2022-05-09T09:31:39.095Z"
   },
   {
    "duration": 6,
    "start_time": "2022-05-09T09:31:39.105Z"
   },
   {
    "duration": 9,
    "start_time": "2022-05-09T09:31:39.113Z"
   },
   {
    "duration": 68,
    "start_time": "2022-05-09T09:31:39.124Z"
   },
   {
    "duration": 29,
    "start_time": "2022-05-09T09:31:39.195Z"
   },
   {
    "duration": 25,
    "start_time": "2022-05-09T09:31:39.227Z"
   },
   {
    "duration": 34,
    "start_time": "2022-05-09T09:31:39.254Z"
   },
   {
    "duration": 24,
    "start_time": "2022-05-09T09:31:39.290Z"
   },
   {
    "duration": 13,
    "start_time": "2022-05-09T09:31:39.316Z"
   },
   {
    "duration": 50,
    "start_time": "2022-05-09T09:31:39.331Z"
   },
   {
    "duration": 9,
    "start_time": "2022-05-09T09:31:39.383Z"
   },
   {
    "duration": 21,
    "start_time": "2022-05-09T09:31:39.394Z"
   },
   {
    "duration": 10,
    "start_time": "2022-05-09T09:31:39.417Z"
   },
   {
    "duration": 11,
    "start_time": "2022-05-09T09:31:39.429Z"
   },
   {
    "duration": 40,
    "start_time": "2022-05-09T09:31:39.442Z"
   },
   {
    "duration": 8,
    "start_time": "2022-05-09T09:31:39.486Z"
   },
   {
    "duration": 31,
    "start_time": "2022-05-09T09:31:39.496Z"
   },
   {
    "duration": 17,
    "start_time": "2022-05-09T09:31:39.529Z"
   },
   {
    "duration": 44,
    "start_time": "2022-05-09T09:31:39.548Z"
   },
   {
    "duration": 9,
    "start_time": "2022-05-09T09:31:39.595Z"
   },
   {
    "duration": 12,
    "start_time": "2022-05-09T09:31:39.606Z"
   },
   {
    "duration": 18,
    "start_time": "2022-05-09T09:31:39.620Z"
   },
   {
    "duration": 54,
    "start_time": "2022-05-09T09:31:39.640Z"
   },
   {
    "duration": 106,
    "start_time": "2022-05-09T09:32:39.001Z"
   },
   {
    "duration": 515,
    "start_time": "2022-05-09T09:33:02.321Z"
   },
   {
    "duration": 78,
    "start_time": "2022-05-09T09:33:02.839Z"
   },
   {
    "duration": 42,
    "start_time": "2022-05-09T09:33:02.920Z"
   },
   {
    "duration": 34,
    "start_time": "2022-05-09T09:33:02.981Z"
   },
   {
    "duration": 21,
    "start_time": "2022-05-09T09:33:03.021Z"
   },
   {
    "duration": 8,
    "start_time": "2022-05-09T09:33:03.044Z"
   },
   {
    "duration": 13,
    "start_time": "2022-05-09T09:33:03.082Z"
   },
   {
    "duration": 6,
    "start_time": "2022-05-09T09:33:03.098Z"
   },
   {
    "duration": 9,
    "start_time": "2022-05-09T09:33:03.108Z"
   },
   {
    "duration": 12,
    "start_time": "2022-05-09T09:33:03.120Z"
   },
   {
    "duration": 48,
    "start_time": "2022-05-09T09:33:03.135Z"
   },
   {
    "duration": 6,
    "start_time": "2022-05-09T09:33:03.186Z"
   },
   {
    "duration": 17,
    "start_time": "2022-05-09T09:33:03.194Z"
   },
   {
    "duration": 8,
    "start_time": "2022-05-09T09:33:03.220Z"
   },
   {
    "duration": 10,
    "start_time": "2022-05-09T09:33:03.231Z"
   },
   {
    "duration": 67,
    "start_time": "2022-05-09T09:33:03.244Z"
   },
   {
    "duration": 43,
    "start_time": "2022-05-09T09:33:03.313Z"
   },
   {
    "duration": 55,
    "start_time": "2022-05-09T09:33:03.359Z"
   },
   {
    "duration": 14,
    "start_time": "2022-05-09T09:33:03.417Z"
   },
   {
    "duration": 65,
    "start_time": "2022-05-09T09:33:03.434Z"
   },
   {
    "duration": 14,
    "start_time": "2022-05-09T09:33:03.501Z"
   },
   {
    "duration": 63,
    "start_time": "2022-05-09T09:33:03.518Z"
   },
   {
    "duration": 14,
    "start_time": "2022-05-09T09:33:03.584Z"
   },
   {
    "duration": 29,
    "start_time": "2022-05-09T09:33:03.601Z"
   },
   {
    "duration": 11,
    "start_time": "2022-05-09T09:33:03.632Z"
   },
   {
    "duration": 51,
    "start_time": "2022-05-09T09:33:03.645Z"
   },
   {
    "duration": 5,
    "start_time": "2022-05-09T09:33:03.699Z"
   },
   {
    "duration": 11,
    "start_time": "2022-05-09T09:33:03.706Z"
   },
   {
    "duration": 72,
    "start_time": "2022-05-09T09:33:03.719Z"
   },
   {
    "duration": 18,
    "start_time": "2022-05-09T09:33:03.794Z"
   },
   {
    "duration": 17,
    "start_time": "2022-05-09T09:33:03.815Z"
   },
   {
    "duration": 11,
    "start_time": "2022-05-09T09:33:03.834Z"
   },
   {
    "duration": 12,
    "start_time": "2022-05-09T09:33:03.882Z"
   },
   {
    "duration": 15,
    "start_time": "2022-05-09T09:33:03.896Z"
   },
   {
    "duration": 38,
    "start_time": "2022-05-09T09:33:03.914Z"
   },
   {
    "duration": 528,
    "start_time": "2022-05-09T09:38:55.168Z"
   },
   {
    "duration": 80,
    "start_time": "2022-05-09T09:38:55.699Z"
   },
   {
    "duration": 31,
    "start_time": "2022-05-09T09:38:55.781Z"
   },
   {
    "duration": 21,
    "start_time": "2022-05-09T09:38:55.815Z"
   },
   {
    "duration": 13,
    "start_time": "2022-05-09T09:38:55.838Z"
   },
   {
    "duration": 31,
    "start_time": "2022-05-09T09:38:55.853Z"
   },
   {
    "duration": 9,
    "start_time": "2022-05-09T09:38:55.886Z"
   },
   {
    "duration": 8,
    "start_time": "2022-05-09T09:38:55.897Z"
   },
   {
    "duration": 9,
    "start_time": "2022-05-09T09:38:55.907Z"
   },
   {
    "duration": 8,
    "start_time": "2022-05-09T09:38:55.920Z"
   },
   {
    "duration": 6,
    "start_time": "2022-05-09T09:38:55.930Z"
   },
   {
    "duration": 7,
    "start_time": "2022-05-09T09:38:55.982Z"
   },
   {
    "duration": 5,
    "start_time": "2022-05-09T09:38:55.991Z"
   },
   {
    "duration": 7,
    "start_time": "2022-05-09T09:38:55.998Z"
   },
   {
    "duration": 9,
    "start_time": "2022-05-09T09:38:56.007Z"
   },
   {
    "duration": 64,
    "start_time": "2022-05-09T09:38:56.019Z"
   },
   {
    "duration": 29,
    "start_time": "2022-05-09T09:38:56.085Z"
   },
   {
    "duration": 24,
    "start_time": "2022-05-09T09:38:56.116Z"
   },
   {
    "duration": 9,
    "start_time": "2022-05-09T09:38:56.142Z"
   },
   {
    "duration": 48,
    "start_time": "2022-05-09T09:38:56.153Z"
   },
   {
    "duration": 12,
    "start_time": "2022-05-09T09:38:56.203Z"
   },
   {
    "duration": 28,
    "start_time": "2022-05-09T09:38:56.218Z"
   },
   {
    "duration": 36,
    "start_time": "2022-05-09T09:38:56.248Z"
   },
   {
    "duration": 23,
    "start_time": "2022-05-09T09:38:56.287Z"
   },
   {
    "duration": 9,
    "start_time": "2022-05-09T09:38:56.312Z"
   },
   {
    "duration": 15,
    "start_time": "2022-05-09T09:38:56.323Z"
   },
   {
    "duration": 6,
    "start_time": "2022-05-09T09:38:56.340Z"
   },
   {
    "duration": 8,
    "start_time": "2022-05-09T09:38:56.384Z"
   },
   {
    "duration": 49,
    "start_time": "2022-05-09T09:38:56.394Z"
   },
   {
    "duration": 17,
    "start_time": "2022-05-09T09:38:56.445Z"
   },
   {
    "duration": 30,
    "start_time": "2022-05-09T09:38:56.464Z"
   },
   {
    "duration": 9,
    "start_time": "2022-05-09T09:38:56.496Z"
   },
   {
    "duration": 11,
    "start_time": "2022-05-09T09:38:56.507Z"
   },
   {
    "duration": 12,
    "start_time": "2022-05-09T09:38:56.520Z"
   },
   {
    "duration": 56,
    "start_time": "2022-05-09T09:38:56.534Z"
   },
   {
    "duration": 7,
    "start_time": "2022-05-09T09:56:43.020Z"
   },
   {
    "duration": 6,
    "start_time": "2022-05-09T09:56:58.369Z"
   },
   {
    "duration": 5,
    "start_time": "2022-05-09T09:57:10.609Z"
   },
   {
    "duration": 5,
    "start_time": "2022-05-09T09:57:19.707Z"
   },
   {
    "duration": 6,
    "start_time": "2022-05-09T09:58:33.576Z"
   },
   {
    "duration": 3,
    "start_time": "2022-05-09T09:58:34.099Z"
   },
   {
    "duration": 5,
    "start_time": "2022-05-09T10:01:09.593Z"
   },
   {
    "duration": 14,
    "start_time": "2022-05-09T10:01:10.148Z"
   },
   {
    "duration": 19,
    "start_time": "2022-05-09T10:01:10.663Z"
   },
   {
    "duration": 3,
    "start_time": "2022-05-09T10:02:20.183Z"
   },
   {
    "duration": 528,
    "start_time": "2022-05-09T10:02:44.230Z"
   },
   {
    "duration": 80,
    "start_time": "2022-05-09T10:02:44.761Z"
   },
   {
    "duration": 30,
    "start_time": "2022-05-09T10:02:44.843Z"
   },
   {
    "duration": 22,
    "start_time": "2022-05-09T10:02:44.883Z"
   },
   {
    "duration": 13,
    "start_time": "2022-05-09T10:02:44.907Z"
   },
   {
    "duration": 8,
    "start_time": "2022-05-09T10:02:44.922Z"
   },
   {
    "duration": 13,
    "start_time": "2022-05-09T10:02:44.932Z"
   },
   {
    "duration": 38,
    "start_time": "2022-05-09T10:02:44.947Z"
   },
   {
    "duration": 12,
    "start_time": "2022-05-09T10:02:44.987Z"
   },
   {
    "duration": 15,
    "start_time": "2022-05-09T10:02:45.004Z"
   },
   {
    "duration": 10,
    "start_time": "2022-05-09T10:02:45.022Z"
   },
   {
    "duration": 6,
    "start_time": "2022-05-09T10:02:45.035Z"
   },
   {
    "duration": 11,
    "start_time": "2022-05-09T10:02:45.043Z"
   },
   {
    "duration": 7,
    "start_time": "2022-05-09T10:02:45.082Z"
   },
   {
    "duration": 23,
    "start_time": "2022-05-09T10:02:45.091Z"
   },
   {
    "duration": 40,
    "start_time": "2022-05-09T10:02:45.116Z"
   },
   {
    "duration": 42,
    "start_time": "2022-05-09T10:02:45.158Z"
   },
   {
    "duration": 25,
    "start_time": "2022-05-09T10:02:45.203Z"
   },
   {
    "duration": 10,
    "start_time": "2022-05-09T10:02:45.230Z"
   },
   {
    "duration": 49,
    "start_time": "2022-05-09T10:02:45.242Z"
   },
   {
    "duration": 9,
    "start_time": "2022-05-09T10:02:45.293Z"
   },
   {
    "duration": 30,
    "start_time": "2022-05-09T10:02:45.304Z"
   },
   {
    "duration": 9,
    "start_time": "2022-05-09T10:02:45.336Z"
   },
   {
    "duration": 51,
    "start_time": "2022-05-09T10:02:45.346Z"
   },
   {
    "duration": 11,
    "start_time": "2022-05-09T10:02:45.399Z"
   },
   {
    "duration": 11,
    "start_time": "2022-05-09T10:02:45.412Z"
   },
   {
    "duration": 7,
    "start_time": "2022-05-09T10:02:45.425Z"
   },
   {
    "duration": 9,
    "start_time": "2022-05-09T10:02:45.436Z"
   },
   {
    "duration": 63,
    "start_time": "2022-05-09T10:02:45.447Z"
   },
   {
    "duration": 17,
    "start_time": "2022-05-09T10:02:45.513Z"
   },
   {
    "duration": 17,
    "start_time": "2022-05-09T10:02:45.532Z"
   },
   {
    "duration": 36,
    "start_time": "2022-05-09T10:02:45.551Z"
   },
   {
    "duration": 12,
    "start_time": "2022-05-09T10:02:45.589Z"
   },
   {
    "duration": 11,
    "start_time": "2022-05-09T10:02:45.604Z"
   },
   {
    "duration": 21,
    "start_time": "2022-05-09T10:02:45.617Z"
   },
   {
    "duration": 46,
    "start_time": "2022-05-09T10:02:45.640Z"
   },
   {
    "duration": 20,
    "start_time": "2022-05-09T10:02:45.688Z"
   },
   {
    "duration": 18,
    "start_time": "2022-05-09T10:02:45.710Z"
   },
   {
    "duration": 18,
    "start_time": "2022-05-09T10:03:19.894Z"
   },
   {
    "duration": 543,
    "start_time": "2022-05-09T10:06:33.242Z"
   },
   {
    "duration": 74,
    "start_time": "2022-05-09T10:06:33.788Z"
   },
   {
    "duration": 41,
    "start_time": "2022-05-09T10:06:33.865Z"
   },
   {
    "duration": 21,
    "start_time": "2022-05-09T10:06:33.909Z"
   },
   {
    "duration": 13,
    "start_time": "2022-05-09T10:06:33.932Z"
   },
   {
    "duration": 37,
    "start_time": "2022-05-09T10:06:33.947Z"
   },
   {
    "duration": 8,
    "start_time": "2022-05-09T10:06:33.986Z"
   },
   {
    "duration": 5,
    "start_time": "2022-05-09T10:06:33.996Z"
   },
   {
    "duration": 7,
    "start_time": "2022-05-09T10:06:34.003Z"
   },
   {
    "duration": 8,
    "start_time": "2022-05-09T10:06:34.014Z"
   },
   {
    "duration": 6,
    "start_time": "2022-05-09T10:06:34.025Z"
   },
   {
    "duration": 52,
    "start_time": "2022-05-09T10:06:34.033Z"
   },
   {
    "duration": 7,
    "start_time": "2022-05-09T10:06:34.087Z"
   },
   {
    "duration": 7,
    "start_time": "2022-05-09T10:06:34.096Z"
   },
   {
    "duration": 8,
    "start_time": "2022-05-09T10:06:34.105Z"
   },
   {
    "duration": 28,
    "start_time": "2022-05-09T10:06:34.115Z"
   },
   {
    "duration": 31,
    "start_time": "2022-05-09T10:06:34.181Z"
   },
   {
    "duration": 26,
    "start_time": "2022-05-09T10:06:34.214Z"
   },
   {
    "duration": 9,
    "start_time": "2022-05-09T10:06:34.242Z"
   },
   {
    "duration": 22,
    "start_time": "2022-05-09T10:06:34.282Z"
   },
   {
    "duration": 10,
    "start_time": "2022-05-09T10:06:34.306Z"
   },
   {
    "duration": 28,
    "start_time": "2022-05-09T10:06:34.318Z"
   },
   {
    "duration": 42,
    "start_time": "2022-05-09T10:06:34.348Z"
   },
   {
    "duration": 21,
    "start_time": "2022-05-09T10:06:34.392Z"
   },
   {
    "duration": 14,
    "start_time": "2022-05-09T10:06:34.415Z"
   },
   {
    "duration": 13,
    "start_time": "2022-05-09T10:06:34.431Z"
   },
   {
    "duration": 4,
    "start_time": "2022-05-09T10:06:34.482Z"
   },
   {
    "duration": 14,
    "start_time": "2022-05-09T10:06:34.491Z"
   },
   {
    "duration": 32,
    "start_time": "2022-05-09T10:06:34.508Z"
   },
   {
    "duration": 39,
    "start_time": "2022-05-09T10:06:34.542Z"
   },
   {
    "duration": 19,
    "start_time": "2022-05-09T10:06:34.583Z"
   },
   {
    "duration": 10,
    "start_time": "2022-05-09T10:06:34.604Z"
   },
   {
    "duration": 12,
    "start_time": "2022-05-09T10:06:34.616Z"
   },
   {
    "duration": 13,
    "start_time": "2022-05-09T10:06:34.630Z"
   },
   {
    "duration": 55,
    "start_time": "2022-05-09T10:06:34.645Z"
   },
   {
    "duration": 6,
    "start_time": "2022-05-09T10:06:34.702Z"
   },
   {
    "duration": 18,
    "start_time": "2022-05-09T10:06:34.710Z"
   },
   {
    "duration": 19,
    "start_time": "2022-05-09T10:06:34.730Z"
   },
   {
    "duration": 533,
    "start_time": "2022-05-09T10:16:01.173Z"
   },
   {
    "duration": 78,
    "start_time": "2022-05-09T10:16:01.709Z"
   },
   {
    "duration": 30,
    "start_time": "2022-05-09T10:16:01.789Z"
   },
   {
    "duration": 39,
    "start_time": "2022-05-09T10:16:01.822Z"
   },
   {
    "duration": 75,
    "start_time": "2022-05-09T10:16:01.863Z"
   },
   {
    "duration": 35,
    "start_time": "2022-05-09T10:16:01.941Z"
   },
   {
    "duration": 17,
    "start_time": "2022-05-09T10:16:01.979Z"
   },
   {
    "duration": 48,
    "start_time": "2022-05-09T10:16:01.998Z"
   },
   {
    "duration": 34,
    "start_time": "2022-05-09T10:16:02.048Z"
   },
   {
    "duration": 39,
    "start_time": "2022-05-09T10:16:02.088Z"
   },
   {
    "duration": 44,
    "start_time": "2022-05-09T10:16:02.130Z"
   },
   {
    "duration": 32,
    "start_time": "2022-05-09T10:16:02.177Z"
   },
   {
    "duration": 21,
    "start_time": "2022-05-09T10:16:02.212Z"
   },
   {
    "duration": 29,
    "start_time": "2022-05-09T10:16:02.237Z"
   },
   {
    "duration": 41,
    "start_time": "2022-05-09T10:16:02.268Z"
   },
   {
    "duration": 58,
    "start_time": "2022-05-09T10:16:02.312Z"
   },
   {
    "duration": 32,
    "start_time": "2022-05-09T10:16:02.372Z"
   },
   {
    "duration": 29,
    "start_time": "2022-05-09T10:16:02.406Z"
   },
   {
    "duration": 10,
    "start_time": "2022-05-09T10:16:02.438Z"
   },
   {
    "duration": 45,
    "start_time": "2022-05-09T10:16:02.450Z"
   },
   {
    "duration": 25,
    "start_time": "2022-05-09T10:16:02.497Z"
   },
   {
    "duration": 35,
    "start_time": "2022-05-09T10:16:02.524Z"
   },
   {
    "duration": 12,
    "start_time": "2022-05-09T10:16:02.560Z"
   },
   {
    "duration": 39,
    "start_time": "2022-05-09T10:16:02.575Z"
   },
   {
    "duration": 22,
    "start_time": "2022-05-09T10:16:02.616Z"
   },
   {
    "duration": 17,
    "start_time": "2022-05-09T10:16:02.640Z"
   },
   {
    "duration": 26,
    "start_time": "2022-05-09T10:16:02.660Z"
   },
   {
    "duration": 30,
    "start_time": "2022-05-09T10:16:02.692Z"
   },
   {
    "duration": 24,
    "start_time": "2022-05-09T10:16:02.725Z"
   },
   {
    "duration": 23,
    "start_time": "2022-05-09T10:16:02.752Z"
   },
   {
    "duration": 35,
    "start_time": "2022-05-09T10:16:02.784Z"
   },
   {
    "duration": 21,
    "start_time": "2022-05-09T10:16:02.822Z"
   },
   {
    "duration": 23,
    "start_time": "2022-05-09T10:16:02.845Z"
   },
   {
    "duration": 33,
    "start_time": "2022-05-09T10:16:02.871Z"
   },
   {
    "duration": 37,
    "start_time": "2022-05-09T10:16:02.906Z"
   },
   {
    "duration": 19,
    "start_time": "2022-05-09T10:16:02.945Z"
   },
   {
    "duration": 9,
    "start_time": "2022-05-09T10:16:02.967Z"
   },
   {
    "duration": 495,
    "start_time": "2022-05-09T10:19:26.883Z"
   },
   {
    "duration": 71,
    "start_time": "2022-05-09T10:19:27.380Z"
   },
   {
    "duration": 39,
    "start_time": "2022-05-09T10:19:27.454Z"
   },
   {
    "duration": 22,
    "start_time": "2022-05-09T10:19:27.496Z"
   },
   {
    "duration": 13,
    "start_time": "2022-05-09T10:19:27.521Z"
   },
   {
    "duration": 14,
    "start_time": "2022-05-09T10:19:27.537Z"
   },
   {
    "duration": 11,
    "start_time": "2022-05-09T10:19:27.581Z"
   },
   {
    "duration": 5,
    "start_time": "2022-05-09T10:19:27.594Z"
   },
   {
    "duration": 8,
    "start_time": "2022-05-09T10:19:27.601Z"
   },
   {
    "duration": 9,
    "start_time": "2022-05-09T10:19:27.611Z"
   },
   {
    "duration": 7,
    "start_time": "2022-05-09T10:19:27.623Z"
   },
   {
    "duration": 49,
    "start_time": "2022-05-09T10:19:27.633Z"
   },
   {
    "duration": 7,
    "start_time": "2022-05-09T10:19:27.684Z"
   },
   {
    "duration": 7,
    "start_time": "2022-05-09T10:19:27.697Z"
   },
   {
    "duration": 9,
    "start_time": "2022-05-09T10:19:27.706Z"
   },
   {
    "duration": 27,
    "start_time": "2022-05-09T10:19:27.717Z"
   },
   {
    "duration": 63,
    "start_time": "2022-05-09T10:19:27.747Z"
   },
   {
    "duration": 25,
    "start_time": "2022-05-09T10:19:27.812Z"
   },
   {
    "duration": 9,
    "start_time": "2022-05-09T10:19:27.839Z"
   },
   {
    "duration": 50,
    "start_time": "2022-05-09T10:19:27.850Z"
   },
   {
    "duration": 10,
    "start_time": "2022-05-09T10:19:27.902Z"
   },
   {
    "duration": 24,
    "start_time": "2022-05-09T10:19:27.914Z"
   },
   {
    "duration": 44,
    "start_time": "2022-05-09T10:19:27.940Z"
   },
   {
    "duration": 19,
    "start_time": "2022-05-09T10:19:27.986Z"
   },
   {
    "duration": 9,
    "start_time": "2022-05-09T10:19:28.008Z"
   },
   {
    "duration": 13,
    "start_time": "2022-05-09T10:19:28.020Z"
   },
   {
    "duration": 49,
    "start_time": "2022-05-09T10:19:28.035Z"
   },
   {
    "duration": 12,
    "start_time": "2022-05-09T10:19:28.086Z"
   },
   {
    "duration": 20,
    "start_time": "2022-05-09T10:19:28.101Z"
   },
   {
    "duration": 9,
    "start_time": "2022-05-09T10:19:28.123Z"
   },
   {
    "duration": 47,
    "start_time": "2022-05-09T10:19:28.135Z"
   },
   {
    "duration": 18,
    "start_time": "2022-05-09T10:19:28.184Z"
   },
   {
    "duration": 7,
    "start_time": "2022-05-09T10:19:28.205Z"
   },
   {
    "duration": 15,
    "start_time": "2022-05-09T10:19:28.214Z"
   },
   {
    "duration": 50,
    "start_time": "2022-05-09T10:19:28.232Z"
   },
   {
    "duration": 17,
    "start_time": "2022-05-09T10:19:28.284Z"
   },
   {
    "duration": 13,
    "start_time": "2022-05-09T10:20:03.822Z"
   },
   {
    "duration": 4,
    "start_time": "2022-05-10T08:18:15.215Z"
   },
   {
    "duration": 596,
    "start_time": "2022-05-10T08:18:15.799Z"
   },
   {
    "duration": 498,
    "start_time": "2022-05-10T08:18:47.176Z"
   },
   {
    "duration": 700,
    "start_time": "2022-05-10T08:18:47.677Z"
   },
   {
    "duration": 31,
    "start_time": "2022-05-10T08:18:48.379Z"
   },
   {
    "duration": 22,
    "start_time": "2022-05-10T08:18:48.414Z"
   },
   {
    "duration": 48,
    "start_time": "2022-05-10T08:18:48.439Z"
   },
   {
    "duration": 7,
    "start_time": "2022-05-10T08:18:48.489Z"
   },
   {
    "duration": 10,
    "start_time": "2022-05-10T08:18:48.499Z"
   },
   {
    "duration": 9,
    "start_time": "2022-05-10T08:18:48.511Z"
   },
   {
    "duration": 7,
    "start_time": "2022-05-10T08:18:48.522Z"
   },
   {
    "duration": 51,
    "start_time": "2022-05-10T08:18:48.533Z"
   },
   {
    "duration": 9,
    "start_time": "2022-05-10T08:18:48.586Z"
   },
   {
    "duration": 8,
    "start_time": "2022-05-10T08:18:48.597Z"
   },
   {
    "duration": 9,
    "start_time": "2022-05-10T08:18:48.608Z"
   },
   {
    "duration": 10,
    "start_time": "2022-05-10T08:18:48.620Z"
   },
   {
    "duration": 54,
    "start_time": "2022-05-10T08:18:48.632Z"
   },
   {
    "duration": 28,
    "start_time": "2022-05-10T08:18:48.689Z"
   },
   {
    "duration": 29,
    "start_time": "2022-05-10T08:18:48.719Z"
   },
   {
    "duration": 49,
    "start_time": "2022-05-10T08:18:48.750Z"
   },
   {
    "duration": 21,
    "start_time": "2022-05-10T08:18:48.802Z"
   },
   {
    "duration": 27,
    "start_time": "2022-05-10T08:18:48.825Z"
   },
   {
    "duration": 30,
    "start_time": "2022-05-10T08:18:48.854Z"
   },
   {
    "duration": 37,
    "start_time": "2022-05-10T08:18:48.887Z"
   },
   {
    "duration": 9,
    "start_time": "2022-05-10T08:18:48.927Z"
   },
   {
    "duration": 46,
    "start_time": "2022-05-10T08:18:48.938Z"
   },
   {
    "duration": 11,
    "start_time": "2022-05-10T08:18:48.986Z"
   },
   {
    "duration": 12,
    "start_time": "2022-05-10T08:18:49.000Z"
   },
   {
    "duration": 11,
    "start_time": "2022-05-10T08:18:49.015Z"
   },
   {
    "duration": 52,
    "start_time": "2022-05-10T08:18:49.032Z"
   },
   {
    "duration": 20,
    "start_time": "2022-05-10T08:18:49.086Z"
   },
   {
    "duration": 10,
    "start_time": "2022-05-10T08:18:49.109Z"
   },
   {
    "duration": 16,
    "start_time": "2022-05-10T08:18:49.121Z"
   },
   {
    "duration": 48,
    "start_time": "2022-05-10T08:18:49.140Z"
   },
   {
    "duration": 9,
    "start_time": "2022-05-10T08:18:49.190Z"
   },
   {
    "duration": 523,
    "start_time": "2022-05-10T08:18:49.201Z"
   },
   {
    "duration": 0,
    "start_time": "2022-05-10T08:18:49.726Z"
   },
   {
    "duration": 0,
    "start_time": "2022-05-10T08:18:49.728Z"
   },
   {
    "duration": 0,
    "start_time": "2022-05-10T08:18:49.730Z"
   },
   {
    "duration": 0,
    "start_time": "2022-05-10T08:18:49.731Z"
   },
   {
    "duration": 380,
    "start_time": "2022-05-10T08:19:02.621Z"
   },
   {
    "duration": 265,
    "start_time": "2022-05-10T08:23:21.078Z"
   },
   {
    "duration": 21,
    "start_time": "2022-05-10T08:23:37.681Z"
   },
   {
    "duration": 549,
    "start_time": "2022-05-10T08:24:04.172Z"
   },
   {
    "duration": 88,
    "start_time": "2022-05-10T08:24:04.724Z"
   },
   {
    "duration": 31,
    "start_time": "2022-05-10T08:24:04.814Z"
   },
   {
    "duration": 55,
    "start_time": "2022-05-10T08:24:04.848Z"
   },
   {
    "duration": 16,
    "start_time": "2022-05-10T08:24:04.907Z"
   },
   {
    "duration": 7,
    "start_time": "2022-05-10T08:24:04.926Z"
   },
   {
    "duration": 11,
    "start_time": "2022-05-10T08:24:04.936Z"
   },
   {
    "duration": 7,
    "start_time": "2022-05-10T08:24:04.984Z"
   },
   {
    "duration": 15,
    "start_time": "2022-05-10T08:24:04.994Z"
   },
   {
    "duration": 10,
    "start_time": "2022-05-10T08:24:05.012Z"
   },
   {
    "duration": 8,
    "start_time": "2022-05-10T08:24:05.025Z"
   },
   {
    "duration": 49,
    "start_time": "2022-05-10T08:24:05.035Z"
   },
   {
    "duration": 22,
    "start_time": "2022-05-10T08:24:05.086Z"
   },
   {
    "duration": 7,
    "start_time": "2022-05-10T08:24:05.114Z"
   },
   {
    "duration": 10,
    "start_time": "2022-05-10T08:24:05.123Z"
   },
   {
    "duration": 56,
    "start_time": "2022-05-10T08:24:05.135Z"
   },
   {
    "duration": 31,
    "start_time": "2022-05-10T08:24:05.194Z"
   },
   {
    "duration": 66,
    "start_time": "2022-05-10T08:24:05.228Z"
   },
   {
    "duration": 10,
    "start_time": "2022-05-10T08:24:05.298Z"
   },
   {
    "duration": 23,
    "start_time": "2022-05-10T08:24:05.310Z"
   },
   {
    "duration": 11,
    "start_time": "2022-05-10T08:24:05.337Z"
   },
   {
    "duration": 40,
    "start_time": "2022-05-10T08:24:05.384Z"
   },
   {
    "duration": 16,
    "start_time": "2022-05-10T08:24:05.428Z"
   },
   {
    "duration": 63,
    "start_time": "2022-05-10T08:24:05.448Z"
   },
   {
    "duration": 16,
    "start_time": "2022-05-10T08:24:05.516Z"
   },
   {
    "duration": 13,
    "start_time": "2022-05-10T08:24:05.534Z"
   },
   {
    "duration": 53,
    "start_time": "2022-05-10T08:24:05.549Z"
   },
   {
    "duration": 11,
    "start_time": "2022-05-10T08:24:05.605Z"
   },
   {
    "duration": 64,
    "start_time": "2022-05-10T08:24:05.618Z"
   },
   {
    "duration": 8,
    "start_time": "2022-05-10T08:24:05.685Z"
   },
   {
    "duration": 25,
    "start_time": "2022-05-10T08:24:05.696Z"
   },
   {
    "duration": 29,
    "start_time": "2022-05-10T08:24:05.724Z"
   },
   {
    "duration": 43,
    "start_time": "2022-05-10T08:24:05.755Z"
   },
   {
    "duration": 6,
    "start_time": "2022-05-10T08:24:05.800Z"
   },
   {
    "duration": 292,
    "start_time": "2022-05-10T08:24:05.808Z"
   },
   {
    "duration": 20,
    "start_time": "2022-05-10T08:24:06.102Z"
   },
   {
    "duration": 5,
    "start_time": "2022-05-10T08:24:06.124Z"
   },
   {
    "duration": 20,
    "start_time": "2022-05-10T08:24:06.131Z"
   },
   {
    "duration": 50,
    "start_time": "2022-05-10T08:24:06.154Z"
   },
   {
    "duration": 18,
    "start_time": "2022-05-10T08:24:06.206Z"
   },
   {
    "duration": 531,
    "start_time": "2022-05-10T08:24:50.101Z"
   },
   {
    "duration": 89,
    "start_time": "2022-05-10T08:24:50.635Z"
   },
   {
    "duration": 56,
    "start_time": "2022-05-10T08:24:50.726Z"
   },
   {
    "duration": 33,
    "start_time": "2022-05-10T08:24:50.785Z"
   },
   {
    "duration": 18,
    "start_time": "2022-05-10T08:24:50.823Z"
   },
   {
    "duration": 40,
    "start_time": "2022-05-10T08:24:50.844Z"
   },
   {
    "duration": 27,
    "start_time": "2022-05-10T08:24:50.887Z"
   },
   {
    "duration": 8,
    "start_time": "2022-05-10T08:24:50.916Z"
   },
   {
    "duration": 9,
    "start_time": "2022-05-10T08:24:50.927Z"
   },
   {
    "duration": 16,
    "start_time": "2022-05-10T08:24:50.938Z"
   },
   {
    "duration": 29,
    "start_time": "2022-05-10T08:24:50.957Z"
   },
   {
    "duration": 10,
    "start_time": "2022-05-10T08:24:50.989Z"
   },
   {
    "duration": 26,
    "start_time": "2022-05-10T08:24:51.001Z"
   },
   {
    "duration": 20,
    "start_time": "2022-05-10T08:24:51.034Z"
   },
   {
    "duration": 16,
    "start_time": "2022-05-10T08:24:51.056Z"
   },
   {
    "duration": 58,
    "start_time": "2022-05-10T08:24:51.074Z"
   },
   {
    "duration": 29,
    "start_time": "2022-05-10T08:24:51.134Z"
   },
   {
    "duration": 45,
    "start_time": "2022-05-10T08:24:51.166Z"
   },
   {
    "duration": 17,
    "start_time": "2022-05-10T08:24:51.213Z"
   },
   {
    "duration": 38,
    "start_time": "2022-05-10T08:24:51.235Z"
   },
   {
    "duration": 13,
    "start_time": "2022-05-10T08:24:51.275Z"
   },
   {
    "duration": 64,
    "start_time": "2022-05-10T08:24:51.291Z"
   },
   {
    "duration": 10,
    "start_time": "2022-05-10T08:24:51.358Z"
   },
   {
    "duration": 52,
    "start_time": "2022-05-10T08:24:51.382Z"
   },
   {
    "duration": 11,
    "start_time": "2022-05-10T08:24:51.437Z"
   },
   {
    "duration": 22,
    "start_time": "2022-05-10T08:24:51.450Z"
   },
   {
    "duration": 56,
    "start_time": "2022-05-10T08:24:51.474Z"
   },
   {
    "duration": 29,
    "start_time": "2022-05-10T08:24:51.533Z"
   },
   {
    "duration": 43,
    "start_time": "2022-05-10T08:24:51.564Z"
   },
   {
    "duration": 16,
    "start_time": "2022-05-10T08:24:51.610Z"
   },
   {
    "duration": 30,
    "start_time": "2022-05-10T08:24:51.629Z"
   },
   {
    "duration": 33,
    "start_time": "2022-05-10T08:24:51.662Z"
   },
   {
    "duration": 47,
    "start_time": "2022-05-10T08:24:51.698Z"
   },
   {
    "duration": 21,
    "start_time": "2022-05-10T08:24:51.747Z"
   },
   {
    "duration": 493,
    "start_time": "2022-05-10T08:24:51.771Z"
   },
   {
    "duration": 35,
    "start_time": "2022-05-10T08:24:52.267Z"
   },
   {
    "duration": 25,
    "start_time": "2022-05-10T08:24:52.305Z"
   },
   {
    "duration": 19,
    "start_time": "2022-05-10T08:24:52.333Z"
   },
   {
    "duration": 45,
    "start_time": "2022-05-10T08:24:52.355Z"
   },
   {
    "duration": 33,
    "start_time": "2022-05-10T08:24:52.404Z"
   },
   {
    "duration": 4,
    "start_time": "2022-05-10T08:26:05.531Z"
   },
   {
    "duration": 272,
    "start_time": "2022-05-10T08:26:06.172Z"
   },
   {
    "duration": 29,
    "start_time": "2022-05-10T08:26:06.881Z"
   },
   {
    "duration": 8,
    "start_time": "2022-05-10T08:28:20.896Z"
   },
   {
    "duration": 103,
    "start_time": "2022-05-10T08:28:28.777Z"
   },
   {
    "duration": 9,
    "start_time": "2022-05-10T08:28:49.451Z"
   },
   {
    "duration": 531,
    "start_time": "2022-05-10T08:37:54.952Z"
   },
   {
    "duration": 72,
    "start_time": "2022-05-10T08:37:55.486Z"
   },
   {
    "duration": 39,
    "start_time": "2022-05-10T08:37:55.560Z"
   },
   {
    "duration": 21,
    "start_time": "2022-05-10T08:37:55.601Z"
   },
   {
    "duration": 13,
    "start_time": "2022-05-10T08:37:55.625Z"
   },
   {
    "duration": 45,
    "start_time": "2022-05-10T08:37:55.640Z"
   },
   {
    "duration": 9,
    "start_time": "2022-05-10T08:37:55.687Z"
   },
   {
    "duration": 4,
    "start_time": "2022-05-10T08:37:55.699Z"
   },
   {
    "duration": 7,
    "start_time": "2022-05-10T08:37:55.706Z"
   },
   {
    "duration": 8,
    "start_time": "2022-05-10T08:37:55.716Z"
   },
   {
    "duration": 7,
    "start_time": "2022-05-10T08:37:55.781Z"
   },
   {
    "duration": 8,
    "start_time": "2022-05-10T08:37:55.791Z"
   },
   {
    "duration": 9,
    "start_time": "2022-05-10T08:37:55.801Z"
   },
   {
    "duration": 6,
    "start_time": "2022-05-10T08:37:55.816Z"
   },
   {
    "duration": 9,
    "start_time": "2022-05-10T08:37:55.824Z"
   },
   {
    "duration": 27,
    "start_time": "2022-05-10T08:37:55.881Z"
   },
   {
    "duration": 29,
    "start_time": "2022-05-10T08:37:55.911Z"
   },
   {
    "duration": 51,
    "start_time": "2022-05-10T08:37:55.942Z"
   },
   {
    "duration": 9,
    "start_time": "2022-05-10T08:37:55.995Z"
   },
   {
    "duration": 25,
    "start_time": "2022-05-10T08:37:56.006Z"
   },
   {
    "duration": 9,
    "start_time": "2022-05-10T08:37:56.033Z"
   },
   {
    "duration": 57,
    "start_time": "2022-05-10T08:37:56.044Z"
   },
   {
    "duration": 17,
    "start_time": "2022-05-10T08:37:56.104Z"
   },
   {
    "duration": 20,
    "start_time": "2022-05-10T08:37:56.123Z"
   },
   {
    "duration": 41,
    "start_time": "2022-05-10T08:37:56.145Z"
   },
   {
    "duration": 13,
    "start_time": "2022-05-10T08:37:56.188Z"
   },
   {
    "duration": 13,
    "start_time": "2022-05-10T08:37:56.203Z"
   },
   {
    "duration": 17,
    "start_time": "2022-05-10T08:37:56.218Z"
   },
   {
    "duration": 49,
    "start_time": "2022-05-10T08:37:56.246Z"
   },
   {
    "duration": 5,
    "start_time": "2022-05-10T08:37:56.297Z"
   },
   {
    "duration": 20,
    "start_time": "2022-05-10T08:37:56.305Z"
   },
   {
    "duration": 17,
    "start_time": "2022-05-10T08:37:56.327Z"
   },
   {
    "duration": 49,
    "start_time": "2022-05-10T08:37:56.346Z"
   },
   {
    "duration": 8,
    "start_time": "2022-05-10T08:37:56.397Z"
   },
   {
    "duration": 513,
    "start_time": "2022-05-10T08:37:56.408Z"
   },
   {
    "duration": 31,
    "start_time": "2022-05-10T08:38:03.662Z"
   },
   {
    "duration": 544,
    "start_time": "2022-05-10T08:39:00.440Z"
   },
   {
    "duration": 72,
    "start_time": "2022-05-10T08:39:00.986Z"
   },
   {
    "duration": 38,
    "start_time": "2022-05-10T08:39:01.061Z"
   },
   {
    "duration": 21,
    "start_time": "2022-05-10T08:39:01.102Z"
   },
   {
    "duration": 13,
    "start_time": "2022-05-10T08:39:01.126Z"
   },
   {
    "duration": 41,
    "start_time": "2022-05-10T08:39:01.142Z"
   },
   {
    "duration": 25,
    "start_time": "2022-05-10T08:39:01.186Z"
   },
   {
    "duration": 7,
    "start_time": "2022-05-10T08:39:01.213Z"
   },
   {
    "duration": 15,
    "start_time": "2022-05-10T08:39:01.223Z"
   },
   {
    "duration": 14,
    "start_time": "2022-05-10T08:39:01.244Z"
   },
   {
    "duration": 24,
    "start_time": "2022-05-10T08:39:01.261Z"
   },
   {
    "duration": 6,
    "start_time": "2022-05-10T08:39:01.288Z"
   },
   {
    "duration": 13,
    "start_time": "2022-05-10T08:39:01.298Z"
   },
   {
    "duration": 16,
    "start_time": "2022-05-10T08:39:01.314Z"
   },
   {
    "duration": 20,
    "start_time": "2022-05-10T08:39:01.333Z"
   },
   {
    "duration": 62,
    "start_time": "2022-05-10T08:39:01.356Z"
   },
   {
    "duration": 61,
    "start_time": "2022-05-10T08:39:01.421Z"
   },
   {
    "duration": 41,
    "start_time": "2022-05-10T08:39:01.485Z"
   },
   {
    "duration": 13,
    "start_time": "2022-05-10T08:39:01.528Z"
   },
   {
    "duration": 49,
    "start_time": "2022-05-10T08:39:01.543Z"
   },
   {
    "duration": 19,
    "start_time": "2022-05-10T08:39:01.595Z"
   },
   {
    "duration": 31,
    "start_time": "2022-05-10T08:39:01.616Z"
   },
   {
    "duration": 31,
    "start_time": "2022-05-10T08:39:01.649Z"
   },
   {
    "duration": 26,
    "start_time": "2022-05-10T08:39:01.682Z"
   },
   {
    "duration": 15,
    "start_time": "2022-05-10T08:39:01.711Z"
   },
   {
    "duration": 26,
    "start_time": "2022-05-10T08:39:01.729Z"
   },
   {
    "duration": 31,
    "start_time": "2022-05-10T08:39:01.758Z"
   },
   {
    "duration": 57,
    "start_time": "2022-05-10T08:39:01.797Z"
   },
   {
    "duration": 41,
    "start_time": "2022-05-10T08:39:01.857Z"
   },
   {
    "duration": 16,
    "start_time": "2022-05-10T08:39:01.901Z"
   },
   {
    "duration": 31,
    "start_time": "2022-05-10T08:39:01.920Z"
   },
   {
    "duration": 34,
    "start_time": "2022-05-10T08:39:01.954Z"
   },
   {
    "duration": 55,
    "start_time": "2022-05-10T08:39:01.991Z"
   },
   {
    "duration": 17,
    "start_time": "2022-05-10T08:39:02.050Z"
   },
   {
    "duration": 514,
    "start_time": "2022-05-10T08:39:02.069Z"
   },
   {
    "duration": 18,
    "start_time": "2022-05-10T08:39:02.585Z"
   },
   {
    "duration": 276,
    "start_time": "2022-05-10T08:40:51.060Z"
   },
   {
    "duration": 30,
    "start_time": "2022-05-10T08:40:52.582Z"
   },
   {
    "duration": 7,
    "start_time": "2022-05-10T08:41:13.408Z"
   },
   {
    "duration": 7,
    "start_time": "2022-05-10T08:41:45.274Z"
   },
   {
    "duration": 234,
    "start_time": "2022-05-10T08:41:47.669Z"
   },
   {
    "duration": 19,
    "start_time": "2022-05-10T08:41:48.984Z"
   },
   {
    "duration": 542,
    "start_time": "2022-05-10T08:42:46.848Z"
   },
   {
    "duration": 75,
    "start_time": "2022-05-10T08:42:47.393Z"
   },
   {
    "duration": 37,
    "start_time": "2022-05-10T08:42:47.470Z"
   },
   {
    "duration": 26,
    "start_time": "2022-05-10T08:42:47.510Z"
   },
   {
    "duration": 48,
    "start_time": "2022-05-10T08:42:47.540Z"
   },
   {
    "duration": 9,
    "start_time": "2022-05-10T08:42:47.591Z"
   },
   {
    "duration": 8,
    "start_time": "2022-05-10T08:42:47.604Z"
   },
   {
    "duration": 6,
    "start_time": "2022-05-10T08:42:47.615Z"
   },
   {
    "duration": 60,
    "start_time": "2022-05-10T08:42:47.624Z"
   },
   {
    "duration": 9,
    "start_time": "2022-05-10T08:42:47.687Z"
   },
   {
    "duration": 8,
    "start_time": "2022-05-10T08:42:47.699Z"
   },
   {
    "duration": 6,
    "start_time": "2022-05-10T08:42:47.709Z"
   },
   {
    "duration": 5,
    "start_time": "2022-05-10T08:42:47.718Z"
   },
   {
    "duration": 54,
    "start_time": "2022-05-10T08:42:47.729Z"
   },
   {
    "duration": 9,
    "start_time": "2022-05-10T08:42:47.785Z"
   },
   {
    "duration": 34,
    "start_time": "2022-05-10T08:42:47.796Z"
   },
   {
    "duration": 58,
    "start_time": "2022-05-10T08:42:47.832Z"
   },
   {
    "duration": 27,
    "start_time": "2022-05-10T08:42:47.893Z"
   },
   {
    "duration": 10,
    "start_time": "2022-05-10T08:42:47.923Z"
   },
   {
    "duration": 51,
    "start_time": "2022-05-10T08:42:47.936Z"
   },
   {
    "duration": 9,
    "start_time": "2022-05-10T08:42:47.990Z"
   },
   {
    "duration": 33,
    "start_time": "2022-05-10T08:42:48.001Z"
   },
   {
    "duration": 12,
    "start_time": "2022-05-10T08:42:48.037Z"
   },
   {
    "duration": 47,
    "start_time": "2022-05-10T08:42:48.051Z"
   },
   {
    "duration": 13,
    "start_time": "2022-05-10T08:42:48.104Z"
   },
   {
    "duration": 15,
    "start_time": "2022-05-10T08:42:48.119Z"
   },
   {
    "duration": 13,
    "start_time": "2022-05-10T08:42:48.136Z"
   },
   {
    "duration": 42,
    "start_time": "2022-05-10T08:42:48.151Z"
   },
   {
    "duration": 25,
    "start_time": "2022-05-10T08:42:48.195Z"
   },
   {
    "duration": 9,
    "start_time": "2022-05-10T08:42:48.222Z"
   },
   {
    "duration": 20,
    "start_time": "2022-05-10T08:42:48.234Z"
   },
   {
    "duration": 39,
    "start_time": "2022-05-10T08:42:48.256Z"
   },
   {
    "duration": 19,
    "start_time": "2022-05-10T08:42:48.298Z"
   },
   {
    "duration": 8,
    "start_time": "2022-05-10T08:42:48.319Z"
   },
   {
    "duration": 275,
    "start_time": "2022-05-10T08:42:48.329Z"
   },
   {
    "duration": 20,
    "start_time": "2022-05-10T08:42:48.607Z"
   },
   {
    "duration": 7,
    "start_time": "2022-05-10T08:43:21.409Z"
   },
   {
    "duration": 261,
    "start_time": "2022-05-10T08:43:22.152Z"
   },
   {
    "duration": 19,
    "start_time": "2022-05-10T08:43:24.444Z"
   },
   {
    "duration": 10,
    "start_time": "2022-05-10T08:44:05.801Z"
   },
   {
    "duration": 7,
    "start_time": "2022-05-10T08:44:46.409Z"
   },
   {
    "duration": 230,
    "start_time": "2022-05-10T08:44:48.762Z"
   },
   {
    "duration": 18,
    "start_time": "2022-05-10T08:44:49.449Z"
   },
   {
    "duration": 6,
    "start_time": "2022-05-10T08:45:12.620Z"
   },
   {
    "duration": 227,
    "start_time": "2022-05-10T08:45:14.632Z"
   },
   {
    "duration": 18,
    "start_time": "2022-05-10T08:45:15.706Z"
   },
   {
    "duration": 7,
    "start_time": "2022-05-10T08:45:34.261Z"
   },
   {
    "duration": 236,
    "start_time": "2022-05-10T08:45:34.892Z"
   },
   {
    "duration": 18,
    "start_time": "2022-05-10T08:45:35.923Z"
   },
   {
    "duration": 7,
    "start_time": "2022-05-10T08:46:19.281Z"
   },
   {
    "duration": 232,
    "start_time": "2022-05-10T08:46:20.186Z"
   },
   {
    "duration": 19,
    "start_time": "2022-05-10T08:46:21.016Z"
   },
   {
    "duration": 7,
    "start_time": "2022-05-10T08:46:58.814Z"
   },
   {
    "duration": 233,
    "start_time": "2022-05-10T08:46:59.386Z"
   },
   {
    "duration": 20,
    "start_time": "2022-05-10T08:46:59.920Z"
   },
   {
    "duration": 494,
    "start_time": "2022-05-10T08:47:26.706Z"
   },
   {
    "duration": 80,
    "start_time": "2022-05-10T08:47:27.203Z"
   },
   {
    "duration": 30,
    "start_time": "2022-05-10T08:47:27.286Z"
   },
   {
    "duration": 20,
    "start_time": "2022-05-10T08:47:27.319Z"
   },
   {
    "duration": 41,
    "start_time": "2022-05-10T08:47:27.342Z"
   },
   {
    "duration": 7,
    "start_time": "2022-05-10T08:47:27.385Z"
   },
   {
    "duration": 17,
    "start_time": "2022-05-10T08:47:27.394Z"
   },
   {
    "duration": 12,
    "start_time": "2022-05-10T08:47:27.413Z"
   },
   {
    "duration": 9,
    "start_time": "2022-05-10T08:47:27.427Z"
   },
   {
    "duration": 8,
    "start_time": "2022-05-10T08:47:27.439Z"
   },
   {
    "duration": 34,
    "start_time": "2022-05-10T08:47:27.449Z"
   },
   {
    "duration": 5,
    "start_time": "2022-05-10T08:47:27.485Z"
   },
   {
    "duration": 17,
    "start_time": "2022-05-10T08:47:27.492Z"
   },
   {
    "duration": 10,
    "start_time": "2022-05-10T08:47:27.511Z"
   },
   {
    "duration": 17,
    "start_time": "2022-05-10T08:47:27.523Z"
   },
   {
    "duration": 45,
    "start_time": "2022-05-10T08:47:27.542Z"
   },
   {
    "duration": 30,
    "start_time": "2022-05-10T08:47:27.590Z"
   },
   {
    "duration": 27,
    "start_time": "2022-05-10T08:47:27.623Z"
   },
   {
    "duration": 10,
    "start_time": "2022-05-10T08:47:27.681Z"
   },
   {
    "duration": 33,
    "start_time": "2022-05-10T08:47:27.694Z"
   },
   {
    "duration": 12,
    "start_time": "2022-05-10T08:47:27.729Z"
   },
   {
    "duration": 51,
    "start_time": "2022-05-10T08:47:27.743Z"
   },
   {
    "duration": 15,
    "start_time": "2022-05-10T08:47:27.796Z"
   },
   {
    "duration": 28,
    "start_time": "2022-05-10T08:47:27.813Z"
   },
   {
    "duration": 27,
    "start_time": "2022-05-10T08:47:27.843Z"
   },
   {
    "duration": 21,
    "start_time": "2022-05-10T08:47:27.872Z"
   },
   {
    "duration": 22,
    "start_time": "2022-05-10T08:47:27.895Z"
   },
   {
    "duration": 27,
    "start_time": "2022-05-10T08:47:27.922Z"
   },
   {
    "duration": 32,
    "start_time": "2022-05-10T08:47:27.951Z"
   },
   {
    "duration": 16,
    "start_time": "2022-05-10T08:47:27.985Z"
   },
   {
    "duration": 28,
    "start_time": "2022-05-10T08:47:28.003Z"
   },
   {
    "duration": 29,
    "start_time": "2022-05-10T08:47:28.033Z"
   },
   {
    "duration": 21,
    "start_time": "2022-05-10T08:47:28.064Z"
   },
   {
    "duration": 9,
    "start_time": "2022-05-10T08:47:28.088Z"
   },
   {
    "duration": 256,
    "start_time": "2022-05-10T08:47:28.099Z"
   },
   {
    "duration": 26,
    "start_time": "2022-05-10T08:47:28.358Z"
   },
   {
    "duration": 533,
    "start_time": "2022-05-10T08:48:44.250Z"
   },
   {
    "duration": 78,
    "start_time": "2022-05-10T08:48:44.786Z"
   },
   {
    "duration": 35,
    "start_time": "2022-05-10T08:48:44.866Z"
   },
   {
    "duration": 22,
    "start_time": "2022-05-10T08:48:44.903Z"
   },
   {
    "duration": 12,
    "start_time": "2022-05-10T08:48:44.928Z"
   },
   {
    "duration": 5,
    "start_time": "2022-05-10T08:48:44.943Z"
   },
   {
    "duration": 7,
    "start_time": "2022-05-10T08:48:44.982Z"
   },
   {
    "duration": 5,
    "start_time": "2022-05-10T08:48:44.991Z"
   },
   {
    "duration": 7,
    "start_time": "2022-05-10T08:48:44.998Z"
   },
   {
    "duration": 21,
    "start_time": "2022-05-10T08:48:45.007Z"
   },
   {
    "duration": 7,
    "start_time": "2022-05-10T08:48:45.030Z"
   },
   {
    "duration": 44,
    "start_time": "2022-05-10T08:48:45.039Z"
   },
   {
    "duration": 4,
    "start_time": "2022-05-10T08:48:45.085Z"
   },
   {
    "duration": 9,
    "start_time": "2022-05-10T08:48:45.095Z"
   },
   {
    "duration": 16,
    "start_time": "2022-05-10T08:48:45.106Z"
   },
   {
    "duration": 32,
    "start_time": "2022-05-10T08:48:45.124Z"
   },
   {
    "duration": 51,
    "start_time": "2022-05-10T08:48:45.158Z"
   },
   {
    "duration": 26,
    "start_time": "2022-05-10T08:48:45.211Z"
   },
   {
    "duration": 9,
    "start_time": "2022-05-10T08:48:45.239Z"
   },
   {
    "duration": 23,
    "start_time": "2022-05-10T08:48:45.281Z"
   },
   {
    "duration": 10,
    "start_time": "2022-05-10T08:48:45.306Z"
   },
   {
    "duration": 26,
    "start_time": "2022-05-10T08:48:45.318Z"
   },
   {
    "duration": 37,
    "start_time": "2022-05-10T08:48:45.346Z"
   },
   {
    "duration": 19,
    "start_time": "2022-05-10T08:48:45.385Z"
   },
   {
    "duration": 12,
    "start_time": "2022-05-10T08:48:45.406Z"
   },
   {
    "duration": 9,
    "start_time": "2022-05-10T08:48:45.420Z"
   },
   {
    "duration": 12,
    "start_time": "2022-05-10T08:48:45.431Z"
   },
   {
    "duration": 47,
    "start_time": "2022-05-10T08:48:45.445Z"
   },
   {
    "duration": 22,
    "start_time": "2022-05-10T08:48:45.494Z"
   },
   {
    "duration": 5,
    "start_time": "2022-05-10T08:48:45.518Z"
   },
   {
    "duration": 17,
    "start_time": "2022-05-10T08:48:45.525Z"
   },
   {
    "duration": 50,
    "start_time": "2022-05-10T08:48:45.544Z"
   },
   {
    "duration": 11,
    "start_time": "2022-05-10T08:48:45.597Z"
   },
   {
    "duration": 8,
    "start_time": "2022-05-10T08:48:45.610Z"
   },
   {
    "duration": 261,
    "start_time": "2022-05-10T08:48:45.620Z"
   },
   {
    "duration": 18,
    "start_time": "2022-05-10T08:48:45.884Z"
   },
   {
    "duration": 489,
    "start_time": "2022-05-10T08:49:34.022Z"
   },
   {
    "duration": 83,
    "start_time": "2022-05-10T08:49:34.514Z"
   },
   {
    "duration": 30,
    "start_time": "2022-05-10T08:49:34.599Z"
   },
   {
    "duration": 21,
    "start_time": "2022-05-10T08:49:34.632Z"
   },
   {
    "duration": 37,
    "start_time": "2022-05-10T08:49:34.656Z"
   },
   {
    "duration": 19,
    "start_time": "2022-05-10T08:49:34.695Z"
   },
   {
    "duration": 13,
    "start_time": "2022-05-10T08:49:34.717Z"
   },
   {
    "duration": 11,
    "start_time": "2022-05-10T08:49:34.732Z"
   },
   {
    "duration": 10,
    "start_time": "2022-05-10T08:49:34.745Z"
   },
   {
    "duration": 27,
    "start_time": "2022-05-10T08:49:34.757Z"
   },
   {
    "duration": 15,
    "start_time": "2022-05-10T08:49:34.786Z"
   },
   {
    "duration": 6,
    "start_time": "2022-05-10T08:49:34.803Z"
   },
   {
    "duration": 5,
    "start_time": "2022-05-10T08:49:34.811Z"
   },
   {
    "duration": 6,
    "start_time": "2022-05-10T08:49:34.822Z"
   },
   {
    "duration": 52,
    "start_time": "2022-05-10T08:49:34.831Z"
   },
   {
    "duration": 27,
    "start_time": "2022-05-10T08:49:34.885Z"
   },
   {
    "duration": 30,
    "start_time": "2022-05-10T08:49:34.914Z"
   },
   {
    "duration": 55,
    "start_time": "2022-05-10T08:49:34.946Z"
   },
   {
    "duration": 10,
    "start_time": "2022-05-10T08:49:35.003Z"
   },
   {
    "duration": 32,
    "start_time": "2022-05-10T08:49:35.015Z"
   },
   {
    "duration": 10,
    "start_time": "2022-05-10T08:49:35.049Z"
   },
   {
    "duration": 47,
    "start_time": "2022-05-10T08:49:35.061Z"
   },
   {
    "duration": 10,
    "start_time": "2022-05-10T08:49:35.110Z"
   },
   {
    "duration": 20,
    "start_time": "2022-05-10T08:49:35.122Z"
   },
   {
    "duration": 40,
    "start_time": "2022-05-10T08:49:35.144Z"
   },
   {
    "duration": 13,
    "start_time": "2022-05-10T08:49:35.186Z"
   },
   {
    "duration": 15,
    "start_time": "2022-05-10T08:49:35.201Z"
   },
   {
    "duration": 15,
    "start_time": "2022-05-10T08:49:35.218Z"
   },
   {
    "duration": 55,
    "start_time": "2022-05-10T08:49:35.235Z"
   },
   {
    "duration": 8,
    "start_time": "2022-05-10T08:49:35.293Z"
   },
   {
    "duration": 16,
    "start_time": "2022-05-10T08:49:35.304Z"
   },
   {
    "duration": 17,
    "start_time": "2022-05-10T08:49:35.322Z"
   },
   {
    "duration": 10,
    "start_time": "2022-05-10T08:49:35.342Z"
   },
   {
    "duration": 7,
    "start_time": "2022-05-10T08:49:35.383Z"
   },
   {
    "duration": 276,
    "start_time": "2022-05-10T08:49:35.392Z"
   },
   {
    "duration": 38,
    "start_time": "2022-05-10T08:49:35.671Z"
   },
   {
    "duration": 491,
    "start_time": "2022-05-10T08:51:06.911Z"
   },
   {
    "duration": 77,
    "start_time": "2022-05-10T08:51:07.405Z"
   },
   {
    "duration": 31,
    "start_time": "2022-05-10T08:51:07.485Z"
   },
   {
    "duration": 26,
    "start_time": "2022-05-10T08:51:07.520Z"
   },
   {
    "duration": 42,
    "start_time": "2022-05-10T08:51:07.548Z"
   },
   {
    "duration": 17,
    "start_time": "2022-05-10T08:51:07.592Z"
   },
   {
    "duration": 8,
    "start_time": "2022-05-10T08:51:07.611Z"
   },
   {
    "duration": 6,
    "start_time": "2022-05-10T08:51:07.622Z"
   },
   {
    "duration": 11,
    "start_time": "2022-05-10T08:51:07.630Z"
   },
   {
    "duration": 42,
    "start_time": "2022-05-10T08:51:07.645Z"
   },
   {
    "duration": 8,
    "start_time": "2022-05-10T08:51:07.690Z"
   },
   {
    "duration": 14,
    "start_time": "2022-05-10T08:51:07.700Z"
   },
   {
    "duration": 18,
    "start_time": "2022-05-10T08:51:07.716Z"
   },
   {
    "duration": 12,
    "start_time": "2022-05-10T08:51:07.736Z"
   },
   {
    "duration": 54,
    "start_time": "2022-05-10T08:51:07.751Z"
   },
   {
    "duration": 32,
    "start_time": "2022-05-10T08:51:07.808Z"
   },
   {
    "duration": 31,
    "start_time": "2022-05-10T08:51:07.842Z"
   },
   {
    "duration": 36,
    "start_time": "2022-05-10T08:51:07.875Z"
   },
   {
    "duration": 10,
    "start_time": "2022-05-10T08:51:07.913Z"
   },
   {
    "duration": 57,
    "start_time": "2022-05-10T08:51:07.926Z"
   },
   {
    "duration": 10,
    "start_time": "2022-05-10T08:51:07.986Z"
   },
   {
    "duration": 30,
    "start_time": "2022-05-10T08:51:07.999Z"
   },
   {
    "duration": 9,
    "start_time": "2022-05-10T08:51:08.032Z"
   },
   {
    "duration": 54,
    "start_time": "2022-05-10T08:51:08.044Z"
   },
   {
    "duration": 15,
    "start_time": "2022-05-10T08:51:08.100Z"
   },
   {
    "duration": 19,
    "start_time": "2022-05-10T08:51:08.117Z"
   },
   {
    "duration": 15,
    "start_time": "2022-05-10T08:51:08.138Z"
   },
   {
    "duration": 13,
    "start_time": "2022-05-10T08:51:08.183Z"
   },
   {
    "duration": 25,
    "start_time": "2022-05-10T08:51:08.199Z"
   },
   {
    "duration": 6,
    "start_time": "2022-05-10T08:51:08.227Z"
   },
   {
    "duration": 47,
    "start_time": "2022-05-10T08:51:08.235Z"
   },
   {
    "duration": 18,
    "start_time": "2022-05-10T08:51:08.284Z"
   },
   {
    "duration": 12,
    "start_time": "2022-05-10T08:51:08.305Z"
   },
   {
    "duration": 11,
    "start_time": "2022-05-10T08:51:08.319Z"
   },
   {
    "duration": 291,
    "start_time": "2022-05-10T08:51:08.332Z"
   },
   {
    "duration": 19,
    "start_time": "2022-05-10T08:51:08.625Z"
   },
   {
    "duration": 718,
    "start_time": "2022-05-10T08:55:38.464Z"
   },
   {
    "duration": 84,
    "start_time": "2022-05-10T08:55:39.186Z"
   },
   {
    "duration": 29,
    "start_time": "2022-05-10T08:55:39.273Z"
   },
   {
    "duration": 21,
    "start_time": "2022-05-10T08:55:39.305Z"
   },
   {
    "duration": 13,
    "start_time": "2022-05-10T08:55:39.328Z"
   },
   {
    "duration": 39,
    "start_time": "2022-05-10T08:55:39.343Z"
   },
   {
    "duration": 7,
    "start_time": "2022-05-10T08:55:39.384Z"
   },
   {
    "duration": 5,
    "start_time": "2022-05-10T08:55:39.393Z"
   },
   {
    "duration": 8,
    "start_time": "2022-05-10T08:55:39.400Z"
   },
   {
    "duration": 10,
    "start_time": "2022-05-10T08:55:39.412Z"
   },
   {
    "duration": 11,
    "start_time": "2022-05-10T08:55:39.424Z"
   },
   {
    "duration": 48,
    "start_time": "2022-05-10T08:55:39.437Z"
   },
   {
    "duration": 9,
    "start_time": "2022-05-10T08:55:39.487Z"
   },
   {
    "duration": 9,
    "start_time": "2022-05-10T08:55:39.498Z"
   },
   {
    "duration": 9,
    "start_time": "2022-05-10T08:55:39.509Z"
   },
   {
    "duration": 63,
    "start_time": "2022-05-10T08:55:39.521Z"
   },
   {
    "duration": 30,
    "start_time": "2022-05-10T08:55:39.586Z"
   },
   {
    "duration": 26,
    "start_time": "2022-05-10T08:55:39.619Z"
   },
   {
    "duration": 37,
    "start_time": "2022-05-10T08:55:39.647Z"
   },
   {
    "duration": 23,
    "start_time": "2022-05-10T08:55:39.686Z"
   },
   {
    "duration": 10,
    "start_time": "2022-05-10T08:55:39.711Z"
   },
   {
    "duration": 58,
    "start_time": "2022-05-10T08:55:39.724Z"
   },
   {
    "duration": 10,
    "start_time": "2022-05-10T08:55:39.784Z"
   },
   {
    "duration": 21,
    "start_time": "2022-05-10T08:55:39.796Z"
   },
   {
    "duration": 11,
    "start_time": "2022-05-10T08:55:39.819Z"
   },
   {
    "duration": 12,
    "start_time": "2022-05-10T08:55:39.833Z"
   },
   {
    "duration": 46,
    "start_time": "2022-05-10T08:55:39.848Z"
   },
   {
    "duration": 11,
    "start_time": "2022-05-10T08:55:39.900Z"
   },
   {
    "duration": 22,
    "start_time": "2022-05-10T08:55:39.914Z"
   },
   {
    "duration": 47,
    "start_time": "2022-05-10T08:55:39.938Z"
   },
   {
    "duration": 17,
    "start_time": "2022-05-10T08:55:39.988Z"
   },
   {
    "duration": 23,
    "start_time": "2022-05-10T08:55:40.007Z"
   },
   {
    "duration": 14,
    "start_time": "2022-05-10T08:55:40.033Z"
   },
   {
    "duration": 34,
    "start_time": "2022-05-10T08:55:40.049Z"
   },
   {
    "duration": 244,
    "start_time": "2022-05-10T08:55:40.085Z"
   },
   {
    "duration": 20,
    "start_time": "2022-05-10T08:55:40.331Z"
   },
   {
    "duration": 9,
    "start_time": "2022-05-10T08:56:37.692Z"
   },
   {
    "duration": 530,
    "start_time": "2022-05-10T10:25:08.929Z"
   },
   {
    "duration": 79,
    "start_time": "2022-05-10T10:25:09.462Z"
   },
   {
    "duration": 40,
    "start_time": "2022-05-10T10:25:09.543Z"
   },
   {
    "duration": 21,
    "start_time": "2022-05-10T10:25:09.586Z"
   },
   {
    "duration": 25,
    "start_time": "2022-05-10T10:25:09.609Z"
   },
   {
    "duration": 19,
    "start_time": "2022-05-10T10:25:09.636Z"
   },
   {
    "duration": 11,
    "start_time": "2022-05-10T10:25:09.657Z"
   },
   {
    "duration": 22,
    "start_time": "2022-05-10T10:25:09.671Z"
   },
   {
    "duration": 14,
    "start_time": "2022-05-10T10:25:09.696Z"
   },
   {
    "duration": 12,
    "start_time": "2022-05-10T10:25:09.714Z"
   },
   {
    "duration": 25,
    "start_time": "2022-05-10T10:25:09.728Z"
   },
   {
    "duration": 13,
    "start_time": "2022-05-10T10:25:09.755Z"
   },
   {
    "duration": 21,
    "start_time": "2022-05-10T10:25:09.770Z"
   },
   {
    "duration": 27,
    "start_time": "2022-05-10T10:25:09.793Z"
   },
   {
    "duration": 22,
    "start_time": "2022-05-10T10:25:09.822Z"
   },
   {
    "duration": 37,
    "start_time": "2022-05-10T10:25:09.846Z"
   },
   {
    "duration": 30,
    "start_time": "2022-05-10T10:25:09.886Z"
   },
   {
    "duration": 28,
    "start_time": "2022-05-10T10:25:09.918Z"
   },
   {
    "duration": 34,
    "start_time": "2022-05-10T10:25:09.948Z"
   },
   {
    "duration": 26,
    "start_time": "2022-05-10T10:25:09.984Z"
   },
   {
    "duration": 21,
    "start_time": "2022-05-10T10:25:10.013Z"
   },
   {
    "duration": 52,
    "start_time": "2022-05-10T10:25:10.036Z"
   },
   {
    "duration": 36,
    "start_time": "2022-05-10T10:25:10.090Z"
   },
   {
    "duration": 45,
    "start_time": "2022-05-10T10:25:10.129Z"
   },
   {
    "duration": 17,
    "start_time": "2022-05-10T10:25:10.177Z"
   },
   {
    "duration": 19,
    "start_time": "2022-05-10T10:25:10.196Z"
   },
   {
    "duration": 20,
    "start_time": "2022-05-10T10:25:10.217Z"
   },
   {
    "duration": 25,
    "start_time": "2022-05-10T10:25:10.241Z"
   },
   {
    "duration": 27,
    "start_time": "2022-05-10T10:25:10.269Z"
   },
   {
    "duration": 6,
    "start_time": "2022-05-10T10:25:10.299Z"
   },
   {
    "duration": 21,
    "start_time": "2022-05-10T10:25:10.308Z"
   },
   {
    "duration": 25,
    "start_time": "2022-05-10T10:25:10.332Z"
   },
   {
    "duration": 28,
    "start_time": "2022-05-10T10:25:10.359Z"
   },
   {
    "duration": 13,
    "start_time": "2022-05-10T10:25:10.390Z"
   },
   {
    "duration": 256,
    "start_time": "2022-05-10T10:25:10.405Z"
   },
   {
    "duration": 9,
    "start_time": "2022-05-10T10:25:10.664Z"
   },
   {
    "duration": 546,
    "start_time": "2022-05-10T10:37:56.048Z"
   },
   {
    "duration": 84,
    "start_time": "2022-05-10T10:37:56.598Z"
   },
   {
    "duration": 32,
    "start_time": "2022-05-10T10:37:56.688Z"
   },
   {
    "duration": 62,
    "start_time": "2022-05-10T10:37:56.722Z"
   },
   {
    "duration": 22,
    "start_time": "2022-05-10T10:37:56.787Z"
   },
   {
    "duration": 7,
    "start_time": "2022-05-10T10:37:56.812Z"
   },
   {
    "duration": 9,
    "start_time": "2022-05-10T10:37:56.822Z"
   },
   {
    "duration": 49,
    "start_time": "2022-05-10T10:37:56.834Z"
   },
   {
    "duration": 9,
    "start_time": "2022-05-10T10:37:56.889Z"
   },
   {
    "duration": 10,
    "start_time": "2022-05-10T10:37:56.902Z"
   },
   {
    "duration": 10,
    "start_time": "2022-05-10T10:37:56.914Z"
   },
   {
    "duration": 8,
    "start_time": "2022-05-10T10:37:56.927Z"
   },
   {
    "duration": 8,
    "start_time": "2022-05-10T10:37:56.983Z"
   },
   {
    "duration": 9,
    "start_time": "2022-05-10T10:37:56.994Z"
   },
   {
    "duration": 12,
    "start_time": "2022-05-10T10:37:57.007Z"
   },
   {
    "duration": 74,
    "start_time": "2022-05-10T10:37:57.022Z"
   },
   {
    "duration": 28,
    "start_time": "2022-05-10T10:37:57.098Z"
   },
   {
    "duration": 26,
    "start_time": "2022-05-10T10:37:57.128Z"
   },
   {
    "duration": 10,
    "start_time": "2022-05-10T10:37:57.182Z"
   },
   {
    "duration": 38,
    "start_time": "2022-05-10T10:37:57.195Z"
   },
   {
    "duration": 14,
    "start_time": "2022-05-10T10:37:57.236Z"
   },
   {
    "duration": 26,
    "start_time": "2022-05-10T10:37:57.282Z"
   },
   {
    "duration": 14,
    "start_time": "2022-05-10T10:37:57.310Z"
   },
   {
    "duration": 57,
    "start_time": "2022-05-10T10:37:57.326Z"
   },
   {
    "duration": 15,
    "start_time": "2022-05-10T10:37:57.386Z"
   },
   {
    "duration": 13,
    "start_time": "2022-05-10T10:37:57.403Z"
   },
   {
    "duration": 15,
    "start_time": "2022-05-10T10:37:57.421Z"
   },
   {
    "duration": 51,
    "start_time": "2022-05-10T10:37:57.439Z"
   },
   {
    "duration": 28,
    "start_time": "2022-05-10T10:37:57.493Z"
   },
   {
    "duration": 7,
    "start_time": "2022-05-10T10:37:57.524Z"
   },
   {
    "duration": 60,
    "start_time": "2022-05-10T10:37:57.534Z"
   },
   {
    "duration": 23,
    "start_time": "2022-05-10T10:37:57.597Z"
   },
   {
    "duration": 19,
    "start_time": "2022-05-10T10:37:57.623Z"
   },
   {
    "duration": 9,
    "start_time": "2022-05-10T10:37:57.645Z"
   },
   {
    "duration": 246,
    "start_time": "2022-05-10T10:37:57.682Z"
   },
   {
    "duration": 11,
    "start_time": "2022-05-10T10:37:57.930Z"
   },
   {
    "duration": 9,
    "start_time": "2022-05-10T10:37:57.944Z"
   },
   {
    "duration": 657,
    "start_time": "2022-05-10T10:39:06.132Z"
   },
   {
    "duration": 114,
    "start_time": "2022-05-10T10:39:06.793Z"
   },
   {
    "duration": 45,
    "start_time": "2022-05-10T10:39:06.909Z"
   },
   {
    "duration": 43,
    "start_time": "2022-05-10T10:39:06.958Z"
   },
   {
    "duration": 14,
    "start_time": "2022-05-10T10:39:07.004Z"
   },
   {
    "duration": 6,
    "start_time": "2022-05-10T10:39:07.021Z"
   },
   {
    "duration": 52,
    "start_time": "2022-05-10T10:39:07.031Z"
   },
   {
    "duration": 8,
    "start_time": "2022-05-10T10:39:07.086Z"
   },
   {
    "duration": 13,
    "start_time": "2022-05-10T10:39:07.096Z"
   },
   {
    "duration": 12,
    "start_time": "2022-05-10T10:39:07.115Z"
   },
   {
    "duration": 12,
    "start_time": "2022-05-10T10:39:07.130Z"
   },
   {
    "duration": 8,
    "start_time": "2022-05-10T10:39:07.181Z"
   },
   {
    "duration": 7,
    "start_time": "2022-05-10T10:39:07.192Z"
   },
   {
    "duration": 12,
    "start_time": "2022-05-10T10:39:07.202Z"
   },
   {
    "duration": 13,
    "start_time": "2022-05-10T10:39:07.217Z"
   },
   {
    "duration": 69,
    "start_time": "2022-05-10T10:39:07.232Z"
   },
   {
    "duration": 30,
    "start_time": "2022-05-10T10:39:07.303Z"
   },
   {
    "duration": 56,
    "start_time": "2022-05-10T10:39:07.336Z"
   },
   {
    "duration": 14,
    "start_time": "2022-05-10T10:39:07.394Z"
   },
   {
    "duration": 44,
    "start_time": "2022-05-10T10:39:07.410Z"
   },
   {
    "duration": 34,
    "start_time": "2022-05-10T10:39:07.456Z"
   },
   {
    "duration": 27,
    "start_time": "2022-05-10T10:39:07.492Z"
   },
   {
    "duration": 10,
    "start_time": "2022-05-10T10:39:07.522Z"
   },
   {
    "duration": 60,
    "start_time": "2022-05-10T10:39:07.535Z"
   },
   {
    "duration": 9,
    "start_time": "2022-05-10T10:39:07.597Z"
   },
   {
    "duration": 12,
    "start_time": "2022-05-10T10:39:07.609Z"
   },
   {
    "duration": 19,
    "start_time": "2022-05-10T10:39:07.623Z"
   },
   {
    "duration": 16,
    "start_time": "2022-05-10T10:39:07.681Z"
   },
   {
    "duration": 31,
    "start_time": "2022-05-10T10:39:07.700Z"
   },
   {
    "duration": 11,
    "start_time": "2022-05-10T10:39:07.733Z"
   },
   {
    "duration": 46,
    "start_time": "2022-05-10T10:39:07.746Z"
   },
   {
    "duration": 20,
    "start_time": "2022-05-10T10:39:07.795Z"
   },
   {
    "duration": 19,
    "start_time": "2022-05-10T10:39:07.818Z"
   },
   {
    "duration": 8,
    "start_time": "2022-05-10T10:39:07.840Z"
   },
   {
    "duration": 243,
    "start_time": "2022-05-10T10:39:07.883Z"
   },
   {
    "duration": 13,
    "start_time": "2022-05-10T10:39:08.129Z"
   },
   {
    "duration": 9,
    "start_time": "2022-05-10T10:39:08.146Z"
   },
   {
    "duration": 554,
    "start_time": "2022-05-10T10:41:21.549Z"
   },
   {
    "duration": 79,
    "start_time": "2022-05-10T10:41:22.106Z"
   },
   {
    "duration": 34,
    "start_time": "2022-05-10T10:41:22.189Z"
   },
   {
    "duration": 21,
    "start_time": "2022-05-10T10:41:22.226Z"
   },
   {
    "duration": 34,
    "start_time": "2022-05-10T10:41:22.249Z"
   },
   {
    "duration": 7,
    "start_time": "2022-05-10T10:41:22.286Z"
   },
   {
    "duration": 20,
    "start_time": "2022-05-10T10:41:22.300Z"
   },
   {
    "duration": 5,
    "start_time": "2022-05-10T10:41:22.322Z"
   },
   {
    "duration": 6,
    "start_time": "2022-05-10T10:41:22.329Z"
   },
   {
    "duration": 52,
    "start_time": "2022-05-10T10:41:22.339Z"
   },
   {
    "duration": 13,
    "start_time": "2022-05-10T10:41:22.394Z"
   },
   {
    "duration": 6,
    "start_time": "2022-05-10T10:41:22.409Z"
   },
   {
    "duration": 7,
    "start_time": "2022-05-10T10:41:22.417Z"
   },
   {
    "duration": 8,
    "start_time": "2022-05-10T10:41:22.426Z"
   },
   {
    "duration": 48,
    "start_time": "2022-05-10T10:41:22.436Z"
   },
   {
    "duration": 45,
    "start_time": "2022-05-10T10:41:22.487Z"
   },
   {
    "duration": 52,
    "start_time": "2022-05-10T10:41:22.534Z"
   },
   {
    "duration": 30,
    "start_time": "2022-05-10T10:41:22.589Z"
   },
   {
    "duration": 9,
    "start_time": "2022-05-10T10:41:22.621Z"
   },
   {
    "duration": 54,
    "start_time": "2022-05-10T10:41:22.632Z"
   },
   {
    "duration": 13,
    "start_time": "2022-05-10T10:41:22.688Z"
   },
   {
    "duration": 38,
    "start_time": "2022-05-10T10:41:22.703Z"
   },
   {
    "duration": 11,
    "start_time": "2022-05-10T10:41:22.743Z"
   },
   {
    "duration": 48,
    "start_time": "2022-05-10T10:41:22.756Z"
   },
   {
    "duration": 16,
    "start_time": "2022-05-10T10:41:22.807Z"
   },
   {
    "duration": 14,
    "start_time": "2022-05-10T10:41:22.826Z"
   },
   {
    "duration": 49,
    "start_time": "2022-05-10T10:41:22.843Z"
   },
   {
    "duration": 33,
    "start_time": "2022-05-10T10:41:22.898Z"
   },
   {
    "duration": 22,
    "start_time": "2022-05-10T10:41:22.933Z"
   },
   {
    "duration": 6,
    "start_time": "2022-05-10T10:41:22.957Z"
   },
   {
    "duration": 20,
    "start_time": "2022-05-10T10:41:22.983Z"
   },
   {
    "duration": 18,
    "start_time": "2022-05-10T10:41:23.006Z"
   },
   {
    "duration": 12,
    "start_time": "2022-05-10T10:41:23.027Z"
   },
   {
    "duration": 43,
    "start_time": "2022-05-10T10:41:23.041Z"
   },
   {
    "duration": 277,
    "start_time": "2022-05-10T10:41:23.087Z"
   },
   {
    "duration": 10,
    "start_time": "2022-05-10T10:41:23.366Z"
   },
   {
    "duration": 15,
    "start_time": "2022-05-10T10:41:23.383Z"
   },
   {
    "duration": 657,
    "start_time": "2022-05-10T10:42:07.579Z"
   },
   {
    "duration": 117,
    "start_time": "2022-05-10T10:42:08.240Z"
   },
   {
    "duration": 53,
    "start_time": "2022-05-10T10:42:08.360Z"
   },
   {
    "duration": 33,
    "start_time": "2022-05-10T10:42:08.418Z"
   },
   {
    "duration": 38,
    "start_time": "2022-05-10T10:42:08.454Z"
   },
   {
    "duration": 21,
    "start_time": "2022-05-10T10:42:08.495Z"
   },
   {
    "duration": 13,
    "start_time": "2022-05-10T10:42:08.519Z"
   },
   {
    "duration": 8,
    "start_time": "2022-05-10T10:42:08.535Z"
   },
   {
    "duration": 35,
    "start_time": "2022-05-10T10:42:08.546Z"
   },
   {
    "duration": 11,
    "start_time": "2022-05-10T10:42:08.588Z"
   },
   {
    "duration": 18,
    "start_time": "2022-05-10T10:42:08.603Z"
   },
   {
    "duration": 9,
    "start_time": "2022-05-10T10:42:08.623Z"
   },
   {
    "duration": 10,
    "start_time": "2022-05-10T10:42:08.634Z"
   },
   {
    "duration": 39,
    "start_time": "2022-05-10T10:42:08.645Z"
   },
   {
    "duration": 22,
    "start_time": "2022-05-10T10:42:08.687Z"
   },
   {
    "duration": 28,
    "start_time": "2022-05-10T10:42:08.712Z"
   },
   {
    "duration": 70,
    "start_time": "2022-05-10T10:42:08.743Z"
   },
   {
    "duration": 28,
    "start_time": "2022-05-10T10:42:08.816Z"
   },
   {
    "duration": 10,
    "start_time": "2022-05-10T10:42:08.846Z"
   },
   {
    "duration": 62,
    "start_time": "2022-05-10T10:42:08.859Z"
   },
   {
    "duration": 14,
    "start_time": "2022-05-10T10:42:08.925Z"
   },
   {
    "duration": 64,
    "start_time": "2022-05-10T10:42:08.942Z"
   },
   {
    "duration": 10,
    "start_time": "2022-05-10T10:42:09.009Z"
   },
   {
    "duration": 29,
    "start_time": "2022-05-10T10:42:09.021Z"
   },
   {
    "duration": 41,
    "start_time": "2022-05-10T10:42:09.053Z"
   },
   {
    "duration": 22,
    "start_time": "2022-05-10T10:42:09.097Z"
   },
   {
    "duration": 15,
    "start_time": "2022-05-10T10:42:09.121Z"
   },
   {
    "duration": 15,
    "start_time": "2022-05-10T10:42:09.140Z"
   },
   {
    "duration": 55,
    "start_time": "2022-05-10T10:42:09.157Z"
   },
   {
    "duration": 5,
    "start_time": "2022-05-10T10:42:09.216Z"
   },
   {
    "duration": 20,
    "start_time": "2022-05-10T10:42:09.224Z"
   },
   {
    "duration": 58,
    "start_time": "2022-05-10T10:42:09.246Z"
   },
   {
    "duration": 20,
    "start_time": "2022-05-10T10:42:09.308Z"
   },
   {
    "duration": 7,
    "start_time": "2022-05-10T10:42:09.330Z"
   },
   {
    "duration": 302,
    "start_time": "2022-05-10T10:42:09.340Z"
   },
   {
    "duration": 13,
    "start_time": "2022-05-10T10:42:09.645Z"
   },
   {
    "duration": 25,
    "start_time": "2022-05-10T10:42:09.661Z"
   },
   {
    "duration": 282,
    "start_time": "2022-05-10T10:42:09.689Z"
   },
   {
    "duration": 16,
    "start_time": "2022-05-10T10:42:09.974Z"
   },
   {
    "duration": 603,
    "start_time": "2022-05-10T10:43:00.192Z"
   },
   {
    "duration": 72,
    "start_time": "2022-05-10T10:43:00.799Z"
   },
   {
    "duration": 46,
    "start_time": "2022-05-10T10:43:00.874Z"
   },
   {
    "duration": 58,
    "start_time": "2022-05-10T10:43:00.924Z"
   },
   {
    "duration": 21,
    "start_time": "2022-05-10T10:43:00.985Z"
   },
   {
    "duration": 7,
    "start_time": "2022-05-10T10:43:01.009Z"
   },
   {
    "duration": 21,
    "start_time": "2022-05-10T10:43:01.019Z"
   },
   {
    "duration": 9,
    "start_time": "2022-05-10T10:43:01.043Z"
   },
   {
    "duration": 32,
    "start_time": "2022-05-10T10:43:01.082Z"
   },
   {
    "duration": 17,
    "start_time": "2022-05-10T10:43:01.120Z"
   },
   {
    "duration": 43,
    "start_time": "2022-05-10T10:43:01.140Z"
   },
   {
    "duration": 20,
    "start_time": "2022-05-10T10:43:01.185Z"
   },
   {
    "duration": 18,
    "start_time": "2022-05-10T10:43:01.208Z"
   },
   {
    "duration": 31,
    "start_time": "2022-05-10T10:43:01.229Z"
   },
   {
    "duration": 35,
    "start_time": "2022-05-10T10:43:01.262Z"
   },
   {
    "duration": 42,
    "start_time": "2022-05-10T10:43:01.299Z"
   },
   {
    "duration": 34,
    "start_time": "2022-05-10T10:43:01.343Z"
   },
   {
    "duration": 28,
    "start_time": "2022-05-10T10:43:01.379Z"
   },
   {
    "duration": 10,
    "start_time": "2022-05-10T10:43:01.409Z"
   },
   {
    "duration": 54,
    "start_time": "2022-05-10T10:43:01.421Z"
   },
   {
    "duration": 13,
    "start_time": "2022-05-10T10:43:01.482Z"
   },
   {
    "duration": 41,
    "start_time": "2022-05-10T10:43:01.498Z"
   },
   {
    "duration": 22,
    "start_time": "2022-05-10T10:43:01.541Z"
   },
   {
    "duration": 40,
    "start_time": "2022-05-10T10:43:01.565Z"
   },
   {
    "duration": 43,
    "start_time": "2022-05-10T10:43:01.607Z"
   },
   {
    "duration": 34,
    "start_time": "2022-05-10T10:43:01.652Z"
   },
   {
    "duration": 50,
    "start_time": "2022-05-10T10:43:01.688Z"
   },
   {
    "duration": 31,
    "start_time": "2022-05-10T10:43:01.744Z"
   },
   {
    "duration": 33,
    "start_time": "2022-05-10T10:43:01.777Z"
   },
   {
    "duration": 37,
    "start_time": "2022-05-10T10:43:01.813Z"
   },
   {
    "duration": 33,
    "start_time": "2022-05-10T10:43:01.852Z"
   },
   {
    "duration": 42,
    "start_time": "2022-05-10T10:43:01.887Z"
   },
   {
    "duration": 33,
    "start_time": "2022-05-10T10:43:01.932Z"
   },
   {
    "duration": 32,
    "start_time": "2022-05-10T10:43:01.967Z"
   },
   {
    "duration": 250,
    "start_time": "2022-05-10T10:43:02.002Z"
   },
   {
    "duration": 10,
    "start_time": "2022-05-10T10:43:02.254Z"
   },
   {
    "duration": 33,
    "start_time": "2022-05-10T10:43:23.139Z"
   },
   {
    "duration": 8,
    "start_time": "2022-05-10T10:49:26.488Z"
   },
   {
    "duration": 9,
    "start_time": "2022-05-10T10:49:34.696Z"
   },
   {
    "duration": 10,
    "start_time": "2022-05-10T10:49:46.601Z"
   },
   {
    "duration": 11,
    "start_time": "2022-05-10T10:49:56.548Z"
   },
   {
    "duration": 9,
    "start_time": "2022-05-10T10:51:07.589Z"
   },
   {
    "duration": 181,
    "start_time": "2022-05-10T10:51:21.615Z"
   },
   {
    "duration": 12,
    "start_time": "2022-05-10T10:51:27.705Z"
   },
   {
    "duration": 19,
    "start_time": "2022-05-10T10:52:04.218Z"
   },
   {
    "duration": 113,
    "start_time": "2022-05-10T10:52:49.754Z"
   },
   {
    "duration": 49,
    "start_time": "2022-05-10T10:53:04.654Z"
   },
   {
    "duration": 8,
    "start_time": "2022-05-10T10:53:53.192Z"
   },
   {
    "duration": 25,
    "start_time": "2022-05-10T10:54:40.493Z"
   },
   {
    "duration": 122,
    "start_time": "2022-05-10T10:54:57.992Z"
   },
   {
    "duration": 112,
    "start_time": "2022-05-10T10:55:15.900Z"
   },
   {
    "duration": 114,
    "start_time": "2022-05-10T10:55:24.040Z"
   },
   {
    "duration": 41,
    "start_time": "2022-05-10T10:55:27.771Z"
   },
   {
    "duration": 8,
    "start_time": "2022-05-10T11:01:47.276Z"
   },
   {
    "duration": 5,
    "start_time": "2022-05-10T11:03:52.703Z"
   },
   {
    "duration": 7,
    "start_time": "2022-05-10T11:09:34.245Z"
   },
   {
    "duration": 676,
    "start_time": "2022-05-10T11:11:08.361Z"
   },
   {
    "duration": 108,
    "start_time": "2022-05-10T11:11:09.040Z"
   },
   {
    "duration": 53,
    "start_time": "2022-05-10T11:11:09.151Z"
   },
   {
    "duration": 22,
    "start_time": "2022-05-10T11:11:09.206Z"
   },
   {
    "duration": 13,
    "start_time": "2022-05-10T11:11:09.232Z"
   },
   {
    "duration": 38,
    "start_time": "2022-05-10T11:11:09.247Z"
   },
   {
    "duration": 10,
    "start_time": "2022-05-10T11:11:09.288Z"
   },
   {
    "duration": 5,
    "start_time": "2022-05-10T11:11:09.301Z"
   },
   {
    "duration": 9,
    "start_time": "2022-05-10T11:11:09.308Z"
   },
   {
    "duration": 8,
    "start_time": "2022-05-10T11:11:09.320Z"
   },
   {
    "duration": 53,
    "start_time": "2022-05-10T11:11:09.330Z"
   },
   {
    "duration": 10,
    "start_time": "2022-05-10T11:11:09.386Z"
   },
   {
    "duration": 10,
    "start_time": "2022-05-10T11:11:09.398Z"
   },
   {
    "duration": 7,
    "start_time": "2022-05-10T11:11:09.414Z"
   },
   {
    "duration": 7,
    "start_time": "2022-05-10T11:11:09.424Z"
   },
   {
    "duration": 49,
    "start_time": "2022-05-10T11:11:09.433Z"
   },
   {
    "duration": 6,
    "start_time": "2022-05-10T11:11:09.485Z"
   },
   {
    "duration": 10,
    "start_time": "2022-05-10T11:11:09.494Z"
   },
   {
    "duration": 27,
    "start_time": "2022-05-10T11:11:09.507Z"
   },
   {
    "duration": 66,
    "start_time": "2022-05-10T11:11:09.537Z"
   },
   {
    "duration": 27,
    "start_time": "2022-05-10T11:11:09.606Z"
   },
   {
    "duration": 9,
    "start_time": "2022-05-10T11:11:09.635Z"
   },
   {
    "duration": 49,
    "start_time": "2022-05-10T11:11:09.647Z"
   },
   {
    "duration": 11,
    "start_time": "2022-05-10T11:11:09.698Z"
   },
   {
    "duration": 27,
    "start_time": "2022-05-10T11:11:09.712Z"
   },
   {
    "duration": 43,
    "start_time": "2022-05-10T11:11:09.741Z"
   },
   {
    "duration": 21,
    "start_time": "2022-05-10T11:11:09.786Z"
   },
   {
    "duration": 12,
    "start_time": "2022-05-10T11:11:09.810Z"
   },
   {
    "duration": 14,
    "start_time": "2022-05-10T11:11:09.824Z"
   },
   {
    "duration": 48,
    "start_time": "2022-05-10T11:11:09.840Z"
   },
   {
    "duration": 13,
    "start_time": "2022-05-10T11:11:09.890Z"
   },
   {
    "duration": 23,
    "start_time": "2022-05-10T11:11:09.906Z"
   },
   {
    "duration": 50,
    "start_time": "2022-05-10T11:11:09.932Z"
   },
   {
    "duration": 18,
    "start_time": "2022-05-10T11:11:09.985Z"
   },
   {
    "duration": 44,
    "start_time": "2022-05-10T11:11:10.006Z"
   },
   {
    "duration": 19,
    "start_time": "2022-05-10T11:11:10.053Z"
   },
   {
    "duration": 13,
    "start_time": "2022-05-10T11:11:10.074Z"
   },
   {
    "duration": 241,
    "start_time": "2022-05-10T11:11:10.091Z"
   },
   {
    "duration": 10,
    "start_time": "2022-05-10T11:11:10.335Z"
   },
   {
    "duration": 54,
    "start_time": "2022-05-10T11:11:10.347Z"
   },
   {
    "duration": 11,
    "start_time": "2022-05-10T11:12:46.319Z"
   },
   {
    "duration": 10,
    "start_time": "2022-05-10T11:13:37.280Z"
   },
   {
    "duration": 162,
    "start_time": "2022-05-10T11:13:59.385Z"
   },
   {
    "duration": 33,
    "start_time": "2022-05-10T11:14:16.006Z"
   },
   {
    "duration": 10,
    "start_time": "2022-05-10T11:14:47.247Z"
   },
   {
    "duration": 11,
    "start_time": "2022-05-10T11:14:54.211Z"
   },
   {
    "duration": 9,
    "start_time": "2022-05-10T11:15:14.810Z"
   },
   {
    "duration": 8,
    "start_time": "2022-05-10T11:17:33.094Z"
   },
   {
    "duration": 14,
    "start_time": "2022-05-10T11:17:43.780Z"
   },
   {
    "duration": 5,
    "start_time": "2022-05-10T11:18:17.871Z"
   },
   {
    "duration": 9,
    "start_time": "2022-05-10T11:18:22.486Z"
   },
   {
    "duration": 10,
    "start_time": "2022-05-10T11:18:43.746Z"
   },
   {
    "duration": 12,
    "start_time": "2022-05-10T11:18:55.467Z"
   },
   {
    "duration": 4,
    "start_time": "2022-05-10T12:05:21.498Z"
   },
   {
    "duration": 8,
    "start_time": "2022-05-10T12:07:38.067Z"
   },
   {
    "duration": 9,
    "start_time": "2022-05-10T12:07:44.479Z"
   },
   {
    "duration": 9,
    "start_time": "2022-05-10T12:07:45.524Z"
   },
   {
    "duration": 10,
    "start_time": "2022-05-10T12:11:32.825Z"
   },
   {
    "duration": 758,
    "start_time": "2022-05-10T12:11:44.451Z"
   },
   {
    "duration": 238,
    "start_time": "2022-05-10T12:11:45.213Z"
   },
   {
    "duration": 32,
    "start_time": "2022-05-10T12:11:45.454Z"
   },
   {
    "duration": 23,
    "start_time": "2022-05-10T12:11:45.489Z"
   },
   {
    "duration": 15,
    "start_time": "2022-05-10T12:11:45.514Z"
   },
   {
    "duration": 12,
    "start_time": "2022-05-10T12:11:45.532Z"
   },
   {
    "duration": 42,
    "start_time": "2022-05-10T12:11:45.547Z"
   },
   {
    "duration": 6,
    "start_time": "2022-05-10T12:11:45.591Z"
   },
   {
    "duration": 11,
    "start_time": "2022-05-10T12:11:45.600Z"
   },
   {
    "duration": 11,
    "start_time": "2022-05-10T12:11:45.615Z"
   },
   {
    "duration": 7,
    "start_time": "2022-05-10T12:11:45.628Z"
   },
   {
    "duration": 53,
    "start_time": "2022-05-10T12:11:45.636Z"
   },
   {
    "duration": 9,
    "start_time": "2022-05-10T12:11:45.691Z"
   },
   {
    "duration": 7,
    "start_time": "2022-05-10T12:11:45.702Z"
   },
   {
    "duration": 6,
    "start_time": "2022-05-10T12:11:45.712Z"
   },
   {
    "duration": 6,
    "start_time": "2022-05-10T12:11:45.721Z"
   },
   {
    "duration": 53,
    "start_time": "2022-05-10T12:11:45.730Z"
   },
   {
    "duration": 16,
    "start_time": "2022-05-10T12:11:45.786Z"
   },
   {
    "duration": 10,
    "start_time": "2022-05-10T12:11:45.805Z"
   },
   {
    "duration": 27,
    "start_time": "2022-05-10T12:11:45.817Z"
   },
   {
    "duration": 62,
    "start_time": "2022-05-10T12:11:45.846Z"
   },
   {
    "duration": 28,
    "start_time": "2022-05-10T12:11:45.910Z"
   },
   {
    "duration": 42,
    "start_time": "2022-05-10T12:11:45.940Z"
   },
   {
    "duration": 24,
    "start_time": "2022-05-10T12:11:45.984Z"
   },
   {
    "duration": 14,
    "start_time": "2022-05-10T12:11:46.010Z"
   },
   {
    "duration": 57,
    "start_time": "2022-05-10T12:11:46.026Z"
   },
   {
    "duration": 9,
    "start_time": "2022-05-10T12:11:46.086Z"
   },
   {
    "duration": 18,
    "start_time": "2022-05-10T12:11:46.100Z"
   },
   {
    "duration": 14,
    "start_time": "2022-05-10T12:11:46.121Z"
   },
   {
    "duration": 49,
    "start_time": "2022-05-10T12:11:46.138Z"
   },
   {
    "duration": 13,
    "start_time": "2022-05-10T12:11:46.190Z"
   },
   {
    "duration": 23,
    "start_time": "2022-05-10T12:11:46.206Z"
   },
   {
    "duration": 22,
    "start_time": "2022-05-10T12:11:46.232Z"
   },
   {
    "duration": 8,
    "start_time": "2022-05-10T12:11:46.283Z"
   },
   {
    "duration": 16,
    "start_time": "2022-05-10T12:11:46.293Z"
   },
   {
    "duration": 20,
    "start_time": "2022-05-10T12:11:46.312Z"
   },
   {
    "duration": 49,
    "start_time": "2022-05-10T12:11:46.334Z"
   },
   {
    "duration": 6,
    "start_time": "2022-05-10T12:11:46.386Z"
   },
   {
    "duration": 248,
    "start_time": "2022-05-10T12:11:46.394Z"
   },
   {
    "duration": 11,
    "start_time": "2022-05-10T12:11:46.644Z"
   },
   {
    "duration": 44,
    "start_time": "2022-05-10T12:11:46.657Z"
   },
   {
    "duration": 14,
    "start_time": "2022-05-10T12:13:55.829Z"
   },
   {
    "duration": 120,
    "start_time": "2022-05-10T12:16:10.879Z"
   },
   {
    "duration": 147,
    "start_time": "2022-05-10T12:17:29.851Z"
   },
   {
    "duration": 12,
    "start_time": "2022-05-10T12:18:03.313Z"
   },
   {
    "duration": 115,
    "start_time": "2022-05-10T12:18:23.974Z"
   },
   {
    "duration": 8,
    "start_time": "2022-05-10T12:18:29.041Z"
   },
   {
    "duration": 121,
    "start_time": "2022-05-10T12:18:50.306Z"
   },
   {
    "duration": 184,
    "start_time": "2022-05-10T12:19:23.242Z"
   },
   {
    "duration": 127,
    "start_time": "2022-05-10T12:19:33.252Z"
   },
   {
    "duration": 131,
    "start_time": "2022-05-10T12:20:19.905Z"
   },
   {
    "duration": 128,
    "start_time": "2022-05-10T12:20:39.732Z"
   },
   {
    "duration": 7,
    "start_time": "2022-05-10T12:21:26.076Z"
   },
   {
    "duration": 8,
    "start_time": "2022-05-10T12:21:33.240Z"
   },
   {
    "duration": 5,
    "start_time": "2022-05-10T12:23:03.804Z"
   },
   {
    "duration": 10,
    "start_time": "2022-05-10T12:23:40.976Z"
   },
   {
    "duration": 8,
    "start_time": "2022-05-10T12:23:49.939Z"
   },
   {
    "duration": 7,
    "start_time": "2022-05-10T12:23:58.097Z"
   },
   {
    "duration": 7,
    "start_time": "2022-05-10T12:24:01.627Z"
   },
   {
    "duration": 7,
    "start_time": "2022-05-10T12:24:08.696Z"
   },
   {
    "duration": 123,
    "start_time": "2022-05-10T12:24:38.097Z"
   },
   {
    "duration": 104,
    "start_time": "2022-05-10T12:25:17.623Z"
   },
   {
    "duration": 7,
    "start_time": "2022-05-10T12:25:41.658Z"
   },
   {
    "duration": 7,
    "start_time": "2022-05-10T12:25:49.549Z"
   },
   {
    "duration": 6,
    "start_time": "2022-05-10T12:25:59.896Z"
   },
   {
    "duration": 116,
    "start_time": "2022-05-10T12:27:58.472Z"
   },
   {
    "duration": 7,
    "start_time": "2022-05-10T12:28:05.845Z"
   },
   {
    "duration": 8,
    "start_time": "2022-05-10T12:28:36.275Z"
   },
   {
    "duration": 7,
    "start_time": "2022-05-10T12:29:11.265Z"
   },
   {
    "duration": 7,
    "start_time": "2022-05-10T12:30:25.125Z"
   },
   {
    "duration": 95,
    "start_time": "2022-05-10T12:30:27.803Z"
   },
   {
    "duration": 670,
    "start_time": "2022-05-10T12:31:13.462Z"
   },
   {
    "duration": 243,
    "start_time": "2022-05-10T12:31:14.136Z"
   },
   {
    "duration": 35,
    "start_time": "2022-05-10T12:31:14.381Z"
   },
   {
    "duration": 22,
    "start_time": "2022-05-10T12:31:14.419Z"
   },
   {
    "duration": 40,
    "start_time": "2022-05-10T12:31:14.443Z"
   },
   {
    "duration": 10,
    "start_time": "2022-05-10T12:31:14.485Z"
   },
   {
    "duration": 11,
    "start_time": "2022-05-10T12:31:14.501Z"
   },
   {
    "duration": 5,
    "start_time": "2022-05-10T12:31:14.515Z"
   },
   {
    "duration": 7,
    "start_time": "2022-05-10T12:31:14.523Z"
   },
   {
    "duration": 8,
    "start_time": "2022-05-10T12:31:14.534Z"
   },
   {
    "duration": 5,
    "start_time": "2022-05-10T12:31:14.587Z"
   },
   {
    "duration": 16,
    "start_time": "2022-05-10T12:31:14.595Z"
   },
   {
    "duration": 12,
    "start_time": "2022-05-10T12:31:14.614Z"
   },
   {
    "duration": 8,
    "start_time": "2022-05-10T12:31:14.628Z"
   },
   {
    "duration": 8,
    "start_time": "2022-05-10T12:31:14.639Z"
   },
   {
    "duration": 8,
    "start_time": "2022-05-10T12:31:14.683Z"
   },
   {
    "duration": 16,
    "start_time": "2022-05-10T12:31:14.699Z"
   },
   {
    "duration": 19,
    "start_time": "2022-05-10T12:31:14.718Z"
   },
   {
    "duration": 10,
    "start_time": "2022-05-10T12:31:14.740Z"
   },
   {
    "duration": 13,
    "start_time": "2022-05-10T12:31:14.753Z"
   },
   {
    "duration": 43,
    "start_time": "2022-05-10T12:31:14.769Z"
   },
   {
    "duration": 30,
    "start_time": "2022-05-10T12:31:14.814Z"
   },
   {
    "duration": 51,
    "start_time": "2022-05-10T12:31:14.847Z"
   },
   {
    "duration": 11,
    "start_time": "2022-05-10T12:31:14.901Z"
   },
   {
    "duration": 25,
    "start_time": "2022-05-10T12:31:14.914Z"
   },
   {
    "duration": 9,
    "start_time": "2022-05-10T12:31:14.941Z"
   },
   {
    "duration": 63,
    "start_time": "2022-05-10T12:31:14.952Z"
   },
   {
    "duration": 28,
    "start_time": "2022-05-10T12:31:15.021Z"
   },
   {
    "duration": 27,
    "start_time": "2022-05-10T12:31:15.051Z"
   },
   {
    "duration": 21,
    "start_time": "2022-05-10T12:31:15.080Z"
   },
   {
    "duration": 18,
    "start_time": "2022-05-10T12:31:15.104Z"
   },
   {
    "duration": 20,
    "start_time": "2022-05-10T12:31:15.124Z"
   },
   {
    "duration": 21,
    "start_time": "2022-05-10T12:31:15.146Z"
   },
   {
    "duration": 45,
    "start_time": "2022-05-10T12:31:15.169Z"
   },
   {
    "duration": 20,
    "start_time": "2022-05-10T12:31:15.216Z"
   },
   {
    "duration": 23,
    "start_time": "2022-05-10T12:31:15.239Z"
   },
   {
    "duration": 30,
    "start_time": "2022-05-10T12:31:15.265Z"
   },
   {
    "duration": 17,
    "start_time": "2022-05-10T12:31:15.297Z"
   },
   {
    "duration": 10,
    "start_time": "2022-05-10T12:31:15.317Z"
   },
   {
    "duration": 261,
    "start_time": "2022-05-10T12:31:15.330Z"
   },
   {
    "duration": 13,
    "start_time": "2022-05-10T12:31:15.594Z"
   },
   {
    "duration": 35,
    "start_time": "2022-05-10T12:31:15.609Z"
   },
   {
    "duration": 4,
    "start_time": "2022-05-10T12:34:00.629Z"
   },
   {
    "duration": 7,
    "start_time": "2022-05-10T12:38:53.286Z"
   },
   {
    "duration": 8,
    "start_time": "2022-05-10T12:39:17.704Z"
   },
   {
    "duration": 11,
    "start_time": "2022-05-10T12:40:11.126Z"
   },
   {
    "duration": 10,
    "start_time": "2022-05-10T12:40:26.309Z"
   },
   {
    "duration": 10,
    "start_time": "2022-05-10T12:40:34.716Z"
   },
   {
    "duration": 16,
    "start_time": "2022-05-10T12:40:44.087Z"
   },
   {
    "duration": 13,
    "start_time": "2022-05-10T12:40:48.219Z"
   },
   {
    "duration": 12,
    "start_time": "2022-05-10T12:40:57.670Z"
   },
   {
    "duration": 15,
    "start_time": "2022-05-10T12:41:02.201Z"
   },
   {
    "duration": 689,
    "start_time": "2022-05-10T12:41:44.050Z"
   },
   {
    "duration": 111,
    "start_time": "2022-05-10T12:41:44.743Z"
   },
   {
    "duration": 49,
    "start_time": "2022-05-10T12:41:44.857Z"
   },
   {
    "duration": 34,
    "start_time": "2022-05-10T12:41:44.909Z"
   },
   {
    "duration": 50,
    "start_time": "2022-05-10T12:41:44.946Z"
   },
   {
    "duration": 21,
    "start_time": "2022-05-10T12:41:45.001Z"
   },
   {
    "duration": 12,
    "start_time": "2022-05-10T12:41:45.025Z"
   },
   {
    "duration": 8,
    "start_time": "2022-05-10T12:41:45.040Z"
   },
   {
    "duration": 8,
    "start_time": "2022-05-10T12:41:45.051Z"
   },
   {
    "duration": 8,
    "start_time": "2022-05-10T12:41:45.090Z"
   },
   {
    "duration": 26,
    "start_time": "2022-05-10T12:41:45.101Z"
   },
   {
    "duration": 14,
    "start_time": "2022-05-10T12:41:45.130Z"
   },
   {
    "duration": 8,
    "start_time": "2022-05-10T12:41:45.146Z"
   },
   {
    "duration": 50,
    "start_time": "2022-05-10T12:41:45.157Z"
   },
   {
    "duration": 17,
    "start_time": "2022-05-10T12:41:45.211Z"
   },
   {
    "duration": 11,
    "start_time": "2022-05-10T12:41:45.231Z"
   },
   {
    "duration": 41,
    "start_time": "2022-05-10T12:41:45.245Z"
   },
   {
    "duration": 10,
    "start_time": "2022-05-10T12:41:45.293Z"
   },
   {
    "duration": 18,
    "start_time": "2022-05-10T12:41:45.305Z"
   },
   {
    "duration": 17,
    "start_time": "2022-05-10T12:41:45.326Z"
   },
   {
    "duration": 13,
    "start_time": "2022-05-10T12:41:45.346Z"
   },
   {
    "duration": 28,
    "start_time": "2022-05-10T12:41:45.363Z"
   },
   {
    "duration": 33,
    "start_time": "2022-05-10T12:41:45.393Z"
   },
   {
    "duration": 65,
    "start_time": "2022-05-10T12:41:45.429Z"
   },
   {
    "duration": 30,
    "start_time": "2022-05-10T12:41:45.497Z"
   },
   {
    "duration": 13,
    "start_time": "2022-05-10T12:41:45.530Z"
   },
   {
    "duration": 48,
    "start_time": "2022-05-10T12:41:45.546Z"
   },
   {
    "duration": 12,
    "start_time": "2022-05-10T12:41:45.600Z"
   },
   {
    "duration": 67,
    "start_time": "2022-05-10T12:41:45.616Z"
   },
   {
    "duration": 23,
    "start_time": "2022-05-10T12:41:45.686Z"
   },
   {
    "duration": 18,
    "start_time": "2022-05-10T12:41:45.713Z"
   },
   {
    "duration": 14,
    "start_time": "2022-05-10T12:41:45.733Z"
   },
   {
    "duration": 50,
    "start_time": "2022-05-10T12:41:45.749Z"
   },
   {
    "duration": 26,
    "start_time": "2022-05-10T12:41:45.801Z"
   },
   {
    "duration": 16,
    "start_time": "2022-05-10T12:41:45.830Z"
   },
   {
    "duration": 54,
    "start_time": "2022-05-10T12:41:45.849Z"
   },
   {
    "duration": 9,
    "start_time": "2022-05-10T12:41:45.909Z"
   },
   {
    "duration": 26,
    "start_time": "2022-05-10T12:41:45.921Z"
   },
   {
    "duration": 41,
    "start_time": "2022-05-10T12:41:45.950Z"
   },
   {
    "duration": 14,
    "start_time": "2022-05-10T12:41:46.000Z"
   },
   {
    "duration": 6,
    "start_time": "2022-05-10T12:41:46.016Z"
   },
   {
    "duration": 346,
    "start_time": "2022-05-10T12:41:46.024Z"
   },
   {
    "duration": 21,
    "start_time": "2022-05-10T12:41:46.373Z"
   },
   {
    "duration": 44,
    "start_time": "2022-05-10T12:41:46.398Z"
   },
   {
    "duration": 5,
    "start_time": "2022-05-10T12:43:18.655Z"
   },
   {
    "duration": 41,
    "start_time": "2022-05-10T12:46:44.499Z"
   },
   {
    "duration": 472,
    "start_time": "2022-05-10T12:47:13.033Z"
   },
   {
    "duration": 78,
    "start_time": "2022-05-10T12:47:13.508Z"
   },
   {
    "duration": 32,
    "start_time": "2022-05-10T12:47:13.590Z"
   },
   {
    "duration": 22,
    "start_time": "2022-05-10T12:47:13.626Z"
   },
   {
    "duration": 45,
    "start_time": "2022-05-10T12:47:13.650Z"
   },
   {
    "duration": 8,
    "start_time": "2022-05-10T12:47:13.697Z"
   },
   {
    "duration": 6,
    "start_time": "2022-05-10T12:47:13.707Z"
   },
   {
    "duration": 4,
    "start_time": "2022-05-10T12:47:13.716Z"
   },
   {
    "duration": 8,
    "start_time": "2022-05-10T12:47:13.722Z"
   },
   {
    "duration": 7,
    "start_time": "2022-05-10T12:47:13.734Z"
   },
   {
    "duration": 5,
    "start_time": "2022-05-10T12:47:13.793Z"
   },
   {
    "duration": 14,
    "start_time": "2022-05-10T12:47:13.803Z"
   },
   {
    "duration": 7,
    "start_time": "2022-05-10T12:47:13.819Z"
   },
   {
    "duration": 30,
    "start_time": "2022-05-10T12:47:13.829Z"
   },
   {
    "duration": 16,
    "start_time": "2022-05-10T12:47:13.882Z"
   },
   {
    "duration": 11,
    "start_time": "2022-05-10T12:47:13.901Z"
   },
   {
    "duration": 8,
    "start_time": "2022-05-10T12:47:13.915Z"
   },
   {
    "duration": 9,
    "start_time": "2022-05-10T12:47:13.926Z"
   },
   {
    "duration": 53,
    "start_time": "2022-05-10T12:47:13.937Z"
   },
   {
    "duration": 5,
    "start_time": "2022-05-10T12:47:13.992Z"
   },
   {
    "duration": 8,
    "start_time": "2022-05-10T12:47:14.000Z"
   },
   {
    "duration": 11,
    "start_time": "2022-05-10T12:47:14.011Z"
   },
   {
    "duration": 10,
    "start_time": "2022-05-10T12:47:14.025Z"
   },
   {
    "duration": 72,
    "start_time": "2022-05-10T12:47:14.038Z"
   },
   {
    "duration": 32,
    "start_time": "2022-05-10T12:47:14.113Z"
   },
   {
    "duration": 68,
    "start_time": "2022-05-10T12:47:14.148Z"
   },
   {
    "duration": 11,
    "start_time": "2022-05-10T12:47:14.219Z"
   },
   {
    "duration": 25,
    "start_time": "2022-05-10T12:47:14.235Z"
   },
   {
    "duration": 37,
    "start_time": "2022-05-10T12:47:14.262Z"
   },
   {
    "duration": 35,
    "start_time": "2022-05-10T12:47:14.302Z"
   },
   {
    "duration": 9,
    "start_time": "2022-05-10T12:47:14.339Z"
   },
   {
    "duration": 50,
    "start_time": "2022-05-10T12:47:14.350Z"
   },
   {
    "duration": 10,
    "start_time": "2022-05-10T12:47:14.403Z"
   },
   {
    "duration": 10,
    "start_time": "2022-05-10T12:47:14.416Z"
   },
   {
    "duration": 13,
    "start_time": "2022-05-10T12:47:14.428Z"
   },
   {
    "duration": 44,
    "start_time": "2022-05-10T12:47:14.444Z"
   },
   {
    "duration": 38,
    "start_time": "2022-05-10T12:47:14.494Z"
   },
   {
    "duration": 5,
    "start_time": "2022-05-10T12:47:14.534Z"
   },
   {
    "duration": 61,
    "start_time": "2022-05-10T12:47:14.542Z"
   },
   {
    "duration": 23,
    "start_time": "2022-05-10T12:47:14.606Z"
   },
   {
    "duration": 11,
    "start_time": "2022-05-10T12:47:14.631Z"
   },
   {
    "duration": 7,
    "start_time": "2022-05-10T12:47:14.645Z"
   },
   {
    "duration": 304,
    "start_time": "2022-05-10T12:47:14.654Z"
   },
   {
    "duration": 22,
    "start_time": "2022-05-10T12:47:14.961Z"
   },
   {
    "duration": 34,
    "start_time": "2022-05-10T12:47:14.985Z"
   },
   {
    "duration": 10,
    "start_time": "2022-05-10T12:51:57.728Z"
   },
   {
    "duration": 115,
    "start_time": "2022-05-10T12:52:00.535Z"
   },
   {
    "duration": 97,
    "start_time": "2022-05-10T12:52:46.888Z"
   },
   {
    "duration": 29,
    "start_time": "2022-05-10T12:53:19.714Z"
   },
   {
    "duration": 544,
    "start_time": "2022-05-10T12:53:40.074Z"
   },
   {
    "duration": 86,
    "start_time": "2022-05-10T12:53:40.621Z"
   },
   {
    "duration": 31,
    "start_time": "2022-05-10T12:53:40.709Z"
   },
   {
    "duration": 43,
    "start_time": "2022-05-10T12:53:40.743Z"
   },
   {
    "duration": 18,
    "start_time": "2022-05-10T12:53:40.788Z"
   },
   {
    "duration": 7,
    "start_time": "2022-05-10T12:53:40.809Z"
   },
   {
    "duration": 8,
    "start_time": "2022-05-10T12:53:40.819Z"
   },
   {
    "duration": 6,
    "start_time": "2022-05-10T12:53:40.830Z"
   },
   {
    "duration": 50,
    "start_time": "2022-05-10T12:53:40.839Z"
   },
   {
    "duration": 20,
    "start_time": "2022-05-10T12:53:40.894Z"
   },
   {
    "duration": 4,
    "start_time": "2022-05-10T12:53:40.917Z"
   },
   {
    "duration": 12,
    "start_time": "2022-05-10T12:53:40.924Z"
   },
   {
    "duration": 7,
    "start_time": "2022-05-10T12:53:40.939Z"
   },
   {
    "duration": 69,
    "start_time": "2022-05-10T12:53:40.948Z"
   },
   {
    "duration": 7,
    "start_time": "2022-05-10T12:53:41.019Z"
   },
   {
    "duration": 12,
    "start_time": "2022-05-10T12:53:41.028Z"
   },
   {
    "duration": 48,
    "start_time": "2022-05-10T12:53:41.043Z"
   },
   {
    "duration": 25,
    "start_time": "2022-05-10T12:53:41.094Z"
   },
   {
    "duration": 11,
    "start_time": "2022-05-10T12:53:41.121Z"
   },
   {
    "duration": 22,
    "start_time": "2022-05-10T12:53:41.135Z"
   },
   {
    "duration": 8,
    "start_time": "2022-05-10T12:53:41.159Z"
   },
   {
    "duration": 18,
    "start_time": "2022-05-10T12:53:41.169Z"
   },
   {
    "duration": 11,
    "start_time": "2022-05-10T12:53:41.189Z"
   },
   {
    "duration": 36,
    "start_time": "2022-05-10T12:53:41.204Z"
   },
   {
    "duration": 44,
    "start_time": "2022-05-10T12:53:41.242Z"
   },
   {
    "duration": 37,
    "start_time": "2022-05-10T12:53:41.288Z"
   },
   {
    "duration": 10,
    "start_time": "2022-05-10T12:53:41.327Z"
   },
   {
    "duration": 52,
    "start_time": "2022-05-10T12:53:41.342Z"
   },
   {
    "duration": 12,
    "start_time": "2022-05-10T12:53:41.396Z"
   },
   {
    "duration": 27,
    "start_time": "2022-05-10T12:53:41.410Z"
   },
   {
    "duration": 9,
    "start_time": "2022-05-10T12:53:41.439Z"
   },
   {
    "duration": 51,
    "start_time": "2022-05-10T12:53:41.450Z"
   },
   {
    "duration": 16,
    "start_time": "2022-05-10T12:53:41.505Z"
   },
   {
    "duration": 13,
    "start_time": "2022-05-10T12:53:41.524Z"
   },
   {
    "duration": 14,
    "start_time": "2022-05-10T12:53:41.539Z"
   },
   {
    "duration": 16,
    "start_time": "2022-05-10T12:53:41.586Z"
   },
   {
    "duration": 27,
    "start_time": "2022-05-10T12:53:41.604Z"
   },
   {
    "duration": 7,
    "start_time": "2022-05-10T12:53:41.634Z"
   },
   {
    "duration": 16,
    "start_time": "2022-05-10T12:53:41.643Z"
   },
   {
    "duration": 43,
    "start_time": "2022-05-10T12:53:41.661Z"
   },
   {
    "duration": 12,
    "start_time": "2022-05-10T12:53:41.706Z"
   },
   {
    "duration": 11,
    "start_time": "2022-05-10T12:53:41.720Z"
   },
   {
    "duration": 281,
    "start_time": "2022-05-10T12:53:41.732Z"
   },
   {
    "duration": 12,
    "start_time": "2022-05-10T12:53:42.016Z"
   },
   {
    "duration": 22,
    "start_time": "2022-05-10T12:53:42.030Z"
   },
   {
    "duration": 45,
    "start_time": "2022-05-10T12:58:17.575Z"
   },
   {
    "duration": 6,
    "start_time": "2022-05-10T13:00:51.530Z"
   },
   {
    "duration": 11,
    "start_time": "2022-05-10T13:01:03.240Z"
   },
   {
    "duration": 556,
    "start_time": "2022-05-10T13:01:42.251Z"
   },
   {
    "duration": 84,
    "start_time": "2022-05-10T13:01:42.810Z"
   },
   {
    "duration": 33,
    "start_time": "2022-05-10T13:01:42.896Z"
   },
   {
    "duration": 21,
    "start_time": "2022-05-10T13:01:42.933Z"
   },
   {
    "duration": 36,
    "start_time": "2022-05-10T13:01:42.956Z"
   },
   {
    "duration": 11,
    "start_time": "2022-05-10T13:01:42.995Z"
   },
   {
    "duration": 7,
    "start_time": "2022-05-10T13:01:43.009Z"
   },
   {
    "duration": 7,
    "start_time": "2022-05-10T13:01:43.018Z"
   },
   {
    "duration": 7,
    "start_time": "2022-05-10T13:01:43.028Z"
   },
   {
    "duration": 58,
    "start_time": "2022-05-10T13:01:43.039Z"
   },
   {
    "duration": 5,
    "start_time": "2022-05-10T13:01:43.100Z"
   },
   {
    "duration": 13,
    "start_time": "2022-05-10T13:01:43.107Z"
   },
   {
    "duration": 10,
    "start_time": "2022-05-10T13:01:43.122Z"
   },
   {
    "duration": 66,
    "start_time": "2022-05-10T13:01:43.135Z"
   },
   {
    "duration": 5,
    "start_time": "2022-05-10T13:01:43.204Z"
   },
   {
    "duration": 10,
    "start_time": "2022-05-10T13:01:43.211Z"
   },
   {
    "duration": 7,
    "start_time": "2022-05-10T13:01:43.223Z"
   },
   {
    "duration": 13,
    "start_time": "2022-05-10T13:01:43.232Z"
   },
   {
    "duration": 9,
    "start_time": "2022-05-10T13:01:43.290Z"
   },
   {
    "duration": 17,
    "start_time": "2022-05-10T13:01:43.301Z"
   },
   {
    "duration": 7,
    "start_time": "2022-05-10T13:01:43.321Z"
   },
   {
    "duration": 5,
    "start_time": "2022-05-10T13:01:43.330Z"
   },
   {
    "duration": 13,
    "start_time": "2022-05-10T13:01:43.337Z"
   },
   {
    "duration": 36,
    "start_time": "2022-05-10T13:01:43.352Z"
   },
   {
    "duration": 14,
    "start_time": "2022-05-10T13:01:43.391Z"
   },
   {
    "duration": 29,
    "start_time": "2022-05-10T13:01:43.410Z"
   },
   {
    "duration": 68,
    "start_time": "2022-05-10T13:01:43.442Z"
   },
   {
    "duration": 26,
    "start_time": "2022-05-10T13:01:43.516Z"
   },
   {
    "duration": 9,
    "start_time": "2022-05-10T13:01:43.544Z"
   },
   {
    "duration": 54,
    "start_time": "2022-05-10T13:01:43.555Z"
   },
   {
    "duration": 10,
    "start_time": "2022-05-10T13:01:43.612Z"
   },
   {
    "duration": 28,
    "start_time": "2022-05-10T13:01:43.624Z"
   },
   {
    "duration": 37,
    "start_time": "2022-05-10T13:01:43.655Z"
   },
   {
    "duration": 24,
    "start_time": "2022-05-10T13:01:43.698Z"
   },
   {
    "duration": 10,
    "start_time": "2022-05-10T13:01:43.724Z"
   },
   {
    "duration": 13,
    "start_time": "2022-05-10T13:01:43.736Z"
   },
   {
    "duration": 46,
    "start_time": "2022-05-10T13:01:43.751Z"
   },
   {
    "duration": 16,
    "start_time": "2022-05-10T13:01:43.800Z"
   },
   {
    "duration": 21,
    "start_time": "2022-05-10T13:01:43.818Z"
   },
   {
    "duration": 7,
    "start_time": "2022-05-10T13:01:43.841Z"
   },
   {
    "duration": 26,
    "start_time": "2022-05-10T13:01:43.882Z"
   },
   {
    "duration": 19,
    "start_time": "2022-05-10T13:01:43.910Z"
   },
   {
    "duration": 12,
    "start_time": "2022-05-10T13:01:43.932Z"
   },
   {
    "duration": 42,
    "start_time": "2022-05-10T13:01:43.947Z"
   },
   {
    "duration": 251,
    "start_time": "2022-05-10T13:01:43.992Z"
   },
   {
    "duration": 11,
    "start_time": "2022-05-10T13:01:44.245Z"
   },
   {
    "duration": 37,
    "start_time": "2022-05-10T13:01:44.258Z"
   },
   {
    "duration": 128,
    "start_time": "2022-05-10T13:10:14.503Z"
   },
   {
    "duration": 633,
    "start_time": "2022-05-10T13:10:29.993Z"
   },
   {
    "duration": 1408,
    "start_time": "2022-05-10T13:10:30.630Z"
   },
   {
    "duration": 82,
    "start_time": "2022-05-10T13:10:32.041Z"
   },
   {
    "duration": 35,
    "start_time": "2022-05-10T13:10:32.127Z"
   },
   {
    "duration": 26,
    "start_time": "2022-05-10T13:10:32.182Z"
   },
   {
    "duration": 16,
    "start_time": "2022-05-10T13:10:32.214Z"
   },
   {
    "duration": 8,
    "start_time": "2022-05-10T13:10:32.233Z"
   },
   {
    "duration": 45,
    "start_time": "2022-05-10T13:10:32.243Z"
   },
   {
    "duration": 5,
    "start_time": "2022-05-10T13:10:32.291Z"
   },
   {
    "duration": 27,
    "start_time": "2022-05-10T13:10:32.300Z"
   },
   {
    "duration": 9,
    "start_time": "2022-05-10T13:10:32.329Z"
   },
   {
    "duration": 6,
    "start_time": "2022-05-10T13:10:32.340Z"
   },
   {
    "duration": 41,
    "start_time": "2022-05-10T13:10:32.348Z"
   },
   {
    "duration": 13,
    "start_time": "2022-05-10T13:10:32.392Z"
   },
   {
    "duration": 32,
    "start_time": "2022-05-10T13:10:32.408Z"
   },
   {
    "duration": 7,
    "start_time": "2022-05-10T13:10:32.442Z"
   },
   {
    "duration": 42,
    "start_time": "2022-05-10T13:10:32.451Z"
   },
   {
    "duration": 398,
    "start_time": "2022-05-10T13:10:32.500Z"
   },
   {
    "duration": 8,
    "start_time": "2022-05-10T13:10:32.901Z"
   },
   {
    "duration": 24,
    "start_time": "2022-05-10T13:10:32.911Z"
   },
   {
    "duration": 11,
    "start_time": "2022-05-10T13:10:32.937Z"
   },
   {
    "duration": 12,
    "start_time": "2022-05-10T13:10:32.989Z"
   },
   {
    "duration": 23,
    "start_time": "2022-05-10T13:10:33.005Z"
   },
   {
    "duration": 15,
    "start_time": "2022-05-10T13:10:33.031Z"
   },
   {
    "duration": 11,
    "start_time": "2022-05-10T13:10:33.049Z"
   },
   {
    "duration": 30,
    "start_time": "2022-05-10T13:10:33.063Z"
   },
   {
    "duration": 15,
    "start_time": "2022-05-10T13:10:33.097Z"
   },
   {
    "duration": 39,
    "start_time": "2022-05-10T13:10:33.120Z"
   },
   {
    "duration": 58,
    "start_time": "2022-05-10T13:10:33.162Z"
   },
   {
    "duration": 29,
    "start_time": "2022-05-10T13:10:33.222Z"
   },
   {
    "duration": 41,
    "start_time": "2022-05-10T13:10:33.253Z"
   },
   {
    "duration": 47,
    "start_time": "2022-05-10T13:10:33.297Z"
   },
   {
    "duration": 14,
    "start_time": "2022-05-10T13:10:33.347Z"
   },
   {
    "duration": 54,
    "start_time": "2022-05-10T13:10:33.364Z"
   },
   {
    "duration": 14,
    "start_time": "2022-05-10T13:10:33.421Z"
   },
   {
    "duration": 60,
    "start_time": "2022-05-10T13:10:33.438Z"
   },
   {
    "duration": 15,
    "start_time": "2022-05-10T13:10:33.503Z"
   },
   {
    "duration": 13,
    "start_time": "2022-05-10T13:10:33.520Z"
   },
   {
    "duration": 16,
    "start_time": "2022-05-10T13:10:33.536Z"
   },
   {
    "duration": 27,
    "start_time": "2022-05-10T13:10:33.582Z"
   },
   {
    "duration": 25,
    "start_time": "2022-05-10T13:10:33.613Z"
   },
   {
    "duration": 6,
    "start_time": "2022-05-10T13:10:33.641Z"
   },
   {
    "duration": 42,
    "start_time": "2022-05-10T13:10:33.650Z"
   },
   {
    "duration": 19,
    "start_time": "2022-05-10T13:10:33.697Z"
   },
   {
    "duration": 10,
    "start_time": "2022-05-10T13:10:33.719Z"
   },
   {
    "duration": 8,
    "start_time": "2022-05-10T13:10:33.732Z"
   },
   {
    "duration": 277,
    "start_time": "2022-05-10T13:10:33.743Z"
   },
   {
    "duration": 11,
    "start_time": "2022-05-10T13:10:34.022Z"
   },
   {
    "duration": 57,
    "start_time": "2022-05-10T13:10:34.035Z"
   },
   {
    "duration": 288,
    "start_time": "2022-05-10T13:11:09.989Z"
   },
   {
    "duration": 718,
    "start_time": "2022-05-10T13:11:16.411Z"
   },
   {
    "duration": 1443,
    "start_time": "2022-05-10T13:11:17.133Z"
   },
   {
    "duration": 116,
    "start_time": "2022-05-10T13:11:18.579Z"
   },
   {
    "duration": 24,
    "start_time": "2022-05-10T13:11:18.699Z"
   },
   {
    "duration": 22,
    "start_time": "2022-05-10T13:11:18.726Z"
   },
   {
    "duration": 42,
    "start_time": "2022-05-10T13:11:18.750Z"
   },
   {
    "duration": 14,
    "start_time": "2022-05-10T13:11:18.794Z"
   },
   {
    "duration": 7,
    "start_time": "2022-05-10T13:11:18.810Z"
   },
   {
    "duration": 8,
    "start_time": "2022-05-10T13:11:18.819Z"
   },
   {
    "duration": 7,
    "start_time": "2022-05-10T13:11:18.831Z"
   },
   {
    "duration": 63,
    "start_time": "2022-05-10T13:11:18.840Z"
   },
   {
    "duration": 22,
    "start_time": "2022-05-10T13:11:18.906Z"
   },
   {
    "duration": 9,
    "start_time": "2022-05-10T13:11:18.930Z"
   },
   {
    "duration": 13,
    "start_time": "2022-05-10T13:11:18.942Z"
   },
   {
    "duration": 41,
    "start_time": "2022-05-10T13:11:18.958Z"
   },
   {
    "duration": 14,
    "start_time": "2022-05-10T13:11:19.001Z"
   },
   {
    "duration": 19,
    "start_time": "2022-05-10T13:11:19.018Z"
   },
   {
    "duration": 286,
    "start_time": "2022-05-10T13:11:19.040Z"
   },
   {
    "duration": 0,
    "start_time": "2022-05-10T13:11:19.330Z"
   },
   {
    "duration": 0,
    "start_time": "2022-05-10T13:11:19.332Z"
   },
   {
    "duration": 0,
    "start_time": "2022-05-10T13:11:19.334Z"
   },
   {
    "duration": 0,
    "start_time": "2022-05-10T13:11:19.336Z"
   },
   {
    "duration": 0,
    "start_time": "2022-05-10T13:11:19.337Z"
   },
   {
    "duration": 0,
    "start_time": "2022-05-10T13:11:19.339Z"
   },
   {
    "duration": 0,
    "start_time": "2022-05-10T13:11:19.340Z"
   },
   {
    "duration": 0,
    "start_time": "2022-05-10T13:11:19.341Z"
   },
   {
    "duration": 0,
    "start_time": "2022-05-10T13:11:19.342Z"
   },
   {
    "duration": 0,
    "start_time": "2022-05-10T13:11:19.344Z"
   },
   {
    "duration": 0,
    "start_time": "2022-05-10T13:11:19.345Z"
   },
   {
    "duration": 0,
    "start_time": "2022-05-10T13:11:19.347Z"
   },
   {
    "duration": 0,
    "start_time": "2022-05-10T13:11:19.348Z"
   },
   {
    "duration": 0,
    "start_time": "2022-05-10T13:11:19.382Z"
   },
   {
    "duration": 0,
    "start_time": "2022-05-10T13:11:19.384Z"
   },
   {
    "duration": 0,
    "start_time": "2022-05-10T13:11:19.385Z"
   },
   {
    "duration": 0,
    "start_time": "2022-05-10T13:11:19.386Z"
   },
   {
    "duration": 0,
    "start_time": "2022-05-10T13:11:19.388Z"
   },
   {
    "duration": 0,
    "start_time": "2022-05-10T13:11:19.389Z"
   },
   {
    "duration": 0,
    "start_time": "2022-05-10T13:11:19.390Z"
   },
   {
    "duration": 0,
    "start_time": "2022-05-10T13:11:19.392Z"
   },
   {
    "duration": 0,
    "start_time": "2022-05-10T13:11:19.393Z"
   },
   {
    "duration": 0,
    "start_time": "2022-05-10T13:11:19.394Z"
   },
   {
    "duration": 0,
    "start_time": "2022-05-10T13:11:19.398Z"
   },
   {
    "duration": 0,
    "start_time": "2022-05-10T13:11:19.400Z"
   },
   {
    "duration": 0,
    "start_time": "2022-05-10T13:11:19.403Z"
   },
   {
    "duration": 0,
    "start_time": "2022-05-10T13:11:19.404Z"
   },
   {
    "duration": 0,
    "start_time": "2022-05-10T13:11:19.406Z"
   },
   {
    "duration": 0,
    "start_time": "2022-05-10T13:11:19.407Z"
   },
   {
    "duration": 0,
    "start_time": "2022-05-10T13:11:19.409Z"
   },
   {
    "duration": 0,
    "start_time": "2022-05-10T13:11:19.410Z"
   },
   {
    "duration": 567,
    "start_time": "2022-05-10T13:12:19.710Z"
   },
   {
    "duration": 82,
    "start_time": "2022-05-10T13:12:20.283Z"
   },
   {
    "duration": 42,
    "start_time": "2022-05-10T13:12:20.367Z"
   },
   {
    "duration": 26,
    "start_time": "2022-05-10T13:12:20.413Z"
   },
   {
    "duration": 49,
    "start_time": "2022-05-10T13:12:20.442Z"
   },
   {
    "duration": 16,
    "start_time": "2022-05-10T13:12:20.494Z"
   },
   {
    "duration": 9,
    "start_time": "2022-05-10T13:12:20.514Z"
   },
   {
    "duration": 6,
    "start_time": "2022-05-10T13:12:20.526Z"
   },
   {
    "duration": 21,
    "start_time": "2022-05-10T13:12:20.535Z"
   },
   {
    "duration": 15,
    "start_time": "2022-05-10T13:12:20.585Z"
   },
   {
    "duration": 17,
    "start_time": "2022-05-10T13:12:20.604Z"
   },
   {
    "duration": 14,
    "start_time": "2022-05-10T13:12:20.624Z"
   },
   {
    "duration": 14,
    "start_time": "2022-05-10T13:12:20.640Z"
   },
   {
    "duration": 52,
    "start_time": "2022-05-10T13:12:20.657Z"
   },
   {
    "duration": 5,
    "start_time": "2022-05-10T13:12:20.712Z"
   },
   {
    "duration": 11,
    "start_time": "2022-05-10T13:12:20.719Z"
   },
   {
    "duration": 11,
    "start_time": "2022-05-10T13:12:20.732Z"
   },
   {
    "duration": 46,
    "start_time": "2022-05-10T13:12:20.746Z"
   },
   {
    "duration": 11,
    "start_time": "2022-05-10T13:12:20.800Z"
   },
   {
    "duration": 7,
    "start_time": "2022-05-10T13:12:20.814Z"
   },
   {
    "duration": 7,
    "start_time": "2022-05-10T13:12:20.823Z"
   },
   {
    "duration": 7,
    "start_time": "2022-05-10T13:12:20.832Z"
   },
   {
    "duration": 45,
    "start_time": "2022-05-10T13:12:20.841Z"
   },
   {
    "duration": 28,
    "start_time": "2022-05-10T13:12:20.888Z"
   },
   {
    "duration": 7,
    "start_time": "2022-05-10T13:12:20.919Z"
   },
   {
    "duration": 55,
    "start_time": "2022-05-10T13:12:20.929Z"
   },
   {
    "duration": 41,
    "start_time": "2022-05-10T13:12:20.987Z"
   },
   {
    "duration": 27,
    "start_time": "2022-05-10T13:12:21.033Z"
   },
   {
    "duration": 32,
    "start_time": "2022-05-10T13:12:21.062Z"
   },
   {
    "duration": 44,
    "start_time": "2022-05-10T13:12:21.097Z"
   },
   {
    "duration": 14,
    "start_time": "2022-05-10T13:12:21.143Z"
   },
   {
    "duration": 42,
    "start_time": "2022-05-10T13:12:21.183Z"
   },
   {
    "duration": 15,
    "start_time": "2022-05-10T13:12:21.228Z"
   },
   {
    "duration": 54,
    "start_time": "2022-05-10T13:12:21.245Z"
   },
   {
    "duration": 10,
    "start_time": "2022-05-10T13:12:21.306Z"
   },
   {
    "duration": 14,
    "start_time": "2022-05-10T13:12:21.319Z"
   },
   {
    "duration": 46,
    "start_time": "2022-05-10T13:12:21.336Z"
   },
   {
    "duration": 16,
    "start_time": "2022-05-10T13:12:21.385Z"
   },
   {
    "duration": 24,
    "start_time": "2022-05-10T13:12:21.404Z"
   },
   {
    "duration": 6,
    "start_time": "2022-05-10T13:12:21.431Z"
   },
   {
    "duration": 62,
    "start_time": "2022-05-10T13:12:21.440Z"
   },
   {
    "duration": 19,
    "start_time": "2022-05-10T13:12:21.505Z"
   },
   {
    "duration": 29,
    "start_time": "2022-05-10T13:12:21.526Z"
   },
   {
    "duration": 8,
    "start_time": "2022-05-10T13:12:21.557Z"
   },
   {
    "duration": 266,
    "start_time": "2022-05-10T13:12:21.568Z"
   },
   {
    "duration": 10,
    "start_time": "2022-05-10T13:12:21.837Z"
   },
   {
    "duration": 44,
    "start_time": "2022-05-10T13:12:21.850Z"
   },
   {
    "duration": 35,
    "start_time": "2022-05-10T13:18:30.633Z"
   },
   {
    "duration": 513,
    "start_time": "2022-05-10T13:20:09.942Z"
   },
   {
    "duration": 90,
    "start_time": "2022-05-10T13:20:10.458Z"
   },
   {
    "duration": 44,
    "start_time": "2022-05-10T13:20:10.551Z"
   },
   {
    "duration": 22,
    "start_time": "2022-05-10T13:20:10.598Z"
   },
   {
    "duration": 14,
    "start_time": "2022-05-10T13:20:10.623Z"
   },
   {
    "duration": 49,
    "start_time": "2022-05-10T13:20:10.639Z"
   },
   {
    "duration": 10,
    "start_time": "2022-05-10T13:20:10.690Z"
   },
   {
    "duration": 5,
    "start_time": "2022-05-10T13:20:10.703Z"
   },
   {
    "duration": 8,
    "start_time": "2022-05-10T13:20:10.710Z"
   },
   {
    "duration": 9,
    "start_time": "2022-05-10T13:20:10.722Z"
   },
   {
    "duration": 48,
    "start_time": "2022-05-10T13:20:10.734Z"
   },
   {
    "duration": 19,
    "start_time": "2022-05-10T13:20:10.784Z"
   },
   {
    "duration": 17,
    "start_time": "2022-05-10T13:20:10.806Z"
   },
   {
    "duration": 25,
    "start_time": "2022-05-10T13:20:10.825Z"
   },
   {
    "duration": 11,
    "start_time": "2022-05-10T13:20:10.883Z"
   },
   {
    "duration": 15,
    "start_time": "2022-05-10T13:20:10.897Z"
   },
   {
    "duration": 50,
    "start_time": "2022-05-10T13:20:10.914Z"
   },
   {
    "duration": 14,
    "start_time": "2022-05-10T13:20:10.982Z"
   },
   {
    "duration": 15,
    "start_time": "2022-05-10T13:20:10.999Z"
   },
   {
    "duration": 9,
    "start_time": "2022-05-10T13:20:11.017Z"
   },
   {
    "duration": 18,
    "start_time": "2022-05-10T13:20:11.028Z"
   },
   {
    "duration": 38,
    "start_time": "2022-05-10T13:20:11.048Z"
   },
   {
    "duration": 5,
    "start_time": "2022-05-10T13:20:11.089Z"
   },
   {
    "duration": 11,
    "start_time": "2022-05-10T13:20:11.098Z"
   },
   {
    "duration": 12,
    "start_time": "2022-05-10T13:20:11.111Z"
   },
   {
    "duration": 14,
    "start_time": "2022-05-10T13:20:11.125Z"
   },
   {
    "duration": 66,
    "start_time": "2022-05-10T13:20:11.142Z"
   },
   {
    "duration": 35,
    "start_time": "2022-05-10T13:20:11.215Z"
   },
   {
    "duration": 54,
    "start_time": "2022-05-10T13:20:11.253Z"
   },
   {
    "duration": 12,
    "start_time": "2022-05-10T13:20:11.309Z"
   },
   {
    "duration": 36,
    "start_time": "2022-05-10T13:20:11.324Z"
   },
   {
    "duration": 24,
    "start_time": "2022-05-10T13:20:11.362Z"
   },
   {
    "duration": 58,
    "start_time": "2022-05-10T13:20:11.389Z"
   },
   {
    "duration": 10,
    "start_time": "2022-05-10T13:20:11.449Z"
   },
   {
    "duration": 40,
    "start_time": "2022-05-10T13:20:11.461Z"
   },
   {
    "duration": 11,
    "start_time": "2022-05-10T13:20:11.503Z"
   },
   {
    "duration": 15,
    "start_time": "2022-05-10T13:20:11.516Z"
   },
   {
    "duration": 15,
    "start_time": "2022-05-10T13:20:11.533Z"
   },
   {
    "duration": 44,
    "start_time": "2022-05-10T13:20:11.551Z"
   },
   {
    "duration": 27,
    "start_time": "2022-05-10T13:20:11.602Z"
   },
   {
    "duration": 7,
    "start_time": "2022-05-10T13:20:11.632Z"
   },
   {
    "duration": 48,
    "start_time": "2022-05-10T13:20:11.641Z"
   },
   {
    "duration": 24,
    "start_time": "2022-05-10T13:20:11.696Z"
   },
   {
    "duration": 12,
    "start_time": "2022-05-10T13:20:11.722Z"
   },
   {
    "duration": 9,
    "start_time": "2022-05-10T13:20:11.736Z"
   },
   {
    "duration": 273,
    "start_time": "2022-05-10T13:20:11.748Z"
   },
   {
    "duration": 9,
    "start_time": "2022-05-10T13:20:12.024Z"
   },
   {
    "duration": 22,
    "start_time": "2022-05-10T13:20:12.035Z"
   },
   {
    "duration": 117,
    "start_time": "2022-05-10T13:22:07.084Z"
   },
   {
    "duration": 30,
    "start_time": "2022-05-10T13:22:13.086Z"
   },
   {
    "duration": 636,
    "start_time": "2022-05-10T13:22:20.108Z"
   },
   {
    "duration": 88,
    "start_time": "2022-05-10T13:22:20.747Z"
   },
   {
    "duration": 49,
    "start_time": "2022-05-10T13:22:20.838Z"
   },
   {
    "duration": 27,
    "start_time": "2022-05-10T13:22:20.891Z"
   },
   {
    "duration": 17,
    "start_time": "2022-05-10T13:22:20.922Z"
   },
   {
    "duration": 14,
    "start_time": "2022-05-10T13:22:20.941Z"
   },
   {
    "duration": 50,
    "start_time": "2022-05-10T13:22:20.957Z"
   },
   {
    "duration": 9,
    "start_time": "2022-05-10T13:22:21.009Z"
   },
   {
    "duration": 15,
    "start_time": "2022-05-10T13:22:21.021Z"
   },
   {
    "duration": 11,
    "start_time": "2022-05-10T13:22:21.039Z"
   },
   {
    "duration": 7,
    "start_time": "2022-05-10T13:22:21.053Z"
   },
   {
    "duration": 31,
    "start_time": "2022-05-10T13:22:21.062Z"
   },
   {
    "duration": 18,
    "start_time": "2022-05-10T13:22:21.096Z"
   },
   {
    "duration": 22,
    "start_time": "2022-05-10T13:22:21.119Z"
   },
   {
    "duration": 7,
    "start_time": "2022-05-10T13:22:21.143Z"
   },
   {
    "duration": 35,
    "start_time": "2022-05-10T13:22:21.152Z"
   },
   {
    "duration": 33,
    "start_time": "2022-05-10T13:22:21.189Z"
   },
   {
    "duration": 6,
    "start_time": "2022-05-10T13:22:21.226Z"
   },
   {
    "duration": 57,
    "start_time": "2022-05-10T13:22:21.235Z"
   },
   {
    "duration": 10,
    "start_time": "2022-05-10T13:22:21.294Z"
   },
   {
    "duration": 14,
    "start_time": "2022-05-10T13:22:21.306Z"
   },
   {
    "duration": 7,
    "start_time": "2022-05-10T13:22:21.323Z"
   },
   {
    "duration": 12,
    "start_time": "2022-05-10T13:22:21.332Z"
   },
   {
    "duration": 41,
    "start_time": "2022-05-10T13:22:21.346Z"
   },
   {
    "duration": 32,
    "start_time": "2022-05-10T13:22:21.391Z"
   },
   {
    "duration": 15,
    "start_time": "2022-05-10T13:22:21.425Z"
   },
   {
    "duration": 29,
    "start_time": "2022-05-10T13:22:21.443Z"
   },
   {
    "duration": 45,
    "start_time": "2022-05-10T13:22:21.474Z"
   },
   {
    "duration": 26,
    "start_time": "2022-05-10T13:22:21.522Z"
   },
   {
    "duration": 34,
    "start_time": "2022-05-10T13:22:21.551Z"
   },
   {
    "duration": 37,
    "start_time": "2022-05-10T13:22:21.589Z"
   },
   {
    "duration": 881,
    "start_time": "2022-05-10T13:22:21.628Z"
   },
   {
    "duration": 28,
    "start_time": "2022-05-10T13:22:22.512Z"
   },
   {
    "duration": 9,
    "start_time": "2022-05-10T13:22:22.542Z"
   },
   {
    "duration": 37,
    "start_time": "2022-05-10T13:22:22.554Z"
   },
   {
    "duration": 20,
    "start_time": "2022-05-10T13:22:22.594Z"
   },
   {
    "duration": 16,
    "start_time": "2022-05-10T13:22:22.617Z"
   },
   {
    "duration": 14,
    "start_time": "2022-05-10T13:22:22.636Z"
   },
   {
    "duration": 39,
    "start_time": "2022-05-10T13:22:22.652Z"
   },
   {
    "duration": 20,
    "start_time": "2022-05-10T13:22:22.699Z"
   },
   {
    "duration": 6,
    "start_time": "2022-05-10T13:22:22.724Z"
   },
   {
    "duration": 24,
    "start_time": "2022-05-10T13:22:22.734Z"
   },
   {
    "duration": 46,
    "start_time": "2022-05-10T13:22:22.760Z"
   },
   {
    "duration": 16,
    "start_time": "2022-05-10T13:22:22.809Z"
   },
   {
    "duration": 11,
    "start_time": "2022-05-10T13:22:22.830Z"
   },
   {
    "duration": 275,
    "start_time": "2022-05-10T13:22:22.844Z"
   },
   {
    "duration": 11,
    "start_time": "2022-05-10T13:22:23.122Z"
   },
   {
    "duration": 26,
    "start_time": "2022-05-10T13:22:23.135Z"
   },
   {
    "duration": 570,
    "start_time": "2022-05-10T13:23:02.062Z"
   },
   {
    "duration": 83,
    "start_time": "2022-05-10T13:23:02.635Z"
   },
   {
    "duration": 43,
    "start_time": "2022-05-10T13:23:02.722Z"
   },
   {
    "duration": 34,
    "start_time": "2022-05-10T13:23:02.782Z"
   },
   {
    "duration": 16,
    "start_time": "2022-05-10T13:23:02.818Z"
   },
   {
    "duration": 11,
    "start_time": "2022-05-10T13:23:02.836Z"
   },
   {
    "duration": 48,
    "start_time": "2022-05-10T13:23:02.849Z"
   },
   {
    "duration": 21,
    "start_time": "2022-05-10T13:23:02.900Z"
   },
   {
    "duration": 10,
    "start_time": "2022-05-10T13:23:02.924Z"
   },
   {
    "duration": 11,
    "start_time": "2022-05-10T13:23:02.938Z"
   },
   {
    "duration": 8,
    "start_time": "2022-05-10T13:23:02.951Z"
   },
   {
    "duration": 29,
    "start_time": "2022-05-10T13:23:02.961Z"
   },
   {
    "duration": 18,
    "start_time": "2022-05-10T13:23:02.993Z"
   },
   {
    "duration": 28,
    "start_time": "2022-05-10T13:23:03.017Z"
   },
   {
    "duration": 10,
    "start_time": "2022-05-10T13:23:03.047Z"
   },
   {
    "duration": 19,
    "start_time": "2022-05-10T13:23:03.061Z"
   },
   {
    "duration": 43,
    "start_time": "2022-05-10T13:23:03.092Z"
   },
   {
    "duration": 8,
    "start_time": "2022-05-10T13:23:03.137Z"
   },
   {
    "duration": 40,
    "start_time": "2022-05-10T13:23:03.148Z"
   },
   {
    "duration": 20,
    "start_time": "2022-05-10T13:23:03.191Z"
   },
   {
    "duration": 19,
    "start_time": "2022-05-10T13:23:03.214Z"
   },
   {
    "duration": 12,
    "start_time": "2022-05-10T13:23:03.235Z"
   },
   {
    "duration": 11,
    "start_time": "2022-05-10T13:23:03.250Z"
   },
   {
    "duration": 28,
    "start_time": "2022-05-10T13:23:03.263Z"
   },
   {
    "duration": 29,
    "start_time": "2022-05-10T13:23:03.293Z"
   },
   {
    "duration": 18,
    "start_time": "2022-05-10T13:23:03.324Z"
   },
   {
    "duration": 30,
    "start_time": "2022-05-10T13:23:03.346Z"
   },
   {
    "duration": 40,
    "start_time": "2022-05-10T13:23:03.385Z"
   },
   {
    "duration": 27,
    "start_time": "2022-05-10T13:23:03.427Z"
   },
   {
    "duration": 34,
    "start_time": "2022-05-10T13:23:03.457Z"
   },
   {
    "duration": 37,
    "start_time": "2022-05-10T13:23:03.494Z"
   },
   {
    "duration": 25,
    "start_time": "2022-05-10T13:23:03.534Z"
   },
   {
    "duration": 889,
    "start_time": "2022-05-10T13:23:03.562Z"
   },
   {
    "duration": 10,
    "start_time": "2022-05-10T13:23:04.456Z"
   },
   {
    "duration": 38,
    "start_time": "2022-05-10T13:23:04.469Z"
   },
   {
    "duration": 17,
    "start_time": "2022-05-10T13:23:04.510Z"
   },
   {
    "duration": 22,
    "start_time": "2022-05-10T13:23:04.529Z"
   },
   {
    "duration": 35,
    "start_time": "2022-05-10T13:23:04.553Z"
   },
   {
    "duration": 42,
    "start_time": "2022-05-10T13:23:04.590Z"
   },
   {
    "duration": 70,
    "start_time": "2022-05-10T13:23:04.634Z"
   },
   {
    "duration": 23,
    "start_time": "2022-05-10T13:23:04.707Z"
   },
   {
    "duration": 73,
    "start_time": "2022-05-10T13:23:04.733Z"
   },
   {
    "duration": 26,
    "start_time": "2022-05-10T13:23:04.814Z"
   },
   {
    "duration": 18,
    "start_time": "2022-05-10T13:23:04.889Z"
   },
   {
    "duration": 20,
    "start_time": "2022-05-10T13:23:04.910Z"
   },
   {
    "duration": 674,
    "start_time": "2022-05-10T13:23:04.932Z"
   },
   {
    "duration": 16,
    "start_time": "2022-05-10T13:23:05.611Z"
   },
   {
    "duration": 92,
    "start_time": "2022-05-10T13:23:05.630Z"
   },
   {
    "duration": 598,
    "start_time": "2022-05-10T13:23:22.611Z"
   },
   {
    "duration": 111,
    "start_time": "2022-05-10T13:23:23.214Z"
   },
   {
    "duration": 39,
    "start_time": "2022-05-10T13:23:23.328Z"
   },
   {
    "duration": 39,
    "start_time": "2022-05-10T13:23:23.369Z"
   },
   {
    "duration": 25,
    "start_time": "2022-05-10T13:23:23.411Z"
   },
   {
    "duration": 7,
    "start_time": "2022-05-10T13:23:23.439Z"
   },
   {
    "duration": 7,
    "start_time": "2022-05-10T13:23:23.448Z"
   },
   {
    "duration": 62,
    "start_time": "2022-05-10T13:23:23.457Z"
   },
   {
    "duration": 11,
    "start_time": "2022-05-10T13:23:23.522Z"
   },
   {
    "duration": 9,
    "start_time": "2022-05-10T13:23:23.536Z"
   },
   {
    "duration": 8,
    "start_time": "2022-05-10T13:23:23.547Z"
   },
   {
    "duration": 16,
    "start_time": "2022-05-10T13:23:23.557Z"
   },
   {
    "duration": 55,
    "start_time": "2022-05-10T13:23:23.575Z"
   },
   {
    "duration": 29,
    "start_time": "2022-05-10T13:23:23.636Z"
   },
   {
    "duration": 7,
    "start_time": "2022-05-10T13:23:23.667Z"
   },
   {
    "duration": 26,
    "start_time": "2022-05-10T13:23:23.676Z"
   },
   {
    "duration": 70,
    "start_time": "2022-05-10T13:23:23.704Z"
   },
   {
    "duration": 16,
    "start_time": "2022-05-10T13:23:23.776Z"
   },
   {
    "duration": 42,
    "start_time": "2022-05-10T13:23:23.795Z"
   },
   {
    "duration": 9,
    "start_time": "2022-05-10T13:23:23.839Z"
   },
   {
    "duration": 17,
    "start_time": "2022-05-10T13:23:23.850Z"
   },
   {
    "duration": 15,
    "start_time": "2022-05-10T13:23:23.870Z"
   },
   {
    "duration": 52,
    "start_time": "2022-05-10T13:23:23.891Z"
   },
   {
    "duration": 21,
    "start_time": "2022-05-10T13:23:23.946Z"
   },
   {
    "duration": 47,
    "start_time": "2022-05-10T13:23:23.969Z"
   },
   {
    "duration": 10,
    "start_time": "2022-05-10T13:23:24.020Z"
   },
   {
    "duration": 31,
    "start_time": "2022-05-10T13:23:24.033Z"
   },
   {
    "duration": 47,
    "start_time": "2022-05-10T13:23:24.067Z"
   },
   {
    "duration": 33,
    "start_time": "2022-05-10T13:23:24.117Z"
   },
   {
    "duration": 39,
    "start_time": "2022-05-10T13:23:24.152Z"
   },
   {
    "duration": 57,
    "start_time": "2022-05-10T13:23:24.193Z"
   },
   {
    "duration": 73,
    "start_time": "2022-05-10T13:23:24.253Z"
   },
   {
    "duration": 40,
    "start_time": "2022-05-10T13:23:24.329Z"
   },
   {
    "duration": 10,
    "start_time": "2022-05-10T13:23:24.371Z"
   },
   {
    "duration": 40,
    "start_time": "2022-05-10T13:23:24.384Z"
   },
   {
    "duration": 24,
    "start_time": "2022-05-10T13:23:24.427Z"
   },
   {
    "duration": 17,
    "start_time": "2022-05-10T13:23:24.454Z"
   },
   {
    "duration": 43,
    "start_time": "2022-05-10T13:23:24.483Z"
   },
   {
    "duration": 17,
    "start_time": "2022-05-10T13:23:24.529Z"
   },
   {
    "duration": 26,
    "start_time": "2022-05-10T13:23:24.548Z"
   },
   {
    "duration": 10,
    "start_time": "2022-05-10T13:23:24.581Z"
   },
   {
    "duration": 38,
    "start_time": "2022-05-10T13:23:24.594Z"
   },
   {
    "duration": 17,
    "start_time": "2022-05-10T13:23:24.634Z"
   },
   {
    "duration": 11,
    "start_time": "2022-05-10T13:23:24.654Z"
   },
   {
    "duration": 6,
    "start_time": "2022-05-10T13:23:24.667Z"
   },
   {
    "duration": 332,
    "start_time": "2022-05-10T13:23:24.698Z"
   },
   {
    "duration": 61,
    "start_time": "2022-05-10T13:23:25.033Z"
   },
   {
    "duration": 44,
    "start_time": "2022-05-10T13:23:25.096Z"
   },
   {
    "duration": 110,
    "start_time": "2022-05-10T13:24:31.145Z"
   },
   {
    "duration": 19,
    "start_time": "2022-05-10T13:24:38.830Z"
   },
   {
    "duration": 681,
    "start_time": "2022-05-10T13:24:44.268Z"
   },
   {
    "duration": 99,
    "start_time": "2022-05-10T13:24:44.953Z"
   },
   {
    "duration": 33,
    "start_time": "2022-05-10T13:24:45.056Z"
   },
   {
    "duration": 22,
    "start_time": "2022-05-10T13:24:45.092Z"
   },
   {
    "duration": 21,
    "start_time": "2022-05-10T13:24:45.118Z"
   },
   {
    "duration": 45,
    "start_time": "2022-05-10T13:24:45.141Z"
   },
   {
    "duration": 9,
    "start_time": "2022-05-10T13:24:45.189Z"
   },
   {
    "duration": 9,
    "start_time": "2022-05-10T13:24:45.200Z"
   },
   {
    "duration": 27,
    "start_time": "2022-05-10T13:24:45.215Z"
   },
   {
    "duration": 10,
    "start_time": "2022-05-10T13:24:45.245Z"
   },
   {
    "duration": 8,
    "start_time": "2022-05-10T13:24:45.305Z"
   },
   {
    "duration": 25,
    "start_time": "2022-05-10T13:24:45.320Z"
   },
   {
    "duration": 26,
    "start_time": "2022-05-10T13:24:45.347Z"
   },
   {
    "duration": 41,
    "start_time": "2022-05-10T13:24:45.380Z"
   },
   {
    "duration": 5,
    "start_time": "2022-05-10T13:24:45.425Z"
   },
   {
    "duration": 13,
    "start_time": "2022-05-10T13:24:45.434Z"
   },
   {
    "duration": 86,
    "start_time": "2022-05-10T13:24:45.450Z"
   },
   {
    "duration": 9,
    "start_time": "2022-05-10T13:24:45.539Z"
   },
   {
    "duration": 64,
    "start_time": "2022-05-10T13:24:45.551Z"
   },
   {
    "duration": 13,
    "start_time": "2022-05-10T13:24:45.618Z"
   },
   {
    "duration": 15,
    "start_time": "2022-05-10T13:24:45.634Z"
   },
   {
    "duration": 9,
    "start_time": "2022-05-10T13:24:45.652Z"
   },
   {
    "duration": 31,
    "start_time": "2022-05-10T13:24:45.688Z"
   },
   {
    "duration": 8,
    "start_time": "2022-05-10T13:24:45.722Z"
   },
   {
    "duration": 14,
    "start_time": "2022-05-10T13:24:45.733Z"
   },
   {
    "duration": 11,
    "start_time": "2022-05-10T13:24:45.751Z"
   },
   {
    "duration": 58,
    "start_time": "2022-05-10T13:24:45.766Z"
   },
   {
    "duration": 34,
    "start_time": "2022-05-10T13:24:45.827Z"
   },
   {
    "duration": 49,
    "start_time": "2022-05-10T13:24:45.863Z"
   },
   {
    "duration": 14,
    "start_time": "2022-05-10T13:24:45.917Z"
   },
   {
    "duration": 58,
    "start_time": "2022-05-10T13:24:45.934Z"
   },
   {
    "duration": 15,
    "start_time": "2022-05-10T13:24:45.996Z"
   },
   {
    "duration": 42,
    "start_time": "2022-05-10T13:24:46.014Z"
   },
   {
    "duration": 32,
    "start_time": "2022-05-10T13:24:46.059Z"
   },
   {
    "duration": 46,
    "start_time": "2022-05-10T13:24:46.094Z"
   },
   {
    "duration": 14,
    "start_time": "2022-05-10T13:24:46.143Z"
   },
   {
    "duration": 32,
    "start_time": "2022-05-10T13:24:46.160Z"
   },
   {
    "duration": 38,
    "start_time": "2022-05-10T13:24:46.195Z"
   },
   {
    "duration": 16,
    "start_time": "2022-05-10T13:24:46.236Z"
   },
   {
    "duration": 41,
    "start_time": "2022-05-10T13:24:46.255Z"
   },
   {
    "duration": 15,
    "start_time": "2022-05-10T13:24:46.305Z"
   },
   {
    "duration": 19,
    "start_time": "2022-05-10T13:24:46.323Z"
   },
   {
    "duration": 33,
    "start_time": "2022-05-10T13:24:46.345Z"
   },
   {
    "duration": 34,
    "start_time": "2022-05-10T13:24:46.380Z"
   },
   {
    "duration": 18,
    "start_time": "2022-05-10T13:24:46.417Z"
   },
   {
    "duration": 388,
    "start_time": "2022-05-10T13:24:46.438Z"
   },
   {
    "duration": 14,
    "start_time": "2022-05-10T13:24:46.829Z"
   },
   {
    "duration": 53,
    "start_time": "2022-05-10T13:24:46.846Z"
   },
   {
    "duration": 633,
    "start_time": "2022-05-11T09:08:58.837Z"
   },
   {
    "duration": 85,
    "start_time": "2022-05-11T09:08:59.473Z"
   },
   {
    "duration": 29,
    "start_time": "2022-05-11T09:08:59.561Z"
   },
   {
    "duration": 44,
    "start_time": "2022-05-11T09:08:59.593Z"
   },
   {
    "duration": 21,
    "start_time": "2022-05-11T09:08:59.639Z"
   },
   {
    "duration": 8,
    "start_time": "2022-05-11T09:08:59.662Z"
   },
   {
    "duration": 9,
    "start_time": "2022-05-11T09:08:59.673Z"
   },
   {
    "duration": 47,
    "start_time": "2022-05-11T09:08:59.685Z"
   },
   {
    "duration": 15,
    "start_time": "2022-05-11T09:08:59.739Z"
   },
   {
    "duration": 12,
    "start_time": "2022-05-11T09:08:59.758Z"
   },
   {
    "duration": 6,
    "start_time": "2022-05-11T09:08:59.772Z"
   },
   {
    "duration": 13,
    "start_time": "2022-05-11T09:08:59.781Z"
   },
   {
    "duration": 13,
    "start_time": "2022-05-11T09:08:59.826Z"
   },
   {
    "duration": 31,
    "start_time": "2022-05-11T09:08:59.841Z"
   },
   {
    "duration": 4,
    "start_time": "2022-05-11T09:08:59.875Z"
   },
   {
    "duration": 9,
    "start_time": "2022-05-11T09:08:59.882Z"
   },
   {
    "duration": 46,
    "start_time": "2022-05-11T09:08:59.924Z"
   },
   {
    "duration": 24,
    "start_time": "2022-05-11T09:08:59.973Z"
   },
   {
    "duration": 14,
    "start_time": "2022-05-11T09:09:00.000Z"
   },
   {
    "duration": 34,
    "start_time": "2022-05-11T09:09:00.016Z"
   },
   {
    "duration": 8,
    "start_time": "2022-05-11T09:09:00.052Z"
   },
   {
    "duration": 16,
    "start_time": "2022-05-11T09:09:00.062Z"
   },
   {
    "duration": 9,
    "start_time": "2022-05-11T09:09:00.081Z"
   },
   {
    "duration": 8,
    "start_time": "2022-05-11T09:09:00.092Z"
   },
   {
    "duration": 26,
    "start_time": "2022-05-11T09:09:00.102Z"
   },
   {
    "duration": 21,
    "start_time": "2022-05-11T09:09:00.130Z"
   },
   {
    "duration": 10,
    "start_time": "2022-05-11T09:09:00.153Z"
   },
   {
    "duration": 28,
    "start_time": "2022-05-11T09:09:00.169Z"
   },
   {
    "duration": 63,
    "start_time": "2022-05-11T09:09:00.199Z"
   },
   {
    "duration": 27,
    "start_time": "2022-05-11T09:09:00.265Z"
   },
   {
    "duration": 38,
    "start_time": "2022-05-11T09:09:00.294Z"
   },
   {
    "duration": 24,
    "start_time": "2022-05-11T09:09:00.336Z"
   },
   {
    "duration": 20,
    "start_time": "2022-05-11T09:09:00.362Z"
   },
   {
    "duration": 50,
    "start_time": "2022-05-11T09:09:00.384Z"
   },
   {
    "duration": 20,
    "start_time": "2022-05-11T09:09:00.436Z"
   },
   {
    "duration": 32,
    "start_time": "2022-05-11T09:09:00.458Z"
   },
   {
    "duration": 19,
    "start_time": "2022-05-11T09:09:00.492Z"
   },
   {
    "duration": 18,
    "start_time": "2022-05-11T09:09:00.513Z"
   },
   {
    "duration": 26,
    "start_time": "2022-05-11T09:09:00.534Z"
   },
   {
    "duration": 23,
    "start_time": "2022-05-11T09:09:00.563Z"
   },
   {
    "duration": 41,
    "start_time": "2022-05-11T09:09:00.589Z"
   },
   {
    "duration": 21,
    "start_time": "2022-05-11T09:09:00.636Z"
   },
   {
    "duration": 30,
    "start_time": "2022-05-11T09:09:00.659Z"
   },
   {
    "duration": 18,
    "start_time": "2022-05-11T09:09:00.691Z"
   },
   {
    "duration": 26,
    "start_time": "2022-05-11T09:09:00.711Z"
   },
   {
    "duration": 19,
    "start_time": "2022-05-11T09:09:00.740Z"
   },
   {
    "duration": 259,
    "start_time": "2022-05-11T09:09:00.761Z"
   },
   {
    "duration": 14,
    "start_time": "2022-05-11T09:09:01.023Z"
   },
   {
    "duration": 32,
    "start_time": "2022-05-11T09:09:01.040Z"
   },
   {
    "duration": 10,
    "start_time": "2022-05-11T09:09:48.884Z"
   },
   {
    "duration": 33,
    "start_time": "2022-05-11T09:13:02.992Z"
   },
   {
    "duration": 633,
    "start_time": "2022-05-11T09:34:24.727Z"
   },
   {
    "duration": 86,
    "start_time": "2022-05-11T09:34:25.363Z"
   },
   {
    "duration": 31,
    "start_time": "2022-05-11T09:34:25.451Z"
   },
   {
    "duration": 51,
    "start_time": "2022-05-11T09:34:25.485Z"
   },
   {
    "duration": 16,
    "start_time": "2022-05-11T09:34:25.539Z"
   },
   {
    "duration": 7,
    "start_time": "2022-05-11T09:34:25.557Z"
   },
   {
    "duration": 10,
    "start_time": "2022-05-11T09:34:25.566Z"
   },
   {
    "duration": 7,
    "start_time": "2022-05-11T09:34:25.578Z"
   },
   {
    "duration": 48,
    "start_time": "2022-05-11T09:34:25.587Z"
   },
   {
    "duration": 18,
    "start_time": "2022-05-11T09:34:25.641Z"
   },
   {
    "duration": 10,
    "start_time": "2022-05-11T09:34:25.661Z"
   },
   {
    "duration": 22,
    "start_time": "2022-05-11T09:34:25.673Z"
   },
   {
    "duration": 9,
    "start_time": "2022-05-11T09:34:25.698Z"
   },
   {
    "duration": 44,
    "start_time": "2022-05-11T09:34:25.709Z"
   },
   {
    "duration": 10,
    "start_time": "2022-05-11T09:34:25.755Z"
   },
   {
    "duration": 15,
    "start_time": "2022-05-11T09:34:25.768Z"
   },
   {
    "duration": 78,
    "start_time": "2022-05-11T09:34:25.786Z"
   },
   {
    "duration": 36,
    "start_time": "2022-05-11T09:34:25.866Z"
   },
   {
    "duration": 15,
    "start_time": "2022-05-11T09:34:25.925Z"
   },
   {
    "duration": 18,
    "start_time": "2022-05-11T09:34:25.942Z"
   },
   {
    "duration": 13,
    "start_time": "2022-05-11T09:34:25.962Z"
   },
   {
    "duration": 9,
    "start_time": "2022-05-11T09:34:25.977Z"
   },
   {
    "duration": 49,
    "start_time": "2022-05-11T09:34:25.988Z"
   },
   {
    "duration": 10,
    "start_time": "2022-05-11T09:34:26.039Z"
   },
   {
    "duration": 9,
    "start_time": "2022-05-11T09:34:26.051Z"
   },
   {
    "duration": 16,
    "start_time": "2022-05-11T09:34:26.062Z"
   },
   {
    "duration": 25,
    "start_time": "2022-05-11T09:34:26.080Z"
   },
   {
    "duration": 22,
    "start_time": "2022-05-11T09:34:26.111Z"
   },
   {
    "duration": 32,
    "start_time": "2022-05-11T09:34:26.136Z"
   },
   {
    "duration": 64,
    "start_time": "2022-05-11T09:34:26.170Z"
   },
   {
    "duration": 28,
    "start_time": "2022-05-11T09:34:26.237Z"
   },
   {
    "duration": 9,
    "start_time": "2022-05-11T09:34:26.267Z"
   },
   {
    "duration": 57,
    "start_time": "2022-05-11T09:34:26.278Z"
   },
   {
    "duration": 14,
    "start_time": "2022-05-11T09:34:26.339Z"
   },
   {
    "duration": 26,
    "start_time": "2022-05-11T09:34:26.355Z"
   },
   {
    "duration": 13,
    "start_time": "2022-05-11T09:34:26.383Z"
   },
   {
    "duration": 50,
    "start_time": "2022-05-11T09:34:26.398Z"
   },
   {
    "duration": 10,
    "start_time": "2022-05-11T09:34:26.450Z"
   },
   {
    "duration": 11,
    "start_time": "2022-05-11T09:34:26.462Z"
   },
   {
    "duration": 52,
    "start_time": "2022-05-11T09:34:26.476Z"
   },
   {
    "duration": 15,
    "start_time": "2022-05-11T09:34:26.531Z"
   },
   {
    "duration": 27,
    "start_time": "2022-05-11T09:34:26.548Z"
   },
   {
    "duration": 6,
    "start_time": "2022-05-11T09:34:26.578Z"
   },
   {
    "duration": 42,
    "start_time": "2022-05-11T09:34:26.587Z"
   },
   {
    "duration": 34,
    "start_time": "2022-05-11T09:34:26.632Z"
   },
   {
    "duration": 12,
    "start_time": "2022-05-11T09:34:26.668Z"
   },
   {
    "duration": 7,
    "start_time": "2022-05-11T09:34:26.682Z"
   },
   {
    "duration": 274,
    "start_time": "2022-05-11T09:34:26.692Z"
   },
   {
    "duration": 10,
    "start_time": "2022-05-11T09:34:26.968Z"
   },
   {
    "duration": 27,
    "start_time": "2022-05-11T09:34:26.980Z"
   },
   {
    "duration": 15,
    "start_time": "2022-05-11T09:35:07.494Z"
   },
   {
    "duration": 520,
    "start_time": "2022-05-11T09:35:12.585Z"
   },
   {
    "duration": 81,
    "start_time": "2022-05-11T09:35:13.108Z"
   },
   {
    "duration": 51,
    "start_time": "2022-05-11T09:35:13.192Z"
   },
   {
    "duration": 23,
    "start_time": "2022-05-11T09:35:13.248Z"
   },
   {
    "duration": 15,
    "start_time": "2022-05-11T09:35:13.274Z"
   },
   {
    "duration": 18,
    "start_time": "2022-05-11T09:35:13.323Z"
   },
   {
    "duration": 9,
    "start_time": "2022-05-11T09:35:13.343Z"
   },
   {
    "duration": 5,
    "start_time": "2022-05-11T09:35:13.354Z"
   },
   {
    "duration": 8,
    "start_time": "2022-05-11T09:35:13.361Z"
   },
   {
    "duration": 8,
    "start_time": "2022-05-11T09:35:13.373Z"
   },
   {
    "duration": 4,
    "start_time": "2022-05-11T09:35:13.383Z"
   },
   {
    "duration": 18,
    "start_time": "2022-05-11T09:35:13.424Z"
   },
   {
    "duration": 8,
    "start_time": "2022-05-11T09:35:13.444Z"
   },
   {
    "duration": 22,
    "start_time": "2022-05-11T09:35:13.454Z"
   },
   {
    "duration": 6,
    "start_time": "2022-05-11T09:35:13.478Z"
   },
   {
    "duration": 11,
    "start_time": "2022-05-11T09:35:13.531Z"
   },
   {
    "duration": 40,
    "start_time": "2022-05-11T09:35:13.545Z"
   },
   {
    "duration": 6,
    "start_time": "2022-05-11T09:35:13.587Z"
   },
   {
    "duration": 19,
    "start_time": "2022-05-11T09:35:13.625Z"
   },
   {
    "duration": 16,
    "start_time": "2022-05-11T09:35:13.649Z"
   },
   {
    "duration": 7,
    "start_time": "2022-05-11T09:35:13.667Z"
   },
   {
    "duration": 14,
    "start_time": "2022-05-11T09:35:13.676Z"
   },
   {
    "duration": 36,
    "start_time": "2022-05-11T09:35:13.692Z"
   },
   {
    "duration": 6,
    "start_time": "2022-05-11T09:35:13.734Z"
   },
   {
    "duration": 11,
    "start_time": "2022-05-11T09:35:13.742Z"
   },
   {
    "duration": 10,
    "start_time": "2022-05-11T09:35:13.756Z"
   },
   {
    "duration": 8,
    "start_time": "2022-05-11T09:35:13.769Z"
   },
   {
    "duration": 83,
    "start_time": "2022-05-11T09:35:13.782Z"
   },
   {
    "duration": 29,
    "start_time": "2022-05-11T09:35:13.868Z"
   },
   {
    "duration": 48,
    "start_time": "2022-05-11T09:35:13.900Z"
   },
   {
    "duration": 11,
    "start_time": "2022-05-11T09:35:13.950Z"
   },
   {
    "duration": 26,
    "start_time": "2022-05-11T09:35:13.963Z"
   },
   {
    "duration": 43,
    "start_time": "2022-05-11T09:35:13.991Z"
   },
   {
    "duration": 44,
    "start_time": "2022-05-11T09:35:14.038Z"
   },
   {
    "duration": 15,
    "start_time": "2022-05-11T09:35:14.084Z"
   },
   {
    "duration": 27,
    "start_time": "2022-05-11T09:35:14.132Z"
   },
   {
    "duration": 12,
    "start_time": "2022-05-11T09:35:14.162Z"
   },
   {
    "duration": 15,
    "start_time": "2022-05-11T09:35:14.176Z"
   },
   {
    "duration": 38,
    "start_time": "2022-05-11T09:35:14.193Z"
   },
   {
    "duration": 36,
    "start_time": "2022-05-11T09:35:14.234Z"
   },
   {
    "duration": 54,
    "start_time": "2022-05-11T09:35:14.273Z"
   },
   {
    "duration": 16,
    "start_time": "2022-05-11T09:35:14.330Z"
   },
   {
    "duration": 24,
    "start_time": "2022-05-11T09:35:14.353Z"
   },
   {
    "duration": 36,
    "start_time": "2022-05-11T09:35:14.379Z"
   },
   {
    "duration": 36,
    "start_time": "2022-05-11T09:35:14.417Z"
   },
   {
    "duration": 24,
    "start_time": "2022-05-11T09:35:14.456Z"
   },
   {
    "duration": 268,
    "start_time": "2022-05-11T09:35:14.483Z"
   },
   {
    "duration": 10,
    "start_time": "2022-05-11T09:35:14.753Z"
   },
   {
    "duration": 30,
    "start_time": "2022-05-11T09:35:14.765Z"
   },
   {
    "duration": 4,
    "start_time": "2022-05-11T09:38:53.720Z"
   },
   {
    "duration": 7,
    "start_time": "2022-05-11T09:38:57.379Z"
   },
   {
    "duration": 152,
    "start_time": "2022-05-11T09:41:15.045Z"
   },
   {
    "duration": 6,
    "start_time": "2022-05-11T09:41:23.096Z"
   },
   {
    "duration": 5,
    "start_time": "2022-05-11T09:42:00.360Z"
   },
   {
    "duration": 6,
    "start_time": "2022-05-11T09:42:02.659Z"
   },
   {
    "duration": 107,
    "start_time": "2022-05-11T09:42:03.279Z"
   },
   {
    "duration": 6,
    "start_time": "2022-05-11T09:43:23.083Z"
   },
   {
    "duration": 123,
    "start_time": "2022-05-11T09:43:34.385Z"
   },
   {
    "duration": 7,
    "start_time": "2022-05-11T09:43:46.533Z"
   },
   {
    "duration": 104,
    "start_time": "2022-05-11T09:44:03.714Z"
   },
   {
    "duration": 5,
    "start_time": "2022-05-11T09:44:19.639Z"
   },
   {
    "duration": 5,
    "start_time": "2022-05-11T09:44:48.889Z"
   },
   {
    "duration": 6,
    "start_time": "2022-05-11T09:45:13.865Z"
   },
   {
    "duration": 4,
    "start_time": "2022-05-11T09:45:14.638Z"
   },
   {
    "duration": 5,
    "start_time": "2022-05-11T09:45:23.965Z"
   },
   {
    "duration": 5,
    "start_time": "2022-05-11T09:45:59.794Z"
   },
   {
    "duration": 32,
    "start_time": "2022-05-11T09:49:31.429Z"
   },
   {
    "duration": 11,
    "start_time": "2022-05-11T09:49:42.108Z"
   },
   {
    "duration": 121,
    "start_time": "2022-05-11T10:00:55.620Z"
   },
   {
    "duration": 10,
    "start_time": "2022-05-11T10:02:14.084Z"
   },
   {
    "duration": 561,
    "start_time": "2022-05-11T10:02:22.073Z"
   },
   {
    "duration": 82,
    "start_time": "2022-05-11T10:02:22.638Z"
   },
   {
    "duration": 33,
    "start_time": "2022-05-11T10:02:22.723Z"
   },
   {
    "duration": 41,
    "start_time": "2022-05-11T10:02:22.760Z"
   },
   {
    "duration": 25,
    "start_time": "2022-05-11T10:02:22.804Z"
   },
   {
    "duration": 8,
    "start_time": "2022-05-11T10:02:22.832Z"
   },
   {
    "duration": 11,
    "start_time": "2022-05-11T10:02:22.843Z"
   },
   {
    "duration": 18,
    "start_time": "2022-05-11T10:02:22.856Z"
   },
   {
    "duration": 17,
    "start_time": "2022-05-11T10:02:22.876Z"
   },
   {
    "duration": 34,
    "start_time": "2022-05-11T10:02:22.898Z"
   },
   {
    "duration": 7,
    "start_time": "2022-05-11T10:02:22.934Z"
   },
   {
    "duration": 28,
    "start_time": "2022-05-11T10:02:22.943Z"
   },
   {
    "duration": 16,
    "start_time": "2022-05-11T10:02:22.973Z"
   },
   {
    "duration": 40,
    "start_time": "2022-05-11T10:02:22.992Z"
   },
   {
    "duration": 17,
    "start_time": "2022-05-11T10:02:23.034Z"
   },
   {
    "duration": 20,
    "start_time": "2022-05-11T10:02:23.053Z"
   },
   {
    "duration": 57,
    "start_time": "2022-05-11T10:02:23.076Z"
   },
   {
    "duration": 4,
    "start_time": "2022-05-11T10:02:23.136Z"
   },
   {
    "duration": 16,
    "start_time": "2022-05-11T10:02:23.142Z"
   },
   {
    "duration": 13,
    "start_time": "2022-05-11T10:02:23.160Z"
   },
   {
    "duration": 9,
    "start_time": "2022-05-11T10:02:23.175Z"
   },
   {
    "duration": 61,
    "start_time": "2022-05-11T10:02:23.186Z"
   },
   {
    "duration": 9,
    "start_time": "2022-05-11T10:02:23.249Z"
   },
   {
    "duration": 19,
    "start_time": "2022-05-11T10:02:23.260Z"
   },
   {
    "duration": 9,
    "start_time": "2022-05-11T10:02:23.282Z"
   },
   {
    "duration": 7,
    "start_time": "2022-05-11T10:02:23.293Z"
   },
   {
    "duration": 28,
    "start_time": "2022-05-11T10:02:23.302Z"
   },
   {
    "duration": 9,
    "start_time": "2022-05-11T10:02:23.336Z"
   },
   {
    "duration": 8,
    "start_time": "2022-05-11T10:02:23.347Z"
   },
   {
    "duration": 29,
    "start_time": "2022-05-11T10:02:23.358Z"
   },
   {
    "duration": 32,
    "start_time": "2022-05-11T10:02:23.424Z"
   },
   {
    "duration": 29,
    "start_time": "2022-05-11T10:02:23.458Z"
   },
   {
    "duration": 40,
    "start_time": "2022-05-11T10:02:23.489Z"
   },
   {
    "duration": 26,
    "start_time": "2022-05-11T10:02:23.531Z"
   },
   {
    "duration": 11,
    "start_time": "2022-05-11T10:02:23.559Z"
   },
   {
    "duration": 57,
    "start_time": "2022-05-11T10:02:23.573Z"
   },
   {
    "duration": 13,
    "start_time": "2022-05-11T10:02:23.632Z"
   },
   {
    "duration": 22,
    "start_time": "2022-05-11T10:02:23.647Z"
   },
   {
    "duration": 13,
    "start_time": "2022-05-11T10:02:23.672Z"
   },
   {
    "duration": 42,
    "start_time": "2022-05-11T10:02:23.688Z"
   },
   {
    "duration": 23,
    "start_time": "2022-05-11T10:02:23.732Z"
   },
   {
    "duration": 17,
    "start_time": "2022-05-11T10:02:23.757Z"
   },
   {
    "duration": 24,
    "start_time": "2022-05-11T10:02:23.776Z"
   },
   {
    "duration": 28,
    "start_time": "2022-05-11T10:02:23.802Z"
   },
   {
    "duration": 42,
    "start_time": "2022-05-11T10:02:23.834Z"
   },
   {
    "duration": 26,
    "start_time": "2022-05-11T10:02:23.878Z"
   },
   {
    "duration": 24,
    "start_time": "2022-05-11T10:02:23.907Z"
   },
   {
    "duration": 13,
    "start_time": "2022-05-11T10:02:23.934Z"
   },
   {
    "duration": 242,
    "start_time": "2022-05-11T10:02:23.950Z"
   },
   {
    "duration": 11,
    "start_time": "2022-05-11T10:02:24.195Z"
   },
   {
    "duration": 31,
    "start_time": "2022-05-11T10:02:24.209Z"
   },
   {
    "duration": 15,
    "start_time": "2022-05-11T10:04:23.402Z"
   },
   {
    "duration": 533,
    "start_time": "2022-05-11T10:04:30.378Z"
   },
   {
    "duration": 76,
    "start_time": "2022-05-11T10:04:30.913Z"
   },
   {
    "duration": 44,
    "start_time": "2022-05-11T10:04:30.992Z"
   },
   {
    "duration": 24,
    "start_time": "2022-05-11T10:04:31.039Z"
   },
   {
    "duration": 15,
    "start_time": "2022-05-11T10:04:31.066Z"
   },
   {
    "duration": 44,
    "start_time": "2022-05-11T10:04:31.083Z"
   },
   {
    "duration": 45,
    "start_time": "2022-05-11T10:04:31.129Z"
   },
   {
    "duration": 117,
    "start_time": "2022-05-11T10:04:31.176Z"
   },
   {
    "duration": 76,
    "start_time": "2022-05-11T10:04:31.295Z"
   },
   {
    "duration": 12,
    "start_time": "2022-05-11T10:04:31.375Z"
   },
   {
    "duration": 7,
    "start_time": "2022-05-11T10:04:31.390Z"
   },
   {
    "duration": 12,
    "start_time": "2022-05-11T10:04:31.399Z"
   },
   {
    "duration": 10,
    "start_time": "2022-05-11T10:04:31.414Z"
   },
   {
    "duration": 29,
    "start_time": "2022-05-11T10:04:31.427Z"
   },
   {
    "duration": 16,
    "start_time": "2022-05-11T10:04:31.459Z"
   },
   {
    "duration": 16,
    "start_time": "2022-05-11T10:04:31.478Z"
   },
   {
    "duration": 56,
    "start_time": "2022-05-11T10:04:31.497Z"
   },
   {
    "duration": 5,
    "start_time": "2022-05-11T10:04:31.555Z"
   },
   {
    "duration": 15,
    "start_time": "2022-05-11T10:04:31.562Z"
   },
   {
    "duration": 7,
    "start_time": "2022-05-11T10:04:31.579Z"
   },
   {
    "duration": 9,
    "start_time": "2022-05-11T10:04:31.588Z"
   },
   {
    "duration": 58,
    "start_time": "2022-05-11T10:04:31.598Z"
   },
   {
    "duration": 10,
    "start_time": "2022-05-11T10:04:31.658Z"
   },
   {
    "duration": 24,
    "start_time": "2022-05-11T10:04:31.670Z"
   },
   {
    "duration": 33,
    "start_time": "2022-05-11T10:04:31.696Z"
   },
   {
    "duration": 42,
    "start_time": "2022-05-11T10:04:31.731Z"
   },
   {
    "duration": 25,
    "start_time": "2022-05-11T10:04:31.776Z"
   },
   {
    "duration": 11,
    "start_time": "2022-05-11T10:04:31.807Z"
   },
   {
    "duration": 51,
    "start_time": "2022-05-11T10:04:31.821Z"
   },
   {
    "duration": 14,
    "start_time": "2022-05-11T10:04:31.874Z"
   },
   {
    "duration": 32,
    "start_time": "2022-05-11T10:04:31.891Z"
   },
   {
    "duration": 31,
    "start_time": "2022-05-11T10:04:31.926Z"
   },
   {
    "duration": 28,
    "start_time": "2022-05-11T10:04:31.960Z"
   },
   {
    "duration": 10,
    "start_time": "2022-05-11T10:04:31.990Z"
   },
   {
    "duration": 24,
    "start_time": "2022-05-11T10:04:32.025Z"
   },
   {
    "duration": 29,
    "start_time": "2022-05-11T10:04:32.051Z"
   },
   {
    "duration": 41,
    "start_time": "2022-05-11T10:04:32.082Z"
   },
   {
    "duration": 9,
    "start_time": "2022-05-11T10:04:32.126Z"
   },
   {
    "duration": 50,
    "start_time": "2022-05-11T10:04:32.137Z"
   },
   {
    "duration": 21,
    "start_time": "2022-05-11T10:04:32.189Z"
   },
   {
    "duration": 29,
    "start_time": "2022-05-11T10:04:32.212Z"
   },
   {
    "duration": 35,
    "start_time": "2022-05-11T10:04:32.243Z"
   },
   {
    "duration": 20,
    "start_time": "2022-05-11T10:04:32.280Z"
   },
   {
    "duration": 25,
    "start_time": "2022-05-11T10:04:32.302Z"
   },
   {
    "duration": 13,
    "start_time": "2022-05-11T10:04:32.330Z"
   },
   {
    "duration": 31,
    "start_time": "2022-05-11T10:04:32.345Z"
   },
   {
    "duration": 30,
    "start_time": "2022-05-11T10:04:32.378Z"
   },
   {
    "duration": 16,
    "start_time": "2022-05-11T10:04:32.410Z"
   },
   {
    "duration": 8,
    "start_time": "2022-05-11T10:04:32.428Z"
   },
   {
    "duration": 242,
    "start_time": "2022-05-11T10:04:32.439Z"
   },
   {
    "duration": 10,
    "start_time": "2022-05-11T10:04:32.683Z"
   },
   {
    "duration": 62,
    "start_time": "2022-05-11T10:04:32.695Z"
   },
   {
    "duration": 8,
    "start_time": "2022-05-11T10:05:41.659Z"
   },
   {
    "duration": 9,
    "start_time": "2022-05-11T10:05:44.909Z"
   },
   {
    "duration": 14,
    "start_time": "2022-05-11T10:05:45.484Z"
   },
   {
    "duration": 9,
    "start_time": "2022-05-11T10:06:11.040Z"
   },
   {
    "duration": 13,
    "start_time": "2022-05-11T10:06:11.684Z"
   },
   {
    "duration": 544,
    "start_time": "2022-05-11T10:06:20.118Z"
   },
   {
    "duration": 79,
    "start_time": "2022-05-11T10:06:20.665Z"
   },
   {
    "duration": 31,
    "start_time": "2022-05-11T10:06:20.746Z"
   },
   {
    "duration": 27,
    "start_time": "2022-05-11T10:06:20.780Z"
   },
   {
    "duration": 14,
    "start_time": "2022-05-11T10:06:20.825Z"
   },
   {
    "duration": 19,
    "start_time": "2022-05-11T10:06:20.842Z"
   },
   {
    "duration": 27,
    "start_time": "2022-05-11T10:06:20.863Z"
   },
   {
    "duration": 14,
    "start_time": "2022-05-11T10:06:20.893Z"
   },
   {
    "duration": 36,
    "start_time": "2022-05-11T10:06:20.909Z"
   },
   {
    "duration": 14,
    "start_time": "2022-05-11T10:06:20.949Z"
   },
   {
    "duration": 6,
    "start_time": "2022-05-11T10:06:20.965Z"
   },
   {
    "duration": 13,
    "start_time": "2022-05-11T10:06:20.973Z"
   },
   {
    "duration": 8,
    "start_time": "2022-05-11T10:06:20.988Z"
   },
   {
    "duration": 40,
    "start_time": "2022-05-11T10:06:20.998Z"
   },
   {
    "duration": 11,
    "start_time": "2022-05-11T10:06:21.040Z"
   },
   {
    "duration": 11,
    "start_time": "2022-05-11T10:06:21.053Z"
   },
   {
    "duration": 60,
    "start_time": "2022-05-11T10:06:21.067Z"
   },
   {
    "duration": 4,
    "start_time": "2022-05-11T10:06:21.129Z"
   },
   {
    "duration": 10,
    "start_time": "2022-05-11T10:06:21.136Z"
   },
   {
    "duration": 9,
    "start_time": "2022-05-11T10:06:21.148Z"
   },
   {
    "duration": 10,
    "start_time": "2022-05-11T10:06:21.160Z"
   },
   {
    "duration": 68,
    "start_time": "2022-05-11T10:06:21.172Z"
   },
   {
    "duration": 9,
    "start_time": "2022-05-11T10:06:21.242Z"
   },
   {
    "duration": 16,
    "start_time": "2022-05-11T10:06:21.253Z"
   },
   {
    "duration": 13,
    "start_time": "2022-05-11T10:06:21.272Z"
   },
   {
    "duration": 10,
    "start_time": "2022-05-11T10:06:21.287Z"
   },
   {
    "duration": 5,
    "start_time": "2022-05-11T10:06:21.324Z"
   },
   {
    "duration": 10,
    "start_time": "2022-05-11T10:06:21.335Z"
   },
   {
    "duration": 10,
    "start_time": "2022-05-11T10:06:21.348Z"
   },
   {
    "duration": 8,
    "start_time": "2022-05-11T10:06:21.360Z"
   },
   {
    "duration": 65,
    "start_time": "2022-05-11T10:06:21.370Z"
   },
   {
    "duration": 29,
    "start_time": "2022-05-11T10:06:21.437Z"
   },
   {
    "duration": 25,
    "start_time": "2022-05-11T10:06:21.468Z"
   },
   {
    "duration": 35,
    "start_time": "2022-05-11T10:06:21.495Z"
   },
   {
    "duration": 28,
    "start_time": "2022-05-11T10:06:21.532Z"
   },
   {
    "duration": 19,
    "start_time": "2022-05-11T10:06:21.562Z"
   },
   {
    "duration": 43,
    "start_time": "2022-05-11T10:06:21.584Z"
   },
   {
    "duration": 18,
    "start_time": "2022-05-11T10:06:21.629Z"
   },
   {
    "duration": 32,
    "start_time": "2022-05-11T10:06:21.649Z"
   },
   {
    "duration": 14,
    "start_time": "2022-05-11T10:06:21.683Z"
   },
   {
    "duration": 28,
    "start_time": "2022-05-11T10:06:21.700Z"
   },
   {
    "duration": 16,
    "start_time": "2022-05-11T10:06:21.730Z"
   },
   {
    "duration": 14,
    "start_time": "2022-05-11T10:06:21.748Z"
   },
   {
    "duration": 25,
    "start_time": "2022-05-11T10:06:21.764Z"
   },
   {
    "duration": 39,
    "start_time": "2022-05-11T10:06:21.792Z"
   },
   {
    "duration": 28,
    "start_time": "2022-05-11T10:06:21.834Z"
   },
   {
    "duration": 23,
    "start_time": "2022-05-11T10:06:21.864Z"
   },
   {
    "duration": 13,
    "start_time": "2022-05-11T10:06:21.890Z"
   },
   {
    "duration": 18,
    "start_time": "2022-05-11T10:06:21.906Z"
   },
   {
    "duration": 240,
    "start_time": "2022-05-11T10:06:21.927Z"
   },
   {
    "duration": 11,
    "start_time": "2022-05-11T10:06:22.169Z"
   },
   {
    "duration": 43,
    "start_time": "2022-05-11T10:06:22.182Z"
   },
   {
    "duration": 9,
    "start_time": "2022-05-11T10:09:04.973Z"
   },
   {
    "duration": 20,
    "start_time": "2022-05-11T10:09:05.597Z"
   },
   {
    "duration": 593,
    "start_time": "2022-05-11T10:09:14.575Z"
   },
   {
    "duration": 79,
    "start_time": "2022-05-11T10:09:15.171Z"
   },
   {
    "duration": 31,
    "start_time": "2022-05-11T10:09:15.252Z"
   },
   {
    "duration": 44,
    "start_time": "2022-05-11T10:09:15.286Z"
   },
   {
    "duration": 14,
    "start_time": "2022-05-11T10:09:15.332Z"
   },
   {
    "duration": 10,
    "start_time": "2022-05-11T10:09:15.348Z"
   },
   {
    "duration": 18,
    "start_time": "2022-05-11T10:09:15.361Z"
   },
   {
    "duration": 5,
    "start_time": "2022-05-11T10:09:15.381Z"
   },
   {
    "duration": 40,
    "start_time": "2022-05-11T10:09:15.388Z"
   },
   {
    "duration": 15,
    "start_time": "2022-05-11T10:09:15.432Z"
   },
   {
    "duration": 7,
    "start_time": "2022-05-11T10:09:15.450Z"
   },
   {
    "duration": 13,
    "start_time": "2022-05-11T10:09:15.459Z"
   },
   {
    "duration": 8,
    "start_time": "2022-05-11T10:09:15.475Z"
   },
   {
    "duration": 57,
    "start_time": "2022-05-11T10:09:15.486Z"
   },
   {
    "duration": 13,
    "start_time": "2022-05-11T10:09:15.545Z"
   },
   {
    "duration": 11,
    "start_time": "2022-05-11T10:09:15.560Z"
   },
   {
    "duration": 64,
    "start_time": "2022-05-11T10:09:15.573Z"
   },
   {
    "duration": 5,
    "start_time": "2022-05-11T10:09:15.639Z"
   },
   {
    "duration": 12,
    "start_time": "2022-05-11T10:09:15.646Z"
   },
   {
    "duration": 7,
    "start_time": "2022-05-11T10:09:15.660Z"
   },
   {
    "duration": 6,
    "start_time": "2022-05-11T10:09:15.669Z"
   },
   {
    "duration": 76,
    "start_time": "2022-05-11T10:09:15.677Z"
   },
   {
    "duration": 9,
    "start_time": "2022-05-11T10:09:15.756Z"
   },
   {
    "duration": 18,
    "start_time": "2022-05-11T10:09:15.767Z"
   },
   {
    "duration": 41,
    "start_time": "2022-05-11T10:09:15.787Z"
   },
   {
    "duration": 10,
    "start_time": "2022-05-11T10:09:15.831Z"
   },
   {
    "duration": 6,
    "start_time": "2022-05-11T10:09:15.843Z"
   },
   {
    "duration": 11,
    "start_time": "2022-05-11T10:09:15.854Z"
   },
   {
    "duration": 15,
    "start_time": "2022-05-11T10:09:15.867Z"
   },
   {
    "duration": 14,
    "start_time": "2022-05-11T10:09:15.885Z"
   },
   {
    "duration": 39,
    "start_time": "2022-05-11T10:09:15.925Z"
   },
   {
    "duration": 32,
    "start_time": "2022-05-11T10:09:15.966Z"
   },
   {
    "duration": 51,
    "start_time": "2022-05-11T10:09:16.000Z"
   },
   {
    "duration": 11,
    "start_time": "2022-05-11T10:09:16.054Z"
   },
   {
    "duration": 27,
    "start_time": "2022-05-11T10:09:16.067Z"
   },
   {
    "duration": 11,
    "start_time": "2022-05-11T10:09:16.125Z"
   },
   {
    "duration": 26,
    "start_time": "2022-05-11T10:09:16.139Z"
   },
   {
    "duration": 13,
    "start_time": "2022-05-11T10:09:16.167Z"
   },
   {
    "duration": 52,
    "start_time": "2022-05-11T10:09:16.182Z"
   },
   {
    "duration": 22,
    "start_time": "2022-05-11T10:09:16.236Z"
   },
   {
    "duration": 28,
    "start_time": "2022-05-11T10:09:16.262Z"
   },
   {
    "duration": 15,
    "start_time": "2022-05-11T10:09:16.292Z"
   },
   {
    "duration": 24,
    "start_time": "2022-05-11T10:09:16.309Z"
   },
   {
    "duration": 25,
    "start_time": "2022-05-11T10:09:16.335Z"
   },
   {
    "duration": 6,
    "start_time": "2022-05-11T10:09:16.363Z"
   },
   {
    "duration": 18,
    "start_time": "2022-05-11T10:09:16.372Z"
   },
   {
    "duration": 18,
    "start_time": "2022-05-11T10:09:16.425Z"
   },
   {
    "duration": 13,
    "start_time": "2022-05-11T10:09:16.445Z"
   },
   {
    "duration": 9,
    "start_time": "2022-05-11T10:09:16.461Z"
   },
   {
    "duration": 266,
    "start_time": "2022-05-11T10:09:16.472Z"
   },
   {
    "duration": 10,
    "start_time": "2022-05-11T10:09:16.741Z"
   },
   {
    "duration": 29,
    "start_time": "2022-05-11T10:09:16.753Z"
   },
   {
    "duration": 6,
    "start_time": "2022-05-11T10:16:28.382Z"
   },
   {
    "duration": 16,
    "start_time": "2022-05-11T10:16:29.016Z"
   },
   {
    "duration": 488,
    "start_time": "2022-05-11T10:16:35.067Z"
   },
   {
    "duration": 78,
    "start_time": "2022-05-11T10:16:35.557Z"
   },
   {
    "duration": 30,
    "start_time": "2022-05-11T10:16:35.637Z"
   },
   {
    "duration": 21,
    "start_time": "2022-05-11T10:16:35.670Z"
   },
   {
    "duration": 36,
    "start_time": "2022-05-11T10:16:35.694Z"
   },
   {
    "duration": 6,
    "start_time": "2022-05-11T10:16:35.732Z"
   },
   {
    "duration": 10,
    "start_time": "2022-05-11T10:16:35.740Z"
   },
   {
    "duration": 6,
    "start_time": "2022-05-11T10:16:35.752Z"
   },
   {
    "duration": 7,
    "start_time": "2022-05-11T10:16:35.760Z"
   },
   {
    "duration": 8,
    "start_time": "2022-05-11T10:16:35.770Z"
   },
   {
    "duration": 6,
    "start_time": "2022-05-11T10:16:35.823Z"
   },
   {
    "duration": 15,
    "start_time": "2022-05-11T10:16:35.831Z"
   },
   {
    "duration": 9,
    "start_time": "2022-05-11T10:16:35.848Z"
   },
   {
    "duration": 31,
    "start_time": "2022-05-11T10:16:35.859Z"
   },
   {
    "duration": 33,
    "start_time": "2022-05-11T10:16:35.892Z"
   },
   {
    "duration": 13,
    "start_time": "2022-05-11T10:16:35.927Z"
   },
   {
    "duration": 41,
    "start_time": "2022-05-11T10:16:35.942Z"
   },
   {
    "duration": 4,
    "start_time": "2022-05-11T10:16:35.985Z"
   },
   {
    "duration": 36,
    "start_time": "2022-05-11T10:16:35.991Z"
   },
   {
    "duration": 17,
    "start_time": "2022-05-11T10:16:36.029Z"
   },
   {
    "duration": 8,
    "start_time": "2022-05-11T10:16:36.048Z"
   },
   {
    "duration": 34,
    "start_time": "2022-05-11T10:16:36.058Z"
   },
   {
    "duration": 130,
    "start_time": "2022-05-11T10:16:36.094Z"
   },
   {
    "duration": 0,
    "start_time": "2022-05-11T10:16:36.228Z"
   },
   {
    "duration": 0,
    "start_time": "2022-05-11T10:16:36.230Z"
   },
   {
    "duration": 0,
    "start_time": "2022-05-11T10:16:36.231Z"
   },
   {
    "duration": 0,
    "start_time": "2022-05-11T10:16:36.233Z"
   },
   {
    "duration": 0,
    "start_time": "2022-05-11T10:16:36.234Z"
   },
   {
    "duration": 0,
    "start_time": "2022-05-11T10:16:36.235Z"
   },
   {
    "duration": 0,
    "start_time": "2022-05-11T10:16:36.237Z"
   },
   {
    "duration": 0,
    "start_time": "2022-05-11T10:16:36.239Z"
   },
   {
    "duration": 0,
    "start_time": "2022-05-11T10:16:36.240Z"
   },
   {
    "duration": 0,
    "start_time": "2022-05-11T10:16:36.242Z"
   },
   {
    "duration": 0,
    "start_time": "2022-05-11T10:16:36.243Z"
   },
   {
    "duration": 0,
    "start_time": "2022-05-11T10:16:36.244Z"
   },
   {
    "duration": 0,
    "start_time": "2022-05-11T10:16:36.246Z"
   },
   {
    "duration": 0,
    "start_time": "2022-05-11T10:16:36.247Z"
   },
   {
    "duration": 0,
    "start_time": "2022-05-11T10:16:36.249Z"
   },
   {
    "duration": 0,
    "start_time": "2022-05-11T10:16:36.250Z"
   },
   {
    "duration": 0,
    "start_time": "2022-05-11T10:16:36.252Z"
   },
   {
    "duration": 0,
    "start_time": "2022-05-11T10:16:36.253Z"
   },
   {
    "duration": 0,
    "start_time": "2022-05-11T10:16:36.254Z"
   },
   {
    "duration": 0,
    "start_time": "2022-05-11T10:16:36.256Z"
   },
   {
    "duration": 0,
    "start_time": "2022-05-11T10:16:36.257Z"
   },
   {
    "duration": 0,
    "start_time": "2022-05-11T10:16:36.258Z"
   },
   {
    "duration": 0,
    "start_time": "2022-05-11T10:16:36.259Z"
   },
   {
    "duration": 0,
    "start_time": "2022-05-11T10:16:36.260Z"
   },
   {
    "duration": 0,
    "start_time": "2022-05-11T10:16:36.262Z"
   },
   {
    "duration": 0,
    "start_time": "2022-05-11T10:16:36.264Z"
   },
   {
    "duration": 0,
    "start_time": "2022-05-11T10:16:36.325Z"
   },
   {
    "duration": 0,
    "start_time": "2022-05-11T10:16:36.326Z"
   },
   {
    "duration": 0,
    "start_time": "2022-05-11T10:16:36.328Z"
   },
   {
    "duration": 580,
    "start_time": "2022-05-11T10:19:37.692Z"
   },
   {
    "duration": 582,
    "start_time": "2022-05-11T10:20:07.459Z"
   },
   {
    "duration": 33,
    "start_time": "2022-05-11T10:34:49.057Z"
   },
   {
    "duration": 11,
    "start_time": "2022-05-11T10:35:04.846Z"
   },
   {
    "duration": 39,
    "start_time": "2022-05-11T10:35:07.751Z"
   },
   {
    "duration": 12,
    "start_time": "2022-05-11T10:42:12.096Z"
   },
   {
    "duration": 6,
    "start_time": "2022-05-11T10:42:33.304Z"
   },
   {
    "duration": 11,
    "start_time": "2022-05-11T10:43:35.467Z"
   },
   {
    "duration": 11,
    "start_time": "2022-05-11T10:44:06.801Z"
   },
   {
    "duration": 145,
    "start_time": "2022-05-11T10:45:28.759Z"
   },
   {
    "duration": 14,
    "start_time": "2022-05-11T10:46:18.325Z"
   },
   {
    "duration": 184,
    "start_time": "2022-05-11T10:51:45.864Z"
   },
   {
    "duration": 17,
    "start_time": "2022-05-11T10:53:56.080Z"
   },
   {
    "duration": 32,
    "start_time": "2022-05-11T10:59:04.888Z"
   },
   {
    "duration": 237,
    "start_time": "2022-05-11T11:00:24.295Z"
   },
   {
    "duration": 235,
    "start_time": "2022-05-11T11:03:45.594Z"
   },
   {
    "duration": 15,
    "start_time": "2022-05-11T11:03:50.328Z"
   },
   {
    "duration": 559,
    "start_time": "2022-05-11T11:04:01.594Z"
   },
   {
    "duration": 81,
    "start_time": "2022-05-11T11:04:02.156Z"
   },
   {
    "duration": 34,
    "start_time": "2022-05-11T11:04:02.239Z"
   },
   {
    "duration": 48,
    "start_time": "2022-05-11T11:04:02.277Z"
   },
   {
    "duration": 15,
    "start_time": "2022-05-11T11:04:02.327Z"
   },
   {
    "duration": 37,
    "start_time": "2022-05-11T11:04:02.345Z"
   },
   {
    "duration": 47,
    "start_time": "2022-05-11T11:04:02.385Z"
   },
   {
    "duration": 31,
    "start_time": "2022-05-11T11:04:02.435Z"
   },
   {
    "duration": 18,
    "start_time": "2022-05-11T11:04:02.469Z"
   },
   {
    "duration": 23,
    "start_time": "2022-05-11T11:04:02.491Z"
   },
   {
    "duration": 33,
    "start_time": "2022-05-11T11:04:02.516Z"
   },
   {
    "duration": 23,
    "start_time": "2022-05-11T11:04:02.552Z"
   },
   {
    "duration": 16,
    "start_time": "2022-05-11T11:04:02.578Z"
   },
   {
    "duration": 26,
    "start_time": "2022-05-11T11:04:02.596Z"
   },
   {
    "duration": 12,
    "start_time": "2022-05-11T11:04:02.624Z"
   },
   {
    "duration": 10,
    "start_time": "2022-05-11T11:04:02.639Z"
   },
   {
    "duration": 48,
    "start_time": "2022-05-11T11:04:02.651Z"
   },
   {
    "duration": 5,
    "start_time": "2022-05-11T11:04:02.725Z"
   },
   {
    "duration": 13,
    "start_time": "2022-05-11T11:04:02.732Z"
   },
   {
    "duration": 13,
    "start_time": "2022-05-11T11:04:02.747Z"
   },
   {
    "duration": 14,
    "start_time": "2022-05-11T11:04:02.762Z"
   },
   {
    "duration": 70,
    "start_time": "2022-05-11T11:04:02.779Z"
   },
   {
    "duration": 253,
    "start_time": "2022-05-11T11:04:02.852Z"
   },
   {
    "duration": 18,
    "start_time": "2022-05-11T11:04:03.108Z"
   },
   {
    "duration": 17,
    "start_time": "2022-05-11T11:04:03.129Z"
   },
   {
    "duration": 21,
    "start_time": "2022-05-11T11:04:03.149Z"
   },
   {
    "duration": 78,
    "start_time": "2022-05-11T11:04:03.172Z"
   },
   {
    "duration": 21,
    "start_time": "2022-05-11T11:04:03.256Z"
   },
   {
    "duration": 18,
    "start_time": "2022-05-11T11:04:03.280Z"
   },
   {
    "duration": 68,
    "start_time": "2022-05-11T11:04:03.300Z"
   },
   {
    "duration": 100,
    "start_time": "2022-05-11T11:04:03.371Z"
   },
   {
    "duration": 30,
    "start_time": "2022-05-11T11:04:03.474Z"
   },
   {
    "duration": 27,
    "start_time": "2022-05-11T11:04:03.507Z"
   },
   {
    "duration": 11,
    "start_time": "2022-05-11T11:04:03.537Z"
   },
   {
    "duration": 45,
    "start_time": "2022-05-11T11:04:03.550Z"
   },
   {
    "duration": 31,
    "start_time": "2022-05-11T11:04:03.598Z"
   },
   {
    "duration": 45,
    "start_time": "2022-05-11T11:04:03.632Z"
   },
   {
    "duration": 23,
    "start_time": "2022-05-11T11:04:03.680Z"
   },
   {
    "duration": 41,
    "start_time": "2022-05-11T11:04:03.706Z"
   },
   {
    "duration": 25,
    "start_time": "2022-05-11T11:04:03.750Z"
   },
   {
    "duration": 20,
    "start_time": "2022-05-11T11:04:03.778Z"
   },
   {
    "duration": 27,
    "start_time": "2022-05-11T11:04:03.801Z"
   },
   {
    "duration": 21,
    "start_time": "2022-05-11T11:04:03.831Z"
   },
   {
    "duration": 26,
    "start_time": "2022-05-11T11:04:03.854Z"
   },
   {
    "duration": 8,
    "start_time": "2022-05-11T11:04:03.883Z"
   },
   {
    "duration": 15,
    "start_time": "2022-05-11T11:04:03.925Z"
   },
   {
    "duration": 27,
    "start_time": "2022-05-11T11:04:03.942Z"
   },
   {
    "duration": 32,
    "start_time": "2022-05-11T11:04:03.972Z"
   },
   {
    "duration": 28,
    "start_time": "2022-05-11T11:04:04.007Z"
   },
   {
    "duration": 235,
    "start_time": "2022-05-11T11:04:04.037Z"
   },
   {
    "duration": 14,
    "start_time": "2022-05-11T11:04:04.275Z"
   },
   {
    "duration": 44,
    "start_time": "2022-05-11T11:04:04.292Z"
   },
   {
    "duration": 37,
    "start_time": "2022-05-11T11:04:18.041Z"
   },
   {
    "duration": 238,
    "start_time": "2022-05-11T11:05:14.649Z"
   },
   {
    "duration": 16,
    "start_time": "2022-05-11T11:05:19.475Z"
   },
   {
    "duration": 630,
    "start_time": "2022-05-11T11:05:27.962Z"
   },
   {
    "duration": 117,
    "start_time": "2022-05-11T11:05:28.596Z"
   },
   {
    "duration": 45,
    "start_time": "2022-05-11T11:05:28.716Z"
   },
   {
    "duration": 22,
    "start_time": "2022-05-11T11:05:28.764Z"
   },
   {
    "duration": 40,
    "start_time": "2022-05-11T11:05:28.788Z"
   },
   {
    "duration": 6,
    "start_time": "2022-05-11T11:05:28.831Z"
   },
   {
    "duration": 18,
    "start_time": "2022-05-11T11:05:28.840Z"
   },
   {
    "duration": 12,
    "start_time": "2022-05-11T11:05:28.861Z"
   },
   {
    "duration": 27,
    "start_time": "2022-05-11T11:05:28.876Z"
   },
   {
    "duration": 20,
    "start_time": "2022-05-11T11:05:28.907Z"
   },
   {
    "duration": 35,
    "start_time": "2022-05-11T11:05:28.930Z"
   },
   {
    "duration": 39,
    "start_time": "2022-05-11T11:05:28.968Z"
   },
   {
    "duration": 30,
    "start_time": "2022-05-11T11:05:29.010Z"
   },
   {
    "duration": 45,
    "start_time": "2022-05-11T11:05:29.042Z"
   },
   {
    "duration": 29,
    "start_time": "2022-05-11T11:05:29.090Z"
   },
   {
    "duration": 30,
    "start_time": "2022-05-11T11:05:29.121Z"
   },
   {
    "duration": 44,
    "start_time": "2022-05-11T11:05:29.153Z"
   },
   {
    "duration": 4,
    "start_time": "2022-05-11T11:05:29.200Z"
   },
   {
    "duration": 27,
    "start_time": "2022-05-11T11:05:29.207Z"
   },
   {
    "duration": 8,
    "start_time": "2022-05-11T11:05:29.236Z"
   },
   {
    "duration": 14,
    "start_time": "2022-05-11T11:05:29.246Z"
   },
   {
    "duration": 43,
    "start_time": "2022-05-11T11:05:29.262Z"
   },
   {
    "duration": 246,
    "start_time": "2022-05-11T11:05:29.325Z"
   },
   {
    "duration": 15,
    "start_time": "2022-05-11T11:05:29.574Z"
   },
   {
    "duration": 13,
    "start_time": "2022-05-11T11:05:29.592Z"
   },
   {
    "duration": 12,
    "start_time": "2022-05-11T11:05:29.625Z"
   },
   {
    "duration": 17,
    "start_time": "2022-05-11T11:05:29.640Z"
   },
   {
    "duration": 9,
    "start_time": "2022-05-11T11:05:29.662Z"
   },
   {
    "duration": 25,
    "start_time": "2022-05-11T11:05:29.673Z"
   },
   {
    "duration": 37,
    "start_time": "2022-05-11T11:05:29.700Z"
   },
   {
    "duration": 35,
    "start_time": "2022-05-11T11:05:29.740Z"
   },
   {
    "duration": 52,
    "start_time": "2022-05-11T11:05:29.779Z"
   },
   {
    "duration": 35,
    "start_time": "2022-05-11T11:05:29.834Z"
   },
   {
    "duration": 25,
    "start_time": "2022-05-11T11:05:29.872Z"
   },
   {
    "duration": 44,
    "start_time": "2022-05-11T11:05:29.899Z"
   },
   {
    "duration": 11,
    "start_time": "2022-05-11T11:05:29.945Z"
   },
   {
    "duration": 43,
    "start_time": "2022-05-11T11:05:29.959Z"
   },
   {
    "duration": 41,
    "start_time": "2022-05-11T11:05:30.005Z"
   },
   {
    "duration": 35,
    "start_time": "2022-05-11T11:05:30.049Z"
   },
   {
    "duration": 28,
    "start_time": "2022-05-11T11:05:30.087Z"
   },
   {
    "duration": 30,
    "start_time": "2022-05-11T11:05:30.117Z"
   },
   {
    "duration": 24,
    "start_time": "2022-05-11T11:05:30.150Z"
   },
   {
    "duration": 22,
    "start_time": "2022-05-11T11:05:30.176Z"
   },
   {
    "duration": 36,
    "start_time": "2022-05-11T11:05:30.201Z"
   },
   {
    "duration": 8,
    "start_time": "2022-05-11T11:05:30.240Z"
   },
   {
    "duration": 24,
    "start_time": "2022-05-11T11:05:30.252Z"
   },
   {
    "duration": 24,
    "start_time": "2022-05-11T11:05:30.279Z"
   },
   {
    "duration": 25,
    "start_time": "2022-05-11T11:05:30.306Z"
   },
   {
    "duration": 16,
    "start_time": "2022-05-11T11:05:30.334Z"
   },
   {
    "duration": 245,
    "start_time": "2022-05-11T11:05:30.353Z"
   },
   {
    "duration": 12,
    "start_time": "2022-05-11T11:05:30.600Z"
   },
   {
    "duration": 23,
    "start_time": "2022-05-11T11:05:30.625Z"
   },
   {
    "duration": 46,
    "start_time": "2022-05-11T11:06:47.524Z"
   },
   {
    "duration": 6,
    "start_time": "2022-05-11T11:07:39.403Z"
   },
   {
    "duration": 8,
    "start_time": "2022-05-11T11:08:27.949Z"
   },
   {
    "duration": 496,
    "start_time": "2022-05-11T11:08:33.763Z"
   },
   {
    "duration": 81,
    "start_time": "2022-05-11T11:08:34.262Z"
   },
   {
    "duration": 32,
    "start_time": "2022-05-11T11:08:34.346Z"
   },
   {
    "duration": 44,
    "start_time": "2022-05-11T11:08:34.381Z"
   },
   {
    "duration": 15,
    "start_time": "2022-05-11T11:08:34.427Z"
   },
   {
    "duration": 10,
    "start_time": "2022-05-11T11:08:34.445Z"
   },
   {
    "duration": 11,
    "start_time": "2022-05-11T11:08:34.458Z"
   },
   {
    "duration": 7,
    "start_time": "2022-05-11T11:08:34.472Z"
   },
   {
    "duration": 50,
    "start_time": "2022-05-11T11:08:34.481Z"
   },
   {
    "duration": 13,
    "start_time": "2022-05-11T11:08:34.536Z"
   },
   {
    "duration": 5,
    "start_time": "2022-05-11T11:08:34.551Z"
   },
   {
    "duration": 16,
    "start_time": "2022-05-11T11:08:34.559Z"
   },
   {
    "duration": 10,
    "start_time": "2022-05-11T11:08:34.577Z"
   },
   {
    "duration": 24,
    "start_time": "2022-05-11T11:08:34.625Z"
   },
   {
    "duration": 19,
    "start_time": "2022-05-11T11:08:34.651Z"
   },
   {
    "duration": 11,
    "start_time": "2022-05-11T11:08:34.673Z"
   },
   {
    "duration": 60,
    "start_time": "2022-05-11T11:08:34.687Z"
   },
   {
    "duration": 4,
    "start_time": "2022-05-11T11:08:34.750Z"
   },
   {
    "duration": 10,
    "start_time": "2022-05-11T11:08:34.757Z"
   },
   {
    "duration": 10,
    "start_time": "2022-05-11T11:08:34.769Z"
   },
   {
    "duration": 44,
    "start_time": "2022-05-11T11:08:34.782Z"
   },
   {
    "duration": 48,
    "start_time": "2022-05-11T11:08:34.829Z"
   },
   {
    "duration": 261,
    "start_time": "2022-05-11T11:08:34.880Z"
   },
   {
    "duration": 34,
    "start_time": "2022-05-11T11:08:35.144Z"
   },
   {
    "duration": 8,
    "start_time": "2022-05-11T11:08:35.181Z"
   },
   {
    "duration": 56,
    "start_time": "2022-05-11T11:08:35.191Z"
   },
   {
    "duration": 11,
    "start_time": "2022-05-11T11:08:35.250Z"
   },
   {
    "duration": 27,
    "start_time": "2022-05-11T11:08:35.266Z"
   },
   {
    "duration": 30,
    "start_time": "2022-05-11T11:08:35.295Z"
   },
   {
    "duration": 15,
    "start_time": "2022-05-11T11:08:35.328Z"
   },
   {
    "duration": 23,
    "start_time": "2022-05-11T11:08:35.346Z"
   },
   {
    "duration": 29,
    "start_time": "2022-05-11T11:08:35.371Z"
   },
   {
    "duration": 45,
    "start_time": "2022-05-11T11:08:35.402Z"
   },
   {
    "duration": 35,
    "start_time": "2022-05-11T11:08:35.449Z"
   },
   {
    "duration": 55,
    "start_time": "2022-05-11T11:08:35.486Z"
   },
   {
    "duration": 11,
    "start_time": "2022-05-11T11:08:35.543Z"
   },
   {
    "duration": 43,
    "start_time": "2022-05-11T11:08:35.556Z"
   },
   {
    "duration": 28,
    "start_time": "2022-05-11T11:08:35.602Z"
   },
   {
    "duration": 47,
    "start_time": "2022-05-11T11:08:35.633Z"
   },
   {
    "duration": 27,
    "start_time": "2022-05-11T11:08:35.682Z"
   },
   {
    "duration": 60,
    "start_time": "2022-05-11T11:08:35.711Z"
   },
   {
    "duration": 35,
    "start_time": "2022-05-11T11:08:35.774Z"
   },
   {
    "duration": 46,
    "start_time": "2022-05-11T11:08:35.811Z"
   },
   {
    "duration": 44,
    "start_time": "2022-05-11T11:08:35.860Z"
   },
   {
    "duration": 29,
    "start_time": "2022-05-11T11:08:35.906Z"
   },
   {
    "duration": 78,
    "start_time": "2022-05-11T11:08:35.937Z"
   },
   {
    "duration": 30,
    "start_time": "2022-05-11T11:08:36.018Z"
   },
   {
    "duration": 59,
    "start_time": "2022-05-11T11:08:36.050Z"
   },
   {
    "duration": 48,
    "start_time": "2022-05-11T11:08:36.112Z"
   },
   {
    "duration": 34,
    "start_time": "2022-05-11T11:08:36.163Z"
   },
   {
    "duration": 35,
    "start_time": "2022-05-11T11:08:36.200Z"
   },
   {
    "duration": 493,
    "start_time": "2022-05-11T11:08:36.237Z"
   },
   {
    "duration": 9,
    "start_time": "2022-05-11T11:08:36.732Z"
   },
   {
    "duration": 95,
    "start_time": "2022-05-11T11:08:36.744Z"
   },
   {
    "duration": 6,
    "start_time": "2022-05-11T11:09:08.738Z"
   },
   {
    "duration": 555,
    "start_time": "2022-05-11T11:09:30.811Z"
   },
   {
    "duration": 79,
    "start_time": "2022-05-11T11:09:31.369Z"
   },
   {
    "duration": 33,
    "start_time": "2022-05-11T11:09:31.450Z"
   },
   {
    "duration": 48,
    "start_time": "2022-05-11T11:09:31.485Z"
   },
   {
    "duration": 15,
    "start_time": "2022-05-11T11:09:31.536Z"
   },
   {
    "duration": 11,
    "start_time": "2022-05-11T11:09:31.553Z"
   },
   {
    "duration": 21,
    "start_time": "2022-05-11T11:09:31.566Z"
   },
   {
    "duration": 10,
    "start_time": "2022-05-11T11:09:31.589Z"
   },
   {
    "duration": 28,
    "start_time": "2022-05-11T11:09:31.602Z"
   },
   {
    "duration": 103,
    "start_time": "2022-05-11T11:09:31.632Z"
   },
   {
    "duration": 27,
    "start_time": "2022-05-11T11:09:31.738Z"
   },
   {
    "duration": 70,
    "start_time": "2022-05-11T11:09:31.768Z"
   },
   {
    "duration": 24,
    "start_time": "2022-05-11T11:09:31.840Z"
   },
   {
    "duration": 38,
    "start_time": "2022-05-11T11:09:31.868Z"
   },
   {
    "duration": 17,
    "start_time": "2022-05-11T11:09:31.908Z"
   },
   {
    "duration": 37,
    "start_time": "2022-05-11T11:09:31.927Z"
   },
   {
    "duration": 76,
    "start_time": "2022-05-11T11:09:31.966Z"
   },
   {
    "duration": 257,
    "start_time": "2022-05-11T11:09:32.045Z"
   },
   {
    "duration": 17,
    "start_time": "2022-05-11T11:09:32.305Z"
   },
   {
    "duration": 36,
    "start_time": "2022-05-11T11:09:32.325Z"
   },
   {
    "duration": 19,
    "start_time": "2022-05-11T11:09:32.363Z"
   },
   {
    "duration": 58,
    "start_time": "2022-05-11T11:09:32.385Z"
   },
   {
    "duration": 297,
    "start_time": "2022-05-11T11:09:32.446Z"
   },
   {
    "duration": 87,
    "start_time": "2022-05-11T11:09:32.745Z"
   },
   {
    "duration": 6,
    "start_time": "2022-05-11T11:09:32.835Z"
   },
   {
    "duration": 13,
    "start_time": "2022-05-11T11:09:32.843Z"
   },
   {
    "duration": 70,
    "start_time": "2022-05-11T11:09:32.858Z"
   },
   {
    "duration": 27,
    "start_time": "2022-05-11T11:09:32.930Z"
   },
   {
    "duration": 7,
    "start_time": "2022-05-11T11:09:32.959Z"
   },
   {
    "duration": 10,
    "start_time": "2022-05-11T11:09:32.969Z"
   },
   {
    "duration": 10,
    "start_time": "2022-05-11T11:09:33.024Z"
   },
   {
    "duration": 19,
    "start_time": "2022-05-11T11:09:33.037Z"
   },
   {
    "duration": 78,
    "start_time": "2022-05-11T11:09:33.058Z"
   },
   {
    "duration": 94,
    "start_time": "2022-05-11T11:09:33.139Z"
   },
   {
    "duration": 27,
    "start_time": "2022-05-11T11:09:33.235Z"
   },
   {
    "duration": 67,
    "start_time": "2022-05-11T11:09:33.264Z"
   },
   {
    "duration": 27,
    "start_time": "2022-05-11T11:09:33.333Z"
   },
   {
    "duration": 66,
    "start_time": "2022-05-11T11:09:33.362Z"
   },
   {
    "duration": 35,
    "start_time": "2022-05-11T11:09:33.431Z"
   },
   {
    "duration": 62,
    "start_time": "2022-05-11T11:09:33.469Z"
   },
   {
    "duration": 21,
    "start_time": "2022-05-11T11:09:33.537Z"
   },
   {
    "duration": 66,
    "start_time": "2022-05-11T11:09:33.560Z"
   },
   {
    "duration": 14,
    "start_time": "2022-05-11T11:09:33.629Z"
   },
   {
    "duration": 15,
    "start_time": "2022-05-11T11:09:33.645Z"
   },
   {
    "duration": 68,
    "start_time": "2022-05-11T11:09:33.662Z"
   },
   {
    "duration": 27,
    "start_time": "2022-05-11T11:09:33.733Z"
   },
   {
    "duration": 9,
    "start_time": "2022-05-11T11:09:33.762Z"
   },
   {
    "duration": 15,
    "start_time": "2022-05-11T11:09:33.825Z"
   },
   {
    "duration": 25,
    "start_time": "2022-05-11T11:09:33.843Z"
   },
   {
    "duration": 76,
    "start_time": "2022-05-11T11:09:33.870Z"
   },
   {
    "duration": 15,
    "start_time": "2022-05-11T11:09:33.949Z"
   },
   {
    "duration": 478,
    "start_time": "2022-05-11T11:09:33.966Z"
   },
   {
    "duration": 11,
    "start_time": "2022-05-11T11:09:34.446Z"
   },
   {
    "duration": 76,
    "start_time": "2022-05-11T11:09:34.459Z"
   },
   {
    "duration": 7,
    "start_time": "2022-05-11T11:10:21.752Z"
   },
   {
    "duration": 690,
    "start_time": "2022-05-11T11:10:39.408Z"
   },
   {
    "duration": 111,
    "start_time": "2022-05-11T11:10:40.101Z"
   },
   {
    "duration": 52,
    "start_time": "2022-05-11T11:10:40.215Z"
   },
   {
    "duration": 24,
    "start_time": "2022-05-11T11:10:40.271Z"
   },
   {
    "duration": 45,
    "start_time": "2022-05-11T11:10:40.298Z"
   },
   {
    "duration": 8,
    "start_time": "2022-05-11T11:10:40.345Z"
   },
   {
    "duration": 14,
    "start_time": "2022-05-11T11:10:40.355Z"
   },
   {
    "duration": 5,
    "start_time": "2022-05-11T11:10:40.372Z"
   },
   {
    "duration": 47,
    "start_time": "2022-05-11T11:10:40.379Z"
   },
   {
    "duration": 9,
    "start_time": "2022-05-11T11:10:40.430Z"
   },
   {
    "duration": 7,
    "start_time": "2022-05-11T11:10:40.441Z"
   },
   {
    "duration": 12,
    "start_time": "2022-05-11T11:10:40.450Z"
   },
   {
    "duration": 10,
    "start_time": "2022-05-11T11:10:40.464Z"
   },
   {
    "duration": 59,
    "start_time": "2022-05-11T11:10:40.477Z"
   },
   {
    "duration": 6,
    "start_time": "2022-05-11T11:10:40.540Z"
   },
   {
    "duration": 10,
    "start_time": "2022-05-11T11:10:40.549Z"
   },
   {
    "duration": 84,
    "start_time": "2022-05-11T11:10:40.561Z"
   },
   {
    "duration": 6,
    "start_time": "2022-05-11T11:10:40.648Z"
   },
   {
    "duration": 11,
    "start_time": "2022-05-11T11:10:40.657Z"
   },
   {
    "duration": 8,
    "start_time": "2022-05-11T11:10:40.670Z"
   },
   {
    "duration": 9,
    "start_time": "2022-05-11T11:10:40.680Z"
   },
   {
    "duration": 50,
    "start_time": "2022-05-11T11:10:40.725Z"
   },
   {
    "duration": 421,
    "start_time": "2022-05-11T11:10:40.777Z"
   },
   {
    "duration": 55,
    "start_time": "2022-05-11T11:10:41.201Z"
   },
   {
    "duration": 8,
    "start_time": "2022-05-11T11:10:41.258Z"
   },
   {
    "duration": 9,
    "start_time": "2022-05-11T11:10:41.268Z"
   },
   {
    "duration": 49,
    "start_time": "2022-05-11T11:10:41.279Z"
   },
   {
    "duration": 6,
    "start_time": "2022-05-11T11:10:41.333Z"
   },
   {
    "duration": 11,
    "start_time": "2022-05-11T11:10:41.342Z"
   },
   {
    "duration": 10,
    "start_time": "2022-05-11T11:10:41.356Z"
   },
   {
    "duration": 11,
    "start_time": "2022-05-11T11:10:41.369Z"
   },
   {
    "duration": 51,
    "start_time": "2022-05-11T11:10:41.383Z"
   },
   {
    "duration": 31,
    "start_time": "2022-05-11T11:10:41.436Z"
   },
   {
    "duration": 58,
    "start_time": "2022-05-11T11:10:41.470Z"
   },
   {
    "duration": 35,
    "start_time": "2022-05-11T11:10:41.530Z"
   },
   {
    "duration": 10,
    "start_time": "2022-05-11T11:10:41.567Z"
   },
   {
    "duration": 65,
    "start_time": "2022-05-11T11:10:41.580Z"
   },
   {
    "duration": 11,
    "start_time": "2022-05-11T11:10:41.648Z"
   },
   {
    "duration": 27,
    "start_time": "2022-05-11T11:10:41.661Z"
   },
   {
    "duration": 44,
    "start_time": "2022-05-11T11:10:41.690Z"
   },
   {
    "duration": 23,
    "start_time": "2022-05-11T11:10:41.736Z"
   },
   {
    "duration": 11,
    "start_time": "2022-05-11T11:10:41.762Z"
   },
   {
    "duration": 50,
    "start_time": "2022-05-11T11:10:41.775Z"
   },
   {
    "duration": 16,
    "start_time": "2022-05-11T11:10:41.827Z"
   },
   {
    "duration": 20,
    "start_time": "2022-05-11T11:10:41.846Z"
   },
   {
    "duration": 60,
    "start_time": "2022-05-11T11:10:41.869Z"
   },
   {
    "duration": 8,
    "start_time": "2022-05-11T11:10:41.932Z"
   },
   {
    "duration": 29,
    "start_time": "2022-05-11T11:10:41.943Z"
   },
   {
    "duration": 52,
    "start_time": "2022-05-11T11:10:41.975Z"
   },
   {
    "duration": 16,
    "start_time": "2022-05-11T11:10:42.029Z"
   },
   {
    "duration": 15,
    "start_time": "2022-05-11T11:10:42.047Z"
   },
   {
    "duration": 248,
    "start_time": "2022-05-11T11:10:42.065Z"
   },
   {
    "duration": 15,
    "start_time": "2022-05-11T11:10:42.316Z"
   },
   {
    "duration": 43,
    "start_time": "2022-05-11T11:10:42.333Z"
   },
   {
    "duration": 14,
    "start_time": "2022-05-11T11:11:33.592Z"
   },
   {
    "duration": 21,
    "start_time": "2022-05-11T11:11:50.546Z"
   },
   {
    "duration": 567,
    "start_time": "2022-05-11T11:11:54.794Z"
   },
   {
    "duration": 82,
    "start_time": "2022-05-11T11:11:55.364Z"
   },
   {
    "duration": 32,
    "start_time": "2022-05-11T11:11:55.448Z"
   },
   {
    "duration": 45,
    "start_time": "2022-05-11T11:11:55.484Z"
   },
   {
    "duration": 16,
    "start_time": "2022-05-11T11:11:55.532Z"
   },
   {
    "duration": 8,
    "start_time": "2022-05-11T11:11:55.551Z"
   },
   {
    "duration": 10,
    "start_time": "2022-05-11T11:11:55.562Z"
   },
   {
    "duration": 6,
    "start_time": "2022-05-11T11:11:55.574Z"
   },
   {
    "duration": 7,
    "start_time": "2022-05-11T11:11:55.625Z"
   },
   {
    "duration": 10,
    "start_time": "2022-05-11T11:11:55.636Z"
   },
   {
    "duration": 7,
    "start_time": "2022-05-11T11:11:55.648Z"
   },
   {
    "duration": 13,
    "start_time": "2022-05-11T11:11:55.658Z"
   },
   {
    "duration": 51,
    "start_time": "2022-05-11T11:11:55.673Z"
   },
   {
    "duration": 23,
    "start_time": "2022-05-11T11:11:55.727Z"
   },
   {
    "duration": 7,
    "start_time": "2022-05-11T11:11:55.752Z"
   },
   {
    "duration": 10,
    "start_time": "2022-05-11T11:11:55.761Z"
   },
   {
    "duration": 78,
    "start_time": "2022-05-11T11:11:55.773Z"
   },
   {
    "duration": 4,
    "start_time": "2022-05-11T11:11:55.855Z"
   },
   {
    "duration": 12,
    "start_time": "2022-05-11T11:11:55.862Z"
   },
   {
    "duration": 8,
    "start_time": "2022-05-11T11:11:55.876Z"
   },
   {
    "duration": 44,
    "start_time": "2022-05-11T11:11:55.886Z"
   },
   {
    "duration": 59,
    "start_time": "2022-05-11T11:11:55.932Z"
   },
   {
    "duration": 302,
    "start_time": "2022-05-11T11:11:55.994Z"
   },
   {
    "duration": 51,
    "start_time": "2022-05-11T11:11:56.299Z"
   },
   {
    "duration": 8,
    "start_time": "2022-05-11T11:11:56.353Z"
   },
   {
    "duration": 16,
    "start_time": "2022-05-11T11:11:56.363Z"
   },
   {
    "duration": 44,
    "start_time": "2022-05-11T11:11:56.382Z"
   },
   {
    "duration": 5,
    "start_time": "2022-05-11T11:11:56.432Z"
   },
   {
    "duration": 8,
    "start_time": "2022-05-11T11:11:56.440Z"
   },
   {
    "duration": 15,
    "start_time": "2022-05-11T11:11:56.450Z"
   },
   {
    "duration": 10,
    "start_time": "2022-05-11T11:11:56.468Z"
   },
   {
    "duration": 45,
    "start_time": "2022-05-11T11:11:56.481Z"
   },
   {
    "duration": 39,
    "start_time": "2022-05-11T11:11:56.529Z"
   },
   {
    "duration": 31,
    "start_time": "2022-05-11T11:11:56.625Z"
   },
   {
    "duration": 79,
    "start_time": "2022-05-11T11:11:56.658Z"
   },
   {
    "duration": 10,
    "start_time": "2022-05-11T11:11:56.739Z"
   },
   {
    "duration": 78,
    "start_time": "2022-05-11T11:11:56.751Z"
   },
   {
    "duration": 10,
    "start_time": "2022-05-11T11:11:56.831Z"
   },
   {
    "duration": 83,
    "start_time": "2022-05-11T11:11:56.843Z"
   },
   {
    "duration": 15,
    "start_time": "2022-05-11T11:11:56.929Z"
   },
   {
    "duration": 84,
    "start_time": "2022-05-11T11:11:56.946Z"
   },
   {
    "duration": 18,
    "start_time": "2022-05-11T11:11:57.032Z"
   },
   {
    "duration": 21,
    "start_time": "2022-05-11T11:11:57.052Z"
   },
   {
    "duration": 12,
    "start_time": "2022-05-11T11:11:57.125Z"
   },
   {
    "duration": 13,
    "start_time": "2022-05-11T11:11:57.139Z"
   },
   {
    "duration": 81,
    "start_time": "2022-05-11T11:11:57.155Z"
   },
   {
    "duration": 7,
    "start_time": "2022-05-11T11:11:57.238Z"
   },
   {
    "duration": 81,
    "start_time": "2022-05-11T11:11:57.248Z"
   },
   {
    "duration": 18,
    "start_time": "2022-05-11T11:11:57.332Z"
   },
   {
    "duration": 74,
    "start_time": "2022-05-11T11:11:57.353Z"
   },
   {
    "duration": 8,
    "start_time": "2022-05-11T11:11:57.429Z"
   },
   {
    "duration": 427,
    "start_time": "2022-05-11T11:11:57.440Z"
   },
   {
    "duration": 10,
    "start_time": "2022-05-11T11:11:57.924Z"
   },
   {
    "duration": 24,
    "start_time": "2022-05-11T11:11:57.936Z"
   },
   {
    "duration": 521,
    "start_time": "2022-05-11T11:12:46.225Z"
   },
   {
    "duration": 85,
    "start_time": "2022-05-11T11:12:46.749Z"
   },
   {
    "duration": 33,
    "start_time": "2022-05-11T11:12:46.837Z"
   },
   {
    "duration": 23,
    "start_time": "2022-05-11T11:12:46.873Z"
   },
   {
    "duration": 17,
    "start_time": "2022-05-11T11:12:46.924Z"
   },
   {
    "duration": 7,
    "start_time": "2022-05-11T11:12:46.944Z"
   },
   {
    "duration": 9,
    "start_time": "2022-05-11T11:12:46.954Z"
   },
   {
    "duration": 5,
    "start_time": "2022-05-11T11:12:46.966Z"
   },
   {
    "duration": 53,
    "start_time": "2022-05-11T11:12:46.973Z"
   },
   {
    "duration": 9,
    "start_time": "2022-05-11T11:12:47.030Z"
   },
   {
    "duration": 6,
    "start_time": "2022-05-11T11:12:47.041Z"
   },
   {
    "duration": 18,
    "start_time": "2022-05-11T11:12:47.050Z"
   },
   {
    "duration": 10,
    "start_time": "2022-05-11T11:12:47.070Z"
   },
   {
    "duration": 56,
    "start_time": "2022-05-11T11:12:47.082Z"
   },
   {
    "duration": 8,
    "start_time": "2022-05-11T11:12:47.141Z"
   },
   {
    "duration": 10,
    "start_time": "2022-05-11T11:12:47.151Z"
   },
   {
    "duration": 74,
    "start_time": "2022-05-11T11:12:47.164Z"
   },
   {
    "duration": 4,
    "start_time": "2022-05-11T11:12:47.241Z"
   },
   {
    "duration": 10,
    "start_time": "2022-05-11T11:12:47.248Z"
   },
   {
    "duration": 12,
    "start_time": "2022-05-11T11:12:47.260Z"
   },
   {
    "duration": 8,
    "start_time": "2022-05-11T11:12:47.274Z"
   },
   {
    "duration": 69,
    "start_time": "2022-05-11T11:12:47.285Z"
   },
   {
    "duration": 256,
    "start_time": "2022-05-11T11:12:47.356Z"
   },
   {
    "duration": 43,
    "start_time": "2022-05-11T11:12:47.614Z"
   },
   {
    "duration": 13,
    "start_time": "2022-05-11T11:12:47.659Z"
   },
   {
    "duration": 14,
    "start_time": "2022-05-11T11:12:47.675Z"
   },
   {
    "duration": 37,
    "start_time": "2022-05-11T11:12:47.691Z"
   },
   {
    "duration": 5,
    "start_time": "2022-05-11T11:12:47.733Z"
   },
   {
    "duration": 5,
    "start_time": "2022-05-11T11:12:47.740Z"
   },
   {
    "duration": 9,
    "start_time": "2022-05-11T11:12:47.748Z"
   },
   {
    "duration": 11,
    "start_time": "2022-05-11T11:12:47.759Z"
   },
   {
    "duration": 54,
    "start_time": "2022-05-11T11:12:47.773Z"
   },
   {
    "duration": 31,
    "start_time": "2022-05-11T11:12:47.829Z"
   },
   {
    "duration": 29,
    "start_time": "2022-05-11T11:12:47.862Z"
   },
   {
    "duration": 46,
    "start_time": "2022-05-11T11:12:47.894Z"
   },
   {
    "duration": 10,
    "start_time": "2022-05-11T11:12:47.943Z"
   },
   {
    "duration": 27,
    "start_time": "2022-05-11T11:12:47.956Z"
   },
   {
    "duration": 45,
    "start_time": "2022-05-11T11:12:47.985Z"
   },
   {
    "duration": 30,
    "start_time": "2022-05-11T11:12:48.032Z"
   },
   {
    "duration": 10,
    "start_time": "2022-05-11T11:12:48.064Z"
   },
   {
    "duration": 48,
    "start_time": "2022-05-11T11:12:48.076Z"
   },
   {
    "duration": 10,
    "start_time": "2022-05-11T11:12:48.127Z"
   },
   {
    "duration": 12,
    "start_time": "2022-05-11T11:12:48.140Z"
   },
   {
    "duration": 14,
    "start_time": "2022-05-11T11:12:48.154Z"
   },
   {
    "duration": 23,
    "start_time": "2022-05-11T11:12:48.171Z"
   },
   {
    "duration": 19,
    "start_time": "2022-05-11T11:12:48.225Z"
   },
   {
    "duration": 9,
    "start_time": "2022-05-11T11:12:48.246Z"
   },
   {
    "duration": 21,
    "start_time": "2022-05-11T11:12:48.258Z"
   },
   {
    "duration": 50,
    "start_time": "2022-05-11T11:12:48.281Z"
   },
   {
    "duration": 19,
    "start_time": "2022-05-11T11:12:48.334Z"
   },
   {
    "duration": 6,
    "start_time": "2022-05-11T11:12:48.356Z"
   },
   {
    "duration": 701,
    "start_time": "2022-05-11T11:12:48.365Z"
   },
   {
    "duration": 63,
    "start_time": "2022-05-11T11:12:49.069Z"
   },
   {
    "duration": 24,
    "start_time": "2022-05-11T11:12:49.134Z"
   },
   {
    "duration": 4,
    "start_time": "2022-05-11T11:13:36.936Z"
   },
   {
    "duration": 33,
    "start_time": "2022-05-11T11:13:37.600Z"
   },
   {
    "duration": 6,
    "start_time": "2022-05-11T11:13:40.302Z"
   },
   {
    "duration": 18,
    "start_time": "2022-05-11T11:13:41.091Z"
   },
   {
    "duration": 596,
    "start_time": "2022-05-11T11:13:46.437Z"
   },
   {
    "duration": 116,
    "start_time": "2022-05-11T11:13:47.037Z"
   },
   {
    "duration": 32,
    "start_time": "2022-05-11T11:13:47.156Z"
   },
   {
    "duration": 43,
    "start_time": "2022-05-11T11:13:47.190Z"
   },
   {
    "duration": 14,
    "start_time": "2022-05-11T11:13:47.238Z"
   },
   {
    "duration": 8,
    "start_time": "2022-05-11T11:13:47.254Z"
   },
   {
    "duration": 19,
    "start_time": "2022-05-11T11:13:47.264Z"
   },
   {
    "duration": 7,
    "start_time": "2022-05-11T11:13:47.285Z"
   },
   {
    "duration": 36,
    "start_time": "2022-05-11T11:13:47.294Z"
   },
   {
    "duration": 18,
    "start_time": "2022-05-11T11:13:47.332Z"
   },
   {
    "duration": 5,
    "start_time": "2022-05-11T11:13:47.352Z"
   },
   {
    "duration": 12,
    "start_time": "2022-05-11T11:13:47.359Z"
   },
   {
    "duration": 18,
    "start_time": "2022-05-11T11:13:47.373Z"
   },
   {
    "duration": 22,
    "start_time": "2022-05-11T11:13:47.425Z"
   },
   {
    "duration": 7,
    "start_time": "2022-05-11T11:13:47.449Z"
   },
   {
    "duration": 9,
    "start_time": "2022-05-11T11:13:47.458Z"
   },
   {
    "duration": 69,
    "start_time": "2022-05-11T11:13:47.470Z"
   },
   {
    "duration": 5,
    "start_time": "2022-05-11T11:13:47.541Z"
   },
   {
    "duration": 9,
    "start_time": "2022-05-11T11:13:47.548Z"
   },
   {
    "duration": 9,
    "start_time": "2022-05-11T11:13:47.559Z"
   },
   {
    "duration": 7,
    "start_time": "2022-05-11T11:13:47.570Z"
   },
   {
    "duration": 68,
    "start_time": "2022-05-11T11:13:47.579Z"
   },
   {
    "duration": 5,
    "start_time": "2022-05-11T11:13:47.649Z"
   },
   {
    "duration": 49,
    "start_time": "2022-05-11T11:13:47.656Z"
   },
   {
    "duration": 21,
    "start_time": "2022-05-11T11:13:47.708Z"
   },
   {
    "duration": 16,
    "start_time": "2022-05-11T11:13:47.731Z"
   },
   {
    "duration": 6,
    "start_time": "2022-05-11T11:13:47.750Z"
   },
   {
    "duration": 13,
    "start_time": "2022-05-11T11:13:47.759Z"
   },
   {
    "duration": 8,
    "start_time": "2022-05-11T11:13:47.775Z"
   },
   {
    "duration": 8,
    "start_time": "2022-05-11T11:13:47.826Z"
   },
   {
    "duration": 13,
    "start_time": "2022-05-11T11:13:47.837Z"
   },
   {
    "duration": 10,
    "start_time": "2022-05-11T11:13:47.853Z"
   },
   {
    "duration": 68,
    "start_time": "2022-05-11T11:13:47.867Z"
   },
   {
    "duration": 49,
    "start_time": "2022-05-11T11:13:47.938Z"
   },
   {
    "duration": 61,
    "start_time": "2022-05-11T11:13:47.990Z"
   },
   {
    "duration": 15,
    "start_time": "2022-05-11T11:13:48.053Z"
   },
   {
    "duration": 24,
    "start_time": "2022-05-11T11:13:48.072Z"
   },
   {
    "duration": 38,
    "start_time": "2022-05-11T11:13:48.098Z"
   },
   {
    "duration": 42,
    "start_time": "2022-05-11T11:13:48.138Z"
   },
   {
    "duration": 13,
    "start_time": "2022-05-11T11:13:48.182Z"
   },
   {
    "duration": 46,
    "start_time": "2022-05-11T11:13:48.201Z"
   },
   {
    "duration": 14,
    "start_time": "2022-05-11T11:13:48.251Z"
   },
   {
    "duration": 20,
    "start_time": "2022-05-11T11:13:48.269Z"
   },
   {
    "duration": 39,
    "start_time": "2022-05-11T11:13:48.291Z"
   },
   {
    "duration": 23,
    "start_time": "2022-05-11T11:13:48.332Z"
   },
   {
    "duration": 23,
    "start_time": "2022-05-11T11:13:48.358Z"
   },
   {
    "duration": 10,
    "start_time": "2022-05-11T11:13:48.383Z"
   },
   {
    "duration": 40,
    "start_time": "2022-05-11T11:13:48.396Z"
   },
   {
    "duration": 19,
    "start_time": "2022-05-11T11:13:48.438Z"
   },
   {
    "duration": 13,
    "start_time": "2022-05-11T11:13:48.459Z"
   },
   {
    "duration": 14,
    "start_time": "2022-05-11T11:13:48.474Z"
   },
   {
    "duration": 270,
    "start_time": "2022-05-11T11:13:48.490Z"
   },
   {
    "duration": 10,
    "start_time": "2022-05-11T11:13:48.763Z"
   },
   {
    "duration": 28,
    "start_time": "2022-05-11T11:13:48.775Z"
   },
   {
    "duration": 231,
    "start_time": "2022-05-11T11:14:45.839Z"
   },
   {
    "duration": 30,
    "start_time": "2022-05-11T11:14:51.380Z"
   },
   {
    "duration": 7,
    "start_time": "2022-05-11T11:14:55.666Z"
   },
   {
    "duration": 23,
    "start_time": "2022-05-11T11:15:06.054Z"
   },
   {
    "duration": 7,
    "start_time": "2022-05-11T11:15:08.044Z"
   },
   {
    "duration": 6,
    "start_time": "2022-05-11T11:15:11.023Z"
   },
   {
    "duration": 511,
    "start_time": "2022-05-11T11:15:48.566Z"
   },
   {
    "duration": 89,
    "start_time": "2022-05-11T11:15:49.080Z"
   },
   {
    "duration": 30,
    "start_time": "2022-05-11T11:15:49.171Z"
   },
   {
    "duration": 27,
    "start_time": "2022-05-11T11:15:49.224Z"
   },
   {
    "duration": 20,
    "start_time": "2022-05-11T11:15:49.253Z"
   },
   {
    "duration": 22,
    "start_time": "2022-05-11T11:15:49.275Z"
   },
   {
    "duration": 10,
    "start_time": "2022-05-11T11:15:49.299Z"
   },
   {
    "duration": 32,
    "start_time": "2022-05-11T11:15:49.311Z"
   },
   {
    "duration": 31,
    "start_time": "2022-05-11T11:15:49.345Z"
   },
   {
    "duration": 25,
    "start_time": "2022-05-11T11:15:49.381Z"
   },
   {
    "duration": 31,
    "start_time": "2022-05-11T11:15:49.408Z"
   },
   {
    "duration": 23,
    "start_time": "2022-05-11T11:15:49.442Z"
   },
   {
    "duration": 11,
    "start_time": "2022-05-11T11:15:49.469Z"
   },
   {
    "duration": 31,
    "start_time": "2022-05-11T11:15:49.482Z"
   },
   {
    "duration": 32,
    "start_time": "2022-05-11T11:15:49.516Z"
   },
   {
    "duration": 23,
    "start_time": "2022-05-11T11:15:49.550Z"
   },
   {
    "duration": 58,
    "start_time": "2022-05-11T11:15:49.576Z"
   },
   {
    "duration": 5,
    "start_time": "2022-05-11T11:15:49.637Z"
   },
   {
    "duration": 14,
    "start_time": "2022-05-11T11:15:49.645Z"
   },
   {
    "duration": 27,
    "start_time": "2022-05-11T11:15:49.662Z"
   },
   {
    "duration": 18,
    "start_time": "2022-05-11T11:15:49.692Z"
   },
   {
    "duration": 41,
    "start_time": "2022-05-11T11:15:49.713Z"
   },
   {
    "duration": 271,
    "start_time": "2022-05-11T11:15:49.756Z"
   },
   {
    "duration": 35,
    "start_time": "2022-05-11T11:15:50.032Z"
   },
   {
    "duration": 9,
    "start_time": "2022-05-11T11:15:50.069Z"
   },
   {
    "duration": 30,
    "start_time": "2022-05-11T11:15:50.080Z"
   },
   {
    "duration": 10,
    "start_time": "2022-05-11T11:15:50.131Z"
   },
   {
    "duration": 29,
    "start_time": "2022-05-11T11:15:50.147Z"
   },
   {
    "duration": 26,
    "start_time": "2022-05-11T11:15:50.179Z"
   },
   {
    "duration": 33,
    "start_time": "2022-05-11T11:15:50.208Z"
   },
   {
    "duration": 45,
    "start_time": "2022-05-11T11:15:50.244Z"
   },
   {
    "duration": 52,
    "start_time": "2022-05-11T11:15:50.291Z"
   },
   {
    "duration": 57,
    "start_time": "2022-05-11T11:15:50.345Z"
   },
   {
    "duration": 72,
    "start_time": "2022-05-11T11:15:50.404Z"
   },
   {
    "duration": 36,
    "start_time": "2022-05-11T11:15:50.479Z"
   },
   {
    "duration": 18,
    "start_time": "2022-05-11T11:15:50.518Z"
   },
   {
    "duration": 36,
    "start_time": "2022-05-11T11:15:50.538Z"
   },
   {
    "duration": 18,
    "start_time": "2022-05-11T11:15:50.576Z"
   },
   {
    "duration": 50,
    "start_time": "2022-05-11T11:15:50.596Z"
   },
   {
    "duration": 9,
    "start_time": "2022-05-11T11:15:50.649Z"
   },
   {
    "duration": 23,
    "start_time": "2022-05-11T11:15:50.660Z"
   },
   {
    "duration": 13,
    "start_time": "2022-05-11T11:15:50.685Z"
   },
   {
    "duration": 42,
    "start_time": "2022-05-11T11:15:50.701Z"
   },
   {
    "duration": 12,
    "start_time": "2022-05-11T11:15:50.746Z"
   },
   {
    "duration": 30,
    "start_time": "2022-05-11T11:15:50.760Z"
   },
   {
    "duration": 35,
    "start_time": "2022-05-11T11:15:50.793Z"
   },
   {
    "duration": 26,
    "start_time": "2022-05-11T11:15:50.831Z"
   },
   {
    "duration": 22,
    "start_time": "2022-05-11T11:15:50.859Z"
   },
   {
    "duration": 22,
    "start_time": "2022-05-11T11:15:50.884Z"
   },
   {
    "duration": 33,
    "start_time": "2022-05-11T11:15:50.908Z"
   },
   {
    "duration": 10,
    "start_time": "2022-05-11T11:15:50.943Z"
   },
   {
    "duration": 251,
    "start_time": "2022-05-11T11:15:50.955Z"
   },
   {
    "duration": 15,
    "start_time": "2022-05-11T11:15:51.209Z"
   },
   {
    "duration": 56,
    "start_time": "2022-05-11T11:15:51.226Z"
   },
   {
    "duration": 532,
    "start_time": "2022-05-11T11:20:29.662Z"
   },
   {
    "duration": 88,
    "start_time": "2022-05-11T11:20:30.199Z"
   },
   {
    "duration": 45,
    "start_time": "2022-05-11T11:20:30.290Z"
   },
   {
    "duration": 25,
    "start_time": "2022-05-11T11:20:30.338Z"
   },
   {
    "duration": 14,
    "start_time": "2022-05-11T11:20:30.365Z"
   },
   {
    "duration": 45,
    "start_time": "2022-05-11T11:20:30.382Z"
   },
   {
    "duration": 43,
    "start_time": "2022-05-11T11:20:30.431Z"
   },
   {
    "duration": 111,
    "start_time": "2022-05-11T11:20:30.476Z"
   },
   {
    "duration": 52,
    "start_time": "2022-05-11T11:20:30.589Z"
   },
   {
    "duration": 16,
    "start_time": "2022-05-11T11:20:30.648Z"
   },
   {
    "duration": 9,
    "start_time": "2022-05-11T11:20:30.668Z"
   },
   {
    "duration": 35,
    "start_time": "2022-05-11T11:20:30.679Z"
   },
   {
    "duration": 50,
    "start_time": "2022-05-11T11:20:30.716Z"
   },
   {
    "duration": 46,
    "start_time": "2022-05-11T11:20:30.769Z"
   },
   {
    "duration": 15,
    "start_time": "2022-05-11T11:20:30.820Z"
   },
   {
    "duration": 45,
    "start_time": "2022-05-11T11:20:30.837Z"
   },
   {
    "duration": 63,
    "start_time": "2022-05-11T11:20:30.884Z"
   },
   {
    "duration": 5,
    "start_time": "2022-05-11T11:20:30.949Z"
   },
   {
    "duration": 17,
    "start_time": "2022-05-11T11:20:30.957Z"
   },
   {
    "duration": 24,
    "start_time": "2022-05-11T11:20:30.976Z"
   },
   {
    "duration": 20,
    "start_time": "2022-05-11T11:20:31.002Z"
   },
   {
    "duration": 48,
    "start_time": "2022-05-11T11:20:31.032Z"
   },
   {
    "duration": 397,
    "start_time": "2022-05-11T11:20:31.082Z"
   },
   {
    "duration": 58,
    "start_time": "2022-05-11T11:20:31.482Z"
   },
   {
    "duration": 14,
    "start_time": "2022-05-11T11:20:31.542Z"
   },
   {
    "duration": 31,
    "start_time": "2022-05-11T11:20:31.559Z"
   },
   {
    "duration": 9,
    "start_time": "2022-05-11T11:20:31.593Z"
   },
   {
    "duration": 50,
    "start_time": "2022-05-11T11:20:31.629Z"
   },
   {
    "duration": 61,
    "start_time": "2022-05-11T11:20:31.681Z"
   },
   {
    "duration": 30,
    "start_time": "2022-05-11T11:20:31.745Z"
   },
   {
    "duration": 27,
    "start_time": "2022-05-11T11:20:31.777Z"
   },
   {
    "duration": 15,
    "start_time": "2022-05-11T11:20:31.807Z"
   },
   {
    "duration": 44,
    "start_time": "2022-05-11T11:20:31.825Z"
   },
   {
    "duration": 33,
    "start_time": "2022-05-11T11:20:31.872Z"
   },
   {
    "duration": 63,
    "start_time": "2022-05-11T11:20:31.908Z"
   },
   {
    "duration": 20,
    "start_time": "2022-05-11T11:20:31.974Z"
   },
   {
    "duration": 59,
    "start_time": "2022-05-11T11:20:31.996Z"
   },
   {
    "duration": 42,
    "start_time": "2022-05-11T11:20:32.058Z"
   },
   {
    "duration": 54,
    "start_time": "2022-05-11T11:20:32.103Z"
   },
   {
    "duration": 10,
    "start_time": "2022-05-11T11:20:32.160Z"
   },
   {
    "duration": 57,
    "start_time": "2022-05-11T11:20:32.172Z"
   },
   {
    "duration": 27,
    "start_time": "2022-05-11T11:20:32.232Z"
   },
   {
    "duration": 95,
    "start_time": "2022-05-11T11:20:32.262Z"
   },
   {
    "duration": 20,
    "start_time": "2022-05-11T11:20:32.359Z"
   },
   {
    "duration": 28,
    "start_time": "2022-05-11T11:20:32.382Z"
   },
   {
    "duration": 32,
    "start_time": "2022-05-11T11:20:32.412Z"
   },
   {
    "duration": 15,
    "start_time": "2022-05-11T11:20:32.446Z"
   },
   {
    "duration": 57,
    "start_time": "2022-05-11T11:20:32.463Z"
   },
   {
    "duration": 54,
    "start_time": "2022-05-11T11:20:32.523Z"
   },
   {
    "duration": 21,
    "start_time": "2022-05-11T11:20:32.579Z"
   },
   {
    "duration": 16,
    "start_time": "2022-05-11T11:20:32.602Z"
   },
   {
    "duration": 416,
    "start_time": "2022-05-11T11:20:32.621Z"
   },
   {
    "duration": 12,
    "start_time": "2022-05-11T11:20:33.040Z"
   },
   {
    "duration": 81,
    "start_time": "2022-05-11T11:20:33.054Z"
   },
   {
    "duration": 563,
    "start_time": "2022-05-11T11:21:10.395Z"
   },
   {
    "duration": 81,
    "start_time": "2022-05-11T11:21:10.961Z"
   },
   {
    "duration": 31,
    "start_time": "2022-05-11T11:21:11.045Z"
   },
   {
    "duration": 24,
    "start_time": "2022-05-11T11:21:11.079Z"
   },
   {
    "duration": 20,
    "start_time": "2022-05-11T11:21:11.127Z"
   },
   {
    "duration": 8,
    "start_time": "2022-05-11T11:21:11.150Z"
   },
   {
    "duration": 17,
    "start_time": "2022-05-11T11:21:11.160Z"
   },
   {
    "duration": 10,
    "start_time": "2022-05-11T11:21:11.179Z"
   },
   {
    "duration": 52,
    "start_time": "2022-05-11T11:21:11.192Z"
   },
   {
    "duration": 10,
    "start_time": "2022-05-11T11:21:11.250Z"
   },
   {
    "duration": 6,
    "start_time": "2022-05-11T11:21:11.262Z"
   },
   {
    "duration": 21,
    "start_time": "2022-05-11T11:21:11.271Z"
   },
   {
    "duration": 10,
    "start_time": "2022-05-11T11:21:11.294Z"
   },
   {
    "duration": 52,
    "start_time": "2022-05-11T11:21:11.307Z"
   },
   {
    "duration": 7,
    "start_time": "2022-05-11T11:21:11.362Z"
   },
   {
    "duration": 10,
    "start_time": "2022-05-11T11:21:11.371Z"
   },
   {
    "duration": 67,
    "start_time": "2022-05-11T11:21:11.383Z"
   },
   {
    "duration": 6,
    "start_time": "2022-05-11T11:21:11.453Z"
   },
   {
    "duration": 14,
    "start_time": "2022-05-11T11:21:11.461Z"
   },
   {
    "duration": 6,
    "start_time": "2022-05-11T11:21:11.477Z"
   },
   {
    "duration": 6,
    "start_time": "2022-05-11T11:21:11.486Z"
   },
   {
    "duration": 38,
    "start_time": "2022-05-11T11:21:11.533Z"
   },
   {
    "duration": 811,
    "start_time": "2022-05-11T11:21:11.573Z"
   },
   {
    "duration": 0,
    "start_time": "2022-05-11T11:21:12.388Z"
   },
   {
    "duration": 0,
    "start_time": "2022-05-11T11:21:12.390Z"
   },
   {
    "duration": 0,
    "start_time": "2022-05-11T11:21:12.392Z"
   },
   {
    "duration": 0,
    "start_time": "2022-05-11T11:21:12.395Z"
   },
   {
    "duration": 0,
    "start_time": "2022-05-11T11:21:12.397Z"
   },
   {
    "duration": 0,
    "start_time": "2022-05-11T11:21:12.399Z"
   },
   {
    "duration": 0,
    "start_time": "2022-05-11T11:21:12.402Z"
   },
   {
    "duration": 0,
    "start_time": "2022-05-11T11:21:12.403Z"
   },
   {
    "duration": 0,
    "start_time": "2022-05-11T11:21:12.407Z"
   },
   {
    "duration": 0,
    "start_time": "2022-05-11T11:21:12.408Z"
   },
   {
    "duration": 0,
    "start_time": "2022-05-11T11:21:12.409Z"
   },
   {
    "duration": 0,
    "start_time": "2022-05-11T11:21:12.411Z"
   },
   {
    "duration": 0,
    "start_time": "2022-05-11T11:21:12.413Z"
   },
   {
    "duration": 0,
    "start_time": "2022-05-11T11:21:12.414Z"
   },
   {
    "duration": 0,
    "start_time": "2022-05-11T11:21:12.415Z"
   },
   {
    "duration": 0,
    "start_time": "2022-05-11T11:21:12.417Z"
   },
   {
    "duration": 0,
    "start_time": "2022-05-11T11:21:12.418Z"
   },
   {
    "duration": 0,
    "start_time": "2022-05-11T11:21:12.420Z"
   },
   {
    "duration": 0,
    "start_time": "2022-05-11T11:21:12.421Z"
   },
   {
    "duration": 0,
    "start_time": "2022-05-11T11:21:12.423Z"
   },
   {
    "duration": 0,
    "start_time": "2022-05-11T11:21:12.425Z"
   },
   {
    "duration": 0,
    "start_time": "2022-05-11T11:21:12.426Z"
   },
   {
    "duration": 0,
    "start_time": "2022-05-11T11:21:12.427Z"
   },
   {
    "duration": 0,
    "start_time": "2022-05-11T11:21:12.429Z"
   },
   {
    "duration": 0,
    "start_time": "2022-05-11T11:21:12.430Z"
   },
   {
    "duration": 0,
    "start_time": "2022-05-11T11:21:12.432Z"
   },
   {
    "duration": 0,
    "start_time": "2022-05-11T11:21:12.433Z"
   },
   {
    "duration": 0,
    "start_time": "2022-05-11T11:21:12.434Z"
   },
   {
    "duration": 0,
    "start_time": "2022-05-11T11:21:12.435Z"
   },
   {
    "duration": 0,
    "start_time": "2022-05-11T11:21:12.436Z"
   },
   {
    "duration": 0,
    "start_time": "2022-05-11T11:21:12.437Z"
   },
   {
    "duration": 244,
    "start_time": "2022-05-11T11:21:25.943Z"
   },
   {
    "duration": 34,
    "start_time": "2022-05-11T11:21:28.660Z"
   },
   {
    "duration": 14,
    "start_time": "2022-05-11T11:21:38.152Z"
   },
   {
    "duration": 8,
    "start_time": "2022-05-11T11:21:41.221Z"
   },
   {
    "duration": 14,
    "start_time": "2022-05-11T11:21:43.415Z"
   },
   {
    "duration": 13,
    "start_time": "2022-05-11T11:21:50.906Z"
   },
   {
    "duration": 532,
    "start_time": "2022-05-11T11:21:59.782Z"
   },
   {
    "duration": 82,
    "start_time": "2022-05-11T11:22:00.317Z"
   },
   {
    "duration": 32,
    "start_time": "2022-05-11T11:22:00.402Z"
   },
   {
    "duration": 22,
    "start_time": "2022-05-11T11:22:00.438Z"
   },
   {
    "duration": 14,
    "start_time": "2022-05-11T11:22:00.462Z"
   },
   {
    "duration": 44,
    "start_time": "2022-05-11T11:22:00.479Z"
   },
   {
    "duration": 8,
    "start_time": "2022-05-11T11:22:00.527Z"
   },
   {
    "duration": 21,
    "start_time": "2022-05-11T11:22:00.537Z"
   },
   {
    "duration": 17,
    "start_time": "2022-05-11T11:22:00.560Z"
   },
   {
    "duration": 25,
    "start_time": "2022-05-11T11:22:00.580Z"
   },
   {
    "duration": 27,
    "start_time": "2022-05-11T11:22:00.608Z"
   },
   {
    "duration": 11,
    "start_time": "2022-05-11T11:22:00.638Z"
   },
   {
    "duration": 19,
    "start_time": "2022-05-11T11:22:00.652Z"
   },
   {
    "duration": 29,
    "start_time": "2022-05-11T11:22:00.673Z"
   },
   {
    "duration": 32,
    "start_time": "2022-05-11T11:22:00.704Z"
   },
   {
    "duration": 46,
    "start_time": "2022-05-11T11:22:00.738Z"
   },
   {
    "duration": 57,
    "start_time": "2022-05-11T11:22:00.786Z"
   },
   {
    "duration": 5,
    "start_time": "2022-05-11T11:22:00.845Z"
   },
   {
    "duration": 12,
    "start_time": "2022-05-11T11:22:00.853Z"
   },
   {
    "duration": 28,
    "start_time": "2022-05-11T11:22:00.868Z"
   },
   {
    "duration": 22,
    "start_time": "2022-05-11T11:22:00.899Z"
   },
   {
    "duration": 61,
    "start_time": "2022-05-11T11:22:00.924Z"
   },
   {
    "duration": 4,
    "start_time": "2022-05-11T11:22:00.988Z"
   },
   {
    "duration": 51,
    "start_time": "2022-05-11T11:22:00.995Z"
   },
   {
    "duration": 10,
    "start_time": "2022-05-11T11:22:01.049Z"
   },
   {
    "duration": 18,
    "start_time": "2022-05-11T11:22:01.061Z"
   },
   {
    "duration": 14,
    "start_time": "2022-05-11T11:22:01.081Z"
   },
   {
    "duration": 29,
    "start_time": "2022-05-11T11:22:01.101Z"
   },
   {
    "duration": 117,
    "start_time": "2022-05-11T11:22:01.133Z"
   },
   {
    "duration": 28,
    "start_time": "2022-05-11T11:22:01.253Z"
   },
   {
    "duration": 62,
    "start_time": "2022-05-11T11:22:01.283Z"
   },
   {
    "duration": 39,
    "start_time": "2022-05-11T11:22:01.348Z"
   },
   {
    "duration": 29,
    "start_time": "2022-05-11T11:22:01.390Z"
   },
   {
    "duration": 39,
    "start_time": "2022-05-11T11:22:01.422Z"
   },
   {
    "duration": 29,
    "start_time": "2022-05-11T11:22:01.464Z"
   },
   {
    "duration": 33,
    "start_time": "2022-05-11T11:22:01.495Z"
   },
   {
    "duration": 35,
    "start_time": "2022-05-11T11:22:01.533Z"
   },
   {
    "duration": 19,
    "start_time": "2022-05-11T11:22:01.571Z"
   },
   {
    "duration": 47,
    "start_time": "2022-05-11T11:22:01.592Z"
   },
   {
    "duration": 20,
    "start_time": "2022-05-11T11:22:01.641Z"
   },
   {
    "duration": 32,
    "start_time": "2022-05-11T11:22:01.664Z"
   },
   {
    "duration": 54,
    "start_time": "2022-05-11T11:22:01.699Z"
   },
   {
    "duration": 33,
    "start_time": "2022-05-11T11:22:01.756Z"
   },
   {
    "duration": 46,
    "start_time": "2022-05-11T11:22:01.791Z"
   },
   {
    "duration": 19,
    "start_time": "2022-05-11T11:22:01.840Z"
   },
   {
    "duration": 36,
    "start_time": "2022-05-11T11:22:01.862Z"
   },
   {
    "duration": 9,
    "start_time": "2022-05-11T11:22:01.901Z"
   },
   {
    "duration": 43,
    "start_time": "2022-05-11T11:22:01.913Z"
   },
   {
    "duration": 30,
    "start_time": "2022-05-11T11:22:01.959Z"
   },
   {
    "duration": 14,
    "start_time": "2022-05-11T11:22:01.992Z"
   },
   {
    "duration": 13,
    "start_time": "2022-05-11T11:22:02.008Z"
   },
   {
    "duration": 530,
    "start_time": "2022-05-11T11:22:02.024Z"
   },
   {
    "duration": 11,
    "start_time": "2022-05-11T11:22:02.556Z"
   },
   {
    "duration": 31,
    "start_time": "2022-05-11T11:22:02.625Z"
   },
   {
    "duration": 131,
    "start_time": "2022-05-11T11:26:21.763Z"
   },
   {
    "duration": 35,
    "start_time": "2022-05-11T11:27:23.628Z"
   },
   {
    "duration": 44,
    "start_time": "2022-05-11T11:27:39.073Z"
   },
   {
    "duration": 736,
    "start_time": "2022-05-11T11:27:47.615Z"
   },
   {
    "duration": 120,
    "start_time": "2022-05-11T11:27:48.355Z"
   },
   {
    "duration": 53,
    "start_time": "2022-05-11T11:27:48.478Z"
   },
   {
    "duration": 30,
    "start_time": "2022-05-11T11:27:48.534Z"
   },
   {
    "duration": 15,
    "start_time": "2022-05-11T11:27:48.566Z"
   },
   {
    "duration": 8,
    "start_time": "2022-05-11T11:27:48.583Z"
   },
   {
    "duration": 18,
    "start_time": "2022-05-11T11:27:48.626Z"
   },
   {
    "duration": 19,
    "start_time": "2022-05-11T11:27:48.647Z"
   },
   {
    "duration": 15,
    "start_time": "2022-05-11T11:27:48.668Z"
   },
   {
    "duration": 15,
    "start_time": "2022-05-11T11:27:48.687Z"
   },
   {
    "duration": 6,
    "start_time": "2022-05-11T11:27:48.704Z"
   },
   {
    "duration": 15,
    "start_time": "2022-05-11T11:27:48.735Z"
   },
   {
    "duration": 18,
    "start_time": "2022-05-11T11:27:48.753Z"
   },
   {
    "duration": 22,
    "start_time": "2022-05-11T11:27:48.774Z"
   },
   {
    "duration": 27,
    "start_time": "2022-05-11T11:27:48.799Z"
   },
   {
    "duration": 17,
    "start_time": "2022-05-11T11:27:48.831Z"
   },
   {
    "duration": 40,
    "start_time": "2022-05-11T11:27:48.850Z"
   },
   {
    "duration": 5,
    "start_time": "2022-05-11T11:27:48.892Z"
   },
   {
    "duration": 44,
    "start_time": "2022-05-11T11:27:48.899Z"
   },
   {
    "duration": 9,
    "start_time": "2022-05-11T11:27:48.946Z"
   },
   {
    "duration": 7,
    "start_time": "2022-05-11T11:27:48.958Z"
   },
   {
    "duration": 40,
    "start_time": "2022-05-11T11:27:48.968Z"
   },
   {
    "duration": 150,
    "start_time": "2022-05-11T11:27:49.011Z"
   },
   {
    "duration": 0,
    "start_time": "2022-05-11T11:27:49.166Z"
   },
   {
    "duration": 0,
    "start_time": "2022-05-11T11:27:49.168Z"
   },
   {
    "duration": 0,
    "start_time": "2022-05-11T11:27:49.170Z"
   },
   {
    "duration": 0,
    "start_time": "2022-05-11T11:27:49.171Z"
   },
   {
    "duration": 0,
    "start_time": "2022-05-11T11:27:49.173Z"
   },
   {
    "duration": 0,
    "start_time": "2022-05-11T11:27:49.174Z"
   },
   {
    "duration": 0,
    "start_time": "2022-05-11T11:27:49.176Z"
   },
   {
    "duration": 0,
    "start_time": "2022-05-11T11:27:49.177Z"
   },
   {
    "duration": 0,
    "start_time": "2022-05-11T11:27:49.178Z"
   },
   {
    "duration": 0,
    "start_time": "2022-05-11T11:27:49.180Z"
   },
   {
    "duration": 0,
    "start_time": "2022-05-11T11:27:49.181Z"
   },
   {
    "duration": 0,
    "start_time": "2022-05-11T11:27:49.183Z"
   },
   {
    "duration": 0,
    "start_time": "2022-05-11T11:27:49.184Z"
   },
   {
    "duration": 0,
    "start_time": "2022-05-11T11:27:49.186Z"
   },
   {
    "duration": 0,
    "start_time": "2022-05-11T11:27:49.187Z"
   },
   {
    "duration": 0,
    "start_time": "2022-05-11T11:27:49.224Z"
   },
   {
    "duration": 0,
    "start_time": "2022-05-11T11:27:49.231Z"
   },
   {
    "duration": 0,
    "start_time": "2022-05-11T11:27:49.233Z"
   },
   {
    "duration": 0,
    "start_time": "2022-05-11T11:27:49.235Z"
   },
   {
    "duration": 0,
    "start_time": "2022-05-11T11:27:49.237Z"
   },
   {
    "duration": 0,
    "start_time": "2022-05-11T11:27:49.240Z"
   },
   {
    "duration": 0,
    "start_time": "2022-05-11T11:27:49.241Z"
   },
   {
    "duration": 0,
    "start_time": "2022-05-11T11:27:49.243Z"
   },
   {
    "duration": 0,
    "start_time": "2022-05-11T11:27:49.244Z"
   },
   {
    "duration": 0,
    "start_time": "2022-05-11T11:27:49.246Z"
   },
   {
    "duration": 0,
    "start_time": "2022-05-11T11:27:49.248Z"
   },
   {
    "duration": 0,
    "start_time": "2022-05-11T11:27:49.249Z"
   },
   {
    "duration": 0,
    "start_time": "2022-05-11T11:27:49.251Z"
   },
   {
    "duration": 0,
    "start_time": "2022-05-11T11:27:49.256Z"
   },
   {
    "duration": 0,
    "start_time": "2022-05-11T11:27:49.259Z"
   },
   {
    "duration": 0,
    "start_time": "2022-05-11T11:27:49.261Z"
   },
   {
    "duration": 35,
    "start_time": "2022-05-11T11:28:33.984Z"
   },
   {
    "duration": 32,
    "start_time": "2022-05-11T11:28:58.416Z"
   },
   {
    "duration": 12,
    "start_time": "2022-05-11T11:31:30.697Z"
   },
   {
    "duration": 20,
    "start_time": "2022-05-11T11:31:36.151Z"
   },
   {
    "duration": 19,
    "start_time": "2022-05-11T11:31:51.920Z"
   },
   {
    "duration": 23,
    "start_time": "2022-05-11T11:31:54.029Z"
   },
   {
    "duration": 9,
    "start_time": "2022-05-11T11:32:19.717Z"
   },
   {
    "duration": 660,
    "start_time": "2022-05-11T11:32:26.590Z"
   },
   {
    "duration": 76,
    "start_time": "2022-05-11T11:32:27.252Z"
   },
   {
    "duration": 31,
    "start_time": "2022-05-11T11:32:27.330Z"
   },
   {
    "duration": 23,
    "start_time": "2022-05-11T11:32:27.364Z"
   },
   {
    "duration": 55,
    "start_time": "2022-05-11T11:32:27.390Z"
   },
   {
    "duration": 15,
    "start_time": "2022-05-11T11:32:27.447Z"
   },
   {
    "duration": 10,
    "start_time": "2022-05-11T11:32:27.465Z"
   },
   {
    "duration": 5,
    "start_time": "2022-05-11T11:32:27.478Z"
   },
   {
    "duration": 41,
    "start_time": "2022-05-11T11:32:27.485Z"
   },
   {
    "duration": 10,
    "start_time": "2022-05-11T11:32:27.530Z"
   },
   {
    "duration": 9,
    "start_time": "2022-05-11T11:32:27.542Z"
   },
   {
    "duration": 27,
    "start_time": "2022-05-11T11:32:27.553Z"
   },
   {
    "duration": 9,
    "start_time": "2022-05-11T11:32:27.583Z"
   },
   {
    "duration": 47,
    "start_time": "2022-05-11T11:32:27.594Z"
   },
   {
    "duration": 8,
    "start_time": "2022-05-11T11:32:27.643Z"
   },
   {
    "duration": 13,
    "start_time": "2022-05-11T11:32:27.653Z"
   },
   {
    "duration": 67,
    "start_time": "2022-05-11T11:32:27.669Z"
   },
   {
    "duration": 5,
    "start_time": "2022-05-11T11:32:27.738Z"
   },
   {
    "duration": 10,
    "start_time": "2022-05-11T11:32:27.745Z"
   },
   {
    "duration": 16,
    "start_time": "2022-05-11T11:32:27.757Z"
   },
   {
    "duration": 13,
    "start_time": "2022-05-11T11:32:27.775Z"
   },
   {
    "duration": 69,
    "start_time": "2022-05-11T11:32:27.790Z"
   },
   {
    "duration": 130,
    "start_time": "2022-05-11T11:32:27.861Z"
   },
   {
    "duration": 0,
    "start_time": "2022-05-11T11:32:27.995Z"
   },
   {
    "duration": 0,
    "start_time": "2022-05-11T11:32:27.996Z"
   },
   {
    "duration": 0,
    "start_time": "2022-05-11T11:32:27.998Z"
   },
   {
    "duration": 0,
    "start_time": "2022-05-11T11:32:28.000Z"
   },
   {
    "duration": 0,
    "start_time": "2022-05-11T11:32:28.002Z"
   },
   {
    "duration": 0,
    "start_time": "2022-05-11T11:32:28.024Z"
   },
   {
    "duration": 0,
    "start_time": "2022-05-11T11:32:28.026Z"
   },
   {
    "duration": 0,
    "start_time": "2022-05-11T11:32:28.028Z"
   },
   {
    "duration": 0,
    "start_time": "2022-05-11T11:32:28.030Z"
   },
   {
    "duration": 0,
    "start_time": "2022-05-11T11:32:28.032Z"
   },
   {
    "duration": 0,
    "start_time": "2022-05-11T11:32:28.034Z"
   },
   {
    "duration": 1,
    "start_time": "2022-05-11T11:32:28.035Z"
   },
   {
    "duration": 0,
    "start_time": "2022-05-11T11:32:28.037Z"
   },
   {
    "duration": 0,
    "start_time": "2022-05-11T11:32:28.038Z"
   },
   {
    "duration": 0,
    "start_time": "2022-05-11T11:32:28.040Z"
   },
   {
    "duration": 0,
    "start_time": "2022-05-11T11:32:28.041Z"
   },
   {
    "duration": 0,
    "start_time": "2022-05-11T11:32:28.043Z"
   },
   {
    "duration": 0,
    "start_time": "2022-05-11T11:32:28.045Z"
   },
   {
    "duration": 0,
    "start_time": "2022-05-11T11:32:28.047Z"
   },
   {
    "duration": 0,
    "start_time": "2022-05-11T11:32:28.048Z"
   },
   {
    "duration": 0,
    "start_time": "2022-05-11T11:32:28.049Z"
   },
   {
    "duration": 0,
    "start_time": "2022-05-11T11:32:28.051Z"
   },
   {
    "duration": 0,
    "start_time": "2022-05-11T11:32:28.052Z"
   },
   {
    "duration": 0,
    "start_time": "2022-05-11T11:32:28.053Z"
   },
   {
    "duration": 0,
    "start_time": "2022-05-11T11:32:28.054Z"
   },
   {
    "duration": 0,
    "start_time": "2022-05-11T11:32:28.056Z"
   },
   {
    "duration": 0,
    "start_time": "2022-05-11T11:32:28.057Z"
   },
   {
    "duration": 0,
    "start_time": "2022-05-11T11:32:28.058Z"
   },
   {
    "duration": 0,
    "start_time": "2022-05-11T11:32:28.060Z"
   },
   {
    "duration": 0,
    "start_time": "2022-05-11T11:32:28.061Z"
   },
   {
    "duration": 0,
    "start_time": "2022-05-11T11:32:28.063Z"
   },
   {
    "duration": 10,
    "start_time": "2022-05-11T11:33:58.153Z"
   },
   {
    "duration": 1017,
    "start_time": "2022-05-11T11:34:19.624Z"
   },
   {
    "duration": 109,
    "start_time": "2022-05-11T11:34:38.006Z"
   },
   {
    "duration": 14,
    "start_time": "2022-05-11T11:37:08.042Z"
   },
   {
    "duration": 4026,
    "start_time": "2022-05-11T11:40:35.898Z"
   },
   {
    "duration": 15,
    "start_time": "2022-05-11T11:41:28.546Z"
   },
   {
    "duration": 13,
    "start_time": "2022-05-11T11:41:36.335Z"
   },
   {
    "duration": 16,
    "start_time": "2022-05-11T11:41:45.022Z"
   },
   {
    "duration": 593,
    "start_time": "2022-05-11T11:41:53.362Z"
   },
   {
    "duration": 103,
    "start_time": "2022-05-11T11:47:26.959Z"
   },
   {
    "duration": 160,
    "start_time": "2022-05-11T11:48:03.787Z"
   },
   {
    "duration": 237,
    "start_time": "2022-05-11T11:48:14.999Z"
   },
   {
    "duration": 19,
    "start_time": "2022-05-11T11:48:17.767Z"
   },
   {
    "duration": 8,
    "start_time": "2022-05-11T11:48:21.999Z"
   },
   {
    "duration": 14,
    "start_time": "2022-05-11T11:48:25.707Z"
   },
   {
    "duration": 554,
    "start_time": "2022-05-11T11:50:01.238Z"
   },
   {
    "duration": 89,
    "start_time": "2022-05-11T11:50:01.795Z"
   },
   {
    "duration": 40,
    "start_time": "2022-05-11T11:50:01.886Z"
   },
   {
    "duration": 23,
    "start_time": "2022-05-11T11:50:01.929Z"
   },
   {
    "duration": 22,
    "start_time": "2022-05-11T11:50:01.954Z"
   },
   {
    "duration": 114,
    "start_time": "2022-05-11T11:50:01.980Z"
   },
   {
    "duration": 30,
    "start_time": "2022-05-11T11:50:02.097Z"
   },
   {
    "duration": 23,
    "start_time": "2022-05-11T11:50:02.129Z"
   },
   {
    "duration": 15,
    "start_time": "2022-05-11T11:50:02.155Z"
   },
   {
    "duration": 17,
    "start_time": "2022-05-11T11:50:02.174Z"
   },
   {
    "duration": 13,
    "start_time": "2022-05-11T11:50:02.194Z"
   },
   {
    "duration": 45,
    "start_time": "2022-05-11T11:50:02.210Z"
   },
   {
    "duration": 45,
    "start_time": "2022-05-11T11:50:02.257Z"
   },
   {
    "duration": 66,
    "start_time": "2022-05-11T11:50:02.305Z"
   },
   {
    "duration": 88,
    "start_time": "2022-05-11T11:50:02.373Z"
   },
   {
    "duration": 27,
    "start_time": "2022-05-11T11:50:02.463Z"
   },
   {
    "duration": 51,
    "start_time": "2022-05-11T11:50:02.493Z"
   },
   {
    "duration": 111,
    "start_time": "2022-05-11T11:50:02.546Z"
   },
   {
    "duration": 14,
    "start_time": "2022-05-11T11:50:02.659Z"
   },
   {
    "duration": 14,
    "start_time": "2022-05-11T11:50:02.676Z"
   },
   {
    "duration": 33,
    "start_time": "2022-05-11T11:50:02.692Z"
   },
   {
    "duration": 47,
    "start_time": "2022-05-11T11:50:02.728Z"
   },
   {
    "duration": 244,
    "start_time": "2022-05-11T11:50:02.778Z"
   },
   {
    "duration": 21,
    "start_time": "2022-05-11T11:50:03.025Z"
   },
   {
    "duration": 27,
    "start_time": "2022-05-11T11:50:03.048Z"
   },
   {
    "duration": 15,
    "start_time": "2022-05-11T11:50:03.078Z"
   },
   {
    "duration": 15,
    "start_time": "2022-05-11T11:50:03.095Z"
   },
   {
    "duration": 6,
    "start_time": "2022-05-11T11:50:03.127Z"
   },
   {
    "duration": 7,
    "start_time": "2022-05-11T11:50:03.135Z"
   },
   {
    "duration": 38,
    "start_time": "2022-05-11T11:50:03.145Z"
   },
   {
    "duration": 24,
    "start_time": "2022-05-11T11:50:03.186Z"
   },
   {
    "duration": 37,
    "start_time": "2022-05-11T11:50:03.213Z"
   },
   {
    "duration": 59,
    "start_time": "2022-05-11T11:50:03.252Z"
   },
   {
    "duration": 53,
    "start_time": "2022-05-11T11:50:03.314Z"
   },
   {
    "duration": 29,
    "start_time": "2022-05-11T11:50:03.369Z"
   },
   {
    "duration": 11,
    "start_time": "2022-05-11T11:50:03.400Z"
   },
   {
    "duration": 42,
    "start_time": "2022-05-11T11:50:03.426Z"
   },
   {
    "duration": 17,
    "start_time": "2022-05-11T11:50:03.471Z"
   },
   {
    "duration": 34,
    "start_time": "2022-05-11T11:50:03.490Z"
   },
   {
    "duration": 19,
    "start_time": "2022-05-11T11:50:03.526Z"
   },
   {
    "duration": 28,
    "start_time": "2022-05-11T11:50:03.548Z"
   },
   {
    "duration": 18,
    "start_time": "2022-05-11T11:50:03.579Z"
   },
   {
    "duration": 26,
    "start_time": "2022-05-11T11:50:03.600Z"
   },
   {
    "duration": 47,
    "start_time": "2022-05-11T11:50:03.629Z"
   },
   {
    "duration": 35,
    "start_time": "2022-05-11T11:50:03.679Z"
   },
   {
    "duration": 39,
    "start_time": "2022-05-11T11:50:03.717Z"
   },
   {
    "duration": 14,
    "start_time": "2022-05-11T11:50:03.759Z"
   },
   {
    "duration": 38,
    "start_time": "2022-05-11T11:50:03.775Z"
   },
   {
    "duration": 30,
    "start_time": "2022-05-11T11:50:03.815Z"
   },
   {
    "duration": 20,
    "start_time": "2022-05-11T11:50:03.847Z"
   },
   {
    "duration": 12,
    "start_time": "2022-05-11T11:50:03.870Z"
   },
   {
    "duration": 235,
    "start_time": "2022-05-11T11:50:03.884Z"
   },
   {
    "duration": 12,
    "start_time": "2022-05-11T11:50:04.121Z"
   },
   {
    "duration": 27,
    "start_time": "2022-05-11T11:50:04.135Z"
   },
   {
    "duration": 7,
    "start_time": "2022-05-11T11:55:27.292Z"
   },
   {
    "duration": 5,
    "start_time": "2022-05-11T11:55:30.248Z"
   },
   {
    "duration": 538,
    "start_time": "2022-05-11T11:55:39.975Z"
   },
   {
    "duration": 694,
    "start_time": "2022-05-11T11:55:40.516Z"
   },
   {
    "duration": 30,
    "start_time": "2022-05-11T11:55:41.212Z"
   },
   {
    "duration": 23,
    "start_time": "2022-05-11T11:55:41.245Z"
   },
   {
    "duration": 13,
    "start_time": "2022-05-11T11:55:41.270Z"
   },
   {
    "duration": 7,
    "start_time": "2022-05-11T11:55:41.285Z"
   },
   {
    "duration": 7,
    "start_time": "2022-05-11T11:55:41.325Z"
   },
   {
    "duration": 5,
    "start_time": "2022-05-11T11:55:41.334Z"
   },
   {
    "duration": 8,
    "start_time": "2022-05-11T11:55:41.341Z"
   },
   {
    "duration": 8,
    "start_time": "2022-05-11T11:55:41.352Z"
   },
   {
    "duration": 5,
    "start_time": "2022-05-11T11:55:41.362Z"
   },
   {
    "duration": 61,
    "start_time": "2022-05-11T11:55:41.369Z"
   },
   {
    "duration": 10,
    "start_time": "2022-05-11T11:55:41.432Z"
   },
   {
    "duration": 21,
    "start_time": "2022-05-11T11:55:41.444Z"
   },
   {
    "duration": 7,
    "start_time": "2022-05-11T11:55:41.467Z"
   },
   {
    "duration": 8,
    "start_time": "2022-05-11T11:55:41.476Z"
   },
   {
    "duration": 74,
    "start_time": "2022-05-11T11:55:41.487Z"
   },
   {
    "duration": 5,
    "start_time": "2022-05-11T11:55:41.563Z"
   },
   {
    "duration": 9,
    "start_time": "2022-05-11T11:55:41.570Z"
   },
   {
    "duration": 6,
    "start_time": "2022-05-11T11:55:41.581Z"
   },
   {
    "duration": 35,
    "start_time": "2022-05-11T11:55:41.589Z"
   },
   {
    "duration": 34,
    "start_time": "2022-05-11T11:55:41.627Z"
   },
   {
    "duration": 265,
    "start_time": "2022-05-11T11:55:41.664Z"
   },
   {
    "duration": 19,
    "start_time": "2022-05-11T11:55:41.932Z"
   },
   {
    "duration": 12,
    "start_time": "2022-05-11T11:55:41.953Z"
   },
   {
    "duration": 14,
    "start_time": "2022-05-11T11:55:41.968Z"
   },
   {
    "duration": 6,
    "start_time": "2022-05-11T11:55:41.985Z"
   },
   {
    "duration": 5,
    "start_time": "2022-05-11T11:55:42.029Z"
   },
   {
    "duration": 10,
    "start_time": "2022-05-11T11:55:42.037Z"
   },
   {
    "duration": 20,
    "start_time": "2022-05-11T11:55:42.049Z"
   },
   {
    "duration": 15,
    "start_time": "2022-05-11T11:55:42.071Z"
   },
   {
    "duration": 8,
    "start_time": "2022-05-11T11:55:42.088Z"
   },
   {
    "duration": 51,
    "start_time": "2022-05-11T11:55:42.098Z"
   },
   {
    "duration": 30,
    "start_time": "2022-05-11T11:55:42.152Z"
   },
   {
    "duration": 54,
    "start_time": "2022-05-11T11:55:42.184Z"
   },
   {
    "duration": 14,
    "start_time": "2022-05-11T11:55:42.241Z"
   },
   {
    "duration": 71,
    "start_time": "2022-05-11T11:55:42.258Z"
   },
   {
    "duration": 9,
    "start_time": "2022-05-11T11:55:42.331Z"
   },
   {
    "duration": 26,
    "start_time": "2022-05-11T11:55:42.342Z"
   },
   {
    "duration": 14,
    "start_time": "2022-05-11T11:55:42.425Z"
   },
   {
    "duration": 82,
    "start_time": "2022-05-11T11:55:42.442Z"
   },
   {
    "duration": 14,
    "start_time": "2022-05-11T11:55:42.527Z"
   },
   {
    "duration": 15,
    "start_time": "2022-05-11T11:55:42.544Z"
   },
   {
    "duration": 76,
    "start_time": "2022-05-11T11:55:42.562Z"
   },
   {
    "duration": 18,
    "start_time": "2022-05-11T11:55:42.641Z"
   },
   {
    "duration": 81,
    "start_time": "2022-05-11T11:55:42.662Z"
   },
   {
    "duration": 8,
    "start_time": "2022-05-11T11:55:42.745Z"
   },
   {
    "duration": 80,
    "start_time": "2022-05-11T11:55:42.755Z"
   },
   {
    "duration": 27,
    "start_time": "2022-05-11T11:55:42.838Z"
   },
   {
    "duration": 64,
    "start_time": "2022-05-11T11:55:42.868Z"
   },
   {
    "duration": 9,
    "start_time": "2022-05-11T11:55:42.934Z"
   },
   {
    "duration": 424,
    "start_time": "2022-05-11T11:55:42.945Z"
   },
   {
    "duration": 9,
    "start_time": "2022-05-11T11:55:43.424Z"
   },
   {
    "duration": 29,
    "start_time": "2022-05-11T11:55:43.435Z"
   },
   {
    "duration": 7,
    "start_time": "2022-05-11T11:56:02.508Z"
   },
   {
    "duration": 534,
    "start_time": "2022-05-11T11:56:18.620Z"
   },
   {
    "duration": 78,
    "start_time": "2022-05-11T11:56:19.156Z"
   },
   {
    "duration": 31,
    "start_time": "2022-05-11T11:56:19.237Z"
   },
   {
    "duration": 23,
    "start_time": "2022-05-11T11:56:19.271Z"
   },
   {
    "duration": 39,
    "start_time": "2022-05-11T11:56:19.296Z"
   },
   {
    "duration": 7,
    "start_time": "2022-05-11T11:56:19.337Z"
   },
   {
    "duration": 10,
    "start_time": "2022-05-11T11:56:19.347Z"
   },
   {
    "duration": 8,
    "start_time": "2022-05-11T11:56:19.359Z"
   },
   {
    "duration": 8,
    "start_time": "2022-05-11T11:56:19.370Z"
   },
   {
    "duration": 10,
    "start_time": "2022-05-11T11:56:19.425Z"
   },
   {
    "duration": 6,
    "start_time": "2022-05-11T11:56:19.438Z"
   },
   {
    "duration": 14,
    "start_time": "2022-05-11T11:56:19.446Z"
   },
   {
    "duration": 9,
    "start_time": "2022-05-11T11:56:19.462Z"
   },
   {
    "duration": 68,
    "start_time": "2022-05-11T11:56:19.474Z"
   },
   {
    "duration": 8,
    "start_time": "2022-05-11T11:56:19.544Z"
   },
   {
    "duration": 9,
    "start_time": "2022-05-11T11:56:19.554Z"
   },
   {
    "duration": 64,
    "start_time": "2022-05-11T11:56:19.566Z"
   },
   {
    "duration": 6,
    "start_time": "2022-05-11T11:56:19.632Z"
   },
   {
    "duration": 7,
    "start_time": "2022-05-11T11:56:19.640Z"
   },
   {
    "duration": 6,
    "start_time": "2022-05-11T11:56:19.649Z"
   },
   {
    "duration": 9,
    "start_time": "2022-05-11T11:56:19.658Z"
   },
   {
    "duration": 76,
    "start_time": "2022-05-11T11:56:19.669Z"
   },
   {
    "duration": 240,
    "start_time": "2022-05-11T11:56:19.747Z"
   },
   {
    "duration": 21,
    "start_time": "2022-05-11T11:56:19.989Z"
   },
   {
    "duration": 18,
    "start_time": "2022-05-11T11:56:20.012Z"
   },
   {
    "duration": 18,
    "start_time": "2022-05-11T11:56:20.032Z"
   },
   {
    "duration": 9,
    "start_time": "2022-05-11T11:56:20.052Z"
   },
   {
    "duration": 6,
    "start_time": "2022-05-11T11:56:20.067Z"
   },
   {
    "duration": 49,
    "start_time": "2022-05-11T11:56:20.075Z"
   },
   {
    "duration": 7,
    "start_time": "2022-05-11T11:56:20.127Z"
   },
   {
    "duration": 16,
    "start_time": "2022-05-11T11:56:20.136Z"
   },
   {
    "duration": 15,
    "start_time": "2022-05-11T11:56:20.154Z"
   },
   {
    "duration": 58,
    "start_time": "2022-05-11T11:56:20.172Z"
   },
   {
    "duration": 30,
    "start_time": "2022-05-11T11:56:20.233Z"
   },
   {
    "duration": 27,
    "start_time": "2022-05-11T11:56:20.265Z"
   },
   {
    "duration": 32,
    "start_time": "2022-05-11T11:56:20.294Z"
   },
   {
    "duration": 22,
    "start_time": "2022-05-11T11:56:20.329Z"
   },
   {
    "duration": 14,
    "start_time": "2022-05-11T11:56:20.353Z"
   },
   {
    "duration": 60,
    "start_time": "2022-05-11T11:56:20.370Z"
   },
   {
    "duration": 12,
    "start_time": "2022-05-11T11:56:20.433Z"
   },
   {
    "duration": 27,
    "start_time": "2022-05-11T11:56:20.447Z"
   },
   {
    "duration": 48,
    "start_time": "2022-05-11T11:56:20.478Z"
   },
   {
    "duration": 11,
    "start_time": "2022-05-11T11:56:20.528Z"
   },
   {
    "duration": 15,
    "start_time": "2022-05-11T11:56:20.541Z"
   },
   {
    "duration": 16,
    "start_time": "2022-05-11T11:56:20.558Z"
   },
   {
    "duration": 63,
    "start_time": "2022-05-11T11:56:20.576Z"
   },
   {
    "duration": 5,
    "start_time": "2022-05-11T11:56:20.642Z"
   },
   {
    "duration": 79,
    "start_time": "2022-05-11T11:56:20.650Z"
   },
   {
    "duration": 28,
    "start_time": "2022-05-11T11:56:20.732Z"
   },
   {
    "duration": 74,
    "start_time": "2022-05-11T11:56:20.763Z"
   },
   {
    "duration": 12,
    "start_time": "2022-05-11T11:56:20.840Z"
   },
   {
    "duration": 771,
    "start_time": "2022-05-11T11:56:20.854Z"
   },
   {
    "duration": 14,
    "start_time": "2022-05-11T11:56:21.628Z"
   },
   {
    "duration": 90,
    "start_time": "2022-05-11T11:56:21.645Z"
   },
   {
    "duration": 6,
    "start_time": "2022-05-11T12:03:24.079Z"
   },
   {
    "duration": 582,
    "start_time": "2022-05-11T12:03:29.688Z"
   },
   {
    "duration": 86,
    "start_time": "2022-05-11T12:03:30.273Z"
   },
   {
    "duration": 31,
    "start_time": "2022-05-11T12:03:30.361Z"
   },
   {
    "duration": 49,
    "start_time": "2022-05-11T12:03:30.396Z"
   },
   {
    "duration": 18,
    "start_time": "2022-05-11T12:03:30.448Z"
   },
   {
    "duration": 24,
    "start_time": "2022-05-11T12:03:30.468Z"
   },
   {
    "duration": 23,
    "start_time": "2022-05-11T12:03:30.494Z"
   },
   {
    "duration": 18,
    "start_time": "2022-05-11T12:03:30.520Z"
   },
   {
    "duration": 14,
    "start_time": "2022-05-11T12:03:30.541Z"
   },
   {
    "duration": 26,
    "start_time": "2022-05-11T12:03:30.559Z"
   },
   {
    "duration": 19,
    "start_time": "2022-05-11T12:03:30.588Z"
   },
   {
    "duration": 44,
    "start_time": "2022-05-11T12:03:30.609Z"
   },
   {
    "duration": 18,
    "start_time": "2022-05-11T12:03:30.656Z"
   },
   {
    "duration": 44,
    "start_time": "2022-05-11T12:03:30.676Z"
   },
   {
    "duration": 27,
    "start_time": "2022-05-11T12:03:30.722Z"
   },
   {
    "duration": 25,
    "start_time": "2022-05-11T12:03:30.752Z"
   },
   {
    "duration": 55,
    "start_time": "2022-05-11T12:03:30.780Z"
   },
   {
    "duration": 6,
    "start_time": "2022-05-11T12:03:30.838Z"
   },
   {
    "duration": 16,
    "start_time": "2022-05-11T12:03:30.847Z"
   },
   {
    "duration": 19,
    "start_time": "2022-05-11T12:03:30.866Z"
   },
   {
    "duration": 19,
    "start_time": "2022-05-11T12:03:30.888Z"
   },
   {
    "duration": 47,
    "start_time": "2022-05-11T12:03:30.910Z"
   },
   {
    "duration": 267,
    "start_time": "2022-05-11T12:03:30.960Z"
   },
   {
    "duration": 24,
    "start_time": "2022-05-11T12:03:31.231Z"
   },
   {
    "duration": 11,
    "start_time": "2022-05-11T12:03:31.257Z"
   },
   {
    "duration": 22,
    "start_time": "2022-05-11T12:03:31.270Z"
   },
   {
    "duration": 33,
    "start_time": "2022-05-11T12:03:31.294Z"
   },
   {
    "duration": 6,
    "start_time": "2022-05-11T12:03:31.338Z"
   },
   {
    "duration": 26,
    "start_time": "2022-05-11T12:03:31.346Z"
   },
   {
    "duration": 23,
    "start_time": "2022-05-11T12:03:31.374Z"
   },
   {
    "duration": 17,
    "start_time": "2022-05-11T12:03:31.400Z"
   },
   {
    "duration": 16,
    "start_time": "2022-05-11T12:03:31.419Z"
   },
   {
    "duration": 49,
    "start_time": "2022-05-11T12:03:31.439Z"
   },
   {
    "duration": 51,
    "start_time": "2022-05-11T12:03:31.490Z"
   },
   {
    "duration": 27,
    "start_time": "2022-05-11T12:03:31.544Z"
   },
   {
    "duration": 10,
    "start_time": "2022-05-11T12:03:31.574Z"
   },
   {
    "duration": 57,
    "start_time": "2022-05-11T12:03:31.586Z"
   },
   {
    "duration": 10,
    "start_time": "2022-05-11T12:03:31.645Z"
   },
   {
    "duration": 32,
    "start_time": "2022-05-11T12:03:31.658Z"
   },
   {
    "duration": 41,
    "start_time": "2022-05-11T12:03:31.692Z"
   },
   {
    "duration": 52,
    "start_time": "2022-05-11T12:03:31.737Z"
   },
   {
    "duration": 26,
    "start_time": "2022-05-11T12:03:31.792Z"
   },
   {
    "duration": 34,
    "start_time": "2022-05-11T12:03:31.821Z"
   },
   {
    "duration": 31,
    "start_time": "2022-05-11T12:03:31.857Z"
   },
   {
    "duration": 57,
    "start_time": "2022-05-11T12:03:31.891Z"
   },
   {
    "duration": 30,
    "start_time": "2022-05-11T12:03:31.951Z"
   },
   {
    "duration": 24,
    "start_time": "2022-05-11T12:03:31.983Z"
   },
   {
    "duration": 30,
    "start_time": "2022-05-11T12:03:32.010Z"
   },
   {
    "duration": 34,
    "start_time": "2022-05-11T12:03:32.042Z"
   },
   {
    "duration": 22,
    "start_time": "2022-05-11T12:03:32.079Z"
   },
   {
    "duration": 9,
    "start_time": "2022-05-11T12:03:32.103Z"
   },
   {
    "duration": 291,
    "start_time": "2022-05-11T12:03:32.114Z"
   },
   {
    "duration": 20,
    "start_time": "2022-05-11T12:03:32.407Z"
   },
   {
    "duration": 46,
    "start_time": "2022-05-11T12:03:32.431Z"
   },
   {
    "duration": 135,
    "start_time": "2022-05-11T12:07:24.336Z"
   },
   {
    "duration": 7,
    "start_time": "2022-05-11T12:08:08.229Z"
   },
   {
    "duration": 6,
    "start_time": "2022-05-11T12:08:58.376Z"
   },
   {
    "duration": 572,
    "start_time": "2022-05-11T12:09:11.790Z"
   },
   {
    "duration": 81,
    "start_time": "2022-05-11T12:09:12.365Z"
   },
   {
    "duration": 32,
    "start_time": "2022-05-11T12:09:12.449Z"
   },
   {
    "duration": 44,
    "start_time": "2022-05-11T12:09:12.485Z"
   },
   {
    "duration": 15,
    "start_time": "2022-05-11T12:09:12.531Z"
   },
   {
    "duration": 10,
    "start_time": "2022-05-11T12:09:12.549Z"
   },
   {
    "duration": 16,
    "start_time": "2022-05-11T12:09:12.562Z"
   },
   {
    "duration": 11,
    "start_time": "2022-05-11T12:09:12.580Z"
   },
   {
    "duration": 36,
    "start_time": "2022-05-11T12:09:12.593Z"
   },
   {
    "duration": 28,
    "start_time": "2022-05-11T12:09:12.634Z"
   },
   {
    "duration": 9,
    "start_time": "2022-05-11T12:09:12.665Z"
   },
   {
    "duration": 17,
    "start_time": "2022-05-11T12:09:12.676Z"
   },
   {
    "duration": 12,
    "start_time": "2022-05-11T12:09:12.695Z"
   },
   {
    "duration": 23,
    "start_time": "2022-05-11T12:09:12.725Z"
   },
   {
    "duration": 7,
    "start_time": "2022-05-11T12:09:12.750Z"
   },
   {
    "duration": 11,
    "start_time": "2022-05-11T12:09:12.759Z"
   },
   {
    "duration": 78,
    "start_time": "2022-05-11T12:09:12.772Z"
   },
   {
    "duration": 5,
    "start_time": "2022-05-11T12:09:12.853Z"
   },
   {
    "duration": 9,
    "start_time": "2022-05-11T12:09:12.861Z"
   },
   {
    "duration": 12,
    "start_time": "2022-05-11T12:09:12.873Z"
   },
   {
    "duration": 38,
    "start_time": "2022-05-11T12:09:12.888Z"
   },
   {
    "duration": 48,
    "start_time": "2022-05-11T12:09:12.928Z"
   },
   {
    "duration": 246,
    "start_time": "2022-05-11T12:09:12.978Z"
   },
   {
    "duration": 19,
    "start_time": "2022-05-11T12:09:13.226Z"
   },
   {
    "duration": 13,
    "start_time": "2022-05-11T12:09:13.247Z"
   },
   {
    "duration": 16,
    "start_time": "2022-05-11T12:09:13.263Z"
   },
   {
    "duration": 8,
    "start_time": "2022-05-11T12:09:13.281Z"
   },
   {
    "duration": 6,
    "start_time": "2022-05-11T12:09:13.327Z"
   },
   {
    "duration": 10,
    "start_time": "2022-05-11T12:09:13.335Z"
   },
   {
    "duration": 15,
    "start_time": "2022-05-11T12:09:13.347Z"
   },
   {
    "duration": 9,
    "start_time": "2022-05-11T12:09:13.365Z"
   },
   {
    "duration": 8,
    "start_time": "2022-05-11T12:09:13.376Z"
   },
   {
    "duration": 61,
    "start_time": "2022-05-11T12:09:13.386Z"
   },
   {
    "duration": 30,
    "start_time": "2022-05-11T12:09:13.449Z"
   },
   {
    "duration": 52,
    "start_time": "2022-05-11T12:09:13.482Z"
   },
   {
    "duration": 10,
    "start_time": "2022-05-11T12:09:13.536Z"
   },
   {
    "duration": 31,
    "start_time": "2022-05-11T12:09:13.548Z"
   },
   {
    "duration": 10,
    "start_time": "2022-05-11T12:09:13.581Z"
   },
   {
    "duration": 51,
    "start_time": "2022-05-11T12:09:13.594Z"
   },
   {
    "duration": 16,
    "start_time": "2022-05-11T12:09:13.648Z"
   },
   {
    "duration": 23,
    "start_time": "2022-05-11T12:09:13.667Z"
   },
   {
    "duration": 37,
    "start_time": "2022-05-11T12:09:13.693Z"
   },
   {
    "duration": 21,
    "start_time": "2022-05-11T12:09:13.733Z"
   },
   {
    "duration": 15,
    "start_time": "2022-05-11T12:09:13.756Z"
   },
   {
    "duration": 12,
    "start_time": "2022-05-11T12:09:13.774Z"
   },
   {
    "duration": 47,
    "start_time": "2022-05-11T12:09:13.788Z"
   },
   {
    "duration": 7,
    "start_time": "2022-05-11T12:09:13.837Z"
   },
   {
    "duration": 22,
    "start_time": "2022-05-11T12:09:13.846Z"
   },
   {
    "duration": 24,
    "start_time": "2022-05-11T12:09:13.870Z"
   },
   {
    "duration": 29,
    "start_time": "2022-05-11T12:09:13.896Z"
   },
   {
    "duration": 5,
    "start_time": "2022-05-11T12:09:13.928Z"
   },
   {
    "duration": 243,
    "start_time": "2022-05-11T12:09:13.935Z"
   },
   {
    "duration": 10,
    "start_time": "2022-05-11T12:09:14.180Z"
   },
   {
    "duration": 38,
    "start_time": "2022-05-11T12:09:14.192Z"
   },
   {
    "duration": 15,
    "start_time": "2022-05-11T12:09:36.640Z"
   },
   {
    "duration": 14,
    "start_time": "2022-05-11T12:09:41.573Z"
   },
   {
    "duration": 6,
    "start_time": "2022-05-11T12:10:01.807Z"
   },
   {
    "duration": 23,
    "start_time": "2022-05-11T12:10:06.761Z"
   },
   {
    "duration": 5,
    "start_time": "2022-05-11T12:10:11.473Z"
   },
   {
    "duration": 6,
    "start_time": "2022-05-11T12:12:15.687Z"
   },
   {
    "duration": 535,
    "start_time": "2022-05-11T12:12:35.327Z"
   },
   {
    "duration": 82,
    "start_time": "2022-05-11T12:12:35.865Z"
   },
   {
    "duration": 31,
    "start_time": "2022-05-11T12:12:35.949Z"
   },
   {
    "duration": 44,
    "start_time": "2022-05-11T12:12:35.982Z"
   },
   {
    "duration": 24,
    "start_time": "2022-05-11T12:12:36.029Z"
   },
   {
    "duration": 9,
    "start_time": "2022-05-11T12:12:36.055Z"
   },
   {
    "duration": 9,
    "start_time": "2022-05-11T12:12:36.067Z"
   },
   {
    "duration": 5,
    "start_time": "2022-05-11T12:12:36.078Z"
   },
   {
    "duration": 50,
    "start_time": "2022-05-11T12:12:36.086Z"
   },
   {
    "duration": 10,
    "start_time": "2022-05-11T12:12:36.142Z"
   },
   {
    "duration": 5,
    "start_time": "2022-05-11T12:12:36.154Z"
   },
   {
    "duration": 16,
    "start_time": "2022-05-11T12:12:36.161Z"
   },
   {
    "duration": 8,
    "start_time": "2022-05-11T12:12:36.179Z"
   },
   {
    "duration": 58,
    "start_time": "2022-05-11T12:12:36.189Z"
   },
   {
    "duration": 9,
    "start_time": "2022-05-11T12:12:36.256Z"
   },
   {
    "duration": 10,
    "start_time": "2022-05-11T12:12:36.268Z"
   },
   {
    "duration": 73,
    "start_time": "2022-05-11T12:12:36.280Z"
   },
   {
    "duration": 5,
    "start_time": "2022-05-11T12:12:36.356Z"
   },
   {
    "duration": 7,
    "start_time": "2022-05-11T12:12:36.364Z"
   },
   {
    "duration": 9,
    "start_time": "2022-05-11T12:12:36.373Z"
   },
   {
    "duration": 13,
    "start_time": "2022-05-11T12:12:36.384Z"
   },
   {
    "duration": 36,
    "start_time": "2022-05-11T12:12:36.424Z"
   },
   {
    "duration": 271,
    "start_time": "2022-05-11T12:12:36.463Z"
   },
   {
    "duration": 22,
    "start_time": "2022-05-11T12:12:36.738Z"
   },
   {
    "duration": 24,
    "start_time": "2022-05-11T12:12:36.762Z"
   },
   {
    "duration": 27,
    "start_time": "2022-05-11T12:12:36.788Z"
   },
   {
    "duration": 15,
    "start_time": "2022-05-11T12:12:36.818Z"
   },
   {
    "duration": 22,
    "start_time": "2022-05-11T12:12:36.839Z"
   },
   {
    "duration": 12,
    "start_time": "2022-05-11T12:12:36.863Z"
   },
   {
    "duration": 21,
    "start_time": "2022-05-11T12:12:36.878Z"
   },
   {
    "duration": 37,
    "start_time": "2022-05-11T12:12:36.901Z"
   },
   {
    "duration": 10,
    "start_time": "2022-05-11T12:12:36.940Z"
   },
   {
    "duration": 58,
    "start_time": "2022-05-11T12:12:36.952Z"
   },
   {
    "duration": 32,
    "start_time": "2022-05-11T12:12:37.012Z"
   },
   {
    "duration": 26,
    "start_time": "2022-05-11T12:12:37.046Z"
   },
   {
    "duration": 15,
    "start_time": "2022-05-11T12:12:37.075Z"
   },
   {
    "duration": 52,
    "start_time": "2022-05-11T12:12:37.092Z"
   },
   {
    "duration": 13,
    "start_time": "2022-05-11T12:12:37.147Z"
   },
   {
    "duration": 46,
    "start_time": "2022-05-11T12:12:37.163Z"
   },
   {
    "duration": 40,
    "start_time": "2022-05-11T12:12:37.211Z"
   },
   {
    "duration": 34,
    "start_time": "2022-05-11T12:12:37.254Z"
   },
   {
    "duration": 35,
    "start_time": "2022-05-11T12:12:37.290Z"
   },
   {
    "duration": 21,
    "start_time": "2022-05-11T12:12:37.330Z"
   },
   {
    "duration": 36,
    "start_time": "2022-05-11T12:12:37.353Z"
   },
   {
    "duration": 28,
    "start_time": "2022-05-11T12:12:37.392Z"
   },
   {
    "duration": 44,
    "start_time": "2022-05-11T12:12:37.422Z"
   },
   {
    "duration": 11,
    "start_time": "2022-05-11T12:12:37.468Z"
   },
   {
    "duration": 20,
    "start_time": "2022-05-11T12:12:37.481Z"
   },
   {
    "duration": 34,
    "start_time": "2022-05-11T12:12:37.504Z"
   },
   {
    "duration": 17,
    "start_time": "2022-05-11T12:12:37.541Z"
   },
   {
    "duration": 32,
    "start_time": "2022-05-11T12:12:37.560Z"
   },
   {
    "duration": 370,
    "start_time": "2022-05-11T12:12:37.594Z"
   },
   {
    "duration": 62,
    "start_time": "2022-05-11T12:12:37.966Z"
   },
   {
    "duration": 97,
    "start_time": "2022-05-11T12:12:38.030Z"
   },
   {
    "duration": 8,
    "start_time": "2022-05-11T12:13:10.166Z"
   },
   {
    "duration": 4,
    "start_time": "2022-05-11T12:13:42.467Z"
   },
   {
    "duration": 7,
    "start_time": "2022-05-11T12:13:45.397Z"
   },
   {
    "duration": 5,
    "start_time": "2022-05-11T12:14:05.296Z"
   },
   {
    "duration": 7,
    "start_time": "2022-05-11T12:14:06.484Z"
   },
   {
    "duration": 665,
    "start_time": "2022-05-11T12:14:15.603Z"
   },
   {
    "duration": 85,
    "start_time": "2022-05-11T12:14:16.271Z"
   },
   {
    "duration": 31,
    "start_time": "2022-05-11T12:14:16.358Z"
   },
   {
    "duration": 43,
    "start_time": "2022-05-11T12:14:16.391Z"
   },
   {
    "duration": 14,
    "start_time": "2022-05-11T12:14:16.442Z"
   },
   {
    "duration": 6,
    "start_time": "2022-05-11T12:14:16.458Z"
   },
   {
    "duration": 9,
    "start_time": "2022-05-11T12:14:16.466Z"
   },
   {
    "duration": 5,
    "start_time": "2022-05-11T12:14:16.477Z"
   },
   {
    "duration": 47,
    "start_time": "2022-05-11T12:14:16.484Z"
   },
   {
    "duration": 19,
    "start_time": "2022-05-11T12:14:16.533Z"
   },
   {
    "duration": 5,
    "start_time": "2022-05-11T12:14:16.554Z"
   },
   {
    "duration": 10,
    "start_time": "2022-05-11T12:14:16.561Z"
   },
   {
    "duration": 8,
    "start_time": "2022-05-11T12:14:16.574Z"
   },
   {
    "duration": 58,
    "start_time": "2022-05-11T12:14:16.587Z"
   },
   {
    "duration": 5,
    "start_time": "2022-05-11T12:14:16.648Z"
   },
   {
    "duration": 8,
    "start_time": "2022-05-11T12:14:16.655Z"
   },
   {
    "duration": 73,
    "start_time": "2022-05-11T12:14:16.665Z"
   },
   {
    "duration": 5,
    "start_time": "2022-05-11T12:14:16.740Z"
   },
   {
    "duration": 9,
    "start_time": "2022-05-11T12:14:16.747Z"
   },
   {
    "duration": 7,
    "start_time": "2022-05-11T12:14:16.758Z"
   },
   {
    "duration": 8,
    "start_time": "2022-05-11T12:14:16.767Z"
   },
   {
    "duration": 66,
    "start_time": "2022-05-11T12:14:16.777Z"
   },
   {
    "duration": 258,
    "start_time": "2022-05-11T12:14:16.845Z"
   },
   {
    "duration": 30,
    "start_time": "2022-05-11T12:14:17.105Z"
   },
   {
    "duration": 14,
    "start_time": "2022-05-11T12:14:17.137Z"
   },
   {
    "duration": 16,
    "start_time": "2022-05-11T12:14:17.153Z"
   },
   {
    "duration": 17,
    "start_time": "2022-05-11T12:14:17.171Z"
   },
   {
    "duration": 10,
    "start_time": "2022-05-11T12:14:17.190Z"
   },
   {
    "duration": 34,
    "start_time": "2022-05-11T12:14:17.202Z"
   },
   {
    "duration": 16,
    "start_time": "2022-05-11T12:14:17.240Z"
   },
   {
    "duration": 11,
    "start_time": "2022-05-11T12:14:17.258Z"
   },
   {
    "duration": 9,
    "start_time": "2022-05-11T12:14:17.271Z"
   },
   {
    "duration": 63,
    "start_time": "2022-05-11T12:14:17.282Z"
   },
   {
    "duration": 31,
    "start_time": "2022-05-11T12:14:17.348Z"
   },
   {
    "duration": 47,
    "start_time": "2022-05-11T12:14:17.382Z"
   },
   {
    "duration": 13,
    "start_time": "2022-05-11T12:14:17.432Z"
   },
   {
    "duration": 37,
    "start_time": "2022-05-11T12:14:17.447Z"
   },
   {
    "duration": 12,
    "start_time": "2022-05-11T12:14:17.486Z"
   },
   {
    "duration": 52,
    "start_time": "2022-05-11T12:14:17.501Z"
   },
   {
    "duration": 10,
    "start_time": "2022-05-11T12:14:17.556Z"
   },
   {
    "duration": 19,
    "start_time": "2022-05-11T12:14:17.572Z"
   },
   {
    "duration": 18,
    "start_time": "2022-05-11T12:14:17.624Z"
   },
   {
    "duration": 19,
    "start_time": "2022-05-11T12:14:17.645Z"
   },
   {
    "duration": 25,
    "start_time": "2022-05-11T12:14:17.666Z"
   },
   {
    "duration": 15,
    "start_time": "2022-05-11T12:14:17.693Z"
   },
   {
    "duration": 20,
    "start_time": "2022-05-11T12:14:17.733Z"
   },
   {
    "duration": 6,
    "start_time": "2022-05-11T12:14:17.755Z"
   },
   {
    "duration": 18,
    "start_time": "2022-05-11T12:14:17.764Z"
   },
   {
    "duration": 49,
    "start_time": "2022-05-11T12:14:17.784Z"
   },
   {
    "duration": 18,
    "start_time": "2022-05-11T12:14:17.836Z"
   },
   {
    "duration": 11,
    "start_time": "2022-05-11T12:14:17.856Z"
   },
   {
    "duration": 278,
    "start_time": "2022-05-11T12:14:17.869Z"
   },
   {
    "duration": 10,
    "start_time": "2022-05-11T12:14:18.149Z"
   },
   {
    "duration": 23,
    "start_time": "2022-05-11T12:14:18.162Z"
   },
   {
    "duration": 14,
    "start_time": "2022-05-11T12:16:34.906Z"
   },
   {
    "duration": 503,
    "start_time": "2022-05-11T12:16:39.438Z"
   },
   {
    "duration": 80,
    "start_time": "2022-05-11T12:16:39.944Z"
   },
   {
    "duration": 32,
    "start_time": "2022-05-11T12:16:40.033Z"
   },
   {
    "duration": 26,
    "start_time": "2022-05-11T12:16:40.068Z"
   },
   {
    "duration": 29,
    "start_time": "2022-05-11T12:16:40.098Z"
   },
   {
    "duration": 23,
    "start_time": "2022-05-11T12:16:40.129Z"
   },
   {
    "duration": 31,
    "start_time": "2022-05-11T12:16:40.154Z"
   },
   {
    "duration": 24,
    "start_time": "2022-05-11T12:16:40.188Z"
   },
   {
    "duration": 37,
    "start_time": "2022-05-11T12:16:40.214Z"
   },
   {
    "duration": 17,
    "start_time": "2022-05-11T12:16:40.254Z"
   },
   {
    "duration": 18,
    "start_time": "2022-05-11T12:16:40.273Z"
   },
   {
    "duration": 15,
    "start_time": "2022-05-11T12:16:40.293Z"
   },
   {
    "duration": 11,
    "start_time": "2022-05-11T12:16:40.310Z"
   },
   {
    "duration": 30,
    "start_time": "2022-05-11T12:16:40.333Z"
   },
   {
    "duration": 18,
    "start_time": "2022-05-11T12:16:40.365Z"
   },
   {
    "duration": 27,
    "start_time": "2022-05-11T12:16:40.385Z"
   },
   {
    "duration": 42,
    "start_time": "2022-05-11T12:16:40.414Z"
   },
   {
    "duration": 5,
    "start_time": "2022-05-11T12:16:40.459Z"
   },
   {
    "duration": 32,
    "start_time": "2022-05-11T12:16:40.467Z"
   },
   {
    "duration": 6,
    "start_time": "2022-05-11T12:16:40.501Z"
   },
   {
    "duration": 24,
    "start_time": "2022-05-11T12:16:40.510Z"
   },
   {
    "duration": 53,
    "start_time": "2022-05-11T12:16:40.537Z"
   },
   {
    "duration": 237,
    "start_time": "2022-05-11T12:16:40.592Z"
   },
   {
    "duration": 18,
    "start_time": "2022-05-11T12:16:40.833Z"
   },
   {
    "duration": 25,
    "start_time": "2022-05-11T12:16:40.853Z"
   },
   {
    "duration": 29,
    "start_time": "2022-05-11T12:16:40.880Z"
   },
   {
    "duration": 18,
    "start_time": "2022-05-11T12:16:40.911Z"
   },
   {
    "duration": 25,
    "start_time": "2022-05-11T12:16:40.932Z"
   },
   {
    "duration": 9,
    "start_time": "2022-05-11T12:16:40.959Z"
   },
   {
    "duration": 26,
    "start_time": "2022-05-11T12:16:40.970Z"
   },
   {
    "duration": 20,
    "start_time": "2022-05-11T12:16:40.998Z"
   },
   {
    "duration": 28,
    "start_time": "2022-05-11T12:16:41.020Z"
   },
   {
    "duration": 40,
    "start_time": "2022-05-11T12:16:41.050Z"
   },
   {
    "duration": 29,
    "start_time": "2022-05-11T12:16:41.092Z"
   },
   {
    "duration": 34,
    "start_time": "2022-05-11T12:16:41.123Z"
   },
   {
    "duration": 9,
    "start_time": "2022-05-11T12:16:41.160Z"
   },
   {
    "duration": 39,
    "start_time": "2022-05-11T12:16:41.171Z"
   },
   {
    "duration": 39,
    "start_time": "2022-05-11T12:16:41.212Z"
   },
   {
    "duration": 39,
    "start_time": "2022-05-11T12:16:41.254Z"
   },
   {
    "duration": 20,
    "start_time": "2022-05-11T12:16:41.295Z"
   },
   {
    "duration": 42,
    "start_time": "2022-05-11T12:16:41.321Z"
   },
   {
    "duration": 19,
    "start_time": "2022-05-11T12:16:41.365Z"
   },
   {
    "duration": 35,
    "start_time": "2022-05-11T12:16:41.387Z"
   },
   {
    "duration": 17,
    "start_time": "2022-05-11T12:16:41.434Z"
   },
   {
    "duration": 26,
    "start_time": "2022-05-11T12:16:41.454Z"
   },
   {
    "duration": 33,
    "start_time": "2022-05-11T12:16:41.482Z"
   },
   {
    "duration": 33,
    "start_time": "2022-05-11T12:16:41.517Z"
   },
   {
    "duration": 34,
    "start_time": "2022-05-11T12:16:41.552Z"
   },
   {
    "duration": 38,
    "start_time": "2022-05-11T12:16:41.588Z"
   },
   {
    "duration": 22,
    "start_time": "2022-05-11T12:16:41.629Z"
   },
   {
    "duration": 28,
    "start_time": "2022-05-11T12:16:41.654Z"
   },
   {
    "duration": 552,
    "start_time": "2022-05-11T12:16:41.685Z"
   },
   {
    "duration": 10,
    "start_time": "2022-05-11T12:16:42.239Z"
   },
   {
    "duration": 97,
    "start_time": "2022-05-11T12:16:42.251Z"
   },
   {
    "duration": 4,
    "start_time": "2022-05-11T12:21:16.788Z"
   },
   {
    "duration": 104,
    "start_time": "2022-05-11T12:22:40.515Z"
   },
   {
    "duration": 9,
    "start_time": "2022-05-11T12:22:41.546Z"
   },
   {
    "duration": 9,
    "start_time": "2022-05-11T12:27:56.192Z"
   },
   {
    "duration": 6,
    "start_time": "2022-05-11T12:28:11.995Z"
   },
   {
    "duration": 4,
    "start_time": "2022-05-11T12:28:51.971Z"
   },
   {
    "duration": 7,
    "start_time": "2022-05-11T12:28:55.745Z"
   },
   {
    "duration": 9,
    "start_time": "2022-05-11T12:30:06.777Z"
   },
   {
    "duration": 13,
    "start_time": "2022-05-11T12:30:09.086Z"
   },
   {
    "duration": 12,
    "start_time": "2022-05-11T12:30:12.018Z"
   },
   {
    "duration": 7,
    "start_time": "2022-05-11T12:30:58.651Z"
   },
   {
    "duration": 6,
    "start_time": "2022-05-11T12:30:59.456Z"
   },
   {
    "duration": 13,
    "start_time": "2022-05-11T12:31:00.161Z"
   },
   {
    "duration": 6,
    "start_time": "2022-05-11T12:31:06.983Z"
   },
   {
    "duration": 11,
    "start_time": "2022-05-11T12:31:08.844Z"
   },
   {
    "duration": 9,
    "start_time": "2022-05-11T12:31:38.807Z"
   },
   {
    "duration": 4,
    "start_time": "2022-05-11T12:32:48.080Z"
   },
   {
    "duration": 8,
    "start_time": "2022-05-11T12:33:03.543Z"
   },
   {
    "duration": 6,
    "start_time": "2022-05-11T12:33:04.561Z"
   },
   {
    "duration": 11,
    "start_time": "2022-05-11T12:33:06.713Z"
   },
   {
    "duration": 5,
    "start_time": "2022-05-11T12:33:34.040Z"
   },
   {
    "duration": 12,
    "start_time": "2022-05-11T12:33:34.596Z"
   },
   {
    "duration": 558,
    "start_time": "2022-05-11T12:33:38.093Z"
   },
   {
    "duration": 123,
    "start_time": "2022-05-11T12:33:38.654Z"
   },
   {
    "duration": 47,
    "start_time": "2022-05-11T12:33:38.780Z"
   },
   {
    "duration": 23,
    "start_time": "2022-05-11T12:33:38.830Z"
   },
   {
    "duration": 18,
    "start_time": "2022-05-11T12:33:38.855Z"
   },
   {
    "duration": 10,
    "start_time": "2022-05-11T12:33:38.875Z"
   },
   {
    "duration": 9,
    "start_time": "2022-05-11T12:33:38.923Z"
   },
   {
    "duration": 16,
    "start_time": "2022-05-11T12:33:38.935Z"
   },
   {
    "duration": 18,
    "start_time": "2022-05-11T12:33:38.954Z"
   },
   {
    "duration": 40,
    "start_time": "2022-05-11T12:33:38.976Z"
   },
   {
    "duration": 20,
    "start_time": "2022-05-11T12:33:39.018Z"
   },
   {
    "duration": 18,
    "start_time": "2022-05-11T12:33:39.041Z"
   },
   {
    "duration": 32,
    "start_time": "2022-05-11T12:33:39.061Z"
   },
   {
    "duration": 46,
    "start_time": "2022-05-11T12:33:39.095Z"
   },
   {
    "duration": 39,
    "start_time": "2022-05-11T12:33:39.144Z"
   },
   {
    "duration": 20,
    "start_time": "2022-05-11T12:33:39.186Z"
   },
   {
    "duration": 79,
    "start_time": "2022-05-11T12:33:39.208Z"
   },
   {
    "duration": 5,
    "start_time": "2022-05-11T12:33:39.290Z"
   },
   {
    "duration": 20,
    "start_time": "2022-05-11T12:33:39.298Z"
   },
   {
    "duration": 5,
    "start_time": "2022-05-11T12:33:39.325Z"
   },
   {
    "duration": 29,
    "start_time": "2022-05-11T12:33:39.333Z"
   },
   {
    "duration": 49,
    "start_time": "2022-05-11T12:33:39.365Z"
   },
   {
    "duration": 247,
    "start_time": "2022-05-11T12:33:39.417Z"
   },
   {
    "duration": 20,
    "start_time": "2022-05-11T12:33:39.666Z"
   },
   {
    "duration": 23,
    "start_time": "2022-05-11T12:33:39.688Z"
   },
   {
    "duration": 20,
    "start_time": "2022-05-11T12:33:39.725Z"
   },
   {
    "duration": 9,
    "start_time": "2022-05-11T12:33:39.747Z"
   },
   {
    "duration": 29,
    "start_time": "2022-05-11T12:33:39.761Z"
   },
   {
    "duration": 20,
    "start_time": "2022-05-11T12:33:39.793Z"
   },
   {
    "duration": 19,
    "start_time": "2022-05-11T12:33:39.816Z"
   },
   {
    "duration": 23,
    "start_time": "2022-05-11T12:33:39.837Z"
   },
   {
    "duration": 13,
    "start_time": "2022-05-11T12:33:39.863Z"
   },
   {
    "duration": 14,
    "start_time": "2022-05-11T12:33:39.878Z"
   },
   {
    "duration": 24,
    "start_time": "2022-05-11T12:33:39.894Z"
   },
   {
    "duration": 10,
    "start_time": "2022-05-11T12:33:39.921Z"
   },
   {
    "duration": 41,
    "start_time": "2022-05-11T12:33:39.933Z"
   },
   {
    "duration": 32,
    "start_time": "2022-05-11T12:33:39.976Z"
   },
   {
    "duration": 28,
    "start_time": "2022-05-11T12:33:40.024Z"
   },
   {
    "duration": 14,
    "start_time": "2022-05-11T12:33:40.055Z"
   },
   {
    "duration": 67,
    "start_time": "2022-05-11T12:33:40.071Z"
   },
   {
    "duration": 14,
    "start_time": "2022-05-11T12:33:40.141Z"
   },
   {
    "duration": 49,
    "start_time": "2022-05-11T12:33:40.158Z"
   },
   {
    "duration": 13,
    "start_time": "2022-05-11T12:33:40.226Z"
   },
   {
    "duration": 37,
    "start_time": "2022-05-11T12:33:40.242Z"
   },
   {
    "duration": 27,
    "start_time": "2022-05-11T12:33:40.282Z"
   },
   {
    "duration": 21,
    "start_time": "2022-05-11T12:33:40.312Z"
   },
   {
    "duration": 32,
    "start_time": "2022-05-11T12:33:40.335Z"
   },
   {
    "duration": 17,
    "start_time": "2022-05-11T12:33:40.369Z"
   },
   {
    "duration": 36,
    "start_time": "2022-05-11T12:33:40.389Z"
   },
   {
    "duration": 6,
    "start_time": "2022-05-11T12:33:40.428Z"
   },
   {
    "duration": 19,
    "start_time": "2022-05-11T12:33:40.437Z"
   },
   {
    "duration": 21,
    "start_time": "2022-05-11T12:33:40.459Z"
   },
   {
    "duration": 44,
    "start_time": "2022-05-11T12:33:40.483Z"
   },
   {
    "duration": 7,
    "start_time": "2022-05-11T12:33:40.530Z"
   },
   {
    "duration": 347,
    "start_time": "2022-05-11T12:33:40.539Z"
   },
   {
    "duration": 9,
    "start_time": "2022-05-11T12:33:40.889Z"
   },
   {
    "duration": 39,
    "start_time": "2022-05-11T12:33:40.901Z"
   },
   {
    "duration": 597,
    "start_time": "2022-05-11T12:34:18.017Z"
   },
   {
    "duration": 78,
    "start_time": "2022-05-11T12:34:18.617Z"
   },
   {
    "duration": 44,
    "start_time": "2022-05-11T12:34:18.698Z"
   },
   {
    "duration": 23,
    "start_time": "2022-05-11T12:34:18.745Z"
   },
   {
    "duration": 55,
    "start_time": "2022-05-11T12:34:18.771Z"
   },
   {
    "duration": 8,
    "start_time": "2022-05-11T12:34:18.829Z"
   },
   {
    "duration": 14,
    "start_time": "2022-05-11T12:34:18.839Z"
   },
   {
    "duration": 5,
    "start_time": "2022-05-11T12:34:18.855Z"
   },
   {
    "duration": 11,
    "start_time": "2022-05-11T12:34:18.862Z"
   },
   {
    "duration": 49,
    "start_time": "2022-05-11T12:34:18.877Z"
   },
   {
    "duration": 6,
    "start_time": "2022-05-11T12:34:18.929Z"
   },
   {
    "duration": 22,
    "start_time": "2022-05-11T12:34:18.938Z"
   },
   {
    "duration": 20,
    "start_time": "2022-05-11T12:34:18.963Z"
   },
   {
    "duration": 45,
    "start_time": "2022-05-11T12:34:18.986Z"
   },
   {
    "duration": 10,
    "start_time": "2022-05-11T12:34:19.034Z"
   },
   {
    "duration": 17,
    "start_time": "2022-05-11T12:34:19.046Z"
   },
   {
    "duration": 65,
    "start_time": "2022-05-11T12:34:19.065Z"
   },
   {
    "duration": 6,
    "start_time": "2022-05-11T12:34:19.133Z"
   },
   {
    "duration": 15,
    "start_time": "2022-05-11T12:34:19.142Z"
   },
   {
    "duration": 6,
    "start_time": "2022-05-11T12:34:19.160Z"
   },
   {
    "duration": 6,
    "start_time": "2022-05-11T12:34:19.169Z"
   },
   {
    "duration": 79,
    "start_time": "2022-05-11T12:34:19.178Z"
   },
   {
    "duration": 412,
    "start_time": "2022-05-11T12:34:19.259Z"
   },
   {
    "duration": 27,
    "start_time": "2022-05-11T12:34:19.674Z"
   },
   {
    "duration": 31,
    "start_time": "2022-05-11T12:34:19.703Z"
   },
   {
    "duration": 24,
    "start_time": "2022-05-11T12:34:19.737Z"
   },
   {
    "duration": 8,
    "start_time": "2022-05-11T12:34:19.764Z"
   },
   {
    "duration": 5,
    "start_time": "2022-05-11T12:34:19.781Z"
   },
   {
    "duration": 5,
    "start_time": "2022-05-11T12:34:19.824Z"
   },
   {
    "duration": 9,
    "start_time": "2022-05-11T12:34:19.831Z"
   },
   {
    "duration": 11,
    "start_time": "2022-05-11T12:34:19.843Z"
   },
   {
    "duration": 8,
    "start_time": "2022-05-11T12:34:19.857Z"
   },
   {
    "duration": 9,
    "start_time": "2022-05-11T12:34:19.868Z"
   },
   {
    "duration": 52,
    "start_time": "2022-05-11T12:34:19.879Z"
   },
   {
    "duration": 12,
    "start_time": "2022-05-11T12:34:19.934Z"
   },
   {
    "duration": 94,
    "start_time": "2022-05-11T12:34:19.949Z"
   },
   {
    "duration": 99,
    "start_time": "2022-05-11T12:34:20.047Z"
   },
   {
    "duration": 85,
    "start_time": "2022-05-11T12:34:20.149Z"
   },
   {
    "duration": 11,
    "start_time": "2022-05-11T12:34:20.236Z"
   },
   {
    "duration": 96,
    "start_time": "2022-05-11T12:34:20.250Z"
   },
   {
    "duration": 14,
    "start_time": "2022-05-11T12:34:20.349Z"
   },
   {
    "duration": 103,
    "start_time": "2022-05-11T12:34:20.366Z"
   },
   {
    "duration": 61,
    "start_time": "2022-05-11T12:34:20.472Z"
   },
   {
    "duration": 24,
    "start_time": "2022-05-11T12:34:20.535Z"
   },
   {
    "duration": 64,
    "start_time": "2022-05-11T12:34:20.562Z"
   },
   {
    "duration": 11,
    "start_time": "2022-05-11T12:34:20.629Z"
   },
   {
    "duration": 20,
    "start_time": "2022-05-11T12:34:20.642Z"
   },
   {
    "duration": 66,
    "start_time": "2022-05-11T12:34:20.664Z"
   },
   {
    "duration": 33,
    "start_time": "2022-05-11T12:34:20.733Z"
   },
   {
    "duration": 76,
    "start_time": "2022-05-11T12:34:20.769Z"
   },
   {
    "duration": 25,
    "start_time": "2022-05-11T12:34:20.848Z"
   },
   {
    "duration": 66,
    "start_time": "2022-05-11T12:34:20.876Z"
   },
   {
    "duration": 14,
    "start_time": "2022-05-11T12:34:20.945Z"
   },
   {
    "duration": 63,
    "start_time": "2022-05-11T12:34:20.962Z"
   },
   {
    "duration": 428,
    "start_time": "2022-05-11T12:34:21.028Z"
   },
   {
    "duration": 65,
    "start_time": "2022-05-11T12:34:21.459Z"
   },
   {
    "duration": 21,
    "start_time": "2022-05-11T12:34:21.527Z"
   },
   {
    "duration": 7,
    "start_time": "2022-05-11T12:34:38.956Z"
   },
   {
    "duration": 5,
    "start_time": "2022-05-11T12:34:39.688Z"
   },
   {
    "duration": 7,
    "start_time": "2022-05-11T12:35:22.567Z"
   },
   {
    "duration": 6,
    "start_time": "2022-05-11T12:36:28.502Z"
   },
   {
    "duration": 130,
    "start_time": "2022-05-11T12:36:29.109Z"
   },
   {
    "duration": 5,
    "start_time": "2022-05-11T12:36:29.611Z"
   },
   {
    "duration": 5,
    "start_time": "2022-05-11T12:36:34.511Z"
   },
   {
    "duration": 9,
    "start_time": "2022-05-11T12:36:35.099Z"
   },
   {
    "duration": 5,
    "start_time": "2022-05-11T12:47:06.740Z"
   },
   {
    "duration": 6,
    "start_time": "2022-05-11T12:47:15.574Z"
   },
   {
    "duration": 6,
    "start_time": "2022-05-11T12:47:19.067Z"
   },
   {
    "duration": 9,
    "start_time": "2022-05-11T12:49:26.845Z"
   },
   {
    "duration": 726,
    "start_time": "2022-05-11T12:50:05.782Z"
   },
   {
    "duration": 120,
    "start_time": "2022-05-11T12:50:06.511Z"
   },
   {
    "duration": 46,
    "start_time": "2022-05-11T12:50:06.634Z"
   },
   {
    "duration": 50,
    "start_time": "2022-05-11T12:50:06.685Z"
   },
   {
    "duration": 15,
    "start_time": "2022-05-11T12:50:06.738Z"
   },
   {
    "duration": 14,
    "start_time": "2022-05-11T12:50:06.756Z"
   },
   {
    "duration": 32,
    "start_time": "2022-05-11T12:50:06.772Z"
   },
   {
    "duration": 6,
    "start_time": "2022-05-11T12:50:06.824Z"
   },
   {
    "duration": 24,
    "start_time": "2022-05-11T12:50:06.833Z"
   },
   {
    "duration": 15,
    "start_time": "2022-05-11T12:50:06.863Z"
   },
   {
    "duration": 9,
    "start_time": "2022-05-11T12:50:06.881Z"
   },
   {
    "duration": 39,
    "start_time": "2022-05-11T12:50:06.893Z"
   },
   {
    "duration": 17,
    "start_time": "2022-05-11T12:50:06.935Z"
   },
   {
    "duration": 31,
    "start_time": "2022-05-11T12:50:06.955Z"
   },
   {
    "duration": 35,
    "start_time": "2022-05-11T12:50:06.989Z"
   },
   {
    "duration": 9,
    "start_time": "2022-05-11T12:50:07.027Z"
   },
   {
    "duration": 58,
    "start_time": "2022-05-11T12:50:07.039Z"
   },
   {
    "duration": 24,
    "start_time": "2022-05-11T12:50:07.101Z"
   },
   {
    "duration": 21,
    "start_time": "2022-05-11T12:50:07.128Z"
   },
   {
    "duration": 26,
    "start_time": "2022-05-11T12:50:07.152Z"
   },
   {
    "duration": 255,
    "start_time": "2022-05-11T12:50:07.181Z"
   },
   {
    "duration": 66,
    "start_time": "2022-05-11T12:50:07.440Z"
   },
   {
    "duration": 238,
    "start_time": "2022-05-11T12:50:07.508Z"
   },
   {
    "duration": 27,
    "start_time": "2022-05-11T12:50:07.748Z"
   },
   {
    "duration": 46,
    "start_time": "2022-05-11T12:50:07.778Z"
   },
   {
    "duration": 26,
    "start_time": "2022-05-11T12:50:07.826Z"
   },
   {
    "duration": 12,
    "start_time": "2022-05-11T12:50:07.856Z"
   },
   {
    "duration": 6,
    "start_time": "2022-05-11T12:50:07.876Z"
   },
   {
    "duration": 40,
    "start_time": "2022-05-11T12:50:07.885Z"
   },
   {
    "duration": 8,
    "start_time": "2022-05-11T12:50:07.928Z"
   },
   {
    "duration": 25,
    "start_time": "2022-05-11T12:50:07.938Z"
   },
   {
    "duration": 11,
    "start_time": "2022-05-11T12:50:07.965Z"
   },
   {
    "duration": 17,
    "start_time": "2022-05-11T12:50:07.978Z"
   },
   {
    "duration": 37,
    "start_time": "2022-05-11T12:50:07.998Z"
   },
   {
    "duration": 39,
    "start_time": "2022-05-11T12:50:08.041Z"
   },
   {
    "duration": 63,
    "start_time": "2022-05-11T12:50:08.083Z"
   },
   {
    "duration": 83,
    "start_time": "2022-05-11T12:50:08.149Z"
   },
   {
    "duration": 10,
    "start_time": "2022-05-11T12:50:08.234Z"
   },
   {
    "duration": 81,
    "start_time": "2022-05-11T12:50:08.247Z"
   },
   {
    "duration": 11,
    "start_time": "2022-05-11T12:50:08.330Z"
   },
   {
    "duration": 82,
    "start_time": "2022-05-11T12:50:08.344Z"
   },
   {
    "duration": 11,
    "start_time": "2022-05-11T12:50:08.428Z"
   },
   {
    "duration": 84,
    "start_time": "2022-05-11T12:50:08.442Z"
   },
   {
    "duration": 22,
    "start_time": "2022-05-11T12:50:08.529Z"
   },
   {
    "duration": 24,
    "start_time": "2022-05-11T12:50:08.554Z"
   },
   {
    "duration": 14,
    "start_time": "2022-05-11T12:50:08.625Z"
   },
   {
    "duration": 20,
    "start_time": "2022-05-11T12:50:08.641Z"
   },
   {
    "duration": 78,
    "start_time": "2022-05-11T12:50:08.664Z"
   },
   {
    "duration": 11,
    "start_time": "2022-05-11T12:50:08.745Z"
   },
   {
    "duration": 67,
    "start_time": "2022-05-11T12:50:08.759Z"
   },
   {
    "duration": 28,
    "start_time": "2022-05-11T12:50:08.829Z"
   },
   {
    "duration": 70,
    "start_time": "2022-05-11T12:50:08.859Z"
   },
   {
    "duration": 17,
    "start_time": "2022-05-11T12:50:08.931Z"
   },
   {
    "duration": 497,
    "start_time": "2022-05-11T12:50:08.952Z"
   },
   {
    "duration": 10,
    "start_time": "2022-05-11T12:50:09.451Z"
   },
   {
    "duration": 78,
    "start_time": "2022-05-11T12:50:09.464Z"
   },
   {
    "duration": 6,
    "start_time": "2022-05-11T12:50:43.490Z"
   },
   {
    "duration": 123,
    "start_time": "2022-05-11T12:50:55.738Z"
   },
   {
    "duration": 7,
    "start_time": "2022-05-11T12:51:04.190Z"
   },
   {
    "duration": 8,
    "start_time": "2022-05-11T12:51:20.086Z"
   },
   {
    "duration": 722,
    "start_time": "2022-05-11T12:51:24.942Z"
   },
   {
    "duration": 123,
    "start_time": "2022-05-11T12:51:25.668Z"
   },
   {
    "duration": 52,
    "start_time": "2022-05-11T12:51:25.794Z"
   },
   {
    "duration": 34,
    "start_time": "2022-05-11T12:51:25.850Z"
   },
   {
    "duration": 46,
    "start_time": "2022-05-11T12:51:25.887Z"
   },
   {
    "duration": 7,
    "start_time": "2022-05-11T12:51:25.935Z"
   },
   {
    "duration": 8,
    "start_time": "2022-05-11T12:51:25.945Z"
   },
   {
    "duration": 7,
    "start_time": "2022-05-11T12:51:25.955Z"
   },
   {
    "duration": 8,
    "start_time": "2022-05-11T12:51:25.965Z"
   },
   {
    "duration": 10,
    "start_time": "2022-05-11T12:51:26.047Z"
   },
   {
    "duration": 8,
    "start_time": "2022-05-11T12:51:26.060Z"
   },
   {
    "duration": 15,
    "start_time": "2022-05-11T12:51:26.071Z"
   },
   {
    "duration": 35,
    "start_time": "2022-05-11T12:51:26.090Z"
   },
   {
    "duration": 25,
    "start_time": "2022-05-11T12:51:26.128Z"
   },
   {
    "duration": 6,
    "start_time": "2022-05-11T12:51:26.156Z"
   },
   {
    "duration": 16,
    "start_time": "2022-05-11T12:51:26.165Z"
   },
   {
    "duration": 101,
    "start_time": "2022-05-11T12:51:26.185Z"
   },
   {
    "duration": 6,
    "start_time": "2022-05-11T12:51:26.290Z"
   },
   {
    "duration": 32,
    "start_time": "2022-05-11T12:51:26.300Z"
   },
   {
    "duration": 7,
    "start_time": "2022-05-11T12:51:26.335Z"
   },
   {
    "duration": 14,
    "start_time": "2022-05-11T12:51:26.345Z"
   },
   {
    "duration": 93,
    "start_time": "2022-05-11T12:51:26.362Z"
   },
   {
    "duration": 250,
    "start_time": "2022-05-11T12:51:26.458Z"
   },
   {
    "duration": 26,
    "start_time": "2022-05-11T12:51:26.711Z"
   },
   {
    "duration": 14,
    "start_time": "2022-05-11T12:51:26.740Z"
   },
   {
    "duration": 22,
    "start_time": "2022-05-11T12:51:26.757Z"
   },
   {
    "duration": 43,
    "start_time": "2022-05-11T12:51:26.783Z"
   },
   {
    "duration": 5,
    "start_time": "2022-05-11T12:51:26.832Z"
   },
   {
    "duration": 7,
    "start_time": "2022-05-11T12:51:26.840Z"
   },
   {
    "duration": 8,
    "start_time": "2022-05-11T12:51:26.850Z"
   },
   {
    "duration": 13,
    "start_time": "2022-05-11T12:51:26.861Z"
   },
   {
    "duration": 5,
    "start_time": "2022-05-11T12:51:26.925Z"
   },
   {
    "duration": 7,
    "start_time": "2022-05-11T12:51:26.933Z"
   },
   {
    "duration": 19,
    "start_time": "2022-05-11T12:51:26.942Z"
   },
   {
    "duration": 75,
    "start_time": "2022-05-11T12:51:26.964Z"
   },
   {
    "duration": 41,
    "start_time": "2022-05-11T12:51:27.042Z"
   },
   {
    "duration": 55,
    "start_time": "2022-05-11T12:51:27.087Z"
   },
   {
    "duration": 10,
    "start_time": "2022-05-11T12:51:27.145Z"
   },
   {
    "duration": 26,
    "start_time": "2022-05-11T12:51:27.158Z"
   },
   {
    "duration": 46,
    "start_time": "2022-05-11T12:51:27.187Z"
   },
   {
    "duration": 44,
    "start_time": "2022-05-11T12:51:27.235Z"
   },
   {
    "duration": 13,
    "start_time": "2022-05-11T12:51:27.282Z"
   },
   {
    "duration": 19,
    "start_time": "2022-05-11T12:51:27.324Z"
   },
   {
    "duration": 15,
    "start_time": "2022-05-11T12:51:27.346Z"
   },
   {
    "duration": 21,
    "start_time": "2022-05-11T12:51:27.363Z"
   },
   {
    "duration": 22,
    "start_time": "2022-05-11T12:51:27.424Z"
   },
   {
    "duration": 14,
    "start_time": "2022-05-11T12:51:27.449Z"
   },
   {
    "duration": 64,
    "start_time": "2022-05-11T12:51:27.466Z"
   },
   {
    "duration": 6,
    "start_time": "2022-05-11T12:51:27.535Z"
   },
   {
    "duration": 24,
    "start_time": "2022-05-11T12:51:27.545Z"
   },
   {
    "duration": 54,
    "start_time": "2022-05-11T12:51:27.572Z"
   },
   {
    "duration": 15,
    "start_time": "2022-05-11T12:51:27.629Z"
   },
   {
    "duration": 9,
    "start_time": "2022-05-11T12:51:27.647Z"
   },
   {
    "duration": 400,
    "start_time": "2022-05-11T12:51:27.658Z"
   },
   {
    "duration": 14,
    "start_time": "2022-05-11T12:51:28.061Z"
   },
   {
    "duration": 73,
    "start_time": "2022-05-11T12:51:28.077Z"
   },
   {
    "duration": 6,
    "start_time": "2022-05-11T12:52:23.659Z"
   },
   {
    "duration": 8,
    "start_time": "2022-05-11T12:52:24.353Z"
   },
   {
    "duration": 7,
    "start_time": "2022-05-11T12:52:25.194Z"
   },
   {
    "duration": 568,
    "start_time": "2022-05-11T12:52:29.595Z"
   },
   {
    "duration": 137,
    "start_time": "2022-05-11T12:52:30.166Z"
   },
   {
    "duration": 51,
    "start_time": "2022-05-11T12:52:30.306Z"
   },
   {
    "duration": 34,
    "start_time": "2022-05-11T12:52:30.362Z"
   },
   {
    "duration": 38,
    "start_time": "2022-05-11T12:52:30.400Z"
   },
   {
    "duration": 19,
    "start_time": "2022-05-11T12:52:30.441Z"
   },
   {
    "duration": 15,
    "start_time": "2022-05-11T12:52:30.463Z"
   },
   {
    "duration": 20,
    "start_time": "2022-05-11T12:52:30.481Z"
   },
   {
    "duration": 15,
    "start_time": "2022-05-11T12:52:30.526Z"
   },
   {
    "duration": 22,
    "start_time": "2022-05-11T12:52:30.546Z"
   },
   {
    "duration": 10,
    "start_time": "2022-05-11T12:52:30.571Z"
   },
   {
    "duration": 19,
    "start_time": "2022-05-11T12:52:30.586Z"
   },
   {
    "duration": 30,
    "start_time": "2022-05-11T12:52:30.626Z"
   },
   {
    "duration": 31,
    "start_time": "2022-05-11T12:52:30.659Z"
   },
   {
    "duration": 22,
    "start_time": "2022-05-11T12:52:30.693Z"
   },
   {
    "duration": 28,
    "start_time": "2022-05-11T12:52:30.718Z"
   },
   {
    "duration": 64,
    "start_time": "2022-05-11T12:52:30.749Z"
   },
   {
    "duration": 5,
    "start_time": "2022-05-11T12:52:30.825Z"
   },
   {
    "duration": 24,
    "start_time": "2022-05-11T12:52:30.833Z"
   },
   {
    "duration": 23,
    "start_time": "2022-05-11T12:52:30.860Z"
   },
   {
    "duration": 33,
    "start_time": "2022-05-11T12:52:30.887Z"
   },
   {
    "duration": 67,
    "start_time": "2022-05-11T12:52:30.923Z"
   },
   {
    "duration": 395,
    "start_time": "2022-05-11T12:52:30.994Z"
   },
   {
    "duration": 34,
    "start_time": "2022-05-11T12:52:31.392Z"
   },
   {
    "duration": 15,
    "start_time": "2022-05-11T12:52:31.430Z"
   },
   {
    "duration": 16,
    "start_time": "2022-05-11T12:52:31.449Z"
   },
   {
    "duration": 16,
    "start_time": "2022-05-11T12:52:31.468Z"
   },
   {
    "duration": 9,
    "start_time": "2022-05-11T12:52:31.526Z"
   },
   {
    "duration": 9,
    "start_time": "2022-05-11T12:52:31.538Z"
   },
   {
    "duration": 19,
    "start_time": "2022-05-11T12:52:31.550Z"
   },
   {
    "duration": 22,
    "start_time": "2022-05-11T12:52:31.572Z"
   },
   {
    "duration": 27,
    "start_time": "2022-05-11T12:52:31.598Z"
   },
   {
    "duration": 11,
    "start_time": "2022-05-11T12:52:31.627Z"
   },
   {
    "duration": 14,
    "start_time": "2022-05-11T12:52:31.642Z"
   },
   {
    "duration": 31,
    "start_time": "2022-05-11T12:52:31.659Z"
   },
   {
    "duration": 32,
    "start_time": "2022-05-11T12:52:31.725Z"
   },
   {
    "duration": 30,
    "start_time": "2022-05-11T12:52:31.760Z"
   },
   {
    "duration": 41,
    "start_time": "2022-05-11T12:52:31.792Z"
   },
   {
    "duration": 42,
    "start_time": "2022-05-11T12:52:31.837Z"
   },
   {
    "duration": 11,
    "start_time": "2022-05-11T12:52:31.881Z"
   },
   {
    "duration": 42,
    "start_time": "2022-05-11T12:52:31.926Z"
   },
   {
    "duration": 15,
    "start_time": "2022-05-11T12:52:31.971Z"
   },
   {
    "duration": 56,
    "start_time": "2022-05-11T12:52:31.989Z"
   },
   {
    "duration": 17,
    "start_time": "2022-05-11T12:52:32.049Z"
   },
   {
    "duration": 25,
    "start_time": "2022-05-11T12:52:32.069Z"
   },
   {
    "duration": 35,
    "start_time": "2022-05-11T12:52:32.098Z"
   },
   {
    "duration": 19,
    "start_time": "2022-05-11T12:52:32.136Z"
   },
   {
    "duration": 32,
    "start_time": "2022-05-11T12:52:32.159Z"
   },
   {
    "duration": 7,
    "start_time": "2022-05-11T12:52:32.226Z"
   },
   {
    "duration": 27,
    "start_time": "2022-05-11T12:52:32.236Z"
   },
   {
    "duration": 27,
    "start_time": "2022-05-11T12:52:32.267Z"
   },
   {
    "duration": 42,
    "start_time": "2022-05-11T12:52:32.297Z"
   },
   {
    "duration": 13,
    "start_time": "2022-05-11T12:52:32.342Z"
   },
   {
    "duration": 411,
    "start_time": "2022-05-11T12:52:32.358Z"
   },
   {
    "duration": 15,
    "start_time": "2022-05-11T12:52:32.773Z"
   },
   {
    "duration": 51,
    "start_time": "2022-05-11T12:52:32.792Z"
   },
   {
    "duration": 11,
    "start_time": "2022-05-11T12:56:26.903Z"
   },
   {
    "duration": 558,
    "start_time": "2022-05-11T12:58:12.444Z"
   },
   {
    "duration": 80,
    "start_time": "2022-05-11T12:58:13.005Z"
   },
   {
    "duration": 40,
    "start_time": "2022-05-11T12:58:13.087Z"
   },
   {
    "duration": 30,
    "start_time": "2022-05-11T12:58:13.131Z"
   },
   {
    "duration": 15,
    "start_time": "2022-05-11T12:58:13.164Z"
   },
   {
    "duration": 11,
    "start_time": "2022-05-11T12:58:13.182Z"
   },
   {
    "duration": 35,
    "start_time": "2022-05-11T12:58:13.196Z"
   },
   {
    "duration": 11,
    "start_time": "2022-05-11T12:58:13.233Z"
   },
   {
    "duration": 14,
    "start_time": "2022-05-11T12:58:13.247Z"
   },
   {
    "duration": 14,
    "start_time": "2022-05-11T12:58:13.267Z"
   },
   {
    "duration": 6,
    "start_time": "2022-05-11T12:58:13.285Z"
   },
   {
    "duration": 15,
    "start_time": "2022-05-11T12:58:13.326Z"
   },
   {
    "duration": 10,
    "start_time": "2022-05-11T12:58:13.345Z"
   },
   {
    "duration": 69,
    "start_time": "2022-05-11T12:58:13.358Z"
   },
   {
    "duration": 6,
    "start_time": "2022-05-11T12:58:13.429Z"
   },
   {
    "duration": 13,
    "start_time": "2022-05-11T12:58:13.438Z"
   },
   {
    "duration": 73,
    "start_time": "2022-05-11T12:58:13.454Z"
   },
   {
    "duration": 5,
    "start_time": "2022-05-11T12:58:13.530Z"
   },
   {
    "duration": 11,
    "start_time": "2022-05-11T12:58:13.538Z"
   },
   {
    "duration": 8,
    "start_time": "2022-05-11T12:58:13.551Z"
   },
   {
    "duration": 23,
    "start_time": "2022-05-11T12:58:13.562Z"
   },
   {
    "duration": 68,
    "start_time": "2022-05-11T12:58:13.588Z"
   },
   {
    "duration": 261,
    "start_time": "2022-05-11T12:58:13.658Z"
   },
   {
    "duration": 23,
    "start_time": "2022-05-11T12:58:13.924Z"
   },
   {
    "duration": 10,
    "start_time": "2022-05-11T12:58:13.950Z"
   },
   {
    "duration": 25,
    "start_time": "2022-05-11T12:58:13.962Z"
   },
   {
    "duration": 42,
    "start_time": "2022-05-11T12:58:13.990Z"
   },
   {
    "duration": 7,
    "start_time": "2022-05-11T12:58:14.040Z"
   },
   {
    "duration": 10,
    "start_time": "2022-05-11T12:58:14.049Z"
   },
   {
    "duration": 10,
    "start_time": "2022-05-11T12:58:14.062Z"
   },
   {
    "duration": 52,
    "start_time": "2022-05-11T12:58:14.075Z"
   },
   {
    "duration": 6,
    "start_time": "2022-05-11T12:58:14.130Z"
   },
   {
    "duration": 11,
    "start_time": "2022-05-11T12:58:14.139Z"
   },
   {
    "duration": 12,
    "start_time": "2022-05-11T12:58:14.152Z"
   },
   {
    "duration": 13,
    "start_time": "2022-05-11T12:58:14.167Z"
   },
   {
    "duration": 41,
    "start_time": "2022-05-11T12:58:14.183Z"
   },
   {
    "duration": 30,
    "start_time": "2022-05-11T12:58:14.227Z"
   },
   {
    "duration": 33,
    "start_time": "2022-05-11T12:58:14.259Z"
   },
   {
    "duration": 29,
    "start_time": "2022-05-11T12:58:14.324Z"
   },
   {
    "duration": 10,
    "start_time": "2022-05-11T12:58:14.355Z"
   },
   {
    "duration": 29,
    "start_time": "2022-05-11T12:58:14.367Z"
   },
   {
    "duration": 36,
    "start_time": "2022-05-11T12:58:14.398Z"
   },
   {
    "duration": 30,
    "start_time": "2022-05-11T12:58:14.437Z"
   },
   {
    "duration": 19,
    "start_time": "2022-05-11T12:58:14.470Z"
   },
   {
    "duration": 48,
    "start_time": "2022-05-11T12:58:14.491Z"
   },
   {
    "duration": 14,
    "start_time": "2022-05-11T12:58:14.541Z"
   },
   {
    "duration": 29,
    "start_time": "2022-05-11T12:58:14.557Z"
   },
   {
    "duration": 37,
    "start_time": "2022-05-11T12:58:14.589Z"
   },
   {
    "duration": 12,
    "start_time": "2022-05-11T12:58:14.629Z"
   },
   {
    "duration": 36,
    "start_time": "2022-05-11T12:58:14.644Z"
   },
   {
    "duration": 10,
    "start_time": "2022-05-11T12:58:14.684Z"
   },
   {
    "duration": 38,
    "start_time": "2022-05-11T12:58:14.697Z"
   },
   {
    "duration": 23,
    "start_time": "2022-05-11T12:58:14.738Z"
   },
   {
    "duration": 23,
    "start_time": "2022-05-11T12:58:14.763Z"
   },
   {
    "duration": 17,
    "start_time": "2022-05-11T12:58:14.789Z"
   },
   {
    "duration": 270,
    "start_time": "2022-05-11T12:58:14.825Z"
   },
   {
    "duration": 11,
    "start_time": "2022-05-11T12:58:15.097Z"
   },
   {
    "duration": 27,
    "start_time": "2022-05-11T12:58:15.124Z"
   },
   {
    "duration": 11,
    "start_time": "2022-05-11T12:58:58.074Z"
   },
   {
    "duration": 163,
    "start_time": "2022-05-11T12:59:39.998Z"
   },
   {
    "duration": 25,
    "start_time": "2022-05-11T12:59:45.794Z"
   },
   {
    "duration": 13,
    "start_time": "2022-05-11T13:00:00.990Z"
   },
   {
    "duration": 22,
    "start_time": "2022-05-11T13:00:13.040Z"
   },
   {
    "duration": 570,
    "start_time": "2022-05-11T13:00:21.255Z"
   },
   {
    "duration": 88,
    "start_time": "2022-05-11T13:00:21.831Z"
   },
   {
    "duration": 47,
    "start_time": "2022-05-11T13:00:21.921Z"
   },
   {
    "duration": 22,
    "start_time": "2022-05-11T13:00:21.971Z"
   },
   {
    "duration": 26,
    "start_time": "2022-05-11T13:00:22.029Z"
   },
   {
    "duration": 8,
    "start_time": "2022-05-11T13:00:22.061Z"
   },
   {
    "duration": 10,
    "start_time": "2022-05-11T13:00:22.071Z"
   },
   {
    "duration": 43,
    "start_time": "2022-05-11T13:00:22.084Z"
   },
   {
    "duration": 14,
    "start_time": "2022-05-11T13:00:22.131Z"
   },
   {
    "duration": 16,
    "start_time": "2022-05-11T13:00:22.149Z"
   },
   {
    "duration": 5,
    "start_time": "2022-05-11T13:00:22.169Z"
   },
   {
    "duration": 12,
    "start_time": "2022-05-11T13:00:22.177Z"
   },
   {
    "duration": 52,
    "start_time": "2022-05-11T13:00:22.191Z"
   },
   {
    "duration": 36,
    "start_time": "2022-05-11T13:00:22.250Z"
   },
   {
    "duration": 7,
    "start_time": "2022-05-11T13:00:22.288Z"
   },
   {
    "duration": 32,
    "start_time": "2022-05-11T13:00:22.297Z"
   },
   {
    "duration": 53,
    "start_time": "2022-05-11T13:00:22.334Z"
   },
   {
    "duration": 5,
    "start_time": "2022-05-11T13:00:22.389Z"
   },
   {
    "duration": 32,
    "start_time": "2022-05-11T13:00:22.396Z"
   },
   {
    "duration": 8,
    "start_time": "2022-05-11T13:00:22.432Z"
   },
   {
    "duration": 32,
    "start_time": "2022-05-11T13:00:22.443Z"
   },
   {
    "duration": 54,
    "start_time": "2022-05-11T13:00:22.478Z"
   },
   {
    "duration": 349,
    "start_time": "2022-05-11T13:00:22.538Z"
   },
   {
    "duration": 26,
    "start_time": "2022-05-11T13:00:22.890Z"
   },
   {
    "duration": 33,
    "start_time": "2022-05-11T13:00:22.930Z"
   },
   {
    "duration": 15,
    "start_time": "2022-05-11T13:00:22.965Z"
   },
   {
    "duration": 7,
    "start_time": "2022-05-11T13:00:22.983Z"
   },
   {
    "duration": 8,
    "start_time": "2022-05-11T13:00:22.992Z"
   },
   {
    "duration": 29,
    "start_time": "2022-05-11T13:00:23.003Z"
   },
   {
    "duration": 29,
    "start_time": "2022-05-11T13:00:23.038Z"
   },
   {
    "duration": 12,
    "start_time": "2022-05-11T13:00:23.070Z"
   },
   {
    "duration": 5,
    "start_time": "2022-05-11T13:00:23.085Z"
   },
   {
    "duration": 14,
    "start_time": "2022-05-11T13:00:23.093Z"
   },
   {
    "duration": 29,
    "start_time": "2022-05-11T13:00:23.109Z"
   },
   {
    "duration": 30,
    "start_time": "2022-05-11T13:00:23.141Z"
   },
   {
    "duration": 11,
    "start_time": "2022-05-11T13:00:23.173Z"
   },
   {
    "duration": 56,
    "start_time": "2022-05-11T13:00:23.186Z"
   },
   {
    "duration": 36,
    "start_time": "2022-05-11T13:00:23.248Z"
   },
   {
    "duration": 56,
    "start_time": "2022-05-11T13:00:23.287Z"
   },
   {
    "duration": 16,
    "start_time": "2022-05-11T13:00:23.346Z"
   },
   {
    "duration": 24,
    "start_time": "2022-05-11T13:00:23.370Z"
   },
   {
    "duration": 44,
    "start_time": "2022-05-11T13:00:23.397Z"
   },
   {
    "duration": 42,
    "start_time": "2022-05-11T13:00:23.444Z"
   },
   {
    "duration": 12,
    "start_time": "2022-05-11T13:00:23.489Z"
   },
   {
    "duration": 74,
    "start_time": "2022-05-11T13:00:23.504Z"
   },
   {
    "duration": 12,
    "start_time": "2022-05-11T13:00:23.581Z"
   },
   {
    "duration": 15,
    "start_time": "2022-05-11T13:00:23.596Z"
   },
   {
    "duration": 49,
    "start_time": "2022-05-11T13:00:23.614Z"
   },
   {
    "duration": 19,
    "start_time": "2022-05-11T13:00:23.665Z"
   },
   {
    "duration": 23,
    "start_time": "2022-05-11T13:00:23.687Z"
   },
   {
    "duration": 41,
    "start_time": "2022-05-11T13:00:23.712Z"
   },
   {
    "duration": 24,
    "start_time": "2022-05-11T13:00:23.755Z"
   },
   {
    "duration": 23,
    "start_time": "2022-05-11T13:00:23.781Z"
   },
   {
    "duration": 27,
    "start_time": "2022-05-11T13:00:23.806Z"
   },
   {
    "duration": 28,
    "start_time": "2022-05-11T13:00:23.837Z"
   },
   {
    "duration": 402,
    "start_time": "2022-05-11T13:00:23.867Z"
   },
   {
    "duration": 60,
    "start_time": "2022-05-11T13:00:24.272Z"
   },
   {
    "duration": 88,
    "start_time": "2022-05-11T13:00:24.340Z"
   },
   {
    "duration": 11,
    "start_time": "2022-05-11T13:00:32.876Z"
   },
   {
    "duration": 12,
    "start_time": "2022-05-11T13:02:04.254Z"
   },
   {
    "duration": 118,
    "start_time": "2022-05-11T13:03:39.414Z"
   },
   {
    "duration": 10,
    "start_time": "2022-05-11T13:03:46.832Z"
   },
   {
    "duration": 8,
    "start_time": "2022-05-11T13:04:49.067Z"
   },
   {
    "duration": 155,
    "start_time": "2022-05-11T13:04:50.971Z"
   },
   {
    "duration": 8,
    "start_time": "2022-05-11T13:05:48.682Z"
   },
   {
    "duration": 569,
    "start_time": "2022-05-11T13:06:45.228Z"
   },
   {
    "duration": 77,
    "start_time": "2022-05-11T13:06:45.799Z"
   },
   {
    "duration": 51,
    "start_time": "2022-05-11T13:06:45.879Z"
   },
   {
    "duration": 25,
    "start_time": "2022-05-11T13:06:45.935Z"
   },
   {
    "duration": 16,
    "start_time": "2022-05-11T13:06:45.963Z"
   },
   {
    "duration": 46,
    "start_time": "2022-05-11T13:06:45.982Z"
   },
   {
    "duration": 16,
    "start_time": "2022-05-11T13:06:46.030Z"
   },
   {
    "duration": 9,
    "start_time": "2022-05-11T13:06:46.049Z"
   },
   {
    "duration": 22,
    "start_time": "2022-05-11T13:06:46.061Z"
   },
   {
    "duration": 38,
    "start_time": "2022-05-11T13:06:46.088Z"
   },
   {
    "duration": 6,
    "start_time": "2022-05-11T13:06:46.129Z"
   },
   {
    "duration": 46,
    "start_time": "2022-05-11T13:06:46.138Z"
   },
   {
    "duration": 13,
    "start_time": "2022-05-11T13:06:46.187Z"
   },
   {
    "duration": 43,
    "start_time": "2022-05-11T13:06:46.204Z"
   },
   {
    "duration": 25,
    "start_time": "2022-05-11T13:06:46.249Z"
   },
   {
    "duration": 28,
    "start_time": "2022-05-11T13:06:46.276Z"
   },
   {
    "duration": 65,
    "start_time": "2022-05-11T13:06:46.306Z"
   },
   {
    "duration": 6,
    "start_time": "2022-05-11T13:06:46.374Z"
   },
   {
    "duration": 21,
    "start_time": "2022-05-11T13:06:46.383Z"
   },
   {
    "duration": 25,
    "start_time": "2022-05-11T13:06:46.407Z"
   },
   {
    "duration": 12,
    "start_time": "2022-05-11T13:06:46.435Z"
   },
   {
    "duration": 61,
    "start_time": "2022-05-11T13:06:46.449Z"
   },
   {
    "duration": 387,
    "start_time": "2022-05-11T13:06:46.513Z"
   },
   {
    "duration": 38,
    "start_time": "2022-05-11T13:06:46.906Z"
   },
   {
    "duration": 11,
    "start_time": "2022-05-11T13:06:46.947Z"
   },
   {
    "duration": 21,
    "start_time": "2022-05-11T13:06:46.962Z"
   },
   {
    "duration": 40,
    "start_time": "2022-05-11T13:06:46.986Z"
   },
   {
    "duration": 7,
    "start_time": "2022-05-11T13:06:47.035Z"
   },
   {
    "duration": 37,
    "start_time": "2022-05-11T13:06:47.045Z"
   },
   {
    "duration": 8,
    "start_time": "2022-05-11T13:06:47.086Z"
   },
   {
    "duration": 29,
    "start_time": "2022-05-11T13:06:47.097Z"
   },
   {
    "duration": 7,
    "start_time": "2022-05-11T13:06:47.129Z"
   },
   {
    "duration": 5,
    "start_time": "2022-05-11T13:06:47.139Z"
   },
   {
    "duration": 13,
    "start_time": "2022-05-11T13:06:47.147Z"
   },
   {
    "duration": 10,
    "start_time": "2022-05-11T13:06:47.162Z"
   },
   {
    "duration": 57,
    "start_time": "2022-05-11T13:06:47.175Z"
   },
   {
    "duration": 10,
    "start_time": "2022-05-11T13:06:47.234Z"
   },
   {
    "duration": 36,
    "start_time": "2022-05-11T13:06:47.247Z"
   },
   {
    "duration": 43,
    "start_time": "2022-05-11T13:06:47.326Z"
   },
   {
    "duration": 31,
    "start_time": "2022-05-11T13:06:47.373Z"
   },
   {
    "duration": 10,
    "start_time": "2022-05-11T13:06:47.425Z"
   },
   {
    "duration": 26,
    "start_time": "2022-05-11T13:06:47.437Z"
   },
   {
    "duration": 15,
    "start_time": "2022-05-11T13:06:47.466Z"
   },
   {
    "duration": 80,
    "start_time": "2022-05-11T13:06:47.484Z"
   },
   {
    "duration": 11,
    "start_time": "2022-05-11T13:06:47.567Z"
   },
   {
    "duration": 46,
    "start_time": "2022-05-11T13:06:47.581Z"
   },
   {
    "duration": 16,
    "start_time": "2022-05-11T13:06:47.630Z"
   },
   {
    "duration": 22,
    "start_time": "2022-05-11T13:06:47.649Z"
   },
   {
    "duration": 17,
    "start_time": "2022-05-11T13:06:47.673Z"
   },
   {
    "duration": 40,
    "start_time": "2022-05-11T13:06:47.692Z"
   },
   {
    "duration": 21,
    "start_time": "2022-05-11T13:06:47.735Z"
   },
   {
    "duration": 7,
    "start_time": "2022-05-11T13:06:47.758Z"
   },
   {
    "duration": 57,
    "start_time": "2022-05-11T13:06:47.767Z"
   },
   {
    "duration": 19,
    "start_time": "2022-05-11T13:06:47.827Z"
   },
   {
    "duration": 14,
    "start_time": "2022-05-11T13:06:47.848Z"
   },
   {
    "duration": 8,
    "start_time": "2022-05-11T13:06:47.864Z"
   },
   {
    "duration": 268,
    "start_time": "2022-05-11T13:06:47.874Z"
   },
   {
    "duration": 10,
    "start_time": "2022-05-11T13:06:48.144Z"
   },
   {
    "duration": 36,
    "start_time": "2022-05-11T13:06:48.156Z"
   },
   {
    "duration": 8,
    "start_time": "2022-05-11T13:09:25.204Z"
   },
   {
    "duration": 6,
    "start_time": "2022-05-11T13:10:15.960Z"
   },
   {
    "duration": 6,
    "start_time": "2022-05-11T13:10:43.485Z"
   },
   {
    "duration": 6,
    "start_time": "2022-05-11T13:10:44.257Z"
   },
   {
    "duration": 787,
    "start_time": "2022-05-11T13:10:56.879Z"
   },
   {
    "duration": 127,
    "start_time": "2022-05-11T13:10:57.670Z"
   },
   {
    "duration": 46,
    "start_time": "2022-05-11T13:10:57.800Z"
   },
   {
    "duration": 23,
    "start_time": "2022-05-11T13:10:57.849Z"
   },
   {
    "duration": 15,
    "start_time": "2022-05-11T13:10:57.874Z"
   },
   {
    "duration": 38,
    "start_time": "2022-05-11T13:10:57.891Z"
   },
   {
    "duration": 18,
    "start_time": "2022-05-11T13:10:57.931Z"
   },
   {
    "duration": 19,
    "start_time": "2022-05-11T13:10:57.952Z"
   },
   {
    "duration": 11,
    "start_time": "2022-05-11T13:10:57.974Z"
   },
   {
    "duration": 5,
    "start_time": "2022-05-11T13:10:57.992Z"
   },
   {
    "duration": 32,
    "start_time": "2022-05-11T13:10:58.000Z"
   },
   {
    "duration": 14,
    "start_time": "2022-05-11T13:10:58.035Z"
   },
   {
    "duration": 5,
    "start_time": "2022-05-11T13:10:58.052Z"
   },
   {
    "duration": 12,
    "start_time": "2022-05-11T13:10:58.061Z"
   },
   {
    "duration": 56,
    "start_time": "2022-05-11T13:10:58.075Z"
   },
   {
    "duration": 23,
    "start_time": "2022-05-11T13:10:58.134Z"
   },
   {
    "duration": 9,
    "start_time": "2022-05-11T13:10:58.160Z"
   },
   {
    "duration": 12,
    "start_time": "2022-05-11T13:10:58.172Z"
   },
   {
    "duration": 95,
    "start_time": "2022-05-11T13:10:58.188Z"
   },
   {
    "duration": 6,
    "start_time": "2022-05-11T13:10:58.286Z"
   },
   {
    "duration": 8,
    "start_time": "2022-05-11T13:10:58.296Z"
   },
   {
    "duration": 6,
    "start_time": "2022-05-11T13:10:58.326Z"
   },
   {
    "duration": 7,
    "start_time": "2022-05-11T13:10:58.334Z"
   },
   {
    "duration": 35,
    "start_time": "2022-05-11T13:10:58.343Z"
   },
   {
    "duration": 271,
    "start_time": "2022-05-11T13:10:58.380Z"
   },
   {
    "duration": 21,
    "start_time": "2022-05-11T13:10:58.654Z"
   },
   {
    "duration": 14,
    "start_time": "2022-05-11T13:10:58.678Z"
   },
   {
    "duration": 37,
    "start_time": "2022-05-11T13:10:58.698Z"
   },
   {
    "duration": 11,
    "start_time": "2022-05-11T13:10:58.737Z"
   },
   {
    "duration": 7,
    "start_time": "2022-05-11T13:10:58.751Z"
   },
   {
    "duration": 9,
    "start_time": "2022-05-11T13:10:58.760Z"
   },
   {
    "duration": 9,
    "start_time": "2022-05-11T13:10:58.772Z"
   },
   {
    "duration": 46,
    "start_time": "2022-05-11T13:10:58.783Z"
   },
   {
    "duration": 5,
    "start_time": "2022-05-11T13:10:58.832Z"
   },
   {
    "duration": 9,
    "start_time": "2022-05-11T13:10:58.840Z"
   },
   {
    "duration": 11,
    "start_time": "2022-05-11T13:10:58.851Z"
   },
   {
    "duration": 10,
    "start_time": "2022-05-11T13:10:58.865Z"
   },
   {
    "duration": 53,
    "start_time": "2022-05-11T13:10:58.878Z"
   },
   {
    "duration": 12,
    "start_time": "2022-05-11T13:10:58.933Z"
   },
   {
    "duration": 31,
    "start_time": "2022-05-11T13:10:58.947Z"
   },
   {
    "duration": 68,
    "start_time": "2022-05-11T13:10:58.981Z"
   },
   {
    "duration": 28,
    "start_time": "2022-05-11T13:10:59.051Z"
   },
   {
    "duration": 9,
    "start_time": "2022-05-11T13:10:59.082Z"
   },
   {
    "duration": 49,
    "start_time": "2022-05-11T13:10:59.093Z"
   },
   {
    "duration": 9,
    "start_time": "2022-05-11T13:10:59.145Z"
   },
   {
    "duration": 31,
    "start_time": "2022-05-11T13:10:59.157Z"
   },
   {
    "duration": 42,
    "start_time": "2022-05-11T13:10:59.191Z"
   },
   {
    "duration": 21,
    "start_time": "2022-05-11T13:10:59.236Z"
   },
   {
    "duration": 12,
    "start_time": "2022-05-11T13:10:59.260Z"
   },
   {
    "duration": 13,
    "start_time": "2022-05-11T13:10:59.274Z"
   },
   {
    "duration": 14,
    "start_time": "2022-05-11T13:10:59.323Z"
   },
   {
    "duration": 18,
    "start_time": "2022-05-11T13:10:59.339Z"
   },
   {
    "duration": 26,
    "start_time": "2022-05-11T13:10:59.359Z"
   },
   {
    "duration": 38,
    "start_time": "2022-05-11T13:10:59.387Z"
   },
   {
    "duration": 15,
    "start_time": "2022-05-11T13:10:59.428Z"
   },
   {
    "duration": 25,
    "start_time": "2022-05-11T13:10:59.445Z"
   },
   {
    "duration": 13,
    "start_time": "2022-05-11T13:10:59.474Z"
   },
   {
    "duration": 37,
    "start_time": "2022-05-11T13:10:59.490Z"
   },
   {
    "duration": 236,
    "start_time": "2022-05-11T13:10:59.530Z"
   },
   {
    "duration": 11,
    "start_time": "2022-05-11T13:10:59.769Z"
   },
   {
    "duration": 47,
    "start_time": "2022-05-11T13:10:59.783Z"
   },
   {
    "duration": 5,
    "start_time": "2022-05-11T13:12:36.227Z"
   },
   {
    "duration": 4,
    "start_time": "2022-05-11T13:13:21.320Z"
   },
   {
    "duration": 565,
    "start_time": "2022-05-11T13:13:27.181Z"
   },
   {
    "duration": 81,
    "start_time": "2022-05-11T13:13:27.749Z"
   },
   {
    "duration": 32,
    "start_time": "2022-05-11T13:13:27.835Z"
   },
   {
    "duration": 23,
    "start_time": "2022-05-11T13:13:27.870Z"
   },
   {
    "duration": 38,
    "start_time": "2022-05-11T13:13:27.895Z"
   },
   {
    "duration": 6,
    "start_time": "2022-05-11T13:13:27.935Z"
   },
   {
    "duration": 9,
    "start_time": "2022-05-11T13:13:27.944Z"
   },
   {
    "duration": 11,
    "start_time": "2022-05-11T13:13:27.955Z"
   },
   {
    "duration": 10,
    "start_time": "2022-05-11T13:13:27.968Z"
   },
   {
    "duration": 44,
    "start_time": "2022-05-11T13:13:27.982Z"
   },
   {
    "duration": 7,
    "start_time": "2022-05-11T13:13:28.028Z"
   },
   {
    "duration": 12,
    "start_time": "2022-05-11T13:13:28.037Z"
   },
   {
    "duration": 5,
    "start_time": "2022-05-11T13:13:28.051Z"
   },
   {
    "duration": 13,
    "start_time": "2022-05-11T13:13:28.058Z"
   },
   {
    "duration": 52,
    "start_time": "2022-05-11T13:13:28.074Z"
   },
   {
    "duration": 26,
    "start_time": "2022-05-11T13:13:28.128Z"
   },
   {
    "duration": 8,
    "start_time": "2022-05-11T13:13:28.156Z"
   },
   {
    "duration": 12,
    "start_time": "2022-05-11T13:13:28.166Z"
   },
   {
    "duration": 72,
    "start_time": "2022-05-11T13:13:28.180Z"
   },
   {
    "duration": 5,
    "start_time": "2022-05-11T13:13:28.256Z"
   },
   {
    "duration": 12,
    "start_time": "2022-05-11T13:13:28.264Z"
   },
   {
    "duration": 6,
    "start_time": "2022-05-11T13:13:28.278Z"
   },
   {
    "duration": 37,
    "start_time": "2022-05-11T13:13:28.287Z"
   },
   {
    "duration": 33,
    "start_time": "2022-05-11T13:13:28.327Z"
   },
   {
    "duration": 261,
    "start_time": "2022-05-11T13:13:28.363Z"
   },
   {
    "duration": 20,
    "start_time": "2022-05-11T13:13:28.626Z"
   },
   {
    "duration": 11,
    "start_time": "2022-05-11T13:13:28.648Z"
   },
   {
    "duration": 14,
    "start_time": "2022-05-11T13:13:28.665Z"
   },
   {
    "duration": 46,
    "start_time": "2022-05-11T13:13:28.681Z"
   },
   {
    "duration": 6,
    "start_time": "2022-05-11T13:13:28.729Z"
   },
   {
    "duration": 6,
    "start_time": "2022-05-11T13:13:28.738Z"
   },
   {
    "duration": 7,
    "start_time": "2022-05-11T13:13:28.747Z"
   },
   {
    "duration": 10,
    "start_time": "2022-05-11T13:13:28.757Z"
   },
   {
    "duration": 57,
    "start_time": "2022-05-11T13:13:28.770Z"
   },
   {
    "duration": 11,
    "start_time": "2022-05-11T13:13:28.830Z"
   },
   {
    "duration": 10,
    "start_time": "2022-05-11T13:13:28.844Z"
   },
   {
    "duration": 9,
    "start_time": "2022-05-11T13:13:28.856Z"
   },
   {
    "duration": 9,
    "start_time": "2022-05-11T13:13:28.867Z"
   },
   {
    "duration": 51,
    "start_time": "2022-05-11T13:13:28.879Z"
   },
   {
    "duration": 29,
    "start_time": "2022-05-11T13:13:28.932Z"
   },
   {
    "duration": 31,
    "start_time": "2022-05-11T13:13:28.964Z"
   },
   {
    "duration": 52,
    "start_time": "2022-05-11T13:13:28.997Z"
   },
   {
    "duration": 10,
    "start_time": "2022-05-11T13:13:29.051Z"
   },
   {
    "duration": 35,
    "start_time": "2022-05-11T13:13:29.063Z"
   },
   {
    "duration": 13,
    "start_time": "2022-05-11T13:13:29.125Z"
   },
   {
    "duration": 42,
    "start_time": "2022-05-11T13:13:29.141Z"
   },
   {
    "duration": 14,
    "start_time": "2022-05-11T13:13:29.186Z"
   },
   {
    "duration": 26,
    "start_time": "2022-05-11T13:13:29.226Z"
   },
   {
    "duration": 12,
    "start_time": "2022-05-11T13:13:29.255Z"
   },
   {
    "duration": 11,
    "start_time": "2022-05-11T13:13:29.272Z"
   },
   {
    "duration": 48,
    "start_time": "2022-05-11T13:13:29.285Z"
   },
   {
    "duration": 14,
    "start_time": "2022-05-11T13:13:29.335Z"
   },
   {
    "duration": 22,
    "start_time": "2022-05-11T13:13:29.351Z"
   },
   {
    "duration": 50,
    "start_time": "2022-05-11T13:13:29.375Z"
   },
   {
    "duration": 21,
    "start_time": "2022-05-11T13:13:29.428Z"
   },
   {
    "duration": 19,
    "start_time": "2022-05-11T13:13:29.452Z"
   },
   {
    "duration": 13,
    "start_time": "2022-05-11T13:13:29.474Z"
   },
   {
    "duration": 6,
    "start_time": "2022-05-11T13:13:29.489Z"
   },
   {
    "duration": 243,
    "start_time": "2022-05-11T13:13:29.524Z"
   },
   {
    "duration": 9,
    "start_time": "2022-05-11T13:13:29.769Z"
   },
   {
    "duration": 35,
    "start_time": "2022-05-11T13:13:29.780Z"
   },
   {
    "duration": 546,
    "start_time": "2022-05-11T13:14:12.118Z"
   },
   {
    "duration": 77,
    "start_time": "2022-05-11T13:14:12.667Z"
   },
   {
    "duration": 33,
    "start_time": "2022-05-11T13:14:12.746Z"
   },
   {
    "duration": 48,
    "start_time": "2022-05-11T13:14:12.782Z"
   },
   {
    "duration": 18,
    "start_time": "2022-05-11T13:14:12.833Z"
   },
   {
    "duration": 7,
    "start_time": "2022-05-11T13:14:12.853Z"
   },
   {
    "duration": 11,
    "start_time": "2022-05-11T13:14:12.863Z"
   },
   {
    "duration": 50,
    "start_time": "2022-05-11T13:14:12.876Z"
   },
   {
    "duration": 7,
    "start_time": "2022-05-11T13:14:12.928Z"
   },
   {
    "duration": 12,
    "start_time": "2022-05-11T13:14:12.939Z"
   },
   {
    "duration": 7,
    "start_time": "2022-05-11T13:14:12.954Z"
   },
   {
    "duration": 13,
    "start_time": "2022-05-11T13:14:12.964Z"
   },
   {
    "duration": 45,
    "start_time": "2022-05-11T13:14:12.980Z"
   },
   {
    "duration": 11,
    "start_time": "2022-05-11T13:14:13.027Z"
   },
   {
    "duration": 11,
    "start_time": "2022-05-11T13:14:13.041Z"
   },
   {
    "duration": 23,
    "start_time": "2022-05-11T13:14:13.055Z"
   },
   {
    "duration": 8,
    "start_time": "2022-05-11T13:14:13.081Z"
   },
   {
    "duration": 39,
    "start_time": "2022-05-11T13:14:13.091Z"
   },
   {
    "duration": 41,
    "start_time": "2022-05-11T13:14:13.132Z"
   },
   {
    "duration": 4,
    "start_time": "2022-05-11T13:14:13.176Z"
   },
   {
    "duration": 59,
    "start_time": "2022-05-11T13:14:13.183Z"
   },
   {
    "duration": 10,
    "start_time": "2022-05-11T13:14:13.244Z"
   },
   {
    "duration": 8,
    "start_time": "2022-05-11T13:14:13.257Z"
   },
   {
    "duration": 40,
    "start_time": "2022-05-11T13:14:13.268Z"
   },
   {
    "duration": 256,
    "start_time": "2022-05-11T13:14:13.311Z"
   },
   {
    "duration": 21,
    "start_time": "2022-05-11T13:14:13.569Z"
   },
   {
    "duration": 34,
    "start_time": "2022-05-11T13:14:13.593Z"
   },
   {
    "duration": 15,
    "start_time": "2022-05-11T13:14:13.634Z"
   },
   {
    "duration": 10,
    "start_time": "2022-05-11T13:14:13.652Z"
   },
   {
    "duration": 5,
    "start_time": "2022-05-11T13:14:13.665Z"
   },
   {
    "duration": 11,
    "start_time": "2022-05-11T13:14:13.673Z"
   },
   {
    "duration": 9,
    "start_time": "2022-05-11T13:14:13.724Z"
   },
   {
    "duration": 12,
    "start_time": "2022-05-11T13:14:13.736Z"
   },
   {
    "duration": 6,
    "start_time": "2022-05-11T13:14:13.750Z"
   },
   {
    "duration": 9,
    "start_time": "2022-05-11T13:14:13.758Z"
   },
   {
    "duration": 14,
    "start_time": "2022-05-11T13:14:13.769Z"
   },
   {
    "duration": 9,
    "start_time": "2022-05-11T13:14:13.825Z"
   },
   {
    "duration": 14,
    "start_time": "2022-05-11T13:14:13.836Z"
   },
   {
    "duration": 11,
    "start_time": "2022-05-11T13:14:13.852Z"
   },
   {
    "duration": 73,
    "start_time": "2022-05-11T13:14:13.866Z"
   },
   {
    "duration": 43,
    "start_time": "2022-05-11T13:14:13.941Z"
   },
   {
    "duration": 58,
    "start_time": "2022-05-11T13:14:13.987Z"
   },
   {
    "duration": 9,
    "start_time": "2022-05-11T13:14:14.048Z"
   },
   {
    "duration": 31,
    "start_time": "2022-05-11T13:14:14.059Z"
   },
   {
    "duration": 34,
    "start_time": "2022-05-11T13:14:14.093Z"
   },
   {
    "duration": 29,
    "start_time": "2022-05-11T13:14:14.129Z"
   },
   {
    "duration": 14,
    "start_time": "2022-05-11T13:14:14.161Z"
   },
   {
    "duration": 21,
    "start_time": "2022-05-11T13:14:14.177Z"
   },
   {
    "duration": 14,
    "start_time": "2022-05-11T13:14:14.225Z"
   },
   {
    "duration": 14,
    "start_time": "2022-05-11T13:14:14.242Z"
   },
   {
    "duration": 15,
    "start_time": "2022-05-11T13:14:14.259Z"
   },
   {
    "duration": 50,
    "start_time": "2022-05-11T13:14:14.276Z"
   },
   {
    "duration": 27,
    "start_time": "2022-05-11T13:14:14.329Z"
   },
   {
    "duration": 6,
    "start_time": "2022-05-11T13:14:14.358Z"
   },
   {
    "duration": 18,
    "start_time": "2022-05-11T13:14:14.366Z"
   },
   {
    "duration": 42,
    "start_time": "2022-05-11T13:14:14.386Z"
   },
   {
    "duration": 15,
    "start_time": "2022-05-11T13:14:14.432Z"
   },
   {
    "duration": 6,
    "start_time": "2022-05-11T13:14:14.450Z"
   },
   {
    "duration": 259,
    "start_time": "2022-05-11T13:14:14.459Z"
   },
   {
    "duration": 12,
    "start_time": "2022-05-11T13:14:14.723Z"
   },
   {
    "duration": 25,
    "start_time": "2022-05-11T13:14:14.737Z"
   },
   {
    "duration": 7,
    "start_time": "2022-05-11T13:51:42.378Z"
   },
   {
    "duration": 115,
    "start_time": "2022-05-11T13:52:23.245Z"
   },
   {
    "duration": 8,
    "start_time": "2022-05-11T13:52:28.581Z"
   },
   {
    "duration": 11,
    "start_time": "2022-05-11T13:54:31.417Z"
   },
   {
    "duration": 10,
    "start_time": "2022-05-11T13:55:11.204Z"
   },
   {
    "duration": 532,
    "start_time": "2022-05-11T13:58:44.216Z"
   },
   {
    "duration": 76,
    "start_time": "2022-05-11T13:58:44.750Z"
   },
   {
    "duration": 29,
    "start_time": "2022-05-11T13:58:44.829Z"
   },
   {
    "duration": 21,
    "start_time": "2022-05-11T13:58:44.862Z"
   },
   {
    "duration": 42,
    "start_time": "2022-05-11T13:58:44.885Z"
   },
   {
    "duration": 6,
    "start_time": "2022-05-11T13:58:44.930Z"
   },
   {
    "duration": 12,
    "start_time": "2022-05-11T13:58:44.938Z"
   },
   {
    "duration": 5,
    "start_time": "2022-05-11T13:58:44.952Z"
   },
   {
    "duration": 7,
    "start_time": "2022-05-11T13:58:44.959Z"
   },
   {
    "duration": 6,
    "start_time": "2022-05-11T13:58:44.971Z"
   },
   {
    "duration": 50,
    "start_time": "2022-05-11T13:58:44.979Z"
   },
   {
    "duration": 26,
    "start_time": "2022-05-11T13:58:45.032Z"
   },
   {
    "duration": 18,
    "start_time": "2022-05-11T13:58:45.060Z"
   },
   {
    "duration": 14,
    "start_time": "2022-05-11T13:58:45.080Z"
   },
   {
    "duration": 10,
    "start_time": "2022-05-11T13:58:45.096Z"
   },
   {
    "duration": 23,
    "start_time": "2022-05-11T13:58:45.124Z"
   },
   {
    "duration": 8,
    "start_time": "2022-05-11T13:58:45.150Z"
   },
   {
    "duration": 14,
    "start_time": "2022-05-11T13:58:45.160Z"
   },
   {
    "duration": 72,
    "start_time": "2022-05-11T13:58:45.176Z"
   },
   {
    "duration": 5,
    "start_time": "2022-05-11T13:58:45.251Z"
   },
   {
    "duration": 150,
    "start_time": "2022-05-11T13:58:45.258Z"
   },
   {
    "duration": 120,
    "start_time": "2022-05-11T13:58:45.410Z"
   },
   {
    "duration": 10,
    "start_time": "2022-05-11T13:58:45.532Z"
   },
   {
    "duration": 35,
    "start_time": "2022-05-11T13:58:45.545Z"
   },
   {
    "duration": 253,
    "start_time": "2022-05-11T13:58:45.583Z"
   },
   {
    "duration": 19,
    "start_time": "2022-05-11T13:58:45.838Z"
   },
   {
    "duration": 8,
    "start_time": "2022-05-11T13:58:45.859Z"
   },
   {
    "duration": 14,
    "start_time": "2022-05-11T13:58:45.873Z"
   },
   {
    "duration": 40,
    "start_time": "2022-05-11T13:58:45.889Z"
   },
   {
    "duration": 10,
    "start_time": "2022-05-11T13:58:45.931Z"
   },
   {
    "duration": 17,
    "start_time": "2022-05-11T13:58:45.943Z"
   },
   {
    "duration": 8,
    "start_time": "2022-05-11T13:58:45.962Z"
   },
   {
    "duration": 28,
    "start_time": "2022-05-11T13:58:45.972Z"
   },
   {
    "duration": 14,
    "start_time": "2022-05-11T13:58:46.002Z"
   },
   {
    "duration": 14,
    "start_time": "2022-05-11T13:58:46.024Z"
   },
   {
    "duration": 18,
    "start_time": "2022-05-11T13:58:46.040Z"
   },
   {
    "duration": 25,
    "start_time": "2022-05-11T13:58:46.060Z"
   },
   {
    "duration": 10,
    "start_time": "2022-05-11T13:58:46.088Z"
   },
   {
    "duration": 9,
    "start_time": "2022-05-11T13:58:46.100Z"
   },
   {
    "duration": 19,
    "start_time": "2022-05-11T13:58:46.111Z"
   },
   {
    "duration": 8,
    "start_time": "2022-05-11T13:58:46.132Z"
   },
   {
    "duration": 52,
    "start_time": "2022-05-11T13:58:46.142Z"
   },
   {
    "duration": 43,
    "start_time": "2022-05-11T13:58:46.196Z"
   },
   {
    "duration": 27,
    "start_time": "2022-05-11T13:58:46.241Z"
   },
   {
    "duration": 10,
    "start_time": "2022-05-11T13:58:46.270Z"
   },
   {
    "duration": 52,
    "start_time": "2022-05-11T13:58:46.282Z"
   },
   {
    "duration": 10,
    "start_time": "2022-05-11T13:58:46.336Z"
   },
   {
    "duration": 25,
    "start_time": "2022-05-11T13:58:46.349Z"
   },
   {
    "duration": 11,
    "start_time": "2022-05-11T13:58:46.377Z"
   },
   {
    "duration": 52,
    "start_time": "2022-05-11T13:58:46.390Z"
   },
   {
    "duration": 13,
    "start_time": "2022-05-11T13:58:46.444Z"
   },
   {
    "duration": 15,
    "start_time": "2022-05-11T13:58:46.459Z"
   },
   {
    "duration": 14,
    "start_time": "2022-05-11T13:58:46.476Z"
   },
   {
    "duration": 12,
    "start_time": "2022-05-11T13:58:46.525Z"
   },
   {
    "duration": 23,
    "start_time": "2022-05-11T13:58:46.539Z"
   },
   {
    "duration": 5,
    "start_time": "2022-05-11T13:58:46.564Z"
   },
   {
    "duration": 21,
    "start_time": "2022-05-11T13:58:46.571Z"
   },
   {
    "duration": 19,
    "start_time": "2022-05-11T13:58:46.624Z"
   },
   {
    "duration": 11,
    "start_time": "2022-05-11T13:58:46.645Z"
   },
   {
    "duration": 7,
    "start_time": "2022-05-11T13:58:46.658Z"
   },
   {
    "duration": 257,
    "start_time": "2022-05-11T13:58:46.667Z"
   },
   {
    "duration": 10,
    "start_time": "2022-05-11T13:58:46.926Z"
   },
   {
    "duration": 25,
    "start_time": "2022-05-11T13:58:46.938Z"
   },
   {
    "duration": 579,
    "start_time": "2022-05-11T14:01:27.682Z"
   },
   {
    "duration": 86,
    "start_time": "2022-05-11T14:01:28.264Z"
   },
   {
    "duration": 33,
    "start_time": "2022-05-11T14:01:28.352Z"
   },
   {
    "duration": 44,
    "start_time": "2022-05-11T14:01:28.388Z"
   },
   {
    "duration": 14,
    "start_time": "2022-05-11T14:01:28.435Z"
   },
   {
    "duration": 12,
    "start_time": "2022-05-11T14:01:28.451Z"
   },
   {
    "duration": 37,
    "start_time": "2022-05-11T14:01:28.465Z"
   },
   {
    "duration": 21,
    "start_time": "2022-05-11T14:01:28.505Z"
   },
   {
    "duration": 7,
    "start_time": "2022-05-11T14:01:28.529Z"
   },
   {
    "duration": 30,
    "start_time": "2022-05-11T14:01:28.541Z"
   },
   {
    "duration": 40,
    "start_time": "2022-05-11T14:01:28.573Z"
   },
   {
    "duration": 23,
    "start_time": "2022-05-11T14:01:28.615Z"
   },
   {
    "duration": 9,
    "start_time": "2022-05-11T14:01:28.640Z"
   },
   {
    "duration": 20,
    "start_time": "2022-05-11T14:01:28.651Z"
   },
   {
    "duration": 35,
    "start_time": "2022-05-11T14:01:28.674Z"
   },
   {
    "duration": 26,
    "start_time": "2022-05-11T14:01:28.712Z"
   },
   {
    "duration": 12,
    "start_time": "2022-05-11T14:01:28.740Z"
   },
   {
    "duration": 14,
    "start_time": "2022-05-11T14:01:28.754Z"
   },
   {
    "duration": 59,
    "start_time": "2022-05-11T14:01:28.770Z"
   },
   {
    "duration": 5,
    "start_time": "2022-05-11T14:01:28.832Z"
   },
   {
    "duration": 15,
    "start_time": "2022-05-11T14:01:28.839Z"
   },
   {
    "duration": 23,
    "start_time": "2022-05-11T14:01:28.856Z"
   },
   {
    "duration": 20,
    "start_time": "2022-05-11T14:01:28.881Z"
   },
   {
    "duration": 55,
    "start_time": "2022-05-11T14:01:28.903Z"
   },
   {
    "duration": 241,
    "start_time": "2022-05-11T14:01:28.961Z"
   },
   {
    "duration": 29,
    "start_time": "2022-05-11T14:01:29.204Z"
   },
   {
    "duration": 23,
    "start_time": "2022-05-11T14:01:29.237Z"
   },
   {
    "duration": 17,
    "start_time": "2022-05-11T14:01:29.268Z"
   },
   {
    "duration": 12,
    "start_time": "2022-05-11T14:01:29.288Z"
   },
   {
    "duration": 27,
    "start_time": "2022-05-11T14:01:29.303Z"
   },
   {
    "duration": 12,
    "start_time": "2022-05-11T14:01:29.333Z"
   },
   {
    "duration": 8,
    "start_time": "2022-05-11T14:01:29.347Z"
   },
   {
    "duration": 12,
    "start_time": "2022-05-11T14:01:29.358Z"
   },
   {
    "duration": 6,
    "start_time": "2022-05-11T14:01:29.373Z"
   },
   {
    "duration": 46,
    "start_time": "2022-05-11T14:01:29.381Z"
   },
   {
    "duration": 17,
    "start_time": "2022-05-11T14:01:29.429Z"
   },
   {
    "duration": 8,
    "start_time": "2022-05-11T14:01:29.448Z"
   },
   {
    "duration": 15,
    "start_time": "2022-05-11T14:01:29.458Z"
   },
   {
    "duration": 11,
    "start_time": "2022-05-11T14:01:29.475Z"
   },
   {
    "duration": 41,
    "start_time": "2022-05-11T14:01:29.488Z"
   },
   {
    "duration": 13,
    "start_time": "2022-05-11T14:01:29.531Z"
   },
   {
    "duration": 27,
    "start_time": "2022-05-11T14:01:29.546Z"
   },
   {
    "duration": 60,
    "start_time": "2022-05-11T14:01:29.575Z"
   },
   {
    "duration": 27,
    "start_time": "2022-05-11T14:01:29.637Z"
   },
   {
    "duration": 9,
    "start_time": "2022-05-11T14:01:29.666Z"
   },
   {
    "duration": 49,
    "start_time": "2022-05-11T14:01:29.677Z"
   },
   {
    "duration": 18,
    "start_time": "2022-05-11T14:01:29.728Z"
   },
   {
    "duration": 32,
    "start_time": "2022-05-11T14:01:29.749Z"
   },
   {
    "duration": 42,
    "start_time": "2022-05-11T14:01:29.783Z"
   },
   {
    "duration": 27,
    "start_time": "2022-05-11T14:01:29.827Z"
   },
   {
    "duration": 13,
    "start_time": "2022-05-11T14:01:29.856Z"
   },
   {
    "duration": 18,
    "start_time": "2022-05-11T14:01:29.871Z"
   },
   {
    "duration": 42,
    "start_time": "2022-05-11T14:01:29.892Z"
   },
   {
    "duration": 17,
    "start_time": "2022-05-11T14:01:29.936Z"
   },
   {
    "duration": 26,
    "start_time": "2022-05-11T14:01:29.956Z"
   },
   {
    "duration": 39,
    "start_time": "2022-05-11T14:01:29.985Z"
   },
   {
    "duration": 36,
    "start_time": "2022-05-11T14:01:30.027Z"
   },
   {
    "duration": 67,
    "start_time": "2022-05-11T14:01:30.066Z"
   },
   {
    "duration": 29,
    "start_time": "2022-05-11T14:01:30.136Z"
   },
   {
    "duration": 45,
    "start_time": "2022-05-11T14:01:30.167Z"
   },
   {
    "duration": 251,
    "start_time": "2022-05-11T14:01:30.215Z"
   },
   {
    "duration": 10,
    "start_time": "2022-05-11T14:01:30.469Z"
   },
   {
    "duration": 66,
    "start_time": "2022-05-11T14:01:30.481Z"
   },
   {
    "duration": 547,
    "start_time": "2022-05-11T14:02:06.709Z"
   },
   {
    "duration": 74,
    "start_time": "2022-05-11T14:02:07.259Z"
   },
   {
    "duration": 32,
    "start_time": "2022-05-11T14:02:07.335Z"
   },
   {
    "duration": 21,
    "start_time": "2022-05-11T14:02:07.370Z"
   },
   {
    "duration": 44,
    "start_time": "2022-05-11T14:02:07.394Z"
   },
   {
    "duration": 9,
    "start_time": "2022-05-11T14:02:07.440Z"
   },
   {
    "duration": 10,
    "start_time": "2022-05-11T14:02:07.451Z"
   },
   {
    "duration": 6,
    "start_time": "2022-05-11T14:02:07.463Z"
   },
   {
    "duration": 7,
    "start_time": "2022-05-11T14:02:07.472Z"
   },
   {
    "duration": 6,
    "start_time": "2022-05-11T14:02:07.524Z"
   },
   {
    "duration": 11,
    "start_time": "2022-05-11T14:02:07.533Z"
   },
   {
    "duration": 14,
    "start_time": "2022-05-11T14:02:07.546Z"
   },
   {
    "duration": 5,
    "start_time": "2022-05-11T14:02:07.562Z"
   },
   {
    "duration": 11,
    "start_time": "2022-05-11T14:02:07.569Z"
   },
   {
    "duration": 47,
    "start_time": "2022-05-11T14:02:07.582Z"
   },
   {
    "duration": 24,
    "start_time": "2022-05-11T14:02:07.632Z"
   },
   {
    "duration": 6,
    "start_time": "2022-05-11T14:02:07.658Z"
   },
   {
    "duration": 9,
    "start_time": "2022-05-11T14:02:07.667Z"
   },
   {
    "duration": 78,
    "start_time": "2022-05-11T14:02:07.679Z"
   },
   {
    "duration": 5,
    "start_time": "2022-05-11T14:02:07.759Z"
   },
   {
    "duration": 16,
    "start_time": "2022-05-11T14:02:07.766Z"
   },
   {
    "duration": 7,
    "start_time": "2022-05-11T14:02:07.784Z"
   },
   {
    "duration": 32,
    "start_time": "2022-05-11T14:02:07.793Z"
   },
   {
    "duration": 34,
    "start_time": "2022-05-11T14:02:07.827Z"
   },
   {
    "duration": 248,
    "start_time": "2022-05-11T14:02:07.864Z"
   },
   {
    "duration": 24,
    "start_time": "2022-05-11T14:02:08.115Z"
   },
   {
    "duration": 14,
    "start_time": "2022-05-11T14:02:08.141Z"
   },
   {
    "duration": 14,
    "start_time": "2022-05-11T14:02:08.161Z"
   },
   {
    "duration": 10,
    "start_time": "2022-05-11T14:02:08.177Z"
   },
   {
    "duration": 37,
    "start_time": "2022-05-11T14:02:08.189Z"
   },
   {
    "duration": 6,
    "start_time": "2022-05-11T14:02:08.229Z"
   },
   {
    "duration": 17,
    "start_time": "2022-05-11T14:02:08.237Z"
   },
   {
    "duration": 10,
    "start_time": "2022-05-11T14:02:08.256Z"
   },
   {
    "duration": 6,
    "start_time": "2022-05-11T14:02:08.269Z"
   },
   {
    "duration": 8,
    "start_time": "2022-05-11T14:02:08.277Z"
   },
   {
    "duration": 11,
    "start_time": "2022-05-11T14:02:08.326Z"
   },
   {
    "duration": 9,
    "start_time": "2022-05-11T14:02:08.340Z"
   },
   {
    "duration": 9,
    "start_time": "2022-05-11T14:02:08.352Z"
   },
   {
    "duration": 9,
    "start_time": "2022-05-11T14:02:08.363Z"
   },
   {
    "duration": 143,
    "start_time": "2022-05-11T14:02:08.374Z"
   },
   {
    "duration": 0,
    "start_time": "2022-05-11T14:02:08.520Z"
   },
   {
    "duration": 0,
    "start_time": "2022-05-11T14:02:08.524Z"
   },
   {
    "duration": 0,
    "start_time": "2022-05-11T14:02:08.525Z"
   },
   {
    "duration": 0,
    "start_time": "2022-05-11T14:02:08.527Z"
   },
   {
    "duration": 0,
    "start_time": "2022-05-11T14:02:08.528Z"
   },
   {
    "duration": 0,
    "start_time": "2022-05-11T14:02:08.529Z"
   },
   {
    "duration": 0,
    "start_time": "2022-05-11T14:02:08.531Z"
   },
   {
    "duration": 0,
    "start_time": "2022-05-11T14:02:08.532Z"
   },
   {
    "duration": 0,
    "start_time": "2022-05-11T14:02:08.534Z"
   },
   {
    "duration": 0,
    "start_time": "2022-05-11T14:02:08.535Z"
   },
   {
    "duration": 0,
    "start_time": "2022-05-11T14:02:08.536Z"
   },
   {
    "duration": 0,
    "start_time": "2022-05-11T14:02:08.538Z"
   },
   {
    "duration": 0,
    "start_time": "2022-05-11T14:02:08.539Z"
   },
   {
    "duration": 0,
    "start_time": "2022-05-11T14:02:08.541Z"
   },
   {
    "duration": 0,
    "start_time": "2022-05-11T14:02:08.542Z"
   },
   {
    "duration": 0,
    "start_time": "2022-05-11T14:02:08.543Z"
   },
   {
    "duration": 0,
    "start_time": "2022-05-11T14:02:08.545Z"
   },
   {
    "duration": 0,
    "start_time": "2022-05-11T14:02:08.547Z"
   },
   {
    "duration": 0,
    "start_time": "2022-05-11T14:02:08.549Z"
   },
   {
    "duration": 0,
    "start_time": "2022-05-11T14:02:08.551Z"
   },
   {
    "duration": 0,
    "start_time": "2022-05-11T14:02:08.553Z"
   },
   {
    "duration": 0,
    "start_time": "2022-05-11T14:02:08.554Z"
   },
   {
    "duration": 0,
    "start_time": "2022-05-11T14:02:08.556Z"
   },
   {
    "duration": 14,
    "start_time": "2022-05-11T14:02:25.245Z"
   },
   {
    "duration": 8,
    "start_time": "2022-05-11T14:03:11.585Z"
   },
   {
    "duration": 11,
    "start_time": "2022-05-11T14:03:24.829Z"
   },
   {
    "duration": 542,
    "start_time": "2022-05-11T14:03:48.120Z"
   },
   {
    "duration": 80,
    "start_time": "2022-05-11T14:03:48.665Z"
   },
   {
    "duration": 32,
    "start_time": "2022-05-11T14:03:48.748Z"
   },
   {
    "duration": 44,
    "start_time": "2022-05-11T14:03:48.782Z"
   },
   {
    "duration": 15,
    "start_time": "2022-05-11T14:03:48.829Z"
   },
   {
    "duration": 21,
    "start_time": "2022-05-11T14:03:48.847Z"
   },
   {
    "duration": 10,
    "start_time": "2022-05-11T14:03:48.871Z"
   },
   {
    "duration": 41,
    "start_time": "2022-05-11T14:03:48.884Z"
   },
   {
    "duration": 6,
    "start_time": "2022-05-11T14:03:48.927Z"
   },
   {
    "duration": 24,
    "start_time": "2022-05-11T14:03:48.936Z"
   },
   {
    "duration": 12,
    "start_time": "2022-05-11T14:03:48.962Z"
   },
   {
    "duration": 12,
    "start_time": "2022-05-11T14:03:48.976Z"
   },
   {
    "duration": 5,
    "start_time": "2022-05-11T14:03:48.990Z"
   },
   {
    "duration": 25,
    "start_time": "2022-05-11T14:03:49.001Z"
   },
   {
    "duration": 8,
    "start_time": "2022-05-11T14:03:49.028Z"
   },
   {
    "duration": 26,
    "start_time": "2022-05-11T14:03:49.038Z"
   },
   {
    "duration": 12,
    "start_time": "2022-05-11T14:03:49.066Z"
   },
   {
    "duration": 48,
    "start_time": "2022-05-11T14:03:49.080Z"
   },
   {
    "duration": 43,
    "start_time": "2022-05-11T14:03:49.131Z"
   },
   {
    "duration": 5,
    "start_time": "2022-05-11T14:03:49.177Z"
   },
   {
    "duration": 41,
    "start_time": "2022-05-11T14:03:49.184Z"
   },
   {
    "duration": 5,
    "start_time": "2022-05-11T14:03:49.228Z"
   },
   {
    "duration": 16,
    "start_time": "2022-05-11T14:03:49.236Z"
   },
   {
    "duration": 40,
    "start_time": "2022-05-11T14:03:49.254Z"
   },
   {
    "duration": 257,
    "start_time": "2022-05-11T14:03:49.297Z"
   },
   {
    "duration": 18,
    "start_time": "2022-05-11T14:03:49.557Z"
   },
   {
    "duration": 10,
    "start_time": "2022-05-11T14:03:49.577Z"
   },
   {
    "duration": 37,
    "start_time": "2022-05-11T14:03:49.589Z"
   },
   {
    "duration": 7,
    "start_time": "2022-05-11T14:03:49.628Z"
   },
   {
    "duration": 15,
    "start_time": "2022-05-11T14:03:49.637Z"
   },
   {
    "duration": 15,
    "start_time": "2022-05-11T14:03:49.654Z"
   },
   {
    "duration": 13,
    "start_time": "2022-05-11T14:03:49.671Z"
   },
   {
    "duration": 13,
    "start_time": "2022-05-11T14:03:49.686Z"
   },
   {
    "duration": 26,
    "start_time": "2022-05-11T14:03:49.702Z"
   },
   {
    "duration": 20,
    "start_time": "2022-05-11T14:03:49.730Z"
   },
   {
    "duration": 11,
    "start_time": "2022-05-11T14:03:49.752Z"
   },
   {
    "duration": 8,
    "start_time": "2022-05-11T14:03:49.766Z"
   },
   {
    "duration": 11,
    "start_time": "2022-05-11T14:03:49.776Z"
   },
   {
    "duration": 38,
    "start_time": "2022-05-11T14:03:49.789Z"
   },
   {
    "duration": 17,
    "start_time": "2022-05-11T14:03:49.829Z"
   },
   {
    "duration": 12,
    "start_time": "2022-05-11T14:03:49.853Z"
   },
   {
    "duration": 64,
    "start_time": "2022-05-11T14:03:49.867Z"
   },
   {
    "duration": 30,
    "start_time": "2022-05-11T14:03:49.933Z"
   },
   {
    "duration": 33,
    "start_time": "2022-05-11T14:03:49.965Z"
   },
   {
    "duration": 27,
    "start_time": "2022-05-11T14:03:50.000Z"
   },
   {
    "duration": 30,
    "start_time": "2022-05-11T14:03:50.030Z"
   },
   {
    "duration": 30,
    "start_time": "2022-05-11T14:03:50.063Z"
   },
   {
    "duration": 57,
    "start_time": "2022-05-11T14:03:50.096Z"
   },
   {
    "duration": 18,
    "start_time": "2022-05-11T14:03:50.155Z"
   },
   {
    "duration": 22,
    "start_time": "2022-05-11T14:03:50.175Z"
   },
   {
    "duration": 27,
    "start_time": "2022-05-11T14:03:50.199Z"
   },
   {
    "duration": 16,
    "start_time": "2022-05-11T14:03:50.228Z"
   },
   {
    "duration": 22,
    "start_time": "2022-05-11T14:03:50.246Z"
   },
   {
    "duration": 19,
    "start_time": "2022-05-11T14:03:50.270Z"
   },
   {
    "duration": 43,
    "start_time": "2022-05-11T14:03:50.292Z"
   },
   {
    "duration": 7,
    "start_time": "2022-05-11T14:03:50.339Z"
   },
   {
    "duration": 28,
    "start_time": "2022-05-11T14:03:50.349Z"
   },
   {
    "duration": 24,
    "start_time": "2022-05-11T14:03:50.380Z"
   },
   {
    "duration": 24,
    "start_time": "2022-05-11T14:03:50.406Z"
   },
   {
    "duration": 11,
    "start_time": "2022-05-11T14:03:50.432Z"
   },
   {
    "duration": 254,
    "start_time": "2022-05-11T14:03:50.445Z"
   },
   {
    "duration": 10,
    "start_time": "2022-05-11T14:03:50.701Z"
   },
   {
    "duration": 23,
    "start_time": "2022-05-11T14:03:50.725Z"
   },
   {
    "duration": 550,
    "start_time": "2022-05-11T14:05:17.302Z"
   },
   {
    "duration": 77,
    "start_time": "2022-05-11T14:05:17.854Z"
   },
   {
    "duration": 30,
    "start_time": "2022-05-11T14:05:17.933Z"
   },
   {
    "duration": 25,
    "start_time": "2022-05-11T14:05:17.966Z"
   },
   {
    "duration": 39,
    "start_time": "2022-05-11T14:05:17.993Z"
   },
   {
    "duration": 7,
    "start_time": "2022-05-11T14:05:18.034Z"
   },
   {
    "duration": 8,
    "start_time": "2022-05-11T14:05:18.043Z"
   },
   {
    "duration": 10,
    "start_time": "2022-05-11T14:05:18.053Z"
   },
   {
    "duration": 19,
    "start_time": "2022-05-11T14:05:18.065Z"
   },
   {
    "duration": 36,
    "start_time": "2022-05-11T14:05:18.088Z"
   },
   {
    "duration": 7,
    "start_time": "2022-05-11T14:05:18.126Z"
   },
   {
    "duration": 17,
    "start_time": "2022-05-11T14:05:18.135Z"
   },
   {
    "duration": 7,
    "start_time": "2022-05-11T14:05:18.155Z"
   },
   {
    "duration": 16,
    "start_time": "2022-05-11T14:05:18.164Z"
   },
   {
    "duration": 30,
    "start_time": "2022-05-11T14:05:18.182Z"
   },
   {
    "duration": 31,
    "start_time": "2022-05-11T14:05:18.215Z"
   },
   {
    "duration": 34,
    "start_time": "2022-05-11T14:05:18.248Z"
   },
   {
    "duration": 16,
    "start_time": "2022-05-11T14:05:18.284Z"
   },
   {
    "duration": 40,
    "start_time": "2022-05-11T14:05:18.302Z"
   },
   {
    "duration": 5,
    "start_time": "2022-05-11T14:05:18.344Z"
   },
   {
    "duration": 35,
    "start_time": "2022-05-11T14:05:18.351Z"
   },
   {
    "duration": 23,
    "start_time": "2022-05-11T14:05:18.389Z"
   },
   {
    "duration": 28,
    "start_time": "2022-05-11T14:05:18.415Z"
   },
   {
    "duration": 37,
    "start_time": "2022-05-11T14:05:18.445Z"
   },
   {
    "duration": 224,
    "start_time": "2022-05-11T14:05:18.485Z"
   },
   {
    "duration": 20,
    "start_time": "2022-05-11T14:05:18.712Z"
   },
   {
    "duration": 7,
    "start_time": "2022-05-11T14:05:18.734Z"
   },
   {
    "duration": 13,
    "start_time": "2022-05-11T14:05:18.747Z"
   },
   {
    "duration": 6,
    "start_time": "2022-05-11T14:05:18.763Z"
   },
   {
    "duration": 9,
    "start_time": "2022-05-11T14:05:18.772Z"
   },
   {
    "duration": 5,
    "start_time": "2022-05-11T14:05:18.825Z"
   },
   {
    "duration": 11,
    "start_time": "2022-05-11T14:05:18.832Z"
   },
   {
    "duration": 10,
    "start_time": "2022-05-11T14:05:18.845Z"
   },
   {
    "duration": 6,
    "start_time": "2022-05-11T14:05:18.857Z"
   },
   {
    "duration": 5,
    "start_time": "2022-05-11T14:05:18.865Z"
   },
   {
    "duration": 53,
    "start_time": "2022-05-11T14:05:18.873Z"
   },
   {
    "duration": 7,
    "start_time": "2022-05-11T14:05:18.928Z"
   },
   {
    "duration": 8,
    "start_time": "2022-05-11T14:05:18.938Z"
   },
   {
    "duration": 7,
    "start_time": "2022-05-11T14:05:18.948Z"
   },
   {
    "duration": 10,
    "start_time": "2022-05-11T14:05:18.958Z"
   },
   {
    "duration": 56,
    "start_time": "2022-05-11T14:05:18.970Z"
   },
   {
    "duration": 27,
    "start_time": "2022-05-11T14:05:19.029Z"
   },
   {
    "duration": 28,
    "start_time": "2022-05-11T14:05:19.058Z"
   },
   {
    "duration": 55,
    "start_time": "2022-05-11T14:05:19.088Z"
   },
   {
    "duration": 10,
    "start_time": "2022-05-11T14:05:19.145Z"
   },
   {
    "duration": 32,
    "start_time": "2022-05-11T14:05:19.158Z"
   },
   {
    "duration": 34,
    "start_time": "2022-05-11T14:05:19.192Z"
   },
   {
    "duration": 32,
    "start_time": "2022-05-11T14:05:19.228Z"
   },
   {
    "duration": 15,
    "start_time": "2022-05-11T14:05:19.262Z"
   },
   {
    "duration": 32,
    "start_time": "2022-05-11T14:05:19.279Z"
   },
   {
    "duration": 20,
    "start_time": "2022-05-11T14:05:19.313Z"
   },
   {
    "duration": 12,
    "start_time": "2022-05-11T14:05:19.335Z"
   },
   {
    "duration": 16,
    "start_time": "2022-05-11T14:05:19.349Z"
   },
   {
    "duration": 59,
    "start_time": "2022-05-11T14:05:19.367Z"
   },
   {
    "duration": 19,
    "start_time": "2022-05-11T14:05:19.428Z"
   },
   {
    "duration": 6,
    "start_time": "2022-05-11T14:05:19.449Z"
   },
   {
    "duration": 19,
    "start_time": "2022-05-11T14:05:19.457Z"
   },
   {
    "duration": 50,
    "start_time": "2022-05-11T14:05:19.479Z"
   },
   {
    "duration": 17,
    "start_time": "2022-05-11T14:05:19.532Z"
   },
   {
    "duration": 7,
    "start_time": "2022-05-11T14:05:19.552Z"
   },
   {
    "duration": 241,
    "start_time": "2022-05-11T14:05:19.561Z"
   },
   {
    "duration": 8,
    "start_time": "2022-05-11T14:05:19.805Z"
   },
   {
    "duration": 28,
    "start_time": "2022-05-11T14:05:19.815Z"
   },
   {
    "duration": 563,
    "start_time": "2022-05-11T14:07:26.484Z"
   },
   {
    "duration": 81,
    "start_time": "2022-05-11T14:07:27.050Z"
   },
   {
    "duration": 31,
    "start_time": "2022-05-11T14:07:27.133Z"
   },
   {
    "duration": 74,
    "start_time": "2022-05-11T14:07:27.167Z"
   },
   {
    "duration": 15,
    "start_time": "2022-05-11T14:07:27.243Z"
   },
   {
    "duration": 7,
    "start_time": "2022-05-11T14:07:27.260Z"
   },
   {
    "duration": 9,
    "start_time": "2022-05-11T14:07:27.269Z"
   },
   {
    "duration": 7,
    "start_time": "2022-05-11T14:07:27.281Z"
   },
   {
    "duration": 5,
    "start_time": "2022-05-11T14:07:27.326Z"
   },
   {
    "duration": 10,
    "start_time": "2022-05-11T14:07:27.337Z"
   },
   {
    "duration": 11,
    "start_time": "2022-05-11T14:07:27.349Z"
   },
   {
    "duration": 15,
    "start_time": "2022-05-11T14:07:27.363Z"
   },
   {
    "duration": 45,
    "start_time": "2022-05-11T14:07:27.380Z"
   },
   {
    "duration": 8,
    "start_time": "2022-05-11T14:07:27.427Z"
   },
   {
    "duration": 17,
    "start_time": "2022-05-11T14:07:27.437Z"
   },
   {
    "duration": 30,
    "start_time": "2022-05-11T14:07:27.457Z"
   },
   {
    "duration": 9,
    "start_time": "2022-05-11T14:07:27.489Z"
   },
   {
    "duration": 29,
    "start_time": "2022-05-11T14:07:27.501Z"
   },
   {
    "duration": 40,
    "start_time": "2022-05-11T14:07:27.532Z"
   },
   {
    "duration": 5,
    "start_time": "2022-05-11T14:07:27.574Z"
   },
   {
    "duration": 8,
    "start_time": "2022-05-11T14:07:27.583Z"
   },
   {
    "duration": 6,
    "start_time": "2022-05-11T14:07:27.625Z"
   },
   {
    "duration": 23,
    "start_time": "2022-05-11T14:07:27.633Z"
   },
   {
    "duration": 38,
    "start_time": "2022-05-11T14:07:27.658Z"
   },
   {
    "duration": 259,
    "start_time": "2022-05-11T14:07:27.698Z"
   },
   {
    "duration": 19,
    "start_time": "2022-05-11T14:07:27.959Z"
   },
   {
    "duration": 8,
    "start_time": "2022-05-11T14:07:27.980Z"
   },
   {
    "duration": 39,
    "start_time": "2022-05-11T14:07:27.994Z"
   },
   {
    "duration": 13,
    "start_time": "2022-05-11T14:07:28.035Z"
   },
   {
    "duration": 14,
    "start_time": "2022-05-11T14:07:28.051Z"
   },
   {
    "duration": 23,
    "start_time": "2022-05-11T14:07:28.067Z"
   },
   {
    "duration": 12,
    "start_time": "2022-05-11T14:07:28.092Z"
   },
   {
    "duration": 19,
    "start_time": "2022-05-11T14:07:28.107Z"
   },
   {
    "duration": 5,
    "start_time": "2022-05-11T14:07:28.129Z"
   },
   {
    "duration": 11,
    "start_time": "2022-05-11T14:07:28.136Z"
   },
   {
    "duration": 12,
    "start_time": "2022-05-11T14:07:28.149Z"
   },
   {
    "duration": 8,
    "start_time": "2022-05-11T14:07:28.164Z"
   },
   {
    "duration": 12,
    "start_time": "2022-05-11T14:07:28.174Z"
   },
   {
    "duration": 9,
    "start_time": "2022-05-11T14:07:28.226Z"
   },
   {
    "duration": 14,
    "start_time": "2022-05-11T14:07:28.237Z"
   },
   {
    "duration": 13,
    "start_time": "2022-05-11T14:07:28.254Z"
   },
   {
    "duration": 63,
    "start_time": "2022-05-11T14:07:28.269Z"
   },
   {
    "duration": 29,
    "start_time": "2022-05-11T14:07:28.335Z"
   },
   {
    "duration": 26,
    "start_time": "2022-05-11T14:07:28.367Z"
   },
   {
    "duration": 35,
    "start_time": "2022-05-11T14:07:28.395Z"
   },
   {
    "duration": 26,
    "start_time": "2022-05-11T14:07:28.433Z"
   },
   {
    "duration": 14,
    "start_time": "2022-05-11T14:07:28.461Z"
   },
   {
    "duration": 57,
    "start_time": "2022-05-11T14:07:28.477Z"
   },
   {
    "duration": 14,
    "start_time": "2022-05-11T14:07:28.536Z"
   },
   {
    "duration": 20,
    "start_time": "2022-05-11T14:07:28.552Z"
   },
   {
    "duration": 11,
    "start_time": "2022-05-11T14:07:28.574Z"
   },
   {
    "duration": 42,
    "start_time": "2022-05-11T14:07:28.587Z"
   },
   {
    "duration": 17,
    "start_time": "2022-05-11T14:07:28.631Z"
   },
   {
    "duration": 15,
    "start_time": "2022-05-11T14:07:28.650Z"
   },
   {
    "duration": 22,
    "start_time": "2022-05-11T14:07:28.668Z"
   },
   {
    "duration": 34,
    "start_time": "2022-05-11T14:07:28.692Z"
   },
   {
    "duration": 18,
    "start_time": "2022-05-11T14:07:28.729Z"
   },
   {
    "duration": 26,
    "start_time": "2022-05-11T14:07:28.749Z"
   },
   {
    "duration": 14,
    "start_time": "2022-05-11T14:07:28.778Z"
   },
   {
    "duration": 31,
    "start_time": "2022-05-11T14:07:28.794Z"
   },
   {
    "duration": 235,
    "start_time": "2022-05-11T14:07:28.827Z"
   },
   {
    "duration": 10,
    "start_time": "2022-05-11T14:07:29.065Z"
   },
   {
    "duration": 22,
    "start_time": "2022-05-11T14:07:29.077Z"
   },
   {
    "duration": 11,
    "start_time": "2022-05-11T14:10:03.471Z"
   },
   {
    "duration": 558,
    "start_time": "2022-05-11T14:10:08.519Z"
   },
   {
    "duration": 81,
    "start_time": "2022-05-11T14:10:09.079Z"
   },
   {
    "duration": 32,
    "start_time": "2022-05-11T14:10:09.162Z"
   },
   {
    "duration": 44,
    "start_time": "2022-05-11T14:10:09.197Z"
   },
   {
    "duration": 24,
    "start_time": "2022-05-11T14:10:09.244Z"
   },
   {
    "duration": 20,
    "start_time": "2022-05-11T14:10:09.270Z"
   },
   {
    "duration": 8,
    "start_time": "2022-05-11T14:10:09.293Z"
   },
   {
    "duration": 22,
    "start_time": "2022-05-11T14:10:09.304Z"
   },
   {
    "duration": 5,
    "start_time": "2022-05-11T14:10:09.328Z"
   },
   {
    "duration": 12,
    "start_time": "2022-05-11T14:10:09.339Z"
   },
   {
    "duration": 16,
    "start_time": "2022-05-11T14:10:09.354Z"
   },
   {
    "duration": 25,
    "start_time": "2022-05-11T14:10:09.372Z"
   },
   {
    "duration": 27,
    "start_time": "2022-05-11T14:10:09.400Z"
   },
   {
    "duration": 19,
    "start_time": "2022-05-11T14:10:09.430Z"
   },
   {
    "duration": 16,
    "start_time": "2022-05-11T14:10:09.452Z"
   },
   {
    "duration": 23,
    "start_time": "2022-05-11T14:10:09.471Z"
   },
   {
    "duration": 29,
    "start_time": "2022-05-11T14:10:09.496Z"
   },
   {
    "duration": 8,
    "start_time": "2022-05-11T14:10:09.527Z"
   },
   {
    "duration": 93,
    "start_time": "2022-05-11T14:10:09.538Z"
   },
   {
    "duration": 5,
    "start_time": "2022-05-11T14:10:09.633Z"
   },
   {
    "duration": 19,
    "start_time": "2022-05-11T14:10:09.641Z"
   },
   {
    "duration": 13,
    "start_time": "2022-05-11T14:10:09.663Z"
   },
   {
    "duration": 5,
    "start_time": "2022-05-11T14:10:09.679Z"
   },
   {
    "duration": 60,
    "start_time": "2022-05-11T14:10:09.686Z"
   },
   {
    "duration": 250,
    "start_time": "2022-05-11T14:10:09.748Z"
   },
   {
    "duration": 28,
    "start_time": "2022-05-11T14:10:10.001Z"
   },
   {
    "duration": 14,
    "start_time": "2022-05-11T14:10:10.032Z"
   },
   {
    "duration": 16,
    "start_time": "2022-05-11T14:10:10.052Z"
   },
   {
    "duration": 17,
    "start_time": "2022-05-11T14:10:10.070Z"
   },
   {
    "duration": 41,
    "start_time": "2022-05-11T14:10:10.089Z"
   },
   {
    "duration": 70,
    "start_time": "2022-05-11T14:10:10.133Z"
   },
   {
    "duration": 31,
    "start_time": "2022-05-11T14:10:10.206Z"
   },
   {
    "duration": 22,
    "start_time": "2022-05-11T14:10:10.240Z"
   },
   {
    "duration": 7,
    "start_time": "2022-05-11T14:10:10.265Z"
   },
   {
    "duration": 70,
    "start_time": "2022-05-11T14:10:10.275Z"
   },
   {
    "duration": 19,
    "start_time": "2022-05-11T14:10:10.348Z"
   },
   {
    "duration": 8,
    "start_time": "2022-05-11T14:10:10.370Z"
   },
   {
    "duration": 11,
    "start_time": "2022-05-11T14:10:10.381Z"
   },
   {
    "duration": 11,
    "start_time": "2022-05-11T14:10:10.394Z"
   },
   {
    "duration": 28,
    "start_time": "2022-05-11T14:10:10.407Z"
   },
   {
    "duration": 14,
    "start_time": "2022-05-11T14:10:10.438Z"
   },
   {
    "duration": 29,
    "start_time": "2022-05-11T14:10:10.455Z"
   },
   {
    "duration": 75,
    "start_time": "2022-05-11T14:10:10.486Z"
   },
   {
    "duration": 84,
    "start_time": "2022-05-11T14:10:10.563Z"
   },
   {
    "duration": 11,
    "start_time": "2022-05-11T14:10:10.649Z"
   },
   {
    "duration": 85,
    "start_time": "2022-05-11T14:10:10.662Z"
   },
   {
    "duration": 10,
    "start_time": "2022-05-11T14:10:10.749Z"
   },
   {
    "duration": 92,
    "start_time": "2022-05-11T14:10:10.762Z"
   },
   {
    "duration": 10,
    "start_time": "2022-05-11T14:10:10.856Z"
   },
   {
    "duration": 27,
    "start_time": "2022-05-11T14:10:10.925Z"
   },
   {
    "duration": 15,
    "start_time": "2022-05-11T14:10:10.954Z"
   },
   {
    "duration": 19,
    "start_time": "2022-05-11T14:10:11.028Z"
   },
   {
    "duration": 18,
    "start_time": "2022-05-11T14:10:11.050Z"
   },
   {
    "duration": 65,
    "start_time": "2022-05-11T14:10:11.070Z"
   },
   {
    "duration": 37,
    "start_time": "2022-05-11T14:10:11.137Z"
   },
   {
    "duration": 50,
    "start_time": "2022-05-11T14:10:11.176Z"
   },
   {
    "duration": 20,
    "start_time": "2022-05-11T14:10:11.228Z"
   },
   {
    "duration": 79,
    "start_time": "2022-05-11T14:10:11.251Z"
   },
   {
    "duration": 15,
    "start_time": "2022-05-11T14:10:11.333Z"
   },
   {
    "duration": 8,
    "start_time": "2022-05-11T14:10:11.350Z"
   },
   {
    "duration": 501,
    "start_time": "2022-05-11T14:10:11.360Z"
   },
   {
    "duration": 64,
    "start_time": "2022-05-11T14:10:11.863Z"
   },
   {
    "duration": 26,
    "start_time": "2022-05-11T14:10:11.930Z"
   },
   {
    "duration": 31,
    "start_time": "2022-05-11T14:10:41.674Z"
   },
   {
    "duration": 138,
    "start_time": "2022-05-11T14:13:22.763Z"
   },
   {
    "duration": 1814,
    "start_time": "2022-05-11T14:13:33.423Z"
   },
   {
    "duration": 549,
    "start_time": "2022-05-11T14:13:43.082Z"
   },
   {
    "duration": 73,
    "start_time": "2022-05-11T14:13:43.634Z"
   },
   {
    "duration": 42,
    "start_time": "2022-05-11T14:13:43.709Z"
   },
   {
    "duration": 21,
    "start_time": "2022-05-11T14:13:43.754Z"
   },
   {
    "duration": 12,
    "start_time": "2022-05-11T14:13:43.778Z"
   },
   {
    "duration": 36,
    "start_time": "2022-05-11T14:13:43.793Z"
   },
   {
    "duration": 20,
    "start_time": "2022-05-11T14:13:43.831Z"
   },
   {
    "duration": 26,
    "start_time": "2022-05-11T14:13:43.853Z"
   },
   {
    "duration": 12,
    "start_time": "2022-05-11T14:13:43.881Z"
   },
   {
    "duration": 5,
    "start_time": "2022-05-11T14:13:43.897Z"
   },
   {
    "duration": 22,
    "start_time": "2022-05-11T14:13:43.904Z"
   },
   {
    "duration": 10,
    "start_time": "2022-05-11T14:13:43.928Z"
   },
   {
    "duration": 4,
    "start_time": "2022-05-11T14:13:43.941Z"
   },
   {
    "duration": 9,
    "start_time": "2022-05-11T14:13:43.948Z"
   },
   {
    "duration": 7,
    "start_time": "2022-05-11T14:13:43.959Z"
   },
   {
    "duration": 75,
    "start_time": "2022-05-11T14:13:43.968Z"
   },
   {
    "duration": 5,
    "start_time": "2022-05-11T14:13:44.045Z"
   },
   {
    "duration": 9,
    "start_time": "2022-05-11T14:13:44.052Z"
   },
   {
    "duration": 67,
    "start_time": "2022-05-11T14:13:44.064Z"
   },
   {
    "duration": 5,
    "start_time": "2022-05-11T14:13:44.134Z"
   },
   {
    "duration": 8,
    "start_time": "2022-05-11T14:13:44.142Z"
   },
   {
    "duration": 6,
    "start_time": "2022-05-11T14:13:44.153Z"
   },
   {
    "duration": 7,
    "start_time": "2022-05-11T14:13:44.162Z"
   },
   {
    "duration": 78,
    "start_time": "2022-05-11T14:13:44.171Z"
   },
   {
    "duration": 245,
    "start_time": "2022-05-11T14:13:44.251Z"
   },
   {
    "duration": 27,
    "start_time": "2022-05-11T14:13:44.499Z"
   },
   {
    "duration": 13,
    "start_time": "2022-05-11T14:13:44.529Z"
   },
   {
    "duration": 13,
    "start_time": "2022-05-11T14:13:44.548Z"
   },
   {
    "duration": 7,
    "start_time": "2022-05-11T14:13:44.563Z"
   },
   {
    "duration": 6,
    "start_time": "2022-05-11T14:13:44.572Z"
   },
   {
    "duration": 44,
    "start_time": "2022-05-11T14:13:44.580Z"
   },
   {
    "duration": 6,
    "start_time": "2022-05-11T14:13:44.627Z"
   },
   {
    "duration": 14,
    "start_time": "2022-05-11T14:13:44.635Z"
   },
   {
    "duration": 6,
    "start_time": "2022-05-11T14:13:44.651Z"
   },
   {
    "duration": 9,
    "start_time": "2022-05-11T14:13:44.659Z"
   },
   {
    "duration": 10,
    "start_time": "2022-05-11T14:13:44.670Z"
   },
   {
    "duration": 45,
    "start_time": "2022-05-11T14:13:44.682Z"
   },
   {
    "duration": 11,
    "start_time": "2022-05-11T14:13:44.729Z"
   },
   {
    "duration": 8,
    "start_time": "2022-05-11T14:13:44.742Z"
   },
   {
    "duration": 12,
    "start_time": "2022-05-11T14:13:44.752Z"
   },
   {
    "duration": 10,
    "start_time": "2022-05-11T14:13:44.766Z"
   },
   {
    "duration": 68,
    "start_time": "2022-05-11T14:13:44.778Z"
   },
   {
    "duration": 28,
    "start_time": "2022-05-11T14:13:44.848Z"
   },
   {
    "duration": 52,
    "start_time": "2022-05-11T14:13:44.878Z"
   },
   {
    "duration": 9,
    "start_time": "2022-05-11T14:13:44.932Z"
   },
   {
    "duration": 23,
    "start_time": "2022-05-11T14:13:44.943Z"
   },
   {
    "duration": 11,
    "start_time": "2022-05-11T14:13:44.968Z"
   },
   {
    "duration": 58,
    "start_time": "2022-05-11T14:13:44.981Z"
   },
   {
    "duration": 13,
    "start_time": "2022-05-11T14:13:45.041Z"
   },
   {
    "duration": 21,
    "start_time": "2022-05-11T14:13:45.056Z"
   },
   {
    "duration": 25,
    "start_time": "2022-05-11T14:13:45.080Z"
   },
   {
    "duration": 11,
    "start_time": "2022-05-11T14:13:45.124Z"
   },
   {
    "duration": 13,
    "start_time": "2022-05-11T14:13:45.137Z"
   },
   {
    "duration": 16,
    "start_time": "2022-05-11T14:13:45.152Z"
   },
   {
    "duration": 56,
    "start_time": "2022-05-11T14:13:45.170Z"
   },
   {
    "duration": 8,
    "start_time": "2022-05-11T14:13:45.228Z"
   },
   {
    "duration": 24,
    "start_time": "2022-05-11T14:13:45.238Z"
   },
   {
    "duration": 28,
    "start_time": "2022-05-11T14:13:45.265Z"
   },
   {
    "duration": 29,
    "start_time": "2022-05-11T14:13:45.295Z"
   },
   {
    "duration": 5,
    "start_time": "2022-05-11T14:13:45.327Z"
   },
   {
    "duration": 249,
    "start_time": "2022-05-11T14:13:45.334Z"
   },
   {
    "duration": 10,
    "start_time": "2022-05-11T14:13:45.585Z"
   },
   {
    "duration": 35,
    "start_time": "2022-05-11T14:13:45.598Z"
   },
   {
    "duration": 542,
    "start_time": "2022-05-11T14:14:16.860Z"
   },
   {
    "duration": 81,
    "start_time": "2022-05-11T14:14:17.404Z"
   },
   {
    "duration": 45,
    "start_time": "2022-05-11T14:14:17.487Z"
   },
   {
    "duration": 21,
    "start_time": "2022-05-11T14:14:17.535Z"
   },
   {
    "duration": 15,
    "start_time": "2022-05-11T14:14:17.559Z"
   },
   {
    "duration": 12,
    "start_time": "2022-05-11T14:14:17.577Z"
   },
   {
    "duration": 39,
    "start_time": "2022-05-11T14:14:17.592Z"
   },
   {
    "duration": 6,
    "start_time": "2022-05-11T14:14:17.633Z"
   },
   {
    "duration": 13,
    "start_time": "2022-05-11T14:14:17.641Z"
   },
   {
    "duration": 8,
    "start_time": "2022-05-11T14:14:17.659Z"
   },
   {
    "duration": 10,
    "start_time": "2022-05-11T14:14:17.669Z"
   },
   {
    "duration": 49,
    "start_time": "2022-05-11T14:14:17.681Z"
   },
   {
    "duration": 5,
    "start_time": "2022-05-11T14:14:17.732Z"
   },
   {
    "duration": 11,
    "start_time": "2022-05-11T14:14:17.739Z"
   },
   {
    "duration": 9,
    "start_time": "2022-05-11T14:14:17.752Z"
   },
   {
    "duration": 64,
    "start_time": "2022-05-11T14:14:17.763Z"
   },
   {
    "duration": 7,
    "start_time": "2022-05-11T14:14:17.830Z"
   },
   {
    "duration": 11,
    "start_time": "2022-05-11T14:14:17.840Z"
   },
   {
    "duration": 72,
    "start_time": "2022-05-11T14:14:17.853Z"
   },
   {
    "duration": 5,
    "start_time": "2022-05-11T14:14:17.928Z"
   },
   {
    "duration": 13,
    "start_time": "2022-05-11T14:14:17.935Z"
   },
   {
    "duration": 14,
    "start_time": "2022-05-11T14:14:17.951Z"
   },
   {
    "duration": 8,
    "start_time": "2022-05-11T14:14:17.968Z"
   },
   {
    "duration": 66,
    "start_time": "2022-05-11T14:14:17.978Z"
   },
   {
    "duration": 247,
    "start_time": "2022-05-11T14:14:18.046Z"
   },
   {
    "duration": 28,
    "start_time": "2022-05-11T14:14:18.296Z"
   },
   {
    "duration": 6,
    "start_time": "2022-05-11T14:14:18.327Z"
   },
   {
    "duration": 15,
    "start_time": "2022-05-11T14:14:18.339Z"
   },
   {
    "duration": 7,
    "start_time": "2022-05-11T14:14:18.357Z"
   },
   {
    "duration": 6,
    "start_time": "2022-05-11T14:14:18.366Z"
   },
   {
    "duration": 51,
    "start_time": "2022-05-11T14:14:18.374Z"
   },
   {
    "duration": 11,
    "start_time": "2022-05-11T14:14:18.428Z"
   },
   {
    "duration": 9,
    "start_time": "2022-05-11T14:14:18.441Z"
   },
   {
    "duration": 6,
    "start_time": "2022-05-11T14:14:18.453Z"
   },
   {
    "duration": 7,
    "start_time": "2022-05-11T14:14:18.461Z"
   },
   {
    "duration": 14,
    "start_time": "2022-05-11T14:14:18.470Z"
   },
   {
    "duration": 46,
    "start_time": "2022-05-11T14:14:18.486Z"
   },
   {
    "duration": 12,
    "start_time": "2022-05-11T14:14:18.534Z"
   },
   {
    "duration": 9,
    "start_time": "2022-05-11T14:14:18.548Z"
   },
   {
    "duration": 17,
    "start_time": "2022-05-11T14:14:18.559Z"
   },
   {
    "duration": 47,
    "start_time": "2022-05-11T14:14:18.578Z"
   },
   {
    "duration": 30,
    "start_time": "2022-05-11T14:14:18.627Z"
   },
   {
    "duration": 31,
    "start_time": "2022-05-11T14:14:18.659Z"
   },
   {
    "duration": 53,
    "start_time": "2022-05-11T14:14:18.692Z"
   },
   {
    "duration": 10,
    "start_time": "2022-05-11T14:14:18.748Z"
   },
   {
    "duration": 34,
    "start_time": "2022-05-11T14:14:18.761Z"
   },
   {
    "duration": 34,
    "start_time": "2022-05-11T14:14:18.798Z"
   },
   {
    "duration": 33,
    "start_time": "2022-05-11T14:14:18.835Z"
   },
   {
    "duration": 17,
    "start_time": "2022-05-11T14:14:18.870Z"
   },
   {
    "duration": 47,
    "start_time": "2022-05-11T14:14:18.889Z"
   },
   {
    "duration": 32,
    "start_time": "2022-05-11T14:14:18.939Z"
   },
   {
    "duration": 13,
    "start_time": "2022-05-11T14:14:18.973Z"
   },
   {
    "duration": 18,
    "start_time": "2022-05-11T14:14:18.988Z"
   },
   {
    "duration": 22,
    "start_time": "2022-05-11T14:14:19.009Z"
   },
   {
    "duration": 22,
    "start_time": "2022-05-11T14:14:19.033Z"
   },
   {
    "duration": 9,
    "start_time": "2022-05-11T14:14:19.058Z"
   },
   {
    "duration": 19,
    "start_time": "2022-05-11T14:14:19.069Z"
   },
   {
    "duration": 46,
    "start_time": "2022-05-11T14:14:19.090Z"
   },
   {
    "duration": 15,
    "start_time": "2022-05-11T14:14:19.139Z"
   },
   {
    "duration": 13,
    "start_time": "2022-05-11T14:14:19.156Z"
   },
   {
    "duration": 253,
    "start_time": "2022-05-11T14:14:19.171Z"
   },
   {
    "duration": 10,
    "start_time": "2022-05-11T14:14:19.426Z"
   },
   {
    "duration": 24,
    "start_time": "2022-05-11T14:14:19.438Z"
   },
   {
    "duration": 1842,
    "start_time": "2022-05-11T14:16:30.935Z"
   },
   {
    "duration": 579,
    "start_time": "2022-05-11T14:16:35.607Z"
   },
   {
    "duration": 84,
    "start_time": "2022-05-11T14:16:36.189Z"
   },
   {
    "duration": 52,
    "start_time": "2022-05-11T14:16:36.275Z"
   },
   {
    "duration": 35,
    "start_time": "2022-05-11T14:16:36.331Z"
   },
   {
    "duration": 16,
    "start_time": "2022-05-11T14:16:36.369Z"
   },
   {
    "duration": 40,
    "start_time": "2022-05-11T14:16:36.387Z"
   },
   {
    "duration": 9,
    "start_time": "2022-05-11T14:16:36.429Z"
   },
   {
    "duration": 8,
    "start_time": "2022-05-11T14:16:36.440Z"
   },
   {
    "duration": 9,
    "start_time": "2022-05-11T14:16:36.450Z"
   },
   {
    "duration": 7,
    "start_time": "2022-05-11T14:16:36.463Z"
   },
   {
    "duration": 8,
    "start_time": "2022-05-11T14:16:36.472Z"
   },
   {
    "duration": 11,
    "start_time": "2022-05-11T14:16:36.524Z"
   },
   {
    "duration": 5,
    "start_time": "2022-05-11T14:16:36.538Z"
   },
   {
    "duration": 13,
    "start_time": "2022-05-11T14:16:36.545Z"
   },
   {
    "duration": 11,
    "start_time": "2022-05-11T14:16:36.561Z"
   },
   {
    "duration": 71,
    "start_time": "2022-05-11T14:16:36.575Z"
   },
   {
    "duration": 8,
    "start_time": "2022-05-11T14:16:36.649Z"
   },
   {
    "duration": 9,
    "start_time": "2022-05-11T14:16:36.660Z"
   },
   {
    "duration": 68,
    "start_time": "2022-05-11T14:16:36.671Z"
   },
   {
    "duration": 5,
    "start_time": "2022-05-11T14:16:36.741Z"
   },
   {
    "duration": 8,
    "start_time": "2022-05-11T14:16:36.749Z"
   },
   {
    "duration": 8,
    "start_time": "2022-05-11T14:16:36.759Z"
   },
   {
    "duration": 12,
    "start_time": "2022-05-11T14:16:36.770Z"
   },
   {
    "duration": 87,
    "start_time": "2022-05-11T14:16:36.785Z"
   },
   {
    "duration": 429,
    "start_time": "2022-05-11T14:16:36.875Z"
   },
   {
    "duration": 38,
    "start_time": "2022-05-11T14:16:37.307Z"
   },
   {
    "duration": 10,
    "start_time": "2022-05-11T14:16:37.348Z"
   },
   {
    "duration": 22,
    "start_time": "2022-05-11T14:16:37.368Z"
   },
   {
    "duration": 37,
    "start_time": "2022-05-11T14:16:37.393Z"
   },
   {
    "duration": 9,
    "start_time": "2022-05-11T14:16:37.432Z"
   },
   {
    "duration": 6,
    "start_time": "2022-05-11T14:16:37.443Z"
   },
   {
    "duration": 10,
    "start_time": "2022-05-11T14:16:37.451Z"
   },
   {
    "duration": 65,
    "start_time": "2022-05-11T14:16:37.464Z"
   },
   {
    "duration": 5,
    "start_time": "2022-05-11T14:16:37.531Z"
   },
   {
    "duration": 6,
    "start_time": "2022-05-11T14:16:37.538Z"
   },
   {
    "duration": 10,
    "start_time": "2022-05-11T14:16:37.546Z"
   },
   {
    "duration": 7,
    "start_time": "2022-05-11T14:16:37.558Z"
   },
   {
    "duration": 63,
    "start_time": "2022-05-11T14:16:37.567Z"
   },
   {
    "duration": 12,
    "start_time": "2022-05-11T14:16:37.632Z"
   },
   {
    "duration": 11,
    "start_time": "2022-05-11T14:16:37.647Z"
   },
   {
    "duration": 71,
    "start_time": "2022-05-11T14:16:37.661Z"
   },
   {
    "duration": 30,
    "start_time": "2022-05-11T14:16:37.734Z"
   },
   {
    "duration": 88,
    "start_time": "2022-05-11T14:16:37.766Z"
   },
   {
    "duration": 82,
    "start_time": "2022-05-11T14:16:37.856Z"
   },
   {
    "duration": 9,
    "start_time": "2022-05-11T14:16:37.940Z"
   },
   {
    "duration": 75,
    "start_time": "2022-05-11T14:16:37.951Z"
   },
   {
    "duration": 21,
    "start_time": "2022-05-11T14:16:38.028Z"
   },
   {
    "duration": 74,
    "start_time": "2022-05-11T14:16:38.051Z"
   },
   {
    "duration": 11,
    "start_time": "2022-05-11T14:16:38.128Z"
   },
   {
    "duration": 23,
    "start_time": "2022-05-11T14:16:38.142Z"
   },
   {
    "duration": 64,
    "start_time": "2022-05-11T14:16:38.167Z"
   },
   {
    "duration": 15,
    "start_time": "2022-05-11T14:16:38.233Z"
   },
   {
    "duration": 21,
    "start_time": "2022-05-11T14:16:38.250Z"
   },
   {
    "duration": 58,
    "start_time": "2022-05-11T14:16:38.274Z"
   },
   {
    "duration": 23,
    "start_time": "2022-05-11T14:16:38.334Z"
   },
   {
    "duration": 6,
    "start_time": "2022-05-11T14:16:38.360Z"
   },
   {
    "duration": 15,
    "start_time": "2022-05-11T14:16:38.425Z"
   },
   {
    "duration": 22,
    "start_time": "2022-05-11T14:16:38.442Z"
   },
   {
    "duration": 59,
    "start_time": "2022-05-11T14:16:38.467Z"
   },
   {
    "duration": 7,
    "start_time": "2022-05-11T14:16:38.528Z"
   },
   {
    "duration": 633,
    "start_time": "2022-05-11T14:16:38.537Z"
   },
   {
    "duration": 14,
    "start_time": "2022-05-11T14:16:39.225Z"
   },
   {
    "duration": 87,
    "start_time": "2022-05-11T14:16:39.241Z"
   },
   {
    "duration": 540,
    "start_time": "2022-05-11T14:17:44.425Z"
   },
   {
    "duration": 79,
    "start_time": "2022-05-11T14:17:44.968Z"
   },
   {
    "duration": 33,
    "start_time": "2022-05-11T14:17:45.049Z"
   },
   {
    "duration": 43,
    "start_time": "2022-05-11T14:17:45.085Z"
   },
   {
    "duration": 13,
    "start_time": "2022-05-11T14:17:45.131Z"
   },
   {
    "duration": 11,
    "start_time": "2022-05-11T14:17:45.147Z"
   },
   {
    "duration": 10,
    "start_time": "2022-05-11T14:17:45.161Z"
   },
   {
    "duration": 51,
    "start_time": "2022-05-11T14:17:45.174Z"
   },
   {
    "duration": 7,
    "start_time": "2022-05-11T14:17:45.228Z"
   },
   {
    "duration": 5,
    "start_time": "2022-05-11T14:17:45.241Z"
   },
   {
    "duration": 15,
    "start_time": "2022-05-11T14:17:45.248Z"
   },
   {
    "duration": 17,
    "start_time": "2022-05-11T14:17:45.265Z"
   },
   {
    "duration": 5,
    "start_time": "2022-05-11T14:17:45.325Z"
   },
   {
    "duration": 32,
    "start_time": "2022-05-11T14:17:45.333Z"
   },
   {
    "duration": 22,
    "start_time": "2022-05-11T14:17:45.367Z"
   },
   {
    "duration": 53,
    "start_time": "2022-05-11T14:17:45.392Z"
   },
   {
    "duration": 9,
    "start_time": "2022-05-11T14:17:45.447Z"
   },
   {
    "duration": 12,
    "start_time": "2022-05-11T14:17:45.459Z"
   },
   {
    "duration": 70,
    "start_time": "2022-05-11T14:17:45.473Z"
   },
   {
    "duration": 5,
    "start_time": "2022-05-11T14:17:45.546Z"
   },
   {
    "duration": 9,
    "start_time": "2022-05-11T14:17:45.553Z"
   },
   {
    "duration": 7,
    "start_time": "2022-05-11T14:17:45.565Z"
   },
   {
    "duration": 6,
    "start_time": "2022-05-11T14:17:45.575Z"
   },
   {
    "duration": 74,
    "start_time": "2022-05-11T14:17:45.583Z"
   },
   {
    "duration": 248,
    "start_time": "2022-05-11T14:17:45.659Z"
   },
   {
    "duration": 29,
    "start_time": "2022-05-11T14:17:45.909Z"
   },
   {
    "duration": 9,
    "start_time": "2022-05-11T14:17:45.941Z"
   },
   {
    "duration": 14,
    "start_time": "2022-05-11T14:17:45.957Z"
   },
   {
    "duration": 7,
    "start_time": "2022-05-11T14:17:45.973Z"
   },
   {
    "duration": 47,
    "start_time": "2022-05-11T14:17:45.983Z"
   },
   {
    "duration": 8,
    "start_time": "2022-05-11T14:17:46.033Z"
   },
   {
    "duration": 10,
    "start_time": "2022-05-11T14:17:46.044Z"
   },
   {
    "duration": 13,
    "start_time": "2022-05-11T14:17:46.056Z"
   },
   {
    "duration": 7,
    "start_time": "2022-05-11T14:17:46.072Z"
   },
   {
    "duration": 7,
    "start_time": "2022-05-11T14:17:46.126Z"
   },
   {
    "duration": 11,
    "start_time": "2022-05-11T14:17:46.136Z"
   },
   {
    "duration": 10,
    "start_time": "2022-05-11T14:17:46.149Z"
   },
   {
    "duration": 17,
    "start_time": "2022-05-11T14:17:46.162Z"
   },
   {
    "duration": 51,
    "start_time": "2022-05-11T14:17:46.182Z"
   },
   {
    "duration": 18,
    "start_time": "2022-05-11T14:17:46.236Z"
   },
   {
    "duration": 14,
    "start_time": "2022-05-11T14:17:46.258Z"
   },
   {
    "duration": 66,
    "start_time": "2022-05-11T14:17:46.274Z"
   },
   {
    "duration": 30,
    "start_time": "2022-05-11T14:17:46.342Z"
   },
   {
    "duration": 56,
    "start_time": "2022-05-11T14:17:46.375Z"
   },
   {
    "duration": 11,
    "start_time": "2022-05-11T14:17:46.434Z"
   },
   {
    "duration": 25,
    "start_time": "2022-05-11T14:17:46.448Z"
   },
   {
    "duration": 50,
    "start_time": "2022-05-11T14:17:46.475Z"
   },
   {
    "duration": 26,
    "start_time": "2022-05-11T14:17:46.527Z"
   },
   {
    "duration": 10,
    "start_time": "2022-05-11T14:17:46.556Z"
   },
   {
    "duration": 57,
    "start_time": "2022-05-11T14:17:46.568Z"
   },
   {
    "duration": 10,
    "start_time": "2022-05-11T14:17:46.627Z"
   },
   {
    "duration": 20,
    "start_time": "2022-05-11T14:17:46.640Z"
   },
   {
    "duration": 18,
    "start_time": "2022-05-11T14:17:46.663Z"
   },
   {
    "duration": 43,
    "start_time": "2022-05-11T14:17:46.684Z"
   },
   {
    "duration": 32,
    "start_time": "2022-05-11T14:17:46.730Z"
   },
   {
    "duration": 7,
    "start_time": "2022-05-11T14:17:46.765Z"
   },
   {
    "duration": 16,
    "start_time": "2022-05-11T14:17:46.775Z"
   },
   {
    "duration": 50,
    "start_time": "2022-05-11T14:17:46.794Z"
   },
   {
    "duration": 10,
    "start_time": "2022-05-11T14:17:46.847Z"
   },
   {
    "duration": 7,
    "start_time": "2022-05-11T14:17:46.860Z"
   },
   {
    "duration": 264,
    "start_time": "2022-05-11T14:17:46.869Z"
   },
   {
    "duration": 10,
    "start_time": "2022-05-11T14:17:47.135Z"
   },
   {
    "duration": 34,
    "start_time": "2022-05-11T14:17:47.148Z"
   },
   {
    "duration": 9,
    "start_time": "2022-05-11T14:18:56.507Z"
   },
   {
    "duration": 546,
    "start_time": "2022-05-11T14:19:57.723Z"
   },
   {
    "duration": 81,
    "start_time": "2022-05-11T14:19:58.272Z"
   },
   {
    "duration": 31,
    "start_time": "2022-05-11T14:19:58.359Z"
   },
   {
    "duration": 44,
    "start_time": "2022-05-11T14:19:58.392Z"
   },
   {
    "duration": 16,
    "start_time": "2022-05-11T14:19:58.438Z"
   },
   {
    "duration": 6,
    "start_time": "2022-05-11T14:19:58.456Z"
   },
   {
    "duration": 16,
    "start_time": "2022-05-11T14:19:58.464Z"
   },
   {
    "duration": 42,
    "start_time": "2022-05-11T14:19:58.482Z"
   },
   {
    "duration": 5,
    "start_time": "2022-05-11T14:19:58.528Z"
   },
   {
    "duration": 12,
    "start_time": "2022-05-11T14:19:58.536Z"
   },
   {
    "duration": 10,
    "start_time": "2022-05-11T14:19:58.550Z"
   },
   {
    "duration": 15,
    "start_time": "2022-05-11T14:19:58.562Z"
   },
   {
    "duration": 7,
    "start_time": "2022-05-11T14:19:58.579Z"
   },
   {
    "duration": 39,
    "start_time": "2022-05-11T14:19:58.589Z"
   },
   {
    "duration": 13,
    "start_time": "2022-05-11T14:19:58.630Z"
   },
   {
    "duration": 23,
    "start_time": "2022-05-11T14:19:58.646Z"
   },
   {
    "duration": 8,
    "start_time": "2022-05-11T14:19:58.671Z"
   },
   {
    "duration": 9,
    "start_time": "2022-05-11T14:19:58.681Z"
   },
   {
    "duration": 41,
    "start_time": "2022-05-11T14:19:58.725Z"
   },
   {
    "duration": 5,
    "start_time": "2022-05-11T14:19:58.768Z"
   },
   {
    "duration": 9,
    "start_time": "2022-05-11T14:19:58.775Z"
   },
   {
    "duration": 38,
    "start_time": "2022-05-11T14:19:58.787Z"
   },
   {
    "duration": 6,
    "start_time": "2022-05-11T14:19:58.827Z"
   },
   {
    "duration": 39,
    "start_time": "2022-05-11T14:19:58.835Z"
   },
   {
    "duration": 256,
    "start_time": "2022-05-11T14:19:58.876Z"
   },
   {
    "duration": 19,
    "start_time": "2022-05-11T14:19:59.134Z"
   },
   {
    "duration": 7,
    "start_time": "2022-05-11T14:19:59.159Z"
   },
   {
    "duration": 24,
    "start_time": "2022-05-11T14:19:59.168Z"
   },
   {
    "duration": 32,
    "start_time": "2022-05-11T14:19:59.195Z"
   },
   {
    "duration": 6,
    "start_time": "2022-05-11T14:19:59.230Z"
   },
   {
    "duration": 5,
    "start_time": "2022-05-11T14:19:59.238Z"
   },
   {
    "duration": 8,
    "start_time": "2022-05-11T14:19:59.245Z"
   },
   {
    "duration": 9,
    "start_time": "2022-05-11T14:19:59.255Z"
   },
   {
    "duration": 59,
    "start_time": "2022-05-11T14:19:59.266Z"
   },
   {
    "duration": 5,
    "start_time": "2022-05-11T14:19:59.327Z"
   },
   {
    "duration": 15,
    "start_time": "2022-05-11T14:19:59.334Z"
   },
   {
    "duration": 10,
    "start_time": "2022-05-11T14:19:59.351Z"
   },
   {
    "duration": 11,
    "start_time": "2022-05-11T14:19:59.364Z"
   },
   {
    "duration": 16,
    "start_time": "2022-05-11T14:19:59.377Z"
   },
   {
    "duration": 38,
    "start_time": "2022-05-11T14:19:59.395Z"
   },
   {
    "duration": 11,
    "start_time": "2022-05-11T14:19:59.435Z"
   },
   {
    "duration": 28,
    "start_time": "2022-05-11T14:19:59.449Z"
   },
   {
    "duration": 66,
    "start_time": "2022-05-11T14:19:59.480Z"
   },
   {
    "duration": 28,
    "start_time": "2022-05-11T14:19:59.548Z"
   },
   {
    "duration": 9,
    "start_time": "2022-05-11T14:19:59.578Z"
   },
   {
    "duration": 53,
    "start_time": "2022-05-11T14:19:59.589Z"
   },
   {
    "duration": 9,
    "start_time": "2022-05-11T14:19:59.645Z"
   },
   {
    "duration": 29,
    "start_time": "2022-05-11T14:19:59.656Z"
   },
   {
    "duration": 39,
    "start_time": "2022-05-11T14:19:59.687Z"
   },
   {
    "duration": 22,
    "start_time": "2022-05-11T14:19:59.728Z"
   },
   {
    "duration": 12,
    "start_time": "2022-05-11T14:19:59.753Z"
   },
   {
    "duration": 13,
    "start_time": "2022-05-11T14:19:59.767Z"
   },
   {
    "duration": 44,
    "start_time": "2022-05-11T14:19:59.782Z"
   },
   {
    "duration": 14,
    "start_time": "2022-05-11T14:19:59.828Z"
   },
   {
    "duration": 21,
    "start_time": "2022-05-11T14:19:59.844Z"
   },
   {
    "duration": 7,
    "start_time": "2022-05-11T14:19:59.867Z"
   },
   {
    "duration": 48,
    "start_time": "2022-05-11T14:19:59.877Z"
   },
   {
    "duration": 24,
    "start_time": "2022-05-11T14:19:59.928Z"
   },
   {
    "duration": 10,
    "start_time": "2022-05-11T14:19:59.955Z"
   },
   {
    "duration": 6,
    "start_time": "2022-05-11T14:19:59.967Z"
   },
   {
    "duration": 256,
    "start_time": "2022-05-11T14:19:59.975Z"
   },
   {
    "duration": 10,
    "start_time": "2022-05-11T14:20:00.233Z"
   },
   {
    "duration": 24,
    "start_time": "2022-05-11T14:20:00.245Z"
   },
   {
    "duration": 547,
    "start_time": "2022-05-11T14:21:20.533Z"
   },
   {
    "duration": 84,
    "start_time": "2022-05-11T14:21:21.083Z"
   },
   {
    "duration": 34,
    "start_time": "2022-05-11T14:21:21.169Z"
   },
   {
    "duration": 40,
    "start_time": "2022-05-11T14:21:21.206Z"
   },
   {
    "duration": 14,
    "start_time": "2022-05-11T14:21:21.248Z"
   },
   {
    "duration": 8,
    "start_time": "2022-05-11T14:21:21.264Z"
   },
   {
    "duration": 51,
    "start_time": "2022-05-11T14:21:21.275Z"
   },
   {
    "duration": 7,
    "start_time": "2022-05-11T14:21:21.329Z"
   },
   {
    "duration": 18,
    "start_time": "2022-05-11T14:21:21.338Z"
   },
   {
    "duration": 7,
    "start_time": "2022-05-11T14:21:21.361Z"
   },
   {
    "duration": 9,
    "start_time": "2022-05-11T14:21:21.370Z"
   },
   {
    "duration": 47,
    "start_time": "2022-05-11T14:21:21.381Z"
   },
   {
    "duration": 6,
    "start_time": "2022-05-11T14:21:21.431Z"
   },
   {
    "duration": 19,
    "start_time": "2022-05-11T14:21:21.440Z"
   },
   {
    "duration": 10,
    "start_time": "2022-05-11T14:21:21.461Z"
   },
   {
    "duration": 65,
    "start_time": "2022-05-11T14:21:21.474Z"
   },
   {
    "duration": 6,
    "start_time": "2022-05-11T14:21:21.542Z"
   },
   {
    "duration": 19,
    "start_time": "2022-05-11T14:21:21.551Z"
   },
   {
    "duration": 77,
    "start_time": "2022-05-11T14:21:21.572Z"
   },
   {
    "duration": 6,
    "start_time": "2022-05-11T14:21:21.652Z"
   },
   {
    "duration": 10,
    "start_time": "2022-05-11T14:21:21.662Z"
   },
   {
    "duration": 13,
    "start_time": "2022-05-11T14:21:21.675Z"
   },
   {
    "duration": 37,
    "start_time": "2022-05-11T14:21:21.691Z"
   },
   {
    "duration": 55,
    "start_time": "2022-05-11T14:21:21.730Z"
   },
   {
    "duration": 245,
    "start_time": "2022-05-11T14:21:21.788Z"
   },
   {
    "duration": 19,
    "start_time": "2022-05-11T14:21:22.035Z"
   },
   {
    "duration": 8,
    "start_time": "2022-05-11T14:21:22.057Z"
   },
   {
    "duration": 14,
    "start_time": "2022-05-11T14:21:22.071Z"
   },
   {
    "duration": 43,
    "start_time": "2022-05-11T14:21:22.088Z"
   },
   {
    "duration": 9,
    "start_time": "2022-05-11T14:21:22.134Z"
   },
   {
    "duration": 8,
    "start_time": "2022-05-11T14:21:22.145Z"
   },
   {
    "duration": 13,
    "start_time": "2022-05-11T14:21:22.156Z"
   },
   {
    "duration": 12,
    "start_time": "2022-05-11T14:21:22.171Z"
   },
   {
    "duration": 43,
    "start_time": "2022-05-11T14:21:22.185Z"
   },
   {
    "duration": 14,
    "start_time": "2022-05-11T14:21:22.230Z"
   },
   {
    "duration": 12,
    "start_time": "2022-05-11T14:21:22.247Z"
   },
   {
    "duration": 8,
    "start_time": "2022-05-11T14:21:22.261Z"
   },
   {
    "duration": 8,
    "start_time": "2022-05-11T14:21:22.271Z"
   },
   {
    "duration": 50,
    "start_time": "2022-05-11T14:21:22.281Z"
   },
   {
    "duration": 16,
    "start_time": "2022-05-11T14:21:22.334Z"
   },
   {
    "duration": 14,
    "start_time": "2022-05-11T14:21:22.353Z"
   },
   {
    "duration": 73,
    "start_time": "2022-05-11T14:21:22.369Z"
   },
   {
    "duration": 32,
    "start_time": "2022-05-11T14:21:22.445Z"
   },
   {
    "duration": 47,
    "start_time": "2022-05-11T14:21:22.479Z"
   },
   {
    "duration": 10,
    "start_time": "2022-05-11T14:21:22.529Z"
   },
   {
    "duration": 25,
    "start_time": "2022-05-11T14:21:22.541Z"
   },
   {
    "duration": 14,
    "start_time": "2022-05-11T14:21:22.568Z"
   },
   {
    "duration": 61,
    "start_time": "2022-05-11T14:21:22.584Z"
   },
   {
    "duration": 13,
    "start_time": "2022-05-11T14:21:22.647Z"
   },
   {
    "duration": 22,
    "start_time": "2022-05-11T14:21:22.663Z"
   },
   {
    "duration": 39,
    "start_time": "2022-05-11T14:21:22.687Z"
   },
   {
    "duration": 11,
    "start_time": "2022-05-11T14:21:22.728Z"
   },
   {
    "duration": 14,
    "start_time": "2022-05-11T14:21:22.741Z"
   },
   {
    "duration": 16,
    "start_time": "2022-05-11T14:21:22.757Z"
   },
   {
    "duration": 62,
    "start_time": "2022-05-11T14:21:22.776Z"
   },
   {
    "duration": 8,
    "start_time": "2022-05-11T14:21:22.840Z"
   },
   {
    "duration": 23,
    "start_time": "2022-05-11T14:21:22.851Z"
   },
   {
    "duration": 20,
    "start_time": "2022-05-11T14:21:22.877Z"
   },
   {
    "duration": 30,
    "start_time": "2022-05-11T14:21:22.899Z"
   },
   {
    "duration": 13,
    "start_time": "2022-05-11T14:21:22.931Z"
   },
   {
    "duration": 248,
    "start_time": "2022-05-11T14:21:22.946Z"
   },
   {
    "duration": 12,
    "start_time": "2022-05-11T14:21:23.196Z"
   },
   {
    "duration": 38,
    "start_time": "2022-05-11T14:21:23.210Z"
   },
   {
    "duration": 103,
    "start_time": "2022-05-11T14:22:00.429Z"
   },
   {
    "duration": 16,
    "start_time": "2022-05-11T14:22:23.053Z"
   },
   {
    "duration": 579,
    "start_time": "2022-05-11T14:22:34.286Z"
   },
   {
    "duration": 85,
    "start_time": "2022-05-11T14:22:34.868Z"
   },
   {
    "duration": 31,
    "start_time": "2022-05-11T14:22:34.955Z"
   },
   {
    "duration": 39,
    "start_time": "2022-05-11T14:22:34.989Z"
   },
   {
    "duration": 13,
    "start_time": "2022-05-11T14:22:35.031Z"
   },
   {
    "duration": 13,
    "start_time": "2022-05-11T14:22:35.046Z"
   },
   {
    "duration": 16,
    "start_time": "2022-05-11T14:22:35.061Z"
   },
   {
    "duration": 13,
    "start_time": "2022-05-11T14:22:35.079Z"
   },
   {
    "duration": 31,
    "start_time": "2022-05-11T14:22:35.094Z"
   },
   {
    "duration": 5,
    "start_time": "2022-05-11T14:22:35.129Z"
   },
   {
    "duration": 31,
    "start_time": "2022-05-11T14:22:35.136Z"
   },
   {
    "duration": 16,
    "start_time": "2022-05-11T14:22:35.169Z"
   },
   {
    "duration": 6,
    "start_time": "2022-05-11T14:22:35.187Z"
   },
   {
    "duration": 10,
    "start_time": "2022-05-11T14:22:35.195Z"
   },
   {
    "duration": 10,
    "start_time": "2022-05-11T14:22:35.226Z"
   },
   {
    "duration": 34,
    "start_time": "2022-05-11T14:22:35.239Z"
   },
   {
    "duration": 8,
    "start_time": "2022-05-11T14:22:35.276Z"
   },
   {
    "duration": 40,
    "start_time": "2022-05-11T14:22:35.286Z"
   },
   {
    "duration": 42,
    "start_time": "2022-05-11T14:22:35.328Z"
   },
   {
    "duration": 5,
    "start_time": "2022-05-11T14:22:35.373Z"
   },
   {
    "duration": 9,
    "start_time": "2022-05-11T14:22:35.381Z"
   },
   {
    "duration": 6,
    "start_time": "2022-05-11T14:22:35.425Z"
   },
   {
    "duration": 12,
    "start_time": "2022-05-11T14:22:35.433Z"
   },
   {
    "duration": 38,
    "start_time": "2022-05-11T14:22:35.447Z"
   },
   {
    "duration": 269,
    "start_time": "2022-05-11T14:22:35.487Z"
   },
   {
    "duration": 20,
    "start_time": "2022-05-11T14:22:35.758Z"
   },
   {
    "duration": 14,
    "start_time": "2022-05-11T14:22:35.780Z"
   },
   {
    "duration": 31,
    "start_time": "2022-05-11T14:22:35.800Z"
   },
   {
    "duration": 8,
    "start_time": "2022-05-11T14:22:35.834Z"
   },
   {
    "duration": 49,
    "start_time": "2022-05-11T14:22:35.845Z"
   },
   {
    "duration": 17,
    "start_time": "2022-05-11T14:22:35.897Z"
   },
   {
    "duration": 14,
    "start_time": "2022-05-11T14:22:35.916Z"
   },
   {
    "duration": 18,
    "start_time": "2022-05-11T14:22:35.933Z"
   },
   {
    "duration": 6,
    "start_time": "2022-05-11T14:22:35.953Z"
   },
   {
    "duration": 8,
    "start_time": "2022-05-11T14:22:35.961Z"
   },
   {
    "duration": 17,
    "start_time": "2022-05-11T14:22:35.971Z"
   },
   {
    "duration": 7,
    "start_time": "2022-05-11T14:22:35.990Z"
   },
   {
    "duration": 31,
    "start_time": "2022-05-11T14:22:35.999Z"
   },
   {
    "duration": 18,
    "start_time": "2022-05-11T14:22:36.032Z"
   },
   {
    "duration": 21,
    "start_time": "2022-05-11T14:22:36.052Z"
   },
   {
    "duration": 13,
    "start_time": "2022-05-11T14:22:36.076Z"
   },
   {
    "duration": 60,
    "start_time": "2022-05-11T14:22:36.091Z"
   },
   {
    "duration": 32,
    "start_time": "2022-05-11T14:22:36.154Z"
   },
   {
    "duration": 57,
    "start_time": "2022-05-11T14:22:36.189Z"
   },
   {
    "duration": 12,
    "start_time": "2022-05-11T14:22:36.248Z"
   },
   {
    "duration": 29,
    "start_time": "2022-05-11T14:22:36.264Z"
   },
   {
    "duration": 36,
    "start_time": "2022-05-11T14:22:36.296Z"
   },
   {
    "duration": 31,
    "start_time": "2022-05-11T14:22:36.335Z"
   },
   {
    "duration": 13,
    "start_time": "2022-05-11T14:22:36.369Z"
   },
   {
    "duration": 52,
    "start_time": "2022-05-11T14:22:36.384Z"
   },
   {
    "duration": 17,
    "start_time": "2022-05-11T14:22:36.439Z"
   },
   {
    "duration": 16,
    "start_time": "2022-05-11T14:22:36.459Z"
   },
   {
    "duration": 17,
    "start_time": "2022-05-11T14:22:36.478Z"
   },
   {
    "duration": 14,
    "start_time": "2022-05-11T14:22:36.524Z"
   },
   {
    "duration": 36,
    "start_time": "2022-05-11T14:22:36.540Z"
   },
   {
    "duration": 16,
    "start_time": "2022-05-11T14:22:36.579Z"
   },
   {
    "duration": 33,
    "start_time": "2022-05-11T14:22:36.597Z"
   },
   {
    "duration": 19,
    "start_time": "2022-05-11T14:22:36.633Z"
   },
   {
    "duration": 16,
    "start_time": "2022-05-11T14:22:36.654Z"
   },
   {
    "duration": 13,
    "start_time": "2022-05-11T14:22:36.672Z"
   },
   {
    "duration": 261,
    "start_time": "2022-05-11T14:22:36.687Z"
   },
   {
    "duration": 9,
    "start_time": "2022-05-11T14:22:36.950Z"
   },
   {
    "duration": 44,
    "start_time": "2022-05-11T14:22:36.961Z"
   },
   {
    "duration": 101,
    "start_time": "2022-05-11T14:22:55.463Z"
   },
   {
    "duration": 561,
    "start_time": "2022-05-11T14:23:07.571Z"
   },
   {
    "duration": 77,
    "start_time": "2022-05-11T14:23:08.135Z"
   },
   {
    "duration": 42,
    "start_time": "2022-05-11T14:23:08.215Z"
   },
   {
    "duration": 24,
    "start_time": "2022-05-11T14:23:08.262Z"
   },
   {
    "duration": 45,
    "start_time": "2022-05-11T14:23:08.288Z"
   },
   {
    "duration": 7,
    "start_time": "2022-05-11T14:23:08.335Z"
   },
   {
    "duration": 12,
    "start_time": "2022-05-11T14:23:08.345Z"
   },
   {
    "duration": 5,
    "start_time": "2022-05-11T14:23:08.360Z"
   },
   {
    "duration": 5,
    "start_time": "2022-05-11T14:23:08.368Z"
   },
   {
    "duration": 50,
    "start_time": "2022-05-11T14:23:08.377Z"
   },
   {
    "duration": 14,
    "start_time": "2022-05-11T14:23:08.429Z"
   },
   {
    "duration": 13,
    "start_time": "2022-05-11T14:23:08.445Z"
   },
   {
    "duration": 5,
    "start_time": "2022-05-11T14:23:08.461Z"
   },
   {
    "duration": 10,
    "start_time": "2022-05-11T14:23:08.468Z"
   },
   {
    "duration": 45,
    "start_time": "2022-05-11T14:23:08.480Z"
   },
   {
    "duration": 27,
    "start_time": "2022-05-11T14:23:08.527Z"
   },
   {
    "duration": 6,
    "start_time": "2022-05-11T14:23:08.557Z"
   },
   {
    "duration": 8,
    "start_time": "2022-05-11T14:23:08.565Z"
   },
   {
    "duration": 68,
    "start_time": "2022-05-11T14:23:08.576Z"
   },
   {
    "duration": 4,
    "start_time": "2022-05-11T14:23:08.647Z"
   },
   {
    "duration": 9,
    "start_time": "2022-05-11T14:23:08.653Z"
   },
   {
    "duration": 7,
    "start_time": "2022-05-11T14:23:08.664Z"
   },
   {
    "duration": 9,
    "start_time": "2022-05-11T14:23:08.673Z"
   },
   {
    "duration": 67,
    "start_time": "2022-05-11T14:23:08.684Z"
   },
   {
    "duration": 245,
    "start_time": "2022-05-11T14:23:08.753Z"
   },
   {
    "duration": 27,
    "start_time": "2022-05-11T14:23:09.000Z"
   },
   {
    "duration": 7,
    "start_time": "2022-05-11T14:23:09.029Z"
   },
   {
    "duration": 14,
    "start_time": "2022-05-11T14:23:09.043Z"
   },
   {
    "duration": 7,
    "start_time": "2022-05-11T14:23:09.059Z"
   },
   {
    "duration": 10,
    "start_time": "2022-05-11T14:23:09.069Z"
   },
   {
    "duration": 4,
    "start_time": "2022-05-11T14:23:09.126Z"
   },
   {
    "duration": 10,
    "start_time": "2022-05-11T14:23:09.132Z"
   },
   {
    "duration": 13,
    "start_time": "2022-05-11T14:23:09.144Z"
   },
   {
    "duration": 5,
    "start_time": "2022-05-11T14:23:09.160Z"
   },
   {
    "duration": 6,
    "start_time": "2022-05-11T14:23:09.168Z"
   },
   {
    "duration": 53,
    "start_time": "2022-05-11T14:23:09.176Z"
   },
   {
    "duration": 13,
    "start_time": "2022-05-11T14:23:09.231Z"
   },
   {
    "duration": 29,
    "start_time": "2022-05-11T14:23:09.246Z"
   },
   {
    "duration": 28,
    "start_time": "2022-05-11T14:23:09.277Z"
   },
   {
    "duration": 47,
    "start_time": "2022-05-11T14:23:09.307Z"
   },
   {
    "duration": 25,
    "start_time": "2022-05-11T14:23:09.357Z"
   },
   {
    "duration": 44,
    "start_time": "2022-05-11T14:23:09.384Z"
   },
   {
    "duration": 30,
    "start_time": "2022-05-11T14:23:09.430Z"
   },
   {
    "duration": 28,
    "start_time": "2022-05-11T14:23:09.462Z"
   },
   {
    "duration": 34,
    "start_time": "2022-05-11T14:23:09.493Z"
   },
   {
    "duration": 33,
    "start_time": "2022-05-11T14:23:09.529Z"
   },
   {
    "duration": 30,
    "start_time": "2022-05-11T14:23:09.564Z"
   },
   {
    "duration": 34,
    "start_time": "2022-05-11T14:23:09.596Z"
   },
   {
    "duration": 12,
    "start_time": "2022-05-11T14:23:09.632Z"
   },
   {
    "duration": 35,
    "start_time": "2022-05-11T14:23:09.646Z"
   },
   {
    "duration": 18,
    "start_time": "2022-05-11T14:23:09.683Z"
   },
   {
    "duration": 28,
    "start_time": "2022-05-11T14:23:09.704Z"
   },
   {
    "duration": 24,
    "start_time": "2022-05-11T14:23:09.734Z"
   },
   {
    "duration": 40,
    "start_time": "2022-05-11T14:23:09.761Z"
   },
   {
    "duration": 31,
    "start_time": "2022-05-11T14:23:09.804Z"
   },
   {
    "duration": 24,
    "start_time": "2022-05-11T14:23:09.838Z"
   },
   {
    "duration": 23,
    "start_time": "2022-05-11T14:23:09.864Z"
   },
   {
    "duration": 34,
    "start_time": "2022-05-11T14:23:09.889Z"
   },
   {
    "duration": 33,
    "start_time": "2022-05-11T14:23:09.925Z"
   },
   {
    "duration": 33,
    "start_time": "2022-05-11T14:23:09.961Z"
   },
   {
    "duration": 258,
    "start_time": "2022-05-11T14:23:09.996Z"
   },
   {
    "duration": 9,
    "start_time": "2022-05-11T14:23:10.256Z"
   },
   {
    "duration": 43,
    "start_time": "2022-05-11T14:23:10.267Z"
   },
   {
    "duration": 6,
    "start_time": "2022-05-11T14:26:31.181Z"
   },
   {
    "duration": 14,
    "start_time": "2022-05-11T14:26:36.838Z"
   },
   {
    "duration": 17,
    "start_time": "2022-05-11T14:28:51.626Z"
   },
   {
    "duration": 10,
    "start_time": "2022-05-11T14:28:55.739Z"
   },
   {
    "duration": 99,
    "start_time": "2022-05-11T14:30:06.152Z"
   },
   {
    "duration": 9,
    "start_time": "2022-05-11T14:30:48.736Z"
   },
   {
    "duration": 5,
    "start_time": "2022-05-11T14:34:56.660Z"
   },
   {
    "duration": 13,
    "start_time": "2022-05-11T14:35:12.409Z"
   },
   {
    "duration": 31,
    "start_time": "2022-05-11T14:36:09.037Z"
   },
   {
    "duration": 1856,
    "start_time": "2022-05-11T14:36:33.193Z"
   },
   {
    "duration": 2002,
    "start_time": "2022-05-11T14:36:35.446Z"
   },
   {
    "duration": 569,
    "start_time": "2022-05-11T14:36:50.875Z"
   },
   {
    "duration": 1557,
    "start_time": "2022-05-11T14:36:51.447Z"
   },
   {
    "duration": 31,
    "start_time": "2022-05-11T14:36:53.006Z"
   },
   {
    "duration": 22,
    "start_time": "2022-05-11T14:36:53.040Z"
   },
   {
    "duration": 14,
    "start_time": "2022-05-11T14:36:53.065Z"
   },
   {
    "duration": 9,
    "start_time": "2022-05-11T14:36:53.081Z"
   },
   {
    "duration": 9,
    "start_time": "2022-05-11T14:36:53.125Z"
   },
   {
    "duration": 10,
    "start_time": "2022-05-11T14:36:53.136Z"
   },
   {
    "duration": 7,
    "start_time": "2022-05-11T14:36:53.149Z"
   },
   {
    "duration": 7,
    "start_time": "2022-05-11T14:36:53.160Z"
   },
   {
    "duration": 8,
    "start_time": "2022-05-11T14:36:53.169Z"
   },
   {
    "duration": 53,
    "start_time": "2022-05-11T14:36:53.179Z"
   },
   {
    "duration": 5,
    "start_time": "2022-05-11T14:36:53.234Z"
   },
   {
    "duration": 19,
    "start_time": "2022-05-11T14:36:53.241Z"
   },
   {
    "duration": 11,
    "start_time": "2022-05-11T14:36:53.262Z"
   },
   {
    "duration": 55,
    "start_time": "2022-05-11T14:36:53.275Z"
   },
   {
    "duration": 8,
    "start_time": "2022-05-11T14:36:53.332Z"
   },
   {
    "duration": 10,
    "start_time": "2022-05-11T14:36:53.342Z"
   },
   {
    "duration": 70,
    "start_time": "2022-05-11T14:36:53.354Z"
   },
   {
    "duration": 5,
    "start_time": "2022-05-11T14:36:53.427Z"
   },
   {
    "duration": 7,
    "start_time": "2022-05-11T14:36:53.435Z"
   },
   {
    "duration": 6,
    "start_time": "2022-05-11T14:36:53.445Z"
   },
   {
    "duration": 12,
    "start_time": "2022-05-11T14:36:53.453Z"
   },
   {
    "duration": 69,
    "start_time": "2022-05-11T14:36:53.467Z"
   },
   {
    "duration": 251,
    "start_time": "2022-05-11T14:36:53.538Z"
   },
   {
    "duration": 19,
    "start_time": "2022-05-11T14:36:53.791Z"
   },
   {
    "duration": 9,
    "start_time": "2022-05-11T14:36:53.823Z"
   },
   {
    "duration": 14,
    "start_time": "2022-05-11T14:36:53.838Z"
   },
   {
    "duration": 8,
    "start_time": "2022-05-11T14:36:53.855Z"
   },
   {
    "duration": 6,
    "start_time": "2022-05-11T14:36:53.865Z"
   },
   {
    "duration": 51,
    "start_time": "2022-05-11T14:36:53.874Z"
   },
   {
    "duration": 11,
    "start_time": "2022-05-11T14:36:53.928Z"
   },
   {
    "duration": 11,
    "start_time": "2022-05-11T14:36:53.941Z"
   },
   {
    "duration": 6,
    "start_time": "2022-05-11T14:36:53.954Z"
   },
   {
    "duration": 64,
    "start_time": "2022-05-11T14:36:53.962Z"
   },
   {
    "duration": 12,
    "start_time": "2022-05-11T14:36:54.028Z"
   },
   {
    "duration": 8,
    "start_time": "2022-05-11T14:36:54.042Z"
   },
   {
    "duration": 9,
    "start_time": "2022-05-11T14:36:54.052Z"
   },
   {
    "duration": 8,
    "start_time": "2022-05-11T14:36:54.062Z"
   },
   {
    "duration": 63,
    "start_time": "2022-05-11T14:36:54.072Z"
   },
   {
    "duration": 11,
    "start_time": "2022-05-11T14:36:54.137Z"
   },
   {
    "duration": 28,
    "start_time": "2022-05-11T14:36:54.150Z"
   },
   {
    "duration": 44,
    "start_time": "2022-05-11T14:36:54.180Z"
   },
   {
    "duration": 27,
    "start_time": "2022-05-11T14:36:54.227Z"
   },
   {
    "duration": 9,
    "start_time": "2022-05-11T14:36:54.257Z"
   },
   {
    "duration": 27,
    "start_time": "2022-05-11T14:36:54.268Z"
   },
   {
    "duration": 10,
    "start_time": "2022-05-11T14:36:54.297Z"
   },
   {
    "duration": 36,
    "start_time": "2022-05-11T14:36:54.309Z"
   },
   {
    "duration": 9,
    "start_time": "2022-05-11T14:36:54.347Z"
   },
   {
    "duration": 21,
    "start_time": "2022-05-11T14:36:54.358Z"
   },
   {
    "duration": 15,
    "start_time": "2022-05-11T14:36:54.381Z"
   },
   {
    "duration": 16,
    "start_time": "2022-05-11T14:36:54.399Z"
   },
   {
    "duration": 26,
    "start_time": "2022-05-11T14:36:54.417Z"
   },
   {
    "duration": 14,
    "start_time": "2022-05-11T14:36:54.445Z"
   },
   {
    "duration": 12,
    "start_time": "2022-05-11T14:36:54.461Z"
   },
   {
    "duration": 30,
    "start_time": "2022-05-11T14:36:54.475Z"
   },
   {
    "duration": 38,
    "start_time": "2022-05-11T14:36:54.507Z"
   },
   {
    "duration": 19,
    "start_time": "2022-05-11T14:36:54.547Z"
   },
   {
    "duration": 24,
    "start_time": "2022-05-11T14:36:54.569Z"
   },
   {
    "duration": 12,
    "start_time": "2022-05-11T14:36:54.596Z"
   },
   {
    "duration": 8,
    "start_time": "2022-05-11T14:36:54.610Z"
   },
   {
    "duration": 248,
    "start_time": "2022-05-11T14:36:54.620Z"
   },
   {
    "duration": 10,
    "start_time": "2022-05-11T14:36:54.870Z"
   },
   {
    "duration": 55,
    "start_time": "2022-05-11T14:36:54.883Z"
   },
   {
    "duration": 1794,
    "start_time": "2022-05-11T14:37:21.792Z"
   },
   {
    "duration": 558,
    "start_time": "2022-05-11T14:37:27.808Z"
   },
   {
    "duration": 82,
    "start_time": "2022-05-11T14:37:28.369Z"
   },
   {
    "duration": 30,
    "start_time": "2022-05-11T14:37:28.454Z"
   },
   {
    "duration": 48,
    "start_time": "2022-05-11T14:37:28.487Z"
   },
   {
    "duration": 13,
    "start_time": "2022-05-11T14:37:28.538Z"
   },
   {
    "duration": 7,
    "start_time": "2022-05-11T14:37:28.553Z"
   },
   {
    "duration": 7,
    "start_time": "2022-05-11T14:37:28.563Z"
   },
   {
    "duration": 6,
    "start_time": "2022-05-11T14:37:28.573Z"
   },
   {
    "duration": 47,
    "start_time": "2022-05-11T14:37:28.581Z"
   },
   {
    "duration": 5,
    "start_time": "2022-05-11T14:37:28.632Z"
   },
   {
    "duration": 11,
    "start_time": "2022-05-11T14:37:28.639Z"
   },
   {
    "duration": 11,
    "start_time": "2022-05-11T14:37:28.652Z"
   },
   {
    "duration": 5,
    "start_time": "2022-05-11T14:37:28.666Z"
   },
   {
    "duration": 53,
    "start_time": "2022-05-11T14:37:28.673Z"
   },
   {
    "duration": 11,
    "start_time": "2022-05-11T14:37:28.728Z"
   },
   {
    "duration": 22,
    "start_time": "2022-05-11T14:37:28.741Z"
   },
   {
    "duration": 7,
    "start_time": "2022-05-11T14:37:28.765Z"
   },
   {
    "duration": 9,
    "start_time": "2022-05-11T14:37:28.775Z"
   },
   {
    "duration": 76,
    "start_time": "2022-05-11T14:37:28.786Z"
   },
   {
    "duration": 5,
    "start_time": "2022-05-11T14:37:28.864Z"
   },
   {
    "duration": 19,
    "start_time": "2022-05-11T14:37:28.871Z"
   },
   {
    "duration": 7,
    "start_time": "2022-05-11T14:37:28.893Z"
   },
   {
    "duration": 6,
    "start_time": "2022-05-11T14:37:28.926Z"
   },
   {
    "duration": 35,
    "start_time": "2022-05-11T14:37:28.934Z"
   },
   {
    "duration": 256,
    "start_time": "2022-05-11T14:37:28.972Z"
   },
   {
    "duration": 19,
    "start_time": "2022-05-11T14:37:29.231Z"
   },
   {
    "duration": 9,
    "start_time": "2022-05-11T14:37:29.252Z"
   },
   {
    "duration": 13,
    "start_time": "2022-05-11T14:37:29.267Z"
   },
   {
    "duration": 47,
    "start_time": "2022-05-11T14:37:29.282Z"
   },
   {
    "duration": 6,
    "start_time": "2022-05-11T14:37:29.331Z"
   },
   {
    "duration": 8,
    "start_time": "2022-05-11T14:37:29.339Z"
   },
   {
    "duration": 9,
    "start_time": "2022-05-11T14:37:29.350Z"
   },
   {
    "duration": 10,
    "start_time": "2022-05-11T14:37:29.361Z"
   },
   {
    "duration": 6,
    "start_time": "2022-05-11T14:37:29.374Z"
   },
   {
    "duration": 7,
    "start_time": "2022-05-11T14:37:29.425Z"
   },
   {
    "duration": 11,
    "start_time": "2022-05-11T14:37:29.434Z"
   },
   {
    "duration": 9,
    "start_time": "2022-05-11T14:37:29.448Z"
   },
   {
    "duration": 9,
    "start_time": "2022-05-11T14:37:29.459Z"
   },
   {
    "duration": 55,
    "start_time": "2022-05-11T14:37:29.471Z"
   },
   {
    "duration": 11,
    "start_time": "2022-05-11T14:37:29.528Z"
   },
   {
    "duration": 10,
    "start_time": "2022-05-11T14:37:29.541Z"
   },
   {
    "duration": 28,
    "start_time": "2022-05-11T14:37:29.554Z"
   },
   {
    "duration": 64,
    "start_time": "2022-05-11T14:37:29.584Z"
   },
   {
    "duration": 26,
    "start_time": "2022-05-11T14:37:29.650Z"
   },
   {
    "duration": 10,
    "start_time": "2022-05-11T14:37:29.678Z"
   },
   {
    "duration": 53,
    "start_time": "2022-05-11T14:37:29.690Z"
   },
   {
    "duration": 9,
    "start_time": "2022-05-11T14:37:29.745Z"
   },
   {
    "duration": 29,
    "start_time": "2022-05-11T14:37:29.756Z"
   },
   {
    "duration": 42,
    "start_time": "2022-05-11T14:37:29.787Z"
   },
   {
    "duration": 21,
    "start_time": "2022-05-11T14:37:29.831Z"
   },
   {
    "duration": 12,
    "start_time": "2022-05-11T14:37:29.854Z"
   },
   {
    "duration": 12,
    "start_time": "2022-05-11T14:37:29.868Z"
   },
   {
    "duration": 44,
    "start_time": "2022-05-11T14:37:29.882Z"
   },
   {
    "duration": 9,
    "start_time": "2022-05-11T14:37:29.928Z"
   },
   {
    "duration": 15,
    "start_time": "2022-05-11T14:37:29.939Z"
   },
   {
    "duration": 25,
    "start_time": "2022-05-11T14:37:29.956Z"
   },
   {
    "duration": 7,
    "start_time": "2022-05-11T14:37:29.983Z"
   },
   {
    "duration": 46,
    "start_time": "2022-05-11T14:37:29.992Z"
   },
   {
    "duration": 35,
    "start_time": "2022-05-11T14:37:30.041Z"
   },
   {
    "duration": 15,
    "start_time": "2022-05-11T14:37:30.078Z"
   },
   {
    "duration": 9,
    "start_time": "2022-05-11T14:37:30.095Z"
   },
   {
    "duration": 250,
    "start_time": "2022-05-11T14:37:30.106Z"
   },
   {
    "duration": 10,
    "start_time": "2022-05-11T14:37:30.359Z"
   },
   {
    "duration": 35,
    "start_time": "2022-05-11T14:37:30.370Z"
   },
   {
    "duration": 97,
    "start_time": "2022-05-11T14:37:51.730Z"
   },
   {
    "duration": 550,
    "start_time": "2022-05-11T14:37:56.392Z"
   },
   {
    "duration": 80,
    "start_time": "2022-05-11T14:37:56.945Z"
   },
   {
    "duration": 33,
    "start_time": "2022-05-11T14:37:57.027Z"
   },
   {
    "duration": 23,
    "start_time": "2022-05-11T14:37:57.065Z"
   },
   {
    "duration": 46,
    "start_time": "2022-05-11T14:37:57.090Z"
   },
   {
    "duration": 8,
    "start_time": "2022-05-11T14:37:57.138Z"
   },
   {
    "duration": 22,
    "start_time": "2022-05-11T14:37:57.148Z"
   },
   {
    "duration": 6,
    "start_time": "2022-05-11T14:37:57.172Z"
   },
   {
    "duration": 14,
    "start_time": "2022-05-11T14:37:57.180Z"
   },
   {
    "duration": 30,
    "start_time": "2022-05-11T14:37:57.198Z"
   },
   {
    "duration": 8,
    "start_time": "2022-05-11T14:37:57.232Z"
   },
   {
    "duration": 12,
    "start_time": "2022-05-11T14:37:57.243Z"
   },
   {
    "duration": 5,
    "start_time": "2022-05-11T14:37:57.258Z"
   },
   {
    "duration": 11,
    "start_time": "2022-05-11T14:37:57.266Z"
   },
   {
    "duration": 10,
    "start_time": "2022-05-11T14:37:57.326Z"
   },
   {
    "duration": 28,
    "start_time": "2022-05-11T14:37:57.339Z"
   },
   {
    "duration": 7,
    "start_time": "2022-05-11T14:37:57.370Z"
   },
   {
    "duration": 48,
    "start_time": "2022-05-11T14:37:57.379Z"
   },
   {
    "duration": 42,
    "start_time": "2022-05-11T14:37:57.429Z"
   },
   {
    "duration": 5,
    "start_time": "2022-05-11T14:37:57.474Z"
   },
   {
    "duration": 44,
    "start_time": "2022-05-11T14:37:57.482Z"
   },
   {
    "duration": 12,
    "start_time": "2022-05-11T14:37:57.529Z"
   },
   {
    "duration": 7,
    "start_time": "2022-05-11T14:37:57.543Z"
   },
   {
    "duration": 34,
    "start_time": "2022-05-11T14:37:57.552Z"
   },
   {
    "duration": 264,
    "start_time": "2022-05-11T14:37:57.588Z"
   },
   {
    "duration": 20,
    "start_time": "2022-05-11T14:37:57.854Z"
   },
   {
    "duration": 9,
    "start_time": "2022-05-11T14:37:57.876Z"
   },
   {
    "duration": 38,
    "start_time": "2022-05-11T14:37:57.893Z"
   },
   {
    "duration": 10,
    "start_time": "2022-05-11T14:37:57.934Z"
   },
   {
    "duration": 7,
    "start_time": "2022-05-11T14:37:57.947Z"
   },
   {
    "duration": 18,
    "start_time": "2022-05-11T14:37:57.957Z"
   },
   {
    "duration": 76,
    "start_time": "2022-05-11T14:37:57.977Z"
   },
   {
    "duration": 26,
    "start_time": "2022-05-11T14:37:58.055Z"
   },
   {
    "duration": 36,
    "start_time": "2022-05-11T14:37:58.084Z"
   },
   {
    "duration": 39,
    "start_time": "2022-05-11T14:37:58.122Z"
   },
   {
    "duration": 44,
    "start_time": "2022-05-11T14:37:58.163Z"
   },
   {
    "duration": 45,
    "start_time": "2022-05-11T14:37:58.209Z"
   },
   {
    "duration": 19,
    "start_time": "2022-05-11T14:37:58.256Z"
   },
   {
    "duration": 34,
    "start_time": "2022-05-11T14:37:58.277Z"
   },
   {
    "duration": 33,
    "start_time": "2022-05-11T14:37:58.314Z"
   },
   {
    "duration": 30,
    "start_time": "2022-05-11T14:37:58.349Z"
   },
   {
    "duration": 47,
    "start_time": "2022-05-11T14:37:58.381Z"
   },
   {
    "duration": 51,
    "start_time": "2022-05-11T14:37:58.431Z"
   },
   {
    "duration": 27,
    "start_time": "2022-05-11T14:37:58.484Z"
   },
   {
    "duration": 27,
    "start_time": "2022-05-11T14:37:58.513Z"
   },
   {
    "duration": 48,
    "start_time": "2022-05-11T14:37:58.543Z"
   },
   {
    "duration": 38,
    "start_time": "2022-05-11T14:37:58.593Z"
   },
   {
    "duration": 63,
    "start_time": "2022-05-11T14:37:58.633Z"
   },
   {
    "duration": 17,
    "start_time": "2022-05-11T14:37:58.698Z"
   },
   {
    "duration": 45,
    "start_time": "2022-05-11T14:37:58.717Z"
   },
   {
    "duration": 39,
    "start_time": "2022-05-11T14:37:58.764Z"
   },
   {
    "duration": 51,
    "start_time": "2022-05-11T14:37:58.805Z"
   },
   {
    "duration": 32,
    "start_time": "2022-05-11T14:37:58.858Z"
   },
   {
    "duration": 127,
    "start_time": "2022-05-11T14:37:58.892Z"
   },
   {
    "duration": 0,
    "start_time": "2022-05-11T14:37:59.025Z"
   },
   {
    "duration": 1,
    "start_time": "2022-05-11T14:37:59.026Z"
   },
   {
    "duration": 0,
    "start_time": "2022-05-11T14:37:59.029Z"
   },
   {
    "duration": 0,
    "start_time": "2022-05-11T14:37:59.030Z"
   },
   {
    "duration": 0,
    "start_time": "2022-05-11T14:37:59.032Z"
   },
   {
    "duration": 0,
    "start_time": "2022-05-11T14:37:59.034Z"
   },
   {
    "duration": 0,
    "start_time": "2022-05-11T14:37:59.035Z"
   },
   {
    "duration": 0,
    "start_time": "2022-05-11T14:37:59.037Z"
   },
   {
    "duration": 0,
    "start_time": "2022-05-11T14:37:59.038Z"
   },
   {
    "duration": 0,
    "start_time": "2022-05-11T14:37:59.039Z"
   },
   {
    "duration": 6,
    "start_time": "2022-05-11T14:38:14.097Z"
   },
   {
    "duration": 14,
    "start_time": "2022-05-11T14:38:45.046Z"
   },
   {
    "duration": 6,
    "start_time": "2022-05-11T14:38:52.261Z"
   },
   {
    "duration": 6,
    "start_time": "2022-05-11T14:39:07.915Z"
   },
   {
    "duration": 8,
    "start_time": "2022-05-11T14:39:53.713Z"
   },
   {
    "duration": 537,
    "start_time": "2022-05-11T14:40:42.373Z"
   },
   {
    "duration": 82,
    "start_time": "2022-05-11T14:40:42.913Z"
   },
   {
    "duration": 35,
    "start_time": "2022-05-11T14:40:42.997Z"
   },
   {
    "duration": 22,
    "start_time": "2022-05-11T14:40:43.035Z"
   },
   {
    "duration": 14,
    "start_time": "2022-05-11T14:40:43.059Z"
   },
   {
    "duration": 9,
    "start_time": "2022-05-11T14:40:43.075Z"
   },
   {
    "duration": 7,
    "start_time": "2022-05-11T14:40:43.125Z"
   },
   {
    "duration": 9,
    "start_time": "2022-05-11T14:40:43.134Z"
   },
   {
    "duration": 12,
    "start_time": "2022-05-11T14:40:43.145Z"
   },
   {
    "duration": 5,
    "start_time": "2022-05-11T14:40:43.161Z"
   },
   {
    "duration": 9,
    "start_time": "2022-05-11T14:40:43.168Z"
   },
   {
    "duration": 47,
    "start_time": "2022-05-11T14:40:43.179Z"
   },
   {
    "duration": 7,
    "start_time": "2022-05-11T14:40:43.228Z"
   },
   {
    "duration": 10,
    "start_time": "2022-05-11T14:40:43.237Z"
   },
   {
    "duration": 11,
    "start_time": "2022-05-11T14:40:43.249Z"
   },
   {
    "duration": 23,
    "start_time": "2022-05-11T14:40:43.262Z"
   },
   {
    "duration": 40,
    "start_time": "2022-05-11T14:40:43.287Z"
   },
   {
    "duration": 11,
    "start_time": "2022-05-11T14:40:43.329Z"
   },
   {
    "duration": 39,
    "start_time": "2022-05-11T14:40:43.343Z"
   },
   {
    "duration": 41,
    "start_time": "2022-05-11T14:40:43.384Z"
   },
   {
    "duration": 5,
    "start_time": "2022-05-11T14:40:43.428Z"
   },
   {
    "duration": 7,
    "start_time": "2022-05-11T14:40:43.436Z"
   },
   {
    "duration": 6,
    "start_time": "2022-05-11T14:40:43.446Z"
   },
   {
    "duration": 78,
    "start_time": "2022-05-11T14:40:43.455Z"
   },
   {
    "duration": 322,
    "start_time": "2022-05-11T14:40:43.536Z"
   },
   {
    "duration": 20,
    "start_time": "2022-05-11T14:40:43.860Z"
   },
   {
    "duration": 9,
    "start_time": "2022-05-11T14:40:43.882Z"
   },
   {
    "duration": 38,
    "start_time": "2022-05-11T14:40:43.898Z"
   },
   {
    "duration": 10,
    "start_time": "2022-05-11T14:40:43.938Z"
   },
   {
    "duration": 14,
    "start_time": "2022-05-11T14:40:43.950Z"
   },
   {
    "duration": 14,
    "start_time": "2022-05-11T14:40:43.966Z"
   },
   {
    "duration": 9,
    "start_time": "2022-05-11T14:40:43.982Z"
   },
   {
    "duration": 41,
    "start_time": "2022-05-11T14:40:43.993Z"
   },
   {
    "duration": 7,
    "start_time": "2022-05-11T14:40:44.036Z"
   },
   {
    "duration": 11,
    "start_time": "2022-05-11T14:40:44.045Z"
   },
   {
    "duration": 12,
    "start_time": "2022-05-11T14:40:44.058Z"
   },
   {
    "duration": 8,
    "start_time": "2022-05-11T14:40:44.072Z"
   },
   {
    "duration": 45,
    "start_time": "2022-05-11T14:40:44.082Z"
   },
   {
    "duration": 8,
    "start_time": "2022-05-11T14:40:44.129Z"
   },
   {
    "duration": 12,
    "start_time": "2022-05-11T14:40:44.139Z"
   },
   {
    "duration": 10,
    "start_time": "2022-05-11T14:40:44.153Z"
   },
   {
    "duration": 68,
    "start_time": "2022-05-11T14:40:44.165Z"
   },
   {
    "duration": 30,
    "start_time": "2022-05-11T14:40:44.235Z"
   },
   {
    "duration": 28,
    "start_time": "2022-05-11T14:40:44.268Z"
   },
   {
    "duration": 10,
    "start_time": "2022-05-11T14:40:44.324Z"
   },
   {
    "duration": 24,
    "start_time": "2022-05-11T14:40:44.337Z"
   },
   {
    "duration": 10,
    "start_time": "2022-05-11T14:40:44.364Z"
   },
   {
    "duration": 67,
    "start_time": "2022-05-11T14:40:44.376Z"
   },
   {
    "duration": 10,
    "start_time": "2022-05-11T14:40:44.445Z"
   },
   {
    "duration": 22,
    "start_time": "2022-05-11T14:40:44.457Z"
   },
   {
    "duration": 42,
    "start_time": "2022-05-11T14:40:44.481Z"
   },
   {
    "duration": 12,
    "start_time": "2022-05-11T14:40:44.526Z"
   },
   {
    "duration": 25,
    "start_time": "2022-05-11T14:40:44.540Z"
   },
   {
    "duration": 10,
    "start_time": "2022-05-11T14:40:44.569Z"
   },
   {
    "duration": 45,
    "start_time": "2022-05-11T14:40:44.581Z"
   },
   {
    "duration": 22,
    "start_time": "2022-05-11T14:40:44.629Z"
   },
   {
    "duration": 7,
    "start_time": "2022-05-11T14:40:44.653Z"
   },
   {
    "duration": 19,
    "start_time": "2022-05-11T14:40:44.663Z"
   },
   {
    "duration": 53,
    "start_time": "2022-05-11T14:40:44.684Z"
   },
   {
    "duration": 12,
    "start_time": "2022-05-11T14:40:44.739Z"
   },
   {
    "duration": 5,
    "start_time": "2022-05-11T14:40:44.754Z"
   },
   {
    "duration": 254,
    "start_time": "2022-05-11T14:40:44.761Z"
   },
   {
    "duration": 14,
    "start_time": "2022-05-11T14:40:45.017Z"
   },
   {
    "duration": 29,
    "start_time": "2022-05-11T14:40:45.034Z"
   },
   {
    "duration": 188,
    "start_time": "2022-05-11T14:42:18.433Z"
   },
   {
    "duration": 549,
    "start_time": "2022-05-11T14:42:25.231Z"
   },
   {
    "duration": 177,
    "start_time": "2022-05-11T14:42:25.782Z"
   },
   {
    "duration": 30,
    "start_time": "2022-05-11T14:42:25.961Z"
   },
   {
    "duration": 46,
    "start_time": "2022-05-11T14:42:25.994Z"
   },
   {
    "duration": 16,
    "start_time": "2022-05-11T14:42:26.044Z"
   },
   {
    "duration": 7,
    "start_time": "2022-05-11T14:42:26.062Z"
   },
   {
    "duration": 9,
    "start_time": "2022-05-11T14:42:26.071Z"
   },
   {
    "duration": 47,
    "start_time": "2022-05-11T14:42:26.082Z"
   },
   {
    "duration": 8,
    "start_time": "2022-05-11T14:42:26.131Z"
   },
   {
    "duration": 6,
    "start_time": "2022-05-11T14:42:26.141Z"
   },
   {
    "duration": 10,
    "start_time": "2022-05-11T14:42:26.149Z"
   },
   {
    "duration": 9,
    "start_time": "2022-05-11T14:42:26.161Z"
   },
   {
    "duration": 4,
    "start_time": "2022-05-11T14:42:26.173Z"
   },
   {
    "duration": 9,
    "start_time": "2022-05-11T14:42:26.229Z"
   },
   {
    "duration": 11,
    "start_time": "2022-05-11T14:42:26.240Z"
   },
   {
    "duration": 23,
    "start_time": "2022-05-11T14:42:26.254Z"
   },
   {
    "duration": 44,
    "start_time": "2022-05-11T14:42:26.280Z"
   },
   {
    "duration": 10,
    "start_time": "2022-05-11T14:42:26.327Z"
   },
   {
    "duration": 42,
    "start_time": "2022-05-11T14:42:26.339Z"
   },
   {
    "duration": 4,
    "start_time": "2022-05-11T14:42:26.383Z"
   },
   {
    "duration": 35,
    "start_time": "2022-05-11T14:42:26.389Z"
   },
   {
    "duration": 6,
    "start_time": "2022-05-11T14:42:26.426Z"
   },
   {
    "duration": 7,
    "start_time": "2022-05-11T14:42:26.434Z"
   },
   {
    "duration": 35,
    "start_time": "2022-05-11T14:42:26.443Z"
   },
   {
    "duration": 261,
    "start_time": "2022-05-11T14:42:26.480Z"
   },
   {
    "duration": 19,
    "start_time": "2022-05-11T14:42:26.744Z"
   },
   {
    "duration": 9,
    "start_time": "2022-05-11T14:42:26.766Z"
   },
   {
    "duration": 49,
    "start_time": "2022-05-11T14:42:26.777Z"
   },
   {
    "duration": 9,
    "start_time": "2022-05-11T14:42:26.828Z"
   },
   {
    "duration": 6,
    "start_time": "2022-05-11T14:42:26.839Z"
   },
   {
    "duration": 9,
    "start_time": "2022-05-11T14:42:26.848Z"
   },
   {
    "duration": 8,
    "start_time": "2022-05-11T14:42:26.859Z"
   },
   {
    "duration": 56,
    "start_time": "2022-05-11T14:42:26.870Z"
   },
   {
    "duration": 5,
    "start_time": "2022-05-11T14:42:26.929Z"
   },
   {
    "duration": 6,
    "start_time": "2022-05-11T14:42:26.936Z"
   },
   {
    "duration": 10,
    "start_time": "2022-05-11T14:42:26.944Z"
   },
   {
    "duration": 7,
    "start_time": "2022-05-11T14:42:26.956Z"
   },
   {
    "duration": 7,
    "start_time": "2022-05-11T14:42:26.966Z"
   },
   {
    "duration": 51,
    "start_time": "2022-05-11T14:42:26.975Z"
   },
   {
    "duration": 14,
    "start_time": "2022-05-11T14:42:27.029Z"
   },
   {
    "duration": 11,
    "start_time": "2022-05-11T14:42:27.050Z"
   },
   {
    "duration": 29,
    "start_time": "2022-05-11T14:42:27.063Z"
   },
   {
    "duration": 30,
    "start_time": "2022-05-11T14:42:27.126Z"
   },
   {
    "duration": 28,
    "start_time": "2022-05-11T14:42:27.158Z"
   },
   {
    "duration": 39,
    "start_time": "2022-05-11T14:42:27.188Z"
   },
   {
    "duration": 26,
    "start_time": "2022-05-11T14:42:27.230Z"
   },
   {
    "duration": 12,
    "start_time": "2022-05-11T14:42:27.258Z"
   },
   {
    "duration": 54,
    "start_time": "2022-05-11T14:42:27.272Z"
   },
   {
    "duration": 10,
    "start_time": "2022-05-11T14:42:27.328Z"
   },
   {
    "duration": 20,
    "start_time": "2022-05-11T14:42:27.340Z"
   },
   {
    "duration": 20,
    "start_time": "2022-05-11T14:42:27.362Z"
   },
   {
    "duration": 42,
    "start_time": "2022-05-11T14:42:27.384Z"
   },
   {
    "duration": 19,
    "start_time": "2022-05-11T14:42:27.428Z"
   },
   {
    "duration": 18,
    "start_time": "2022-05-11T14:42:27.449Z"
   },
   {
    "duration": 13,
    "start_time": "2022-05-11T14:42:27.469Z"
   },
   {
    "duration": 47,
    "start_time": "2022-05-11T14:42:27.484Z"
   },
   {
    "duration": 5,
    "start_time": "2022-05-11T14:42:27.533Z"
   },
   {
    "duration": 17,
    "start_time": "2022-05-11T14:42:27.541Z"
   },
   {
    "duration": 18,
    "start_time": "2022-05-11T14:42:27.560Z"
   },
   {
    "duration": 45,
    "start_time": "2022-05-11T14:42:27.580Z"
   },
   {
    "duration": 5,
    "start_time": "2022-05-11T14:42:27.628Z"
   },
   {
    "duration": 242,
    "start_time": "2022-05-11T14:42:27.635Z"
   },
   {
    "duration": 10,
    "start_time": "2022-05-11T14:42:27.880Z"
   },
   {
    "duration": 41,
    "start_time": "2022-05-11T14:42:27.892Z"
   },
   {
    "duration": 121,
    "start_time": "2022-05-11T14:55:08.581Z"
   },
   {
    "duration": 539,
    "start_time": "2022-05-11T14:56:30.957Z"
   },
   {
    "duration": 90,
    "start_time": "2022-05-11T14:56:31.499Z"
   },
   {
    "duration": 53,
    "start_time": "2022-05-11T14:56:31.591Z"
   },
   {
    "duration": 35,
    "start_time": "2022-05-11T14:56:31.647Z"
   },
   {
    "duration": 15,
    "start_time": "2022-05-11T14:56:31.684Z"
   },
   {
    "duration": 33,
    "start_time": "2022-05-11T14:56:31.701Z"
   },
   {
    "duration": 15,
    "start_time": "2022-05-11T14:56:31.737Z"
   },
   {
    "duration": 14,
    "start_time": "2022-05-11T14:56:31.755Z"
   },
   {
    "duration": 10,
    "start_time": "2022-05-11T14:56:31.772Z"
   },
   {
    "duration": 8,
    "start_time": "2022-05-11T14:56:31.786Z"
   },
   {
    "duration": 37,
    "start_time": "2022-05-11T14:56:31.797Z"
   },
   {
    "duration": 15,
    "start_time": "2022-05-11T14:56:31.837Z"
   },
   {
    "duration": 10,
    "start_time": "2022-05-11T14:56:31.855Z"
   },
   {
    "duration": 18,
    "start_time": "2022-05-11T14:56:31.867Z"
   },
   {
    "duration": 19,
    "start_time": "2022-05-11T14:56:31.887Z"
   },
   {
    "duration": 72,
    "start_time": "2022-05-11T14:56:31.908Z"
   },
   {
    "duration": 19,
    "start_time": "2022-05-11T14:56:31.982Z"
   },
   {
    "duration": 20,
    "start_time": "2022-05-11T14:56:32.003Z"
   },
   {
    "duration": 50,
    "start_time": "2022-05-11T14:56:32.030Z"
   },
   {
    "duration": 5,
    "start_time": "2022-05-11T14:56:32.082Z"
   },
   {
    "duration": 92,
    "start_time": "2022-05-11T14:56:32.090Z"
   },
   {
    "duration": 25,
    "start_time": "2022-05-11T14:56:32.184Z"
   },
   {
    "duration": 38,
    "start_time": "2022-05-11T14:56:32.212Z"
   },
   {
    "duration": 49,
    "start_time": "2022-05-11T14:56:32.253Z"
   },
   {
    "duration": 247,
    "start_time": "2022-05-11T14:56:32.304Z"
   },
   {
    "duration": 19,
    "start_time": "2022-05-11T14:56:32.553Z"
   },
   {
    "duration": 17,
    "start_time": "2022-05-11T14:56:32.576Z"
   },
   {
    "duration": 42,
    "start_time": "2022-05-11T14:56:32.601Z"
   },
   {
    "duration": 9,
    "start_time": "2022-05-11T14:56:32.645Z"
   },
   {
    "duration": 16,
    "start_time": "2022-05-11T14:56:32.656Z"
   },
   {
    "duration": 8,
    "start_time": "2022-05-11T14:56:32.674Z"
   },
   {
    "duration": 9,
    "start_time": "2022-05-11T14:56:32.684Z"
   },
   {
    "duration": 40,
    "start_time": "2022-05-11T14:56:32.696Z"
   },
   {
    "duration": 7,
    "start_time": "2022-05-11T14:56:32.739Z"
   },
   {
    "duration": 8,
    "start_time": "2022-05-11T14:56:32.748Z"
   },
   {
    "duration": 19,
    "start_time": "2022-05-11T14:56:32.758Z"
   },
   {
    "duration": 10,
    "start_time": "2022-05-11T14:56:32.779Z"
   },
   {
    "duration": 37,
    "start_time": "2022-05-11T14:56:32.791Z"
   },
   {
    "duration": 15,
    "start_time": "2022-05-11T14:56:32.830Z"
   },
   {
    "duration": 16,
    "start_time": "2022-05-11T14:56:32.847Z"
   },
   {
    "duration": 23,
    "start_time": "2022-05-11T14:56:32.865Z"
   },
   {
    "duration": 52,
    "start_time": "2022-05-11T14:56:32.890Z"
   },
   {
    "duration": 32,
    "start_time": "2022-05-11T14:56:32.944Z"
   },
   {
    "duration": 57,
    "start_time": "2022-05-11T14:56:32.979Z"
   },
   {
    "duration": 11,
    "start_time": "2022-05-11T14:56:33.039Z"
   },
   {
    "duration": 28,
    "start_time": "2022-05-11T14:56:33.052Z"
   },
   {
    "duration": 11,
    "start_time": "2022-05-11T14:56:33.082Z"
   },
   {
    "duration": 28,
    "start_time": "2022-05-11T14:56:33.135Z"
   },
   {
    "duration": 15,
    "start_time": "2022-05-11T14:56:33.166Z"
   },
   {
    "duration": 25,
    "start_time": "2022-05-11T14:56:33.183Z"
   },
   {
    "duration": 32,
    "start_time": "2022-05-11T14:56:33.210Z"
   },
   {
    "duration": 14,
    "start_time": "2022-05-11T14:56:33.244Z"
   },
   {
    "duration": 16,
    "start_time": "2022-05-11T14:56:33.261Z"
   },
   {
    "duration": 148,
    "start_time": "2022-05-11T14:56:33.279Z"
   },
   {
    "duration": 0,
    "start_time": "2022-05-11T14:56:33.430Z"
   },
   {
    "duration": 0,
    "start_time": "2022-05-11T14:56:33.434Z"
   },
   {
    "duration": 0,
    "start_time": "2022-05-11T14:56:33.436Z"
   },
   {
    "duration": 0,
    "start_time": "2022-05-11T14:56:33.439Z"
   },
   {
    "duration": 0,
    "start_time": "2022-05-11T14:56:33.442Z"
   },
   {
    "duration": 0,
    "start_time": "2022-05-11T14:56:33.444Z"
   },
   {
    "duration": 0,
    "start_time": "2022-05-11T14:56:33.446Z"
   },
   {
    "duration": 0,
    "start_time": "2022-05-11T14:56:33.448Z"
   },
   {
    "duration": 0,
    "start_time": "2022-05-11T14:56:33.451Z"
   },
   {
    "duration": 0,
    "start_time": "2022-05-11T14:56:33.453Z"
   },
   {
    "duration": 6,
    "start_time": "2022-05-11T14:58:04.989Z"
   },
   {
    "duration": 5,
    "start_time": "2022-05-11T14:58:17.234Z"
   },
   {
    "duration": 12,
    "start_time": "2022-05-11T15:00:27.176Z"
   },
   {
    "duration": 6,
    "start_time": "2022-05-11T15:01:18.719Z"
   },
   {
    "duration": 571,
    "start_time": "2022-05-11T15:01:23.888Z"
   },
   {
    "duration": 85,
    "start_time": "2022-05-11T15:01:24.461Z"
   },
   {
    "duration": 32,
    "start_time": "2022-05-11T15:01:24.548Z"
   },
   {
    "duration": 42,
    "start_time": "2022-05-11T15:01:24.583Z"
   },
   {
    "duration": 14,
    "start_time": "2022-05-11T15:01:24.627Z"
   },
   {
    "duration": 8,
    "start_time": "2022-05-11T15:01:24.643Z"
   },
   {
    "duration": 7,
    "start_time": "2022-05-11T15:01:24.653Z"
   },
   {
    "duration": 6,
    "start_time": "2022-05-11T15:01:24.662Z"
   },
   {
    "duration": 54,
    "start_time": "2022-05-11T15:01:24.671Z"
   },
   {
    "duration": 6,
    "start_time": "2022-05-11T15:01:24.729Z"
   },
   {
    "duration": 25,
    "start_time": "2022-05-11T15:01:24.738Z"
   },
   {
    "duration": 14,
    "start_time": "2022-05-11T15:01:24.765Z"
   },
   {
    "duration": 6,
    "start_time": "2022-05-11T15:01:24.782Z"
   },
   {
    "duration": 11,
    "start_time": "2022-05-11T15:01:24.791Z"
   },
   {
    "duration": 9,
    "start_time": "2022-05-11T15:01:24.825Z"
   },
   {
    "duration": 31,
    "start_time": "2022-05-11T15:01:24.837Z"
   },
   {
    "duration": 8,
    "start_time": "2022-05-11T15:01:24.871Z"
   },
   {
    "duration": 14,
    "start_time": "2022-05-11T15:01:24.881Z"
   },
   {
    "duration": 64,
    "start_time": "2022-05-11T15:01:24.898Z"
   },
   {
    "duration": 5,
    "start_time": "2022-05-11T15:01:24.965Z"
   },
   {
    "duration": 10,
    "start_time": "2022-05-11T15:01:24.972Z"
   },
   {
    "duration": 40,
    "start_time": "2022-05-11T15:01:24.985Z"
   },
   {
    "duration": 9,
    "start_time": "2022-05-11T15:01:25.027Z"
   },
   {
    "duration": 53,
    "start_time": "2022-05-11T15:01:25.039Z"
   },
   {
    "duration": 240,
    "start_time": "2022-05-11T15:01:25.094Z"
   },
   {
    "duration": 21,
    "start_time": "2022-05-11T15:01:25.336Z"
   },
   {
    "duration": 13,
    "start_time": "2022-05-11T15:01:25.359Z"
   },
   {
    "duration": 37,
    "start_time": "2022-05-11T15:01:25.380Z"
   },
   {
    "duration": 24,
    "start_time": "2022-05-11T15:01:25.424Z"
   },
   {
    "duration": 15,
    "start_time": "2022-05-11T15:01:25.451Z"
   },
   {
    "duration": 17,
    "start_time": "2022-05-11T15:01:25.469Z"
   },
   {
    "duration": 16,
    "start_time": "2022-05-11T15:01:25.489Z"
   },
   {
    "duration": 21,
    "start_time": "2022-05-11T15:01:25.508Z"
   },
   {
    "duration": 19,
    "start_time": "2022-05-11T15:01:25.531Z"
   },
   {
    "duration": 30,
    "start_time": "2022-05-11T15:01:25.552Z"
   },
   {
    "duration": 42,
    "start_time": "2022-05-11T15:01:25.584Z"
   },
   {
    "duration": 29,
    "start_time": "2022-05-11T15:01:25.629Z"
   },
   {
    "duration": 27,
    "start_time": "2022-05-11T15:01:25.661Z"
   },
   {
    "duration": 15,
    "start_time": "2022-05-11T15:01:25.690Z"
   },
   {
    "duration": 18,
    "start_time": "2022-05-11T15:01:25.707Z"
   },
   {
    "duration": 22,
    "start_time": "2022-05-11T15:01:25.727Z"
   },
   {
    "duration": 43,
    "start_time": "2022-05-11T15:01:25.751Z"
   },
   {
    "duration": 39,
    "start_time": "2022-05-11T15:01:25.796Z"
   },
   {
    "duration": 27,
    "start_time": "2022-05-11T15:01:25.838Z"
   },
   {
    "duration": 11,
    "start_time": "2022-05-11T15:01:25.868Z"
   },
   {
    "duration": 64,
    "start_time": "2022-05-11T15:01:25.881Z"
   },
   {
    "duration": 10,
    "start_time": "2022-05-11T15:01:25.947Z"
   },
   {
    "duration": 45,
    "start_time": "2022-05-11T15:01:25.960Z"
   },
   {
    "duration": 26,
    "start_time": "2022-05-11T15:01:26.007Z"
   },
   {
    "duration": 40,
    "start_time": "2022-05-11T15:01:26.036Z"
   },
   {
    "duration": 23,
    "start_time": "2022-05-11T15:01:26.078Z"
   },
   {
    "duration": 28,
    "start_time": "2022-05-11T15:01:26.104Z"
   },
   {
    "duration": 33,
    "start_time": "2022-05-11T15:01:26.135Z"
   },
   {
    "duration": 18,
    "start_time": "2022-05-11T15:01:26.171Z"
   },
   {
    "duration": 28,
    "start_time": "2022-05-11T15:01:26.191Z"
   },
   {
    "duration": 33,
    "start_time": "2022-05-11T15:01:26.222Z"
   },
   {
    "duration": 9,
    "start_time": "2022-05-11T15:01:26.258Z"
   },
   {
    "duration": 39,
    "start_time": "2022-05-11T15:01:26.269Z"
   },
   {
    "duration": 28,
    "start_time": "2022-05-11T15:01:26.311Z"
   },
   {
    "duration": 21,
    "start_time": "2022-05-11T15:01:26.341Z"
   },
   {
    "duration": 17,
    "start_time": "2022-05-11T15:01:26.364Z"
   },
   {
    "duration": 229,
    "start_time": "2022-05-11T15:01:26.383Z"
   },
   {
    "duration": 15,
    "start_time": "2022-05-11T15:01:26.614Z"
   },
   {
    "duration": 41,
    "start_time": "2022-05-11T15:01:26.631Z"
   },
   {
    "duration": 534,
    "start_time": "2022-05-11T15:40:44.616Z"
   },
   {
    "duration": 86,
    "start_time": "2022-05-11T15:40:45.154Z"
   },
   {
    "duration": 32,
    "start_time": "2022-05-11T15:40:45.243Z"
   },
   {
    "duration": 22,
    "start_time": "2022-05-11T15:40:45.278Z"
   },
   {
    "duration": 36,
    "start_time": "2022-05-11T15:40:45.302Z"
   },
   {
    "duration": 8,
    "start_time": "2022-05-11T15:40:45.341Z"
   },
   {
    "duration": 20,
    "start_time": "2022-05-11T15:40:45.352Z"
   },
   {
    "duration": 21,
    "start_time": "2022-05-11T15:40:45.375Z"
   },
   {
    "duration": 31,
    "start_time": "2022-05-11T15:40:45.399Z"
   },
   {
    "duration": 6,
    "start_time": "2022-05-11T15:40:45.435Z"
   },
   {
    "duration": 7,
    "start_time": "2022-05-11T15:40:45.444Z"
   },
   {
    "duration": 13,
    "start_time": "2022-05-11T15:40:45.454Z"
   },
   {
    "duration": 6,
    "start_time": "2022-05-11T15:40:45.470Z"
   },
   {
    "duration": 10,
    "start_time": "2022-05-11T15:40:45.524Z"
   },
   {
    "duration": 15,
    "start_time": "2022-05-11T15:40:45.537Z"
   },
   {
    "duration": 26,
    "start_time": "2022-05-11T15:40:45.554Z"
   },
   {
    "duration": 9,
    "start_time": "2022-05-11T15:40:45.582Z"
   },
   {
    "duration": 36,
    "start_time": "2022-05-11T15:40:45.593Z"
   },
   {
    "duration": 44,
    "start_time": "2022-05-11T15:40:45.632Z"
   },
   {
    "duration": 5,
    "start_time": "2022-05-11T15:40:45.678Z"
   },
   {
    "duration": 12,
    "start_time": "2022-05-11T15:40:45.685Z"
   },
   {
    "duration": 6,
    "start_time": "2022-05-11T15:40:45.725Z"
   },
   {
    "duration": 8,
    "start_time": "2022-05-11T15:40:45.733Z"
   },
   {
    "duration": 34,
    "start_time": "2022-05-11T15:40:45.743Z"
   },
   {
    "duration": 279,
    "start_time": "2022-05-11T15:40:45.780Z"
   },
   {
    "duration": 19,
    "start_time": "2022-05-11T15:40:46.061Z"
   },
   {
    "duration": 12,
    "start_time": "2022-05-11T15:40:46.083Z"
   },
   {
    "duration": 36,
    "start_time": "2022-05-11T15:40:46.101Z"
   },
   {
    "duration": 9,
    "start_time": "2022-05-11T15:40:46.140Z"
   },
   {
    "duration": 7,
    "start_time": "2022-05-11T15:40:46.151Z"
   },
   {
    "duration": 6,
    "start_time": "2022-05-11T15:40:46.160Z"
   },
   {
    "duration": 11,
    "start_time": "2022-05-11T15:40:46.168Z"
   },
   {
    "duration": 11,
    "start_time": "2022-05-11T15:40:46.225Z"
   },
   {
    "duration": 7,
    "start_time": "2022-05-11T15:40:46.238Z"
   },
   {
    "duration": 9,
    "start_time": "2022-05-11T15:40:46.247Z"
   },
   {
    "duration": 11,
    "start_time": "2022-05-11T15:40:46.259Z"
   },
   {
    "duration": 8,
    "start_time": "2022-05-11T15:40:46.272Z"
   },
   {
    "duration": 8,
    "start_time": "2022-05-11T15:40:46.325Z"
   },
   {
    "duration": 13,
    "start_time": "2022-05-11T15:40:46.335Z"
   },
   {
    "duration": 13,
    "start_time": "2022-05-11T15:40:46.350Z"
   },
   {
    "duration": 11,
    "start_time": "2022-05-11T15:40:46.366Z"
   },
   {
    "duration": 61,
    "start_time": "2022-05-11T15:40:46.379Z"
   },
   {
    "duration": 32,
    "start_time": "2022-05-11T15:40:46.442Z"
   },
   {
    "duration": 52,
    "start_time": "2022-05-11T15:40:46.476Z"
   },
   {
    "duration": 10,
    "start_time": "2022-05-11T15:40:46.531Z"
   },
   {
    "duration": 35,
    "start_time": "2022-05-11T15:40:46.543Z"
   },
   {
    "duration": 12,
    "start_time": "2022-05-11T15:40:46.580Z"
   },
   {
    "duration": 52,
    "start_time": "2022-05-11T15:40:46.594Z"
   },
   {
    "duration": 10,
    "start_time": "2022-05-11T15:40:46.648Z"
   },
   {
    "duration": 37,
    "start_time": "2022-05-11T15:40:46.660Z"
   },
   {
    "duration": 26,
    "start_time": "2022-05-11T15:40:46.700Z"
   },
   {
    "duration": 13,
    "start_time": "2022-05-11T15:40:46.729Z"
   },
   {
    "duration": 24,
    "start_time": "2022-05-11T15:40:46.745Z"
   },
   {
    "duration": 11,
    "start_time": "2022-05-11T15:40:46.772Z"
   },
   {
    "duration": 39,
    "start_time": "2022-05-11T15:40:46.785Z"
   },
   {
    "duration": 20,
    "start_time": "2022-05-11T15:40:46.827Z"
   },
   {
    "duration": 6,
    "start_time": "2022-05-11T15:40:46.850Z"
   },
   {
    "duration": 22,
    "start_time": "2022-05-11T15:40:46.858Z"
   },
   {
    "duration": 49,
    "start_time": "2022-05-11T15:40:46.882Z"
   },
   {
    "duration": 29,
    "start_time": "2022-05-11T15:40:46.933Z"
   },
   {
    "duration": 17,
    "start_time": "2022-05-11T15:40:46.964Z"
   },
   {
    "duration": 236,
    "start_time": "2022-05-11T15:40:46.983Z"
   },
   {
    "duration": 10,
    "start_time": "2022-05-11T15:40:47.223Z"
   },
   {
    "duration": 33,
    "start_time": "2022-05-11T15:40:47.236Z"
   },
   {
    "duration": 101,
    "start_time": "2022-05-11T15:41:06.365Z"
   },
   {
    "duration": 110,
    "start_time": "2022-05-11T15:42:14.992Z"
   },
   {
    "duration": 108,
    "start_time": "2022-05-11T15:42:23.202Z"
   },
   {
    "duration": 29,
    "start_time": "2022-05-11T15:43:12.249Z"
   },
   {
    "duration": 15,
    "start_time": "2022-05-11T15:43:28.915Z"
   },
   {
    "duration": 12,
    "start_time": "2022-05-11T15:43:50.203Z"
   },
   {
    "duration": 13,
    "start_time": "2022-05-11T15:44:31.530Z"
   },
   {
    "duration": 16,
    "start_time": "2022-05-11T15:45:25.745Z"
   },
   {
    "duration": 20,
    "start_time": "2022-05-11T15:46:04.880Z"
   },
   {
    "duration": 23,
    "start_time": "2022-05-11T15:46:14.812Z"
   },
   {
    "duration": 26,
    "start_time": "2022-05-11T15:46:24.966Z"
   },
   {
    "duration": 23,
    "start_time": "2022-05-11T15:46:32.249Z"
   },
   {
    "duration": 398,
    "start_time": "2022-05-11T19:48:35.590Z"
   },
   {
    "duration": 60,
    "start_time": "2022-05-11T19:48:35.990Z"
   },
   {
    "duration": 29,
    "start_time": "2022-05-11T19:48:36.056Z"
   },
   {
    "duration": 21,
    "start_time": "2022-05-11T19:48:36.086Z"
   },
   {
    "duration": 13,
    "start_time": "2022-05-11T19:48:36.109Z"
   },
   {
    "duration": 6,
    "start_time": "2022-05-11T19:48:36.124Z"
   },
   {
    "duration": 42,
    "start_time": "2022-05-11T19:48:36.132Z"
   },
   {
    "duration": 4,
    "start_time": "2022-05-11T19:48:36.175Z"
   },
   {
    "duration": 5,
    "start_time": "2022-05-11T19:48:36.181Z"
   },
   {
    "duration": 4,
    "start_time": "2022-05-11T19:48:36.188Z"
   },
   {
    "duration": 4,
    "start_time": "2022-05-11T19:48:36.194Z"
   },
   {
    "duration": 10,
    "start_time": "2022-05-11T19:48:36.200Z"
   },
   {
    "duration": 3,
    "start_time": "2022-05-11T19:48:36.212Z"
   },
   {
    "duration": 7,
    "start_time": "2022-05-11T19:48:36.217Z"
   },
   {
    "duration": 8,
    "start_time": "2022-05-11T19:48:36.272Z"
   },
   {
    "duration": 23,
    "start_time": "2022-05-11T19:48:36.283Z"
   },
   {
    "duration": 5,
    "start_time": "2022-05-11T19:48:36.308Z"
   },
   {
    "duration": 8,
    "start_time": "2022-05-11T19:48:36.315Z"
   },
   {
    "duration": 63,
    "start_time": "2022-05-11T19:48:36.325Z"
   },
   {
    "duration": 4,
    "start_time": "2022-05-11T19:48:36.390Z"
   },
   {
    "duration": 9,
    "start_time": "2022-05-11T19:48:36.395Z"
   },
   {
    "duration": 9,
    "start_time": "2022-05-11T19:48:36.406Z"
   },
   {
    "duration": 5,
    "start_time": "2022-05-11T19:48:36.417Z"
   },
   {
    "duration": 59,
    "start_time": "2022-05-11T19:48:36.424Z"
   },
   {
    "duration": 133,
    "start_time": "2022-05-11T19:48:36.484Z"
   },
   {
    "duration": 12,
    "start_time": "2022-05-11T19:48:36.619Z"
   },
   {
    "duration": 6,
    "start_time": "2022-05-11T19:48:36.637Z"
   },
   {
    "duration": 31,
    "start_time": "2022-05-11T19:48:36.644Z"
   },
   {
    "duration": 4,
    "start_time": "2022-05-11T19:48:36.677Z"
   },
   {
    "duration": 6,
    "start_time": "2022-05-11T19:48:36.683Z"
   },
   {
    "duration": 3,
    "start_time": "2022-05-11T19:48:36.691Z"
   },
   {
    "duration": 7,
    "start_time": "2022-05-11T19:48:36.696Z"
   },
   {
    "duration": 7,
    "start_time": "2022-05-11T19:48:36.704Z"
   },
   {
    "duration": 4,
    "start_time": "2022-05-11T19:48:36.714Z"
   },
   {
    "duration": 5,
    "start_time": "2022-05-11T19:48:36.719Z"
   },
   {
    "duration": 53,
    "start_time": "2022-05-11T19:48:36.726Z"
   },
   {
    "duration": 6,
    "start_time": "2022-05-11T19:48:36.781Z"
   },
   {
    "duration": 6,
    "start_time": "2022-05-11T19:48:36.788Z"
   },
   {
    "duration": 6,
    "start_time": "2022-05-11T19:48:36.795Z"
   },
   {
    "duration": 9,
    "start_time": "2022-05-11T19:48:36.803Z"
   },
   {
    "duration": 12,
    "start_time": "2022-05-11T19:48:36.814Z"
   },
   {
    "duration": 60,
    "start_time": "2022-05-11T19:48:36.828Z"
   },
   {
    "duration": 19,
    "start_time": "2022-05-11T19:48:36.890Z"
   },
   {
    "duration": 17,
    "start_time": "2022-05-11T19:48:36.911Z"
   },
   {
    "duration": 7,
    "start_time": "2022-05-11T19:48:36.930Z"
   },
   {
    "duration": 54,
    "start_time": "2022-05-11T19:48:36.939Z"
   },
   {
    "duration": 11,
    "start_time": "2022-05-11T19:48:36.995Z"
   },
   {
    "duration": 26,
    "start_time": "2022-05-11T19:48:37.009Z"
   },
   {
    "duration": 38,
    "start_time": "2022-05-11T19:48:37.038Z"
   },
   {
    "duration": 27,
    "start_time": "2022-05-11T19:48:37.079Z"
   },
   {
    "duration": 11,
    "start_time": "2022-05-11T19:48:37.109Z"
   },
   {
    "duration": 14,
    "start_time": "2022-05-11T19:48:37.123Z"
   },
   {
    "duration": 33,
    "start_time": "2022-05-11T19:48:37.139Z"
   },
   {
    "duration": 20,
    "start_time": "2022-05-11T19:48:37.174Z"
   },
   {
    "duration": 8,
    "start_time": "2022-05-11T19:48:37.196Z"
   },
   {
    "duration": 23,
    "start_time": "2022-05-11T19:48:37.206Z"
   },
   {
    "duration": 5,
    "start_time": "2022-05-11T19:48:37.231Z"
   },
   {
    "duration": 37,
    "start_time": "2022-05-11T19:48:37.238Z"
   },
   {
    "duration": 13,
    "start_time": "2022-05-11T19:48:37.277Z"
   },
   {
    "duration": 12,
    "start_time": "2022-05-11T19:48:37.292Z"
   },
   {
    "duration": 18,
    "start_time": "2022-05-11T19:48:37.305Z"
   },
   {
    "duration": 248,
    "start_time": "2022-05-11T19:48:37.326Z"
   },
   {
    "duration": 9,
    "start_time": "2022-05-11T19:48:37.577Z"
   },
   {
    "duration": 19,
    "start_time": "2022-05-11T19:48:37.588Z"
   },
   {
    "duration": 7,
    "start_time": "2022-05-11T19:49:36.439Z"
   },
   {
    "duration": 10,
    "start_time": "2022-05-11T19:49:46.886Z"
   },
   {
    "duration": 63,
    "start_time": "2022-05-11T19:50:15.652Z"
   },
   {
    "duration": 388,
    "start_time": "2022-05-11T19:50:19.293Z"
   },
   {
    "duration": 56,
    "start_time": "2022-05-11T19:50:19.683Z"
   },
   {
    "duration": 32,
    "start_time": "2022-05-11T19:50:19.741Z"
   },
   {
    "duration": 15,
    "start_time": "2022-05-11T19:50:19.775Z"
   },
   {
    "duration": 9,
    "start_time": "2022-05-11T19:50:19.792Z"
   },
   {
    "duration": 4,
    "start_time": "2022-05-11T19:50:19.803Z"
   },
   {
    "duration": 5,
    "start_time": "2022-05-11T19:50:19.809Z"
   },
   {
    "duration": 3,
    "start_time": "2022-05-11T19:50:19.816Z"
   },
   {
    "duration": 7,
    "start_time": "2022-05-11T19:50:19.820Z"
   },
   {
    "duration": 44,
    "start_time": "2022-05-11T19:50:19.830Z"
   },
   {
    "duration": 7,
    "start_time": "2022-05-11T19:50:19.876Z"
   },
   {
    "duration": 11,
    "start_time": "2022-05-11T19:50:19.885Z"
   },
   {
    "duration": 3,
    "start_time": "2022-05-11T19:50:19.898Z"
   },
   {
    "duration": 8,
    "start_time": "2022-05-11T19:50:19.903Z"
   },
   {
    "duration": 5,
    "start_time": "2022-05-11T19:50:19.913Z"
   },
   {
    "duration": 52,
    "start_time": "2022-05-11T19:50:19.920Z"
   },
   {
    "duration": 4,
    "start_time": "2022-05-11T19:50:19.974Z"
   },
   {
    "duration": 12,
    "start_time": "2022-05-11T19:50:19.980Z"
   },
   {
    "duration": 39,
    "start_time": "2022-05-11T19:50:19.994Z"
   },
   {
    "duration": 4,
    "start_time": "2022-05-11T19:50:20.036Z"
   },
   {
    "duration": 5,
    "start_time": "2022-05-11T19:50:20.072Z"
   },
   {
    "duration": 7,
    "start_time": "2022-05-11T19:50:20.079Z"
   },
   {
    "duration": 6,
    "start_time": "2022-05-11T19:50:20.088Z"
   },
   {
    "duration": 24,
    "start_time": "2022-05-11T19:50:20.096Z"
   },
   {
    "duration": 157,
    "start_time": "2022-05-11T19:50:20.122Z"
   },
   {
    "duration": 12,
    "start_time": "2022-05-11T19:50:20.281Z"
   },
   {
    "duration": 9,
    "start_time": "2022-05-11T19:50:20.295Z"
   },
   {
    "duration": 18,
    "start_time": "2022-05-11T19:50:20.308Z"
   },
   {
    "duration": 5,
    "start_time": "2022-05-11T19:50:20.328Z"
   },
   {
    "duration": 36,
    "start_time": "2022-05-11T19:50:20.335Z"
   },
   {
    "duration": 4,
    "start_time": "2022-05-11T19:50:20.372Z"
   },
   {
    "duration": 8,
    "start_time": "2022-05-11T19:50:20.378Z"
   },
   {
    "duration": 10,
    "start_time": "2022-05-11T19:50:20.387Z"
   },
   {
    "duration": 6,
    "start_time": "2022-05-11T19:50:20.399Z"
   },
   {
    "duration": 11,
    "start_time": "2022-05-11T19:50:20.407Z"
   },
   {
    "duration": 18,
    "start_time": "2022-05-11T19:50:20.420Z"
   },
   {
    "duration": 10,
    "start_time": "2022-05-11T19:50:20.440Z"
   },
   {
    "duration": 7,
    "start_time": "2022-05-11T19:50:20.471Z"
   },
   {
    "duration": 10,
    "start_time": "2022-05-11T19:50:20.479Z"
   },
   {
    "duration": 11,
    "start_time": "2022-05-11T19:50:20.491Z"
   },
   {
    "duration": 11,
    "start_time": "2022-05-11T19:50:20.504Z"
   },
   {
    "duration": 55,
    "start_time": "2022-05-11T19:50:20.517Z"
   },
   {
    "duration": 20,
    "start_time": "2022-05-11T19:50:20.574Z"
   },
   {
    "duration": 18,
    "start_time": "2022-05-11T19:50:20.596Z"
   },
   {
    "duration": 7,
    "start_time": "2022-05-11T19:50:20.616Z"
   },
   {
    "duration": 57,
    "start_time": "2022-05-11T19:50:20.625Z"
   },
   {
    "duration": 8,
    "start_time": "2022-05-11T19:50:20.684Z"
   },
   {
    "duration": 22,
    "start_time": "2022-05-11T19:50:20.693Z"
   },
   {
    "duration": 10,
    "start_time": "2022-05-11T19:50:20.716Z"
   },
   {
    "duration": 14,
    "start_time": "2022-05-11T19:50:20.727Z"
   },
   {
    "duration": 31,
    "start_time": "2022-05-11T19:50:20.743Z"
   },
   {
    "duration": 11,
    "start_time": "2022-05-11T19:50:20.776Z"
   },
   {
    "duration": 10,
    "start_time": "2022-05-11T19:50:20.789Z"
   },
   {
    "duration": 22,
    "start_time": "2022-05-11T19:50:20.801Z"
   },
   {
    "duration": 13,
    "start_time": "2022-05-11T19:50:20.825Z"
   },
   {
    "duration": 46,
    "start_time": "2022-05-11T19:50:20.840Z"
   },
   {
    "duration": 5,
    "start_time": "2022-05-11T19:50:20.888Z"
   },
   {
    "duration": 18,
    "start_time": "2022-05-11T19:50:20.895Z"
   },
   {
    "duration": 17,
    "start_time": "2022-05-11T19:50:20.914Z"
   },
   {
    "duration": 13,
    "start_time": "2022-05-11T19:50:20.932Z"
   },
   {
    "duration": 3,
    "start_time": "2022-05-11T19:50:20.976Z"
   },
   {
    "duration": 145,
    "start_time": "2022-05-11T19:50:20.981Z"
   },
   {
    "duration": 6,
    "start_time": "2022-05-11T19:50:21.128Z"
   },
   {
    "duration": 17,
    "start_time": "2022-05-11T19:50:21.136Z"
   },
   {
    "duration": 103,
    "start_time": "2022-05-11T19:53:37.385Z"
   },
   {
    "duration": 17,
    "start_time": "2022-05-11T19:53:42.497Z"
   },
   {
    "duration": 438,
    "start_time": "2022-05-11T19:53:58.857Z"
   },
   {
    "duration": 59,
    "start_time": "2022-05-11T19:53:59.297Z"
   },
   {
    "duration": 19,
    "start_time": "2022-05-11T19:53:59.358Z"
   },
   {
    "duration": 15,
    "start_time": "2022-05-11T19:53:59.380Z"
   },
   {
    "duration": 10,
    "start_time": "2022-05-11T19:53:59.397Z"
   },
   {
    "duration": 4,
    "start_time": "2022-05-11T19:53:59.409Z"
   },
   {
    "duration": 6,
    "start_time": "2022-05-11T19:53:59.415Z"
   },
   {
    "duration": 4,
    "start_time": "2022-05-11T19:53:59.422Z"
   },
   {
    "duration": 43,
    "start_time": "2022-05-11T19:53:59.428Z"
   },
   {
    "duration": 5,
    "start_time": "2022-05-11T19:53:59.474Z"
   },
   {
    "duration": 7,
    "start_time": "2022-05-11T19:53:59.481Z"
   },
   {
    "duration": 8,
    "start_time": "2022-05-11T19:53:59.490Z"
   },
   {
    "duration": 4,
    "start_time": "2022-05-11T19:53:59.500Z"
   },
   {
    "duration": 8,
    "start_time": "2022-05-11T19:53:59.505Z"
   },
   {
    "duration": 7,
    "start_time": "2022-05-11T19:53:59.515Z"
   },
   {
    "duration": 60,
    "start_time": "2022-05-11T19:53:59.524Z"
   },
   {
    "duration": 4,
    "start_time": "2022-05-11T19:53:59.587Z"
   },
   {
    "duration": 9,
    "start_time": "2022-05-11T19:53:59.593Z"
   },
   {
    "duration": 41,
    "start_time": "2022-05-11T19:53:59.604Z"
   },
   {
    "duration": 27,
    "start_time": "2022-05-11T19:53:59.646Z"
   },
   {
    "duration": 8,
    "start_time": "2022-05-11T19:53:59.675Z"
   },
   {
    "duration": 5,
    "start_time": "2022-05-11T19:53:59.685Z"
   },
   {
    "duration": 5,
    "start_time": "2022-05-11T19:53:59.692Z"
   },
   {
    "duration": 21,
    "start_time": "2022-05-11T19:53:59.699Z"
   },
   {
    "duration": 150,
    "start_time": "2022-05-11T19:53:59.722Z"
   },
   {
    "duration": 13,
    "start_time": "2022-05-11T19:53:59.874Z"
   },
   {
    "duration": 6,
    "start_time": "2022-05-11T19:53:59.889Z"
   },
   {
    "duration": 9,
    "start_time": "2022-05-11T19:53:59.900Z"
   },
   {
    "duration": 7,
    "start_time": "2022-05-11T19:53:59.911Z"
   },
   {
    "duration": 11,
    "start_time": "2022-05-11T19:53:59.919Z"
   },
   {
    "duration": 5,
    "start_time": "2022-05-11T19:53:59.931Z"
   },
   {
    "duration": 34,
    "start_time": "2022-05-11T19:53:59.938Z"
   },
   {
    "duration": 5,
    "start_time": "2022-05-11T19:53:59.974Z"
   },
   {
    "duration": 6,
    "start_time": "2022-05-11T19:53:59.981Z"
   },
   {
    "duration": 6,
    "start_time": "2022-05-11T19:53:59.989Z"
   },
   {
    "duration": 11,
    "start_time": "2022-05-11T19:53:59.996Z"
   },
   {
    "duration": 6,
    "start_time": "2022-05-11T19:54:00.009Z"
   },
   {
    "duration": 7,
    "start_time": "2022-05-11T19:54:00.017Z"
   },
   {
    "duration": 8,
    "start_time": "2022-05-11T19:54:00.026Z"
   },
   {
    "duration": 8,
    "start_time": "2022-05-11T19:54:00.071Z"
   },
   {
    "duration": 7,
    "start_time": "2022-05-11T19:54:00.081Z"
   },
   {
    "duration": 18,
    "start_time": "2022-05-11T19:54:00.090Z"
   },
   {
    "duration": 18,
    "start_time": "2022-05-11T19:54:00.110Z"
   },
   {
    "duration": 49,
    "start_time": "2022-05-11T19:54:00.129Z"
   },
   {
    "duration": 7,
    "start_time": "2022-05-11T19:54:00.180Z"
   },
   {
    "duration": 22,
    "start_time": "2022-05-11T19:54:00.188Z"
   },
   {
    "duration": 9,
    "start_time": "2022-05-11T19:54:00.212Z"
   },
   {
    "duration": 22,
    "start_time": "2022-05-11T19:54:00.223Z"
   },
   {
    "duration": 6,
    "start_time": "2022-05-11T19:54:00.272Z"
   },
   {
    "duration": 19,
    "start_time": "2022-05-11T19:54:00.279Z"
   },
   {
    "duration": 23,
    "start_time": "2022-05-11T19:54:00.300Z"
   },
   {
    "duration": 12,
    "start_time": "2022-05-11T19:54:00.324Z"
   },
   {
    "duration": 9,
    "start_time": "2022-05-11T19:54:00.338Z"
   },
   {
    "duration": 24,
    "start_time": "2022-05-11T19:54:00.348Z"
   },
   {
    "duration": 4,
    "start_time": "2022-05-11T19:54:00.373Z"
   },
   {
    "duration": 15,
    "start_time": "2022-05-11T19:54:00.378Z"
   },
   {
    "duration": 12,
    "start_time": "2022-05-11T19:54:00.394Z"
   },
   {
    "duration": 7,
    "start_time": "2022-05-11T19:54:00.408Z"
   },
   {
    "duration": 16,
    "start_time": "2022-05-11T19:54:00.417Z"
   },
   {
    "duration": 37,
    "start_time": "2022-05-11T19:54:00.434Z"
   },
   {
    "duration": 11,
    "start_time": "2022-05-11T19:54:00.473Z"
   },
   {
    "duration": 6,
    "start_time": "2022-05-11T19:54:00.486Z"
   },
   {
    "duration": 141,
    "start_time": "2022-05-11T19:54:00.493Z"
   },
   {
    "duration": 8,
    "start_time": "2022-05-11T19:54:00.636Z"
   },
   {
    "duration": 26,
    "start_time": "2022-05-11T19:54:00.645Z"
   },
   {
    "duration": 523,
    "start_time": "2022-05-11T19:55:17.932Z"
   },
   {
    "duration": 77,
    "start_time": "2022-05-11T19:55:18.458Z"
   },
   {
    "duration": 36,
    "start_time": "2022-05-11T19:55:18.537Z"
   },
   {
    "duration": 22,
    "start_time": "2022-05-11T19:55:18.576Z"
   },
   {
    "duration": 14,
    "start_time": "2022-05-11T19:55:18.600Z"
   },
   {
    "duration": 5,
    "start_time": "2022-05-11T19:55:18.616Z"
   },
   {
    "duration": 8,
    "start_time": "2022-05-11T19:55:18.623Z"
   },
   {
    "duration": 4,
    "start_time": "2022-05-11T19:55:18.633Z"
   },
   {
    "duration": 5,
    "start_time": "2022-05-11T19:55:18.671Z"
   },
   {
    "duration": 4,
    "start_time": "2022-05-11T19:55:18.680Z"
   },
   {
    "duration": 8,
    "start_time": "2022-05-11T19:55:18.686Z"
   },
   {
    "duration": 19,
    "start_time": "2022-05-11T19:55:18.696Z"
   },
   {
    "duration": 8,
    "start_time": "2022-05-11T19:55:18.716Z"
   },
   {
    "duration": 8,
    "start_time": "2022-05-11T19:55:18.725Z"
   },
   {
    "duration": 8,
    "start_time": "2022-05-11T19:55:18.735Z"
   },
   {
    "duration": 39,
    "start_time": "2022-05-11T19:55:18.744Z"
   },
   {
    "duration": 4,
    "start_time": "2022-05-11T19:55:18.784Z"
   },
   {
    "duration": 6,
    "start_time": "2022-05-11T19:55:18.790Z"
   },
   {
    "duration": 24,
    "start_time": "2022-05-11T19:55:18.797Z"
   },
   {
    "duration": 4,
    "start_time": "2022-05-11T19:55:18.822Z"
   },
   {
    "duration": 43,
    "start_time": "2022-05-11T19:55:18.828Z"
   },
   {
    "duration": 5,
    "start_time": "2022-05-11T19:55:18.873Z"
   },
   {
    "duration": 5,
    "start_time": "2022-05-11T19:55:18.879Z"
   },
   {
    "duration": 20,
    "start_time": "2022-05-11T19:55:18.885Z"
   },
   {
    "duration": 145,
    "start_time": "2022-05-11T19:55:18.907Z"
   },
   {
    "duration": 19,
    "start_time": "2022-05-11T19:55:19.054Z"
   },
   {
    "duration": 6,
    "start_time": "2022-05-11T19:55:19.074Z"
   },
   {
    "duration": 11,
    "start_time": "2022-05-11T19:55:19.085Z"
   },
   {
    "duration": 5,
    "start_time": "2022-05-11T19:55:19.098Z"
   },
   {
    "duration": 4,
    "start_time": "2022-05-11T19:55:19.105Z"
   },
   {
    "duration": 5,
    "start_time": "2022-05-11T19:55:19.110Z"
   },
   {
    "duration": 5,
    "start_time": "2022-05-11T19:55:19.117Z"
   },
   {
    "duration": 6,
    "start_time": "2022-05-11T19:55:19.124Z"
   },
   {
    "duration": 42,
    "start_time": "2022-05-11T19:55:19.131Z"
   },
   {
    "duration": 6,
    "start_time": "2022-05-11T19:55:19.175Z"
   },
   {
    "duration": 8,
    "start_time": "2022-05-11T19:55:19.183Z"
   },
   {
    "duration": 6,
    "start_time": "2022-05-11T19:55:19.192Z"
   },
   {
    "duration": 7,
    "start_time": "2022-05-11T19:55:19.200Z"
   },
   {
    "duration": 9,
    "start_time": "2022-05-11T19:55:19.208Z"
   },
   {
    "duration": 10,
    "start_time": "2022-05-11T19:55:19.218Z"
   },
   {
    "duration": 47,
    "start_time": "2022-05-11T19:55:19.229Z"
   },
   {
    "duration": 21,
    "start_time": "2022-05-11T19:55:19.278Z"
   },
   {
    "duration": 21,
    "start_time": "2022-05-11T19:55:19.301Z"
   },
   {
    "duration": 48,
    "start_time": "2022-05-11T19:55:19.324Z"
   },
   {
    "duration": 8,
    "start_time": "2022-05-11T19:55:19.374Z"
   },
   {
    "duration": 24,
    "start_time": "2022-05-11T19:55:19.383Z"
   },
   {
    "duration": 9,
    "start_time": "2022-05-11T19:55:19.409Z"
   },
   {
    "duration": 20,
    "start_time": "2022-05-11T19:55:19.419Z"
   },
   {
    "duration": 32,
    "start_time": "2022-05-11T19:55:19.441Z"
   },
   {
    "duration": 13,
    "start_time": "2022-05-11T19:55:19.475Z"
   },
   {
    "duration": 10,
    "start_time": "2022-05-11T19:55:19.490Z"
   },
   {
    "duration": 8,
    "start_time": "2022-05-11T19:55:19.502Z"
   },
   {
    "duration": 7,
    "start_time": "2022-05-11T19:55:19.512Z"
   },
   {
    "duration": 15,
    "start_time": "2022-05-11T19:55:19.520Z"
   },
   {
    "duration": 35,
    "start_time": "2022-05-11T19:55:19.536Z"
   },
   {
    "duration": 13,
    "start_time": "2022-05-11T19:55:19.573Z"
   },
   {
    "duration": 13,
    "start_time": "2022-05-11T19:55:19.587Z"
   },
   {
    "duration": 5,
    "start_time": "2022-05-11T19:55:19.602Z"
   },
   {
    "duration": 14,
    "start_time": "2022-05-11T19:55:19.608Z"
   },
   {
    "duration": 14,
    "start_time": "2022-05-11T19:55:19.624Z"
   },
   {
    "duration": 34,
    "start_time": "2022-05-11T19:55:19.640Z"
   },
   {
    "duration": 11,
    "start_time": "2022-05-11T19:55:19.676Z"
   },
   {
    "duration": 133,
    "start_time": "2022-05-11T19:55:19.689Z"
   },
   {
    "duration": 7,
    "start_time": "2022-05-11T19:55:19.824Z"
   },
   {
    "duration": 17,
    "start_time": "2022-05-11T19:55:19.833Z"
   },
   {
    "duration": 434,
    "start_time": "2022-05-11T20:00:32.135Z"
   },
   {
    "duration": 64,
    "start_time": "2022-05-11T20:00:32.575Z"
   },
   {
    "duration": 19,
    "start_time": "2022-05-11T20:00:32.640Z"
   },
   {
    "duration": 21,
    "start_time": "2022-05-11T20:00:32.661Z"
   },
   {
    "duration": 13,
    "start_time": "2022-05-11T20:00:32.686Z"
   },
   {
    "duration": 4,
    "start_time": "2022-05-11T20:00:32.701Z"
   },
   {
    "duration": 6,
    "start_time": "2022-05-11T20:00:32.707Z"
   },
   {
    "duration": 4,
    "start_time": "2022-05-11T20:00:32.714Z"
   },
   {
    "duration": 8,
    "start_time": "2022-05-11T20:00:32.720Z"
   },
   {
    "duration": 4,
    "start_time": "2022-05-11T20:00:32.731Z"
   },
   {
    "duration": 38,
    "start_time": "2022-05-11T20:00:32.737Z"
   },
   {
    "duration": 11,
    "start_time": "2022-05-11T20:00:32.779Z"
   },
   {
    "duration": 5,
    "start_time": "2022-05-11T20:00:32.791Z"
   },
   {
    "duration": 8,
    "start_time": "2022-05-11T20:00:32.797Z"
   },
   {
    "duration": 6,
    "start_time": "2022-05-11T20:00:32.807Z"
   },
   {
    "duration": 14,
    "start_time": "2022-05-11T20:00:32.815Z"
   },
   {
    "duration": 4,
    "start_time": "2022-05-11T20:00:32.830Z"
   },
   {
    "duration": 14,
    "start_time": "2022-05-11T20:00:32.872Z"
   },
   {
    "duration": 24,
    "start_time": "2022-05-11T20:00:32.888Z"
   },
   {
    "duration": 3,
    "start_time": "2022-05-11T20:00:32.914Z"
   },
   {
    "duration": 5,
    "start_time": "2022-05-11T20:00:32.919Z"
   },
   {
    "duration": 4,
    "start_time": "2022-05-11T20:00:32.926Z"
   },
   {
    "duration": 7,
    "start_time": "2022-05-11T20:00:32.931Z"
   },
   {
    "duration": 29,
    "start_time": "2022-05-11T20:00:32.971Z"
   },
   {
    "duration": 146,
    "start_time": "2022-05-11T20:00:33.001Z"
   },
   {
    "duration": 11,
    "start_time": "2022-05-11T20:00:33.149Z"
   },
   {
    "duration": 11,
    "start_time": "2022-05-11T20:00:33.162Z"
   },
   {
    "duration": 10,
    "start_time": "2022-05-11T20:00:33.177Z"
   },
   {
    "duration": 5,
    "start_time": "2022-05-11T20:00:33.189Z"
   },
   {
    "duration": 16,
    "start_time": "2022-05-11T20:00:33.196Z"
   },
   {
    "duration": 6,
    "start_time": "2022-05-11T20:00:33.214Z"
   },
   {
    "duration": 6,
    "start_time": "2022-05-11T20:00:33.222Z"
   },
   {
    "duration": 6,
    "start_time": "2022-05-11T20:00:33.230Z"
   },
   {
    "duration": 4,
    "start_time": "2022-05-11T20:00:33.237Z"
   },
   {
    "duration": 5,
    "start_time": "2022-05-11T20:00:33.272Z"
   },
   {
    "duration": 21,
    "start_time": "2022-05-11T20:00:33.279Z"
   },
   {
    "duration": 6,
    "start_time": "2022-05-11T20:00:33.303Z"
   },
   {
    "duration": 5,
    "start_time": "2022-05-11T20:00:33.311Z"
   },
   {
    "duration": 7,
    "start_time": "2022-05-11T20:00:33.317Z"
   },
   {
    "duration": 8,
    "start_time": "2022-05-11T20:00:33.326Z"
   },
   {
    "duration": 37,
    "start_time": "2022-05-11T20:00:33.336Z"
   },
   {
    "duration": 25,
    "start_time": "2022-05-11T20:00:33.375Z"
   },
   {
    "duration": 18,
    "start_time": "2022-05-11T20:00:33.402Z"
   },
   {
    "duration": 16,
    "start_time": "2022-05-11T20:00:33.422Z"
   },
   {
    "duration": 37,
    "start_time": "2022-05-11T20:00:33.439Z"
   },
   {
    "duration": 27,
    "start_time": "2022-05-11T20:00:33.477Z"
   },
   {
    "duration": 8,
    "start_time": "2022-05-11T20:00:33.506Z"
   },
   {
    "duration": 19,
    "start_time": "2022-05-11T20:00:33.515Z"
   },
   {
    "duration": 9,
    "start_time": "2022-05-11T20:00:33.536Z"
   },
   {
    "duration": 36,
    "start_time": "2022-05-11T20:00:33.547Z"
   },
   {
    "duration": 9,
    "start_time": "2022-05-11T20:00:33.585Z"
   },
   {
    "duration": 10,
    "start_time": "2022-05-11T20:00:33.596Z"
   },
   {
    "duration": 6,
    "start_time": "2022-05-11T20:00:33.608Z"
   },
   {
    "duration": 17,
    "start_time": "2022-05-11T20:00:33.616Z"
   },
   {
    "duration": 36,
    "start_time": "2022-05-11T20:00:33.635Z"
   },
   {
    "duration": 19,
    "start_time": "2022-05-11T20:00:33.673Z"
   },
   {
    "duration": 18,
    "start_time": "2022-05-11T20:00:33.694Z"
   },
   {
    "duration": 5,
    "start_time": "2022-05-11T20:00:33.713Z"
   },
   {
    "duration": 12,
    "start_time": "2022-05-11T20:00:33.720Z"
   },
   {
    "duration": 11,
    "start_time": "2022-05-11T20:00:33.733Z"
   },
   {
    "duration": 31,
    "start_time": "2022-05-11T20:00:33.746Z"
   },
   {
    "duration": 9,
    "start_time": "2022-05-11T20:00:33.779Z"
   },
   {
    "duration": 132,
    "start_time": "2022-05-11T20:00:33.790Z"
   },
   {
    "duration": 7,
    "start_time": "2022-05-11T20:00:33.924Z"
   },
   {
    "duration": 18,
    "start_time": "2022-05-11T20:00:33.932Z"
   },
   {
    "duration": 364,
    "start_time": "2022-05-12T06:59:22.253Z"
   },
   {
    "duration": 72,
    "start_time": "2022-05-12T06:59:22.619Z"
   },
   {
    "duration": 22,
    "start_time": "2022-05-12T06:59:22.693Z"
   },
   {
    "duration": 15,
    "start_time": "2022-05-12T06:59:22.718Z"
   },
   {
    "duration": 10,
    "start_time": "2022-05-12T06:59:22.734Z"
   },
   {
    "duration": 5,
    "start_time": "2022-05-12T06:59:22.746Z"
   },
   {
    "duration": 13,
    "start_time": "2022-05-12T06:59:22.776Z"
   },
   {
    "duration": 12,
    "start_time": "2022-05-12T06:59:22.790Z"
   },
   {
    "duration": 7,
    "start_time": "2022-05-12T06:59:22.804Z"
   },
   {
    "duration": 4,
    "start_time": "2022-05-12T06:59:22.813Z"
   },
   {
    "duration": 6,
    "start_time": "2022-05-12T06:59:22.818Z"
   },
   {
    "duration": 7,
    "start_time": "2022-05-12T06:59:22.825Z"
   },
   {
    "duration": 3,
    "start_time": "2022-05-12T06:59:22.833Z"
   },
   {
    "duration": 7,
    "start_time": "2022-05-12T06:59:22.838Z"
   },
   {
    "duration": 36,
    "start_time": "2022-05-12T06:59:22.847Z"
   },
   {
    "duration": 26,
    "start_time": "2022-05-12T06:59:22.884Z"
   },
   {
    "duration": 7,
    "start_time": "2022-05-12T06:59:22.911Z"
   },
   {
    "duration": 8,
    "start_time": "2022-05-12T06:59:22.919Z"
   },
   {
    "duration": 23,
    "start_time": "2022-05-12T06:59:22.929Z"
   },
   {
    "duration": 3,
    "start_time": "2022-05-12T06:59:22.953Z"
   },
   {
    "duration": 21,
    "start_time": "2022-05-12T06:59:22.958Z"
   },
   {
    "duration": 29,
    "start_time": "2022-05-12T06:59:22.981Z"
   },
   {
    "duration": 4,
    "start_time": "2022-05-12T06:59:23.012Z"
   },
   {
    "duration": 21,
    "start_time": "2022-05-12T06:59:23.017Z"
   },
   {
    "duration": 147,
    "start_time": "2022-05-12T06:59:23.039Z"
   },
   {
    "duration": 16,
    "start_time": "2022-05-12T06:59:23.188Z"
   },
   {
    "duration": 5,
    "start_time": "2022-05-12T06:59:23.206Z"
   },
   {
    "duration": 9,
    "start_time": "2022-05-12T06:59:23.215Z"
   },
   {
    "duration": 4,
    "start_time": "2022-05-12T06:59:23.226Z"
   },
   {
    "duration": 5,
    "start_time": "2022-05-12T06:59:23.232Z"
   },
   {
    "duration": 5,
    "start_time": "2022-05-12T06:59:23.238Z"
   },
   {
    "duration": 7,
    "start_time": "2022-05-12T06:59:23.244Z"
   },
   {
    "duration": 29,
    "start_time": "2022-05-12T06:59:23.253Z"
   },
   {
    "duration": 6,
    "start_time": "2022-05-12T06:59:23.285Z"
   },
   {
    "duration": 12,
    "start_time": "2022-05-12T06:59:23.293Z"
   },
   {
    "duration": 9,
    "start_time": "2022-05-12T06:59:23.306Z"
   },
   {
    "duration": 5,
    "start_time": "2022-05-12T06:59:23.316Z"
   },
   {
    "duration": 6,
    "start_time": "2022-05-12T06:59:23.322Z"
   },
   {
    "duration": 5,
    "start_time": "2022-05-12T06:59:23.330Z"
   },
   {
    "duration": 9,
    "start_time": "2022-05-12T06:59:23.336Z"
   },
   {
    "duration": 40,
    "start_time": "2022-05-12T06:59:23.346Z"
   },
   {
    "duration": 21,
    "start_time": "2022-05-12T06:59:23.388Z"
   },
   {
    "duration": 18,
    "start_time": "2022-05-12T06:59:23.411Z"
   },
   {
    "duration": 17,
    "start_time": "2022-05-12T06:59:23.430Z"
   },
   {
    "duration": 6,
    "start_time": "2022-05-12T06:59:23.448Z"
   },
   {
    "duration": 46,
    "start_time": "2022-05-12T06:59:23.456Z"
   },
   {
    "duration": 7,
    "start_time": "2022-05-12T06:59:23.504Z"
   },
   {
    "duration": 18,
    "start_time": "2022-05-12T06:59:23.512Z"
   },
   {
    "duration": 6,
    "start_time": "2022-05-12T06:59:23.532Z"
   },
   {
    "duration": 12,
    "start_time": "2022-05-12T06:59:23.539Z"
   },
   {
    "duration": 39,
    "start_time": "2022-05-12T06:59:23.553Z"
   },
   {
    "duration": 10,
    "start_time": "2022-05-12T06:59:23.594Z"
   },
   {
    "duration": 10,
    "start_time": "2022-05-12T06:59:23.605Z"
   },
   {
    "duration": 14,
    "start_time": "2022-05-12T06:59:23.616Z"
   },
   {
    "duration": 3,
    "start_time": "2022-05-12T06:59:23.631Z"
   },
   {
    "duration": 14,
    "start_time": "2022-05-12T06:59:23.636Z"
   },
   {
    "duration": 32,
    "start_time": "2022-05-12T06:59:23.652Z"
   },
   {
    "duration": 18,
    "start_time": "2022-05-12T06:59:23.686Z"
   },
   {
    "duration": 11,
    "start_time": "2022-05-12T06:59:23.706Z"
   },
   {
    "duration": 10,
    "start_time": "2022-05-12T06:59:23.719Z"
   },
   {
    "duration": 8,
    "start_time": "2022-05-12T06:59:23.731Z"
   },
   {
    "duration": 4,
    "start_time": "2022-05-12T06:59:23.740Z"
   },
   {
    "duration": 166,
    "start_time": "2022-05-12T06:59:23.745Z"
   },
   {
    "duration": 7,
    "start_time": "2022-05-12T06:59:23.913Z"
   },
   {
    "duration": 17,
    "start_time": "2022-05-12T06:59:23.921Z"
   },
   {
    "duration": 3,
    "start_time": "2022-05-12T07:05:05.844Z"
   },
   {
    "duration": 139,
    "start_time": "2022-05-12T07:05:06.986Z"
   },
   {
    "duration": 7,
    "start_time": "2022-05-12T07:05:07.558Z"
   },
   {
    "duration": 419,
    "start_time": "2022-05-12T07:05:15.268Z"
   },
   {
    "duration": 61,
    "start_time": "2022-05-12T07:05:15.689Z"
   },
   {
    "duration": 23,
    "start_time": "2022-05-12T07:05:15.752Z"
   },
   {
    "duration": 21,
    "start_time": "2022-05-12T07:05:15.777Z"
   },
   {
    "duration": 12,
    "start_time": "2022-05-12T07:05:15.799Z"
   },
   {
    "duration": 7,
    "start_time": "2022-05-12T07:05:15.813Z"
   },
   {
    "duration": 6,
    "start_time": "2022-05-12T07:05:15.821Z"
   },
   {
    "duration": 5,
    "start_time": "2022-05-12T07:05:15.828Z"
   },
   {
    "duration": 3,
    "start_time": "2022-05-12T07:05:15.834Z"
   },
   {
    "duration": 7,
    "start_time": "2022-05-12T07:05:15.840Z"
   },
   {
    "duration": 34,
    "start_time": "2022-05-12T07:05:15.849Z"
   },
   {
    "duration": 10,
    "start_time": "2022-05-12T07:05:15.891Z"
   },
   {
    "duration": 3,
    "start_time": "2022-05-12T07:05:15.903Z"
   },
   {
    "duration": 6,
    "start_time": "2022-05-12T07:05:15.908Z"
   },
   {
    "duration": 6,
    "start_time": "2022-05-12T07:05:15.915Z"
   },
   {
    "duration": 16,
    "start_time": "2022-05-12T07:05:15.922Z"
   },
   {
    "duration": 8,
    "start_time": "2022-05-12T07:05:15.939Z"
   },
   {
    "duration": 6,
    "start_time": "2022-05-12T07:05:15.949Z"
   },
   {
    "duration": 26,
    "start_time": "2022-05-12T07:05:15.971Z"
   },
   {
    "duration": 5,
    "start_time": "2022-05-12T07:05:15.999Z"
   },
   {
    "duration": 5,
    "start_time": "2022-05-12T07:05:16.005Z"
   },
   {
    "duration": 6,
    "start_time": "2022-05-12T07:05:16.012Z"
   },
   {
    "duration": 5,
    "start_time": "2022-05-12T07:05:16.020Z"
   },
   {
    "duration": 51,
    "start_time": "2022-05-12T07:05:16.026Z"
   },
   {
    "duration": 144,
    "start_time": "2022-05-12T07:05:16.079Z"
   },
   {
    "duration": 12,
    "start_time": "2022-05-12T07:05:16.225Z"
   },
   {
    "duration": 4,
    "start_time": "2022-05-12T07:05:16.239Z"
   },
   {
    "duration": 30,
    "start_time": "2022-05-12T07:05:16.247Z"
   },
   {
    "duration": 24,
    "start_time": "2022-05-12T07:05:16.278Z"
   },
   {
    "duration": 5,
    "start_time": "2022-05-12T07:05:16.304Z"
   },
   {
    "duration": 5,
    "start_time": "2022-05-12T07:05:16.310Z"
   },
   {
    "duration": 9,
    "start_time": "2022-05-12T07:05:16.316Z"
   },
   {
    "duration": 6,
    "start_time": "2022-05-12T07:05:16.326Z"
   },
   {
    "duration": 3,
    "start_time": "2022-05-12T07:05:16.334Z"
   },
   {
    "duration": 6,
    "start_time": "2022-05-12T07:05:16.338Z"
   },
   {
    "duration": 8,
    "start_time": "2022-05-12T07:05:16.345Z"
   },
   {
    "duration": 22,
    "start_time": "2022-05-12T07:05:16.354Z"
   },
   {
    "duration": 28,
    "start_time": "2022-05-12T07:05:16.378Z"
   },
   {
    "duration": 6,
    "start_time": "2022-05-12T07:05:16.407Z"
   },
   {
    "duration": 8,
    "start_time": "2022-05-12T07:05:16.414Z"
   },
   {
    "duration": 8,
    "start_time": "2022-05-12T07:05:16.424Z"
   },
   {
    "duration": 19,
    "start_time": "2022-05-12T07:05:16.433Z"
   },
   {
    "duration": 38,
    "start_time": "2022-05-12T07:05:16.454Z"
   },
   {
    "duration": 18,
    "start_time": "2022-05-12T07:05:16.497Z"
   },
   {
    "duration": 6,
    "start_time": "2022-05-12T07:05:16.517Z"
   },
   {
    "duration": 16,
    "start_time": "2022-05-12T07:05:16.525Z"
   },
   {
    "duration": 7,
    "start_time": "2022-05-12T07:05:16.543Z"
   },
   {
    "duration": 48,
    "start_time": "2022-05-12T07:05:16.551Z"
   },
   {
    "duration": 7,
    "start_time": "2022-05-12T07:05:16.601Z"
   },
   {
    "duration": 12,
    "start_time": "2022-05-12T07:05:16.610Z"
   },
   {
    "duration": 8,
    "start_time": "2022-05-12T07:05:16.624Z"
   },
   {
    "duration": 9,
    "start_time": "2022-05-12T07:05:16.633Z"
   },
   {
    "duration": 38,
    "start_time": "2022-05-12T07:05:16.643Z"
   },
   {
    "duration": 29,
    "start_time": "2022-05-12T07:05:16.683Z"
   },
   {
    "duration": 4,
    "start_time": "2022-05-12T07:05:16.713Z"
   },
   {
    "duration": 14,
    "start_time": "2022-05-12T07:05:16.718Z"
   },
   {
    "duration": 12,
    "start_time": "2022-05-12T07:05:16.733Z"
   },
   {
    "duration": 4,
    "start_time": "2022-05-12T07:05:16.747Z"
   },
   {
    "duration": 11,
    "start_time": "2022-05-12T07:05:16.752Z"
   },
   {
    "duration": 22,
    "start_time": "2022-05-12T07:05:16.778Z"
   },
   {
    "duration": 8,
    "start_time": "2022-05-12T07:05:16.801Z"
   },
   {
    "duration": 4,
    "start_time": "2022-05-12T07:05:16.811Z"
   },
   {
    "duration": 132,
    "start_time": "2022-05-12T07:05:16.817Z"
   },
   {
    "duration": 6,
    "start_time": "2022-05-12T07:05:16.951Z"
   },
   {
    "duration": 34,
    "start_time": "2022-05-12T07:05:16.959Z"
   },
   {
    "duration": 387,
    "start_time": "2022-05-12T07:09:20.125Z"
   },
   {
    "duration": 53,
    "start_time": "2022-05-12T07:09:20.514Z"
   },
   {
    "duration": 22,
    "start_time": "2022-05-12T07:09:20.571Z"
   },
   {
    "duration": 34,
    "start_time": "2022-05-12T07:09:20.594Z"
   },
   {
    "duration": 9,
    "start_time": "2022-05-12T07:09:20.630Z"
   },
   {
    "duration": 5,
    "start_time": "2022-05-12T07:09:20.640Z"
   },
   {
    "duration": 6,
    "start_time": "2022-05-12T07:09:20.647Z"
   },
   {
    "duration": 8,
    "start_time": "2022-05-12T07:09:20.654Z"
   },
   {
    "duration": 8,
    "start_time": "2022-05-12T07:09:20.674Z"
   },
   {
    "duration": 32,
    "start_time": "2022-05-12T07:09:20.685Z"
   },
   {
    "duration": 9,
    "start_time": "2022-05-12T07:09:20.719Z"
   },
   {
    "duration": 7,
    "start_time": "2022-05-12T07:09:20.730Z"
   },
   {
    "duration": 4,
    "start_time": "2022-05-12T07:09:20.739Z"
   },
   {
    "duration": 7,
    "start_time": "2022-05-12T07:09:20.744Z"
   },
   {
    "duration": 5,
    "start_time": "2022-05-12T07:09:20.752Z"
   },
   {
    "duration": 25,
    "start_time": "2022-05-12T07:09:20.759Z"
   },
   {
    "duration": 31,
    "start_time": "2022-05-12T07:09:20.785Z"
   },
   {
    "duration": 6,
    "start_time": "2022-05-12T07:09:20.818Z"
   },
   {
    "duration": 24,
    "start_time": "2022-05-12T07:09:20.825Z"
   },
   {
    "duration": 3,
    "start_time": "2022-05-12T07:09:20.850Z"
   },
   {
    "duration": 7,
    "start_time": "2022-05-12T07:09:20.855Z"
   },
   {
    "duration": 4,
    "start_time": "2022-05-12T07:09:20.863Z"
   },
   {
    "duration": 40,
    "start_time": "2022-05-12T07:09:20.869Z"
   },
   {
    "duration": 23,
    "start_time": "2022-05-12T07:09:20.911Z"
   },
   {
    "duration": 149,
    "start_time": "2022-05-12T07:09:20.936Z"
   },
   {
    "duration": 19,
    "start_time": "2022-05-12T07:09:21.087Z"
   },
   {
    "duration": 8,
    "start_time": "2022-05-12T07:09:21.107Z"
   },
   {
    "duration": 9,
    "start_time": "2022-05-12T07:09:21.119Z"
   },
   {
    "duration": 4,
    "start_time": "2022-05-12T07:09:21.130Z"
   },
   {
    "duration": 3,
    "start_time": "2022-05-12T07:09:21.136Z"
   },
   {
    "duration": 4,
    "start_time": "2022-05-12T07:09:21.140Z"
   },
   {
    "duration": 39,
    "start_time": "2022-05-12T07:09:21.145Z"
   },
   {
    "duration": 29,
    "start_time": "2022-05-12T07:09:21.189Z"
   },
   {
    "duration": 6,
    "start_time": "2022-05-12T07:09:21.220Z"
   },
   {
    "duration": 5,
    "start_time": "2022-05-12T07:09:21.228Z"
   },
   {
    "duration": 9,
    "start_time": "2022-05-12T07:09:21.235Z"
   },
   {
    "duration": 6,
    "start_time": "2022-05-12T07:09:21.247Z"
   },
   {
    "duration": 8,
    "start_time": "2022-05-12T07:09:21.254Z"
   },
   {
    "duration": 19,
    "start_time": "2022-05-12T07:09:21.264Z"
   },
   {
    "duration": 35,
    "start_time": "2022-05-12T07:09:21.285Z"
   },
   {
    "duration": 8,
    "start_time": "2022-05-12T07:09:21.321Z"
   },
   {
    "duration": 20,
    "start_time": "2022-05-12T07:09:21.331Z"
   },
   {
    "duration": 25,
    "start_time": "2022-05-12T07:09:21.353Z"
   },
   {
    "duration": 32,
    "start_time": "2022-05-12T07:09:21.381Z"
   },
   {
    "duration": 8,
    "start_time": "2022-05-12T07:09:21.414Z"
   },
   {
    "duration": 16,
    "start_time": "2022-05-12T07:09:21.423Z"
   },
   {
    "duration": 5,
    "start_time": "2022-05-12T07:09:21.441Z"
   },
   {
    "duration": 46,
    "start_time": "2022-05-12T07:09:21.448Z"
   },
   {
    "duration": 22,
    "start_time": "2022-05-12T07:09:21.496Z"
   },
   {
    "duration": 14,
    "start_time": "2022-05-12T07:09:21.520Z"
   },
   {
    "duration": 8,
    "start_time": "2022-05-12T07:09:21.536Z"
   },
   {
    "duration": 8,
    "start_time": "2022-05-12T07:09:21.546Z"
   },
   {
    "duration": 6,
    "start_time": "2022-05-12T07:09:21.555Z"
   },
   {
    "duration": 21,
    "start_time": "2022-05-12T07:09:21.562Z"
   },
   {
    "duration": 32,
    "start_time": "2022-05-12T07:09:21.584Z"
   },
   {
    "duration": 14,
    "start_time": "2022-05-12T07:09:21.617Z"
   },
   {
    "duration": 13,
    "start_time": "2022-05-12T07:09:21.632Z"
   },
   {
    "duration": 4,
    "start_time": "2022-05-12T07:09:21.646Z"
   },
   {
    "duration": 12,
    "start_time": "2022-05-12T07:09:21.652Z"
   },
   {
    "duration": 23,
    "start_time": "2022-05-12T07:09:21.665Z"
   },
   {
    "duration": 26,
    "start_time": "2022-05-12T07:09:21.692Z"
   },
   {
    "duration": 5,
    "start_time": "2022-05-12T07:09:21.720Z"
   },
   {
    "duration": 139,
    "start_time": "2022-05-12T07:09:21.726Z"
   },
   {
    "duration": 13,
    "start_time": "2022-05-12T07:09:21.867Z"
   },
   {
    "duration": 43,
    "start_time": "2022-05-12T07:09:21.882Z"
   },
   {
    "duration": 375,
    "start_time": "2022-05-12T07:10:50.237Z"
   },
   {
    "duration": 53,
    "start_time": "2022-05-12T07:10:50.614Z"
   },
   {
    "duration": 29,
    "start_time": "2022-05-12T07:10:50.668Z"
   },
   {
    "duration": 29,
    "start_time": "2022-05-12T07:10:50.699Z"
   },
   {
    "duration": 9,
    "start_time": "2022-05-12T07:10:50.730Z"
   },
   {
    "duration": 4,
    "start_time": "2022-05-12T07:10:50.740Z"
   },
   {
    "duration": 7,
    "start_time": "2022-05-12T07:10:50.746Z"
   },
   {
    "duration": 17,
    "start_time": "2022-05-12T07:10:50.755Z"
   },
   {
    "duration": 7,
    "start_time": "2022-05-12T07:10:50.782Z"
   },
   {
    "duration": 23,
    "start_time": "2022-05-12T07:10:50.793Z"
   },
   {
    "duration": 5,
    "start_time": "2022-05-12T07:10:50.817Z"
   },
   {
    "duration": 7,
    "start_time": "2022-05-12T07:10:50.824Z"
   },
   {
    "duration": 4,
    "start_time": "2022-05-12T07:10:50.832Z"
   },
   {
    "duration": 9,
    "start_time": "2022-05-12T07:10:50.837Z"
   },
   {
    "duration": 5,
    "start_time": "2022-05-12T07:10:50.847Z"
   },
   {
    "duration": 29,
    "start_time": "2022-05-12T07:10:50.854Z"
   },
   {
    "duration": 29,
    "start_time": "2022-05-12T07:10:50.885Z"
   },
   {
    "duration": 7,
    "start_time": "2022-05-12T07:10:50.916Z"
   },
   {
    "duration": 24,
    "start_time": "2022-05-12T07:10:50.924Z"
   },
   {
    "duration": 3,
    "start_time": "2022-05-12T07:10:50.950Z"
   },
   {
    "duration": 6,
    "start_time": "2022-05-12T07:10:50.955Z"
   },
   {
    "duration": 6,
    "start_time": "2022-05-12T07:10:50.963Z"
   },
   {
    "duration": 36,
    "start_time": "2022-05-12T07:10:50.979Z"
   },
   {
    "duration": 22,
    "start_time": "2022-05-12T07:10:51.016Z"
   },
   {
    "duration": 139,
    "start_time": "2022-05-12T07:10:51.040Z"
   },
   {
    "duration": 23,
    "start_time": "2022-05-12T07:10:51.182Z"
   },
   {
    "duration": 6,
    "start_time": "2022-05-12T07:10:51.214Z"
   },
   {
    "duration": 9,
    "start_time": "2022-05-12T07:10:51.224Z"
   },
   {
    "duration": 12,
    "start_time": "2022-05-12T07:10:51.235Z"
   },
   {
    "duration": 3,
    "start_time": "2022-05-12T07:10:51.249Z"
   },
   {
    "duration": 4,
    "start_time": "2022-05-12T07:10:51.254Z"
   },
   {
    "duration": 22,
    "start_time": "2022-05-12T07:10:51.260Z"
   },
   {
    "duration": 33,
    "start_time": "2022-05-12T07:10:51.284Z"
   },
   {
    "duration": 4,
    "start_time": "2022-05-12T07:10:51.319Z"
   },
   {
    "duration": 4,
    "start_time": "2022-05-12T07:10:51.325Z"
   },
   {
    "duration": 7,
    "start_time": "2022-05-12T07:10:51.331Z"
   },
   {
    "duration": 5,
    "start_time": "2022-05-12T07:10:51.340Z"
   },
   {
    "duration": 6,
    "start_time": "2022-05-12T07:10:51.347Z"
   },
   {
    "duration": 6,
    "start_time": "2022-05-12T07:10:51.354Z"
   },
   {
    "duration": 22,
    "start_time": "2022-05-12T07:10:51.361Z"
   },
   {
    "duration": 30,
    "start_time": "2022-05-12T07:10:51.385Z"
   },
   {
    "duration": 16,
    "start_time": "2022-05-12T07:10:51.417Z"
   },
   {
    "duration": 18,
    "start_time": "2022-05-12T07:10:51.435Z"
   },
   {
    "duration": 16,
    "start_time": "2022-05-12T07:10:51.454Z"
   },
   {
    "duration": 22,
    "start_time": "2022-05-12T07:10:51.471Z"
   },
   {
    "duration": 35,
    "start_time": "2022-05-12T07:10:51.495Z"
   },
   {
    "duration": 8,
    "start_time": "2022-05-12T07:10:51.531Z"
   },
   {
    "duration": 19,
    "start_time": "2022-05-12T07:10:51.540Z"
   },
   {
    "duration": 7,
    "start_time": "2022-05-12T07:10:51.560Z"
   },
   {
    "duration": 47,
    "start_time": "2022-05-12T07:10:51.569Z"
   },
   {
    "duration": 6,
    "start_time": "2022-05-12T07:10:51.618Z"
   },
   {
    "duration": 8,
    "start_time": "2022-05-12T07:10:51.625Z"
   },
   {
    "duration": 5,
    "start_time": "2022-05-12T07:10:51.634Z"
   },
   {
    "duration": 11,
    "start_time": "2022-05-12T07:10:51.641Z"
   },
   {
    "duration": 4,
    "start_time": "2022-05-12T07:10:51.653Z"
   },
   {
    "duration": 15,
    "start_time": "2022-05-12T07:10:51.658Z"
   },
   {
    "duration": 18,
    "start_time": "2022-05-12T07:10:51.675Z"
   },
   {
    "duration": 15,
    "start_time": "2022-05-12T07:10:51.699Z"
   },
   {
    "duration": 13,
    "start_time": "2022-05-12T07:10:51.716Z"
   },
   {
    "duration": 11,
    "start_time": "2022-05-12T07:10:51.731Z"
   },
   {
    "duration": 9,
    "start_time": "2022-05-12T07:10:51.743Z"
   },
   {
    "duration": 5,
    "start_time": "2022-05-12T07:10:51.753Z"
   },
   {
    "duration": 163,
    "start_time": "2022-05-12T07:10:51.759Z"
   },
   {
    "duration": 7,
    "start_time": "2022-05-12T07:10:51.923Z"
   },
   {
    "duration": 14,
    "start_time": "2022-05-12T07:10:51.932Z"
   },
   {
    "duration": 165,
    "start_time": "2022-05-12T07:11:39.955Z"
   },
   {
    "duration": 13,
    "start_time": "2022-05-12T07:11:40.593Z"
   },
   {
    "duration": 5,
    "start_time": "2022-05-12T07:12:15.025Z"
   },
   {
    "duration": 382,
    "start_time": "2022-05-12T07:13:04.142Z"
   },
   {
    "duration": 57,
    "start_time": "2022-05-12T07:13:04.526Z"
   },
   {
    "duration": 27,
    "start_time": "2022-05-12T07:13:04.585Z"
   },
   {
    "duration": 14,
    "start_time": "2022-05-12T07:13:04.615Z"
   },
   {
    "duration": 12,
    "start_time": "2022-05-12T07:13:04.630Z"
   },
   {
    "duration": 5,
    "start_time": "2022-05-12T07:13:04.643Z"
   },
   {
    "duration": 28,
    "start_time": "2022-05-12T07:13:04.649Z"
   },
   {
    "duration": 6,
    "start_time": "2022-05-12T07:13:04.682Z"
   },
   {
    "duration": 25,
    "start_time": "2022-05-12T07:13:04.691Z"
   },
   {
    "duration": 4,
    "start_time": "2022-05-12T07:13:04.718Z"
   },
   {
    "duration": 10,
    "start_time": "2022-05-12T07:13:04.723Z"
   },
   {
    "duration": 8,
    "start_time": "2022-05-12T07:13:04.734Z"
   },
   {
    "duration": 3,
    "start_time": "2022-05-12T07:13:04.743Z"
   },
   {
    "duration": 6,
    "start_time": "2022-05-12T07:13:04.748Z"
   },
   {
    "duration": 5,
    "start_time": "2022-05-12T07:13:04.756Z"
   },
   {
    "duration": 31,
    "start_time": "2022-05-12T07:13:04.763Z"
   },
   {
    "duration": 21,
    "start_time": "2022-05-12T07:13:04.795Z"
   },
   {
    "duration": 8,
    "start_time": "2022-05-12T07:13:04.819Z"
   },
   {
    "duration": 23,
    "start_time": "2022-05-12T07:13:04.829Z"
   },
   {
    "duration": 3,
    "start_time": "2022-05-12T07:13:04.853Z"
   },
   {
    "duration": 7,
    "start_time": "2022-05-12T07:13:04.858Z"
   },
   {
    "duration": 11,
    "start_time": "2022-05-12T07:13:04.867Z"
   },
   {
    "duration": 38,
    "start_time": "2022-05-12T07:13:04.882Z"
   },
   {
    "duration": 20,
    "start_time": "2022-05-12T07:13:04.922Z"
   },
   {
    "duration": 162,
    "start_time": "2022-05-12T07:13:04.943Z"
   },
   {
    "duration": 12,
    "start_time": "2022-05-12T07:13:05.110Z"
   },
   {
    "duration": 7,
    "start_time": "2022-05-12T07:13:05.124Z"
   },
   {
    "duration": 11,
    "start_time": "2022-05-12T07:13:05.135Z"
   },
   {
    "duration": 6,
    "start_time": "2022-05-12T07:13:05.147Z"
   },
   {
    "duration": 8,
    "start_time": "2022-05-12T07:13:05.177Z"
   },
   {
    "duration": 30,
    "start_time": "2022-05-12T07:13:05.186Z"
   },
   {
    "duration": 7,
    "start_time": "2022-05-12T07:13:05.218Z"
   },
   {
    "duration": 7,
    "start_time": "2022-05-12T07:13:05.227Z"
   },
   {
    "duration": 4,
    "start_time": "2022-05-12T07:13:05.235Z"
   },
   {
    "duration": 8,
    "start_time": "2022-05-12T07:13:05.241Z"
   },
   {
    "duration": 6,
    "start_time": "2022-05-12T07:13:05.250Z"
   },
   {
    "duration": 4,
    "start_time": "2022-05-12T07:13:05.258Z"
   },
   {
    "duration": 8,
    "start_time": "2022-05-12T07:13:05.263Z"
   },
   {
    "duration": 29,
    "start_time": "2022-05-12T07:13:05.289Z"
   },
   {
    "duration": 16,
    "start_time": "2022-05-12T07:13:05.320Z"
   },
   {
    "duration": 13,
    "start_time": "2022-05-12T07:13:05.337Z"
   },
   {
    "duration": 17,
    "start_time": "2022-05-12T07:13:05.351Z"
   },
   {
    "duration": 35,
    "start_time": "2022-05-12T07:13:05.369Z"
   },
   {
    "duration": 27,
    "start_time": "2022-05-12T07:13:05.406Z"
   },
   {
    "duration": 7,
    "start_time": "2022-05-12T07:13:05.435Z"
   },
   {
    "duration": 16,
    "start_time": "2022-05-12T07:13:05.444Z"
   },
   {
    "duration": 26,
    "start_time": "2022-05-12T07:13:05.462Z"
   },
   {
    "duration": 33,
    "start_time": "2022-05-12T07:13:05.492Z"
   },
   {
    "duration": 8,
    "start_time": "2022-05-12T07:13:05.526Z"
   },
   {
    "duration": 13,
    "start_time": "2022-05-12T07:13:05.536Z"
   },
   {
    "duration": 7,
    "start_time": "2022-05-12T07:13:05.551Z"
   },
   {
    "duration": 29,
    "start_time": "2022-05-12T07:13:05.560Z"
   },
   {
    "duration": 25,
    "start_time": "2022-05-12T07:13:05.591Z"
   },
   {
    "duration": 12,
    "start_time": "2022-05-12T07:13:05.618Z"
   },
   {
    "duration": 4,
    "start_time": "2022-05-12T07:13:05.632Z"
   },
   {
    "duration": 13,
    "start_time": "2022-05-12T07:13:05.638Z"
   },
   {
    "duration": 13,
    "start_time": "2022-05-12T07:13:05.653Z"
   },
   {
    "duration": 33,
    "start_time": "2022-05-12T07:13:05.668Z"
   },
   {
    "duration": 17,
    "start_time": "2022-05-12T07:13:05.703Z"
   },
   {
    "duration": 10,
    "start_time": "2022-05-12T07:13:05.722Z"
   },
   {
    "duration": 16,
    "start_time": "2022-05-12T07:13:05.733Z"
   },
   {
    "duration": 9,
    "start_time": "2022-05-12T07:13:05.751Z"
   },
   {
    "duration": 5,
    "start_time": "2022-05-12T07:13:05.761Z"
   },
   {
    "duration": 175,
    "start_time": "2022-05-12T07:13:05.767Z"
   },
   {
    "duration": 6,
    "start_time": "2022-05-12T07:13:05.944Z"
   },
   {
    "duration": 23,
    "start_time": "2022-05-12T07:13:05.951Z"
   },
   {
    "duration": 79,
    "start_time": "2022-05-12T07:13:23.378Z"
   },
   {
    "duration": 33,
    "start_time": "2022-05-12T07:13:51.164Z"
   },
   {
    "duration": 17,
    "start_time": "2022-05-12T07:14:16.452Z"
   },
   {
    "duration": 4,
    "start_time": "2022-05-12T07:15:39.859Z"
   },
   {
    "duration": 140,
    "start_time": "2022-05-12T07:15:40.499Z"
   },
   {
    "duration": 12,
    "start_time": "2022-05-12T07:15:40.997Z"
   },
   {
    "duration": 9,
    "start_time": "2022-05-12T07:19:39.074Z"
   },
   {
    "duration": 168,
    "start_time": "2022-05-12T07:19:40.598Z"
   },
   {
    "duration": 7,
    "start_time": "2022-05-12T07:19:41.407Z"
   },
   {
    "duration": 5,
    "start_time": "2022-05-12T07:20:01.858Z"
   },
   {
    "duration": 144,
    "start_time": "2022-05-12T07:20:02.497Z"
   },
   {
    "duration": 11,
    "start_time": "2022-05-12T07:20:04.090Z"
   },
   {
    "duration": 7,
    "start_time": "2022-05-12T07:20:49.675Z"
   },
   {
    "duration": 139,
    "start_time": "2022-05-12T07:20:50.306Z"
   },
   {
    "duration": 6,
    "start_time": "2022-05-12T07:20:51.506Z"
   },
   {
    "duration": 388,
    "start_time": "2022-05-12T07:21:23.155Z"
   },
   {
    "duration": 73,
    "start_time": "2022-05-12T07:21:23.545Z"
   },
   {
    "duration": 17,
    "start_time": "2022-05-12T07:21:23.620Z"
   },
   {
    "duration": 17,
    "start_time": "2022-05-12T07:21:23.639Z"
   },
   {
    "duration": 23,
    "start_time": "2022-05-12T07:21:23.657Z"
   },
   {
    "duration": 43,
    "start_time": "2022-05-12T07:21:23.686Z"
   },
   {
    "duration": 10,
    "start_time": "2022-05-12T07:21:23.730Z"
   },
   {
    "duration": 4,
    "start_time": "2022-05-12T07:21:23.741Z"
   },
   {
    "duration": 4,
    "start_time": "2022-05-12T07:21:23.747Z"
   },
   {
    "duration": 3,
    "start_time": "2022-05-12T07:21:23.753Z"
   },
   {
    "duration": 6,
    "start_time": "2022-05-12T07:21:23.758Z"
   },
   {
    "duration": 19,
    "start_time": "2022-05-12T07:21:23.765Z"
   },
   {
    "duration": 42,
    "start_time": "2022-05-12T07:21:23.785Z"
   },
   {
    "duration": 8,
    "start_time": "2022-05-12T07:21:23.828Z"
   },
   {
    "duration": 5,
    "start_time": "2022-05-12T07:21:23.838Z"
   },
   {
    "duration": 14,
    "start_time": "2022-05-12T07:21:23.845Z"
   },
   {
    "duration": 4,
    "start_time": "2022-05-12T07:21:23.860Z"
   },
   {
    "duration": 14,
    "start_time": "2022-05-12T07:21:23.866Z"
   },
   {
    "duration": 56,
    "start_time": "2022-05-12T07:21:23.882Z"
   },
   {
    "duration": 3,
    "start_time": "2022-05-12T07:21:23.940Z"
   },
   {
    "duration": 7,
    "start_time": "2022-05-12T07:21:23.944Z"
   },
   {
    "duration": 7,
    "start_time": "2022-05-12T07:21:23.952Z"
   },
   {
    "duration": 6,
    "start_time": "2022-05-12T07:21:23.960Z"
   },
   {
    "duration": 60,
    "start_time": "2022-05-12T07:21:23.967Z"
   },
   {
    "duration": 142,
    "start_time": "2022-05-12T07:21:24.028Z"
   },
   {
    "duration": 29,
    "start_time": "2022-05-12T07:21:24.179Z"
   },
   {
    "duration": 8,
    "start_time": "2022-05-12T07:21:24.211Z"
   },
   {
    "duration": 13,
    "start_time": "2022-05-12T07:21:24.223Z"
   },
   {
    "duration": 5,
    "start_time": "2022-05-12T07:21:24.238Z"
   },
   {
    "duration": 4,
    "start_time": "2022-05-12T07:21:24.245Z"
   },
   {
    "duration": 8,
    "start_time": "2022-05-12T07:21:24.250Z"
   },
   {
    "duration": 57,
    "start_time": "2022-05-12T07:21:24.259Z"
   },
   {
    "duration": 9,
    "start_time": "2022-05-12T07:21:24.317Z"
   },
   {
    "duration": 4,
    "start_time": "2022-05-12T07:21:24.327Z"
   },
   {
    "duration": 8,
    "start_time": "2022-05-12T07:21:24.333Z"
   },
   {
    "duration": 6,
    "start_time": "2022-05-12T07:21:24.342Z"
   },
   {
    "duration": 5,
    "start_time": "2022-05-12T07:21:24.350Z"
   },
   {
    "duration": 8,
    "start_time": "2022-05-12T07:21:24.357Z"
   },
   {
    "duration": 20,
    "start_time": "2022-05-12T07:21:24.366Z"
   },
   {
    "duration": 32,
    "start_time": "2022-05-12T07:21:24.389Z"
   },
   {
    "duration": 11,
    "start_time": "2022-05-12T07:21:24.423Z"
   },
   {
    "duration": 18,
    "start_time": "2022-05-12T07:21:24.436Z"
   },
   {
    "duration": 18,
    "start_time": "2022-05-12T07:21:24.456Z"
   },
   {
    "duration": 25,
    "start_time": "2022-05-12T07:21:24.476Z"
   },
   {
    "duration": 22,
    "start_time": "2022-05-12T07:21:24.503Z"
   },
   {
    "duration": 16,
    "start_time": "2022-05-12T07:21:24.527Z"
   },
   {
    "duration": 6,
    "start_time": "2022-05-12T07:21:24.545Z"
   },
   {
    "duration": 35,
    "start_time": "2022-05-12T07:21:24.553Z"
   },
   {
    "duration": 32,
    "start_time": "2022-05-12T07:21:24.596Z"
   },
   {
    "duration": 13,
    "start_time": "2022-05-12T07:21:24.629Z"
   },
   {
    "duration": 8,
    "start_time": "2022-05-12T07:21:24.643Z"
   },
   {
    "duration": 11,
    "start_time": "2022-05-12T07:21:24.652Z"
   },
   {
    "duration": 5,
    "start_time": "2022-05-12T07:21:24.665Z"
   },
   {
    "duration": 48,
    "start_time": "2022-05-12T07:21:24.679Z"
   },
   {
    "duration": 4,
    "start_time": "2022-05-12T07:21:24.729Z"
   },
   {
    "duration": 16,
    "start_time": "2022-05-12T07:21:24.734Z"
   },
   {
    "duration": 12,
    "start_time": "2022-05-12T07:21:24.752Z"
   },
   {
    "duration": 7,
    "start_time": "2022-05-12T07:21:24.766Z"
   },
   {
    "duration": 41,
    "start_time": "2022-05-12T07:21:24.780Z"
   },
   {
    "duration": 11,
    "start_time": "2022-05-12T07:21:24.823Z"
   },
   {
    "duration": 6,
    "start_time": "2022-05-12T07:21:24.835Z"
   },
   {
    "duration": 11,
    "start_time": "2022-05-12T07:21:24.843Z"
   },
   {
    "duration": 8,
    "start_time": "2022-05-12T07:21:24.856Z"
   },
   {
    "duration": 183,
    "start_time": "2022-05-12T07:21:24.866Z"
   },
   {
    "duration": 7,
    "start_time": "2022-05-12T07:21:25.051Z"
   },
   {
    "duration": 32,
    "start_time": "2022-05-12T07:21:25.060Z"
   },
   {
    "duration": 47,
    "start_time": "2022-05-12T07:21:25.096Z"
   },
   {
    "duration": 410,
    "start_time": "2022-05-12T07:22:15.403Z"
   },
   {
    "duration": 55,
    "start_time": "2022-05-12T07:22:15.816Z"
   },
   {
    "duration": 25,
    "start_time": "2022-05-12T07:22:15.875Z"
   },
   {
    "duration": 26,
    "start_time": "2022-05-12T07:22:15.902Z"
   },
   {
    "duration": 10,
    "start_time": "2022-05-12T07:22:15.930Z"
   },
   {
    "duration": 5,
    "start_time": "2022-05-12T07:22:15.941Z"
   },
   {
    "duration": 7,
    "start_time": "2022-05-12T07:22:15.947Z"
   },
   {
    "duration": 22,
    "start_time": "2022-05-12T07:22:15.955Z"
   },
   {
    "duration": 33,
    "start_time": "2022-05-12T07:22:15.978Z"
   },
   {
    "duration": 5,
    "start_time": "2022-05-12T07:22:16.013Z"
   },
   {
    "duration": 6,
    "start_time": "2022-05-12T07:22:16.019Z"
   },
   {
    "duration": 6,
    "start_time": "2022-05-12T07:22:16.027Z"
   },
   {
    "duration": 3,
    "start_time": "2022-05-12T07:22:16.035Z"
   },
   {
    "duration": 5,
    "start_time": "2022-05-12T07:22:16.042Z"
   },
   {
    "duration": 7,
    "start_time": "2022-05-12T07:22:16.049Z"
   },
   {
    "duration": 33,
    "start_time": "2022-05-12T07:22:16.058Z"
   },
   {
    "duration": 26,
    "start_time": "2022-05-12T07:22:16.092Z"
   },
   {
    "duration": 8,
    "start_time": "2022-05-12T07:22:16.120Z"
   },
   {
    "duration": 24,
    "start_time": "2022-05-12T07:22:16.129Z"
   },
   {
    "duration": 3,
    "start_time": "2022-05-12T07:22:16.154Z"
   },
   {
    "duration": 7,
    "start_time": "2022-05-12T07:22:16.158Z"
   },
   {
    "duration": 18,
    "start_time": "2022-05-12T07:22:16.166Z"
   },
   {
    "duration": 29,
    "start_time": "2022-05-12T07:22:16.187Z"
   },
   {
    "duration": 23,
    "start_time": "2022-05-12T07:22:16.218Z"
   },
   {
    "duration": 143,
    "start_time": "2022-05-12T07:22:16.242Z"
   },
   {
    "duration": 17,
    "start_time": "2022-05-12T07:22:16.387Z"
   },
   {
    "duration": 12,
    "start_time": "2022-05-12T07:22:16.407Z"
   },
   {
    "duration": 13,
    "start_time": "2022-05-12T07:22:16.421Z"
   },
   {
    "duration": 5,
    "start_time": "2022-05-12T07:22:16.435Z"
   },
   {
    "duration": 5,
    "start_time": "2022-05-12T07:22:16.441Z"
   },
   {
    "duration": 25,
    "start_time": "2022-05-12T07:22:16.448Z"
   },
   {
    "duration": 5,
    "start_time": "2022-05-12T07:22:16.478Z"
   },
   {
    "duration": 32,
    "start_time": "2022-05-12T07:22:16.485Z"
   },
   {
    "duration": 5,
    "start_time": "2022-05-12T07:22:16.519Z"
   },
   {
    "duration": 6,
    "start_time": "2022-05-12T07:22:16.525Z"
   },
   {
    "duration": 8,
    "start_time": "2022-05-12T07:22:16.533Z"
   },
   {
    "duration": 7,
    "start_time": "2022-05-12T07:22:16.543Z"
   },
   {
    "duration": 8,
    "start_time": "2022-05-12T07:22:16.552Z"
   },
   {
    "duration": 12,
    "start_time": "2022-05-12T07:22:16.562Z"
   },
   {
    "duration": 24,
    "start_time": "2022-05-12T07:22:16.591Z"
   },
   {
    "duration": 9,
    "start_time": "2022-05-12T07:22:16.619Z"
   },
   {
    "duration": 19,
    "start_time": "2022-05-12T07:22:16.629Z"
   },
   {
    "duration": 19,
    "start_time": "2022-05-12T07:22:16.650Z"
   },
   {
    "duration": 27,
    "start_time": "2022-05-12T07:22:16.670Z"
   },
   {
    "duration": 20,
    "start_time": "2022-05-12T07:22:16.700Z"
   },
   {
    "duration": 16,
    "start_time": "2022-05-12T07:22:16.722Z"
   },
   {
    "duration": 7,
    "start_time": "2022-05-12T07:22:16.740Z"
   },
   {
    "duration": 24,
    "start_time": "2022-05-12T07:22:16.748Z"
   },
   {
    "duration": 19,
    "start_time": "2022-05-12T07:22:16.778Z"
   },
   {
    "duration": 20,
    "start_time": "2022-05-12T07:22:16.803Z"
   },
   {
    "duration": 8,
    "start_time": "2022-05-12T07:22:16.825Z"
   },
   {
    "duration": 8,
    "start_time": "2022-05-12T07:22:16.834Z"
   },
   {
    "duration": 5,
    "start_time": "2022-05-12T07:22:16.844Z"
   },
   {
    "duration": 11,
    "start_time": "2022-05-12T07:22:16.851Z"
   },
   {
    "duration": 16,
    "start_time": "2022-05-12T07:22:16.864Z"
   },
   {
    "duration": 41,
    "start_time": "2022-05-12T07:22:16.882Z"
   },
   {
    "duration": 12,
    "start_time": "2022-05-12T07:22:16.925Z"
   },
   {
    "duration": 3,
    "start_time": "2022-05-12T07:22:16.939Z"
   },
   {
    "duration": 11,
    "start_time": "2022-05-12T07:22:16.943Z"
   },
   {
    "duration": 10,
    "start_time": "2022-05-12T07:22:16.955Z"
   },
   {
    "duration": 10,
    "start_time": "2022-05-12T07:22:16.966Z"
   },
   {
    "duration": 41,
    "start_time": "2022-05-12T07:22:16.978Z"
   },
   {
    "duration": 139,
    "start_time": "2022-05-12T07:22:17.020Z"
   },
   {
    "duration": 12,
    "start_time": "2022-05-12T07:22:17.161Z"
   },
   {
    "duration": 49,
    "start_time": "2022-05-12T07:22:17.174Z"
   },
   {
    "duration": 27,
    "start_time": "2022-05-12T08:57:43.668Z"
   },
   {
    "duration": 40,
    "start_time": "2022-05-12T09:08:51.029Z"
   },
   {
    "duration": 123,
    "start_time": "2022-05-12T09:10:24.719Z"
   },
   {
    "duration": 14,
    "start_time": "2022-05-12T09:11:17.650Z"
   },
   {
    "duration": 17,
    "start_time": "2022-05-12T09:12:22.039Z"
   },
   {
    "duration": 23,
    "start_time": "2022-05-12T09:12:49.199Z"
   },
   {
    "duration": 30,
    "start_time": "2022-05-12T09:19:41.669Z"
   },
   {
    "duration": 21,
    "start_time": "2022-05-12T09:19:47.175Z"
   },
   {
    "duration": 417,
    "start_time": "2022-05-12T09:19:51.331Z"
   },
   {
    "duration": 81,
    "start_time": "2022-05-12T09:19:51.751Z"
   },
   {
    "duration": 20,
    "start_time": "2022-05-12T09:19:51.833Z"
   },
   {
    "duration": 40,
    "start_time": "2022-05-12T09:19:51.856Z"
   },
   {
    "duration": 13,
    "start_time": "2022-05-12T09:19:51.902Z"
   },
   {
    "duration": 6,
    "start_time": "2022-05-12T09:19:51.917Z"
   },
   {
    "duration": 7,
    "start_time": "2022-05-12T09:19:51.924Z"
   },
   {
    "duration": 4,
    "start_time": "2022-05-12T09:19:51.933Z"
   },
   {
    "duration": 6,
    "start_time": "2022-05-12T09:19:51.938Z"
   },
   {
    "duration": 4,
    "start_time": "2022-05-12T09:19:51.946Z"
   },
   {
    "duration": 39,
    "start_time": "2022-05-12T09:19:51.951Z"
   },
   {
    "duration": 19,
    "start_time": "2022-05-12T09:19:51.992Z"
   },
   {
    "duration": 3,
    "start_time": "2022-05-12T09:19:52.013Z"
   },
   {
    "duration": 9,
    "start_time": "2022-05-12T09:19:52.018Z"
   },
   {
    "duration": 7,
    "start_time": "2022-05-12T09:19:52.028Z"
   },
   {
    "duration": 13,
    "start_time": "2022-05-12T09:19:52.037Z"
   },
   {
    "duration": 24,
    "start_time": "2022-05-12T09:19:52.052Z"
   },
   {
    "duration": 13,
    "start_time": "2022-05-12T09:19:52.077Z"
   },
   {
    "duration": 39,
    "start_time": "2022-05-12T09:19:52.095Z"
   },
   {
    "duration": 3,
    "start_time": "2022-05-12T09:19:52.136Z"
   },
   {
    "duration": 6,
    "start_time": "2022-05-12T09:19:52.141Z"
   },
   {
    "duration": 4,
    "start_time": "2022-05-12T09:19:52.149Z"
   },
   {
    "duration": 5,
    "start_time": "2022-05-12T09:19:52.154Z"
   },
   {
    "duration": 41,
    "start_time": "2022-05-12T09:19:52.161Z"
   },
   {
    "duration": 150,
    "start_time": "2022-05-12T09:19:52.205Z"
   },
   {
    "duration": 16,
    "start_time": "2022-05-12T09:19:52.357Z"
   },
   {
    "duration": 40,
    "start_time": "2022-05-12T09:19:52.375Z"
   },
   {
    "duration": 10,
    "start_time": "2022-05-12T09:19:52.419Z"
   },
   {
    "duration": 6,
    "start_time": "2022-05-12T09:19:52.430Z"
   },
   {
    "duration": 4,
    "start_time": "2022-05-12T09:19:52.437Z"
   },
   {
    "duration": 6,
    "start_time": "2022-05-12T09:19:52.443Z"
   },
   {
    "duration": 6,
    "start_time": "2022-05-12T09:19:52.450Z"
   },
   {
    "duration": 7,
    "start_time": "2022-05-12T09:19:52.457Z"
   },
   {
    "duration": 4,
    "start_time": "2022-05-12T09:19:52.465Z"
   },
   {
    "duration": 33,
    "start_time": "2022-05-12T09:19:52.470Z"
   },
   {
    "duration": 10,
    "start_time": "2022-05-12T09:19:52.505Z"
   },
   {
    "duration": 6,
    "start_time": "2022-05-12T09:19:52.517Z"
   },
   {
    "duration": 6,
    "start_time": "2022-05-12T09:19:52.525Z"
   },
   {
    "duration": 6,
    "start_time": "2022-05-12T09:19:52.532Z"
   },
   {
    "duration": 8,
    "start_time": "2022-05-12T09:19:52.540Z"
   },
   {
    "duration": 7,
    "start_time": "2022-05-12T09:19:52.550Z"
   },
   {
    "duration": 47,
    "start_time": "2022-05-12T09:19:52.559Z"
   },
   {
    "duration": 21,
    "start_time": "2022-05-12T09:19:52.608Z"
   },
   {
    "duration": 16,
    "start_time": "2022-05-12T09:19:52.631Z"
   },
   {
    "duration": 6,
    "start_time": "2022-05-12T09:19:52.649Z"
   },
   {
    "duration": 35,
    "start_time": "2022-05-12T09:19:52.656Z"
   },
   {
    "duration": 18,
    "start_time": "2022-05-12T09:19:52.694Z"
   },
   {
    "duration": 21,
    "start_time": "2022-05-12T09:19:52.714Z"
   },
   {
    "duration": 9,
    "start_time": "2022-05-12T09:19:52.737Z"
   },
   {
    "duration": 12,
    "start_time": "2022-05-12T09:19:52.748Z"
   },
   {
    "duration": 27,
    "start_time": "2022-05-12T09:19:52.761Z"
   },
   {
    "duration": 28,
    "start_time": "2022-05-12T09:19:52.790Z"
   },
   {
    "duration": 6,
    "start_time": "2022-05-12T09:19:52.820Z"
   },
   {
    "duration": 18,
    "start_time": "2022-05-12T09:19:52.828Z"
   },
   {
    "duration": 4,
    "start_time": "2022-05-12T09:19:52.847Z"
   },
   {
    "duration": 14,
    "start_time": "2022-05-12T09:19:52.852Z"
   },
   {
    "duration": 19,
    "start_time": "2022-05-12T09:19:52.867Z"
   },
   {
    "duration": 26,
    "start_time": "2022-05-12T09:19:52.888Z"
   },
   {
    "duration": 15,
    "start_time": "2022-05-12T09:19:52.916Z"
   },
   {
    "duration": 11,
    "start_time": "2022-05-12T09:19:52.933Z"
   },
   {
    "duration": 9,
    "start_time": "2022-05-12T09:19:52.945Z"
   },
   {
    "duration": 3,
    "start_time": "2022-05-12T09:19:52.956Z"
   },
   {
    "duration": 161,
    "start_time": "2022-05-12T09:19:52.960Z"
   },
   {
    "duration": 7,
    "start_time": "2022-05-12T09:19:53.123Z"
   },
   {
    "duration": 16,
    "start_time": "2022-05-12T09:19:53.132Z"
   },
   {
    "duration": 56,
    "start_time": "2022-05-12T09:19:53.150Z"
   },
   {
    "duration": 20,
    "start_time": "2022-05-12T09:23:49.744Z"
   },
   {
    "duration": 1471,
    "start_time": "2022-05-12T09:26:38.652Z"
   },
   {
    "duration": 12,
    "start_time": "2022-05-12T09:26:48.166Z"
   },
   {
    "duration": 9,
    "start_time": "2022-05-12T09:27:16.584Z"
   },
   {
    "duration": 16,
    "start_time": "2022-05-12T09:27:44.776Z"
   },
   {
    "duration": 10,
    "start_time": "2022-05-12T09:49:27.156Z"
   },
   {
    "duration": 10,
    "start_time": "2022-05-12T09:49:37.981Z"
   },
   {
    "duration": 2,
    "start_time": "2022-05-12T09:57:00.948Z"
   },
   {
    "duration": 430,
    "start_time": "2022-05-12T09:58:14.628Z"
   },
   {
    "duration": 65,
    "start_time": "2022-05-12T09:58:15.060Z"
   },
   {
    "duration": 19,
    "start_time": "2022-05-12T09:58:15.127Z"
   },
   {
    "duration": 25,
    "start_time": "2022-05-12T09:58:15.148Z"
   },
   {
    "duration": 16,
    "start_time": "2022-05-12T09:58:15.175Z"
   },
   {
    "duration": 5,
    "start_time": "2022-05-12T09:58:15.192Z"
   },
   {
    "duration": 8,
    "start_time": "2022-05-12T09:58:15.199Z"
   },
   {
    "duration": 4,
    "start_time": "2022-05-12T09:58:15.208Z"
   },
   {
    "duration": 5,
    "start_time": "2022-05-12T09:58:15.214Z"
   },
   {
    "duration": 4,
    "start_time": "2022-05-12T09:58:15.222Z"
   },
   {
    "duration": 5,
    "start_time": "2022-05-12T09:58:15.228Z"
   },
   {
    "duration": 45,
    "start_time": "2022-05-12T09:58:15.234Z"
   },
   {
    "duration": 13,
    "start_time": "2022-05-12T09:58:15.281Z"
   },
   {
    "duration": 8,
    "start_time": "2022-05-12T09:58:15.296Z"
   },
   {
    "duration": 9,
    "start_time": "2022-05-12T09:58:15.306Z"
   },
   {
    "duration": 16,
    "start_time": "2022-05-12T09:58:15.316Z"
   },
   {
    "duration": 5,
    "start_time": "2022-05-12T09:58:15.334Z"
   },
   {
    "duration": 8,
    "start_time": "2022-05-12T09:58:15.340Z"
   },
   {
    "duration": 30,
    "start_time": "2022-05-12T09:58:15.371Z"
   },
   {
    "duration": 3,
    "start_time": "2022-05-12T09:58:15.403Z"
   },
   {
    "duration": 11,
    "start_time": "2022-05-12T09:58:15.408Z"
   },
   {
    "duration": 20,
    "start_time": "2022-05-12T09:58:15.421Z"
   },
   {
    "duration": 9,
    "start_time": "2022-05-12T09:58:15.443Z"
   },
   {
    "duration": 41,
    "start_time": "2022-05-12T09:58:15.453Z"
   },
   {
    "duration": 139,
    "start_time": "2022-05-12T09:58:15.496Z"
   },
   {
    "duration": 12,
    "start_time": "2022-05-12T09:58:15.637Z"
   },
   {
    "duration": 5,
    "start_time": "2022-05-12T09:58:15.650Z"
   },
   {
    "duration": 16,
    "start_time": "2022-05-12T09:58:15.670Z"
   },
   {
    "duration": 8,
    "start_time": "2022-05-12T09:58:15.688Z"
   },
   {
    "duration": 5,
    "start_time": "2022-05-12T09:58:15.697Z"
   },
   {
    "duration": 6,
    "start_time": "2022-05-12T09:58:15.704Z"
   },
   {
    "duration": 7,
    "start_time": "2022-05-12T09:58:15.712Z"
   },
   {
    "duration": 7,
    "start_time": "2022-05-12T09:58:15.722Z"
   },
   {
    "duration": 43,
    "start_time": "2022-05-12T09:58:15.731Z"
   },
   {
    "duration": 18,
    "start_time": "2022-05-12T09:58:15.776Z"
   },
   {
    "duration": 8,
    "start_time": "2022-05-12T09:58:15.796Z"
   },
   {
    "duration": 7,
    "start_time": "2022-05-12T09:58:15.806Z"
   },
   {
    "duration": 6,
    "start_time": "2022-05-12T09:58:15.815Z"
   },
   {
    "duration": 6,
    "start_time": "2022-05-12T09:58:15.823Z"
   },
   {
    "duration": 8,
    "start_time": "2022-05-12T09:58:15.830Z"
   },
   {
    "duration": 37,
    "start_time": "2022-05-12T09:58:15.840Z"
   },
   {
    "duration": 25,
    "start_time": "2022-05-12T09:58:15.879Z"
   },
   {
    "duration": 17,
    "start_time": "2022-05-12T09:58:15.906Z"
   },
   {
    "duration": 17,
    "start_time": "2022-05-12T09:58:15.925Z"
   },
   {
    "duration": 11,
    "start_time": "2022-05-12T09:58:15.971Z"
   },
   {
    "duration": 22,
    "start_time": "2022-05-12T09:58:15.983Z"
   },
   {
    "duration": 8,
    "start_time": "2022-05-12T09:58:16.007Z"
   },
   {
    "duration": 29,
    "start_time": "2022-05-12T09:58:16.017Z"
   },
   {
    "duration": 12,
    "start_time": "2022-05-12T09:58:16.070Z"
   },
   {
    "duration": 13,
    "start_time": "2022-05-12T09:58:16.087Z"
   },
   {
    "duration": 9,
    "start_time": "2022-05-12T09:58:16.102Z"
   },
   {
    "duration": 10,
    "start_time": "2022-05-12T09:58:16.113Z"
   },
   {
    "duration": 6,
    "start_time": "2022-05-12T09:58:16.125Z"
   },
   {
    "duration": 47,
    "start_time": "2022-05-12T09:58:16.133Z"
   },
   {
    "duration": 5,
    "start_time": "2022-05-12T09:58:16.182Z"
   },
   {
    "duration": 14,
    "start_time": "2022-05-12T09:58:16.189Z"
   },
   {
    "duration": 12,
    "start_time": "2022-05-12T09:58:16.205Z"
   },
   {
    "duration": 5,
    "start_time": "2022-05-12T09:58:16.219Z"
   },
   {
    "duration": 11,
    "start_time": "2022-05-12T09:58:16.226Z"
   },
   {
    "duration": 48,
    "start_time": "2022-05-12T09:58:16.239Z"
   },
   {
    "duration": 8,
    "start_time": "2022-05-12T09:58:16.289Z"
   },
   {
    "duration": 6,
    "start_time": "2022-05-12T09:58:16.299Z"
   },
   {
    "duration": 179,
    "start_time": "2022-05-12T09:58:16.306Z"
   },
   {
    "duration": 8,
    "start_time": "2022-05-12T09:58:16.487Z"
   },
   {
    "duration": 22,
    "start_time": "2022-05-12T09:58:16.496Z"
   },
   {
    "duration": 10,
    "start_time": "2022-05-12T09:58:16.520Z"
   },
   {
    "duration": 9,
    "start_time": "2022-05-12T10:03:36.745Z"
   },
   {
    "duration": 46,
    "start_time": "2022-05-12T10:07:08.225Z"
   },
   {
    "duration": 430,
    "start_time": "2022-05-12T10:07:13.889Z"
   },
   {
    "duration": 81,
    "start_time": "2022-05-12T10:07:14.322Z"
   },
   {
    "duration": 19,
    "start_time": "2022-05-12T10:07:14.405Z"
   },
   {
    "duration": 16,
    "start_time": "2022-05-12T10:07:14.426Z"
   },
   {
    "duration": 30,
    "start_time": "2022-05-12T10:07:14.443Z"
   },
   {
    "duration": 5,
    "start_time": "2022-05-12T10:07:14.475Z"
   },
   {
    "duration": 6,
    "start_time": "2022-05-12T10:07:14.481Z"
   },
   {
    "duration": 4,
    "start_time": "2022-05-12T10:07:14.489Z"
   },
   {
    "duration": 5,
    "start_time": "2022-05-12T10:07:14.495Z"
   },
   {
    "duration": 4,
    "start_time": "2022-05-12T10:07:14.503Z"
   },
   {
    "duration": 6,
    "start_time": "2022-05-12T10:07:14.509Z"
   },
   {
    "duration": 9,
    "start_time": "2022-05-12T10:07:14.516Z"
   },
   {
    "duration": 47,
    "start_time": "2022-05-12T10:07:14.527Z"
   },
   {
    "duration": 7,
    "start_time": "2022-05-12T10:07:14.576Z"
   },
   {
    "duration": 7,
    "start_time": "2022-05-12T10:07:14.585Z"
   },
   {
    "duration": 20,
    "start_time": "2022-05-12T10:07:14.594Z"
   },
   {
    "duration": 4,
    "start_time": "2022-05-12T10:07:14.616Z"
   },
   {
    "duration": 6,
    "start_time": "2022-05-12T10:07:14.622Z"
   },
   {
    "duration": 71,
    "start_time": "2022-05-12T10:07:14.630Z"
   },
   {
    "duration": 4,
    "start_time": "2022-05-12T10:07:14.703Z"
   },
   {
    "duration": 5,
    "start_time": "2022-05-12T10:07:14.709Z"
   },
   {
    "duration": 5,
    "start_time": "2022-05-12T10:07:14.716Z"
   },
   {
    "duration": 4,
    "start_time": "2022-05-12T10:07:14.723Z"
   },
   {
    "duration": 47,
    "start_time": "2022-05-12T10:07:14.729Z"
   },
   {
    "duration": 135,
    "start_time": "2022-05-12T10:07:14.778Z"
   },
   {
    "duration": 12,
    "start_time": "2022-05-12T10:07:14.915Z"
   },
   {
    "duration": 6,
    "start_time": "2022-05-12T10:07:14.929Z"
   },
   {
    "duration": 14,
    "start_time": "2022-05-12T10:07:14.939Z"
   },
   {
    "duration": 5,
    "start_time": "2022-05-12T10:07:14.971Z"
   },
   {
    "duration": 6,
    "start_time": "2022-05-12T10:07:14.978Z"
   },
   {
    "duration": 4,
    "start_time": "2022-05-12T10:07:14.985Z"
   },
   {
    "duration": 5,
    "start_time": "2022-05-12T10:07:14.990Z"
   },
   {
    "duration": 8,
    "start_time": "2022-05-12T10:07:14.997Z"
   },
   {
    "duration": 7,
    "start_time": "2022-05-12T10:07:15.007Z"
   },
   {
    "duration": 6,
    "start_time": "2022-05-12T10:07:15.015Z"
   },
   {
    "duration": 50,
    "start_time": "2022-05-12T10:07:15.022Z"
   },
   {
    "duration": 6,
    "start_time": "2022-05-12T10:07:15.073Z"
   },
   {
    "duration": 9,
    "start_time": "2022-05-12T10:07:15.080Z"
   },
   {
    "duration": 8,
    "start_time": "2022-05-12T10:07:15.090Z"
   },
   {
    "duration": 10,
    "start_time": "2022-05-12T10:07:15.099Z"
   },
   {
    "duration": 12,
    "start_time": "2022-05-12T10:07:15.110Z"
   },
   {
    "duration": 17,
    "start_time": "2022-05-12T10:07:15.124Z"
   },
   {
    "duration": 19,
    "start_time": "2022-05-12T10:07:15.170Z"
   },
   {
    "duration": 16,
    "start_time": "2022-05-12T10:07:15.191Z"
   },
   {
    "duration": 8,
    "start_time": "2022-05-12T10:07:15.208Z"
   },
   {
    "duration": 20,
    "start_time": "2022-05-12T10:07:15.217Z"
   },
   {
    "duration": 33,
    "start_time": "2022-05-12T10:07:15.239Z"
   },
   {
    "duration": 24,
    "start_time": "2022-05-12T10:07:15.274Z"
   },
   {
    "duration": 9,
    "start_time": "2022-05-12T10:07:15.300Z"
   },
   {
    "duration": 22,
    "start_time": "2022-05-12T10:07:15.311Z"
   },
   {
    "duration": 8,
    "start_time": "2022-05-12T10:07:15.335Z"
   },
   {
    "duration": 30,
    "start_time": "2022-05-12T10:07:15.345Z"
   },
   {
    "duration": 7,
    "start_time": "2022-05-12T10:07:15.377Z"
   },
   {
    "duration": 19,
    "start_time": "2022-05-12T10:07:15.385Z"
   },
   {
    "duration": 6,
    "start_time": "2022-05-12T10:07:15.405Z"
   },
   {
    "duration": 21,
    "start_time": "2022-05-12T10:07:15.413Z"
   },
   {
    "duration": 36,
    "start_time": "2022-05-12T10:07:15.436Z"
   },
   {
    "duration": 4,
    "start_time": "2022-05-12T10:07:15.475Z"
   },
   {
    "duration": 15,
    "start_time": "2022-05-12T10:07:15.481Z"
   },
   {
    "duration": 16,
    "start_time": "2022-05-12T10:07:15.498Z"
   },
   {
    "duration": 13,
    "start_time": "2022-05-12T10:07:15.516Z"
   },
   {
    "duration": 9,
    "start_time": "2022-05-12T10:07:15.531Z"
   },
   {
    "duration": 217,
    "start_time": "2022-05-12T10:07:15.542Z"
   },
   {
    "duration": 13,
    "start_time": "2022-05-12T10:07:15.761Z"
   },
   {
    "duration": 20,
    "start_time": "2022-05-12T10:07:15.776Z"
   },
   {
    "duration": 10,
    "start_time": "2022-05-12T10:07:15.798Z"
   },
   {
    "duration": 47,
    "start_time": "2022-05-12T10:07:28.513Z"
   },
   {
    "duration": 6,
    "start_time": "2022-05-12T10:07:50.962Z"
   },
   {
    "duration": 446,
    "start_time": "2022-05-12T10:08:22.772Z"
   },
   {
    "duration": 86,
    "start_time": "2022-05-12T10:08:23.220Z"
   },
   {
    "duration": 21,
    "start_time": "2022-05-12T10:08:23.307Z"
   },
   {
    "duration": 15,
    "start_time": "2022-05-12T10:08:23.330Z"
   },
   {
    "duration": 25,
    "start_time": "2022-05-12T10:08:23.347Z"
   },
   {
    "duration": 5,
    "start_time": "2022-05-12T10:08:23.373Z"
   },
   {
    "duration": 9,
    "start_time": "2022-05-12T10:08:23.379Z"
   },
   {
    "duration": 9,
    "start_time": "2022-05-12T10:08:23.389Z"
   },
   {
    "duration": 14,
    "start_time": "2022-05-12T10:08:23.399Z"
   },
   {
    "duration": 4,
    "start_time": "2022-05-12T10:08:23.416Z"
   },
   {
    "duration": 6,
    "start_time": "2022-05-12T10:08:23.422Z"
   },
   {
    "duration": 12,
    "start_time": "2022-05-12T10:08:23.430Z"
   },
   {
    "duration": 30,
    "start_time": "2022-05-12T10:08:23.443Z"
   },
   {
    "duration": 9,
    "start_time": "2022-05-12T10:08:23.475Z"
   },
   {
    "duration": 7,
    "start_time": "2022-05-12T10:08:23.486Z"
   },
   {
    "duration": 23,
    "start_time": "2022-05-12T10:08:23.495Z"
   },
   {
    "duration": 4,
    "start_time": "2022-05-12T10:08:23.520Z"
   },
   {
    "duration": 8,
    "start_time": "2022-05-12T10:08:23.526Z"
   },
   {
    "duration": 39,
    "start_time": "2022-05-12T10:08:23.570Z"
   },
   {
    "duration": 4,
    "start_time": "2022-05-12T10:08:23.611Z"
   },
   {
    "duration": 6,
    "start_time": "2022-05-12T10:08:23.616Z"
   },
   {
    "duration": 7,
    "start_time": "2022-05-12T10:08:23.624Z"
   },
   {
    "duration": 4,
    "start_time": "2022-05-12T10:08:23.633Z"
   },
   {
    "duration": 51,
    "start_time": "2022-05-12T10:08:23.638Z"
   },
   {
    "duration": 138,
    "start_time": "2022-05-12T10:08:23.691Z"
   },
   {
    "duration": 13,
    "start_time": "2022-05-12T10:08:23.831Z"
   },
   {
    "duration": 4,
    "start_time": "2022-05-12T10:08:23.846Z"
   },
   {
    "duration": 9,
    "start_time": "2022-05-12T10:08:23.874Z"
   },
   {
    "duration": 6,
    "start_time": "2022-05-12T10:08:23.885Z"
   },
   {
    "duration": 5,
    "start_time": "2022-05-12T10:08:23.892Z"
   },
   {
    "duration": 6,
    "start_time": "2022-05-12T10:08:23.899Z"
   },
   {
    "duration": 13,
    "start_time": "2022-05-12T10:08:23.906Z"
   },
   {
    "duration": 10,
    "start_time": "2022-05-12T10:08:23.921Z"
   },
   {
    "duration": 5,
    "start_time": "2022-05-12T10:08:23.932Z"
   },
   {
    "duration": 4,
    "start_time": "2022-05-12T10:08:23.971Z"
   },
   {
    "duration": 10,
    "start_time": "2022-05-12T10:08:23.977Z"
   },
   {
    "duration": 6,
    "start_time": "2022-05-12T10:08:23.989Z"
   },
   {
    "duration": 6,
    "start_time": "2022-05-12T10:08:23.997Z"
   },
   {
    "duration": 7,
    "start_time": "2022-05-12T10:08:24.005Z"
   },
   {
    "duration": 9,
    "start_time": "2022-05-12T10:08:24.013Z"
   },
   {
    "duration": 48,
    "start_time": "2022-05-12T10:08:24.023Z"
   },
   {
    "duration": 19,
    "start_time": "2022-05-12T10:08:24.073Z"
   },
   {
    "duration": 19,
    "start_time": "2022-05-12T10:08:24.094Z"
   },
   {
    "duration": 17,
    "start_time": "2022-05-12T10:08:24.114Z"
   },
   {
    "duration": 7,
    "start_time": "2022-05-12T10:08:24.133Z"
   },
   {
    "duration": 16,
    "start_time": "2022-05-12T10:08:24.171Z"
   },
   {
    "duration": 9,
    "start_time": "2022-05-12T10:08:24.188Z"
   },
   {
    "duration": 18,
    "start_time": "2022-05-12T10:08:24.199Z"
   },
   {
    "duration": 6,
    "start_time": "2022-05-12T10:08:24.219Z"
   },
   {
    "duration": 13,
    "start_time": "2022-05-12T10:08:24.226Z"
   },
   {
    "duration": 32,
    "start_time": "2022-05-12T10:08:24.241Z"
   },
   {
    "duration": 10,
    "start_time": "2022-05-12T10:08:24.274Z"
   },
   {
    "duration": 5,
    "start_time": "2022-05-12T10:08:24.286Z"
   },
   {
    "duration": 15,
    "start_time": "2022-05-12T10:08:24.293Z"
   },
   {
    "duration": 4,
    "start_time": "2022-05-12T10:08:24.309Z"
   },
   {
    "duration": 13,
    "start_time": "2022-05-12T10:08:24.315Z"
   },
   {
    "duration": 43,
    "start_time": "2022-05-12T10:08:24.330Z"
   },
   {
    "duration": 3,
    "start_time": "2022-05-12T10:08:24.375Z"
   },
   {
    "duration": 11,
    "start_time": "2022-05-12T10:08:24.380Z"
   },
   {
    "duration": 11,
    "start_time": "2022-05-12T10:08:24.393Z"
   },
   {
    "duration": 10,
    "start_time": "2022-05-12T10:08:24.406Z"
   },
   {
    "duration": 4,
    "start_time": "2022-05-12T10:08:24.418Z"
   },
   {
    "duration": 221,
    "start_time": "2022-05-12T10:08:24.424Z"
   },
   {
    "duration": 9,
    "start_time": "2022-05-12T10:08:24.648Z"
   },
   {
    "duration": 33,
    "start_time": "2022-05-12T10:08:24.659Z"
   },
   {
    "duration": 10,
    "start_time": "2022-05-12T10:08:24.694Z"
   },
   {
    "duration": 14,
    "start_time": "2022-05-12T10:08:24.705Z"
   },
   {
    "duration": 51,
    "start_time": "2022-05-12T10:09:17.417Z"
   },
   {
    "duration": 446,
    "start_time": "2022-05-12T10:09:29.137Z"
   },
   {
    "duration": 76,
    "start_time": "2022-05-12T10:09:29.585Z"
   },
   {
    "duration": 19,
    "start_time": "2022-05-12T10:09:29.663Z"
   },
   {
    "duration": 15,
    "start_time": "2022-05-12T10:09:29.684Z"
   },
   {
    "duration": 11,
    "start_time": "2022-05-12T10:09:29.700Z"
   },
   {
    "duration": 6,
    "start_time": "2022-05-12T10:09:29.712Z"
   },
   {
    "duration": 6,
    "start_time": "2022-05-12T10:09:29.720Z"
   },
   {
    "duration": 4,
    "start_time": "2022-05-12T10:09:29.728Z"
   },
   {
    "duration": 4,
    "start_time": "2022-05-12T10:09:29.772Z"
   },
   {
    "duration": 4,
    "start_time": "2022-05-12T10:09:29.780Z"
   },
   {
    "duration": 6,
    "start_time": "2022-05-12T10:09:29.785Z"
   },
   {
    "duration": 6,
    "start_time": "2022-05-12T10:09:29.793Z"
   },
   {
    "duration": 6,
    "start_time": "2022-05-12T10:09:29.801Z"
   },
   {
    "duration": 9,
    "start_time": "2022-05-12T10:09:29.808Z"
   },
   {
    "duration": 5,
    "start_time": "2022-05-12T10:09:29.819Z"
   },
   {
    "duration": 57,
    "start_time": "2022-05-12T10:09:29.825Z"
   },
   {
    "duration": 4,
    "start_time": "2022-05-12T10:09:29.883Z"
   },
   {
    "duration": 8,
    "start_time": "2022-05-12T10:09:29.888Z"
   },
   {
    "duration": 23,
    "start_time": "2022-05-12T10:09:29.898Z"
   },
   {
    "duration": 3,
    "start_time": "2022-05-12T10:09:29.923Z"
   },
   {
    "duration": 7,
    "start_time": "2022-05-12T10:09:29.928Z"
   },
   {
    "duration": 34,
    "start_time": "2022-05-12T10:09:29.937Z"
   },
   {
    "duration": 5,
    "start_time": "2022-05-12T10:09:29.973Z"
   },
   {
    "duration": 34,
    "start_time": "2022-05-12T10:09:29.980Z"
   },
   {
    "duration": 151,
    "start_time": "2022-05-12T10:09:30.016Z"
   },
   {
    "duration": 17,
    "start_time": "2022-05-12T10:09:30.170Z"
   },
   {
    "duration": 10,
    "start_time": "2022-05-12T10:09:30.189Z"
   },
   {
    "duration": 41,
    "start_time": "2022-05-12T10:09:30.204Z"
   },
   {
    "duration": 8,
    "start_time": "2022-05-12T10:09:30.247Z"
   },
   {
    "duration": 4,
    "start_time": "2022-05-12T10:09:30.257Z"
   },
   {
    "duration": 13,
    "start_time": "2022-05-12T10:09:30.262Z"
   },
   {
    "duration": 29,
    "start_time": "2022-05-12T10:09:30.276Z"
   },
   {
    "duration": 32,
    "start_time": "2022-05-12T10:09:30.307Z"
   },
   {
    "duration": 22,
    "start_time": "2022-05-12T10:09:30.340Z"
   },
   {
    "duration": 13,
    "start_time": "2022-05-12T10:09:30.364Z"
   },
   {
    "duration": 11,
    "start_time": "2022-05-12T10:09:30.379Z"
   },
   {
    "duration": 8,
    "start_time": "2022-05-12T10:09:30.392Z"
   },
   {
    "duration": 19,
    "start_time": "2022-05-12T10:09:30.401Z"
   },
   {
    "duration": 11,
    "start_time": "2022-05-12T10:09:30.422Z"
   },
   {
    "duration": 11,
    "start_time": "2022-05-12T10:09:30.434Z"
   },
   {
    "duration": 21,
    "start_time": "2022-05-12T10:09:30.446Z"
   },
   {
    "duration": 24,
    "start_time": "2022-05-12T10:09:30.468Z"
   },
   {
    "duration": 19,
    "start_time": "2022-05-12T10:09:30.493Z"
   },
   {
    "duration": 17,
    "start_time": "2022-05-12T10:09:30.514Z"
   },
   {
    "duration": 6,
    "start_time": "2022-05-12T10:09:30.533Z"
   },
   {
    "duration": 40,
    "start_time": "2022-05-12T10:09:30.541Z"
   },
   {
    "duration": 17,
    "start_time": "2022-05-12T10:09:30.582Z"
   },
   {
    "duration": 23,
    "start_time": "2022-05-12T10:09:30.601Z"
   },
   {
    "duration": 12,
    "start_time": "2022-05-12T10:09:30.626Z"
   },
   {
    "duration": 27,
    "start_time": "2022-05-12T10:09:30.640Z"
   },
   {
    "duration": 17,
    "start_time": "2022-05-12T10:09:30.669Z"
   },
   {
    "duration": 16,
    "start_time": "2022-05-12T10:09:30.688Z"
   },
   {
    "duration": 23,
    "start_time": "2022-05-12T10:09:30.705Z"
   },
   {
    "duration": 16,
    "start_time": "2022-05-12T10:09:30.729Z"
   },
   {
    "duration": 18,
    "start_time": "2022-05-12T10:09:30.746Z"
   },
   {
    "duration": 23,
    "start_time": "2022-05-12T10:09:30.766Z"
   },
   {
    "duration": 20,
    "start_time": "2022-05-12T10:09:30.790Z"
   },
   {
    "duration": 20,
    "start_time": "2022-05-12T10:09:30.812Z"
   },
   {
    "duration": 39,
    "start_time": "2022-05-12T10:09:30.834Z"
   },
   {
    "duration": 12,
    "start_time": "2022-05-12T10:09:30.874Z"
   },
   {
    "duration": 10,
    "start_time": "2022-05-12T10:09:30.889Z"
   },
   {
    "duration": 7,
    "start_time": "2022-05-12T10:09:30.902Z"
   },
   {
    "duration": 219,
    "start_time": "2022-05-12T10:09:30.911Z"
   },
   {
    "duration": 9,
    "start_time": "2022-05-12T10:09:31.132Z"
   },
   {
    "duration": 36,
    "start_time": "2022-05-12T10:09:31.143Z"
   },
   {
    "duration": 13,
    "start_time": "2022-05-12T10:09:31.181Z"
   },
   {
    "duration": 22,
    "start_time": "2022-05-12T10:09:31.196Z"
   },
   {
    "duration": 21,
    "start_time": "2022-05-12T10:09:31.219Z"
   },
   {
    "duration": 447,
    "start_time": "2022-05-12T10:09:55.828Z"
   },
   {
    "duration": 81,
    "start_time": "2022-05-12T10:09:56.277Z"
   },
   {
    "duration": 18,
    "start_time": "2022-05-12T10:09:56.360Z"
   },
   {
    "duration": 14,
    "start_time": "2022-05-12T10:09:56.381Z"
   },
   {
    "duration": 9,
    "start_time": "2022-05-12T10:09:56.397Z"
   },
   {
    "duration": 5,
    "start_time": "2022-05-12T10:09:56.408Z"
   },
   {
    "duration": 8,
    "start_time": "2022-05-12T10:09:56.414Z"
   },
   {
    "duration": 4,
    "start_time": "2022-05-12T10:09:56.424Z"
   },
   {
    "duration": 42,
    "start_time": "2022-05-12T10:09:56.429Z"
   },
   {
    "duration": 3,
    "start_time": "2022-05-12T10:09:56.475Z"
   },
   {
    "duration": 11,
    "start_time": "2022-05-12T10:09:56.480Z"
   },
   {
    "duration": 12,
    "start_time": "2022-05-12T10:09:56.493Z"
   },
   {
    "duration": 3,
    "start_time": "2022-05-12T10:09:56.507Z"
   },
   {
    "duration": 8,
    "start_time": "2022-05-12T10:09:56.512Z"
   },
   {
    "duration": 7,
    "start_time": "2022-05-12T10:09:56.522Z"
   },
   {
    "duration": 54,
    "start_time": "2022-05-12T10:09:56.531Z"
   },
   {
    "duration": 4,
    "start_time": "2022-05-12T10:09:56.587Z"
   },
   {
    "duration": 9,
    "start_time": "2022-05-12T10:09:56.592Z"
   },
   {
    "duration": 25,
    "start_time": "2022-05-12T10:09:56.602Z"
   },
   {
    "duration": 3,
    "start_time": "2022-05-12T10:09:56.628Z"
   },
   {
    "duration": 5,
    "start_time": "2022-05-12T10:09:56.633Z"
   },
   {
    "duration": 37,
    "start_time": "2022-05-12T10:09:56.639Z"
   },
   {
    "duration": 4,
    "start_time": "2022-05-12T10:09:56.678Z"
   },
   {
    "duration": 20,
    "start_time": "2022-05-12T10:09:56.684Z"
   },
   {
    "duration": 147,
    "start_time": "2022-05-12T10:09:56.706Z"
   },
   {
    "duration": 17,
    "start_time": "2022-05-12T10:09:56.854Z"
   },
   {
    "duration": 11,
    "start_time": "2022-05-12T10:09:56.873Z"
   },
   {
    "duration": 12,
    "start_time": "2022-05-12T10:09:56.888Z"
   },
   {
    "duration": 5,
    "start_time": "2022-05-12T10:09:56.901Z"
   },
   {
    "duration": 5,
    "start_time": "2022-05-12T10:09:56.907Z"
   },
   {
    "duration": 5,
    "start_time": "2022-05-12T10:09:56.914Z"
   },
   {
    "duration": 6,
    "start_time": "2022-05-12T10:09:56.921Z"
   },
   {
    "duration": 6,
    "start_time": "2022-05-12T10:09:56.929Z"
   },
   {
    "duration": 35,
    "start_time": "2022-05-12T10:09:56.937Z"
   },
   {
    "duration": 5,
    "start_time": "2022-05-12T10:09:56.974Z"
   },
   {
    "duration": 7,
    "start_time": "2022-05-12T10:09:56.980Z"
   },
   {
    "duration": 5,
    "start_time": "2022-05-12T10:09:56.988Z"
   },
   {
    "duration": 6,
    "start_time": "2022-05-12T10:09:56.995Z"
   },
   {
    "duration": 6,
    "start_time": "2022-05-12T10:09:57.002Z"
   },
   {
    "duration": 8,
    "start_time": "2022-05-12T10:09:57.009Z"
   },
   {
    "duration": 53,
    "start_time": "2022-05-12T10:09:57.019Z"
   },
   {
    "duration": 18,
    "start_time": "2022-05-12T10:09:57.073Z"
   },
   {
    "duration": 19,
    "start_time": "2022-05-12T10:09:57.093Z"
   },
   {
    "duration": 17,
    "start_time": "2022-05-12T10:09:57.114Z"
   },
   {
    "duration": 7,
    "start_time": "2022-05-12T10:09:57.133Z"
   },
   {
    "duration": 17,
    "start_time": "2022-05-12T10:09:57.170Z"
   },
   {
    "duration": 9,
    "start_time": "2022-05-12T10:09:57.188Z"
   },
   {
    "duration": 18,
    "start_time": "2022-05-12T10:09:57.199Z"
   },
   {
    "duration": 12,
    "start_time": "2022-05-12T10:09:57.218Z"
   },
   {
    "duration": 13,
    "start_time": "2022-05-12T10:09:57.232Z"
   },
   {
    "duration": 10,
    "start_time": "2022-05-12T10:09:57.272Z"
   },
   {
    "duration": 10,
    "start_time": "2022-05-12T10:09:57.284Z"
   },
   {
    "duration": 6,
    "start_time": "2022-05-12T10:09:57.296Z"
   },
   {
    "duration": 14,
    "start_time": "2022-05-12T10:09:57.303Z"
   },
   {
    "duration": 7,
    "start_time": "2022-05-12T10:09:57.318Z"
   },
   {
    "duration": 14,
    "start_time": "2022-05-12T10:09:57.326Z"
   },
   {
    "duration": 13,
    "start_time": "2022-05-12T10:09:57.377Z"
   },
   {
    "duration": 5,
    "start_time": "2022-05-12T10:09:57.392Z"
   },
   {
    "duration": 11,
    "start_time": "2022-05-12T10:09:57.398Z"
   },
   {
    "duration": 12,
    "start_time": "2022-05-12T10:09:57.411Z"
   },
   {
    "duration": 8,
    "start_time": "2022-05-12T10:09:57.425Z"
   },
   {
    "duration": 4,
    "start_time": "2022-05-12T10:09:57.435Z"
   },
   {
    "duration": 138,
    "start_time": "2022-05-12T10:09:57.472Z"
   },
   {
    "duration": 8,
    "start_time": "2022-05-12T10:09:57.611Z"
   },
   {
    "duration": 24,
    "start_time": "2022-05-12T10:09:57.620Z"
   },
   {
    "duration": 11,
    "start_time": "2022-05-12T10:09:57.646Z"
   },
   {
    "duration": 11,
    "start_time": "2022-05-12T10:09:57.671Z"
   },
   {
    "duration": 9,
    "start_time": "2022-05-12T10:09:57.684Z"
   },
   {
    "duration": 435,
    "start_time": "2022-05-12T10:11:38.851Z"
   },
   {
    "duration": 56,
    "start_time": "2022-05-12T10:11:39.288Z"
   },
   {
    "duration": 26,
    "start_time": "2022-05-12T10:11:39.346Z"
   },
   {
    "duration": 16,
    "start_time": "2022-05-12T10:11:39.374Z"
   },
   {
    "duration": 10,
    "start_time": "2022-05-12T10:11:39.391Z"
   },
   {
    "duration": 7,
    "start_time": "2022-05-12T10:11:39.403Z"
   },
   {
    "duration": 8,
    "start_time": "2022-05-12T10:11:39.411Z"
   },
   {
    "duration": 4,
    "start_time": "2022-05-12T10:11:39.421Z"
   },
   {
    "duration": 4,
    "start_time": "2022-05-12T10:11:39.426Z"
   },
   {
    "duration": 3,
    "start_time": "2022-05-12T10:11:39.472Z"
   },
   {
    "duration": 6,
    "start_time": "2022-05-12T10:11:39.477Z"
   },
   {
    "duration": 9,
    "start_time": "2022-05-12T10:11:39.484Z"
   },
   {
    "duration": 3,
    "start_time": "2022-05-12T10:11:39.495Z"
   },
   {
    "duration": 9,
    "start_time": "2022-05-12T10:11:39.500Z"
   },
   {
    "duration": 6,
    "start_time": "2022-05-12T10:11:39.512Z"
   },
   {
    "duration": 54,
    "start_time": "2022-05-12T10:11:39.519Z"
   },
   {
    "duration": 5,
    "start_time": "2022-05-12T10:11:39.575Z"
   },
   {
    "duration": 6,
    "start_time": "2022-05-12T10:11:39.582Z"
   },
   {
    "duration": 24,
    "start_time": "2022-05-12T10:11:39.589Z"
   },
   {
    "duration": 3,
    "start_time": "2022-05-12T10:11:39.615Z"
   },
   {
    "duration": 5,
    "start_time": "2022-05-12T10:11:39.619Z"
   },
   {
    "duration": 4,
    "start_time": "2022-05-12T10:11:39.626Z"
   },
   {
    "duration": 4,
    "start_time": "2022-05-12T10:11:39.671Z"
   },
   {
    "duration": 22,
    "start_time": "2022-05-12T10:11:39.677Z"
   },
   {
    "duration": 149,
    "start_time": "2022-05-12T10:11:39.700Z"
   },
   {
    "duration": 20,
    "start_time": "2022-05-12T10:11:39.851Z"
   },
   {
    "duration": 4,
    "start_time": "2022-05-12T10:11:39.872Z"
   },
   {
    "duration": 11,
    "start_time": "2022-05-12T10:11:39.880Z"
   },
   {
    "duration": 5,
    "start_time": "2022-05-12T10:11:39.892Z"
   },
   {
    "duration": 4,
    "start_time": "2022-05-12T10:11:39.898Z"
   },
   {
    "duration": 4,
    "start_time": "2022-05-12T10:11:39.903Z"
   },
   {
    "duration": 5,
    "start_time": "2022-05-12T10:11:39.908Z"
   },
   {
    "duration": 5,
    "start_time": "2022-05-12T10:11:39.915Z"
   },
   {
    "duration": 4,
    "start_time": "2022-05-12T10:11:39.971Z"
   },
   {
    "duration": 5,
    "start_time": "2022-05-12T10:11:39.976Z"
   },
   {
    "duration": 6,
    "start_time": "2022-05-12T10:11:39.983Z"
   },
   {
    "duration": 5,
    "start_time": "2022-05-12T10:11:39.991Z"
   },
   {
    "duration": 7,
    "start_time": "2022-05-12T10:11:39.997Z"
   },
   {
    "duration": 7,
    "start_time": "2022-05-12T10:11:40.006Z"
   },
   {
    "duration": 9,
    "start_time": "2022-05-12T10:11:40.014Z"
   },
   {
    "duration": 49,
    "start_time": "2022-05-12T10:11:40.025Z"
   },
   {
    "duration": 19,
    "start_time": "2022-05-12T10:11:40.075Z"
   },
   {
    "duration": 19,
    "start_time": "2022-05-12T10:11:40.095Z"
   },
   {
    "duration": 17,
    "start_time": "2022-05-12T10:11:40.115Z"
   },
   {
    "duration": 8,
    "start_time": "2022-05-12T10:11:40.170Z"
   },
   {
    "duration": 18,
    "start_time": "2022-05-12T10:11:40.180Z"
   },
   {
    "duration": 7,
    "start_time": "2022-05-12T10:11:40.200Z"
   },
   {
    "duration": 20,
    "start_time": "2022-05-12T10:11:40.209Z"
   },
   {
    "duration": 6,
    "start_time": "2022-05-12T10:11:40.231Z"
   },
   {
    "duration": 13,
    "start_time": "2022-05-12T10:11:40.270Z"
   },
   {
    "duration": 8,
    "start_time": "2022-05-12T10:11:40.285Z"
   },
   {
    "duration": 9,
    "start_time": "2022-05-12T10:11:40.295Z"
   },
   {
    "duration": 6,
    "start_time": "2022-05-12T10:11:40.306Z"
   },
   {
    "duration": 13,
    "start_time": "2022-05-12T10:11:40.313Z"
   },
   {
    "duration": 5,
    "start_time": "2022-05-12T10:11:40.328Z"
   },
   {
    "duration": 13,
    "start_time": "2022-05-12T10:11:40.370Z"
   },
   {
    "duration": 15,
    "start_time": "2022-05-12T10:11:40.385Z"
   },
   {
    "duration": 7,
    "start_time": "2022-05-12T10:11:40.401Z"
   },
   {
    "duration": 13,
    "start_time": "2022-05-12T10:11:40.409Z"
   },
   {
    "duration": 16,
    "start_time": "2022-05-12T10:11:40.423Z"
   },
   {
    "duration": 31,
    "start_time": "2022-05-12T10:11:40.441Z"
   },
   {
    "duration": 3,
    "start_time": "2022-05-12T10:11:40.473Z"
   },
   {
    "duration": 140,
    "start_time": "2022-05-12T10:11:40.478Z"
   },
   {
    "duration": 8,
    "start_time": "2022-05-12T10:11:40.619Z"
   },
   {
    "duration": 20,
    "start_time": "2022-05-12T10:11:40.628Z"
   },
   {
    "duration": 23,
    "start_time": "2022-05-12T10:11:40.649Z"
   },
   {
    "duration": 47,
    "start_time": "2022-05-12T10:13:07.252Z"
   },
   {
    "duration": 6,
    "start_time": "2022-05-12T10:13:10.891Z"
   },
   {
    "duration": 427,
    "start_time": "2022-05-12T10:13:17.298Z"
   },
   {
    "duration": 76,
    "start_time": "2022-05-12T10:13:17.727Z"
   },
   {
    "duration": 24,
    "start_time": "2022-05-12T10:13:17.805Z"
   },
   {
    "duration": 22,
    "start_time": "2022-05-12T10:13:17.831Z"
   },
   {
    "duration": 25,
    "start_time": "2022-05-12T10:13:17.854Z"
   },
   {
    "duration": 6,
    "start_time": "2022-05-12T10:13:17.881Z"
   },
   {
    "duration": 14,
    "start_time": "2022-05-12T10:13:17.889Z"
   },
   {
    "duration": 5,
    "start_time": "2022-05-12T10:13:17.905Z"
   },
   {
    "duration": 5,
    "start_time": "2022-05-12T10:13:17.912Z"
   },
   {
    "duration": 6,
    "start_time": "2022-05-12T10:13:17.920Z"
   },
   {
    "duration": 8,
    "start_time": "2022-05-12T10:13:17.928Z"
   },
   {
    "duration": 35,
    "start_time": "2022-05-12T10:13:17.937Z"
   },
   {
    "duration": 4,
    "start_time": "2022-05-12T10:13:17.974Z"
   },
   {
    "duration": 12,
    "start_time": "2022-05-12T10:13:17.979Z"
   },
   {
    "duration": 7,
    "start_time": "2022-05-12T10:13:17.993Z"
   },
   {
    "duration": 25,
    "start_time": "2022-05-12T10:13:18.002Z"
   },
   {
    "duration": 5,
    "start_time": "2022-05-12T10:13:18.028Z"
   },
   {
    "duration": 8,
    "start_time": "2022-05-12T10:13:18.035Z"
   },
   {
    "duration": 46,
    "start_time": "2022-05-12T10:13:18.044Z"
   },
   {
    "duration": 4,
    "start_time": "2022-05-12T10:13:18.091Z"
   },
   {
    "duration": 7,
    "start_time": "2022-05-12T10:13:18.096Z"
   },
   {
    "duration": 9,
    "start_time": "2022-05-12T10:13:18.105Z"
   },
   {
    "duration": 5,
    "start_time": "2022-05-12T10:13:18.116Z"
   },
   {
    "duration": 72,
    "start_time": "2022-05-12T10:13:18.123Z"
   },
   {
    "duration": 200,
    "start_time": "2022-05-12T10:13:18.198Z"
   },
   {
    "duration": 15,
    "start_time": "2022-05-12T10:13:18.400Z"
   },
   {
    "duration": 6,
    "start_time": "2022-05-12T10:13:18.417Z"
   },
   {
    "duration": 11,
    "start_time": "2022-05-12T10:13:18.428Z"
   },
   {
    "duration": 33,
    "start_time": "2022-05-12T10:13:18.441Z"
   },
   {
    "duration": 8,
    "start_time": "2022-05-12T10:13:18.476Z"
   },
   {
    "duration": 5,
    "start_time": "2022-05-12T10:13:18.486Z"
   },
   {
    "duration": 8,
    "start_time": "2022-05-12T10:13:18.493Z"
   },
   {
    "duration": 7,
    "start_time": "2022-05-12T10:13:18.503Z"
   },
   {
    "duration": 4,
    "start_time": "2022-05-12T10:13:18.512Z"
   },
   {
    "duration": 10,
    "start_time": "2022-05-12T10:13:18.517Z"
   },
   {
    "duration": 22,
    "start_time": "2022-05-12T10:13:18.528Z"
   },
   {
    "duration": 20,
    "start_time": "2022-05-12T10:13:18.552Z"
   },
   {
    "duration": 11,
    "start_time": "2022-05-12T10:13:18.573Z"
   },
   {
    "duration": 7,
    "start_time": "2022-05-12T10:13:18.586Z"
   },
   {
    "duration": 14,
    "start_time": "2022-05-12T10:13:18.595Z"
   },
   {
    "duration": 11,
    "start_time": "2022-05-12T10:13:18.611Z"
   },
   {
    "duration": 51,
    "start_time": "2022-05-12T10:13:18.624Z"
   },
   {
    "duration": 21,
    "start_time": "2022-05-12T10:13:18.677Z"
   },
   {
    "duration": 18,
    "start_time": "2022-05-12T10:13:18.700Z"
   },
   {
    "duration": 7,
    "start_time": "2022-05-12T10:13:18.720Z"
   },
   {
    "duration": 45,
    "start_time": "2022-05-12T10:13:18.728Z"
   },
   {
    "duration": 8,
    "start_time": "2022-05-12T10:13:18.774Z"
   },
   {
    "duration": 28,
    "start_time": "2022-05-12T10:13:18.784Z"
   },
   {
    "duration": 8,
    "start_time": "2022-05-12T10:13:18.814Z"
   },
   {
    "duration": 13,
    "start_time": "2022-05-12T10:13:18.823Z"
   },
   {
    "duration": 35,
    "start_time": "2022-05-12T10:13:18.837Z"
   },
   {
    "duration": 7,
    "start_time": "2022-05-12T10:13:18.874Z"
   },
   {
    "duration": 12,
    "start_time": "2022-05-12T10:13:18.883Z"
   },
   {
    "duration": 18,
    "start_time": "2022-05-12T10:13:18.898Z"
   },
   {
    "duration": 6,
    "start_time": "2022-05-12T10:13:18.918Z"
   },
   {
    "duration": 19,
    "start_time": "2022-05-12T10:13:18.925Z"
   },
   {
    "duration": 16,
    "start_time": "2022-05-12T10:13:18.971Z"
   },
   {
    "duration": 8,
    "start_time": "2022-05-12T10:13:18.988Z"
   },
   {
    "duration": 17,
    "start_time": "2022-05-12T10:13:18.997Z"
   },
   {
    "duration": 13,
    "start_time": "2022-05-12T10:13:19.016Z"
   },
   {
    "duration": 9,
    "start_time": "2022-05-12T10:13:19.031Z"
   },
   {
    "duration": 31,
    "start_time": "2022-05-12T10:13:19.042Z"
   },
   {
    "duration": 135,
    "start_time": "2022-05-12T10:13:19.075Z"
   },
   {
    "duration": 6,
    "start_time": "2022-05-12T10:13:19.212Z"
   },
   {
    "duration": 34,
    "start_time": "2022-05-12T10:13:19.220Z"
   },
   {
    "duration": 22,
    "start_time": "2022-05-12T10:13:19.256Z"
   },
   {
    "duration": 445,
    "start_time": "2022-05-12T10:13:31.649Z"
   },
   {
    "duration": 98,
    "start_time": "2022-05-12T10:13:32.096Z"
   },
   {
    "duration": 24,
    "start_time": "2022-05-12T10:13:32.196Z"
   },
   {
    "duration": 20,
    "start_time": "2022-05-12T10:13:32.223Z"
   },
   {
    "duration": 30,
    "start_time": "2022-05-12T10:13:32.245Z"
   },
   {
    "duration": 4,
    "start_time": "2022-05-12T10:13:32.277Z"
   },
   {
    "duration": 6,
    "start_time": "2022-05-12T10:13:32.283Z"
   },
   {
    "duration": 4,
    "start_time": "2022-05-12T10:13:32.290Z"
   },
   {
    "duration": 8,
    "start_time": "2022-05-12T10:13:32.295Z"
   },
   {
    "duration": 5,
    "start_time": "2022-05-12T10:13:32.305Z"
   },
   {
    "duration": 7,
    "start_time": "2022-05-12T10:13:32.312Z"
   },
   {
    "duration": 9,
    "start_time": "2022-05-12T10:13:32.321Z"
   },
   {
    "duration": 3,
    "start_time": "2022-05-12T10:13:32.371Z"
   },
   {
    "duration": 9,
    "start_time": "2022-05-12T10:13:32.376Z"
   },
   {
    "duration": 7,
    "start_time": "2022-05-12T10:13:32.387Z"
   },
   {
    "duration": 14,
    "start_time": "2022-05-12T10:13:32.396Z"
   },
   {
    "duration": 5,
    "start_time": "2022-05-12T10:13:32.412Z"
   },
   {
    "duration": 9,
    "start_time": "2022-05-12T10:13:32.419Z"
   },
   {
    "duration": 70,
    "start_time": "2022-05-12T10:13:32.430Z"
   },
   {
    "duration": 4,
    "start_time": "2022-05-12T10:13:32.502Z"
   },
   {
    "duration": 6,
    "start_time": "2022-05-12T10:13:32.508Z"
   },
   {
    "duration": 4,
    "start_time": "2022-05-12T10:13:32.516Z"
   },
   {
    "duration": 13,
    "start_time": "2022-05-12T10:13:32.522Z"
   },
   {
    "duration": 51,
    "start_time": "2022-05-12T10:13:32.537Z"
   },
   {
    "duration": 205,
    "start_time": "2022-05-12T10:13:32.590Z"
   },
   {
    "duration": 18,
    "start_time": "2022-05-12T10:13:32.797Z"
   },
   {
    "duration": 4,
    "start_time": "2022-05-12T10:13:32.817Z"
   },
   {
    "duration": 10,
    "start_time": "2022-05-12T10:13:32.825Z"
   },
   {
    "duration": 6,
    "start_time": "2022-05-12T10:13:32.837Z"
   },
   {
    "duration": 5,
    "start_time": "2022-05-12T10:13:32.870Z"
   },
   {
    "duration": 4,
    "start_time": "2022-05-12T10:13:32.877Z"
   },
   {
    "duration": 5,
    "start_time": "2022-05-12T10:13:32.883Z"
   },
   {
    "duration": 7,
    "start_time": "2022-05-12T10:13:32.890Z"
   },
   {
    "duration": 3,
    "start_time": "2022-05-12T10:13:32.899Z"
   },
   {
    "duration": 6,
    "start_time": "2022-05-12T10:13:32.904Z"
   },
   {
    "duration": 10,
    "start_time": "2022-05-12T10:13:32.911Z"
   },
   {
    "duration": 5,
    "start_time": "2022-05-12T10:13:32.922Z"
   },
   {
    "duration": 45,
    "start_time": "2022-05-12T10:13:32.929Z"
   },
   {
    "duration": 6,
    "start_time": "2022-05-12T10:13:32.976Z"
   },
   {
    "duration": 8,
    "start_time": "2022-05-12T10:13:32.984Z"
   },
   {
    "duration": 8,
    "start_time": "2022-05-12T10:13:32.994Z"
   },
   {
    "duration": 18,
    "start_time": "2022-05-12T10:13:33.003Z"
   },
   {
    "duration": 56,
    "start_time": "2022-05-12T10:13:33.024Z"
   },
   {
    "duration": 18,
    "start_time": "2022-05-12T10:13:33.082Z"
   },
   {
    "duration": 7,
    "start_time": "2022-05-12T10:13:33.101Z"
   },
   {
    "duration": 18,
    "start_time": "2022-05-12T10:13:33.109Z"
   },
   {
    "duration": 6,
    "start_time": "2022-05-12T10:13:33.129Z"
   },
   {
    "duration": 48,
    "start_time": "2022-05-12T10:13:33.136Z"
   },
   {
    "duration": 7,
    "start_time": "2022-05-12T10:13:33.185Z"
   },
   {
    "duration": 13,
    "start_time": "2022-05-12T10:13:33.193Z"
   },
   {
    "duration": 8,
    "start_time": "2022-05-12T10:13:33.208Z"
   },
   {
    "duration": 9,
    "start_time": "2022-05-12T10:13:33.217Z"
   },
   {
    "duration": 5,
    "start_time": "2022-05-12T10:13:33.228Z"
   },
   {
    "duration": 43,
    "start_time": "2022-05-12T10:13:33.235Z"
   },
   {
    "duration": 4,
    "start_time": "2022-05-12T10:13:33.279Z"
   },
   {
    "duration": 17,
    "start_time": "2022-05-12T10:13:33.285Z"
   },
   {
    "duration": 15,
    "start_time": "2022-05-12T10:13:33.303Z"
   },
   {
    "duration": 17,
    "start_time": "2022-05-12T10:13:33.320Z"
   },
   {
    "duration": 32,
    "start_time": "2022-05-12T10:13:33.339Z"
   },
   {
    "duration": 15,
    "start_time": "2022-05-12T10:13:33.373Z"
   },
   {
    "duration": 13,
    "start_time": "2022-05-12T10:13:33.389Z"
   },
   {
    "duration": 12,
    "start_time": "2022-05-12T10:13:33.404Z"
   },
   {
    "duration": 204,
    "start_time": "2022-05-12T10:13:33.418Z"
   },
   {
    "duration": 9,
    "start_time": "2022-05-12T10:13:33.624Z"
   },
   {
    "duration": 20,
    "start_time": "2022-05-12T10:13:33.634Z"
   },
   {
    "duration": 22,
    "start_time": "2022-05-12T10:13:33.656Z"
   },
   {
    "duration": 405,
    "start_time": "2022-05-12T10:13:59.716Z"
   },
   {
    "duration": 96,
    "start_time": "2022-05-12T10:14:00.123Z"
   },
   {
    "duration": 29,
    "start_time": "2022-05-12T10:14:00.221Z"
   },
   {
    "duration": 29,
    "start_time": "2022-05-12T10:14:00.252Z"
   },
   {
    "duration": 14,
    "start_time": "2022-05-12T10:14:00.283Z"
   },
   {
    "duration": 6,
    "start_time": "2022-05-12T10:14:00.298Z"
   },
   {
    "duration": 12,
    "start_time": "2022-05-12T10:14:00.306Z"
   },
   {
    "duration": 13,
    "start_time": "2022-05-12T10:14:00.319Z"
   },
   {
    "duration": 9,
    "start_time": "2022-05-12T10:14:00.334Z"
   },
   {
    "duration": 5,
    "start_time": "2022-05-12T10:14:00.370Z"
   },
   {
    "duration": 8,
    "start_time": "2022-05-12T10:14:00.376Z"
   },
   {
    "duration": 9,
    "start_time": "2022-05-12T10:14:00.385Z"
   },
   {
    "duration": 4,
    "start_time": "2022-05-12T10:14:00.396Z"
   },
   {
    "duration": 8,
    "start_time": "2022-05-12T10:14:00.401Z"
   },
   {
    "duration": 10,
    "start_time": "2022-05-12T10:14:00.411Z"
   },
   {
    "duration": 21,
    "start_time": "2022-05-12T10:14:00.422Z"
   },
   {
    "duration": 28,
    "start_time": "2022-05-12T10:14:00.445Z"
   },
   {
    "duration": 9,
    "start_time": "2022-05-12T10:14:00.475Z"
   },
   {
    "duration": 30,
    "start_time": "2022-05-12T10:14:00.486Z"
   },
   {
    "duration": 3,
    "start_time": "2022-05-12T10:14:00.518Z"
   },
   {
    "duration": 13,
    "start_time": "2022-05-12T10:14:00.523Z"
   },
   {
    "duration": 13,
    "start_time": "2022-05-12T10:14:00.538Z"
   },
   {
    "duration": 19,
    "start_time": "2022-05-12T10:14:00.553Z"
   },
   {
    "duration": 23,
    "start_time": "2022-05-12T10:14:00.573Z"
   },
   {
    "duration": 141,
    "start_time": "2022-05-12T10:14:00.598Z"
   },
   {
    "duration": 12,
    "start_time": "2022-05-12T10:14:00.741Z"
   },
   {
    "duration": 16,
    "start_time": "2022-05-12T10:14:00.755Z"
   },
   {
    "duration": 10,
    "start_time": "2022-05-12T10:14:00.774Z"
   },
   {
    "duration": 5,
    "start_time": "2022-05-12T10:14:00.786Z"
   },
   {
    "duration": 5,
    "start_time": "2022-05-12T10:14:00.792Z"
   },
   {
    "duration": 6,
    "start_time": "2022-05-12T10:14:00.799Z"
   },
   {
    "duration": 6,
    "start_time": "2022-05-12T10:14:00.807Z"
   },
   {
    "duration": 10,
    "start_time": "2022-05-12T10:14:00.815Z"
   },
   {
    "duration": 7,
    "start_time": "2022-05-12T10:14:00.827Z"
   },
   {
    "duration": 40,
    "start_time": "2022-05-12T10:14:00.836Z"
   },
   {
    "duration": 17,
    "start_time": "2022-05-12T10:14:00.879Z"
   },
   {
    "duration": 9,
    "start_time": "2022-05-12T10:14:00.898Z"
   },
   {
    "duration": 6,
    "start_time": "2022-05-12T10:14:00.909Z"
   },
   {
    "duration": 8,
    "start_time": "2022-05-12T10:14:00.916Z"
   },
   {
    "duration": 12,
    "start_time": "2022-05-12T10:14:00.925Z"
   },
   {
    "duration": 8,
    "start_time": "2022-05-12T10:14:00.938Z"
   },
   {
    "duration": 19,
    "start_time": "2022-05-12T10:14:00.971Z"
   },
   {
    "duration": 18,
    "start_time": "2022-05-12T10:14:00.992Z"
   },
   {
    "duration": 24,
    "start_time": "2022-05-12T10:14:01.012Z"
   },
   {
    "duration": 35,
    "start_time": "2022-05-12T10:14:01.038Z"
   },
   {
    "duration": 16,
    "start_time": "2022-05-12T10:14:01.075Z"
   },
   {
    "duration": 8,
    "start_time": "2022-05-12T10:14:01.093Z"
   },
   {
    "duration": 20,
    "start_time": "2022-05-12T10:14:01.102Z"
   },
   {
    "duration": 10,
    "start_time": "2022-05-12T10:14:01.124Z"
   },
   {
    "duration": 43,
    "start_time": "2022-05-12T10:14:01.135Z"
   },
   {
    "duration": 6,
    "start_time": "2022-05-12T10:14:01.180Z"
   },
   {
    "duration": 18,
    "start_time": "2022-05-12T10:14:01.188Z"
   },
   {
    "duration": 17,
    "start_time": "2022-05-12T10:14:01.208Z"
   },
   {
    "duration": 23,
    "start_time": "2022-05-12T10:14:01.227Z"
   },
   {
    "duration": 5,
    "start_time": "2022-05-12T10:14:01.252Z"
   },
   {
    "duration": 29,
    "start_time": "2022-05-12T10:14:01.259Z"
   },
   {
    "duration": 15,
    "start_time": "2022-05-12T10:14:01.290Z"
   },
   {
    "duration": 8,
    "start_time": "2022-05-12T10:14:01.307Z"
   },
   {
    "duration": 23,
    "start_time": "2022-05-12T10:14:01.316Z"
   },
   {
    "duration": 15,
    "start_time": "2022-05-12T10:14:01.341Z"
   },
   {
    "duration": 18,
    "start_time": "2022-05-12T10:14:01.358Z"
   },
   {
    "duration": 13,
    "start_time": "2022-05-12T10:14:01.378Z"
   },
   {
    "duration": 132,
    "start_time": "2022-05-12T10:14:01.393Z"
   },
   {
    "duration": 7,
    "start_time": "2022-05-12T10:14:01.527Z"
   },
   {
    "duration": 26,
    "start_time": "2022-05-12T10:14:01.535Z"
   },
   {
    "duration": 10,
    "start_time": "2022-05-12T10:14:01.571Z"
   },
   {
    "duration": 8,
    "start_time": "2022-05-12T10:14:01.583Z"
   },
   {
    "duration": 7,
    "start_time": "2022-05-12T10:16:01.334Z"
   },
   {
    "duration": 15,
    "start_time": "2022-05-12T10:16:44.088Z"
   },
   {
    "duration": 9,
    "start_time": "2022-05-12T10:20:25.972Z"
   },
   {
    "duration": 15,
    "start_time": "2022-05-12T10:20:34.892Z"
   },
   {
    "duration": 65,
    "start_time": "2022-05-12T10:21:46.067Z"
   },
   {
    "duration": 12,
    "start_time": "2022-05-12T10:21:59.017Z"
   },
   {
    "duration": 12,
    "start_time": "2022-05-12T10:22:21.057Z"
   },
   {
    "duration": 418,
    "start_time": "2022-05-12T10:22:28.836Z"
   },
   {
    "duration": 55,
    "start_time": "2022-05-12T10:22:29.256Z"
   },
   {
    "duration": 18,
    "start_time": "2022-05-12T10:22:29.313Z"
   },
   {
    "duration": 14,
    "start_time": "2022-05-12T10:22:29.332Z"
   },
   {
    "duration": 27,
    "start_time": "2022-05-12T10:22:29.348Z"
   },
   {
    "duration": 4,
    "start_time": "2022-05-12T10:22:29.376Z"
   },
   {
    "duration": 6,
    "start_time": "2022-05-12T10:22:29.381Z"
   },
   {
    "duration": 5,
    "start_time": "2022-05-12T10:22:29.388Z"
   },
   {
    "duration": 4,
    "start_time": "2022-05-12T10:22:29.395Z"
   },
   {
    "duration": 3,
    "start_time": "2022-05-12T10:22:29.402Z"
   },
   {
    "duration": 7,
    "start_time": "2022-05-12T10:22:29.406Z"
   },
   {
    "duration": 10,
    "start_time": "2022-05-12T10:22:29.414Z"
   },
   {
    "duration": 3,
    "start_time": "2022-05-12T10:22:29.471Z"
   },
   {
    "duration": 7,
    "start_time": "2022-05-12T10:22:29.475Z"
   },
   {
    "duration": 5,
    "start_time": "2022-05-12T10:22:29.484Z"
   },
   {
    "duration": 13,
    "start_time": "2022-05-12T10:22:29.491Z"
   },
   {
    "duration": 5,
    "start_time": "2022-05-12T10:22:29.505Z"
   },
   {
    "duration": 6,
    "start_time": "2022-05-12T10:22:29.511Z"
   },
   {
    "duration": 64,
    "start_time": "2022-05-12T10:22:29.518Z"
   },
   {
    "duration": 3,
    "start_time": "2022-05-12T10:22:29.584Z"
   },
   {
    "duration": 6,
    "start_time": "2022-05-12T10:22:29.588Z"
   },
   {
    "duration": 9,
    "start_time": "2022-05-12T10:22:29.596Z"
   },
   {
    "duration": 14,
    "start_time": "2022-05-12T10:22:29.607Z"
   },
   {
    "duration": 31,
    "start_time": "2022-05-12T10:22:29.623Z"
   },
   {
    "duration": 205,
    "start_time": "2022-05-12T10:22:29.672Z"
   },
   {
    "duration": 17,
    "start_time": "2022-05-12T10:22:29.879Z"
   },
   {
    "duration": 5,
    "start_time": "2022-05-12T10:22:29.898Z"
   },
   {
    "duration": 15,
    "start_time": "2022-05-12T10:22:29.909Z"
   },
   {
    "duration": 5,
    "start_time": "2022-05-12T10:22:29.926Z"
   },
   {
    "duration": 7,
    "start_time": "2022-05-12T10:22:29.932Z"
   },
   {
    "duration": 4,
    "start_time": "2022-05-12T10:22:29.971Z"
   },
   {
    "duration": 7,
    "start_time": "2022-05-12T10:22:29.976Z"
   },
   {
    "duration": 6,
    "start_time": "2022-05-12T10:22:29.984Z"
   },
   {
    "duration": 3,
    "start_time": "2022-05-12T10:22:29.992Z"
   },
   {
    "duration": 6,
    "start_time": "2022-05-12T10:22:29.997Z"
   },
   {
    "duration": 10,
    "start_time": "2022-05-12T10:22:30.004Z"
   },
   {
    "duration": 7,
    "start_time": "2022-05-12T10:22:30.016Z"
   },
   {
    "duration": 6,
    "start_time": "2022-05-12T10:22:30.025Z"
   },
   {
    "duration": 42,
    "start_time": "2022-05-12T10:22:30.033Z"
   },
   {
    "duration": 11,
    "start_time": "2022-05-12T10:22:30.076Z"
   },
   {
    "duration": 9,
    "start_time": "2022-05-12T10:22:30.089Z"
   },
   {
    "duration": 23,
    "start_time": "2022-05-12T10:22:30.100Z"
   },
   {
    "duration": 18,
    "start_time": "2022-05-12T10:22:30.125Z"
   },
   {
    "duration": 36,
    "start_time": "2022-05-12T10:22:30.145Z"
   },
   {
    "duration": 7,
    "start_time": "2022-05-12T10:22:30.182Z"
   },
   {
    "duration": 18,
    "start_time": "2022-05-12T10:22:30.190Z"
   },
   {
    "duration": 12,
    "start_time": "2022-05-12T10:22:30.209Z"
   },
   {
    "duration": 21,
    "start_time": "2022-05-12T10:22:30.222Z"
   },
   {
    "duration": 10,
    "start_time": "2022-05-12T10:22:30.245Z"
   },
   {
    "duration": 13,
    "start_time": "2022-05-12T10:22:30.271Z"
   },
   {
    "duration": 10,
    "start_time": "2022-05-12T10:22:30.286Z"
   },
   {
    "duration": 15,
    "start_time": "2022-05-12T10:22:30.297Z"
   },
   {
    "duration": 7,
    "start_time": "2022-05-12T10:22:30.314Z"
   },
   {
    "duration": 18,
    "start_time": "2022-05-12T10:22:30.322Z"
   },
   {
    "duration": 10,
    "start_time": "2022-05-12T10:22:30.341Z"
   },
   {
    "duration": 22,
    "start_time": "2022-05-12T10:22:30.353Z"
   },
   {
    "duration": 13,
    "start_time": "2022-05-12T10:22:30.376Z"
   },
   {
    "duration": 10,
    "start_time": "2022-05-12T10:22:30.390Z"
   },
   {
    "duration": 16,
    "start_time": "2022-05-12T10:22:30.401Z"
   },
   {
    "duration": 11,
    "start_time": "2022-05-12T10:22:30.419Z"
   },
   {
    "duration": 12,
    "start_time": "2022-05-12T10:22:30.431Z"
   },
   {
    "duration": 5,
    "start_time": "2022-05-12T10:22:30.444Z"
   },
   {
    "duration": 133,
    "start_time": "2022-05-12T10:22:30.471Z"
   },
   {
    "duration": 6,
    "start_time": "2022-05-12T10:22:30.606Z"
   },
   {
    "duration": 25,
    "start_time": "2022-05-12T10:22:30.613Z"
   },
   {
    "duration": 12,
    "start_time": "2022-05-12T10:22:30.640Z"
   },
   {
    "duration": 21,
    "start_time": "2022-05-12T10:22:30.653Z"
   },
   {
    "duration": 22,
    "start_time": "2022-05-12T10:22:30.676Z"
   },
   {
    "duration": 22,
    "start_time": "2022-05-12T10:22:30.699Z"
   },
   {
    "duration": 421,
    "start_time": "2022-05-12T10:23:03.050Z"
   },
   {
    "duration": 55,
    "start_time": "2022-05-12T10:23:03.473Z"
   },
   {
    "duration": 19,
    "start_time": "2022-05-12T10:23:03.530Z"
   },
   {
    "duration": 27,
    "start_time": "2022-05-12T10:23:03.551Z"
   },
   {
    "duration": 9,
    "start_time": "2022-05-12T10:23:03.580Z"
   },
   {
    "duration": 4,
    "start_time": "2022-05-12T10:23:03.591Z"
   },
   {
    "duration": 5,
    "start_time": "2022-05-12T10:23:03.597Z"
   },
   {
    "duration": 3,
    "start_time": "2022-05-12T10:23:03.604Z"
   },
   {
    "duration": 4,
    "start_time": "2022-05-12T10:23:03.609Z"
   },
   {
    "duration": 4,
    "start_time": "2022-05-12T10:23:03.615Z"
   },
   {
    "duration": 5,
    "start_time": "2022-05-12T10:23:03.621Z"
   },
   {
    "duration": 44,
    "start_time": "2022-05-12T10:23:03.628Z"
   },
   {
    "duration": 3,
    "start_time": "2022-05-12T10:23:03.674Z"
   },
   {
    "duration": 9,
    "start_time": "2022-05-12T10:23:03.681Z"
   },
   {
    "duration": 5,
    "start_time": "2022-05-12T10:23:03.692Z"
   },
   {
    "duration": 15,
    "start_time": "2022-05-12T10:23:03.699Z"
   },
   {
    "duration": 3,
    "start_time": "2022-05-12T10:23:03.715Z"
   },
   {
    "duration": 7,
    "start_time": "2022-05-12T10:23:03.720Z"
   },
   {
    "duration": 60,
    "start_time": "2022-05-12T10:23:03.729Z"
   },
   {
    "duration": 3,
    "start_time": "2022-05-12T10:23:03.791Z"
   },
   {
    "duration": 6,
    "start_time": "2022-05-12T10:23:03.796Z"
   },
   {
    "duration": 3,
    "start_time": "2022-05-12T10:23:03.804Z"
   },
   {
    "duration": 4,
    "start_time": "2022-05-12T10:23:03.809Z"
   },
   {
    "duration": 19,
    "start_time": "2022-05-12T10:23:03.815Z"
   },
   {
    "duration": 148,
    "start_time": "2022-05-12T10:23:03.836Z"
   },
   {
    "duration": 11,
    "start_time": "2022-05-12T10:23:03.986Z"
   },
   {
    "duration": 4,
    "start_time": "2022-05-12T10:23:03.999Z"
   },
   {
    "duration": 12,
    "start_time": "2022-05-12T10:23:04.005Z"
   },
   {
    "duration": 5,
    "start_time": "2022-05-12T10:23:04.018Z"
   },
   {
    "duration": 4,
    "start_time": "2022-05-12T10:23:04.024Z"
   },
   {
    "duration": 4,
    "start_time": "2022-05-12T10:23:04.029Z"
   },
   {
    "duration": 37,
    "start_time": "2022-05-12T10:23:04.035Z"
   },
   {
    "duration": 6,
    "start_time": "2022-05-12T10:23:04.073Z"
   },
   {
    "duration": 3,
    "start_time": "2022-05-12T10:23:04.081Z"
   },
   {
    "duration": 8,
    "start_time": "2022-05-12T10:23:04.086Z"
   },
   {
    "duration": 6,
    "start_time": "2022-05-12T10:23:04.096Z"
   },
   {
    "duration": 5,
    "start_time": "2022-05-12T10:23:04.103Z"
   },
   {
    "duration": 6,
    "start_time": "2022-05-12T10:23:04.109Z"
   },
   {
    "duration": 6,
    "start_time": "2022-05-12T10:23:04.117Z"
   },
   {
    "duration": 8,
    "start_time": "2022-05-12T10:23:04.124Z"
   },
   {
    "duration": 8,
    "start_time": "2022-05-12T10:23:04.172Z"
   },
   {
    "duration": 17,
    "start_time": "2022-05-12T10:23:04.182Z"
   },
   {
    "duration": 18,
    "start_time": "2022-05-12T10:23:04.201Z"
   },
   {
    "duration": 16,
    "start_time": "2022-05-12T10:23:04.220Z"
   },
   {
    "duration": 36,
    "start_time": "2022-05-12T10:23:04.237Z"
   },
   {
    "duration": 16,
    "start_time": "2022-05-12T10:23:04.274Z"
   },
   {
    "duration": 7,
    "start_time": "2022-05-12T10:23:04.292Z"
   },
   {
    "duration": 18,
    "start_time": "2022-05-12T10:23:04.300Z"
   },
   {
    "duration": 6,
    "start_time": "2022-05-12T10:23:04.320Z"
   },
   {
    "duration": 15,
    "start_time": "2022-05-12T10:23:04.328Z"
   },
   {
    "duration": 7,
    "start_time": "2022-05-12T10:23:04.371Z"
   },
   {
    "duration": 10,
    "start_time": "2022-05-12T10:23:04.380Z"
   },
   {
    "duration": 5,
    "start_time": "2022-05-12T10:23:04.392Z"
   },
   {
    "duration": 12,
    "start_time": "2022-05-12T10:23:04.398Z"
   },
   {
    "duration": 4,
    "start_time": "2022-05-12T10:23:04.412Z"
   },
   {
    "duration": 14,
    "start_time": "2022-05-12T10:23:04.417Z"
   },
   {
    "duration": 51,
    "start_time": "2022-05-12T10:23:04.432Z"
   },
   {
    "duration": 4,
    "start_time": "2022-05-12T10:23:04.485Z"
   },
   {
    "duration": 11,
    "start_time": "2022-05-12T10:23:04.490Z"
   },
   {
    "duration": 13,
    "start_time": "2022-05-12T10:23:04.502Z"
   },
   {
    "duration": 7,
    "start_time": "2022-05-12T10:23:04.517Z"
   },
   {
    "duration": 5,
    "start_time": "2022-05-12T10:23:04.526Z"
   },
   {
    "duration": 149,
    "start_time": "2022-05-12T10:23:04.533Z"
   },
   {
    "duration": 8,
    "start_time": "2022-05-12T10:23:04.684Z"
   },
   {
    "duration": 18,
    "start_time": "2022-05-12T10:23:04.694Z"
   },
   {
    "duration": 10,
    "start_time": "2022-05-12T10:23:04.714Z"
   },
   {
    "duration": 7,
    "start_time": "2022-05-12T10:23:04.726Z"
   },
   {
    "duration": 38,
    "start_time": "2022-05-12T10:23:04.735Z"
   },
   {
    "duration": 7,
    "start_time": "2022-05-12T10:23:04.775Z"
   },
   {
    "duration": 10,
    "start_time": "2022-05-12T10:23:04.784Z"
   },
   {
    "duration": 7,
    "start_time": "2022-05-12T10:23:53.999Z"
   },
   {
    "duration": 399,
    "start_time": "2022-05-12T10:23:58.377Z"
   },
   {
    "duration": 57,
    "start_time": "2022-05-12T10:23:58.778Z"
   },
   {
    "duration": 17,
    "start_time": "2022-05-12T10:23:58.837Z"
   },
   {
    "duration": 23,
    "start_time": "2022-05-12T10:23:58.856Z"
   },
   {
    "duration": 9,
    "start_time": "2022-05-12T10:23:58.880Z"
   },
   {
    "duration": 10,
    "start_time": "2022-05-12T10:23:58.891Z"
   },
   {
    "duration": 8,
    "start_time": "2022-05-12T10:23:58.903Z"
   },
   {
    "duration": 7,
    "start_time": "2022-05-12T10:23:58.912Z"
   },
   {
    "duration": 5,
    "start_time": "2022-05-12T10:23:58.920Z"
   },
   {
    "duration": 4,
    "start_time": "2022-05-12T10:23:58.927Z"
   },
   {
    "duration": 5,
    "start_time": "2022-05-12T10:23:58.932Z"
   },
   {
    "duration": 33,
    "start_time": "2022-05-12T10:23:58.938Z"
   },
   {
    "duration": 3,
    "start_time": "2022-05-12T10:23:58.973Z"
   },
   {
    "duration": 7,
    "start_time": "2022-05-12T10:23:58.977Z"
   },
   {
    "duration": 5,
    "start_time": "2022-05-12T10:23:58.985Z"
   },
   {
    "duration": 13,
    "start_time": "2022-05-12T10:23:58.992Z"
   },
   {
    "duration": 5,
    "start_time": "2022-05-12T10:23:59.006Z"
   },
   {
    "duration": 6,
    "start_time": "2022-05-12T10:23:59.012Z"
   },
   {
    "duration": 54,
    "start_time": "2022-05-12T10:23:59.019Z"
   },
   {
    "duration": 3,
    "start_time": "2022-05-12T10:23:59.075Z"
   },
   {
    "duration": 8,
    "start_time": "2022-05-12T10:23:59.079Z"
   },
   {
    "duration": 4,
    "start_time": "2022-05-12T10:23:59.089Z"
   },
   {
    "duration": 5,
    "start_time": "2022-05-12T10:23:59.094Z"
   },
   {
    "duration": 20,
    "start_time": "2022-05-12T10:23:59.101Z"
   },
   {
    "duration": 148,
    "start_time": "2022-05-12T10:23:59.123Z"
   },
   {
    "duration": 12,
    "start_time": "2022-05-12T10:23:59.272Z"
   },
   {
    "duration": 6,
    "start_time": "2022-05-12T10:23:59.286Z"
   },
   {
    "duration": 9,
    "start_time": "2022-05-12T10:23:59.297Z"
   },
   {
    "duration": 5,
    "start_time": "2022-05-12T10:23:59.308Z"
   },
   {
    "duration": 4,
    "start_time": "2022-05-12T10:23:59.314Z"
   },
   {
    "duration": 4,
    "start_time": "2022-05-12T10:23:59.320Z"
   },
   {
    "duration": 6,
    "start_time": "2022-05-12T10:23:59.325Z"
   },
   {
    "duration": 7,
    "start_time": "2022-05-12T10:23:59.370Z"
   },
   {
    "duration": 4,
    "start_time": "2022-05-12T10:23:59.379Z"
   },
   {
    "duration": 4,
    "start_time": "2022-05-12T10:23:59.385Z"
   },
   {
    "duration": 6,
    "start_time": "2022-05-12T10:23:59.390Z"
   },
   {
    "duration": 5,
    "start_time": "2022-05-12T10:23:59.398Z"
   },
   {
    "duration": 5,
    "start_time": "2022-05-12T10:23:59.405Z"
   },
   {
    "duration": 5,
    "start_time": "2022-05-12T10:23:59.412Z"
   },
   {
    "duration": 54,
    "start_time": "2022-05-12T10:23:59.418Z"
   },
   {
    "duration": 8,
    "start_time": "2022-05-12T10:23:59.474Z"
   },
   {
    "duration": 17,
    "start_time": "2022-05-12T10:23:59.484Z"
   },
   {
    "duration": 19,
    "start_time": "2022-05-12T10:23:59.503Z"
   },
   {
    "duration": 50,
    "start_time": "2022-05-12T10:23:59.524Z"
   },
   {
    "duration": 6,
    "start_time": "2022-05-12T10:23:59.576Z"
   },
   {
    "duration": 16,
    "start_time": "2022-05-12T10:23:59.584Z"
   },
   {
    "duration": 6,
    "start_time": "2022-05-12T10:23:59.602Z"
   },
   {
    "duration": 24,
    "start_time": "2022-05-12T10:23:59.610Z"
   },
   {
    "duration": 6,
    "start_time": "2022-05-12T10:23:59.636Z"
   },
   {
    "duration": 38,
    "start_time": "2022-05-12T10:23:59.644Z"
   },
   {
    "duration": 8,
    "start_time": "2022-05-12T10:23:59.683Z"
   },
   {
    "duration": 8,
    "start_time": "2022-05-12T10:23:59.693Z"
   },
   {
    "duration": 5,
    "start_time": "2022-05-12T10:23:59.702Z"
   },
   {
    "duration": 13,
    "start_time": "2022-05-12T10:23:59.709Z"
   },
   {
    "duration": 6,
    "start_time": "2022-05-12T10:23:59.723Z"
   },
   {
    "duration": 41,
    "start_time": "2022-05-12T10:23:59.730Z"
   },
   {
    "duration": 12,
    "start_time": "2022-05-12T10:23:59.773Z"
   },
   {
    "duration": 6,
    "start_time": "2022-05-12T10:23:59.787Z"
   },
   {
    "duration": 13,
    "start_time": "2022-05-12T10:23:59.795Z"
   },
   {
    "duration": 9,
    "start_time": "2022-05-12T10:23:59.809Z"
   },
   {
    "duration": 7,
    "start_time": "2022-05-12T10:23:59.820Z"
   },
   {
    "duration": 4,
    "start_time": "2022-05-12T10:23:59.828Z"
   },
   {
    "duration": 145,
    "start_time": "2022-05-12T10:23:59.833Z"
   },
   {
    "duration": 7,
    "start_time": "2022-05-12T10:23:59.980Z"
   },
   {
    "duration": 25,
    "start_time": "2022-05-12T10:23:59.989Z"
   },
   {
    "duration": 9,
    "start_time": "2022-05-12T10:24:00.016Z"
   },
   {
    "duration": 7,
    "start_time": "2022-05-12T10:24:00.027Z"
   },
   {
    "duration": 42,
    "start_time": "2022-05-12T10:24:00.036Z"
   },
   {
    "duration": 6,
    "start_time": "2022-05-12T10:24:00.079Z"
   },
   {
    "duration": 11,
    "start_time": "2022-05-12T10:24:00.087Z"
   },
   {
    "duration": 8,
    "start_time": "2022-05-12T10:28:40.685Z"
   },
   {
    "duration": 7,
    "start_time": "2022-05-12T10:29:09.987Z"
   },
   {
    "duration": 396,
    "start_time": "2022-05-12T10:29:44.813Z"
   },
   {
    "duration": 58,
    "start_time": "2022-05-12T10:29:45.211Z"
   },
   {
    "duration": 17,
    "start_time": "2022-05-12T10:29:45.271Z"
   },
   {
    "duration": 15,
    "start_time": "2022-05-12T10:29:45.290Z"
   },
   {
    "duration": 9,
    "start_time": "2022-05-12T10:29:45.307Z"
   },
   {
    "duration": 9,
    "start_time": "2022-05-12T10:29:45.317Z"
   },
   {
    "duration": 6,
    "start_time": "2022-05-12T10:29:45.327Z"
   },
   {
    "duration": 4,
    "start_time": "2022-05-12T10:29:45.335Z"
   },
   {
    "duration": 4,
    "start_time": "2022-05-12T10:29:45.371Z"
   },
   {
    "duration": 4,
    "start_time": "2022-05-12T10:29:45.378Z"
   },
   {
    "duration": 15,
    "start_time": "2022-05-12T10:29:45.383Z"
   },
   {
    "duration": 7,
    "start_time": "2022-05-12T10:29:45.400Z"
   },
   {
    "duration": 4,
    "start_time": "2022-05-12T10:29:45.408Z"
   },
   {
    "duration": 23,
    "start_time": "2022-05-12T10:29:45.413Z"
   },
   {
    "duration": 6,
    "start_time": "2022-05-12T10:29:45.438Z"
   },
   {
    "duration": 41,
    "start_time": "2022-05-12T10:29:45.446Z"
   },
   {
    "duration": 4,
    "start_time": "2022-05-12T10:29:45.489Z"
   },
   {
    "duration": 7,
    "start_time": "2022-05-12T10:29:45.495Z"
   },
   {
    "duration": 24,
    "start_time": "2022-05-12T10:29:45.504Z"
   },
   {
    "duration": 4,
    "start_time": "2022-05-12T10:29:45.529Z"
   },
   {
    "duration": 5,
    "start_time": "2022-05-12T10:29:45.534Z"
   },
   {
    "duration": 4,
    "start_time": "2022-05-12T10:29:45.571Z"
   },
   {
    "duration": 8,
    "start_time": "2022-05-12T10:29:45.577Z"
   },
   {
    "duration": 20,
    "start_time": "2022-05-12T10:29:45.586Z"
   },
   {
    "duration": 140,
    "start_time": "2022-05-12T10:29:45.608Z"
   },
   {
    "duration": 11,
    "start_time": "2022-05-12T10:29:45.750Z"
   },
   {
    "duration": 4,
    "start_time": "2022-05-12T10:29:45.771Z"
   },
   {
    "duration": 9,
    "start_time": "2022-05-12T10:29:45.779Z"
   },
   {
    "duration": 5,
    "start_time": "2022-05-12T10:29:45.790Z"
   },
   {
    "duration": 4,
    "start_time": "2022-05-12T10:29:45.796Z"
   },
   {
    "duration": 8,
    "start_time": "2022-05-12T10:29:45.801Z"
   },
   {
    "duration": 8,
    "start_time": "2022-05-12T10:29:45.811Z"
   },
   {
    "duration": 7,
    "start_time": "2022-05-12T10:29:45.820Z"
   },
   {
    "duration": 4,
    "start_time": "2022-05-12T10:29:45.828Z"
   },
   {
    "duration": 40,
    "start_time": "2022-05-12T10:29:45.834Z"
   },
   {
    "duration": 10,
    "start_time": "2022-05-12T10:29:45.876Z"
   },
   {
    "duration": 6,
    "start_time": "2022-05-12T10:29:45.888Z"
   },
   {
    "duration": 5,
    "start_time": "2022-05-12T10:29:45.895Z"
   },
   {
    "duration": 8,
    "start_time": "2022-05-12T10:29:45.901Z"
   },
   {
    "duration": 19,
    "start_time": "2022-05-12T10:29:45.911Z"
   },
   {
    "duration": 7,
    "start_time": "2022-05-12T10:29:45.931Z"
   },
   {
    "duration": 41,
    "start_time": "2022-05-12T10:29:45.940Z"
   },
   {
    "duration": 18,
    "start_time": "2022-05-12T10:29:45.983Z"
   },
   {
    "duration": 17,
    "start_time": "2022-05-12T10:29:46.002Z"
   },
   {
    "duration": 7,
    "start_time": "2022-05-12T10:29:46.020Z"
   },
   {
    "duration": 44,
    "start_time": "2022-05-12T10:29:46.029Z"
   },
   {
    "duration": 7,
    "start_time": "2022-05-12T10:29:46.074Z"
   },
   {
    "duration": 20,
    "start_time": "2022-05-12T10:29:46.082Z"
   },
   {
    "duration": 6,
    "start_time": "2022-05-12T10:29:46.104Z"
   },
   {
    "duration": 13,
    "start_time": "2022-05-12T10:29:46.112Z"
   },
   {
    "duration": 6,
    "start_time": "2022-05-12T10:29:46.127Z"
   },
   {
    "duration": 37,
    "start_time": "2022-05-12T10:29:46.135Z"
   },
   {
    "duration": 6,
    "start_time": "2022-05-12T10:29:46.173Z"
   },
   {
    "duration": 12,
    "start_time": "2022-05-12T10:29:46.181Z"
   },
   {
    "duration": 4,
    "start_time": "2022-05-12T10:29:46.194Z"
   },
   {
    "duration": 15,
    "start_time": "2022-05-12T10:29:46.199Z"
   },
   {
    "duration": 11,
    "start_time": "2022-05-12T10:29:46.216Z"
   },
   {
    "duration": 4,
    "start_time": "2022-05-12T10:29:46.229Z"
   },
   {
    "duration": 13,
    "start_time": "2022-05-12T10:29:46.234Z"
   },
   {
    "duration": 11,
    "start_time": "2022-05-12T10:29:46.271Z"
   },
   {
    "duration": 10,
    "start_time": "2022-05-12T10:29:46.283Z"
   },
   {
    "duration": 3,
    "start_time": "2022-05-12T10:29:46.295Z"
   },
   {
    "duration": 142,
    "start_time": "2022-05-12T10:29:46.300Z"
   },
   {
    "duration": 6,
    "start_time": "2022-05-12T10:29:46.444Z"
   },
   {
    "duration": 24,
    "start_time": "2022-05-12T10:29:46.452Z"
   },
   {
    "duration": 6,
    "start_time": "2022-05-12T10:29:46.478Z"
   },
   {
    "duration": 10,
    "start_time": "2022-05-12T10:29:46.485Z"
   },
   {
    "duration": 8,
    "start_time": "2022-05-12T10:29:46.496Z"
   },
   {
    "duration": 12,
    "start_time": "2022-05-12T10:29:46.505Z"
   },
   {
    "duration": 6,
    "start_time": "2022-05-12T10:29:46.518Z"
   },
   {
    "duration": 5,
    "start_time": "2022-05-12T10:29:46.525Z"
   },
   {
    "duration": 40,
    "start_time": "2022-05-12T10:29:46.531Z"
   },
   {
    "duration": 9,
    "start_time": "2022-05-12T10:29:46.573Z"
   },
   {
    "duration": 503,
    "start_time": "2022-05-12T10:30:35.387Z"
   },
   {
    "duration": 80,
    "start_time": "2022-05-12T10:30:35.893Z"
   },
   {
    "duration": 28,
    "start_time": "2022-05-12T10:30:35.975Z"
   },
   {
    "duration": 23,
    "start_time": "2022-05-12T10:30:36.006Z"
   },
   {
    "duration": 10,
    "start_time": "2022-05-12T10:30:36.031Z"
   },
   {
    "duration": 30,
    "start_time": "2022-05-12T10:30:36.042Z"
   },
   {
    "duration": 5,
    "start_time": "2022-05-12T10:30:36.074Z"
   },
   {
    "duration": 6,
    "start_time": "2022-05-12T10:30:36.080Z"
   },
   {
    "duration": 9,
    "start_time": "2022-05-12T10:30:36.087Z"
   },
   {
    "duration": 5,
    "start_time": "2022-05-12T10:30:36.099Z"
   },
   {
    "duration": 9,
    "start_time": "2022-05-12T10:30:36.105Z"
   },
   {
    "duration": 9,
    "start_time": "2022-05-12T10:30:36.115Z"
   },
   {
    "duration": 6,
    "start_time": "2022-05-12T10:30:36.126Z"
   },
   {
    "duration": 11,
    "start_time": "2022-05-12T10:30:36.134Z"
   },
   {
    "duration": 26,
    "start_time": "2022-05-12T10:30:36.147Z"
   },
   {
    "duration": 14,
    "start_time": "2022-05-12T10:30:36.175Z"
   },
   {
    "duration": 5,
    "start_time": "2022-05-12T10:30:36.191Z"
   },
   {
    "duration": 8,
    "start_time": "2022-05-12T10:30:36.198Z"
   },
   {
    "duration": 23,
    "start_time": "2022-05-12T10:30:36.208Z"
   },
   {
    "duration": 4,
    "start_time": "2022-05-12T10:30:36.232Z"
   },
   {
    "duration": 34,
    "start_time": "2022-05-12T10:30:36.237Z"
   },
   {
    "duration": 4,
    "start_time": "2022-05-12T10:30:36.273Z"
   },
   {
    "duration": 7,
    "start_time": "2022-05-12T10:30:36.279Z"
   },
   {
    "duration": 20,
    "start_time": "2022-05-12T10:30:36.288Z"
   },
   {
    "duration": 156,
    "start_time": "2022-05-12T10:30:36.309Z"
   },
   {
    "duration": 14,
    "start_time": "2022-05-12T10:30:36.466Z"
   },
   {
    "duration": 7,
    "start_time": "2022-05-12T10:30:36.481Z"
   },
   {
    "duration": 13,
    "start_time": "2022-05-12T10:30:36.492Z"
   },
   {
    "duration": 6,
    "start_time": "2022-05-12T10:30:36.507Z"
   },
   {
    "duration": 5,
    "start_time": "2022-05-12T10:30:36.514Z"
   },
   {
    "duration": 5,
    "start_time": "2022-05-12T10:30:36.521Z"
   },
   {
    "duration": 7,
    "start_time": "2022-05-12T10:30:36.527Z"
   },
   {
    "duration": 37,
    "start_time": "2022-05-12T10:30:36.535Z"
   },
   {
    "duration": 4,
    "start_time": "2022-05-12T10:30:36.573Z"
   },
   {
    "duration": 5,
    "start_time": "2022-05-12T10:30:36.578Z"
   },
   {
    "duration": 7,
    "start_time": "2022-05-12T10:30:36.584Z"
   },
   {
    "duration": 5,
    "start_time": "2022-05-12T10:30:36.592Z"
   },
   {
    "duration": 8,
    "start_time": "2022-05-12T10:30:36.598Z"
   },
   {
    "duration": 6,
    "start_time": "2022-05-12T10:30:36.608Z"
   },
   {
    "duration": 8,
    "start_time": "2022-05-12T10:30:36.615Z"
   },
   {
    "duration": 7,
    "start_time": "2022-05-12T10:30:36.624Z"
   },
   {
    "duration": 55,
    "start_time": "2022-05-12T10:30:36.632Z"
   },
   {
    "duration": 18,
    "start_time": "2022-05-12T10:30:36.688Z"
   },
   {
    "duration": 18,
    "start_time": "2022-05-12T10:30:36.707Z"
   },
   {
    "duration": 6,
    "start_time": "2022-05-12T10:30:36.726Z"
   },
   {
    "duration": 48,
    "start_time": "2022-05-12T10:30:36.734Z"
   },
   {
    "duration": 7,
    "start_time": "2022-05-12T10:30:36.783Z"
   },
   {
    "duration": 32,
    "start_time": "2022-05-12T10:30:36.792Z"
   },
   {
    "duration": 9,
    "start_time": "2022-05-12T10:30:36.826Z"
   },
   {
    "duration": 21,
    "start_time": "2022-05-12T10:30:36.836Z"
   },
   {
    "duration": 18,
    "start_time": "2022-05-12T10:30:36.859Z"
   },
   {
    "duration": 8,
    "start_time": "2022-05-12T10:30:36.879Z"
   },
   {
    "duration": 7,
    "start_time": "2022-05-12T10:30:36.888Z"
   },
   {
    "duration": 12,
    "start_time": "2022-05-12T10:30:36.896Z"
   },
   {
    "duration": 5,
    "start_time": "2022-05-12T10:30:36.910Z"
   },
   {
    "duration": 15,
    "start_time": "2022-05-12T10:30:36.916Z"
   },
   {
    "duration": 12,
    "start_time": "2022-05-12T10:30:36.933Z"
   },
   {
    "duration": 25,
    "start_time": "2022-05-12T10:30:36.947Z"
   },
   {
    "duration": 11,
    "start_time": "2022-05-12T10:30:36.974Z"
   },
   {
    "duration": 14,
    "start_time": "2022-05-12T10:30:36.986Z"
   },
   {
    "duration": 9,
    "start_time": "2022-05-12T10:30:37.002Z"
   },
   {
    "duration": 6,
    "start_time": "2022-05-12T10:30:37.013Z"
   },
   {
    "duration": 154,
    "start_time": "2022-05-12T10:30:37.020Z"
   },
   {
    "duration": 7,
    "start_time": "2022-05-12T10:30:37.176Z"
   },
   {
    "duration": 16,
    "start_time": "2022-05-12T10:30:37.184Z"
   },
   {
    "duration": 7,
    "start_time": "2022-05-12T10:30:37.202Z"
   },
   {
    "duration": 4,
    "start_time": "2022-05-12T10:30:37.211Z"
   },
   {
    "duration": 10,
    "start_time": "2022-05-12T10:30:37.217Z"
   },
   {
    "duration": 10,
    "start_time": "2022-05-12T10:30:37.229Z"
   },
   {
    "duration": 41,
    "start_time": "2022-05-12T10:30:37.241Z"
   },
   {
    "duration": 7,
    "start_time": "2022-05-12T10:30:37.283Z"
   },
   {
    "duration": 4,
    "start_time": "2022-05-12T10:30:37.292Z"
   },
   {
    "duration": 7,
    "start_time": "2022-05-12T10:30:37.298Z"
   },
   {
    "duration": 8,
    "start_time": "2022-05-12T10:30:37.307Z"
   },
   {
    "duration": 377,
    "start_time": "2022-05-12T10:39:30.523Z"
   },
   {
    "duration": 55,
    "start_time": "2022-05-12T10:39:30.902Z"
   },
   {
    "duration": 28,
    "start_time": "2022-05-12T10:39:30.959Z"
   },
   {
    "duration": 15,
    "start_time": "2022-05-12T10:39:30.990Z"
   },
   {
    "duration": 11,
    "start_time": "2022-05-12T10:39:31.007Z"
   },
   {
    "duration": 6,
    "start_time": "2022-05-12T10:39:31.020Z"
   },
   {
    "duration": 9,
    "start_time": "2022-05-12T10:39:31.028Z"
   },
   {
    "duration": 38,
    "start_time": "2022-05-12T10:39:31.039Z"
   },
   {
    "duration": 20,
    "start_time": "2022-05-12T10:39:31.079Z"
   },
   {
    "duration": 11,
    "start_time": "2022-05-12T10:39:31.102Z"
   },
   {
    "duration": 13,
    "start_time": "2022-05-12T10:39:31.115Z"
   },
   {
    "duration": 14,
    "start_time": "2022-05-12T10:39:31.130Z"
   },
   {
    "duration": 12,
    "start_time": "2022-05-12T10:39:31.145Z"
   },
   {
    "duration": 24,
    "start_time": "2022-05-12T10:39:31.158Z"
   },
   {
    "duration": 9,
    "start_time": "2022-05-12T10:39:31.184Z"
   },
   {
    "duration": 16,
    "start_time": "2022-05-12T10:39:31.195Z"
   },
   {
    "duration": 13,
    "start_time": "2022-05-12T10:39:31.212Z"
   },
   {
    "duration": 17,
    "start_time": "2022-05-12T10:39:31.226Z"
   },
   {
    "duration": 22,
    "start_time": "2022-05-12T10:39:31.245Z"
   },
   {
    "duration": 11,
    "start_time": "2022-05-12T10:39:31.269Z"
   },
   {
    "duration": 9,
    "start_time": "2022-05-12T10:39:31.284Z"
   },
   {
    "duration": 5,
    "start_time": "2022-05-12T10:39:31.295Z"
   },
   {
    "duration": 6,
    "start_time": "2022-05-12T10:39:31.302Z"
   },
   {
    "duration": 23,
    "start_time": "2022-05-12T10:39:31.310Z"
   },
   {
    "duration": 143,
    "start_time": "2022-05-12T10:39:31.334Z"
   },
   {
    "duration": 16,
    "start_time": "2022-05-12T10:39:31.479Z"
   },
   {
    "duration": 3,
    "start_time": "2022-05-12T10:39:31.497Z"
   },
   {
    "duration": 10,
    "start_time": "2022-05-12T10:39:31.504Z"
   },
   {
    "duration": 4,
    "start_time": "2022-05-12T10:39:31.516Z"
   },
   {
    "duration": 3,
    "start_time": "2022-05-12T10:39:31.522Z"
   },
   {
    "duration": 4,
    "start_time": "2022-05-12T10:39:31.527Z"
   },
   {
    "duration": 40,
    "start_time": "2022-05-12T10:39:31.533Z"
   },
   {
    "duration": 11,
    "start_time": "2022-05-12T10:39:31.574Z"
   },
   {
    "duration": 4,
    "start_time": "2022-05-12T10:39:31.587Z"
   },
   {
    "duration": 5,
    "start_time": "2022-05-12T10:39:31.592Z"
   },
   {
    "duration": 7,
    "start_time": "2022-05-12T10:39:31.599Z"
   },
   {
    "duration": 4,
    "start_time": "2022-05-12T10:39:31.608Z"
   },
   {
    "duration": 6,
    "start_time": "2022-05-12T10:39:31.613Z"
   },
   {
    "duration": 6,
    "start_time": "2022-05-12T10:39:31.620Z"
   },
   {
    "duration": 52,
    "start_time": "2022-05-12T10:39:31.627Z"
   },
   {
    "duration": 8,
    "start_time": "2022-05-12T10:39:31.681Z"
   },
   {
    "duration": 18,
    "start_time": "2022-05-12T10:39:31.691Z"
   },
   {
    "duration": 18,
    "start_time": "2022-05-12T10:39:31.711Z"
   },
   {
    "duration": 15,
    "start_time": "2022-05-12T10:39:31.731Z"
   },
   {
    "duration": 12,
    "start_time": "2022-05-12T10:39:31.770Z"
   },
   {
    "duration": 18,
    "start_time": "2022-05-12T10:39:31.784Z"
   },
   {
    "duration": 6,
    "start_time": "2022-05-12T10:39:31.803Z"
   },
   {
    "duration": 18,
    "start_time": "2022-05-12T10:39:31.811Z"
   },
   {
    "duration": 9,
    "start_time": "2022-05-12T10:39:31.830Z"
   },
   {
    "duration": 36,
    "start_time": "2022-05-12T10:39:31.840Z"
   },
   {
    "duration": 10,
    "start_time": "2022-05-12T10:39:31.881Z"
   },
   {
    "duration": 9,
    "start_time": "2022-05-12T10:39:31.893Z"
   },
   {
    "duration": 5,
    "start_time": "2022-05-12T10:39:31.903Z"
   },
   {
    "duration": 12,
    "start_time": "2022-05-12T10:39:31.910Z"
   },
   {
    "duration": 5,
    "start_time": "2022-05-12T10:39:31.923Z"
   },
   {
    "duration": 13,
    "start_time": "2022-05-12T10:39:31.929Z"
   },
   {
    "duration": 43,
    "start_time": "2022-05-12T10:39:31.944Z"
   },
   {
    "duration": 6,
    "start_time": "2022-05-12T10:39:31.989Z"
   },
   {
    "duration": 10,
    "start_time": "2022-05-12T10:39:31.996Z"
   },
   {
    "duration": 10,
    "start_time": "2022-05-12T10:39:32.008Z"
   },
   {
    "duration": 9,
    "start_time": "2022-05-12T10:39:32.019Z"
   },
   {
    "duration": 5,
    "start_time": "2022-05-12T10:39:32.029Z"
   },
   {
    "duration": 155,
    "start_time": "2022-05-12T10:39:32.035Z"
   },
   {
    "duration": 7,
    "start_time": "2022-05-12T10:39:32.192Z"
   },
   {
    "duration": 16,
    "start_time": "2022-05-12T10:39:32.200Z"
   },
   {
    "duration": 6,
    "start_time": "2022-05-12T10:39:32.218Z"
   },
   {
    "duration": 5,
    "start_time": "2022-05-12T10:39:32.226Z"
   },
   {
    "duration": 10,
    "start_time": "2022-05-12T10:39:32.233Z"
   },
   {
    "duration": 30,
    "start_time": "2022-05-12T10:39:32.244Z"
   },
   {
    "duration": 16,
    "start_time": "2022-05-12T10:39:32.278Z"
   },
   {
    "duration": 5,
    "start_time": "2022-05-12T10:39:32.295Z"
   },
   {
    "duration": 6,
    "start_time": "2022-05-12T10:39:32.302Z"
   },
   {
    "duration": 8,
    "start_time": "2022-05-12T10:39:32.309Z"
   },
   {
    "duration": 9,
    "start_time": "2022-05-12T10:39:32.319Z"
   },
   {
    "duration": 448,
    "start_time": "2022-05-12T10:43:10.240Z"
   },
   {
    "duration": 58,
    "start_time": "2022-05-12T10:43:10.691Z"
   },
   {
    "duration": 23,
    "start_time": "2022-05-12T10:43:10.751Z"
   },
   {
    "duration": 18,
    "start_time": "2022-05-12T10:43:10.776Z"
   },
   {
    "duration": 10,
    "start_time": "2022-05-12T10:43:10.797Z"
   },
   {
    "duration": 5,
    "start_time": "2022-05-12T10:43:10.809Z"
   },
   {
    "duration": 6,
    "start_time": "2022-05-12T10:43:10.815Z"
   },
   {
    "duration": 4,
    "start_time": "2022-05-12T10:43:10.823Z"
   },
   {
    "duration": 5,
    "start_time": "2022-05-12T10:43:10.829Z"
   },
   {
    "duration": 42,
    "start_time": "2022-05-12T10:43:10.835Z"
   },
   {
    "duration": 10,
    "start_time": "2022-05-12T10:43:10.883Z"
   },
   {
    "duration": 6,
    "start_time": "2022-05-12T10:43:10.894Z"
   },
   {
    "duration": 3,
    "start_time": "2022-05-12T10:43:10.902Z"
   },
   {
    "duration": 5,
    "start_time": "2022-05-12T10:43:10.909Z"
   },
   {
    "duration": 5,
    "start_time": "2022-05-12T10:43:10.915Z"
   },
   {
    "duration": 13,
    "start_time": "2022-05-12T10:43:10.922Z"
   },
   {
    "duration": 5,
    "start_time": "2022-05-12T10:43:10.936Z"
   },
   {
    "duration": 34,
    "start_time": "2022-05-12T10:43:10.943Z"
   },
   {
    "duration": 33,
    "start_time": "2022-05-12T10:43:10.979Z"
   },
   {
    "duration": 3,
    "start_time": "2022-05-12T10:43:11.013Z"
   },
   {
    "duration": 6,
    "start_time": "2022-05-12T10:43:11.017Z"
   },
   {
    "duration": 6,
    "start_time": "2022-05-12T10:43:11.025Z"
   },
   {
    "duration": 4,
    "start_time": "2022-05-12T10:43:11.032Z"
   },
   {
    "duration": 48,
    "start_time": "2022-05-12T10:43:11.038Z"
   },
   {
    "duration": 132,
    "start_time": "2022-05-12T10:43:11.087Z"
   },
   {
    "duration": 12,
    "start_time": "2022-05-12T10:43:11.221Z"
   },
   {
    "duration": 6,
    "start_time": "2022-05-12T10:43:11.234Z"
   },
   {
    "duration": 11,
    "start_time": "2022-05-12T10:43:11.242Z"
   },
   {
    "duration": 22,
    "start_time": "2022-05-12T10:43:11.254Z"
   },
   {
    "duration": 10,
    "start_time": "2022-05-12T10:43:11.281Z"
   },
   {
    "duration": 5,
    "start_time": "2022-05-12T10:43:11.293Z"
   },
   {
    "duration": 8,
    "start_time": "2022-05-12T10:43:11.299Z"
   },
   {
    "duration": 7,
    "start_time": "2022-05-12T10:43:11.308Z"
   },
   {
    "duration": 4,
    "start_time": "2022-05-12T10:43:11.316Z"
   },
   {
    "duration": 4,
    "start_time": "2022-05-12T10:43:11.321Z"
   },
   {
    "duration": 8,
    "start_time": "2022-05-12T10:43:11.326Z"
   },
   {
    "duration": 5,
    "start_time": "2022-05-12T10:43:11.335Z"
   },
   {
    "duration": 41,
    "start_time": "2022-05-12T10:43:11.341Z"
   },
   {
    "duration": 7,
    "start_time": "2022-05-12T10:43:11.384Z"
   },
   {
    "duration": 8,
    "start_time": "2022-05-12T10:43:11.393Z"
   },
   {
    "duration": 7,
    "start_time": "2022-05-12T10:43:11.405Z"
   },
   {
    "duration": 19,
    "start_time": "2022-05-12T10:43:11.413Z"
   },
   {
    "duration": 19,
    "start_time": "2022-05-12T10:43:11.433Z"
   },
   {
    "duration": 38,
    "start_time": "2022-05-12T10:43:11.453Z"
   },
   {
    "duration": 6,
    "start_time": "2022-05-12T10:43:11.493Z"
   },
   {
    "duration": 19,
    "start_time": "2022-05-12T10:43:11.500Z"
   },
   {
    "duration": 7,
    "start_time": "2022-05-12T10:43:11.520Z"
   },
   {
    "duration": 18,
    "start_time": "2022-05-12T10:43:11.529Z"
   },
   {
    "duration": 10,
    "start_time": "2022-05-12T10:43:11.575Z"
   },
   {
    "duration": 11,
    "start_time": "2022-05-12T10:43:11.587Z"
   },
   {
    "duration": 7,
    "start_time": "2022-05-12T10:43:11.600Z"
   },
   {
    "duration": 8,
    "start_time": "2022-05-12T10:43:11.608Z"
   },
   {
    "duration": 7,
    "start_time": "2022-05-12T10:43:11.617Z"
   },
   {
    "duration": 12,
    "start_time": "2022-05-12T10:43:11.625Z"
   },
   {
    "duration": 3,
    "start_time": "2022-05-12T10:43:11.639Z"
   },
   {
    "duration": 20,
    "start_time": "2022-05-12T10:43:11.672Z"
   },
   {
    "duration": 13,
    "start_time": "2022-05-12T10:43:11.693Z"
   },
   {
    "duration": 5,
    "start_time": "2022-05-12T10:43:11.708Z"
   },
   {
    "duration": 13,
    "start_time": "2022-05-12T10:43:11.714Z"
   },
   {
    "duration": 11,
    "start_time": "2022-05-12T10:43:11.729Z"
   },
   {
    "duration": 30,
    "start_time": "2022-05-12T10:43:11.741Z"
   },
   {
    "duration": 5,
    "start_time": "2022-05-12T10:43:11.772Z"
   },
   {
    "duration": 138,
    "start_time": "2022-05-12T10:43:11.778Z"
   },
   {
    "duration": 7,
    "start_time": "2022-05-12T10:43:11.918Z"
   },
   {
    "duration": 15,
    "start_time": "2022-05-12T10:43:11.926Z"
   },
   {
    "duration": 6,
    "start_time": "2022-05-12T10:43:11.943Z"
   },
   {
    "duration": 7,
    "start_time": "2022-05-12T10:43:11.970Z"
   },
   {
    "duration": 16,
    "start_time": "2022-05-12T10:43:11.979Z"
   },
   {
    "duration": 10,
    "start_time": "2022-05-12T10:43:11.996Z"
   },
   {
    "duration": 20,
    "start_time": "2022-05-12T10:43:12.008Z"
   },
   {
    "duration": 7,
    "start_time": "2022-05-12T10:43:12.029Z"
   },
   {
    "duration": 6,
    "start_time": "2022-05-12T10:43:12.037Z"
   },
   {
    "duration": 9,
    "start_time": "2022-05-12T10:43:12.044Z"
   },
   {
    "duration": 9,
    "start_time": "2022-05-12T10:43:12.071Z"
   },
   {
    "duration": 12,
    "start_time": "2022-05-12T10:43:38.341Z"
   },
   {
    "duration": 12,
    "start_time": "2022-05-12T10:45:56.882Z"
   },
   {
    "duration": 6,
    "start_time": "2022-05-12T10:45:59.451Z"
   },
   {
    "duration": 4,
    "start_time": "2022-05-12T10:47:16.852Z"
   },
   {
    "duration": 7,
    "start_time": "2022-05-12T10:47:17.398Z"
   },
   {
    "duration": 402,
    "start_time": "2022-05-12T10:47:53.495Z"
   },
   {
    "duration": 56,
    "start_time": "2022-05-12T10:47:53.899Z"
   },
   {
    "duration": 22,
    "start_time": "2022-05-12T10:47:53.957Z"
   },
   {
    "duration": 15,
    "start_time": "2022-05-12T10:47:53.981Z"
   },
   {
    "duration": 10,
    "start_time": "2022-05-12T10:47:53.997Z"
   },
   {
    "duration": 4,
    "start_time": "2022-05-12T10:47:54.008Z"
   },
   {
    "duration": 5,
    "start_time": "2022-05-12T10:47:54.014Z"
   },
   {
    "duration": 4,
    "start_time": "2022-05-12T10:47:54.021Z"
   },
   {
    "duration": 4,
    "start_time": "2022-05-12T10:47:54.026Z"
   },
   {
    "duration": 4,
    "start_time": "2022-05-12T10:47:54.070Z"
   },
   {
    "duration": 8,
    "start_time": "2022-05-12T10:47:54.076Z"
   },
   {
    "duration": 7,
    "start_time": "2022-05-12T10:47:54.086Z"
   },
   {
    "duration": 4,
    "start_time": "2022-05-12T10:47:54.094Z"
   },
   {
    "duration": 7,
    "start_time": "2022-05-12T10:47:54.099Z"
   },
   {
    "duration": 5,
    "start_time": "2022-05-12T10:47:54.108Z"
   },
   {
    "duration": 14,
    "start_time": "2022-05-12T10:47:54.115Z"
   },
   {
    "duration": 4,
    "start_time": "2022-05-12T10:47:54.131Z"
   },
   {
    "duration": 38,
    "start_time": "2022-05-12T10:47:54.137Z"
   },
   {
    "duration": 23,
    "start_time": "2022-05-12T10:47:54.176Z"
   },
   {
    "duration": 3,
    "start_time": "2022-05-12T10:47:54.200Z"
   },
   {
    "duration": 6,
    "start_time": "2022-05-12T10:47:54.205Z"
   },
   {
    "duration": 4,
    "start_time": "2022-05-12T10:47:54.212Z"
   },
   {
    "duration": 5,
    "start_time": "2022-05-12T10:47:54.218Z"
   },
   {
    "duration": 53,
    "start_time": "2022-05-12T10:47:54.225Z"
   },
   {
    "duration": 129,
    "start_time": "2022-05-12T10:47:54.280Z"
   },
   {
    "duration": 12,
    "start_time": "2022-05-12T10:47:54.411Z"
   },
   {
    "duration": 9,
    "start_time": "2022-05-12T10:47:54.424Z"
   },
   {
    "duration": 10,
    "start_time": "2022-05-12T10:47:54.437Z"
   },
   {
    "duration": 22,
    "start_time": "2022-05-12T10:47:54.449Z"
   },
   {
    "duration": 4,
    "start_time": "2022-05-12T10:47:54.472Z"
   },
   {
    "duration": 6,
    "start_time": "2022-05-12T10:47:54.477Z"
   },
   {
    "duration": 6,
    "start_time": "2022-05-12T10:47:54.484Z"
   },
   {
    "duration": 6,
    "start_time": "2022-05-12T10:47:54.492Z"
   },
   {
    "duration": 4,
    "start_time": "2022-05-12T10:47:54.499Z"
   },
   {
    "duration": 5,
    "start_time": "2022-05-12T10:47:54.504Z"
   },
   {
    "duration": 8,
    "start_time": "2022-05-12T10:47:54.510Z"
   },
   {
    "duration": 4,
    "start_time": "2022-05-12T10:47:54.520Z"
   },
   {
    "duration": 6,
    "start_time": "2022-05-12T10:47:54.525Z"
   },
   {
    "duration": 39,
    "start_time": "2022-05-12T10:47:54.533Z"
   },
   {
    "duration": 8,
    "start_time": "2022-05-12T10:47:54.573Z"
   },
   {
    "duration": 8,
    "start_time": "2022-05-12T10:47:54.582Z"
   },
   {
    "duration": 17,
    "start_time": "2022-05-12T10:47:54.591Z"
   },
   {
    "duration": 17,
    "start_time": "2022-05-12T10:47:54.610Z"
   },
   {
    "duration": 48,
    "start_time": "2022-05-12T10:47:54.628Z"
   },
   {
    "duration": 7,
    "start_time": "2022-05-12T10:47:54.678Z"
   },
   {
    "duration": 16,
    "start_time": "2022-05-12T10:47:54.686Z"
   },
   {
    "duration": 6,
    "start_time": "2022-05-12T10:47:54.704Z"
   },
   {
    "duration": 20,
    "start_time": "2022-05-12T10:47:54.711Z"
   },
   {
    "duration": 6,
    "start_time": "2022-05-12T10:47:54.732Z"
   },
   {
    "duration": 17,
    "start_time": "2022-05-12T10:47:54.770Z"
   },
   {
    "duration": 7,
    "start_time": "2022-05-12T10:47:54.788Z"
   },
   {
    "duration": 7,
    "start_time": "2022-05-12T10:47:54.796Z"
   },
   {
    "duration": 5,
    "start_time": "2022-05-12T10:47:54.804Z"
   },
   {
    "duration": 12,
    "start_time": "2022-05-12T10:47:54.810Z"
   },
   {
    "duration": 3,
    "start_time": "2022-05-12T10:47:54.823Z"
   },
   {
    "duration": 16,
    "start_time": "2022-05-12T10:47:54.827Z"
   },
   {
    "duration": 34,
    "start_time": "2022-05-12T10:47:54.844Z"
   },
   {
    "duration": 3,
    "start_time": "2022-05-12T10:47:54.880Z"
   },
   {
    "duration": 14,
    "start_time": "2022-05-12T10:47:54.884Z"
   },
   {
    "duration": 10,
    "start_time": "2022-05-12T10:47:54.900Z"
   },
   {
    "duration": 8,
    "start_time": "2022-05-12T10:47:54.911Z"
   },
   {
    "duration": 4,
    "start_time": "2022-05-12T10:47:54.921Z"
   },
   {
    "duration": 146,
    "start_time": "2022-05-12T10:47:54.927Z"
   },
   {
    "duration": 7,
    "start_time": "2022-05-12T10:47:55.075Z"
   },
   {
    "duration": 13,
    "start_time": "2022-05-12T10:47:55.084Z"
   },
   {
    "duration": 8,
    "start_time": "2022-05-12T10:47:55.098Z"
   },
   {
    "duration": 4,
    "start_time": "2022-05-12T10:47:55.108Z"
   },
   {
    "duration": 10,
    "start_time": "2022-05-12T10:47:55.114Z"
   },
   {
    "duration": 10,
    "start_time": "2022-05-12T10:47:55.126Z"
   },
   {
    "duration": 43,
    "start_time": "2022-05-12T10:47:55.138Z"
   },
   {
    "duration": 10,
    "start_time": "2022-05-12T10:47:55.182Z"
   },
   {
    "duration": 6,
    "start_time": "2022-05-12T10:47:55.194Z"
   },
   {
    "duration": 9,
    "start_time": "2022-05-12T10:47:55.202Z"
   },
   {
    "duration": 17,
    "start_time": "2022-05-12T10:47:55.212Z"
   },
   {
    "duration": 17,
    "start_time": "2022-05-12T10:47:55.231Z"
   },
   {
    "duration": 6,
    "start_time": "2022-05-12T10:47:55.249Z"
   },
   {
    "duration": 15,
    "start_time": "2022-05-12T10:47:55.256Z"
   },
   {
    "duration": 8,
    "start_time": "2022-05-12T10:47:55.273Z"
   },
   {
    "duration": 376,
    "start_time": "2022-05-12T11:06:17.614Z"
   },
   {
    "duration": 82,
    "start_time": "2022-05-12T11:06:17.992Z"
   },
   {
    "duration": 19,
    "start_time": "2022-05-12T11:06:18.076Z"
   },
   {
    "duration": 16,
    "start_time": "2022-05-12T11:06:18.097Z"
   },
   {
    "duration": 10,
    "start_time": "2022-05-12T11:06:18.115Z"
   },
   {
    "duration": 6,
    "start_time": "2022-05-12T11:06:18.127Z"
   },
   {
    "duration": 37,
    "start_time": "2022-05-12T11:06:18.135Z"
   },
   {
    "duration": 5,
    "start_time": "2022-05-12T11:06:18.173Z"
   },
   {
    "duration": 6,
    "start_time": "2022-05-12T11:06:18.180Z"
   },
   {
    "duration": 4,
    "start_time": "2022-05-12T11:06:18.189Z"
   },
   {
    "duration": 8,
    "start_time": "2022-05-12T11:06:18.195Z"
   },
   {
    "duration": 8,
    "start_time": "2022-05-12T11:06:18.205Z"
   },
   {
    "duration": 4,
    "start_time": "2022-05-12T11:06:18.215Z"
   },
   {
    "duration": 8,
    "start_time": "2022-05-12T11:06:18.221Z"
   },
   {
    "duration": 41,
    "start_time": "2022-05-12T11:06:18.230Z"
   },
   {
    "duration": 13,
    "start_time": "2022-05-12T11:06:18.273Z"
   },
   {
    "duration": 5,
    "start_time": "2022-05-12T11:06:18.288Z"
   },
   {
    "duration": 7,
    "start_time": "2022-05-12T11:06:18.294Z"
   },
   {
    "duration": 30,
    "start_time": "2022-05-12T11:06:18.303Z"
   },
   {
    "duration": 3,
    "start_time": "2022-05-12T11:06:18.335Z"
   },
   {
    "duration": 33,
    "start_time": "2022-05-12T11:06:18.339Z"
   },
   {
    "duration": 4,
    "start_time": "2022-05-12T11:06:18.373Z"
   },
   {
    "duration": 14,
    "start_time": "2022-05-12T11:06:18.379Z"
   },
   {
    "duration": 27,
    "start_time": "2022-05-12T11:06:18.394Z"
   },
   {
    "duration": 136,
    "start_time": "2022-05-12T11:06:18.422Z"
   },
   {
    "duration": 17,
    "start_time": "2022-05-12T11:06:18.559Z"
   },
   {
    "duration": 5,
    "start_time": "2022-05-12T11:06:18.577Z"
   },
   {
    "duration": 9,
    "start_time": "2022-05-12T11:06:18.586Z"
   },
   {
    "duration": 7,
    "start_time": "2022-05-12T11:06:18.597Z"
   },
   {
    "duration": 4,
    "start_time": "2022-05-12T11:06:18.605Z"
   },
   {
    "duration": 5,
    "start_time": "2022-05-12T11:06:18.610Z"
   },
   {
    "duration": 6,
    "start_time": "2022-05-12T11:06:18.616Z"
   },
   {
    "duration": 7,
    "start_time": "2022-05-12T11:06:18.623Z"
   },
   {
    "duration": 40,
    "start_time": "2022-05-12T11:06:18.631Z"
   },
   {
    "duration": 4,
    "start_time": "2022-05-12T11:06:18.673Z"
   },
   {
    "duration": 14,
    "start_time": "2022-05-12T11:06:18.678Z"
   },
   {
    "duration": 6,
    "start_time": "2022-05-12T11:06:18.693Z"
   },
   {
    "duration": 7,
    "start_time": "2022-05-12T11:06:18.700Z"
   },
   {
    "duration": 8,
    "start_time": "2022-05-12T11:06:18.709Z"
   },
   {
    "duration": 7,
    "start_time": "2022-05-12T11:06:18.719Z"
   },
   {
    "duration": 8,
    "start_time": "2022-05-12T11:06:18.727Z"
   },
   {
    "duration": 48,
    "start_time": "2022-05-12T11:06:18.737Z"
   },
   {
    "duration": 17,
    "start_time": "2022-05-12T11:06:18.787Z"
   },
   {
    "duration": 17,
    "start_time": "2022-05-12T11:06:18.806Z"
   },
   {
    "duration": 7,
    "start_time": "2022-05-12T11:06:18.824Z"
   },
   {
    "duration": 40,
    "start_time": "2022-05-12T11:06:18.833Z"
   },
   {
    "duration": 7,
    "start_time": "2022-05-12T11:06:18.875Z"
   },
   {
    "duration": 22,
    "start_time": "2022-05-12T11:06:18.883Z"
   },
   {
    "duration": 9,
    "start_time": "2022-05-12T11:06:18.906Z"
   },
   {
    "duration": 26,
    "start_time": "2022-05-12T11:06:18.916Z"
   },
   {
    "duration": 14,
    "start_time": "2022-05-12T11:06:18.943Z"
   },
   {
    "duration": 13,
    "start_time": "2022-05-12T11:06:18.958Z"
   },
   {
    "duration": 7,
    "start_time": "2022-05-12T11:06:18.973Z"
   },
   {
    "duration": 16,
    "start_time": "2022-05-12T11:06:18.981Z"
   },
   {
    "duration": 3,
    "start_time": "2022-05-12T11:06:18.999Z"
   },
   {
    "duration": 15,
    "start_time": "2022-05-12T11:06:19.004Z"
   },
   {
    "duration": 12,
    "start_time": "2022-05-12T11:06:19.020Z"
   },
   {
    "duration": 4,
    "start_time": "2022-05-12T11:06:19.034Z"
   },
   {
    "duration": 38,
    "start_time": "2022-05-12T11:06:19.040Z"
   },
   {
    "duration": 11,
    "start_time": "2022-05-12T11:06:19.079Z"
   },
   {
    "duration": 14,
    "start_time": "2022-05-12T11:06:19.092Z"
   },
   {
    "duration": 6,
    "start_time": "2022-05-12T11:06:19.108Z"
   },
   {
    "duration": 135,
    "start_time": "2022-05-12T11:06:19.115Z"
   },
   {
    "duration": 7,
    "start_time": "2022-05-12T11:06:19.251Z"
   },
   {
    "duration": 12,
    "start_time": "2022-05-12T11:06:19.271Z"
   },
   {
    "duration": 6,
    "start_time": "2022-05-12T11:06:19.285Z"
   },
   {
    "duration": 7,
    "start_time": "2022-05-12T11:06:19.293Z"
   },
   {
    "duration": 14,
    "start_time": "2022-05-12T11:06:19.301Z"
   },
   {
    "duration": 8,
    "start_time": "2022-05-12T11:06:19.317Z"
   },
   {
    "duration": 23,
    "start_time": "2022-05-12T11:06:19.327Z"
   },
   {
    "duration": 20,
    "start_time": "2022-05-12T11:06:19.352Z"
   },
   {
    "duration": 6,
    "start_time": "2022-05-12T11:06:19.374Z"
   },
   {
    "duration": 8,
    "start_time": "2022-05-12T11:06:19.382Z"
   },
   {
    "duration": 13,
    "start_time": "2022-05-12T11:06:19.392Z"
   },
   {
    "duration": 22,
    "start_time": "2022-05-12T11:06:19.407Z"
   },
   {
    "duration": 6,
    "start_time": "2022-05-12T11:06:19.430Z"
   },
   {
    "duration": 8,
    "start_time": "2022-05-12T11:06:19.438Z"
   },
   {
    "duration": 25,
    "start_time": "2022-05-12T11:06:19.447Z"
   },
   {
    "duration": 416,
    "start_time": "2022-05-12T11:13:33.585Z"
   },
   {
    "duration": 59,
    "start_time": "2022-05-12T11:13:34.003Z"
   },
   {
    "duration": 18,
    "start_time": "2022-05-12T11:13:34.064Z"
   },
   {
    "duration": 15,
    "start_time": "2022-05-12T11:13:34.084Z"
   },
   {
    "duration": 10,
    "start_time": "2022-05-12T11:13:34.102Z"
   },
   {
    "duration": 5,
    "start_time": "2022-05-12T11:13:34.113Z"
   },
   {
    "duration": 6,
    "start_time": "2022-05-12T11:13:34.120Z"
   },
   {
    "duration": 4,
    "start_time": "2022-05-12T11:13:34.128Z"
   },
   {
    "duration": 41,
    "start_time": "2022-05-12T11:13:34.133Z"
   },
   {
    "duration": 8,
    "start_time": "2022-05-12T11:13:34.175Z"
   },
   {
    "duration": 8,
    "start_time": "2022-05-12T11:13:34.184Z"
   },
   {
    "duration": 6,
    "start_time": "2022-05-12T11:13:34.194Z"
   },
   {
    "duration": 4,
    "start_time": "2022-05-12T11:13:34.201Z"
   },
   {
    "duration": 5,
    "start_time": "2022-05-12T11:13:34.209Z"
   },
   {
    "duration": 7,
    "start_time": "2022-05-12T11:13:34.216Z"
   },
   {
    "duration": 15,
    "start_time": "2022-05-12T11:13:34.224Z"
   },
   {
    "duration": 31,
    "start_time": "2022-05-12T11:13:34.241Z"
   },
   {
    "duration": 9,
    "start_time": "2022-05-12T11:13:34.273Z"
   },
   {
    "duration": 25,
    "start_time": "2022-05-12T11:13:34.283Z"
   },
   {
    "duration": 3,
    "start_time": "2022-05-12T11:13:34.309Z"
   },
   {
    "duration": 7,
    "start_time": "2022-05-12T11:13:34.314Z"
   },
   {
    "duration": 5,
    "start_time": "2022-05-12T11:13:34.322Z"
   },
   {
    "duration": 5,
    "start_time": "2022-05-12T11:13:34.329Z"
   },
   {
    "duration": 41,
    "start_time": "2022-05-12T11:13:34.335Z"
   },
   {
    "duration": 133,
    "start_time": "2022-05-12T11:13:34.377Z"
   },
   {
    "duration": 11,
    "start_time": "2022-05-12T11:13:34.512Z"
   },
   {
    "duration": 6,
    "start_time": "2022-05-12T11:13:34.525Z"
   },
   {
    "duration": 9,
    "start_time": "2022-05-12T11:13:34.533Z"
   },
   {
    "duration": 8,
    "start_time": "2022-05-12T11:13:34.543Z"
   },
   {
    "duration": 20,
    "start_time": "2022-05-12T11:13:34.553Z"
   },
   {
    "duration": 6,
    "start_time": "2022-05-12T11:13:34.575Z"
   },
   {
    "duration": 7,
    "start_time": "2022-05-12T11:13:34.583Z"
   },
   {
    "duration": 7,
    "start_time": "2022-05-12T11:13:34.591Z"
   },
   {
    "duration": 6,
    "start_time": "2022-05-12T11:13:34.599Z"
   },
   {
    "duration": 8,
    "start_time": "2022-05-12T11:13:34.606Z"
   },
   {
    "duration": 9,
    "start_time": "2022-05-12T11:13:34.616Z"
   },
   {
    "duration": 6,
    "start_time": "2022-05-12T11:13:34.626Z"
   },
   {
    "duration": 7,
    "start_time": "2022-05-12T11:13:34.633Z"
   },
   {
    "duration": 33,
    "start_time": "2022-05-12T11:13:34.641Z"
   },
   {
    "duration": 9,
    "start_time": "2022-05-12T11:13:34.675Z"
   },
   {
    "duration": 6,
    "start_time": "2022-05-12T11:13:34.688Z"
   },
   {
    "duration": 16,
    "start_time": "2022-05-12T11:13:34.696Z"
   },
   {
    "duration": 17,
    "start_time": "2022-05-12T11:13:34.714Z"
   },
   {
    "duration": 45,
    "start_time": "2022-05-12T11:13:34.732Z"
   },
   {
    "duration": 8,
    "start_time": "2022-05-12T11:13:34.778Z"
   },
   {
    "duration": 31,
    "start_time": "2022-05-12T11:13:34.788Z"
   },
   {
    "duration": 7,
    "start_time": "2022-05-12T11:13:34.821Z"
   },
   {
    "duration": 18,
    "start_time": "2022-05-12T11:13:34.829Z"
   },
   {
    "duration": 28,
    "start_time": "2022-05-12T11:13:34.848Z"
   },
   {
    "duration": 11,
    "start_time": "2022-05-12T11:13:34.878Z"
   },
   {
    "duration": 7,
    "start_time": "2022-05-12T11:13:34.891Z"
   },
   {
    "duration": 7,
    "start_time": "2022-05-12T11:13:34.900Z"
   },
   {
    "duration": 5,
    "start_time": "2022-05-12T11:13:34.909Z"
   },
   {
    "duration": 11,
    "start_time": "2022-05-12T11:13:34.915Z"
   },
   {
    "duration": 4,
    "start_time": "2022-05-12T11:13:34.928Z"
   },
   {
    "duration": 47,
    "start_time": "2022-05-12T11:13:34.934Z"
   },
   {
    "duration": 12,
    "start_time": "2022-05-12T11:13:34.983Z"
   },
   {
    "duration": 5,
    "start_time": "2022-05-12T11:13:34.997Z"
   },
   {
    "duration": 13,
    "start_time": "2022-05-12T11:13:35.003Z"
   },
   {
    "duration": 12,
    "start_time": "2022-05-12T11:13:35.018Z"
   },
   {
    "duration": 40,
    "start_time": "2022-05-12T11:13:35.032Z"
   },
   {
    "duration": 5,
    "start_time": "2022-05-12T11:13:35.074Z"
   },
   {
    "duration": 128,
    "start_time": "2022-05-12T11:13:35.081Z"
   },
   {
    "duration": 7,
    "start_time": "2022-05-12T11:13:35.211Z"
   },
   {
    "duration": 13,
    "start_time": "2022-05-12T11:13:35.220Z"
   },
   {
    "duration": 7,
    "start_time": "2022-05-12T11:13:35.234Z"
   },
   {
    "duration": 30,
    "start_time": "2022-05-12T11:13:35.243Z"
   },
   {
    "duration": 9,
    "start_time": "2022-05-12T11:13:35.275Z"
   },
   {
    "duration": 11,
    "start_time": "2022-05-12T11:13:35.286Z"
   },
   {
    "duration": 20,
    "start_time": "2022-05-12T11:13:35.299Z"
   },
   {
    "duration": 6,
    "start_time": "2022-05-12T11:13:35.321Z"
   },
   {
    "duration": 14,
    "start_time": "2022-05-12T11:13:35.328Z"
   },
   {
    "duration": 14,
    "start_time": "2022-05-12T11:13:35.344Z"
   },
   {
    "duration": 11,
    "start_time": "2022-05-12T11:13:35.360Z"
   },
   {
    "duration": 13,
    "start_time": "2022-05-12T11:13:35.373Z"
   },
   {
    "duration": 5,
    "start_time": "2022-05-12T11:13:35.387Z"
   },
   {
    "duration": 5,
    "start_time": "2022-05-12T11:13:35.394Z"
   },
   {
    "duration": 8,
    "start_time": "2022-05-12T11:13:35.401Z"
   },
   {
    "duration": 10,
    "start_time": "2022-05-12T11:14:16.774Z"
   },
   {
    "duration": 13,
    "start_time": "2022-05-12T11:15:15.051Z"
   },
   {
    "duration": 6,
    "start_time": "2022-05-12T11:15:17.190Z"
   },
   {
    "duration": 89,
    "start_time": "2022-05-12T11:17:41.776Z"
   },
   {
    "duration": 6,
    "start_time": "2022-05-12T11:18:02.492Z"
   },
   {
    "duration": 7,
    "start_time": "2022-05-12T11:18:12.359Z"
   },
   {
    "duration": 457,
    "start_time": "2022-05-12T11:20:19.046Z"
   },
   {
    "duration": 57,
    "start_time": "2022-05-12T11:20:19.505Z"
   },
   {
    "duration": 24,
    "start_time": "2022-05-12T11:20:19.563Z"
   },
   {
    "duration": 15,
    "start_time": "2022-05-12T11:20:19.589Z"
   },
   {
    "duration": 10,
    "start_time": "2022-05-12T11:20:19.606Z"
   },
   {
    "duration": 5,
    "start_time": "2022-05-12T11:20:19.617Z"
   },
   {
    "duration": 15,
    "start_time": "2022-05-12T11:20:19.623Z"
   },
   {
    "duration": 7,
    "start_time": "2022-05-12T11:20:19.639Z"
   },
   {
    "duration": 4,
    "start_time": "2022-05-12T11:20:19.671Z"
   },
   {
    "duration": 8,
    "start_time": "2022-05-12T11:20:19.677Z"
   },
   {
    "duration": 7,
    "start_time": "2022-05-12T11:20:19.686Z"
   },
   {
    "duration": 8,
    "start_time": "2022-05-12T11:20:19.695Z"
   },
   {
    "duration": 4,
    "start_time": "2022-05-12T11:20:19.705Z"
   },
   {
    "duration": 8,
    "start_time": "2022-05-12T11:20:19.710Z"
   },
   {
    "duration": 8,
    "start_time": "2022-05-12T11:20:19.719Z"
   },
   {
    "duration": 42,
    "start_time": "2022-05-12T11:20:19.729Z"
   },
   {
    "duration": 4,
    "start_time": "2022-05-12T11:20:19.773Z"
   },
   {
    "duration": 8,
    "start_time": "2022-05-12T11:20:19.778Z"
   },
   {
    "duration": 23,
    "start_time": "2022-05-12T11:20:19.787Z"
   },
   {
    "duration": 3,
    "start_time": "2022-05-12T11:20:19.812Z"
   },
   {
    "duration": 5,
    "start_time": "2022-05-12T11:20:19.816Z"
   },
   {
    "duration": 5,
    "start_time": "2022-05-12T11:20:19.823Z"
   },
   {
    "duration": 7,
    "start_time": "2022-05-12T11:20:19.830Z"
   },
   {
    "duration": 20,
    "start_time": "2022-05-12T11:20:19.871Z"
   },
   {
    "duration": 142,
    "start_time": "2022-05-12T11:20:19.892Z"
   },
   {
    "duration": 13,
    "start_time": "2022-05-12T11:20:20.035Z"
   },
   {
    "duration": 22,
    "start_time": "2022-05-12T11:20:20.049Z"
   },
   {
    "duration": 10,
    "start_time": "2022-05-12T11:20:20.076Z"
   },
   {
    "duration": 21,
    "start_time": "2022-05-12T11:20:20.087Z"
   },
   {
    "duration": 6,
    "start_time": "2022-05-12T11:20:20.109Z"
   },
   {
    "duration": 9,
    "start_time": "2022-05-12T11:20:20.116Z"
   },
   {
    "duration": 11,
    "start_time": "2022-05-12T11:20:20.126Z"
   },
   {
    "duration": 10,
    "start_time": "2022-05-12T11:20:20.139Z"
   },
   {
    "duration": 16,
    "start_time": "2022-05-12T11:20:20.151Z"
   },
   {
    "duration": 12,
    "start_time": "2022-05-12T11:20:20.169Z"
   },
   {
    "duration": 9,
    "start_time": "2022-05-12T11:20:20.184Z"
   },
   {
    "duration": 7,
    "start_time": "2022-05-12T11:20:20.195Z"
   },
   {
    "duration": 7,
    "start_time": "2022-05-12T11:20:20.204Z"
   },
   {
    "duration": 7,
    "start_time": "2022-05-12T11:20:20.213Z"
   },
   {
    "duration": 10,
    "start_time": "2022-05-12T11:20:20.222Z"
   },
   {
    "duration": 10,
    "start_time": "2022-05-12T11:20:20.234Z"
   },
   {
    "duration": 25,
    "start_time": "2022-05-12T11:20:20.272Z"
   },
   {
    "duration": 26,
    "start_time": "2022-05-12T11:20:20.299Z"
   },
   {
    "duration": 45,
    "start_time": "2022-05-12T11:20:20.326Z"
   },
   {
    "duration": 7,
    "start_time": "2022-05-12T11:20:20.373Z"
   },
   {
    "duration": 17,
    "start_time": "2022-05-12T11:20:20.382Z"
   },
   {
    "duration": 13,
    "start_time": "2022-05-12T11:20:20.400Z"
   },
   {
    "duration": 27,
    "start_time": "2022-05-12T11:20:20.415Z"
   },
   {
    "duration": 8,
    "start_time": "2022-05-12T11:20:20.443Z"
   },
   {
    "duration": 28,
    "start_time": "2022-05-12T11:20:20.452Z"
   },
   {
    "duration": 8,
    "start_time": "2022-05-12T11:20:20.482Z"
   },
   {
    "duration": 10,
    "start_time": "2022-05-12T11:20:20.491Z"
   },
   {
    "duration": 6,
    "start_time": "2022-05-12T11:20:20.503Z"
   },
   {
    "duration": 12,
    "start_time": "2022-05-12T11:20:20.511Z"
   },
   {
    "duration": 3,
    "start_time": "2022-05-12T11:20:20.525Z"
   },
   {
    "duration": 47,
    "start_time": "2022-05-12T11:20:20.529Z"
   },
   {
    "duration": 18,
    "start_time": "2022-05-12T11:20:20.578Z"
   },
   {
    "duration": 7,
    "start_time": "2022-05-12T11:20:20.598Z"
   },
   {
    "duration": 17,
    "start_time": "2022-05-12T11:20:20.607Z"
   },
   {
    "duration": 16,
    "start_time": "2022-05-12T11:20:20.626Z"
   },
   {
    "duration": 30,
    "start_time": "2022-05-12T11:20:20.644Z"
   },
   {
    "duration": 5,
    "start_time": "2022-05-12T11:20:20.676Z"
   },
   {
    "duration": 201,
    "start_time": "2022-05-12T11:20:20.683Z"
   },
   {
    "duration": 8,
    "start_time": "2022-05-12T11:20:20.887Z"
   },
   {
    "duration": 20,
    "start_time": "2022-05-12T11:20:20.897Z"
   },
   {
    "duration": 9,
    "start_time": "2022-05-12T11:20:20.919Z"
   },
   {
    "duration": 7,
    "start_time": "2022-05-12T11:20:20.930Z"
   },
   {
    "duration": 35,
    "start_time": "2022-05-12T11:20:20.939Z"
   },
   {
    "duration": 10,
    "start_time": "2022-05-12T11:20:20.976Z"
   },
   {
    "duration": 15,
    "start_time": "2022-05-12T11:20:20.988Z"
   },
   {
    "duration": 7,
    "start_time": "2022-05-12T11:20:21.005Z"
   },
   {
    "duration": 7,
    "start_time": "2022-05-12T11:20:21.014Z"
   },
   {
    "duration": 9,
    "start_time": "2022-05-12T11:20:21.023Z"
   },
   {
    "duration": 39,
    "start_time": "2022-05-12T11:20:21.034Z"
   },
   {
    "duration": 20,
    "start_time": "2022-05-12T11:20:21.075Z"
   },
   {
    "duration": 7,
    "start_time": "2022-05-12T11:20:21.098Z"
   },
   {
    "duration": 7,
    "start_time": "2022-05-12T11:20:21.107Z"
   },
   {
    "duration": 10,
    "start_time": "2022-05-12T11:20:21.116Z"
   },
   {
    "duration": 43,
    "start_time": "2022-05-12T11:20:21.128Z"
   },
   {
    "duration": 8,
    "start_time": "2022-05-12T11:20:21.174Z"
   },
   {
    "duration": 11,
    "start_time": "2022-05-12T11:20:21.184Z"
   },
   {
    "duration": 9,
    "start_time": "2022-05-12T11:20:21.202Z"
   },
   {
    "duration": 445,
    "start_time": "2022-05-12T11:20:57.134Z"
   },
   {
    "duration": 58,
    "start_time": "2022-05-12T11:20:57.581Z"
   },
   {
    "duration": 19,
    "start_time": "2022-05-12T11:20:57.640Z"
   },
   {
    "duration": 21,
    "start_time": "2022-05-12T11:20:57.661Z"
   },
   {
    "duration": 10,
    "start_time": "2022-05-12T11:20:57.683Z"
   },
   {
    "duration": 7,
    "start_time": "2022-05-12T11:20:57.694Z"
   },
   {
    "duration": 6,
    "start_time": "2022-05-12T11:20:57.703Z"
   },
   {
    "duration": 4,
    "start_time": "2022-05-12T11:20:57.711Z"
   },
   {
    "duration": 5,
    "start_time": "2022-05-12T11:20:57.717Z"
   },
   {
    "duration": 7,
    "start_time": "2022-05-12T11:20:57.725Z"
   },
   {
    "duration": 6,
    "start_time": "2022-05-12T11:20:57.771Z"
   },
   {
    "duration": 10,
    "start_time": "2022-05-12T11:20:57.779Z"
   },
   {
    "duration": 4,
    "start_time": "2022-05-12T11:20:57.791Z"
   },
   {
    "duration": 7,
    "start_time": "2022-05-12T11:20:57.796Z"
   },
   {
    "duration": 5,
    "start_time": "2022-05-12T11:20:57.805Z"
   },
   {
    "duration": 13,
    "start_time": "2022-05-12T11:20:57.812Z"
   },
   {
    "duration": 4,
    "start_time": "2022-05-12T11:20:57.826Z"
   },
   {
    "duration": 43,
    "start_time": "2022-05-12T11:20:57.832Z"
   },
   {
    "duration": 22,
    "start_time": "2022-05-12T11:20:57.877Z"
   },
   {
    "duration": 3,
    "start_time": "2022-05-12T11:20:57.901Z"
   },
   {
    "duration": 6,
    "start_time": "2022-05-12T11:20:57.906Z"
   },
   {
    "duration": 4,
    "start_time": "2022-05-12T11:20:57.913Z"
   },
   {
    "duration": 4,
    "start_time": "2022-05-12T11:20:57.919Z"
   },
   {
    "duration": 55,
    "start_time": "2022-05-12T11:20:57.925Z"
   },
   {
    "duration": 133,
    "start_time": "2022-05-12T11:20:57.982Z"
   },
   {
    "duration": 12,
    "start_time": "2022-05-12T11:20:58.117Z"
   },
   {
    "duration": 5,
    "start_time": "2022-05-12T11:20:58.131Z"
   },
   {
    "duration": 31,
    "start_time": "2022-05-12T11:20:58.141Z"
   },
   {
    "duration": 5,
    "start_time": "2022-05-12T11:20:58.174Z"
   },
   {
    "duration": 4,
    "start_time": "2022-05-12T11:20:58.181Z"
   },
   {
    "duration": 6,
    "start_time": "2022-05-12T11:20:58.186Z"
   },
   {
    "duration": 6,
    "start_time": "2022-05-12T11:20:58.193Z"
   },
   {
    "duration": 9,
    "start_time": "2022-05-12T11:20:58.200Z"
   },
   {
    "duration": 3,
    "start_time": "2022-05-12T11:20:58.211Z"
   },
   {
    "duration": 5,
    "start_time": "2022-05-12T11:20:58.216Z"
   },
   {
    "duration": 10,
    "start_time": "2022-05-12T11:20:58.222Z"
   },
   {
    "duration": 38,
    "start_time": "2022-05-12T11:20:58.234Z"
   },
   {
    "duration": 5,
    "start_time": "2022-05-12T11:20:58.273Z"
   },
   {
    "duration": 11,
    "start_time": "2022-05-12T11:20:58.280Z"
   },
   {
    "duration": 11,
    "start_time": "2022-05-12T11:20:58.293Z"
   },
   {
    "duration": 7,
    "start_time": "2022-05-12T11:20:58.305Z"
   },
   {
    "duration": 17,
    "start_time": "2022-05-12T11:20:58.314Z"
   },
   {
    "duration": 51,
    "start_time": "2022-05-12T11:20:58.332Z"
   },
   {
    "duration": 16,
    "start_time": "2022-05-12T11:20:58.385Z"
   },
   {
    "duration": 7,
    "start_time": "2022-05-12T11:20:58.402Z"
   },
   {
    "duration": 19,
    "start_time": "2022-05-12T11:20:58.410Z"
   },
   {
    "duration": 8,
    "start_time": "2022-05-12T11:20:58.430Z"
   },
   {
    "duration": 17,
    "start_time": "2022-05-12T11:20:58.471Z"
   },
   {
    "duration": 13,
    "start_time": "2022-05-12T11:20:58.490Z"
   },
   {
    "duration": 13,
    "start_time": "2022-05-12T11:20:58.504Z"
   },
   {
    "duration": 6,
    "start_time": "2022-05-12T11:20:58.519Z"
   },
   {
    "duration": 8,
    "start_time": "2022-05-12T11:20:58.526Z"
   },
   {
    "duration": 38,
    "start_time": "2022-05-12T11:20:58.535Z"
   },
   {
    "duration": 13,
    "start_time": "2022-05-12T11:20:58.575Z"
   },
   {
    "duration": 3,
    "start_time": "2022-05-12T11:20:58.590Z"
   },
   {
    "duration": 12,
    "start_time": "2022-05-12T11:20:58.595Z"
   },
   {
    "duration": 13,
    "start_time": "2022-05-12T11:20:58.608Z"
   },
   {
    "duration": 5,
    "start_time": "2022-05-12T11:20:58.622Z"
   },
   {
    "duration": 43,
    "start_time": "2022-05-12T11:20:58.628Z"
   },
   {
    "duration": 11,
    "start_time": "2022-05-12T11:20:58.673Z"
   },
   {
    "duration": 9,
    "start_time": "2022-05-12T11:20:58.686Z"
   },
   {
    "duration": 5,
    "start_time": "2022-05-12T11:20:58.696Z"
   },
   {
    "duration": 222,
    "start_time": "2022-05-12T11:20:58.703Z"
   },
   {
    "duration": 10,
    "start_time": "2022-05-12T11:20:58.927Z"
   },
   {
    "duration": 13,
    "start_time": "2022-05-12T11:20:58.939Z"
   },
   {
    "duration": 21,
    "start_time": "2022-05-12T11:20:58.954Z"
   },
   {
    "duration": 5,
    "start_time": "2022-05-12T11:20:58.977Z"
   },
   {
    "duration": 25,
    "start_time": "2022-05-12T11:20:58.984Z"
   },
   {
    "duration": 7,
    "start_time": "2022-05-12T11:20:59.011Z"
   },
   {
    "duration": 12,
    "start_time": "2022-05-12T11:20:59.020Z"
   },
   {
    "duration": 10,
    "start_time": "2022-05-12T11:20:59.033Z"
   },
   {
    "duration": 5,
    "start_time": "2022-05-12T11:20:59.044Z"
   },
   {
    "duration": 25,
    "start_time": "2022-05-12T11:20:59.051Z"
   },
   {
    "duration": 9,
    "start_time": "2022-05-12T11:20:59.078Z"
   },
   {
    "duration": 16,
    "start_time": "2022-05-12T11:20:59.089Z"
   },
   {
    "duration": 6,
    "start_time": "2022-05-12T11:20:59.107Z"
   },
   {
    "duration": 6,
    "start_time": "2022-05-12T11:20:59.114Z"
   },
   {
    "duration": 9,
    "start_time": "2022-05-12T11:20:59.122Z"
   },
   {
    "duration": 40,
    "start_time": "2022-05-12T11:20:59.132Z"
   },
   {
    "duration": 6,
    "start_time": "2022-05-12T11:20:59.173Z"
   },
   {
    "duration": 7,
    "start_time": "2022-05-12T11:20:59.181Z"
   },
   {
    "duration": 6,
    "start_time": "2022-05-12T11:20:59.193Z"
   },
   {
    "duration": 448,
    "start_time": "2022-05-12T11:32:43.362Z"
   },
   {
    "duration": 62,
    "start_time": "2022-05-12T11:32:43.812Z"
   },
   {
    "duration": 23,
    "start_time": "2022-05-12T11:32:43.875Z"
   },
   {
    "duration": 16,
    "start_time": "2022-05-12T11:32:43.900Z"
   },
   {
    "duration": 10,
    "start_time": "2022-05-12T11:32:43.917Z"
   },
   {
    "duration": 5,
    "start_time": "2022-05-12T11:32:43.929Z"
   },
   {
    "duration": 36,
    "start_time": "2022-05-12T11:32:43.936Z"
   },
   {
    "duration": 16,
    "start_time": "2022-05-12T11:32:43.977Z"
   },
   {
    "duration": 4,
    "start_time": "2022-05-12T11:32:43.994Z"
   },
   {
    "duration": 7,
    "start_time": "2022-05-12T11:32:44.001Z"
   },
   {
    "duration": 6,
    "start_time": "2022-05-12T11:32:44.009Z"
   },
   {
    "duration": 8,
    "start_time": "2022-05-12T11:32:44.016Z"
   },
   {
    "duration": 3,
    "start_time": "2022-05-12T11:32:44.025Z"
   },
   {
    "duration": 7,
    "start_time": "2022-05-12T11:32:44.030Z"
   },
   {
    "duration": 53,
    "start_time": "2022-05-12T11:32:44.038Z"
   },
   {
    "duration": 16,
    "start_time": "2022-05-12T11:32:44.093Z"
   },
   {
    "duration": 4,
    "start_time": "2022-05-12T11:32:44.111Z"
   },
   {
    "duration": 6,
    "start_time": "2022-05-12T11:32:44.116Z"
   },
   {
    "duration": 23,
    "start_time": "2022-05-12T11:32:44.124Z"
   },
   {
    "duration": 3,
    "start_time": "2022-05-12T11:32:44.149Z"
   },
   {
    "duration": 6,
    "start_time": "2022-05-12T11:32:44.173Z"
   },
   {
    "duration": 13,
    "start_time": "2022-05-12T11:32:44.180Z"
   },
   {
    "duration": 5,
    "start_time": "2022-05-12T11:32:44.195Z"
   },
   {
    "duration": 27,
    "start_time": "2022-05-12T11:32:44.202Z"
   },
   {
    "duration": 158,
    "start_time": "2022-05-12T11:32:44.230Z"
   },
   {
    "duration": 12,
    "start_time": "2022-05-12T11:32:44.390Z"
   },
   {
    "duration": 11,
    "start_time": "2022-05-12T11:32:44.404Z"
   },
   {
    "duration": 15,
    "start_time": "2022-05-12T11:32:44.422Z"
   },
   {
    "duration": 9,
    "start_time": "2022-05-12T11:32:44.439Z"
   },
   {
    "duration": 32,
    "start_time": "2022-05-12T11:32:44.450Z"
   },
   {
    "duration": 16,
    "start_time": "2022-05-12T11:32:44.483Z"
   },
   {
    "duration": 12,
    "start_time": "2022-05-12T11:32:44.500Z"
   },
   {
    "duration": 10,
    "start_time": "2022-05-12T11:32:44.513Z"
   },
   {
    "duration": 6,
    "start_time": "2022-05-12T11:32:44.524Z"
   },
   {
    "duration": 9,
    "start_time": "2022-05-12T11:32:44.531Z"
   },
   {
    "duration": 11,
    "start_time": "2022-05-12T11:32:44.541Z"
   },
   {
    "duration": 9,
    "start_time": "2022-05-12T11:32:44.554Z"
   },
   {
    "duration": 20,
    "start_time": "2022-05-12T11:32:44.564Z"
   },
   {
    "duration": 8,
    "start_time": "2022-05-12T11:32:44.585Z"
   },
   {
    "duration": 9,
    "start_time": "2022-05-12T11:32:44.594Z"
   },
   {
    "duration": 11,
    "start_time": "2022-05-12T11:32:44.605Z"
   },
   {
    "duration": 22,
    "start_time": "2022-05-12T11:32:44.618Z"
   },
   {
    "duration": 19,
    "start_time": "2022-05-12T11:32:44.641Z"
   },
   {
    "duration": 22,
    "start_time": "2022-05-12T11:32:44.671Z"
   },
   {
    "duration": 7,
    "start_time": "2022-05-12T11:32:44.695Z"
   },
   {
    "duration": 19,
    "start_time": "2022-05-12T11:32:44.703Z"
   },
   {
    "duration": 7,
    "start_time": "2022-05-12T11:32:44.724Z"
   },
   {
    "duration": 47,
    "start_time": "2022-05-12T11:32:44.733Z"
   },
   {
    "duration": 12,
    "start_time": "2022-05-12T11:32:44.782Z"
   },
   {
    "duration": 15,
    "start_time": "2022-05-12T11:32:44.796Z"
   },
   {
    "duration": 9,
    "start_time": "2022-05-12T11:32:44.813Z"
   },
   {
    "duration": 9,
    "start_time": "2022-05-12T11:32:44.823Z"
   },
   {
    "duration": 5,
    "start_time": "2022-05-12T11:32:44.834Z"
   },
   {
    "duration": 39,
    "start_time": "2022-05-12T11:32:44.840Z"
   },
   {
    "duration": 4,
    "start_time": "2022-05-12T11:32:44.882Z"
   },
   {
    "duration": 15,
    "start_time": "2022-05-12T11:32:44.888Z"
   },
   {
    "duration": 13,
    "start_time": "2022-05-12T11:32:44.905Z"
   },
   {
    "duration": 4,
    "start_time": "2022-05-12T11:32:44.919Z"
   },
   {
    "duration": 13,
    "start_time": "2022-05-12T11:32:44.924Z"
   },
   {
    "duration": 37,
    "start_time": "2022-05-12T11:32:44.938Z"
   },
   {
    "duration": 18,
    "start_time": "2022-05-12T11:32:44.977Z"
   },
   {
    "duration": 5,
    "start_time": "2022-05-12T11:32:44.997Z"
   },
   {
    "duration": 141,
    "start_time": "2022-05-12T11:32:45.003Z"
   },
   {
    "duration": 7,
    "start_time": "2022-05-12T11:32:45.145Z"
   },
   {
    "duration": 24,
    "start_time": "2022-05-12T11:32:45.154Z"
   },
   {
    "duration": 9,
    "start_time": "2022-05-12T11:32:45.180Z"
   },
   {
    "duration": 5,
    "start_time": "2022-05-12T11:32:45.190Z"
   },
   {
    "duration": 9,
    "start_time": "2022-05-12T11:32:45.197Z"
   },
   {
    "duration": 9,
    "start_time": "2022-05-12T11:32:45.207Z"
   },
   {
    "duration": 10,
    "start_time": "2022-05-12T11:32:45.218Z"
   },
   {
    "duration": 5,
    "start_time": "2022-05-12T11:32:45.230Z"
   },
   {
    "duration": 4,
    "start_time": "2022-05-12T11:32:45.237Z"
   },
   {
    "duration": 10,
    "start_time": "2022-05-12T11:32:45.270Z"
   },
   {
    "duration": 17,
    "start_time": "2022-05-12T11:32:45.282Z"
   },
   {
    "duration": 18,
    "start_time": "2022-05-12T11:32:45.301Z"
   },
   {
    "duration": 7,
    "start_time": "2022-05-12T11:32:45.322Z"
   },
   {
    "duration": 7,
    "start_time": "2022-05-12T11:32:45.331Z"
   },
   {
    "duration": 37,
    "start_time": "2022-05-12T11:32:45.340Z"
   },
   {
    "duration": 33,
    "start_time": "2022-05-12T11:32:45.379Z"
   },
   {
    "duration": 8,
    "start_time": "2022-05-12T11:32:45.414Z"
   },
   {
    "duration": 6,
    "start_time": "2022-05-12T11:32:45.424Z"
   },
   {
    "duration": 9,
    "start_time": "2022-05-12T11:32:45.437Z"
   },
   {
    "duration": 449,
    "start_time": "2022-05-12T11:34:52.386Z"
   },
   {
    "duration": 90,
    "start_time": "2022-05-12T11:34:52.837Z"
   },
   {
    "duration": 29,
    "start_time": "2022-05-12T11:34:52.933Z"
   },
   {
    "duration": 23,
    "start_time": "2022-05-12T11:34:52.973Z"
   },
   {
    "duration": 15,
    "start_time": "2022-05-12T11:34:52.998Z"
   },
   {
    "duration": 5,
    "start_time": "2022-05-12T11:34:53.015Z"
   },
   {
    "duration": 6,
    "start_time": "2022-05-12T11:34:53.022Z"
   },
   {
    "duration": 4,
    "start_time": "2022-05-12T11:34:53.030Z"
   },
   {
    "duration": 38,
    "start_time": "2022-05-12T11:34:53.038Z"
   },
   {
    "duration": 17,
    "start_time": "2022-05-12T11:34:53.079Z"
   },
   {
    "duration": 14,
    "start_time": "2022-05-12T11:34:53.098Z"
   },
   {
    "duration": 7,
    "start_time": "2022-05-12T11:34:53.113Z"
   },
   {
    "duration": 3,
    "start_time": "2022-05-12T11:34:53.122Z"
   },
   {
    "duration": 10,
    "start_time": "2022-05-12T11:34:53.126Z"
   },
   {
    "duration": 9,
    "start_time": "2022-05-12T11:34:53.138Z"
   },
   {
    "duration": 19,
    "start_time": "2022-05-12T11:34:53.148Z"
   },
   {
    "duration": 8,
    "start_time": "2022-05-12T11:34:53.173Z"
   },
   {
    "duration": 13,
    "start_time": "2022-05-12T11:34:53.184Z"
   },
   {
    "duration": 23,
    "start_time": "2022-05-12T11:34:53.198Z"
   },
   {
    "duration": 3,
    "start_time": "2022-05-12T11:34:53.222Z"
   },
   {
    "duration": 5,
    "start_time": "2022-05-12T11:34:53.227Z"
   },
   {
    "duration": 4,
    "start_time": "2022-05-12T11:34:53.234Z"
   },
   {
    "duration": 4,
    "start_time": "2022-05-12T11:34:53.239Z"
   },
   {
    "duration": 49,
    "start_time": "2022-05-12T11:34:53.244Z"
   },
   {
    "duration": 141,
    "start_time": "2022-05-12T11:34:53.295Z"
   },
   {
    "duration": 12,
    "start_time": "2022-05-12T11:34:53.438Z"
   },
   {
    "duration": 22,
    "start_time": "2022-05-12T11:34:53.454Z"
   },
   {
    "duration": 21,
    "start_time": "2022-05-12T11:34:53.477Z"
   },
   {
    "duration": 4,
    "start_time": "2022-05-12T11:34:53.500Z"
   },
   {
    "duration": 5,
    "start_time": "2022-05-12T11:34:53.506Z"
   },
   {
    "duration": 5,
    "start_time": "2022-05-12T11:34:53.512Z"
   },
   {
    "duration": 7,
    "start_time": "2022-05-12T11:34:53.518Z"
   },
   {
    "duration": 9,
    "start_time": "2022-05-12T11:34:53.526Z"
   },
   {
    "duration": 4,
    "start_time": "2022-05-12T11:34:53.536Z"
   },
   {
    "duration": 4,
    "start_time": "2022-05-12T11:34:53.541Z"
   },
   {
    "duration": 16,
    "start_time": "2022-05-12T11:34:53.575Z"
   },
   {
    "duration": 6,
    "start_time": "2022-05-12T11:34:53.593Z"
   },
   {
    "duration": 7,
    "start_time": "2022-05-12T11:34:53.601Z"
   },
   {
    "duration": 5,
    "start_time": "2022-05-12T11:34:53.609Z"
   },
   {
    "duration": 7,
    "start_time": "2022-05-12T11:34:53.616Z"
   },
   {
    "duration": 8,
    "start_time": "2022-05-12T11:34:53.624Z"
   },
   {
    "duration": 43,
    "start_time": "2022-05-12T11:34:53.633Z"
   },
   {
    "duration": 28,
    "start_time": "2022-05-12T11:34:53.679Z"
   },
   {
    "duration": 23,
    "start_time": "2022-05-12T11:34:53.710Z"
   },
   {
    "duration": 9,
    "start_time": "2022-05-12T11:34:53.736Z"
   },
   {
    "duration": 45,
    "start_time": "2022-05-12T11:34:53.747Z"
   },
   {
    "duration": 8,
    "start_time": "2022-05-12T11:34:53.794Z"
   },
   {
    "duration": 18,
    "start_time": "2022-05-12T11:34:53.803Z"
   },
   {
    "duration": 9,
    "start_time": "2022-05-12T11:34:53.823Z"
   },
   {
    "duration": 13,
    "start_time": "2022-05-12T11:34:53.834Z"
   },
   {
    "duration": 10,
    "start_time": "2022-05-12T11:34:53.876Z"
   },
   {
    "duration": 8,
    "start_time": "2022-05-12T11:34:53.888Z"
   },
   {
    "duration": 7,
    "start_time": "2022-05-12T11:34:53.897Z"
   },
   {
    "duration": 12,
    "start_time": "2022-05-12T11:34:53.905Z"
   },
   {
    "duration": 4,
    "start_time": "2022-05-12T11:34:53.919Z"
   },
   {
    "duration": 13,
    "start_time": "2022-05-12T11:34:53.924Z"
   },
   {
    "duration": 42,
    "start_time": "2022-05-12T11:34:53.939Z"
   },
   {
    "duration": 10,
    "start_time": "2022-05-12T11:34:53.983Z"
   },
   {
    "duration": 15,
    "start_time": "2022-05-12T11:34:53.994Z"
   },
   {
    "duration": 11,
    "start_time": "2022-05-12T11:34:54.011Z"
   },
   {
    "duration": 8,
    "start_time": "2022-05-12T11:34:54.023Z"
   },
   {
    "duration": 4,
    "start_time": "2022-05-12T11:34:54.033Z"
   },
   {
    "duration": 156,
    "start_time": "2022-05-12T11:34:54.039Z"
   },
   {
    "duration": 7,
    "start_time": "2022-05-12T11:34:54.197Z"
   },
   {
    "duration": 13,
    "start_time": "2022-05-12T11:34:54.206Z"
   },
   {
    "duration": 6,
    "start_time": "2022-05-12T11:34:54.221Z"
   },
   {
    "duration": 11,
    "start_time": "2022-05-12T11:34:54.229Z"
   },
   {
    "duration": 33,
    "start_time": "2022-05-12T11:34:54.241Z"
   },
   {
    "duration": 9,
    "start_time": "2022-05-12T11:34:54.275Z"
   },
   {
    "duration": 19,
    "start_time": "2022-05-12T11:34:54.285Z"
   },
   {
    "duration": 7,
    "start_time": "2022-05-12T11:34:54.305Z"
   },
   {
    "duration": 11,
    "start_time": "2022-05-12T11:34:54.314Z"
   },
   {
    "duration": 12,
    "start_time": "2022-05-12T11:34:54.326Z"
   },
   {
    "duration": 12,
    "start_time": "2022-05-12T11:34:54.339Z"
   },
   {
    "duration": 25,
    "start_time": "2022-05-12T11:34:54.353Z"
   },
   {
    "duration": 15,
    "start_time": "2022-05-12T11:34:54.380Z"
   },
   {
    "duration": 6,
    "start_time": "2022-05-12T11:34:54.397Z"
   },
   {
    "duration": 11,
    "start_time": "2022-05-12T11:34:54.405Z"
   },
   {
    "duration": 20,
    "start_time": "2022-05-12T11:34:54.417Z"
   },
   {
    "duration": 5,
    "start_time": "2022-05-12T11:34:54.439Z"
   },
   {
    "duration": 4,
    "start_time": "2022-05-12T11:34:54.449Z"
   },
   {
    "duration": 10,
    "start_time": "2022-05-12T11:34:54.478Z"
   },
   {
    "duration": 531,
    "start_time": "2022-05-13T11:19:46.489Z"
   },
   {
    "duration": 87,
    "start_time": "2022-05-13T11:19:47.022Z"
   },
   {
    "duration": 26,
    "start_time": "2022-05-13T11:19:47.111Z"
   },
   {
    "duration": 21,
    "start_time": "2022-05-13T11:19:47.139Z"
   },
   {
    "duration": 15,
    "start_time": "2022-05-13T11:19:47.161Z"
   },
   {
    "duration": 25,
    "start_time": "2022-05-13T11:19:47.178Z"
   },
   {
    "duration": 6,
    "start_time": "2022-05-13T11:19:47.205Z"
   },
   {
    "duration": 4,
    "start_time": "2022-05-13T11:19:47.213Z"
   },
   {
    "duration": 4,
    "start_time": "2022-05-13T11:19:47.219Z"
   },
   {
    "duration": 4,
    "start_time": "2022-05-13T11:19:47.226Z"
   },
   {
    "duration": 6,
    "start_time": "2022-05-13T11:19:47.231Z"
   },
   {
    "duration": 7,
    "start_time": "2022-05-13T11:19:47.239Z"
   },
   {
    "duration": 3,
    "start_time": "2022-05-13T11:19:47.248Z"
   },
   {
    "duration": 48,
    "start_time": "2022-05-13T11:19:47.253Z"
   },
   {
    "duration": 6,
    "start_time": "2022-05-13T11:19:47.304Z"
   },
   {
    "duration": 20,
    "start_time": "2022-05-13T11:19:47.312Z"
   },
   {
    "duration": 10,
    "start_time": "2022-05-13T11:19:47.334Z"
   },
   {
    "duration": 8,
    "start_time": "2022-05-13T11:19:47.345Z"
   },
   {
    "duration": 55,
    "start_time": "2022-05-13T11:19:47.355Z"
   },
   {
    "duration": 4,
    "start_time": "2022-05-13T11:19:47.412Z"
   },
   {
    "duration": 9,
    "start_time": "2022-05-13T11:19:47.417Z"
   },
   {
    "duration": 4,
    "start_time": "2022-05-13T11:19:47.427Z"
   },
   {
    "duration": 4,
    "start_time": "2022-05-13T11:19:47.433Z"
   },
   {
    "duration": 20,
    "start_time": "2022-05-13T11:19:47.438Z"
   },
   {
    "duration": 153,
    "start_time": "2022-05-13T11:19:47.459Z"
   },
   {
    "duration": 13,
    "start_time": "2022-05-13T11:19:47.613Z"
   },
   {
    "duration": 5,
    "start_time": "2022-05-13T11:19:47.627Z"
   },
   {
    "duration": 10,
    "start_time": "2022-05-13T11:19:47.637Z"
   },
   {
    "duration": 5,
    "start_time": "2022-05-13T11:19:47.649Z"
   },
   {
    "duration": 5,
    "start_time": "2022-05-13T11:19:47.656Z"
   },
   {
    "duration": 39,
    "start_time": "2022-05-13T11:19:47.663Z"
   },
   {
    "duration": 6,
    "start_time": "2022-05-13T11:19:47.704Z"
   },
   {
    "duration": 8,
    "start_time": "2022-05-13T11:19:47.712Z"
   },
   {
    "duration": 5,
    "start_time": "2022-05-13T11:19:47.722Z"
   },
   {
    "duration": 5,
    "start_time": "2022-05-13T11:19:47.729Z"
   },
   {
    "duration": 8,
    "start_time": "2022-05-13T11:19:47.736Z"
   },
   {
    "duration": 5,
    "start_time": "2022-05-13T11:19:47.745Z"
   },
   {
    "duration": 5,
    "start_time": "2022-05-13T11:19:47.752Z"
   },
   {
    "duration": 43,
    "start_time": "2022-05-13T11:19:47.759Z"
   },
   {
    "duration": 7,
    "start_time": "2022-05-13T11:19:47.803Z"
   },
   {
    "duration": 6,
    "start_time": "2022-05-13T11:19:47.812Z"
   },
   {
    "duration": 18,
    "start_time": "2022-05-13T11:19:47.820Z"
   },
   {
    "duration": 26,
    "start_time": "2022-05-13T11:19:47.839Z"
   },
   {
    "duration": 56,
    "start_time": "2022-05-13T11:19:47.866Z"
   },
   {
    "duration": 7,
    "start_time": "2022-05-13T11:19:47.923Z"
   },
   {
    "duration": 21,
    "start_time": "2022-05-13T11:19:47.931Z"
   },
   {
    "duration": 8,
    "start_time": "2022-05-13T11:19:47.954Z"
   },
   {
    "duration": 26,
    "start_time": "2022-05-13T11:19:47.963Z"
   },
   {
    "duration": 7,
    "start_time": "2022-05-13T11:19:48.000Z"
   },
   {
    "duration": 17,
    "start_time": "2022-05-13T11:19:48.008Z"
   },
   {
    "duration": 10,
    "start_time": "2022-05-13T11:19:48.027Z"
   },
   {
    "duration": 16,
    "start_time": "2022-05-13T11:19:48.039Z"
   },
   {
    "duration": 6,
    "start_time": "2022-05-13T11:19:48.057Z"
   },
   {
    "duration": 12,
    "start_time": "2022-05-13T11:19:48.064Z"
   },
   {
    "duration": 4,
    "start_time": "2022-05-13T11:19:48.078Z"
   },
   {
    "duration": 27,
    "start_time": "2022-05-13T11:19:48.084Z"
   },
   {
    "duration": 13,
    "start_time": "2022-05-13T11:19:48.113Z"
   },
   {
    "duration": 5,
    "start_time": "2022-05-13T11:19:48.128Z"
   },
   {
    "duration": 11,
    "start_time": "2022-05-13T11:19:48.135Z"
   },
   {
    "duration": 12,
    "start_time": "2022-05-13T11:19:48.147Z"
   },
   {
    "duration": 40,
    "start_time": "2022-05-13T11:19:48.161Z"
   },
   {
    "duration": 3,
    "start_time": "2022-05-13T11:19:48.203Z"
   },
   {
    "duration": 132,
    "start_time": "2022-05-13T11:19:48.208Z"
   },
   {
    "duration": 7,
    "start_time": "2022-05-13T11:19:48.342Z"
   },
   {
    "duration": 13,
    "start_time": "2022-05-13T11:19:48.351Z"
   },
   {
    "duration": 6,
    "start_time": "2022-05-13T11:19:48.366Z"
   },
   {
    "duration": 27,
    "start_time": "2022-05-13T11:19:48.373Z"
   },
   {
    "duration": 7,
    "start_time": "2022-05-13T11:19:48.402Z"
   },
   {
    "duration": 6,
    "start_time": "2022-05-13T11:19:48.411Z"
   },
   {
    "duration": 11,
    "start_time": "2022-05-13T11:19:48.419Z"
   },
   {
    "duration": 5,
    "start_time": "2022-05-13T11:19:48.432Z"
   },
   {
    "duration": 5,
    "start_time": "2022-05-13T11:19:48.439Z"
   },
   {
    "duration": 8,
    "start_time": "2022-05-13T11:19:48.446Z"
   },
   {
    "duration": 10,
    "start_time": "2022-05-13T11:19:48.456Z"
   },
   {
    "duration": 41,
    "start_time": "2022-05-13T11:19:48.469Z"
   },
   {
    "duration": 5,
    "start_time": "2022-05-13T11:19:48.512Z"
   },
   {
    "duration": 8,
    "start_time": "2022-05-13T11:19:48.519Z"
   },
   {
    "duration": 11,
    "start_time": "2022-05-13T11:19:48.529Z"
   },
   {
    "duration": 18,
    "start_time": "2022-05-13T11:19:48.542Z"
   },
   {
    "duration": 10,
    "start_time": "2022-05-13T11:19:48.561Z"
   },
   {
    "duration": 10,
    "start_time": "2022-05-13T11:19:48.572Z"
   },
   {
    "duration": 6,
    "start_time": "2022-05-13T11:19:48.603Z"
   },
   {
    "duration": 437,
    "start_time": "2022-05-13T11:20:22.294Z"
   },
   {
    "duration": 196,
    "start_time": "2022-05-13T11:37:34.071Z"
   },
   {
    "duration": 417,
    "start_time": "2022-05-13T11:39:26.109Z"
   },
   {
    "duration": 60,
    "start_time": "2022-05-13T11:39:26.528Z"
   },
   {
    "duration": 23,
    "start_time": "2022-05-13T11:39:26.589Z"
   },
   {
    "duration": 23,
    "start_time": "2022-05-13T11:39:26.615Z"
   },
   {
    "duration": 10,
    "start_time": "2022-05-13T11:39:26.639Z"
   },
   {
    "duration": 4,
    "start_time": "2022-05-13T11:39:26.651Z"
   },
   {
    "duration": 10,
    "start_time": "2022-05-13T11:39:26.657Z"
   },
   {
    "duration": 7,
    "start_time": "2022-05-13T11:39:26.669Z"
   },
   {
    "duration": 31,
    "start_time": "2022-05-13T11:39:26.677Z"
   },
   {
    "duration": 19,
    "start_time": "2022-05-13T11:39:26.711Z"
   },
   {
    "duration": 9,
    "start_time": "2022-05-13T11:39:26.732Z"
   },
   {
    "duration": 8,
    "start_time": "2022-05-13T11:39:26.743Z"
   },
   {
    "duration": 7,
    "start_time": "2022-05-13T11:39:26.753Z"
   },
   {
    "duration": 8,
    "start_time": "2022-05-13T11:39:26.762Z"
   },
   {
    "duration": 9,
    "start_time": "2022-05-13T11:39:26.772Z"
   },
   {
    "duration": 23,
    "start_time": "2022-05-13T11:39:26.782Z"
   },
   {
    "duration": 4,
    "start_time": "2022-05-13T11:39:26.807Z"
   },
   {
    "duration": 20,
    "start_time": "2022-05-13T11:39:26.813Z"
   },
   {
    "duration": 25,
    "start_time": "2022-05-13T11:39:26.834Z"
   },
   {
    "duration": 3,
    "start_time": "2022-05-13T11:39:26.860Z"
   },
   {
    "duration": 11,
    "start_time": "2022-05-13T11:39:26.865Z"
   },
   {
    "duration": 8,
    "start_time": "2022-05-13T11:39:26.877Z"
   },
   {
    "duration": 14,
    "start_time": "2022-05-13T11:39:26.886Z"
   },
   {
    "duration": 24,
    "start_time": "2022-05-13T11:39:26.902Z"
   },
   {
    "duration": 143,
    "start_time": "2022-05-13T11:39:26.927Z"
   },
   {
    "duration": 12,
    "start_time": "2022-05-13T11:39:27.071Z"
   },
   {
    "duration": 17,
    "start_time": "2022-05-13T11:39:27.085Z"
   },
   {
    "duration": 17,
    "start_time": "2022-05-13T11:39:27.109Z"
   },
   {
    "duration": 7,
    "start_time": "2022-05-13T11:39:27.127Z"
   },
   {
    "duration": 7,
    "start_time": "2022-05-13T11:39:27.135Z"
   },
   {
    "duration": 5,
    "start_time": "2022-05-13T11:39:27.144Z"
   },
   {
    "duration": 6,
    "start_time": "2022-05-13T11:39:27.151Z"
   },
   {
    "duration": 7,
    "start_time": "2022-05-13T11:39:27.158Z"
   },
   {
    "duration": 4,
    "start_time": "2022-05-13T11:39:27.167Z"
   },
   {
    "duration": 29,
    "start_time": "2022-05-13T11:39:27.172Z"
   },
   {
    "duration": 23,
    "start_time": "2022-05-13T11:39:27.203Z"
   },
   {
    "duration": 5,
    "start_time": "2022-05-13T11:39:27.228Z"
   },
   {
    "duration": 6,
    "start_time": "2022-05-13T11:39:27.234Z"
   },
   {
    "duration": 5,
    "start_time": "2022-05-13T11:39:27.242Z"
   },
   {
    "duration": 10,
    "start_time": "2022-05-13T11:39:27.248Z"
   },
   {
    "duration": 8,
    "start_time": "2022-05-13T11:39:27.260Z"
   },
   {
    "duration": 49,
    "start_time": "2022-05-13T11:39:27.269Z"
   },
   {
    "duration": 19,
    "start_time": "2022-05-13T11:39:27.320Z"
   },
   {
    "duration": 18,
    "start_time": "2022-05-13T11:39:27.340Z"
   },
   {
    "duration": 7,
    "start_time": "2022-05-13T11:39:27.359Z"
   },
   {
    "duration": 38,
    "start_time": "2022-05-13T11:39:27.367Z"
   },
   {
    "duration": 9,
    "start_time": "2022-05-13T11:39:27.409Z"
   },
   {
    "duration": 22,
    "start_time": "2022-05-13T11:39:27.420Z"
   },
   {
    "duration": 6,
    "start_time": "2022-05-13T11:39:27.443Z"
   },
   {
    "duration": 19,
    "start_time": "2022-05-13T11:39:27.450Z"
   },
   {
    "duration": 8,
    "start_time": "2022-05-13T11:39:27.470Z"
   },
   {
    "duration": 22,
    "start_time": "2022-05-13T11:39:27.480Z"
   },
   {
    "duration": 4,
    "start_time": "2022-05-13T11:39:27.507Z"
   },
   {
    "duration": 21,
    "start_time": "2022-05-13T11:39:27.513Z"
   },
   {
    "duration": 4,
    "start_time": "2022-05-13T11:39:27.535Z"
   },
   {
    "duration": 15,
    "start_time": "2022-05-13T11:39:27.541Z"
   },
   {
    "duration": 12,
    "start_time": "2022-05-13T11:39:27.558Z"
   },
   {
    "duration": 7,
    "start_time": "2022-05-13T11:39:27.571Z"
   },
   {
    "duration": 22,
    "start_time": "2022-05-13T11:39:27.579Z"
   },
   {
    "duration": 13,
    "start_time": "2022-05-13T11:39:27.607Z"
   },
   {
    "duration": 10,
    "start_time": "2022-05-13T11:39:27.622Z"
   },
   {
    "duration": 7,
    "start_time": "2022-05-13T11:39:27.634Z"
   },
   {
    "duration": 147,
    "start_time": "2022-05-13T11:39:27.642Z"
   },
   {
    "duration": 11,
    "start_time": "2022-05-13T11:39:27.791Z"
   },
   {
    "duration": 16,
    "start_time": "2022-05-13T11:39:27.803Z"
   },
   {
    "duration": 13,
    "start_time": "2022-05-13T11:39:27.820Z"
   },
   {
    "duration": 10,
    "start_time": "2022-05-13T11:39:27.834Z"
   },
   {
    "duration": 15,
    "start_time": "2022-05-13T11:39:27.845Z"
   },
   {
    "duration": 13,
    "start_time": "2022-05-13T11:39:27.861Z"
   },
   {
    "duration": 16,
    "start_time": "2022-05-13T11:39:27.877Z"
   },
   {
    "duration": 8,
    "start_time": "2022-05-13T11:39:27.907Z"
   },
   {
    "duration": 8,
    "start_time": "2022-05-13T11:39:27.917Z"
   },
   {
    "duration": 13,
    "start_time": "2022-05-13T11:39:27.927Z"
   },
   {
    "duration": 14,
    "start_time": "2022-05-13T11:39:27.941Z"
   },
   {
    "duration": 14,
    "start_time": "2022-05-13T11:39:27.957Z"
   },
   {
    "duration": 7,
    "start_time": "2022-05-13T11:39:27.973Z"
   },
   {
    "duration": 9,
    "start_time": "2022-05-13T11:39:27.982Z"
   },
   {
    "duration": 112,
    "start_time": "2022-05-13T11:39:27.992Z"
   },
   {
    "duration": 31,
    "start_time": "2022-05-13T11:39:28.106Z"
   },
   {
    "duration": 6,
    "start_time": "2022-05-13T11:39:28.138Z"
   },
   {
    "duration": 6,
    "start_time": "2022-05-13T11:39:28.146Z"
   },
   {
    "duration": 9,
    "start_time": "2022-05-13T11:39:28.158Z"
   },
   {
    "duration": 414,
    "start_time": "2022-05-13T11:44:05.173Z"
   },
   {
    "duration": 70,
    "start_time": "2022-05-13T11:44:05.589Z"
   },
   {
    "duration": 20,
    "start_time": "2022-05-13T11:44:05.661Z"
   },
   {
    "duration": 24,
    "start_time": "2022-05-13T11:44:05.684Z"
   },
   {
    "duration": 16,
    "start_time": "2022-05-13T11:44:05.709Z"
   },
   {
    "duration": 5,
    "start_time": "2022-05-13T11:44:05.727Z"
   },
   {
    "duration": 7,
    "start_time": "2022-05-13T11:44:05.733Z"
   },
   {
    "duration": 8,
    "start_time": "2022-05-13T11:44:05.741Z"
   },
   {
    "duration": 7,
    "start_time": "2022-05-13T11:44:05.751Z"
   },
   {
    "duration": 4,
    "start_time": "2022-05-13T11:44:05.761Z"
   },
   {
    "duration": 7,
    "start_time": "2022-05-13T11:44:05.767Z"
   },
   {
    "duration": 14,
    "start_time": "2022-05-13T11:44:05.775Z"
   },
   {
    "duration": 11,
    "start_time": "2022-05-13T11:44:05.790Z"
   },
   {
    "duration": 14,
    "start_time": "2022-05-13T11:44:05.813Z"
   },
   {
    "duration": 5,
    "start_time": "2022-05-13T11:44:05.829Z"
   },
   {
    "duration": 13,
    "start_time": "2022-05-13T11:44:05.836Z"
   },
   {
    "duration": 5,
    "start_time": "2022-05-13T11:44:05.850Z"
   },
   {
    "duration": 9,
    "start_time": "2022-05-13T11:44:05.856Z"
   },
   {
    "duration": 21,
    "start_time": "2022-05-13T11:44:05.867Z"
   },
   {
    "duration": 24,
    "start_time": "2022-05-13T11:44:05.889Z"
   },
   {
    "duration": 12,
    "start_time": "2022-05-13T11:44:05.915Z"
   },
   {
    "duration": 5,
    "start_time": "2022-05-13T11:44:05.928Z"
   },
   {
    "duration": 5,
    "start_time": "2022-05-13T11:44:05.934Z"
   },
   {
    "duration": 20,
    "start_time": "2022-05-13T11:44:05.941Z"
   },
   {
    "duration": 134,
    "start_time": "2022-05-13T11:44:05.963Z"
   },
   {
    "duration": 28,
    "start_time": "2022-05-13T11:44:06.099Z"
   },
   {
    "duration": 3,
    "start_time": "2022-05-13T11:44:06.129Z"
   },
   {
    "duration": 11,
    "start_time": "2022-05-13T11:44:06.136Z"
   },
   {
    "duration": 5,
    "start_time": "2022-05-13T11:44:06.149Z"
   },
   {
    "duration": 6,
    "start_time": "2022-05-13T11:44:06.156Z"
   },
   {
    "duration": 11,
    "start_time": "2022-05-13T11:44:06.164Z"
   },
   {
    "duration": 20,
    "start_time": "2022-05-13T11:44:06.176Z"
   },
   {
    "duration": 8,
    "start_time": "2022-05-13T11:44:06.197Z"
   },
   {
    "duration": 7,
    "start_time": "2022-05-13T11:44:06.206Z"
   },
   {
    "duration": 7,
    "start_time": "2022-05-13T11:44:06.214Z"
   },
   {
    "duration": 14,
    "start_time": "2022-05-13T11:44:06.222Z"
   },
   {
    "duration": 5,
    "start_time": "2022-05-13T11:44:06.238Z"
   },
   {
    "duration": 16,
    "start_time": "2022-05-13T11:44:06.245Z"
   },
   {
    "duration": 10,
    "start_time": "2022-05-13T11:44:06.263Z"
   },
   {
    "duration": 12,
    "start_time": "2022-05-13T11:44:06.275Z"
   },
   {
    "duration": 14,
    "start_time": "2022-05-13T11:44:06.289Z"
   },
   {
    "duration": 8,
    "start_time": "2022-05-13T11:44:06.305Z"
   },
   {
    "duration": 6,
    "start_time": "2022-05-13T11:44:06.316Z"
   },
   {
    "duration": 7,
    "start_time": "2022-05-13T11:44:06.325Z"
   },
   {
    "duration": 11,
    "start_time": "2022-05-13T11:44:06.334Z"
   },
   {
    "duration": 24,
    "start_time": "2022-05-13T11:44:06.346Z"
   },
   {
    "duration": 5,
    "start_time": "2022-05-13T11:44:06.372Z"
   },
   {
    "duration": 41,
    "start_time": "2022-05-13T11:44:06.378Z"
   },
   {
    "duration": 17,
    "start_time": "2022-05-13T11:44:06.422Z"
   },
   {
    "duration": 18,
    "start_time": "2022-05-13T11:44:06.440Z"
   },
   {
    "duration": 7,
    "start_time": "2022-05-13T11:44:06.459Z"
   },
   {
    "duration": 10,
    "start_time": "2022-05-13T11:44:06.467Z"
   },
   {
    "duration": 35,
    "start_time": "2022-05-13T11:44:06.478Z"
   },
   {
    "duration": 5,
    "start_time": "2022-05-13T11:44:06.515Z"
   },
   {
    "duration": 14,
    "start_time": "2022-05-13T11:44:06.522Z"
   },
   {
    "duration": 5,
    "start_time": "2022-05-13T11:44:06.537Z"
   },
   {
    "duration": 18,
    "start_time": "2022-05-13T11:44:06.544Z"
   },
   {
    "duration": 47,
    "start_time": "2022-05-13T11:44:06.564Z"
   },
   {
    "duration": 13,
    "start_time": "2022-05-13T11:44:06.613Z"
   },
   {
    "duration": 11,
    "start_time": "2022-05-13T11:44:06.628Z"
   },
   {
    "duration": 16,
    "start_time": "2022-05-13T11:44:06.640Z"
   },
   {
    "duration": 7,
    "start_time": "2022-05-13T11:44:06.658Z"
   },
   {
    "duration": 4,
    "start_time": "2022-05-13T11:44:06.667Z"
   },
   {
    "duration": 169,
    "start_time": "2022-05-13T11:44:06.672Z"
   },
   {
    "duration": 7,
    "start_time": "2022-05-13T11:44:06.842Z"
   },
   {
    "duration": 16,
    "start_time": "2022-05-13T11:44:06.850Z"
   },
   {
    "duration": 7,
    "start_time": "2022-05-13T11:44:06.867Z"
   },
   {
    "duration": 13,
    "start_time": "2022-05-13T11:44:06.875Z"
   },
   {
    "duration": 14,
    "start_time": "2022-05-13T11:44:06.889Z"
   },
   {
    "duration": 19,
    "start_time": "2022-05-13T11:44:06.905Z"
   },
   {
    "duration": 12,
    "start_time": "2022-05-13T11:44:06.926Z"
   },
   {
    "duration": 6,
    "start_time": "2022-05-13T11:44:06.939Z"
   },
   {
    "duration": 5,
    "start_time": "2022-05-13T11:44:06.947Z"
   },
   {
    "duration": 11,
    "start_time": "2022-05-13T11:44:06.953Z"
   },
   {
    "duration": 12,
    "start_time": "2022-05-13T11:44:06.965Z"
   },
   {
    "duration": 34,
    "start_time": "2022-05-13T11:44:06.978Z"
   },
   {
    "duration": 7,
    "start_time": "2022-05-13T11:44:07.014Z"
   },
   {
    "duration": 5,
    "start_time": "2022-05-13T11:44:07.022Z"
   },
   {
    "duration": 8,
    "start_time": "2022-05-13T11:44:07.029Z"
   },
   {
    "duration": 14,
    "start_time": "2022-05-13T11:44:07.038Z"
   },
   {
    "duration": 7,
    "start_time": "2022-05-13T11:44:07.054Z"
   },
   {
    "duration": 4,
    "start_time": "2022-05-13T11:44:07.066Z"
   },
   {
    "duration": 33,
    "start_time": "2022-05-13T11:44:07.071Z"
   },
   {
    "duration": 19,
    "start_time": "2022-05-13T11:47:58.839Z"
   },
   {
    "duration": 404,
    "start_time": "2022-05-13T11:50:33.814Z"
   },
   {
    "duration": 60,
    "start_time": "2022-05-13T11:50:34.221Z"
   },
   {
    "duration": 24,
    "start_time": "2022-05-13T11:50:34.283Z"
   },
   {
    "duration": 18,
    "start_time": "2022-05-13T11:50:34.308Z"
   },
   {
    "duration": 16,
    "start_time": "2022-05-13T11:50:34.328Z"
   },
   {
    "duration": 4,
    "start_time": "2022-05-13T11:50:34.346Z"
   },
   {
    "duration": 10,
    "start_time": "2022-05-13T11:50:34.352Z"
   },
   {
    "duration": 5,
    "start_time": "2022-05-13T11:50:34.363Z"
   },
   {
    "duration": 36,
    "start_time": "2022-05-13T11:50:34.370Z"
   },
   {
    "duration": 5,
    "start_time": "2022-05-13T11:50:34.408Z"
   },
   {
    "duration": 8,
    "start_time": "2022-05-13T11:50:34.414Z"
   },
   {
    "duration": 10,
    "start_time": "2022-05-13T11:50:34.424Z"
   },
   {
    "duration": 3,
    "start_time": "2022-05-13T11:50:34.435Z"
   },
   {
    "duration": 5,
    "start_time": "2022-05-13T11:50:34.442Z"
   },
   {
    "duration": 6,
    "start_time": "2022-05-13T11:50:34.449Z"
   },
   {
    "duration": 54,
    "start_time": "2022-05-13T11:50:34.457Z"
   },
   {
    "duration": 5,
    "start_time": "2022-05-13T11:50:34.512Z"
   },
   {
    "duration": 13,
    "start_time": "2022-05-13T11:50:34.519Z"
   },
   {
    "duration": 38,
    "start_time": "2022-05-13T11:50:34.534Z"
   },
   {
    "duration": 3,
    "start_time": "2022-05-13T11:50:34.574Z"
   },
   {
    "duration": 24,
    "start_time": "2022-05-13T11:50:34.579Z"
   },
   {
    "duration": 4,
    "start_time": "2022-05-13T11:50:34.608Z"
   },
   {
    "duration": 10,
    "start_time": "2022-05-13T11:50:34.614Z"
   },
   {
    "duration": 21,
    "start_time": "2022-05-13T11:50:34.625Z"
   },
   {
    "duration": 206,
    "start_time": "2022-05-13T11:50:34.648Z"
   },
   {
    "duration": 15,
    "start_time": "2022-05-13T11:50:34.855Z"
   },
   {
    "duration": 7,
    "start_time": "2022-05-13T11:50:34.872Z"
   },
   {
    "duration": 23,
    "start_time": "2022-05-13T11:50:34.880Z"
   },
   {
    "duration": 17,
    "start_time": "2022-05-13T11:50:34.904Z"
   },
   {
    "duration": 5,
    "start_time": "2022-05-13T11:50:34.923Z"
   },
   {
    "duration": 5,
    "start_time": "2022-05-13T11:50:34.930Z"
   },
   {
    "duration": 16,
    "start_time": "2022-05-13T11:50:34.936Z"
   },
   {
    "duration": 10,
    "start_time": "2022-05-13T11:50:34.954Z"
   },
   {
    "duration": 4,
    "start_time": "2022-05-13T11:50:34.966Z"
   },
   {
    "duration": 8,
    "start_time": "2022-05-13T11:50:34.972Z"
   },
   {
    "duration": 10,
    "start_time": "2022-05-13T11:50:34.982Z"
   },
   {
    "duration": 10,
    "start_time": "2022-05-13T11:50:34.993Z"
   },
   {
    "duration": 18,
    "start_time": "2022-05-13T11:50:35.005Z"
   },
   {
    "duration": 9,
    "start_time": "2022-05-13T11:50:35.024Z"
   },
   {
    "duration": 15,
    "start_time": "2022-05-13T11:50:35.035Z"
   },
   {
    "duration": 8,
    "start_time": "2022-05-13T11:50:35.054Z"
   },
   {
    "duration": 6,
    "start_time": "2022-05-13T11:50:35.064Z"
   },
   {
    "duration": 47,
    "start_time": "2022-05-13T11:50:35.071Z"
   },
   {
    "duration": 13,
    "start_time": "2022-05-13T11:50:35.120Z"
   },
   {
    "duration": 20,
    "start_time": "2022-05-13T11:50:35.135Z"
   },
   {
    "duration": 6,
    "start_time": "2022-05-13T11:50:35.157Z"
   },
   {
    "duration": 18,
    "start_time": "2022-05-13T11:50:35.164Z"
   },
   {
    "duration": 7,
    "start_time": "2022-05-13T11:50:35.183Z"
   },
   {
    "duration": 25,
    "start_time": "2022-05-13T11:50:35.192Z"
   },
   {
    "duration": 48,
    "start_time": "2022-05-13T11:50:35.218Z"
   },
   {
    "duration": 19,
    "start_time": "2022-05-13T11:50:35.268Z"
   },
   {
    "duration": 19,
    "start_time": "2022-05-13T11:50:35.289Z"
   },
   {
    "duration": 4,
    "start_time": "2022-05-13T11:50:35.310Z"
   },
   {
    "duration": 16,
    "start_time": "2022-05-13T11:50:35.315Z"
   },
   {
    "duration": 3,
    "start_time": "2022-05-13T11:50:35.332Z"
   },
   {
    "duration": 12,
    "start_time": "2022-05-13T11:50:35.337Z"
   },
   {
    "duration": 12,
    "start_time": "2022-05-13T11:50:35.350Z"
   },
   {
    "duration": 4,
    "start_time": "2022-05-13T11:50:35.364Z"
   },
   {
    "duration": 39,
    "start_time": "2022-05-13T11:50:35.370Z"
   },
   {
    "duration": 11,
    "start_time": "2022-05-13T11:50:35.413Z"
   },
   {
    "duration": 14,
    "start_time": "2022-05-13T11:50:35.426Z"
   },
   {
    "duration": 11,
    "start_time": "2022-05-13T11:50:35.441Z"
   },
   {
    "duration": 195,
    "start_time": "2022-05-13T11:50:35.453Z"
   },
   {
    "duration": 10,
    "start_time": "2022-05-13T11:50:35.649Z"
   },
   {
    "duration": 21,
    "start_time": "2022-05-13T11:50:35.661Z"
   },
   {
    "duration": 23,
    "start_time": "2022-05-13T11:50:35.683Z"
   },
   {
    "duration": 16,
    "start_time": "2022-05-13T11:50:35.708Z"
   },
   {
    "duration": 11,
    "start_time": "2022-05-13T11:50:35.725Z"
   },
   {
    "duration": 7,
    "start_time": "2022-05-13T11:50:35.737Z"
   },
   {
    "duration": 12,
    "start_time": "2022-05-13T11:50:35.745Z"
   },
   {
    "duration": 6,
    "start_time": "2022-05-13T11:50:35.758Z"
   },
   {
    "duration": 5,
    "start_time": "2022-05-13T11:50:35.766Z"
   },
   {
    "duration": 8,
    "start_time": "2022-05-13T11:50:35.773Z"
   },
   {
    "duration": 28,
    "start_time": "2022-05-13T11:50:35.783Z"
   },
   {
    "duration": 22,
    "start_time": "2022-05-13T11:50:35.813Z"
   },
   {
    "duration": 7,
    "start_time": "2022-05-13T11:50:35.837Z"
   },
   {
    "duration": 8,
    "start_time": "2022-05-13T11:50:35.846Z"
   },
   {
    "duration": 14,
    "start_time": "2022-05-13T11:50:35.856Z"
   },
   {
    "duration": 15,
    "start_time": "2022-05-13T11:50:35.871Z"
   },
   {
    "duration": 6,
    "start_time": "2022-05-13T11:50:35.887Z"
   },
   {
    "duration": 16,
    "start_time": "2022-05-13T11:50:35.894Z"
   },
   {
    "duration": 17,
    "start_time": "2022-05-13T11:50:35.911Z"
   },
   {
    "duration": 492,
    "start_time": "2022-05-13T11:50:56.455Z"
   },
   {
    "duration": 87,
    "start_time": "2022-05-13T11:50:56.949Z"
   },
   {
    "duration": 28,
    "start_time": "2022-05-13T11:50:57.038Z"
   },
   {
    "duration": 33,
    "start_time": "2022-05-13T11:50:57.069Z"
   },
   {
    "duration": 15,
    "start_time": "2022-05-13T11:50:57.108Z"
   },
   {
    "duration": 5,
    "start_time": "2022-05-13T11:50:57.125Z"
   },
   {
    "duration": 10,
    "start_time": "2022-05-13T11:50:57.132Z"
   },
   {
    "duration": 6,
    "start_time": "2022-05-13T11:50:57.144Z"
   },
   {
    "duration": 4,
    "start_time": "2022-05-13T11:50:57.151Z"
   },
   {
    "duration": 4,
    "start_time": "2022-05-13T11:50:57.158Z"
   },
   {
    "duration": 43,
    "start_time": "2022-05-13T11:50:57.163Z"
   },
   {
    "duration": 9,
    "start_time": "2022-05-13T11:50:57.209Z"
   },
   {
    "duration": 9,
    "start_time": "2022-05-13T11:50:57.220Z"
   },
   {
    "duration": 8,
    "start_time": "2022-05-13T11:50:57.231Z"
   },
   {
    "duration": 18,
    "start_time": "2022-05-13T11:50:57.240Z"
   },
   {
    "duration": 15,
    "start_time": "2022-05-13T11:50:57.260Z"
   },
   {
    "duration": 11,
    "start_time": "2022-05-13T11:50:57.277Z"
   },
   {
    "duration": 25,
    "start_time": "2022-05-13T11:50:57.289Z"
   },
   {
    "duration": 44,
    "start_time": "2022-05-13T11:50:57.316Z"
   },
   {
    "duration": 4,
    "start_time": "2022-05-13T11:50:57.362Z"
   },
   {
    "duration": 6,
    "start_time": "2022-05-13T11:50:57.368Z"
   },
   {
    "duration": 9,
    "start_time": "2022-05-13T11:50:57.376Z"
   },
   {
    "duration": 16,
    "start_time": "2022-05-13T11:50:57.387Z"
   },
   {
    "duration": 29,
    "start_time": "2022-05-13T11:50:57.405Z"
   },
   {
    "duration": 152,
    "start_time": "2022-05-13T11:50:57.436Z"
   },
   {
    "duration": 19,
    "start_time": "2022-05-13T11:50:57.589Z"
   },
   {
    "duration": 22,
    "start_time": "2022-05-13T11:50:57.609Z"
   },
   {
    "duration": 12,
    "start_time": "2022-05-13T11:50:57.635Z"
   },
   {
    "duration": 14,
    "start_time": "2022-05-13T11:50:57.649Z"
   },
   {
    "duration": 6,
    "start_time": "2022-05-13T11:50:57.665Z"
   },
   {
    "duration": 7,
    "start_time": "2022-05-13T11:50:57.673Z"
   },
   {
    "duration": 11,
    "start_time": "2022-05-13T11:50:57.682Z"
   },
   {
    "duration": 16,
    "start_time": "2022-05-13T11:50:57.694Z"
   },
   {
    "duration": 10,
    "start_time": "2022-05-13T11:50:57.712Z"
   },
   {
    "duration": 8,
    "start_time": "2022-05-13T11:50:57.724Z"
   },
   {
    "duration": 9,
    "start_time": "2022-05-13T11:50:57.734Z"
   },
   {
    "duration": 7,
    "start_time": "2022-05-13T11:50:57.745Z"
   },
   {
    "duration": 9,
    "start_time": "2022-05-13T11:50:57.754Z"
   },
   {
    "duration": 8,
    "start_time": "2022-05-13T11:50:57.765Z"
   },
   {
    "duration": 31,
    "start_time": "2022-05-13T11:50:57.775Z"
   },
   {
    "duration": 10,
    "start_time": "2022-05-13T11:50:57.811Z"
   },
   {
    "duration": 16,
    "start_time": "2022-05-13T11:50:57.823Z"
   },
   {
    "duration": 31,
    "start_time": "2022-05-13T11:50:57.841Z"
   },
   {
    "duration": 9,
    "start_time": "2022-05-13T11:50:57.874Z"
   },
   {
    "duration": 27,
    "start_time": "2022-05-13T11:50:57.903Z"
   },
   {
    "duration": 13,
    "start_time": "2022-05-13T11:50:57.931Z"
   },
   {
    "duration": 13,
    "start_time": "2022-05-13T11:50:57.946Z"
   },
   {
    "duration": 7,
    "start_time": "2022-05-13T11:50:57.960Z"
   },
   {
    "duration": 15,
    "start_time": "2022-05-13T11:50:57.969Z"
   },
   {
    "duration": 46,
    "start_time": "2022-05-13T11:50:57.985Z"
   },
   {
    "duration": 20,
    "start_time": "2022-05-13T11:50:58.033Z"
   },
   {
    "duration": 18,
    "start_time": "2022-05-13T11:50:58.055Z"
   },
   {
    "duration": 3,
    "start_time": "2022-05-13T11:50:58.075Z"
   },
   {
    "duration": 28,
    "start_time": "2022-05-13T11:50:58.080Z"
   },
   {
    "duration": 4,
    "start_time": "2022-05-13T11:50:58.110Z"
   },
   {
    "duration": 22,
    "start_time": "2022-05-13T11:50:58.116Z"
   },
   {
    "duration": 17,
    "start_time": "2022-05-13T11:50:58.139Z"
   },
   {
    "duration": 11,
    "start_time": "2022-05-13T11:50:58.158Z"
   },
   {
    "duration": 13,
    "start_time": "2022-05-13T11:50:58.171Z"
   },
   {
    "duration": 33,
    "start_time": "2022-05-13T11:50:58.186Z"
   },
   {
    "duration": 10,
    "start_time": "2022-05-13T11:50:58.221Z"
   },
   {
    "duration": 6,
    "start_time": "2022-05-13T11:50:58.232Z"
   },
   {
    "duration": 147,
    "start_time": "2022-05-13T11:50:58.239Z"
   },
   {
    "duration": 7,
    "start_time": "2022-05-13T11:50:58.388Z"
   },
   {
    "duration": 19,
    "start_time": "2022-05-13T11:50:58.400Z"
   },
   {
    "duration": 10,
    "start_time": "2022-05-13T11:50:58.420Z"
   },
   {
    "duration": 9,
    "start_time": "2022-05-13T11:50:58.431Z"
   },
   {
    "duration": 11,
    "start_time": "2022-05-13T11:50:58.442Z"
   },
   {
    "duration": 8,
    "start_time": "2022-05-13T11:50:58.455Z"
   },
   {
    "duration": 13,
    "start_time": "2022-05-13T11:50:58.464Z"
   },
   {
    "duration": 14,
    "start_time": "2022-05-13T11:50:58.478Z"
   },
   {
    "duration": 5,
    "start_time": "2022-05-13T11:50:58.509Z"
   },
   {
    "duration": 16,
    "start_time": "2022-05-13T11:50:58.515Z"
   },
   {
    "duration": 22,
    "start_time": "2022-05-13T11:50:58.532Z"
   },
   {
    "duration": 20,
    "start_time": "2022-05-13T11:50:58.555Z"
   },
   {
    "duration": 9,
    "start_time": "2022-05-13T11:50:58.577Z"
   },
   {
    "duration": 10,
    "start_time": "2022-05-13T11:50:58.587Z"
   },
   {
    "duration": 27,
    "start_time": "2022-05-13T11:50:58.599Z"
   },
   {
    "duration": 17,
    "start_time": "2022-05-13T11:50:58.628Z"
   },
   {
    "duration": 8,
    "start_time": "2022-05-13T11:50:58.646Z"
   },
   {
    "duration": 6,
    "start_time": "2022-05-13T11:50:58.656Z"
   },
   {
    "duration": 10,
    "start_time": "2022-05-13T11:50:58.667Z"
   },
   {
    "duration": 435,
    "start_time": "2022-05-13T11:51:56.500Z"
   },
   {
    "duration": 60,
    "start_time": "2022-05-13T11:51:56.937Z"
   },
   {
    "duration": 24,
    "start_time": "2022-05-13T11:51:56.998Z"
   },
   {
    "duration": 22,
    "start_time": "2022-05-13T11:51:57.024Z"
   },
   {
    "duration": 15,
    "start_time": "2022-05-13T11:51:57.048Z"
   },
   {
    "duration": 5,
    "start_time": "2022-05-13T11:51:57.065Z"
   },
   {
    "duration": 8,
    "start_time": "2022-05-13T11:51:57.102Z"
   },
   {
    "duration": 13,
    "start_time": "2022-05-13T11:51:57.111Z"
   },
   {
    "duration": 7,
    "start_time": "2022-05-13T11:51:57.125Z"
   },
   {
    "duration": 4,
    "start_time": "2022-05-13T11:51:57.135Z"
   },
   {
    "duration": 5,
    "start_time": "2022-05-13T11:51:57.141Z"
   },
   {
    "duration": 7,
    "start_time": "2022-05-13T11:51:57.148Z"
   },
   {
    "duration": 3,
    "start_time": "2022-05-13T11:51:57.157Z"
   },
   {
    "duration": 9,
    "start_time": "2022-05-13T11:51:57.162Z"
   },
   {
    "duration": 7,
    "start_time": "2022-05-13T11:51:57.204Z"
   },
   {
    "duration": 20,
    "start_time": "2022-05-13T11:51:57.212Z"
   },
   {
    "duration": 5,
    "start_time": "2022-05-13T11:51:57.234Z"
   },
   {
    "duration": 11,
    "start_time": "2022-05-13T11:51:57.240Z"
   },
   {
    "duration": 23,
    "start_time": "2022-05-13T11:51:57.252Z"
   },
   {
    "duration": 24,
    "start_time": "2022-05-13T11:51:57.276Z"
   },
   {
    "duration": 25,
    "start_time": "2022-05-13T11:51:57.301Z"
   },
   {
    "duration": 9,
    "start_time": "2022-05-13T11:51:57.328Z"
   },
   {
    "duration": 8,
    "start_time": "2022-05-13T11:51:57.339Z"
   },
   {
    "duration": 22,
    "start_time": "2022-05-13T11:51:57.348Z"
   },
   {
    "duration": 140,
    "start_time": "2022-05-13T11:51:57.372Z"
   },
   {
    "duration": 19,
    "start_time": "2022-05-13T11:51:57.514Z"
   },
   {
    "duration": 5,
    "start_time": "2022-05-13T11:51:57.535Z"
   },
   {
    "duration": 15,
    "start_time": "2022-05-13T11:51:57.547Z"
   },
   {
    "duration": 5,
    "start_time": "2022-05-13T11:51:57.563Z"
   },
   {
    "duration": 33,
    "start_time": "2022-05-13T11:51:57.569Z"
   },
   {
    "duration": 14,
    "start_time": "2022-05-13T11:51:57.609Z"
   },
   {
    "duration": 10,
    "start_time": "2022-05-13T11:51:57.625Z"
   },
   {
    "duration": 7,
    "start_time": "2022-05-13T11:51:57.637Z"
   },
   {
    "duration": 4,
    "start_time": "2022-05-13T11:51:57.645Z"
   },
   {
    "duration": 4,
    "start_time": "2022-05-13T11:51:57.651Z"
   },
   {
    "duration": 12,
    "start_time": "2022-05-13T11:51:57.657Z"
   },
   {
    "duration": 31,
    "start_time": "2022-05-13T11:51:57.671Z"
   },
   {
    "duration": 6,
    "start_time": "2022-05-13T11:51:57.704Z"
   },
   {
    "duration": 17,
    "start_time": "2022-05-13T11:51:57.712Z"
   },
   {
    "duration": 8,
    "start_time": "2022-05-13T11:51:57.730Z"
   },
   {
    "duration": 7,
    "start_time": "2022-05-13T11:51:57.739Z"
   },
   {
    "duration": 7,
    "start_time": "2022-05-13T11:51:57.748Z"
   },
   {
    "duration": 17,
    "start_time": "2022-05-13T11:51:57.756Z"
   },
   {
    "duration": 37,
    "start_time": "2022-05-13T11:51:57.774Z"
   },
   {
    "duration": 37,
    "start_time": "2022-05-13T11:51:57.815Z"
   },
   {
    "duration": 10,
    "start_time": "2022-05-13T11:51:57.855Z"
   },
   {
    "duration": 17,
    "start_time": "2022-05-13T11:51:57.867Z"
   },
   {
    "duration": 23,
    "start_time": "2022-05-13T11:51:57.886Z"
   },
   {
    "duration": 25,
    "start_time": "2022-05-13T11:51:57.911Z"
   },
   {
    "duration": 35,
    "start_time": "2022-05-13T11:51:57.938Z"
   },
   {
    "duration": 37,
    "start_time": "2022-05-13T11:51:57.976Z"
   },
   {
    "duration": 26,
    "start_time": "2022-05-13T11:51:58.015Z"
   },
   {
    "duration": 5,
    "start_time": "2022-05-13T11:51:58.043Z"
   },
   {
    "duration": 20,
    "start_time": "2022-05-13T11:51:58.050Z"
   },
   {
    "duration": 5,
    "start_time": "2022-05-13T11:51:58.072Z"
   },
   {
    "duration": 35,
    "start_time": "2022-05-13T11:51:58.079Z"
   },
   {
    "duration": 24,
    "start_time": "2022-05-13T11:51:58.116Z"
   },
   {
    "duration": 5,
    "start_time": "2022-05-13T11:51:58.142Z"
   },
   {
    "duration": 11,
    "start_time": "2022-05-13T11:51:58.149Z"
   },
   {
    "duration": 12,
    "start_time": "2022-05-13T11:51:58.162Z"
   },
   {
    "duration": 36,
    "start_time": "2022-05-13T11:51:58.176Z"
   },
   {
    "duration": 10,
    "start_time": "2022-05-13T11:51:58.214Z"
   },
   {
    "duration": 141,
    "start_time": "2022-05-13T11:51:58.225Z"
   },
   {
    "duration": 8,
    "start_time": "2022-05-13T11:51:58.367Z"
   },
   {
    "duration": 34,
    "start_time": "2022-05-13T11:51:58.377Z"
   },
   {
    "duration": 9,
    "start_time": "2022-05-13T11:51:58.413Z"
   },
   {
    "duration": 8,
    "start_time": "2022-05-13T11:51:58.423Z"
   },
   {
    "duration": 10,
    "start_time": "2022-05-13T11:51:58.433Z"
   },
   {
    "duration": 7,
    "start_time": "2022-05-13T11:51:58.444Z"
   },
   {
    "duration": 12,
    "start_time": "2022-05-13T11:51:58.453Z"
   },
   {
    "duration": 5,
    "start_time": "2022-05-13T11:51:58.467Z"
   },
   {
    "duration": 9,
    "start_time": "2022-05-13T11:51:58.500Z"
   },
   {
    "duration": 12,
    "start_time": "2022-05-13T11:51:58.510Z"
   },
   {
    "duration": 27,
    "start_time": "2022-05-13T11:51:58.526Z"
   },
   {
    "duration": 15,
    "start_time": "2022-05-13T11:51:58.555Z"
   },
   {
    "duration": 7,
    "start_time": "2022-05-13T11:51:58.571Z"
   },
   {
    "duration": 6,
    "start_time": "2022-05-13T11:51:58.579Z"
   },
   {
    "duration": 19,
    "start_time": "2022-05-13T11:51:58.586Z"
   },
   {
    "duration": 23,
    "start_time": "2022-05-13T11:51:58.607Z"
   },
   {
    "duration": 13,
    "start_time": "2022-05-13T11:51:58.632Z"
   },
   {
    "duration": 10,
    "start_time": "2022-05-13T11:51:58.647Z"
   },
   {
    "duration": 9,
    "start_time": "2022-05-13T11:51:58.663Z"
   },
   {
    "duration": 9,
    "start_time": "2022-05-13T11:53:15.228Z"
   },
   {
    "duration": 282,
    "start_time": "2022-05-13T11:53:32.418Z"
   },
   {
    "duration": 531,
    "start_time": "2022-05-13T11:54:39.968Z"
   },
   {
    "duration": 91,
    "start_time": "2022-05-13T11:54:40.501Z"
   },
   {
    "duration": 29,
    "start_time": "2022-05-13T11:54:40.594Z"
   },
   {
    "duration": 13,
    "start_time": "2022-05-13T11:54:40.625Z"
   },
   {
    "duration": 13,
    "start_time": "2022-05-13T11:54:40.640Z"
   },
   {
    "duration": 6,
    "start_time": "2022-05-13T11:54:40.655Z"
   },
   {
    "duration": 8,
    "start_time": "2022-05-13T11:54:40.662Z"
   },
   {
    "duration": 6,
    "start_time": "2022-05-13T11:54:40.672Z"
   },
   {
    "duration": 6,
    "start_time": "2022-05-13T11:54:40.700Z"
   },
   {
    "duration": 7,
    "start_time": "2022-05-13T11:54:40.710Z"
   },
   {
    "duration": 10,
    "start_time": "2022-05-13T11:54:40.721Z"
   },
   {
    "duration": 9,
    "start_time": "2022-05-13T11:54:40.732Z"
   },
   {
    "duration": 3,
    "start_time": "2022-05-13T11:54:40.743Z"
   },
   {
    "duration": 11,
    "start_time": "2022-05-13T11:54:40.748Z"
   },
   {
    "duration": 7,
    "start_time": "2022-05-13T11:54:40.761Z"
   },
   {
    "duration": 50,
    "start_time": "2022-05-13T11:54:40.770Z"
   },
   {
    "duration": 10,
    "start_time": "2022-05-13T11:54:40.822Z"
   },
   {
    "duration": 7,
    "start_time": "2022-05-13T11:54:40.834Z"
   },
   {
    "duration": 27,
    "start_time": "2022-05-13T11:54:40.842Z"
   },
   {
    "duration": 3,
    "start_time": "2022-05-13T11:54:40.871Z"
   },
   {
    "duration": 12,
    "start_time": "2022-05-13T11:54:40.876Z"
   },
   {
    "duration": 18,
    "start_time": "2022-05-13T11:54:40.890Z"
   },
   {
    "duration": 11,
    "start_time": "2022-05-13T11:54:40.911Z"
   },
   {
    "duration": 33,
    "start_time": "2022-05-13T11:54:40.924Z"
   },
   {
    "duration": 212,
    "start_time": "2022-05-13T11:54:40.959Z"
   },
   {
    "duration": 17,
    "start_time": "2022-05-13T11:54:41.173Z"
   },
   {
    "duration": 18,
    "start_time": "2022-05-13T11:54:41.192Z"
   },
   {
    "duration": 26,
    "start_time": "2022-05-13T11:54:41.217Z"
   },
   {
    "duration": 6,
    "start_time": "2022-05-13T11:54:41.245Z"
   },
   {
    "duration": 6,
    "start_time": "2022-05-13T11:54:41.252Z"
   },
   {
    "duration": 6,
    "start_time": "2022-05-13T11:54:41.259Z"
   },
   {
    "duration": 8,
    "start_time": "2022-05-13T11:54:41.266Z"
   },
   {
    "duration": 29,
    "start_time": "2022-05-13T11:54:41.275Z"
   },
   {
    "duration": 15,
    "start_time": "2022-05-13T11:54:41.310Z"
   },
   {
    "duration": 6,
    "start_time": "2022-05-13T11:54:41.327Z"
   },
   {
    "duration": 8,
    "start_time": "2022-05-13T11:54:41.335Z"
   },
   {
    "duration": 6,
    "start_time": "2022-05-13T11:54:41.345Z"
   },
   {
    "duration": 6,
    "start_time": "2022-05-13T11:54:41.353Z"
   },
   {
    "duration": 12,
    "start_time": "2022-05-13T11:54:41.360Z"
   },
   {
    "duration": 9,
    "start_time": "2022-05-13T11:54:41.374Z"
   },
   {
    "duration": 13,
    "start_time": "2022-05-13T11:54:41.401Z"
   },
   {
    "duration": 20,
    "start_time": "2022-05-13T11:54:41.415Z"
   },
   {
    "duration": 16,
    "start_time": "2022-05-13T11:54:41.437Z"
   },
   {
    "duration": 8,
    "start_time": "2022-05-13T11:54:41.455Z"
   },
   {
    "duration": 43,
    "start_time": "2022-05-13T11:54:41.465Z"
   },
   {
    "duration": 11,
    "start_time": "2022-05-13T11:54:41.510Z"
   },
   {
    "duration": 21,
    "start_time": "2022-05-13T11:54:41.522Z"
   },
   {
    "duration": 9,
    "start_time": "2022-05-13T11:54:41.545Z"
   },
   {
    "duration": 11,
    "start_time": "2022-05-13T11:54:41.556Z"
   },
   {
    "duration": 60,
    "start_time": "2022-05-13T11:54:41.569Z"
   },
   {
    "duration": 30,
    "start_time": "2022-05-13T11:54:41.631Z"
   },
   {
    "duration": 41,
    "start_time": "2022-05-13T11:54:41.664Z"
   },
   {
    "duration": 5,
    "start_time": "2022-05-13T11:54:41.707Z"
   },
   {
    "duration": 27,
    "start_time": "2022-05-13T11:54:41.714Z"
   },
   {
    "duration": 4,
    "start_time": "2022-05-13T11:54:41.742Z"
   },
   {
    "duration": 20,
    "start_time": "2022-05-13T11:54:41.748Z"
   },
   {
    "duration": 16,
    "start_time": "2022-05-13T11:54:41.770Z"
   },
   {
    "duration": 18,
    "start_time": "2022-05-13T11:54:41.788Z"
   },
   {
    "duration": 28,
    "start_time": "2022-05-13T11:54:41.809Z"
   },
   {
    "duration": 17,
    "start_time": "2022-05-13T11:54:41.840Z"
   },
   {
    "duration": 12,
    "start_time": "2022-05-13T11:54:41.858Z"
   },
   {
    "duration": 6,
    "start_time": "2022-05-13T11:54:41.871Z"
   },
   {
    "duration": 154,
    "start_time": "2022-05-13T11:54:41.879Z"
   },
   {
    "duration": 7,
    "start_time": "2022-05-13T11:54:42.034Z"
   },
   {
    "duration": 19,
    "start_time": "2022-05-13T11:54:42.042Z"
   },
   {
    "duration": 8,
    "start_time": "2022-05-13T11:54:42.062Z"
   },
   {
    "duration": 10,
    "start_time": "2022-05-13T11:54:42.071Z"
   },
   {
    "duration": 25,
    "start_time": "2022-05-13T11:54:42.083Z"
   },
   {
    "duration": 17,
    "start_time": "2022-05-13T11:54:42.110Z"
   },
   {
    "duration": 16,
    "start_time": "2022-05-13T11:54:42.128Z"
   },
   {
    "duration": 9,
    "start_time": "2022-05-13T11:54:42.145Z"
   },
   {
    "duration": 9,
    "start_time": "2022-05-13T11:54:42.156Z"
   },
   {
    "duration": 11,
    "start_time": "2022-05-13T11:54:42.167Z"
   },
   {
    "duration": 14,
    "start_time": "2022-05-13T11:54:42.179Z"
   },
   {
    "duration": 21,
    "start_time": "2022-05-13T11:54:42.209Z"
   },
   {
    "duration": 7,
    "start_time": "2022-05-13T11:54:42.231Z"
   },
   {
    "duration": 8,
    "start_time": "2022-05-13T11:54:42.240Z"
   },
   {
    "duration": 14,
    "start_time": "2022-05-13T11:54:42.251Z"
   },
   {
    "duration": 28,
    "start_time": "2022-05-13T11:54:42.267Z"
   },
   {
    "duration": 13,
    "start_time": "2022-05-13T11:54:42.297Z"
   },
   {
    "duration": 16,
    "start_time": "2022-05-13T11:54:42.312Z"
   },
   {
    "duration": 7,
    "start_time": "2022-05-13T11:54:42.333Z"
   },
   {
    "duration": 25,
    "start_time": "2022-05-13T11:57:00.552Z"
   },
   {
    "duration": 8,
    "start_time": "2022-05-13T11:57:11.228Z"
   },
   {
    "duration": 200,
    "start_time": "2022-05-13T12:02:40.124Z"
   },
   {
    "duration": 439,
    "start_time": "2022-05-13T12:13:07.025Z"
   },
   {
    "duration": 67,
    "start_time": "2022-05-13T12:13:07.466Z"
   },
   {
    "duration": 18,
    "start_time": "2022-05-13T12:13:07.535Z"
   },
   {
    "duration": 14,
    "start_time": "2022-05-13T12:13:07.555Z"
   },
   {
    "duration": 10,
    "start_time": "2022-05-13T12:13:07.571Z"
   },
   {
    "duration": 21,
    "start_time": "2022-05-13T12:13:07.582Z"
   },
   {
    "duration": 27,
    "start_time": "2022-05-13T12:13:07.605Z"
   },
   {
    "duration": 4,
    "start_time": "2022-05-13T12:13:07.634Z"
   },
   {
    "duration": 6,
    "start_time": "2022-05-13T12:13:07.639Z"
   },
   {
    "duration": 5,
    "start_time": "2022-05-13T12:13:07.648Z"
   },
   {
    "duration": 5,
    "start_time": "2022-05-13T12:13:07.654Z"
   },
   {
    "duration": 7,
    "start_time": "2022-05-13T12:13:07.661Z"
   },
   {
    "duration": 3,
    "start_time": "2022-05-13T12:13:07.669Z"
   },
   {
    "duration": 8,
    "start_time": "2022-05-13T12:13:07.674Z"
   },
   {
    "duration": 10,
    "start_time": "2022-05-13T12:13:07.702Z"
   },
   {
    "duration": 24,
    "start_time": "2022-05-13T12:13:07.714Z"
   },
   {
    "duration": 4,
    "start_time": "2022-05-13T12:13:07.740Z"
   },
   {
    "duration": 12,
    "start_time": "2022-05-13T12:13:07.746Z"
   },
   {
    "duration": 51,
    "start_time": "2022-05-13T12:13:07.760Z"
   },
   {
    "duration": 5,
    "start_time": "2022-05-13T12:13:07.813Z"
   },
   {
    "duration": 12,
    "start_time": "2022-05-13T12:13:07.820Z"
   },
   {
    "duration": 5,
    "start_time": "2022-05-13T12:13:07.834Z"
   },
   {
    "duration": 14,
    "start_time": "2022-05-13T12:13:07.842Z"
   },
   {
    "duration": 46,
    "start_time": "2022-05-13T12:13:07.859Z"
   },
   {
    "duration": 140,
    "start_time": "2022-05-13T12:13:07.907Z"
   },
   {
    "duration": 12,
    "start_time": "2022-05-13T12:13:08.049Z"
   },
   {
    "duration": 6,
    "start_time": "2022-05-13T12:13:08.063Z"
   },
   {
    "duration": 27,
    "start_time": "2022-05-13T12:13:08.074Z"
   },
   {
    "duration": 8,
    "start_time": "2022-05-13T12:13:08.108Z"
   },
   {
    "duration": 12,
    "start_time": "2022-05-13T12:13:08.118Z"
   },
   {
    "duration": 5,
    "start_time": "2022-05-13T12:13:08.132Z"
   },
   {
    "duration": 7,
    "start_time": "2022-05-13T12:13:08.139Z"
   },
   {
    "duration": 9,
    "start_time": "2022-05-13T12:13:08.148Z"
   },
   {
    "duration": 4,
    "start_time": "2022-05-13T12:13:08.159Z"
   },
   {
    "duration": 6,
    "start_time": "2022-05-13T12:13:08.165Z"
   },
   {
    "duration": 38,
    "start_time": "2022-05-13T12:13:08.173Z"
   },
   {
    "duration": 8,
    "start_time": "2022-05-13T12:13:08.212Z"
   },
   {
    "duration": 7,
    "start_time": "2022-05-13T12:13:08.221Z"
   },
   {
    "duration": 8,
    "start_time": "2022-05-13T12:13:08.229Z"
   },
   {
    "duration": 9,
    "start_time": "2022-05-13T12:13:08.239Z"
   },
   {
    "duration": 12,
    "start_time": "2022-05-13T12:13:08.250Z"
   },
   {
    "duration": 6,
    "start_time": "2022-05-13T12:13:08.263Z"
   },
   {
    "duration": 48,
    "start_time": "2022-05-13T12:13:08.271Z"
   },
   {
    "duration": 10,
    "start_time": "2022-05-13T12:13:08.321Z"
   },
   {
    "duration": 21,
    "start_time": "2022-05-13T12:13:08.333Z"
   },
   {
    "duration": 6,
    "start_time": "2022-05-13T12:13:08.355Z"
   },
   {
    "duration": 13,
    "start_time": "2022-05-13T12:13:08.363Z"
   },
   {
    "duration": 26,
    "start_time": "2022-05-13T12:13:08.377Z"
   },
   {
    "duration": 8,
    "start_time": "2022-05-13T12:13:08.406Z"
   },
   {
    "duration": 29,
    "start_time": "2022-05-13T12:13:08.415Z"
   },
   {
    "duration": 19,
    "start_time": "2022-05-13T12:13:08.445Z"
   },
   {
    "duration": 42,
    "start_time": "2022-05-13T12:13:08.466Z"
   },
   {
    "duration": 5,
    "start_time": "2022-05-13T12:13:08.512Z"
   },
   {
    "duration": 10,
    "start_time": "2022-05-13T12:13:08.519Z"
   },
   {
    "duration": 4,
    "start_time": "2022-05-13T12:13:08.531Z"
   },
   {
    "duration": 14,
    "start_time": "2022-05-13T12:13:08.536Z"
   },
   {
    "duration": 14,
    "start_time": "2022-05-13T12:13:08.552Z"
   },
   {
    "duration": 4,
    "start_time": "2022-05-13T12:13:08.567Z"
   },
   {
    "duration": 40,
    "start_time": "2022-05-13T12:13:08.573Z"
   },
   {
    "duration": 25,
    "start_time": "2022-05-13T12:13:08.615Z"
   },
   {
    "duration": 10,
    "start_time": "2022-05-13T12:13:08.642Z"
   },
   {
    "duration": 3,
    "start_time": "2022-05-13T12:13:08.654Z"
   },
   {
    "duration": 244,
    "start_time": "2022-05-13T12:13:08.660Z"
   },
   {
    "duration": 10,
    "start_time": "2022-05-13T12:13:08.908Z"
   },
   {
    "duration": 17,
    "start_time": "2022-05-13T12:13:08.920Z"
   },
   {
    "duration": 8,
    "start_time": "2022-05-13T12:13:08.939Z"
   },
   {
    "duration": 9,
    "start_time": "2022-05-13T12:13:08.948Z"
   },
   {
    "duration": 12,
    "start_time": "2022-05-13T12:13:08.958Z"
   },
   {
    "duration": 36,
    "start_time": "2022-05-13T12:13:08.972Z"
   },
   {
    "duration": 8,
    "start_time": "2022-05-13T12:13:09.010Z"
   },
   {
    "duration": 12,
    "start_time": "2022-05-13T12:13:09.020Z"
   },
   {
    "duration": 20,
    "start_time": "2022-05-13T12:13:09.035Z"
   },
   {
    "duration": 8,
    "start_time": "2022-05-13T12:13:09.057Z"
   },
   {
    "duration": 8,
    "start_time": "2022-05-13T12:13:09.067Z"
   },
   {
    "duration": 29,
    "start_time": "2022-05-13T12:13:09.077Z"
   },
   {
    "duration": 19,
    "start_time": "2022-05-13T12:13:09.108Z"
   },
   {
    "duration": 14,
    "start_time": "2022-05-13T12:13:09.128Z"
   },
   {
    "duration": 6,
    "start_time": "2022-05-13T12:13:09.143Z"
   },
   {
    "duration": 5,
    "start_time": "2022-05-13T12:13:09.150Z"
   },
   {
    "duration": 9,
    "start_time": "2022-05-13T12:13:09.157Z"
   },
   {
    "duration": 14,
    "start_time": "2022-05-13T12:13:09.167Z"
   },
   {
    "duration": 11,
    "start_time": "2022-05-13T12:13:09.202Z"
   },
   {
    "duration": 15,
    "start_time": "2022-05-13T12:13:09.215Z"
   },
   {
    "duration": 11,
    "start_time": "2022-05-13T12:13:09.231Z"
   },
   {
    "duration": 454,
    "start_time": "2022-05-13T12:15:16.677Z"
   },
   {
    "duration": 61,
    "start_time": "2022-05-13T12:15:17.133Z"
   },
   {
    "duration": 24,
    "start_time": "2022-05-13T12:15:17.195Z"
   },
   {
    "duration": 19,
    "start_time": "2022-05-13T12:15:17.221Z"
   },
   {
    "duration": 10,
    "start_time": "2022-05-13T12:15:17.242Z"
   },
   {
    "duration": 14,
    "start_time": "2022-05-13T12:15:17.253Z"
   },
   {
    "duration": 14,
    "start_time": "2022-05-13T12:15:17.269Z"
   },
   {
    "duration": 15,
    "start_time": "2022-05-13T12:15:17.285Z"
   },
   {
    "duration": 18,
    "start_time": "2022-05-13T12:15:17.302Z"
   },
   {
    "duration": 10,
    "start_time": "2022-05-13T12:15:17.323Z"
   },
   {
    "duration": 10,
    "start_time": "2022-05-13T12:15:17.334Z"
   },
   {
    "duration": 17,
    "start_time": "2022-05-13T12:15:17.346Z"
   },
   {
    "duration": 21,
    "start_time": "2022-05-13T12:15:17.364Z"
   },
   {
    "duration": 9,
    "start_time": "2022-05-13T12:15:17.386Z"
   },
   {
    "duration": 20,
    "start_time": "2022-05-13T12:15:17.397Z"
   },
   {
    "duration": 17,
    "start_time": "2022-05-13T12:15:17.418Z"
   },
   {
    "duration": 8,
    "start_time": "2022-05-13T12:15:17.436Z"
   },
   {
    "duration": 8,
    "start_time": "2022-05-13T12:15:17.446Z"
   },
   {
    "duration": 26,
    "start_time": "2022-05-13T12:15:17.455Z"
   },
   {
    "duration": 8,
    "start_time": "2022-05-13T12:15:17.484Z"
   },
   {
    "duration": 9,
    "start_time": "2022-05-13T12:15:17.495Z"
   },
   {
    "duration": 10,
    "start_time": "2022-05-13T12:15:17.512Z"
   },
   {
    "duration": 6,
    "start_time": "2022-05-13T12:15:17.524Z"
   },
   {
    "duration": 39,
    "start_time": "2022-05-13T12:15:17.531Z"
   },
   {
    "duration": 177,
    "start_time": "2022-05-13T12:15:17.573Z"
   },
   {
    "duration": 19,
    "start_time": "2022-05-13T12:15:17.752Z"
   },
   {
    "duration": 10,
    "start_time": "2022-05-13T12:15:17.773Z"
   },
   {
    "duration": 19,
    "start_time": "2022-05-13T12:15:17.790Z"
   },
   {
    "duration": 9,
    "start_time": "2022-05-13T12:15:17.811Z"
   },
   {
    "duration": 4,
    "start_time": "2022-05-13T12:15:17.822Z"
   },
   {
    "duration": 5,
    "start_time": "2022-05-13T12:15:17.827Z"
   },
   {
    "duration": 6,
    "start_time": "2022-05-13T12:15:17.833Z"
   },
   {
    "duration": 6,
    "start_time": "2022-05-13T12:15:17.840Z"
   },
   {
    "duration": 5,
    "start_time": "2022-05-13T12:15:17.848Z"
   },
   {
    "duration": 8,
    "start_time": "2022-05-13T12:15:17.855Z"
   },
   {
    "duration": 47,
    "start_time": "2022-05-13T12:15:17.864Z"
   },
   {
    "duration": 14,
    "start_time": "2022-05-13T12:15:17.912Z"
   },
   {
    "duration": 12,
    "start_time": "2022-05-13T12:15:17.928Z"
   },
   {
    "duration": 13,
    "start_time": "2022-05-13T12:15:17.941Z"
   },
   {
    "duration": 11,
    "start_time": "2022-05-13T12:15:17.955Z"
   },
   {
    "duration": 17,
    "start_time": "2022-05-13T12:15:17.967Z"
   },
   {
    "duration": 11,
    "start_time": "2022-05-13T12:15:17.986Z"
   },
   {
    "duration": 34,
    "start_time": "2022-05-13T12:15:17.998Z"
   },
   {
    "duration": 12,
    "start_time": "2022-05-13T12:15:18.034Z"
   },
   {
    "duration": 20,
    "start_time": "2022-05-13T12:15:18.047Z"
   },
   {
    "duration": 16,
    "start_time": "2022-05-13T12:15:18.069Z"
   },
   {
    "duration": 16,
    "start_time": "2022-05-13T12:15:18.087Z"
   },
   {
    "duration": 16,
    "start_time": "2022-05-13T12:15:18.104Z"
   },
   {
    "duration": 13,
    "start_time": "2022-05-13T12:15:18.122Z"
   },
   {
    "duration": 30,
    "start_time": "2022-05-13T12:15:18.136Z"
   },
   {
    "duration": 20,
    "start_time": "2022-05-13T12:15:18.168Z"
   },
   {
    "duration": 33,
    "start_time": "2022-05-13T12:15:18.189Z"
   },
   {
    "duration": 4,
    "start_time": "2022-05-13T12:15:18.223Z"
   },
   {
    "duration": 26,
    "start_time": "2022-05-13T12:15:18.228Z"
   },
   {
    "duration": 4,
    "start_time": "2022-05-13T12:15:18.255Z"
   },
   {
    "duration": 15,
    "start_time": "2022-05-13T12:15:18.261Z"
   },
   {
    "duration": 16,
    "start_time": "2022-05-13T12:15:18.277Z"
   },
   {
    "duration": 15,
    "start_time": "2022-05-13T12:15:18.294Z"
   },
   {
    "duration": 27,
    "start_time": "2022-05-13T12:15:18.310Z"
   },
   {
    "duration": 16,
    "start_time": "2022-05-13T12:15:18.339Z"
   },
   {
    "duration": 9,
    "start_time": "2022-05-13T12:15:18.357Z"
   },
   {
    "duration": 7,
    "start_time": "2022-05-13T12:15:18.368Z"
   },
   {
    "duration": 139,
    "start_time": "2022-05-13T12:15:18.377Z"
   },
   {
    "duration": 7,
    "start_time": "2022-05-13T12:15:18.518Z"
   },
   {
    "duration": 69,
    "start_time": "2022-05-13T12:15:18.526Z"
   },
   {
    "duration": 8,
    "start_time": "2022-05-13T12:15:18.597Z"
   },
   {
    "duration": 15,
    "start_time": "2022-05-13T12:15:18.607Z"
   },
   {
    "duration": 12,
    "start_time": "2022-05-13T12:15:18.624Z"
   },
   {
    "duration": 23,
    "start_time": "2022-05-13T12:15:18.637Z"
   },
   {
    "duration": 7,
    "start_time": "2022-05-13T12:15:18.661Z"
   },
   {
    "duration": 10,
    "start_time": "2022-05-13T12:15:18.670Z"
   },
   {
    "duration": 22,
    "start_time": "2022-05-13T12:15:18.682Z"
   },
   {
    "duration": 8,
    "start_time": "2022-05-13T12:15:18.709Z"
   },
   {
    "duration": 5,
    "start_time": "2022-05-13T12:15:18.718Z"
   },
   {
    "duration": 7,
    "start_time": "2022-05-13T12:15:18.725Z"
   },
   {
    "duration": 11,
    "start_time": "2022-05-13T12:15:18.734Z"
   },
   {
    "duration": 23,
    "start_time": "2022-05-13T12:15:18.747Z"
   },
   {
    "duration": 8,
    "start_time": "2022-05-13T12:15:18.772Z"
   },
   {
    "duration": 6,
    "start_time": "2022-05-13T12:15:18.800Z"
   },
   {
    "duration": 17,
    "start_time": "2022-05-13T12:15:18.808Z"
   },
   {
    "duration": 22,
    "start_time": "2022-05-13T12:15:18.826Z"
   },
   {
    "duration": 8,
    "start_time": "2022-05-13T12:15:18.856Z"
   },
   {
    "duration": 54,
    "start_time": "2022-05-13T12:15:18.866Z"
   },
   {
    "duration": 10,
    "start_time": "2022-05-13T12:15:18.923Z"
   },
   {
    "duration": 11,
    "start_time": "2022-05-13T12:17:00.489Z"
   },
   {
    "duration": 529,
    "start_time": "2022-05-13T12:20:32.031Z"
   },
   {
    "duration": 98,
    "start_time": "2022-05-13T12:20:32.563Z"
   },
   {
    "duration": 30,
    "start_time": "2022-05-13T12:20:32.663Z"
   },
   {
    "duration": 23,
    "start_time": "2022-05-13T12:20:32.702Z"
   },
   {
    "duration": 10,
    "start_time": "2022-05-13T12:20:32.727Z"
   },
   {
    "duration": 8,
    "start_time": "2022-05-13T12:20:32.738Z"
   },
   {
    "duration": 7,
    "start_time": "2022-05-13T12:20:32.747Z"
   },
   {
    "duration": 5,
    "start_time": "2022-05-13T12:20:32.756Z"
   },
   {
    "duration": 4,
    "start_time": "2022-05-13T12:20:32.763Z"
   },
   {
    "duration": 8,
    "start_time": "2022-05-13T12:20:32.800Z"
   },
   {
    "duration": 18,
    "start_time": "2022-05-13T12:20:32.809Z"
   },
   {
    "duration": 9,
    "start_time": "2022-05-13T12:20:32.829Z"
   },
   {
    "duration": 4,
    "start_time": "2022-05-13T12:20:32.840Z"
   },
   {
    "duration": 10,
    "start_time": "2022-05-13T12:20:32.846Z"
   },
   {
    "duration": 7,
    "start_time": "2022-05-13T12:20:32.858Z"
   },
   {
    "duration": 46,
    "start_time": "2022-05-13T12:20:32.867Z"
   },
   {
    "duration": 7,
    "start_time": "2022-05-13T12:20:32.915Z"
   },
   {
    "duration": 9,
    "start_time": "2022-05-13T12:20:32.924Z"
   },
   {
    "duration": 38,
    "start_time": "2022-05-13T12:20:32.935Z"
   },
   {
    "duration": 4,
    "start_time": "2022-05-13T12:20:32.975Z"
   },
   {
    "duration": 7,
    "start_time": "2022-05-13T12:20:33.004Z"
   },
   {
    "duration": 9,
    "start_time": "2022-05-13T12:20:33.013Z"
   },
   {
    "duration": 7,
    "start_time": "2022-05-13T12:20:33.024Z"
   },
   {
    "duration": 23,
    "start_time": "2022-05-13T12:20:33.033Z"
   },
   {
    "duration": 155,
    "start_time": "2022-05-13T12:20:33.057Z"
   },
   {
    "duration": 14,
    "start_time": "2022-05-13T12:20:33.214Z"
   },
   {
    "duration": 24,
    "start_time": "2022-05-13T12:20:33.230Z"
   },
   {
    "duration": 15,
    "start_time": "2022-05-13T12:20:33.259Z"
   },
   {
    "duration": 6,
    "start_time": "2022-05-13T12:20:33.276Z"
   },
   {
    "duration": 7,
    "start_time": "2022-05-13T12:20:33.283Z"
   },
   {
    "duration": 31,
    "start_time": "2022-05-13T12:20:33.291Z"
   },
   {
    "duration": 8,
    "start_time": "2022-05-13T12:20:33.324Z"
   },
   {
    "duration": 8,
    "start_time": "2022-05-13T12:20:33.334Z"
   },
   {
    "duration": 4,
    "start_time": "2022-05-13T12:20:33.343Z"
   },
   {
    "duration": 5,
    "start_time": "2022-05-13T12:20:33.349Z"
   },
   {
    "duration": 8,
    "start_time": "2022-05-13T12:20:33.355Z"
   },
   {
    "duration": 6,
    "start_time": "2022-05-13T12:20:33.364Z"
   },
   {
    "duration": 6,
    "start_time": "2022-05-13T12:20:33.371Z"
   },
   {
    "duration": 30,
    "start_time": "2022-05-13T12:20:33.378Z"
   },
   {
    "duration": 8,
    "start_time": "2022-05-13T12:20:33.410Z"
   },
   {
    "duration": 11,
    "start_time": "2022-05-13T12:20:33.419Z"
   },
   {
    "duration": 6,
    "start_time": "2022-05-13T12:20:33.431Z"
   },
   {
    "duration": 17,
    "start_time": "2022-05-13T12:20:33.439Z"
   },
   {
    "duration": 7,
    "start_time": "2022-05-13T12:20:33.457Z"
   },
   {
    "duration": 53,
    "start_time": "2022-05-13T12:20:33.466Z"
   },
   {
    "duration": 8,
    "start_time": "2022-05-13T12:20:33.521Z"
   },
   {
    "duration": 19,
    "start_time": "2022-05-13T12:20:33.530Z"
   },
   {
    "duration": 13,
    "start_time": "2022-05-13T12:20:33.550Z"
   },
   {
    "duration": 12,
    "start_time": "2022-05-13T12:20:33.565Z"
   },
   {
    "duration": 47,
    "start_time": "2022-05-13T12:20:33.579Z"
   },
   {
    "duration": 19,
    "start_time": "2022-05-13T12:20:33.628Z"
   },
   {
    "duration": 17,
    "start_time": "2022-05-13T12:20:33.648Z"
   },
   {
    "duration": 4,
    "start_time": "2022-05-13T12:20:33.666Z"
   },
   {
    "duration": 36,
    "start_time": "2022-05-13T12:20:33.671Z"
   },
   {
    "duration": 6,
    "start_time": "2022-05-13T12:20:33.709Z"
   },
   {
    "duration": 13,
    "start_time": "2022-05-13T12:20:33.717Z"
   },
   {
    "duration": 11,
    "start_time": "2022-05-13T12:20:33.732Z"
   },
   {
    "duration": 5,
    "start_time": "2022-05-13T12:20:33.745Z"
   },
   {
    "duration": 13,
    "start_time": "2022-05-13T12:20:33.751Z"
   },
   {
    "duration": 43,
    "start_time": "2022-05-13T12:20:33.765Z"
   },
   {
    "duration": 15,
    "start_time": "2022-05-13T12:20:33.810Z"
   },
   {
    "duration": 5,
    "start_time": "2022-05-13T12:20:33.826Z"
   },
   {
    "duration": 132,
    "start_time": "2022-05-13T12:20:33.832Z"
   },
   {
    "duration": 7,
    "start_time": "2022-05-13T12:20:33.966Z"
   },
   {
    "duration": 26,
    "start_time": "2022-05-13T12:20:33.974Z"
   },
   {
    "duration": 8,
    "start_time": "2022-05-13T12:20:34.002Z"
   },
   {
    "duration": 12,
    "start_time": "2022-05-13T12:20:34.012Z"
   },
   {
    "duration": 17,
    "start_time": "2022-05-13T12:20:34.026Z"
   },
   {
    "duration": 19,
    "start_time": "2022-05-13T12:20:34.045Z"
   },
   {
    "duration": 7,
    "start_time": "2022-05-13T12:20:34.065Z"
   },
   {
    "duration": 8,
    "start_time": "2022-05-13T12:20:34.073Z"
   },
   {
    "duration": 31,
    "start_time": "2022-05-13T12:20:34.082Z"
   },
   {
    "duration": 11,
    "start_time": "2022-05-13T12:20:34.115Z"
   },
   {
    "duration": 6,
    "start_time": "2022-05-13T12:20:34.128Z"
   },
   {
    "duration": 8,
    "start_time": "2022-05-13T12:20:34.136Z"
   },
   {
    "duration": 12,
    "start_time": "2022-05-13T12:20:34.146Z"
   },
   {
    "duration": 40,
    "start_time": "2022-05-13T12:20:34.160Z"
   },
   {
    "duration": 9,
    "start_time": "2022-05-13T12:20:34.202Z"
   },
   {
    "duration": 14,
    "start_time": "2022-05-13T12:20:34.213Z"
   },
   {
    "duration": 10,
    "start_time": "2022-05-13T12:20:34.229Z"
   },
   {
    "duration": 14,
    "start_time": "2022-05-13T12:20:34.241Z"
   },
   {
    "duration": 6,
    "start_time": "2022-05-13T12:20:34.260Z"
   },
   {
    "duration": 8,
    "start_time": "2022-05-13T12:20:34.268Z"
   },
   {
    "duration": 34,
    "start_time": "2022-05-13T12:20:34.277Z"
   },
   {
    "duration": 442,
    "start_time": "2022-05-13T12:32:50.181Z"
   },
   {
    "duration": 62,
    "start_time": "2022-05-13T12:32:50.625Z"
   },
   {
    "duration": 35,
    "start_time": "2022-05-13T12:32:50.689Z"
   },
   {
    "duration": 18,
    "start_time": "2022-05-13T12:32:50.727Z"
   },
   {
    "duration": 11,
    "start_time": "2022-05-13T12:32:50.747Z"
   },
   {
    "duration": 5,
    "start_time": "2022-05-13T12:32:50.760Z"
   },
   {
    "duration": 41,
    "start_time": "2022-05-13T12:32:50.767Z"
   },
   {
    "duration": 12,
    "start_time": "2022-05-13T12:32:50.813Z"
   },
   {
    "duration": 6,
    "start_time": "2022-05-13T12:32:50.826Z"
   },
   {
    "duration": 4,
    "start_time": "2022-05-13T12:32:50.835Z"
   },
   {
    "duration": 8,
    "start_time": "2022-05-13T12:32:50.841Z"
   },
   {
    "duration": 13,
    "start_time": "2022-05-13T12:32:50.850Z"
   },
   {
    "duration": 6,
    "start_time": "2022-05-13T12:32:50.865Z"
   },
   {
    "duration": 38,
    "start_time": "2022-05-13T12:32:50.873Z"
   },
   {
    "duration": 6,
    "start_time": "2022-05-13T12:32:50.913Z"
   },
   {
    "duration": 18,
    "start_time": "2022-05-13T12:32:50.921Z"
   },
   {
    "duration": 5,
    "start_time": "2022-05-13T12:32:50.941Z"
   },
   {
    "duration": 6,
    "start_time": "2022-05-13T12:32:50.948Z"
   },
   {
    "duration": 23,
    "start_time": "2022-05-13T12:32:50.956Z"
   },
   {
    "duration": 9,
    "start_time": "2022-05-13T12:32:51.003Z"
   },
   {
    "duration": 12,
    "start_time": "2022-05-13T12:32:51.014Z"
   },
   {
    "duration": 6,
    "start_time": "2022-05-13T12:32:51.027Z"
   },
   {
    "duration": 5,
    "start_time": "2022-05-13T12:32:51.034Z"
   },
   {
    "duration": 23,
    "start_time": "2022-05-13T12:32:51.040Z"
   },
   {
    "duration": 167,
    "start_time": "2022-05-13T12:32:51.064Z"
   },
   {
    "duration": 13,
    "start_time": "2022-05-13T12:32:51.233Z"
   },
   {
    "duration": 7,
    "start_time": "2022-05-13T12:32:51.248Z"
   },
   {
    "duration": 15,
    "start_time": "2022-05-13T12:32:51.259Z"
   },
   {
    "duration": 26,
    "start_time": "2022-05-13T12:32:51.275Z"
   },
   {
    "duration": 7,
    "start_time": "2022-05-13T12:32:51.303Z"
   },
   {
    "duration": 17,
    "start_time": "2022-05-13T12:32:51.311Z"
   },
   {
    "duration": 8,
    "start_time": "2022-05-13T12:32:51.330Z"
   },
   {
    "duration": 9,
    "start_time": "2022-05-13T12:32:51.340Z"
   },
   {
    "duration": 6,
    "start_time": "2022-05-13T12:32:51.350Z"
   },
   {
    "duration": 9,
    "start_time": "2022-05-13T12:32:51.357Z"
   },
   {
    "duration": 8,
    "start_time": "2022-05-13T12:32:51.368Z"
   },
   {
    "duration": 13,
    "start_time": "2022-05-13T12:32:51.378Z"
   },
   {
    "duration": 13,
    "start_time": "2022-05-13T12:32:51.400Z"
   },
   {
    "duration": 5,
    "start_time": "2022-05-13T12:32:51.415Z"
   },
   {
    "duration": 7,
    "start_time": "2022-05-13T12:32:51.422Z"
   },
   {
    "duration": 7,
    "start_time": "2022-05-13T12:32:51.431Z"
   },
   {
    "duration": 6,
    "start_time": "2022-05-13T12:32:51.440Z"
   },
   {
    "duration": 19,
    "start_time": "2022-05-13T12:32:51.448Z"
   },
   {
    "duration": 46,
    "start_time": "2022-05-13T12:32:51.468Z"
   },
   {
    "duration": 22,
    "start_time": "2022-05-13T12:32:51.516Z"
   },
   {
    "duration": 7,
    "start_time": "2022-05-13T12:32:51.540Z"
   },
   {
    "duration": 20,
    "start_time": "2022-05-13T12:32:51.548Z"
   },
   {
    "duration": 11,
    "start_time": "2022-05-13T12:32:51.570Z"
   },
   {
    "duration": 38,
    "start_time": "2022-05-13T12:32:51.583Z"
   },
   {
    "duration": 27,
    "start_time": "2022-05-13T12:32:51.624Z"
   },
   {
    "duration": 21,
    "start_time": "2022-05-13T12:32:51.653Z"
   },
   {
    "duration": 27,
    "start_time": "2022-05-13T12:32:51.676Z"
   },
   {
    "duration": 5,
    "start_time": "2022-05-13T12:32:51.704Z"
   },
   {
    "duration": 26,
    "start_time": "2022-05-13T12:32:51.711Z"
   },
   {
    "duration": 4,
    "start_time": "2022-05-13T12:32:51.740Z"
   },
   {
    "duration": 15,
    "start_time": "2022-05-13T12:32:51.746Z"
   },
   {
    "duration": 43,
    "start_time": "2022-05-13T12:32:51.764Z"
   },
   {
    "duration": 7,
    "start_time": "2022-05-13T12:32:51.811Z"
   },
   {
    "duration": 24,
    "start_time": "2022-05-13T12:32:51.820Z"
   },
   {
    "duration": 17,
    "start_time": "2022-05-13T12:32:51.847Z"
   },
   {
    "duration": 20,
    "start_time": "2022-05-13T12:32:51.866Z"
   },
   {
    "duration": 5,
    "start_time": "2022-05-13T12:32:51.889Z"
   },
   {
    "duration": 153,
    "start_time": "2022-05-13T12:32:51.896Z"
   },
   {
    "duration": 10,
    "start_time": "2022-05-13T12:32:52.051Z"
   },
   {
    "duration": 15,
    "start_time": "2022-05-13T12:32:52.063Z"
   },
   {
    "duration": 24,
    "start_time": "2022-05-13T12:32:52.079Z"
   },
   {
    "duration": 10,
    "start_time": "2022-05-13T12:32:52.109Z"
   },
   {
    "duration": 17,
    "start_time": "2022-05-13T12:32:52.121Z"
   },
   {
    "duration": 32,
    "start_time": "2022-05-13T12:32:52.139Z"
   },
   {
    "duration": 11,
    "start_time": "2022-05-13T12:32:52.173Z"
   },
   {
    "duration": 25,
    "start_time": "2022-05-13T12:32:52.187Z"
   },
   {
    "duration": 15,
    "start_time": "2022-05-13T12:32:52.216Z"
   },
   {
    "duration": 6,
    "start_time": "2022-05-13T12:32:52.233Z"
   },
   {
    "duration": 7,
    "start_time": "2022-05-13T12:32:52.240Z"
   },
   {
    "duration": 8,
    "start_time": "2022-05-13T12:32:52.248Z"
   },
   {
    "duration": 11,
    "start_time": "2022-05-13T12:32:52.257Z"
   },
   {
    "duration": 37,
    "start_time": "2022-05-13T12:32:52.269Z"
   },
   {
    "duration": 8,
    "start_time": "2022-05-13T12:32:52.309Z"
   },
   {
    "duration": 10,
    "start_time": "2022-05-13T12:32:52.320Z"
   },
   {
    "duration": 11,
    "start_time": "2022-05-13T12:32:52.332Z"
   },
   {
    "duration": 21,
    "start_time": "2022-05-13T12:32:52.345Z"
   },
   {
    "duration": 8,
    "start_time": "2022-05-13T12:32:52.373Z"
   },
   {
    "duration": 39,
    "start_time": "2022-05-13T12:32:52.383Z"
   },
   {
    "duration": 10,
    "start_time": "2022-05-13T12:32:52.424Z"
   }
  ],
  "kernelspec": {
   "display_name": "Python 3 (ipykernel)",
   "language": "python",
   "name": "python3"
  },
  "language_info": {
   "codemirror_mode": {
    "name": "ipython",
    "version": 3
   },
   "file_extension": ".py",
   "mimetype": "text/x-python",
   "name": "python",
   "nbconvert_exporter": "python",
   "pygments_lexer": "ipython3",
   "version": "3.9.5"
  },
  "toc": {
   "base_numbering": 1,
   "nav_menu": {},
   "number_sections": true,
   "sideBar": true,
   "skip_h1_title": true,
   "title_cell": "Table of Contents",
   "title_sidebar": "Contents",
   "toc_cell": false,
   "toc_position": {
    "height": "calc(100% - 180px)",
    "left": "10px",
    "top": "150px",
    "width": "203.594px"
   },
   "toc_section_display": true,
   "toc_window_display": true
  }
 },
 "nbformat": 4,
 "nbformat_minor": 5
}
